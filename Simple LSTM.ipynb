{
 "cells": [
  {
   "cell_type": "markdown",
   "metadata": {
    "id": "djl8VtwmApoz"
   },
   "source": [
    "**Notebook to model electricity price differences.**<br>"
   ]
  },
  {
   "cell_type": "markdown",
   "metadata": {
    "id": "sWwowFXE7gUo"
   },
   "source": [
    "Brief summary of the exercise:\n",
    "* Target: predict the price change of electricity from the Close price of one hour to the Close price of the next hour\n",
    "* Input: the elementwise difference between the hourly 'candels' of the electricity price; explanation follows.\n",
    "\n",
    "  Hourly candels refers to the Open, High, Low, Close prices and the total Volume traded within an hour; thus each hourly candel has five elements. Historically, one could reconstruct these candels for each consecutive hour. We refer to the length of history for which the candels are reconstructed as 'window_size'. Thus, for a window_size of 5, one has candels from 5 consecutive hours.\n",
    "  \n",
    "  Left to explain is the 'elementwise difference' remark. Out of the N window_size of history, we compute differences between the consecutive candels: Open in t minus Open in t-1, Low in t minus low in t-1, etc. Thus, from N candels we create N-1 differentiated candels.\n",
    "\n",
    "  In this exercise, the elementwise differentiated data for window_sizes of 5 and 15 are provided\n",
    "\n",
    "  The data is further enchanced by mostly encoded time-related information. These encode what day of the week the data correspond to, whether the day is a bank holiday or not, etc. A list will be given further below.\n",
    "\n",
    "* ML models are to be built to predict the Target from the Input data."
   ]
  },
  {
   "cell_type": "code",
   "execution_count": 1,
   "metadata": {
    "colab": {
     "base_uri": "https://localhost:8080/",
     "height": 600
    },
    "id": "_qRgVE-BOHV1",
    "outputId": "090d45ed-9b1c-4de1-cc6a-5277dbcf66a5"
   },
   "outputs": [
    {
     "output_type": "stream",
     "name": "stdout",
     "text": [
      "Predictor data:\n"
     ]
    },
    {
     "output_type": "display_data",
     "data": {
      "text/plain": "   total_hours  dlvry_weekend  dlvry_bank_holiday  dlvry_day_sin  \\\n0    10.001383            1.0                 0.0       0.201299   \n1    10.001383            1.0                 0.0       0.201299   \n2    10.001383            1.0                 0.0       0.201299   \n3    10.001383            1.0                 0.0       0.201299   \n4    10.001383            1.0                 0.0       0.201299   \n5     7.080482            0.0                 0.0       0.394356   \n6     7.080482            0.0                 0.0       0.394356   \n7     7.726036            0.0                 0.0       0.394356   \n8     7.726036            0.0                 0.0       0.394356   \n9     8.726036            0.0                 0.0       0.394356   \n\n   dlvry_day_cos  dlvry_weekday_sin  dlvry_weekday_cos  dlvry_hour_sin  \\\n0       0.979530          -0.781831            0.62349       -0.500000   \n1       0.979530          -0.781831            0.62349       -0.500000   \n2       0.979530          -0.781831            0.62349       -0.500000   \n3       0.979530          -0.781831            0.62349       -0.500000   \n4       0.979530          -0.781831            0.62349       -0.500000   \n5       0.918958           0.000000            1.00000        0.258819   \n6       0.918958           0.000000            1.00000        0.258819   \n7       0.918958           0.000000            1.00000        0.500000   \n8       0.918958           0.000000            1.00000        0.500000   \n9       0.918958           0.000000            1.00000        0.707107   \n\n   dlvry_hour_cos  lasttrade_weekend  lasttrade_bank_holiday  \\\n0        0.866025                1.0                     0.0   \n1        0.866025                1.0                     0.0   \n2        0.866025                1.0                     0.0   \n3        0.866025                1.0                     0.0   \n4        0.866025                1.0                     0.0   \n5        0.965926                1.0                     0.0   \n6        0.965926                1.0                     0.0   \n7        0.866025                1.0                     0.0   \n8        0.866025                1.0                     0.0   \n9        0.707107                1.0                     0.0   \n\n   lasttrade_day_sin  lasttrade_day_cos  lasttrade_weekday_sin  \\\n0           0.201299            0.97953              -0.781831   \n1           0.201299            0.97953              -0.781831   \n2           0.201299            0.97953              -0.781831   \n3           0.201299            0.97953              -0.781831   \n4           0.201299            0.97953              -0.781831   \n5           0.201299            0.97953              -0.781831   \n6           0.201299            0.97953              -0.781831   \n7           0.201299            0.97953              -0.781831   \n8           0.201299            0.97953              -0.781831   \n9           0.201299            0.97953              -0.781831   \n\n   lasttrade_weekday_cos  lasttrade_hour_sin  lasttrade_hour_cos     0     1  \\\n0                0.62349           -0.707107       -7.071068e-01  0.03  0.80   \n1                0.62349           -0.866025       -5.000000e-01 -9.51 -1.98   \n2                0.62349           -0.965926       -2.588190e-01  5.48  2.58   \n3                0.62349           -1.000000       -1.836970e-16  4.41 -0.21   \n4                0.62349           -0.965926        2.588190e-01 -0.31 -0.20   \n5                0.62349           -0.707107        7.071068e-01  0.00  2.99   \n6                0.62349           -0.500000        8.660254e-01  1.77 -1.20   \n7                0.62349           -0.500000        8.660254e-01 -0.21 -1.00   \n8                0.62349           -0.258819        9.659258e-01 -1.69  0.07   \n9                0.62349           -0.500000        8.660254e-01 -0.60 -1.21   \n\n      2     3      4      5     6     7     8     9     10     11    12    13  \\\n0 -1.17 -1.18   92.2  600.0 -9.51 -1.98 -8.31 -2.83  176.6  540.0  5.48  2.58   \n1 -8.31 -2.83  176.6  540.0  5.48  2.58  5.39  5.41  187.7  480.0  4.41 -0.21   \n2  5.39  5.41  187.7  480.0  4.41 -0.21  1.30 -1.31  -18.2  420.0 -0.31 -0.20   \n3  1.30 -1.31  -18.2  420.0 -0.31 -0.20 -0.66 -3.18  -78.3  360.0 -3.49 -2.59   \n4 -0.66 -3.18  -78.3  360.0 -3.49 -2.59 -7.97 -3.21  796.3  300.0 -2.90 -1.69   \n5  0.00  0.00   20.0  420.0  1.77 -1.20  0.00  0.50   40.6  360.0 -1.59 -1.09   \n6  0.00  0.50   40.6  360.0 -1.59 -1.09 -2.65 -2.21  555.0  300.0 -1.90  1.10   \n7  1.26  1.26   23.1  420.0 -1.69  0.07 -0.86 -0.36  328.4  360.0 -1.39  0.63   \n8 -0.86 -0.36  328.4  360.0 -1.39  0.63 -0.70  2.23  -86.4  300.0  3.02 -0.40   \n9 -3.48 -4.60   13.0  480.0 -4.08 -1.60 -3.20 -3.20  175.2  420.0 -0.01  5.01   \n\n     14    15     16     17    18    19    20    21     22     23  \n0  5.39  5.41  187.7  480.0  4.41 -0.21  1.30 -1.31  -18.2  420.0  \n1  1.30 -1.31  -18.2  420.0 -0.31 -0.20 -0.66 -3.18  -78.3  360.0  \n2 -0.66 -3.18  -78.3  360.0 -3.49 -2.59 -7.97 -3.21  796.3  300.0  \n3 -7.97 -3.21  796.3  300.0 -2.90 -1.69  2.44 -0.01 -355.6  240.0  \n4  2.44 -0.01 -355.6  240.0 -0.70 -1.11 -1.11 -2.69   53.3  180.0  \n5 -2.65 -2.21  555.0  300.0 -1.90  1.10  0.38  1.61 -332.7  240.0  \n6  0.38  1.61 -332.7  240.0  1.94 -1.58 -2.42 -2.26  421.6  180.0  \n7 -0.70  2.23  -86.4  300.0  3.02 -0.40 -1.93 -2.61  377.2  240.0  \n8 -1.93 -2.61  377.2  240.0 -2.61 -1.70  0.23  0.49  104.2  180.0  \n9  1.99  7.16  108.5  360.0  5.08 -2.93 -0.99 -3.26  121.3  300.0  ",
      "text/html": "<div>\n<style scoped>\n    .dataframe tbody tr th:only-of-type {\n        vertical-align: middle;\n    }\n\n    .dataframe tbody tr th {\n        vertical-align: top;\n    }\n\n    .dataframe thead th {\n        text-align: right;\n    }\n</style>\n<table border=\"1\" class=\"dataframe\">\n  <thead>\n    <tr style=\"text-align: right;\">\n      <th></th>\n      <th>total_hours</th>\n      <th>dlvry_weekend</th>\n      <th>dlvry_bank_holiday</th>\n      <th>dlvry_day_sin</th>\n      <th>dlvry_day_cos</th>\n      <th>dlvry_weekday_sin</th>\n      <th>dlvry_weekday_cos</th>\n      <th>dlvry_hour_sin</th>\n      <th>dlvry_hour_cos</th>\n      <th>lasttrade_weekend</th>\n      <th>lasttrade_bank_holiday</th>\n      <th>lasttrade_day_sin</th>\n      <th>lasttrade_day_cos</th>\n      <th>lasttrade_weekday_sin</th>\n      <th>lasttrade_weekday_cos</th>\n      <th>lasttrade_hour_sin</th>\n      <th>lasttrade_hour_cos</th>\n      <th>0</th>\n      <th>1</th>\n      <th>2</th>\n      <th>3</th>\n      <th>4</th>\n      <th>5</th>\n      <th>6</th>\n      <th>7</th>\n      <th>8</th>\n      <th>9</th>\n      <th>10</th>\n      <th>11</th>\n      <th>12</th>\n      <th>13</th>\n      <th>14</th>\n      <th>15</th>\n      <th>16</th>\n      <th>17</th>\n      <th>18</th>\n      <th>19</th>\n      <th>20</th>\n      <th>21</th>\n      <th>22</th>\n      <th>23</th>\n    </tr>\n  </thead>\n  <tbody>\n    <tr>\n      <th>0</th>\n      <td>10.001383</td>\n      <td>1.0</td>\n      <td>0.0</td>\n      <td>0.201299</td>\n      <td>0.979530</td>\n      <td>-0.781831</td>\n      <td>0.62349</td>\n      <td>-0.500000</td>\n      <td>0.866025</td>\n      <td>1.0</td>\n      <td>0.0</td>\n      <td>0.201299</td>\n      <td>0.97953</td>\n      <td>-0.781831</td>\n      <td>0.62349</td>\n      <td>-0.707107</td>\n      <td>-7.071068e-01</td>\n      <td>0.03</td>\n      <td>0.80</td>\n      <td>-1.17</td>\n      <td>-1.18</td>\n      <td>92.2</td>\n      <td>600.0</td>\n      <td>-9.51</td>\n      <td>-1.98</td>\n      <td>-8.31</td>\n      <td>-2.83</td>\n      <td>176.6</td>\n      <td>540.0</td>\n      <td>5.48</td>\n      <td>2.58</td>\n      <td>5.39</td>\n      <td>5.41</td>\n      <td>187.7</td>\n      <td>480.0</td>\n      <td>4.41</td>\n      <td>-0.21</td>\n      <td>1.30</td>\n      <td>-1.31</td>\n      <td>-18.2</td>\n      <td>420.0</td>\n    </tr>\n    <tr>\n      <th>1</th>\n      <td>10.001383</td>\n      <td>1.0</td>\n      <td>0.0</td>\n      <td>0.201299</td>\n      <td>0.979530</td>\n      <td>-0.781831</td>\n      <td>0.62349</td>\n      <td>-0.500000</td>\n      <td>0.866025</td>\n      <td>1.0</td>\n      <td>0.0</td>\n      <td>0.201299</td>\n      <td>0.97953</td>\n      <td>-0.781831</td>\n      <td>0.62349</td>\n      <td>-0.866025</td>\n      <td>-5.000000e-01</td>\n      <td>-9.51</td>\n      <td>-1.98</td>\n      <td>-8.31</td>\n      <td>-2.83</td>\n      <td>176.6</td>\n      <td>540.0</td>\n      <td>5.48</td>\n      <td>2.58</td>\n      <td>5.39</td>\n      <td>5.41</td>\n      <td>187.7</td>\n      <td>480.0</td>\n      <td>4.41</td>\n      <td>-0.21</td>\n      <td>1.30</td>\n      <td>-1.31</td>\n      <td>-18.2</td>\n      <td>420.0</td>\n      <td>-0.31</td>\n      <td>-0.20</td>\n      <td>-0.66</td>\n      <td>-3.18</td>\n      <td>-78.3</td>\n      <td>360.0</td>\n    </tr>\n    <tr>\n      <th>2</th>\n      <td>10.001383</td>\n      <td>1.0</td>\n      <td>0.0</td>\n      <td>0.201299</td>\n      <td>0.979530</td>\n      <td>-0.781831</td>\n      <td>0.62349</td>\n      <td>-0.500000</td>\n      <td>0.866025</td>\n      <td>1.0</td>\n      <td>0.0</td>\n      <td>0.201299</td>\n      <td>0.97953</td>\n      <td>-0.781831</td>\n      <td>0.62349</td>\n      <td>-0.965926</td>\n      <td>-2.588190e-01</td>\n      <td>5.48</td>\n      <td>2.58</td>\n      <td>5.39</td>\n      <td>5.41</td>\n      <td>187.7</td>\n      <td>480.0</td>\n      <td>4.41</td>\n      <td>-0.21</td>\n      <td>1.30</td>\n      <td>-1.31</td>\n      <td>-18.2</td>\n      <td>420.0</td>\n      <td>-0.31</td>\n      <td>-0.20</td>\n      <td>-0.66</td>\n      <td>-3.18</td>\n      <td>-78.3</td>\n      <td>360.0</td>\n      <td>-3.49</td>\n      <td>-2.59</td>\n      <td>-7.97</td>\n      <td>-3.21</td>\n      <td>796.3</td>\n      <td>300.0</td>\n    </tr>\n    <tr>\n      <th>3</th>\n      <td>10.001383</td>\n      <td>1.0</td>\n      <td>0.0</td>\n      <td>0.201299</td>\n      <td>0.979530</td>\n      <td>-0.781831</td>\n      <td>0.62349</td>\n      <td>-0.500000</td>\n      <td>0.866025</td>\n      <td>1.0</td>\n      <td>0.0</td>\n      <td>0.201299</td>\n      <td>0.97953</td>\n      <td>-0.781831</td>\n      <td>0.62349</td>\n      <td>-1.000000</td>\n      <td>-1.836970e-16</td>\n      <td>4.41</td>\n      <td>-0.21</td>\n      <td>1.30</td>\n      <td>-1.31</td>\n      <td>-18.2</td>\n      <td>420.0</td>\n      <td>-0.31</td>\n      <td>-0.20</td>\n      <td>-0.66</td>\n      <td>-3.18</td>\n      <td>-78.3</td>\n      <td>360.0</td>\n      <td>-3.49</td>\n      <td>-2.59</td>\n      <td>-7.97</td>\n      <td>-3.21</td>\n      <td>796.3</td>\n      <td>300.0</td>\n      <td>-2.90</td>\n      <td>-1.69</td>\n      <td>2.44</td>\n      <td>-0.01</td>\n      <td>-355.6</td>\n      <td>240.0</td>\n    </tr>\n    <tr>\n      <th>4</th>\n      <td>10.001383</td>\n      <td>1.0</td>\n      <td>0.0</td>\n      <td>0.201299</td>\n      <td>0.979530</td>\n      <td>-0.781831</td>\n      <td>0.62349</td>\n      <td>-0.500000</td>\n      <td>0.866025</td>\n      <td>1.0</td>\n      <td>0.0</td>\n      <td>0.201299</td>\n      <td>0.97953</td>\n      <td>-0.781831</td>\n      <td>0.62349</td>\n      <td>-0.965926</td>\n      <td>2.588190e-01</td>\n      <td>-0.31</td>\n      <td>-0.20</td>\n      <td>-0.66</td>\n      <td>-3.18</td>\n      <td>-78.3</td>\n      <td>360.0</td>\n      <td>-3.49</td>\n      <td>-2.59</td>\n      <td>-7.97</td>\n      <td>-3.21</td>\n      <td>796.3</td>\n      <td>300.0</td>\n      <td>-2.90</td>\n      <td>-1.69</td>\n      <td>2.44</td>\n      <td>-0.01</td>\n      <td>-355.6</td>\n      <td>240.0</td>\n      <td>-0.70</td>\n      <td>-1.11</td>\n      <td>-1.11</td>\n      <td>-2.69</td>\n      <td>53.3</td>\n      <td>180.0</td>\n    </tr>\n    <tr>\n      <th>5</th>\n      <td>7.080482</td>\n      <td>0.0</td>\n      <td>0.0</td>\n      <td>0.394356</td>\n      <td>0.918958</td>\n      <td>0.000000</td>\n      <td>1.00000</td>\n      <td>0.258819</td>\n      <td>0.965926</td>\n      <td>1.0</td>\n      <td>0.0</td>\n      <td>0.201299</td>\n      <td>0.97953</td>\n      <td>-0.781831</td>\n      <td>0.62349</td>\n      <td>-0.707107</td>\n      <td>7.071068e-01</td>\n      <td>0.00</td>\n      <td>2.99</td>\n      <td>0.00</td>\n      <td>0.00</td>\n      <td>20.0</td>\n      <td>420.0</td>\n      <td>1.77</td>\n      <td>-1.20</td>\n      <td>0.00</td>\n      <td>0.50</td>\n      <td>40.6</td>\n      <td>360.0</td>\n      <td>-1.59</td>\n      <td>-1.09</td>\n      <td>-2.65</td>\n      <td>-2.21</td>\n      <td>555.0</td>\n      <td>300.0</td>\n      <td>-1.90</td>\n      <td>1.10</td>\n      <td>0.38</td>\n      <td>1.61</td>\n      <td>-332.7</td>\n      <td>240.0</td>\n    </tr>\n    <tr>\n      <th>6</th>\n      <td>7.080482</td>\n      <td>0.0</td>\n      <td>0.0</td>\n      <td>0.394356</td>\n      <td>0.918958</td>\n      <td>0.000000</td>\n      <td>1.00000</td>\n      <td>0.258819</td>\n      <td>0.965926</td>\n      <td>1.0</td>\n      <td>0.0</td>\n      <td>0.201299</td>\n      <td>0.97953</td>\n      <td>-0.781831</td>\n      <td>0.62349</td>\n      <td>-0.500000</td>\n      <td>8.660254e-01</td>\n      <td>1.77</td>\n      <td>-1.20</td>\n      <td>0.00</td>\n      <td>0.50</td>\n      <td>40.6</td>\n      <td>360.0</td>\n      <td>-1.59</td>\n      <td>-1.09</td>\n      <td>-2.65</td>\n      <td>-2.21</td>\n      <td>555.0</td>\n      <td>300.0</td>\n      <td>-1.90</td>\n      <td>1.10</td>\n      <td>0.38</td>\n      <td>1.61</td>\n      <td>-332.7</td>\n      <td>240.0</td>\n      <td>1.94</td>\n      <td>-1.58</td>\n      <td>-2.42</td>\n      <td>-2.26</td>\n      <td>421.6</td>\n      <td>180.0</td>\n    </tr>\n    <tr>\n      <th>7</th>\n      <td>7.726036</td>\n      <td>0.0</td>\n      <td>0.0</td>\n      <td>0.394356</td>\n      <td>0.918958</td>\n      <td>0.000000</td>\n      <td>1.00000</td>\n      <td>0.500000</td>\n      <td>0.866025</td>\n      <td>1.0</td>\n      <td>0.0</td>\n      <td>0.201299</td>\n      <td>0.97953</td>\n      <td>-0.781831</td>\n      <td>0.62349</td>\n      <td>-0.500000</td>\n      <td>8.660254e-01</td>\n      <td>-0.21</td>\n      <td>-1.00</td>\n      <td>1.26</td>\n      <td>1.26</td>\n      <td>23.1</td>\n      <td>420.0</td>\n      <td>-1.69</td>\n      <td>0.07</td>\n      <td>-0.86</td>\n      <td>-0.36</td>\n      <td>328.4</td>\n      <td>360.0</td>\n      <td>-1.39</td>\n      <td>0.63</td>\n      <td>-0.70</td>\n      <td>2.23</td>\n      <td>-86.4</td>\n      <td>300.0</td>\n      <td>3.02</td>\n      <td>-0.40</td>\n      <td>-1.93</td>\n      <td>-2.61</td>\n      <td>377.2</td>\n      <td>240.0</td>\n    </tr>\n    <tr>\n      <th>8</th>\n      <td>7.726036</td>\n      <td>0.0</td>\n      <td>0.0</td>\n      <td>0.394356</td>\n      <td>0.918958</td>\n      <td>0.000000</td>\n      <td>1.00000</td>\n      <td>0.500000</td>\n      <td>0.866025</td>\n      <td>1.0</td>\n      <td>0.0</td>\n      <td>0.201299</td>\n      <td>0.97953</td>\n      <td>-0.781831</td>\n      <td>0.62349</td>\n      <td>-0.258819</td>\n      <td>9.659258e-01</td>\n      <td>-1.69</td>\n      <td>0.07</td>\n      <td>-0.86</td>\n      <td>-0.36</td>\n      <td>328.4</td>\n      <td>360.0</td>\n      <td>-1.39</td>\n      <td>0.63</td>\n      <td>-0.70</td>\n      <td>2.23</td>\n      <td>-86.4</td>\n      <td>300.0</td>\n      <td>3.02</td>\n      <td>-0.40</td>\n      <td>-1.93</td>\n      <td>-2.61</td>\n      <td>377.2</td>\n      <td>240.0</td>\n      <td>-2.61</td>\n      <td>-1.70</td>\n      <td>0.23</td>\n      <td>0.49</td>\n      <td>104.2</td>\n      <td>180.0</td>\n    </tr>\n    <tr>\n      <th>9</th>\n      <td>8.726036</td>\n      <td>0.0</td>\n      <td>0.0</td>\n      <td>0.394356</td>\n      <td>0.918958</td>\n      <td>0.000000</td>\n      <td>1.00000</td>\n      <td>0.707107</td>\n      <td>0.707107</td>\n      <td>1.0</td>\n      <td>0.0</td>\n      <td>0.201299</td>\n      <td>0.97953</td>\n      <td>-0.781831</td>\n      <td>0.62349</td>\n      <td>-0.500000</td>\n      <td>8.660254e-01</td>\n      <td>-0.60</td>\n      <td>-1.21</td>\n      <td>-3.48</td>\n      <td>-4.60</td>\n      <td>13.0</td>\n      <td>480.0</td>\n      <td>-4.08</td>\n      <td>-1.60</td>\n      <td>-3.20</td>\n      <td>-3.20</td>\n      <td>175.2</td>\n      <td>420.0</td>\n      <td>-0.01</td>\n      <td>5.01</td>\n      <td>1.99</td>\n      <td>7.16</td>\n      <td>108.5</td>\n      <td>360.0</td>\n      <td>5.08</td>\n      <td>-2.93</td>\n      <td>-0.99</td>\n      <td>-3.26</td>\n      <td>121.3</td>\n      <td>300.0</td>\n    </tr>\n  </tbody>\n</table>\n</div>"
     },
     "metadata": {}
    },
    {
     "output_type": "stream",
     "name": "stdout",
     "text": [
      "Target data:\n"
     ]
    },
    {
     "output_type": "display_data",
     "data": {
      "text/plain": "      y\n0 -3.18\n1 -3.21\n2 -0.01\n3 -2.69\n4  2.41",
      "text/html": "<div>\n<style scoped>\n    .dataframe tbody tr th:only-of-type {\n        vertical-align: middle;\n    }\n\n    .dataframe tbody tr th {\n        vertical-align: top;\n    }\n\n    .dataframe thead th {\n        text-align: right;\n    }\n</style>\n<table border=\"1\" class=\"dataframe\">\n  <thead>\n    <tr style=\"text-align: right;\">\n      <th></th>\n      <th>y</th>\n    </tr>\n  </thead>\n  <tbody>\n    <tr>\n      <th>0</th>\n      <td>-3.18</td>\n    </tr>\n    <tr>\n      <th>1</th>\n      <td>-3.21</td>\n    </tr>\n    <tr>\n      <th>2</th>\n      <td>-0.01</td>\n    </tr>\n    <tr>\n      <th>3</th>\n      <td>-2.69</td>\n    </tr>\n    <tr>\n      <th>4</th>\n      <td>2.41</td>\n    </tr>\n  </tbody>\n</table>\n</div>"
     },
     "metadata": {}
    }
   ],
   "source": [
    "# Load the data using the pandas library\n",
    "# For the below demonstration, only the\n",
    "#    * window_size of 5 files\n",
    "#    * and only the training sets will be loaded here\n",
    "# The validation and test sets can be similarly loaded.\n",
    "# One can also use a similar kind of method for loading as was used for the download\n",
    "# This can avoid the many lines of manual specification of the files. Manual is also fine, btw.\n",
    "\n",
    "import pandas as pd\n",
    "pd.set_option('display.max_columns', None)\n",
    "\n",
    "X_train_5 = pd.read_csv('X_train_window_size_5_time_encoding_True.csv')\n",
    "y_train_5 = pd.read_csv('y_train_window_size_5_time_encoding_True.csv')\n",
    "\n",
    "# Display the first 5 rows of the predictor and the target data; for a description of the content, \n",
    "# see the text below this cell\n",
    "print(\"Predictor data:\")\n",
    "display(X_train_5.head(10))\n",
    "print(\"Target data:\")\n",
    "display(y_train_5.head())"
   ]
  },
  {
   "cell_type": "code",
   "execution_count": 2,
   "metadata": {},
   "outputs": [],
   "source": [
    "X_test_5 = pd.read_csv('X_test_window_size_5_time_encoding_True.csv')\n",
    "y_test_5 = pd.read_csv('y_test_window_size_5_time_encoding_True.csv')\n",
    "\n",
    "X_valid_5 = pd.read_csv('X_valid_window_size_5_time_encoding_True.csv')\n",
    "y_valid_5 = pd.read_csv('y_valid_window_size_5_time_encoding_True.csv')"
   ]
  },
  {
   "cell_type": "code",
   "execution_count": 3,
   "metadata": {},
   "outputs": [],
   "source": [
    "from sklearn.metrics import mean_squared_error \n",
    "import numpy as np\n",
    "\n",
    "def evaluate_model(model, X_valid, y_valid_true):\n",
    "    predictions = model.predict(X_valid)\n",
    "    mse = mean_squared_error(y_valid_true, predictions)\n",
    "    print(\"Mean squared error on valid:\",mse)\n",
    "    return mse\n",
    "\n",
    "# Modified from assignment 6\n",
    "def evaluate_model_2(model, X_valid, y_valid_true):\n",
    "    predictions = model.predict(X_valid)\n",
    "    mse = mean_squared_error(y_valid_true, predictions)\n",
    "    print(\"Mean squared error on valid:\",mse)\n",
    "    normalized_mse = normalizers[\"y\"].inverse_transform(np.array([mse]).reshape(1, -1))[0][0]\n",
    "    print(\"Mean squared error on valid inverse transformed from normalization:\",normalized_mse)\n",
    "    return normalized_mse"
   ]
  },
  {
   "cell_type": "code",
   "execution_count": 4,
   "metadata": {},
   "outputs": [
    {
     "output_type": "execute_result",
     "data": {
      "text/plain": [
       "       total_hours  dlvry_weekend  dlvry_bank_holiday  dlvry_day_sin  \\\n",
       "0        10.001383            1.0                 0.0       0.201299   \n",
       "1        10.001383            1.0                 0.0       0.201299   \n",
       "2        10.001383            1.0                 0.0       0.201299   \n",
       "3        10.001383            1.0                 0.0       0.201299   \n",
       "4        10.001383            1.0                 0.0       0.201299   \n",
       "...            ...            ...                 ...            ...   \n",
       "91507    17.591981            1.0                 0.0      -0.743145   \n",
       "91508    17.591981            1.0                 0.0      -0.743145   \n",
       "91509    17.591981            1.0                 0.0      -0.743145   \n",
       "91510    17.591981            1.0                 0.0      -0.743145   \n",
       "91511    17.591981            1.0                 0.0      -0.743145   \n",
       "\n",
       "       dlvry_day_cos  dlvry_weekday_sin  dlvry_weekday_cos  dlvry_hour_sin  \\\n",
       "0           0.979530          -0.781831           0.623490       -0.500000   \n",
       "1           0.979530          -0.781831           0.623490       -0.500000   \n",
       "2           0.979530          -0.781831           0.623490       -0.500000   \n",
       "3           0.979530          -0.781831           0.623490       -0.500000   \n",
       "4           0.979530          -0.781831           0.623490       -0.500000   \n",
       "...              ...                ...                ...             ...   \n",
       "91507      -0.669131          -0.974928          -0.222521        0.965926   \n",
       "91508      -0.669131          -0.974928          -0.222521        0.965926   \n",
       "91509      -0.669131          -0.974928          -0.222521        0.965926   \n",
       "91510      -0.669131          -0.974928          -0.222521        0.965926   \n",
       "91511      -0.669131          -0.974928          -0.222521        0.965926   \n",
       "\n",
       "       dlvry_hour_cos  lasttrade_weekend  lasttrade_bank_holiday  \\\n",
       "0            0.866025                1.0                     0.0   \n",
       "1            0.866025                1.0                     0.0   \n",
       "2            0.866025                1.0                     0.0   \n",
       "3            0.866025                1.0                     0.0   \n",
       "4            0.866025                1.0                     0.0   \n",
       "...               ...                ...                     ...   \n",
       "91507       -0.258819                0.0                     0.0   \n",
       "91508       -0.258819                1.0                     0.0   \n",
       "91509       -0.258819                1.0                     0.0   \n",
       "91510       -0.258819                1.0                     0.0   \n",
       "91511       -0.258819                1.0                     0.0   \n",
       "\n",
       "       lasttrade_day_sin  lasttrade_day_cos  lasttrade_weekday_sin  \\\n",
       "0               0.201299           0.979530              -0.781831   \n",
       "1               0.201299           0.979530              -0.781831   \n",
       "2               0.201299           0.979530              -0.781831   \n",
       "3               0.201299           0.979530              -0.781831   \n",
       "4               0.201299           0.979530              -0.781831   \n",
       "...                  ...                ...                    ...   \n",
       "91507          -0.587785          -0.809017              -0.433884   \n",
       "91508          -0.743145          -0.669131              -0.974928   \n",
       "91509          -0.743145          -0.669131              -0.974928   \n",
       "91510          -0.743145          -0.669131              -0.974928   \n",
       "91511          -0.743145          -0.669131              -0.974928   \n",
       "\n",
       "       lasttrade_weekday_cos  lasttrade_hour_sin  lasttrade_hour_cos     0  \\\n",
       "0                   0.623490           -0.707107       -7.071068e-01  0.03   \n",
       "1                   0.623490           -0.866025       -5.000000e-01 -9.51   \n",
       "2                   0.623490           -0.965926       -2.588190e-01  5.48   \n",
       "3                   0.623490           -1.000000       -1.836970e-16  4.41   \n",
       "4                   0.623490           -0.965926        2.588190e-01 -0.31   \n",
       "...                      ...                 ...                 ...   ...   \n",
       "91507              -0.900969           -0.258819        9.659258e-01 -1.27   \n",
       "91508              -0.222521            0.000000        1.000000e+00  0.11   \n",
       "91509              -0.222521            0.258819        9.659258e-01  0.59   \n",
       "91510              -0.222521            0.500000        8.660254e-01  2.10   \n",
       "91511              -0.222521            0.707107        7.071068e-01  6.38   \n",
       "\n",
       "          1     2     3      4      5     6     7     8     9     10     11  \\\n",
       "0      0.80 -1.17 -1.18   92.2  600.0 -9.51 -1.98 -8.31 -2.83  176.6  540.0   \n",
       "1     -1.98 -8.31 -2.83  176.6  540.0  5.48  2.58  5.39  5.41  187.7  480.0   \n",
       "2      2.58  5.39  5.41  187.7  480.0  4.41 -0.21  1.30 -1.31  -18.2  420.0   \n",
       "3     -0.21  1.30 -1.31  -18.2  420.0 -0.31 -0.20 -0.66 -3.18  -78.3  360.0   \n",
       "4     -0.20 -0.66 -3.18  -78.3  360.0 -3.49 -2.59 -7.97 -3.21  796.3  300.0   \n",
       "...     ...   ...   ...    ...    ...   ...   ...   ...   ...    ...    ...   \n",
       "91507 -2.17 -0.91  1.04    0.9  660.0  0.11  1.43  2.18  0.70   77.8  600.0   \n",
       "91508  1.43  2.18  0.70   77.8  600.0  0.59  0.55  0.42  0.85   19.8  540.0   \n",
       "91509  0.55  0.42  0.85   19.8  540.0  2.10  5.12  2.20  6.74   -3.2  480.0   \n",
       "91510  5.12  2.20  6.74   -3.2  480.0  6.38  5.64  6.58  4.05  233.7  420.0   \n",
       "91511  5.64  6.58  4.05  233.7  420.0  2.76  1.24  1.88 -0.41 -170.3  360.0   \n",
       "\n",
       "         12    13    14    15     16     17    18    19    20    21     22  \\\n",
       "0      5.48  2.58  5.39  5.41  187.7  480.0  4.41 -0.21  1.30 -1.31  -18.2   \n",
       "1      4.41 -0.21  1.30 -1.31  -18.2  420.0 -0.31 -0.20 -0.66 -3.18  -78.3   \n",
       "2     -0.31 -0.20 -0.66 -3.18  -78.3  360.0 -3.49 -2.59 -7.97 -3.21  796.3   \n",
       "3     -3.49 -2.59 -7.97 -3.21  796.3  300.0 -2.90 -1.69  2.44 -0.01 -355.6   \n",
       "4     -2.90 -1.69  2.44 -0.01 -355.6  240.0 -0.70 -1.11 -1.11 -2.69   53.3   \n",
       "...     ...   ...   ...   ...    ...    ...   ...   ...   ...   ...    ...   \n",
       "91507  0.59  0.55  0.42  0.85   19.8  540.0  2.10  5.12  2.20  6.74   -3.2   \n",
       "91508  2.10  5.12  2.20  6.74   -3.2  480.0  6.38  5.64  6.58  4.05  233.7   \n",
       "91509  6.38  5.64  6.58  4.05  233.7  420.0  2.76  1.24  1.88 -0.41 -170.3   \n",
       "91510  2.76  1.24  1.88 -0.41 -170.3  360.0 -0.83 -1.00 -0.25 -0.13  -81.8   \n",
       "91511 -0.83 -1.00 -0.25 -0.13  -81.8  300.0  2.29 -1.41  0.00 -0.80  187.0   \n",
       "\n",
       "          23  \n",
       "0      420.0  \n",
       "1      360.0  \n",
       "2      300.0  \n",
       "3      240.0  \n",
       "4      180.0  \n",
       "...      ...  \n",
       "91507  480.0  \n",
       "91508  420.0  \n",
       "91509  360.0  \n",
       "91510  300.0  \n",
       "91511  240.0  \n",
       "\n",
       "[91512 rows x 41 columns]"
      ],
      "text/html": "<div>\n<style scoped>\n    .dataframe tbody tr th:only-of-type {\n        vertical-align: middle;\n    }\n\n    .dataframe tbody tr th {\n        vertical-align: top;\n    }\n\n    .dataframe thead th {\n        text-align: right;\n    }\n</style>\n<table border=\"1\" class=\"dataframe\">\n  <thead>\n    <tr style=\"text-align: right;\">\n      <th></th>\n      <th>total_hours</th>\n      <th>dlvry_weekend</th>\n      <th>dlvry_bank_holiday</th>\n      <th>dlvry_day_sin</th>\n      <th>dlvry_day_cos</th>\n      <th>dlvry_weekday_sin</th>\n      <th>dlvry_weekday_cos</th>\n      <th>dlvry_hour_sin</th>\n      <th>dlvry_hour_cos</th>\n      <th>lasttrade_weekend</th>\n      <th>lasttrade_bank_holiday</th>\n      <th>lasttrade_day_sin</th>\n      <th>lasttrade_day_cos</th>\n      <th>lasttrade_weekday_sin</th>\n      <th>lasttrade_weekday_cos</th>\n      <th>lasttrade_hour_sin</th>\n      <th>lasttrade_hour_cos</th>\n      <th>0</th>\n      <th>1</th>\n      <th>2</th>\n      <th>3</th>\n      <th>4</th>\n      <th>5</th>\n      <th>6</th>\n      <th>7</th>\n      <th>8</th>\n      <th>9</th>\n      <th>10</th>\n      <th>11</th>\n      <th>12</th>\n      <th>13</th>\n      <th>14</th>\n      <th>15</th>\n      <th>16</th>\n      <th>17</th>\n      <th>18</th>\n      <th>19</th>\n      <th>20</th>\n      <th>21</th>\n      <th>22</th>\n      <th>23</th>\n    </tr>\n  </thead>\n  <tbody>\n    <tr>\n      <th>0</th>\n      <td>10.001383</td>\n      <td>1.0</td>\n      <td>0.0</td>\n      <td>0.201299</td>\n      <td>0.979530</td>\n      <td>-0.781831</td>\n      <td>0.623490</td>\n      <td>-0.500000</td>\n      <td>0.866025</td>\n      <td>1.0</td>\n      <td>0.0</td>\n      <td>0.201299</td>\n      <td>0.979530</td>\n      <td>-0.781831</td>\n      <td>0.623490</td>\n      <td>-0.707107</td>\n      <td>-7.071068e-01</td>\n      <td>0.03</td>\n      <td>0.80</td>\n      <td>-1.17</td>\n      <td>-1.18</td>\n      <td>92.2</td>\n      <td>600.0</td>\n      <td>-9.51</td>\n      <td>-1.98</td>\n      <td>-8.31</td>\n      <td>-2.83</td>\n      <td>176.6</td>\n      <td>540.0</td>\n      <td>5.48</td>\n      <td>2.58</td>\n      <td>5.39</td>\n      <td>5.41</td>\n      <td>187.7</td>\n      <td>480.0</td>\n      <td>4.41</td>\n      <td>-0.21</td>\n      <td>1.30</td>\n      <td>-1.31</td>\n      <td>-18.2</td>\n      <td>420.0</td>\n    </tr>\n    <tr>\n      <th>1</th>\n      <td>10.001383</td>\n      <td>1.0</td>\n      <td>0.0</td>\n      <td>0.201299</td>\n      <td>0.979530</td>\n      <td>-0.781831</td>\n      <td>0.623490</td>\n      <td>-0.500000</td>\n      <td>0.866025</td>\n      <td>1.0</td>\n      <td>0.0</td>\n      <td>0.201299</td>\n      <td>0.979530</td>\n      <td>-0.781831</td>\n      <td>0.623490</td>\n      <td>-0.866025</td>\n      <td>-5.000000e-01</td>\n      <td>-9.51</td>\n      <td>-1.98</td>\n      <td>-8.31</td>\n      <td>-2.83</td>\n      <td>176.6</td>\n      <td>540.0</td>\n      <td>5.48</td>\n      <td>2.58</td>\n      <td>5.39</td>\n      <td>5.41</td>\n      <td>187.7</td>\n      <td>480.0</td>\n      <td>4.41</td>\n      <td>-0.21</td>\n      <td>1.30</td>\n      <td>-1.31</td>\n      <td>-18.2</td>\n      <td>420.0</td>\n      <td>-0.31</td>\n      <td>-0.20</td>\n      <td>-0.66</td>\n      <td>-3.18</td>\n      <td>-78.3</td>\n      <td>360.0</td>\n    </tr>\n    <tr>\n      <th>2</th>\n      <td>10.001383</td>\n      <td>1.0</td>\n      <td>0.0</td>\n      <td>0.201299</td>\n      <td>0.979530</td>\n      <td>-0.781831</td>\n      <td>0.623490</td>\n      <td>-0.500000</td>\n      <td>0.866025</td>\n      <td>1.0</td>\n      <td>0.0</td>\n      <td>0.201299</td>\n      <td>0.979530</td>\n      <td>-0.781831</td>\n      <td>0.623490</td>\n      <td>-0.965926</td>\n      <td>-2.588190e-01</td>\n      <td>5.48</td>\n      <td>2.58</td>\n      <td>5.39</td>\n      <td>5.41</td>\n      <td>187.7</td>\n      <td>480.0</td>\n      <td>4.41</td>\n      <td>-0.21</td>\n      <td>1.30</td>\n      <td>-1.31</td>\n      <td>-18.2</td>\n      <td>420.0</td>\n      <td>-0.31</td>\n      <td>-0.20</td>\n      <td>-0.66</td>\n      <td>-3.18</td>\n      <td>-78.3</td>\n      <td>360.0</td>\n      <td>-3.49</td>\n      <td>-2.59</td>\n      <td>-7.97</td>\n      <td>-3.21</td>\n      <td>796.3</td>\n      <td>300.0</td>\n    </tr>\n    <tr>\n      <th>3</th>\n      <td>10.001383</td>\n      <td>1.0</td>\n      <td>0.0</td>\n      <td>0.201299</td>\n      <td>0.979530</td>\n      <td>-0.781831</td>\n      <td>0.623490</td>\n      <td>-0.500000</td>\n      <td>0.866025</td>\n      <td>1.0</td>\n      <td>0.0</td>\n      <td>0.201299</td>\n      <td>0.979530</td>\n      <td>-0.781831</td>\n      <td>0.623490</td>\n      <td>-1.000000</td>\n      <td>-1.836970e-16</td>\n      <td>4.41</td>\n      <td>-0.21</td>\n      <td>1.30</td>\n      <td>-1.31</td>\n      <td>-18.2</td>\n      <td>420.0</td>\n      <td>-0.31</td>\n      <td>-0.20</td>\n      <td>-0.66</td>\n      <td>-3.18</td>\n      <td>-78.3</td>\n      <td>360.0</td>\n      <td>-3.49</td>\n      <td>-2.59</td>\n      <td>-7.97</td>\n      <td>-3.21</td>\n      <td>796.3</td>\n      <td>300.0</td>\n      <td>-2.90</td>\n      <td>-1.69</td>\n      <td>2.44</td>\n      <td>-0.01</td>\n      <td>-355.6</td>\n      <td>240.0</td>\n    </tr>\n    <tr>\n      <th>4</th>\n      <td>10.001383</td>\n      <td>1.0</td>\n      <td>0.0</td>\n      <td>0.201299</td>\n      <td>0.979530</td>\n      <td>-0.781831</td>\n      <td>0.623490</td>\n      <td>-0.500000</td>\n      <td>0.866025</td>\n      <td>1.0</td>\n      <td>0.0</td>\n      <td>0.201299</td>\n      <td>0.979530</td>\n      <td>-0.781831</td>\n      <td>0.623490</td>\n      <td>-0.965926</td>\n      <td>2.588190e-01</td>\n      <td>-0.31</td>\n      <td>-0.20</td>\n      <td>-0.66</td>\n      <td>-3.18</td>\n      <td>-78.3</td>\n      <td>360.0</td>\n      <td>-3.49</td>\n      <td>-2.59</td>\n      <td>-7.97</td>\n      <td>-3.21</td>\n      <td>796.3</td>\n      <td>300.0</td>\n      <td>-2.90</td>\n      <td>-1.69</td>\n      <td>2.44</td>\n      <td>-0.01</td>\n      <td>-355.6</td>\n      <td>240.0</td>\n      <td>-0.70</td>\n      <td>-1.11</td>\n      <td>-1.11</td>\n      <td>-2.69</td>\n      <td>53.3</td>\n      <td>180.0</td>\n    </tr>\n    <tr>\n      <th>...</th>\n      <td>...</td>\n      <td>...</td>\n      <td>...</td>\n      <td>...</td>\n      <td>...</td>\n      <td>...</td>\n      <td>...</td>\n      <td>...</td>\n      <td>...</td>\n      <td>...</td>\n      <td>...</td>\n      <td>...</td>\n      <td>...</td>\n      <td>...</td>\n      <td>...</td>\n      <td>...</td>\n      <td>...</td>\n      <td>...</td>\n      <td>...</td>\n      <td>...</td>\n      <td>...</td>\n      <td>...</td>\n      <td>...</td>\n      <td>...</td>\n      <td>...</td>\n      <td>...</td>\n      <td>...</td>\n      <td>...</td>\n      <td>...</td>\n      <td>...</td>\n      <td>...</td>\n      <td>...</td>\n      <td>...</td>\n      <td>...</td>\n      <td>...</td>\n      <td>...</td>\n      <td>...</td>\n      <td>...</td>\n      <td>...</td>\n      <td>...</td>\n      <td>...</td>\n    </tr>\n    <tr>\n      <th>91507</th>\n      <td>17.591981</td>\n      <td>1.0</td>\n      <td>0.0</td>\n      <td>-0.743145</td>\n      <td>-0.669131</td>\n      <td>-0.974928</td>\n      <td>-0.222521</td>\n      <td>0.965926</td>\n      <td>-0.258819</td>\n      <td>0.0</td>\n      <td>0.0</td>\n      <td>-0.587785</td>\n      <td>-0.809017</td>\n      <td>-0.433884</td>\n      <td>-0.900969</td>\n      <td>-0.258819</td>\n      <td>9.659258e-01</td>\n      <td>-1.27</td>\n      <td>-2.17</td>\n      <td>-0.91</td>\n      <td>1.04</td>\n      <td>0.9</td>\n      <td>660.0</td>\n      <td>0.11</td>\n      <td>1.43</td>\n      <td>2.18</td>\n      <td>0.70</td>\n      <td>77.8</td>\n      <td>600.0</td>\n      <td>0.59</td>\n      <td>0.55</td>\n      <td>0.42</td>\n      <td>0.85</td>\n      <td>19.8</td>\n      <td>540.0</td>\n      <td>2.10</td>\n      <td>5.12</td>\n      <td>2.20</td>\n      <td>6.74</td>\n      <td>-3.2</td>\n      <td>480.0</td>\n    </tr>\n    <tr>\n      <th>91508</th>\n      <td>17.591981</td>\n      <td>1.0</td>\n      <td>0.0</td>\n      <td>-0.743145</td>\n      <td>-0.669131</td>\n      <td>-0.974928</td>\n      <td>-0.222521</td>\n      <td>0.965926</td>\n      <td>-0.258819</td>\n      <td>1.0</td>\n      <td>0.0</td>\n      <td>-0.743145</td>\n      <td>-0.669131</td>\n      <td>-0.974928</td>\n      <td>-0.222521</td>\n      <td>0.000000</td>\n      <td>1.000000e+00</td>\n      <td>0.11</td>\n      <td>1.43</td>\n      <td>2.18</td>\n      <td>0.70</td>\n      <td>77.8</td>\n      <td>600.0</td>\n      <td>0.59</td>\n      <td>0.55</td>\n      <td>0.42</td>\n      <td>0.85</td>\n      <td>19.8</td>\n      <td>540.0</td>\n      <td>2.10</td>\n      <td>5.12</td>\n      <td>2.20</td>\n      <td>6.74</td>\n      <td>-3.2</td>\n      <td>480.0</td>\n      <td>6.38</td>\n      <td>5.64</td>\n      <td>6.58</td>\n      <td>4.05</td>\n      <td>233.7</td>\n      <td>420.0</td>\n    </tr>\n    <tr>\n      <th>91509</th>\n      <td>17.591981</td>\n      <td>1.0</td>\n      <td>0.0</td>\n      <td>-0.743145</td>\n      <td>-0.669131</td>\n      <td>-0.974928</td>\n      <td>-0.222521</td>\n      <td>0.965926</td>\n      <td>-0.258819</td>\n      <td>1.0</td>\n      <td>0.0</td>\n      <td>-0.743145</td>\n      <td>-0.669131</td>\n      <td>-0.974928</td>\n      <td>-0.222521</td>\n      <td>0.258819</td>\n      <td>9.659258e-01</td>\n      <td>0.59</td>\n      <td>0.55</td>\n      <td>0.42</td>\n      <td>0.85</td>\n      <td>19.8</td>\n      <td>540.0</td>\n      <td>2.10</td>\n      <td>5.12</td>\n      <td>2.20</td>\n      <td>6.74</td>\n      <td>-3.2</td>\n      <td>480.0</td>\n      <td>6.38</td>\n      <td>5.64</td>\n      <td>6.58</td>\n      <td>4.05</td>\n      <td>233.7</td>\n      <td>420.0</td>\n      <td>2.76</td>\n      <td>1.24</td>\n      <td>1.88</td>\n      <td>-0.41</td>\n      <td>-170.3</td>\n      <td>360.0</td>\n    </tr>\n    <tr>\n      <th>91510</th>\n      <td>17.591981</td>\n      <td>1.0</td>\n      <td>0.0</td>\n      <td>-0.743145</td>\n      <td>-0.669131</td>\n      <td>-0.974928</td>\n      <td>-0.222521</td>\n      <td>0.965926</td>\n      <td>-0.258819</td>\n      <td>1.0</td>\n      <td>0.0</td>\n      <td>-0.743145</td>\n      <td>-0.669131</td>\n      <td>-0.974928</td>\n      <td>-0.222521</td>\n      <td>0.500000</td>\n      <td>8.660254e-01</td>\n      <td>2.10</td>\n      <td>5.12</td>\n      <td>2.20</td>\n      <td>6.74</td>\n      <td>-3.2</td>\n      <td>480.0</td>\n      <td>6.38</td>\n      <td>5.64</td>\n      <td>6.58</td>\n      <td>4.05</td>\n      <td>233.7</td>\n      <td>420.0</td>\n      <td>2.76</td>\n      <td>1.24</td>\n      <td>1.88</td>\n      <td>-0.41</td>\n      <td>-170.3</td>\n      <td>360.0</td>\n      <td>-0.83</td>\n      <td>-1.00</td>\n      <td>-0.25</td>\n      <td>-0.13</td>\n      <td>-81.8</td>\n      <td>300.0</td>\n    </tr>\n    <tr>\n      <th>91511</th>\n      <td>17.591981</td>\n      <td>1.0</td>\n      <td>0.0</td>\n      <td>-0.743145</td>\n      <td>-0.669131</td>\n      <td>-0.974928</td>\n      <td>-0.222521</td>\n      <td>0.965926</td>\n      <td>-0.258819</td>\n      <td>1.0</td>\n      <td>0.0</td>\n      <td>-0.743145</td>\n      <td>-0.669131</td>\n      <td>-0.974928</td>\n      <td>-0.222521</td>\n      <td>0.707107</td>\n      <td>7.071068e-01</td>\n      <td>6.38</td>\n      <td>5.64</td>\n      <td>6.58</td>\n      <td>4.05</td>\n      <td>233.7</td>\n      <td>420.0</td>\n      <td>2.76</td>\n      <td>1.24</td>\n      <td>1.88</td>\n      <td>-0.41</td>\n      <td>-170.3</td>\n      <td>360.0</td>\n      <td>-0.83</td>\n      <td>-1.00</td>\n      <td>-0.25</td>\n      <td>-0.13</td>\n      <td>-81.8</td>\n      <td>300.0</td>\n      <td>2.29</td>\n      <td>-1.41</td>\n      <td>0.00</td>\n      <td>-0.80</td>\n      <td>187.0</td>\n      <td>240.0</td>\n    </tr>\n  </tbody>\n</table>\n<p>91512 rows × 41 columns</p>\n</div>"
     },
     "metadata": {},
     "execution_count": 4
    }
   ],
   "source": [
    "X_train_5"
   ]
  },
  {
   "cell_type": "code",
   "execution_count": 7,
   "metadata": {},
   "outputs": [
    {
     "output_type": "execute_result",
     "data": {
      "text/plain": [
       "RandomForestRegressor(n_estimators=20, n_jobs=4, random_state=452543634)"
      ]
     },
     "metadata": {},
     "execution_count": 7
    }
   ],
   "source": [
    "from sklearn.ensemble import RandomForestRegressor\n",
    "\n",
    "N_ESTIMATORS = 20\n",
    "RANDOM_STATE = 452543634\n",
    "RF_model = RandomForestRegressor(n_estimators=N_ESTIMATORS, random_state=RANDOM_STATE, n_jobs=4)\n",
    "\n",
    "RF_model.fit(X_train_5, y_train_5)"
   ]
  },
  {
   "cell_type": "code",
   "execution_count": 8,
   "metadata": {},
   "outputs": [
    {
     "output_type": "stream",
     "name": "stdout",
     "text": [
      "Mean squared error on valid: 0.00045966155038540103\nMean squared error on valid inverse transformed from normalization: -74.14704736722378\n"
     ]
    }
   ],
   "source": [
    "result = evaluate_model_2(RF_model, X_valid_5, y_valid_5)"
   ]
  },
  {
   "source": [
    "### Simple LSTM"
   ],
   "cell_type": "markdown",
   "metadata": {}
  },
  {
   "cell_type": "code",
   "execution_count": 5,
   "metadata": {},
   "outputs": [],
   "source": [
    "# LSTM_CELL_SIZE=64\n",
    "BATCH_SIZE = 200\n",
    "EPOCHS = 15\n",
    "# DROPOUT_RATE=0.15"
   ]
  },
  {
   "source": [
    "#### Create an artificial 3rd dimension"
   ],
   "cell_type": "markdown",
   "metadata": {}
  },
  {
   "cell_type": "code",
   "execution_count": 6,
   "metadata": {},
   "outputs": [],
   "source": [
    "X_train_5 = X_train_5.to_numpy().reshape(X_train_5.shape[0], 1, X_train_5.shape[1])\n",
    "X_valid_5 = X_valid_5.to_numpy().reshape(X_valid_5.shape[0], 1, X_valid_5.shape[1])"
   ]
  },
  {
   "cell_type": "code",
   "execution_count": 8,
   "metadata": {},
   "outputs": [
    {
     "output_type": "stream",
     "name": "stdout",
     "text": [
      "Epoch 1/15\n",
      "458/458 [==============================] - 6s 7ms/step - loss: 11.9224 - val_loss: 25.6901\n",
      "Epoch 2/15\n",
      "458/458 [==============================] - 3s 6ms/step - loss: 11.9140 - val_loss: 25.6945\n",
      "Epoch 3/15\n",
      "458/458 [==============================] - 3s 6ms/step - loss: 11.9124 - val_loss: 25.6879\n",
      "Epoch 4/15\n",
      "458/458 [==============================] - 3s 6ms/step - loss: 11.9064 - val_loss: 25.7005\n",
      "Epoch 5/15\n",
      "458/458 [==============================] - 3s 6ms/step - loss: 11.9092 - val_loss: 25.6856\n",
      "Epoch 6/15\n",
      "458/458 [==============================] - 3s 6ms/step - loss: 11.9072 - val_loss: 25.6961\n",
      "Epoch 7/15\n",
      "458/458 [==============================] - 3s 6ms/step - loss: 11.9043 - val_loss: 25.6850\n",
      "Epoch 8/15\n",
      "458/458 [==============================] - 3s 6ms/step - loss: 11.9048 - val_loss: 25.7005\n",
      "Epoch 9/15\n",
      "458/458 [==============================] - 3s 6ms/step - loss: 11.9012 - val_loss: 25.6850\n",
      "Epoch 10/15\n",
      "458/458 [==============================] - 3s 6ms/step - loss: 11.9051 - val_loss: 25.6861\n",
      "Epoch 11/15\n",
      "458/458 [==============================] - 3s 6ms/step - loss: 11.9017 - val_loss: 25.6926\n",
      "Epoch 12/15\n",
      "458/458 [==============================] - 3s 6ms/step - loss: 11.8990 - val_loss: 25.7067\n",
      "Epoch 13/15\n",
      "458/458 [==============================] - 3s 6ms/step - loss: 11.9050 - val_loss: 25.6978\n",
      "Epoch 14/15\n",
      "458/458 [==============================] - 3s 6ms/step - loss: 11.8970 - val_loss: 25.6920\n",
      "Epoch 00014: early stopping\n"
     ]
    }
   ],
   "source": [
    "import tensorflow\n",
    "from tensorflow.keras import Sequential\n",
    "from tensorflow.keras.layers import Dense, Dropout, LSTM\n",
    "from tensorflow.keras.callbacks import EarlyStopping\n",
    "from tensorflow.keras import backend as be\n",
    "from tensorflow.keras.callbacks import ModelCheckpoint, LearningRateScheduler\n",
    "\n",
    "column_count = np.shape(X_train_5)[2]\n",
    "\n",
    "be.clear_session()\n",
    "\n",
    "# def schedule(epoch, lr):\n",
    "#    ...\n",
    "#    return lr\n",
    "\n",
    "# lr_scheduler = LearningRateScheduler(schedule)\n",
    "\n",
    "es = EarlyStopping(monitor='val_loss', mode='min', \n",
    "                   verbose=1, patience=5)\n",
    "mc = ModelCheckpoint('best_model.h5', monitor='val_loss', \n",
    "                     mode='min', save_best_only=True)\n",
    "\n",
    "# Build your whole LSTM model here!\n",
    "model = Sequential()\n",
    "model.add(LSTM(100, input_shape=(1, column_count), return_sequences=True))\n",
    "model.add(Dropout(0.25))\n",
    "model.add(LSTM(120))\n",
    "# model.add(Bidirectional(LSTM(150)))\n",
    "model.add(Dropout(0.4))\n",
    "model.add(Dense(1))\n",
    "\n",
    "#For shape remeber, we have a variable defining the \"window\" and the features in the window...\n",
    "optimizer = tensorflow.keras.optimizers.Adam(learning_rate=0.001)\n",
    "model.compile(loss='mean_squared_error', optimizer=optimizer)\n",
    "\n",
    "# Fit on the train data\n",
    "# USE the batch size parameter!\n",
    "# Use validation data - warning, a tuple of stuff!\n",
    "# Epochs as deemed necessary...\n",
    "# You should avoid shuffling the data maybe.\n",
    "# You can use the callbacks for LR schedule or model saving as seems fit.\n",
    "\n",
    "history = model.fit(X_train_5, y=y_train_5,\n",
    "                    validation_data=(X_valid_5, y_valid_5),\n",
    "                    shuffle=False,\n",
    "                    epochs=EPOCHS,\n",
    "                    batch_size=BATCH_SIZE,\n",
    "                    callbacks=[mc, es])"
   ]
  },
  {
   "cell_type": "code",
   "execution_count": 10,
   "metadata": {},
   "outputs": [
    {
     "output_type": "stream",
     "name": "stdout",
     "text": [
      "Mean squared error on valid: 25.69197244896494\n"
     ]
    }
   ],
   "source": [
    "result = evaluate_model(model, X_valid_5, y_valid_5)"
   ]
  },
  {
   "cell_type": "code",
   "execution_count": null,
   "metadata": {},
   "outputs": [],
   "source": []
  }
 ],
 "metadata": {
  "colab": {
   "collapsed_sections": [],
   "name": "Electricity_price_modeling_Sept2021.ipynb",
   "provenance": []
  },
  "kernelspec": {
   "name": "python3",
   "display_name": "Python 3.8.5 64-bit",
   "metadata": {
    "interpreter": {
     "hash": "59207fd7f0b9e8a74002b342f8f0f024dd546630f71269bce8138ef96ee36261"
    }
   }
  },
  "language_info": {
   "codemirror_mode": {
    "name": "ipython",
    "version": 3
   },
   "file_extension": ".py",
   "mimetype": "text/x-python",
   "name": "python",
   "nbconvert_exporter": "python",
   "pygments_lexer": "ipython3",
   "version": "3.8.5"
  }
 },
 "nbformat": 4,
 "nbformat_minor": 1
}