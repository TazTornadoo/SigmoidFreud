{
 "cells": [
  {
   "cell_type": "markdown",
   "metadata": {
    "id": "djl8VtwmApoz"
   },
   "source": [
    "**Notebook to model electricity price differences.**<br>"
   ]
  },
  {
   "cell_type": "markdown",
   "metadata": {
    "id": "sWwowFXE7gUo"
   },
   "source": [
    "Brief summary of the exercise:\n",
    "* Target: predict the price change of electricity from the Close price of one hour to the Close price of the next hour\n",
    "* Input: the elementwise difference between the hourly 'candels' of the electricity price; explanation follows.\n",
    "\n",
    "  Hourly candels refers to the Open, High, Low, Close prices and the total Volume traded within an hour; thus each hourly candel has five elements. Historically, one could reconstruct these candels for each consecutive hour. We refer to the length of history for which the candels are reconstructed as 'window_size'. Thus, for a window_size of 5, one has candels from 5 consecutive hours.\n",
    "  \n",
    "  Left to explain is the 'elementwise difference' remark. Out of the N window_size of history, we compute differences between the consecutive candels: Open in t minus Open in t-1, Low in t minus low in t-1, etc. Thus, from N candels we create N-1 differentiated candels.\n",
    "\n",
    "  In this exercise, the elementwise differentiated data for window_sizes of 5 and 15 are provided\n",
    "\n",
    "  The data is further enchanced by mostly encoded time-related information. These encode what day of the week the data correspond to, whether the day is a bank holiday or not, etc. A list will be given further below.\n",
    "\n",
    "* ML models are to be built to predict the Target from the Input data."
   ]
  },
  {
   "cell_type": "code",
   "execution_count": 1,
   "metadata": {
    "colab": {
     "base_uri": "https://localhost:8080/",
     "height": 600
    },
    "id": "_qRgVE-BOHV1",
    "outputId": "090d45ed-9b1c-4de1-cc6a-5277dbcf66a5"
   },
   "outputs": [
    {
     "output_type": "stream",
     "name": "stdout",
     "text": [
      "Predictor data:\n"
     ]
    },
    {
     "output_type": "display_data",
     "data": {
      "text/plain": "   total_hours  dlvry_weekend  dlvry_bank_holiday  dlvry_day_sin  \\\n0    10.001383            1.0                 0.0       0.201299   \n1    10.001383            1.0                 0.0       0.201299   \n2    10.001383            1.0                 0.0       0.201299   \n3    10.001383            1.0                 0.0       0.201299   \n4    10.001383            1.0                 0.0       0.201299   \n5     7.080482            0.0                 0.0       0.394356   \n6     7.080482            0.0                 0.0       0.394356   \n7     7.726036            0.0                 0.0       0.394356   \n8     7.726036            0.0                 0.0       0.394356   \n9     8.726036            0.0                 0.0       0.394356   \n\n   dlvry_day_cos  dlvry_weekday_sin  dlvry_weekday_cos  dlvry_hour_sin  \\\n0       0.979530          -0.781831            0.62349       -0.500000   \n1       0.979530          -0.781831            0.62349       -0.500000   \n2       0.979530          -0.781831            0.62349       -0.500000   \n3       0.979530          -0.781831            0.62349       -0.500000   \n4       0.979530          -0.781831            0.62349       -0.500000   \n5       0.918958           0.000000            1.00000        0.258819   \n6       0.918958           0.000000            1.00000        0.258819   \n7       0.918958           0.000000            1.00000        0.500000   \n8       0.918958           0.000000            1.00000        0.500000   \n9       0.918958           0.000000            1.00000        0.707107   \n\n   dlvry_hour_cos  lasttrade_weekend  lasttrade_bank_holiday  \\\n0        0.866025                1.0                     0.0   \n1        0.866025                1.0                     0.0   \n2        0.866025                1.0                     0.0   \n3        0.866025                1.0                     0.0   \n4        0.866025                1.0                     0.0   \n5        0.965926                1.0                     0.0   \n6        0.965926                1.0                     0.0   \n7        0.866025                1.0                     0.0   \n8        0.866025                1.0                     0.0   \n9        0.707107                1.0                     0.0   \n\n   lasttrade_day_sin  lasttrade_day_cos  lasttrade_weekday_sin  \\\n0           0.201299            0.97953              -0.781831   \n1           0.201299            0.97953              -0.781831   \n2           0.201299            0.97953              -0.781831   \n3           0.201299            0.97953              -0.781831   \n4           0.201299            0.97953              -0.781831   \n5           0.201299            0.97953              -0.781831   \n6           0.201299            0.97953              -0.781831   \n7           0.201299            0.97953              -0.781831   \n8           0.201299            0.97953              -0.781831   \n9           0.201299            0.97953              -0.781831   \n\n   lasttrade_weekday_cos  lasttrade_hour_sin  lasttrade_hour_cos     0     1  \\\n0                0.62349           -0.707107       -7.071068e-01  0.03  0.80   \n1                0.62349           -0.866025       -5.000000e-01 -9.51 -1.98   \n2                0.62349           -0.965926       -2.588190e-01  5.48  2.58   \n3                0.62349           -1.000000       -1.836970e-16  4.41 -0.21   \n4                0.62349           -0.965926        2.588190e-01 -0.31 -0.20   \n5                0.62349           -0.707107        7.071068e-01  0.00  2.99   \n6                0.62349           -0.500000        8.660254e-01  1.77 -1.20   \n7                0.62349           -0.500000        8.660254e-01 -0.21 -1.00   \n8                0.62349           -0.258819        9.659258e-01 -1.69  0.07   \n9                0.62349           -0.500000        8.660254e-01 -0.60 -1.21   \n\n      2     3      4      5     6     7     8     9     10     11    12    13  \\\n0 -1.17 -1.18   92.2  600.0 -9.51 -1.98 -8.31 -2.83  176.6  540.0  5.48  2.58   \n1 -8.31 -2.83  176.6  540.0  5.48  2.58  5.39  5.41  187.7  480.0  4.41 -0.21   \n2  5.39  5.41  187.7  480.0  4.41 -0.21  1.30 -1.31  -18.2  420.0 -0.31 -0.20   \n3  1.30 -1.31  -18.2  420.0 -0.31 -0.20 -0.66 -3.18  -78.3  360.0 -3.49 -2.59   \n4 -0.66 -3.18  -78.3  360.0 -3.49 -2.59 -7.97 -3.21  796.3  300.0 -2.90 -1.69   \n5  0.00  0.00   20.0  420.0  1.77 -1.20  0.00  0.50   40.6  360.0 -1.59 -1.09   \n6  0.00  0.50   40.6  360.0 -1.59 -1.09 -2.65 -2.21  555.0  300.0 -1.90  1.10   \n7  1.26  1.26   23.1  420.0 -1.69  0.07 -0.86 -0.36  328.4  360.0 -1.39  0.63   \n8 -0.86 -0.36  328.4  360.0 -1.39  0.63 -0.70  2.23  -86.4  300.0  3.02 -0.40   \n9 -3.48 -4.60   13.0  480.0 -4.08 -1.60 -3.20 -3.20  175.2  420.0 -0.01  5.01   \n\n     14    15     16     17    18    19    20    21     22     23  \n0  5.39  5.41  187.7  480.0  4.41 -0.21  1.30 -1.31  -18.2  420.0  \n1  1.30 -1.31  -18.2  420.0 -0.31 -0.20 -0.66 -3.18  -78.3  360.0  \n2 -0.66 -3.18  -78.3  360.0 -3.49 -2.59 -7.97 -3.21  796.3  300.0  \n3 -7.97 -3.21  796.3  300.0 -2.90 -1.69  2.44 -0.01 -355.6  240.0  \n4  2.44 -0.01 -355.6  240.0 -0.70 -1.11 -1.11 -2.69   53.3  180.0  \n5 -2.65 -2.21  555.0  300.0 -1.90  1.10  0.38  1.61 -332.7  240.0  \n6  0.38  1.61 -332.7  240.0  1.94 -1.58 -2.42 -2.26  421.6  180.0  \n7 -0.70  2.23  -86.4  300.0  3.02 -0.40 -1.93 -2.61  377.2  240.0  \n8 -1.93 -2.61  377.2  240.0 -2.61 -1.70  0.23  0.49  104.2  180.0  \n9  1.99  7.16  108.5  360.0  5.08 -2.93 -0.99 -3.26  121.3  300.0  ",
      "text/html": "<div>\n<style scoped>\n    .dataframe tbody tr th:only-of-type {\n        vertical-align: middle;\n    }\n\n    .dataframe tbody tr th {\n        vertical-align: top;\n    }\n\n    .dataframe thead th {\n        text-align: right;\n    }\n</style>\n<table border=\"1\" class=\"dataframe\">\n  <thead>\n    <tr style=\"text-align: right;\">\n      <th></th>\n      <th>total_hours</th>\n      <th>dlvry_weekend</th>\n      <th>dlvry_bank_holiday</th>\n      <th>dlvry_day_sin</th>\n      <th>dlvry_day_cos</th>\n      <th>dlvry_weekday_sin</th>\n      <th>dlvry_weekday_cos</th>\n      <th>dlvry_hour_sin</th>\n      <th>dlvry_hour_cos</th>\n      <th>lasttrade_weekend</th>\n      <th>lasttrade_bank_holiday</th>\n      <th>lasttrade_day_sin</th>\n      <th>lasttrade_day_cos</th>\n      <th>lasttrade_weekday_sin</th>\n      <th>lasttrade_weekday_cos</th>\n      <th>lasttrade_hour_sin</th>\n      <th>lasttrade_hour_cos</th>\n      <th>0</th>\n      <th>1</th>\n      <th>2</th>\n      <th>3</th>\n      <th>4</th>\n      <th>5</th>\n      <th>6</th>\n      <th>7</th>\n      <th>8</th>\n      <th>9</th>\n      <th>10</th>\n      <th>11</th>\n      <th>12</th>\n      <th>13</th>\n      <th>14</th>\n      <th>15</th>\n      <th>16</th>\n      <th>17</th>\n      <th>18</th>\n      <th>19</th>\n      <th>20</th>\n      <th>21</th>\n      <th>22</th>\n      <th>23</th>\n    </tr>\n  </thead>\n  <tbody>\n    <tr>\n      <th>0</th>\n      <td>10.001383</td>\n      <td>1.0</td>\n      <td>0.0</td>\n      <td>0.201299</td>\n      <td>0.979530</td>\n      <td>-0.781831</td>\n      <td>0.62349</td>\n      <td>-0.500000</td>\n      <td>0.866025</td>\n      <td>1.0</td>\n      <td>0.0</td>\n      <td>0.201299</td>\n      <td>0.97953</td>\n      <td>-0.781831</td>\n      <td>0.62349</td>\n      <td>-0.707107</td>\n      <td>-7.071068e-01</td>\n      <td>0.03</td>\n      <td>0.80</td>\n      <td>-1.17</td>\n      <td>-1.18</td>\n      <td>92.2</td>\n      <td>600.0</td>\n      <td>-9.51</td>\n      <td>-1.98</td>\n      <td>-8.31</td>\n      <td>-2.83</td>\n      <td>176.6</td>\n      <td>540.0</td>\n      <td>5.48</td>\n      <td>2.58</td>\n      <td>5.39</td>\n      <td>5.41</td>\n      <td>187.7</td>\n      <td>480.0</td>\n      <td>4.41</td>\n      <td>-0.21</td>\n      <td>1.30</td>\n      <td>-1.31</td>\n      <td>-18.2</td>\n      <td>420.0</td>\n    </tr>\n    <tr>\n      <th>1</th>\n      <td>10.001383</td>\n      <td>1.0</td>\n      <td>0.0</td>\n      <td>0.201299</td>\n      <td>0.979530</td>\n      <td>-0.781831</td>\n      <td>0.62349</td>\n      <td>-0.500000</td>\n      <td>0.866025</td>\n      <td>1.0</td>\n      <td>0.0</td>\n      <td>0.201299</td>\n      <td>0.97953</td>\n      <td>-0.781831</td>\n      <td>0.62349</td>\n      <td>-0.866025</td>\n      <td>-5.000000e-01</td>\n      <td>-9.51</td>\n      <td>-1.98</td>\n      <td>-8.31</td>\n      <td>-2.83</td>\n      <td>176.6</td>\n      <td>540.0</td>\n      <td>5.48</td>\n      <td>2.58</td>\n      <td>5.39</td>\n      <td>5.41</td>\n      <td>187.7</td>\n      <td>480.0</td>\n      <td>4.41</td>\n      <td>-0.21</td>\n      <td>1.30</td>\n      <td>-1.31</td>\n      <td>-18.2</td>\n      <td>420.0</td>\n      <td>-0.31</td>\n      <td>-0.20</td>\n      <td>-0.66</td>\n      <td>-3.18</td>\n      <td>-78.3</td>\n      <td>360.0</td>\n    </tr>\n    <tr>\n      <th>2</th>\n      <td>10.001383</td>\n      <td>1.0</td>\n      <td>0.0</td>\n      <td>0.201299</td>\n      <td>0.979530</td>\n      <td>-0.781831</td>\n      <td>0.62349</td>\n      <td>-0.500000</td>\n      <td>0.866025</td>\n      <td>1.0</td>\n      <td>0.0</td>\n      <td>0.201299</td>\n      <td>0.97953</td>\n      <td>-0.781831</td>\n      <td>0.62349</td>\n      <td>-0.965926</td>\n      <td>-2.588190e-01</td>\n      <td>5.48</td>\n      <td>2.58</td>\n      <td>5.39</td>\n      <td>5.41</td>\n      <td>187.7</td>\n      <td>480.0</td>\n      <td>4.41</td>\n      <td>-0.21</td>\n      <td>1.30</td>\n      <td>-1.31</td>\n      <td>-18.2</td>\n      <td>420.0</td>\n      <td>-0.31</td>\n      <td>-0.20</td>\n      <td>-0.66</td>\n      <td>-3.18</td>\n      <td>-78.3</td>\n      <td>360.0</td>\n      <td>-3.49</td>\n      <td>-2.59</td>\n      <td>-7.97</td>\n      <td>-3.21</td>\n      <td>796.3</td>\n      <td>300.0</td>\n    </tr>\n    <tr>\n      <th>3</th>\n      <td>10.001383</td>\n      <td>1.0</td>\n      <td>0.0</td>\n      <td>0.201299</td>\n      <td>0.979530</td>\n      <td>-0.781831</td>\n      <td>0.62349</td>\n      <td>-0.500000</td>\n      <td>0.866025</td>\n      <td>1.0</td>\n      <td>0.0</td>\n      <td>0.201299</td>\n      <td>0.97953</td>\n      <td>-0.781831</td>\n      <td>0.62349</td>\n      <td>-1.000000</td>\n      <td>-1.836970e-16</td>\n      <td>4.41</td>\n      <td>-0.21</td>\n      <td>1.30</td>\n      <td>-1.31</td>\n      <td>-18.2</td>\n      <td>420.0</td>\n      <td>-0.31</td>\n      <td>-0.20</td>\n      <td>-0.66</td>\n      <td>-3.18</td>\n      <td>-78.3</td>\n      <td>360.0</td>\n      <td>-3.49</td>\n      <td>-2.59</td>\n      <td>-7.97</td>\n      <td>-3.21</td>\n      <td>796.3</td>\n      <td>300.0</td>\n      <td>-2.90</td>\n      <td>-1.69</td>\n      <td>2.44</td>\n      <td>-0.01</td>\n      <td>-355.6</td>\n      <td>240.0</td>\n    </tr>\n    <tr>\n      <th>4</th>\n      <td>10.001383</td>\n      <td>1.0</td>\n      <td>0.0</td>\n      <td>0.201299</td>\n      <td>0.979530</td>\n      <td>-0.781831</td>\n      <td>0.62349</td>\n      <td>-0.500000</td>\n      <td>0.866025</td>\n      <td>1.0</td>\n      <td>0.0</td>\n      <td>0.201299</td>\n      <td>0.97953</td>\n      <td>-0.781831</td>\n      <td>0.62349</td>\n      <td>-0.965926</td>\n      <td>2.588190e-01</td>\n      <td>-0.31</td>\n      <td>-0.20</td>\n      <td>-0.66</td>\n      <td>-3.18</td>\n      <td>-78.3</td>\n      <td>360.0</td>\n      <td>-3.49</td>\n      <td>-2.59</td>\n      <td>-7.97</td>\n      <td>-3.21</td>\n      <td>796.3</td>\n      <td>300.0</td>\n      <td>-2.90</td>\n      <td>-1.69</td>\n      <td>2.44</td>\n      <td>-0.01</td>\n      <td>-355.6</td>\n      <td>240.0</td>\n      <td>-0.70</td>\n      <td>-1.11</td>\n      <td>-1.11</td>\n      <td>-2.69</td>\n      <td>53.3</td>\n      <td>180.0</td>\n    </tr>\n    <tr>\n      <th>5</th>\n      <td>7.080482</td>\n      <td>0.0</td>\n      <td>0.0</td>\n      <td>0.394356</td>\n      <td>0.918958</td>\n      <td>0.000000</td>\n      <td>1.00000</td>\n      <td>0.258819</td>\n      <td>0.965926</td>\n      <td>1.0</td>\n      <td>0.0</td>\n      <td>0.201299</td>\n      <td>0.97953</td>\n      <td>-0.781831</td>\n      <td>0.62349</td>\n      <td>-0.707107</td>\n      <td>7.071068e-01</td>\n      <td>0.00</td>\n      <td>2.99</td>\n      <td>0.00</td>\n      <td>0.00</td>\n      <td>20.0</td>\n      <td>420.0</td>\n      <td>1.77</td>\n      <td>-1.20</td>\n      <td>0.00</td>\n      <td>0.50</td>\n      <td>40.6</td>\n      <td>360.0</td>\n      <td>-1.59</td>\n      <td>-1.09</td>\n      <td>-2.65</td>\n      <td>-2.21</td>\n      <td>555.0</td>\n      <td>300.0</td>\n      <td>-1.90</td>\n      <td>1.10</td>\n      <td>0.38</td>\n      <td>1.61</td>\n      <td>-332.7</td>\n      <td>240.0</td>\n    </tr>\n    <tr>\n      <th>6</th>\n      <td>7.080482</td>\n      <td>0.0</td>\n      <td>0.0</td>\n      <td>0.394356</td>\n      <td>0.918958</td>\n      <td>0.000000</td>\n      <td>1.00000</td>\n      <td>0.258819</td>\n      <td>0.965926</td>\n      <td>1.0</td>\n      <td>0.0</td>\n      <td>0.201299</td>\n      <td>0.97953</td>\n      <td>-0.781831</td>\n      <td>0.62349</td>\n      <td>-0.500000</td>\n      <td>8.660254e-01</td>\n      <td>1.77</td>\n      <td>-1.20</td>\n      <td>0.00</td>\n      <td>0.50</td>\n      <td>40.6</td>\n      <td>360.0</td>\n      <td>-1.59</td>\n      <td>-1.09</td>\n      <td>-2.65</td>\n      <td>-2.21</td>\n      <td>555.0</td>\n      <td>300.0</td>\n      <td>-1.90</td>\n      <td>1.10</td>\n      <td>0.38</td>\n      <td>1.61</td>\n      <td>-332.7</td>\n      <td>240.0</td>\n      <td>1.94</td>\n      <td>-1.58</td>\n      <td>-2.42</td>\n      <td>-2.26</td>\n      <td>421.6</td>\n      <td>180.0</td>\n    </tr>\n    <tr>\n      <th>7</th>\n      <td>7.726036</td>\n      <td>0.0</td>\n      <td>0.0</td>\n      <td>0.394356</td>\n      <td>0.918958</td>\n      <td>0.000000</td>\n      <td>1.00000</td>\n      <td>0.500000</td>\n      <td>0.866025</td>\n      <td>1.0</td>\n      <td>0.0</td>\n      <td>0.201299</td>\n      <td>0.97953</td>\n      <td>-0.781831</td>\n      <td>0.62349</td>\n      <td>-0.500000</td>\n      <td>8.660254e-01</td>\n      <td>-0.21</td>\n      <td>-1.00</td>\n      <td>1.26</td>\n      <td>1.26</td>\n      <td>23.1</td>\n      <td>420.0</td>\n      <td>-1.69</td>\n      <td>0.07</td>\n      <td>-0.86</td>\n      <td>-0.36</td>\n      <td>328.4</td>\n      <td>360.0</td>\n      <td>-1.39</td>\n      <td>0.63</td>\n      <td>-0.70</td>\n      <td>2.23</td>\n      <td>-86.4</td>\n      <td>300.0</td>\n      <td>3.02</td>\n      <td>-0.40</td>\n      <td>-1.93</td>\n      <td>-2.61</td>\n      <td>377.2</td>\n      <td>240.0</td>\n    </tr>\n    <tr>\n      <th>8</th>\n      <td>7.726036</td>\n      <td>0.0</td>\n      <td>0.0</td>\n      <td>0.394356</td>\n      <td>0.918958</td>\n      <td>0.000000</td>\n      <td>1.00000</td>\n      <td>0.500000</td>\n      <td>0.866025</td>\n      <td>1.0</td>\n      <td>0.0</td>\n      <td>0.201299</td>\n      <td>0.97953</td>\n      <td>-0.781831</td>\n      <td>0.62349</td>\n      <td>-0.258819</td>\n      <td>9.659258e-01</td>\n      <td>-1.69</td>\n      <td>0.07</td>\n      <td>-0.86</td>\n      <td>-0.36</td>\n      <td>328.4</td>\n      <td>360.0</td>\n      <td>-1.39</td>\n      <td>0.63</td>\n      <td>-0.70</td>\n      <td>2.23</td>\n      <td>-86.4</td>\n      <td>300.0</td>\n      <td>3.02</td>\n      <td>-0.40</td>\n      <td>-1.93</td>\n      <td>-2.61</td>\n      <td>377.2</td>\n      <td>240.0</td>\n      <td>-2.61</td>\n      <td>-1.70</td>\n      <td>0.23</td>\n      <td>0.49</td>\n      <td>104.2</td>\n      <td>180.0</td>\n    </tr>\n    <tr>\n      <th>9</th>\n      <td>8.726036</td>\n      <td>0.0</td>\n      <td>0.0</td>\n      <td>0.394356</td>\n      <td>0.918958</td>\n      <td>0.000000</td>\n      <td>1.00000</td>\n      <td>0.707107</td>\n      <td>0.707107</td>\n      <td>1.0</td>\n      <td>0.0</td>\n      <td>0.201299</td>\n      <td>0.97953</td>\n      <td>-0.781831</td>\n      <td>0.62349</td>\n      <td>-0.500000</td>\n      <td>8.660254e-01</td>\n      <td>-0.60</td>\n      <td>-1.21</td>\n      <td>-3.48</td>\n      <td>-4.60</td>\n      <td>13.0</td>\n      <td>480.0</td>\n      <td>-4.08</td>\n      <td>-1.60</td>\n      <td>-3.20</td>\n      <td>-3.20</td>\n      <td>175.2</td>\n      <td>420.0</td>\n      <td>-0.01</td>\n      <td>5.01</td>\n      <td>1.99</td>\n      <td>7.16</td>\n      <td>108.5</td>\n      <td>360.0</td>\n      <td>5.08</td>\n      <td>-2.93</td>\n      <td>-0.99</td>\n      <td>-3.26</td>\n      <td>121.3</td>\n      <td>300.0</td>\n    </tr>\n  </tbody>\n</table>\n</div>"
     },
     "metadata": {}
    },
    {
     "output_type": "stream",
     "name": "stdout",
     "text": [
      "Target data:\n"
     ]
    },
    {
     "output_type": "display_data",
     "data": {
      "text/plain": "      y\n0 -3.18\n1 -3.21\n2 -0.01\n3 -2.69\n4  2.41",
      "text/html": "<div>\n<style scoped>\n    .dataframe tbody tr th:only-of-type {\n        vertical-align: middle;\n    }\n\n    .dataframe tbody tr th {\n        vertical-align: top;\n    }\n\n    .dataframe thead th {\n        text-align: right;\n    }\n</style>\n<table border=\"1\" class=\"dataframe\">\n  <thead>\n    <tr style=\"text-align: right;\">\n      <th></th>\n      <th>y</th>\n    </tr>\n  </thead>\n  <tbody>\n    <tr>\n      <th>0</th>\n      <td>-3.18</td>\n    </tr>\n    <tr>\n      <th>1</th>\n      <td>-3.21</td>\n    </tr>\n    <tr>\n      <th>2</th>\n      <td>-0.01</td>\n    </tr>\n    <tr>\n      <th>3</th>\n      <td>-2.69</td>\n    </tr>\n    <tr>\n      <th>4</th>\n      <td>2.41</td>\n    </tr>\n  </tbody>\n</table>\n</div>"
     },
     "metadata": {}
    }
   ],
   "source": [
    "# Load the data using the pandas library\n",
    "# For the below demonstration, only the\n",
    "#    * window_size of 5 files\n",
    "#    * and only the training sets will be loaded here\n",
    "# The validation and test sets can be similarly loaded.\n",
    "# One can also use a similar kind of method for loading as was used for the download\n",
    "# This can avoid the many lines of manual specification of the files. Manual is also fine, btw.\n",
    "\n",
    "import pandas as pd\n",
    "pd.set_option('display.max_columns', None)\n",
    "\n",
    "X_train_5 = pd.read_csv('X_train_window_size_5_time_encoding_True.csv')\n",
    "y_train_5 = pd.read_csv('y_train_window_size_5_time_encoding_True.csv')\n",
    "\n",
    "# Display the first 5 rows of the predictor and the target data; for a description of the content, \n",
    "# see the text below this cell\n",
    "print(\"Predictor data:\")\n",
    "display(X_train_5.head(10))\n",
    "print(\"Target data:\")\n",
    "display(y_train_5.head())"
   ]
  },
  {
   "cell_type": "code",
   "execution_count": 2,
   "metadata": {},
   "outputs": [],
   "source": [
    "X_test_5 = pd.read_csv('X_test_window_size_5_time_encoding_True.csv')\n",
    "y_test_5 = pd.read_csv('y_test_window_size_5_time_encoding_True.csv')\n",
    "\n",
    "X_valid_5 = pd.read_csv('X_valid_window_size_5_time_encoding_True.csv')\n",
    "y_valid_5 = pd.read_csv('y_valid_window_size_5_time_encoding_True.csv')"
   ]
  },
  {
   "source": [
    "### Normalization"
   ],
   "cell_type": "markdown",
   "metadata": {}
  },
  {
   "cell_type": "code",
   "execution_count": 3,
   "metadata": {},
   "outputs": [],
   "source": [
    "from sklearn.preprocessing import MinMaxScaler\n",
    "import warnings\n",
    "warnings.filterwarnings(\"ignore\")\n",
    "\n",
    "def minmax_scale(df_x, series_y, features_to_minmax, normalizers=None):\n",
    "    features_to_minmax.append('y')\n",
    "    if not normalizers:\n",
    "        normalizers = {}\n",
    "    for feat in features_to_minmax:\n",
    "        if feat not in normalizers:\n",
    "            normalizers[feat] = MinMaxScaler()\n",
    "            if feat != 'y':\n",
    "                normalizers[feat].fit(df_x[feat].values.reshape(-1, 1))\n",
    "            else:\n",
    "                normalizers[feat].fit(series_y.values.reshape(-1, 1))\n",
    "        if feat != 'y':\n",
    "            df_x[feat] = normalizers[feat].transform(df_x[feat].values.reshape(-1, 1))\n",
    "\n",
    "    series_y=normalizers[\"y\"].transform(series_y.values.reshape(-1, 1))\n",
    "\n",
    "    return df_x, series_y, normalizers"
   ]
  },
  {
   "cell_type": "code",
   "execution_count": 4,
   "metadata": {},
   "outputs": [],
   "source": [
    "features_to_minmax = X_train_5.columns.tolist()[17:] + [X_train_5.columns.tolist()[0]]\n",
    "X_train_norm, y_train_norm, normalizers = minmax_scale(X_train_5, y_train_5, features_to_minmax)\n",
    "X_valid_norm, y_valid_norm, _ = minmax_scale(X_valid_5, y_valid_5, features_to_minmax, normalizers=normalizers)\n",
    "X_test_norm, y_test_norm, _ = minmax_scale(X_test_5, y_test_5, features_to_minmax, normalizers=normalizers)"
   ]
  },
  {
   "cell_type": "code",
   "execution_count": 5,
   "metadata": {},
   "outputs": [],
   "source": [
    "from sklearn.metrics import mean_squared_error \n",
    "import numpy as np\n",
    "\n",
    "def evaluate_model(model, X_valid, y_valid_true):\n",
    "    predictions = model.predict(X_valid)\n",
    "    mse = mean_squared_error(y_valid_true, predictions)\n",
    "    print(\"Mean squared error on valid:\",mse)\n",
    "    return mse\n",
    "\n",
    "# Modified from assignment 6\n",
    "def evaluate_model_2(model, X_valid, y_valid_true):\n",
    "    predictions = model.predict(X_valid)\n",
    "    mse = mean_squared_error(y_valid_true, predictions)\n",
    "    print(\"Mean squared error on valid:\",mse)\n",
    "    normalized_mse = normalizers[\"y\"].inverse_transform(np.array([mse]).reshape(1, -1))[0][0]\n",
    "    print(\"Mean squared error on valid inverse transformed from normalization:\",normalized_mse)\n",
    "    return normalized_mse"
   ]
  },
  {
   "cell_type": "code",
   "execution_count": 6,
   "metadata": {},
   "outputs": [
    {
     "output_type": "execute_result",
     "data": {
      "text/plain": [
       "       total_hours  dlvry_weekend  dlvry_bank_holiday  dlvry_day_sin  \\\n",
       "0         0.153634            1.0                 0.0       0.201299   \n",
       "1         0.153634            1.0                 0.0       0.201299   \n",
       "2         0.153634            1.0                 0.0       0.201299   \n",
       "3         0.153634            1.0                 0.0       0.201299   \n",
       "4         0.153634            1.0                 0.0       0.201299   \n",
       "...            ...            ...                 ...            ...   \n",
       "91507     0.445676            1.0                 0.0      -0.743145   \n",
       "91508     0.445676            1.0                 0.0      -0.743145   \n",
       "91509     0.445676            1.0                 0.0      -0.743145   \n",
       "91510     0.445676            1.0                 0.0      -0.743145   \n",
       "91511     0.445676            1.0                 0.0      -0.743145   \n",
       "\n",
       "       dlvry_day_cos  dlvry_weekday_sin  dlvry_weekday_cos  dlvry_hour_sin  \\\n",
       "0           0.979530          -0.781831           0.623490       -0.500000   \n",
       "1           0.979530          -0.781831           0.623490       -0.500000   \n",
       "2           0.979530          -0.781831           0.623490       -0.500000   \n",
       "3           0.979530          -0.781831           0.623490       -0.500000   \n",
       "4           0.979530          -0.781831           0.623490       -0.500000   \n",
       "...              ...                ...                ...             ...   \n",
       "91507      -0.669131          -0.974928          -0.222521        0.965926   \n",
       "91508      -0.669131          -0.974928          -0.222521        0.965926   \n",
       "91509      -0.669131          -0.974928          -0.222521        0.965926   \n",
       "91510      -0.669131          -0.974928          -0.222521        0.965926   \n",
       "91511      -0.669131          -0.974928          -0.222521        0.965926   \n",
       "\n",
       "       dlvry_hour_cos  lasttrade_weekend  lasttrade_bank_holiday  \\\n",
       "0            0.866025                1.0                     0.0   \n",
       "1            0.866025                1.0                     0.0   \n",
       "2            0.866025                1.0                     0.0   \n",
       "3            0.866025                1.0                     0.0   \n",
       "4            0.866025                1.0                     0.0   \n",
       "...               ...                ...                     ...   \n",
       "91507       -0.258819                0.0                     0.0   \n",
       "91508       -0.258819                1.0                     0.0   \n",
       "91509       -0.258819                1.0                     0.0   \n",
       "91510       -0.258819                1.0                     0.0   \n",
       "91511       -0.258819                1.0                     0.0   \n",
       "\n",
       "       lasttrade_day_sin  lasttrade_day_cos  lasttrade_weekday_sin  \\\n",
       "0               0.201299           0.979530              -0.781831   \n",
       "1               0.201299           0.979530              -0.781831   \n",
       "2               0.201299           0.979530              -0.781831   \n",
       "3               0.201299           0.979530              -0.781831   \n",
       "4               0.201299           0.979530              -0.781831   \n",
       "...                  ...                ...                    ...   \n",
       "91507          -0.587785          -0.809017              -0.433884   \n",
       "91508          -0.743145          -0.669131              -0.974928   \n",
       "91509          -0.743145          -0.669131              -0.974928   \n",
       "91510          -0.743145          -0.669131              -0.974928   \n",
       "91511          -0.743145          -0.669131              -0.974928   \n",
       "\n",
       "       lasttrade_weekday_cos  lasttrade_hour_sin  lasttrade_hour_cos  \\\n",
       "0                   0.623490           -0.707107       -7.071068e-01   \n",
       "1                   0.623490           -0.866025       -5.000000e-01   \n",
       "2                   0.623490           -0.965926       -2.588190e-01   \n",
       "3                   0.623490           -1.000000       -1.836970e-16   \n",
       "4                   0.623490           -0.965926        2.588190e-01   \n",
       "...                      ...                 ...                 ...   \n",
       "91507              -0.900969           -0.258819        9.659258e-01   \n",
       "91508              -0.222521            0.000000        1.000000e+00   \n",
       "91509              -0.222521            0.258819        9.659258e-01   \n",
       "91510              -0.222521            0.500000        8.660254e-01   \n",
       "91511              -0.222521            0.707107        7.071068e-01   \n",
       "\n",
       "              0         1         2         3         4     5         6  \\\n",
       "0      0.548624  0.342375  0.483483  0.450294  0.285111  0.16  0.314494   \n",
       "1      0.481299  0.330252  0.445686  0.436614  0.286310  0.12  0.454300   \n",
       "2      0.587085  0.350137  0.518211  0.504933  0.286467  0.08  0.444320   \n",
       "3      0.579534  0.337970  0.496559  0.449216  0.283544  0.04  0.400298   \n",
       "4      0.546224  0.338014  0.486183  0.433712  0.282690  0.00  0.370640   \n",
       "...         ...       ...       ...       ...       ...   ...       ...   \n",
       "91507  0.539450  0.329423  0.484860  0.468701  0.283815  0.20  0.404216   \n",
       "91508  0.549188  0.345122  0.501218  0.465882  0.284907  0.16  0.408692   \n",
       "91509  0.552576  0.341285  0.491900  0.467125  0.284083  0.12  0.422776   \n",
       "91510  0.563232  0.361214  0.501323  0.515961  0.283757  0.08  0.462694   \n",
       "91511  0.593437  0.363482  0.524510  0.493657  0.287120  0.04  0.428931   \n",
       "\n",
       "              7         8         9        10    11        12        13  \\\n",
       "0      0.486784  0.301933  0.333574  0.511595  0.16  0.367678  0.596980   \n",
       "1      0.502022  0.393267  0.399807  0.511702  0.12  0.359601  0.585893   \n",
       "2      0.492698  0.366000  0.345792  0.509702  0.08  0.323973  0.585933   \n",
       "3      0.492732  0.352933  0.330761  0.509118  0.04  0.299970  0.576436   \n",
       "4      0.484745  0.304200  0.330520  0.517617  0.00  0.304423  0.580012   \n",
       "...         ...       ...       ...       ...   ...       ...       ...   \n",
       "91507  0.498179  0.371867  0.361948  0.510634  0.20  0.330767  0.588913   \n",
       "91508  0.495238  0.360133  0.363154  0.510071  0.16  0.342165  0.607073   \n",
       "91509  0.510510  0.372000  0.410498  0.509847  0.12  0.374472  0.609140   \n",
       "91510  0.512247  0.401200  0.388875  0.512149  0.08  0.347147  0.591655   \n",
       "91511  0.497544  0.369867  0.353026  0.508224  0.04  0.320048  0.582754   \n",
       "\n",
       "             14        15        16    17        18        19        20  \\\n",
       "0      0.518639  0.445045  0.511702  0.16  0.378254  0.289166  0.470863   \n",
       "1      0.482680  0.397880  0.509702  0.12  0.347688  0.289220  0.453237   \n",
       "2      0.465448  0.384756  0.509118  0.08  0.327095  0.276471  0.387500   \n",
       "3      0.401178  0.384545  0.517617  0.04  0.330916  0.281272  0.481115   \n",
       "4      0.492703  0.407004  0.506423  0.00  0.345163  0.284365  0.449191   \n",
       "...         ...       ...       ...   ...       ...       ...       ...   \n",
       "91507  0.474943  0.413040  0.510071  0.20  0.363295  0.317597  0.478957   \n",
       "91508  0.490593  0.454380  0.509847  0.16  0.391012  0.320371  0.518345   \n",
       "91509  0.529101  0.435500  0.512149  0.12  0.367569  0.296901  0.476079   \n",
       "91510  0.487779  0.404197  0.508224  0.08  0.344321  0.284952  0.456924   \n",
       "91511  0.469052  0.406162  0.509084  0.04  0.364525  0.282765  0.459173   \n",
       "\n",
       "             21        22    23  \n",
       "0      0.302977  0.509702  0.16  \n",
       "1      0.292983  0.509118  0.12  \n",
       "2      0.292822  0.517617  0.08  \n",
       "3      0.309925  0.506423  0.04  \n",
       "4      0.295602  0.510396  0.00  \n",
       "...         ...       ...   ...  \n",
       "91507  0.346000  0.509847  0.20  \n",
       "91508  0.331623  0.512149  0.16  \n",
       "91509  0.307787  0.508224  0.12  \n",
       "91510  0.309283  0.509084  0.08  \n",
       "91511  0.305703  0.511696  0.04  \n",
       "\n",
       "[91512 rows x 41 columns]"
      ],
      "text/html": "<div>\n<style scoped>\n    .dataframe tbody tr th:only-of-type {\n        vertical-align: middle;\n    }\n\n    .dataframe tbody tr th {\n        vertical-align: top;\n    }\n\n    .dataframe thead th {\n        text-align: right;\n    }\n</style>\n<table border=\"1\" class=\"dataframe\">\n  <thead>\n    <tr style=\"text-align: right;\">\n      <th></th>\n      <th>total_hours</th>\n      <th>dlvry_weekend</th>\n      <th>dlvry_bank_holiday</th>\n      <th>dlvry_day_sin</th>\n      <th>dlvry_day_cos</th>\n      <th>dlvry_weekday_sin</th>\n      <th>dlvry_weekday_cos</th>\n      <th>dlvry_hour_sin</th>\n      <th>dlvry_hour_cos</th>\n      <th>lasttrade_weekend</th>\n      <th>lasttrade_bank_holiday</th>\n      <th>lasttrade_day_sin</th>\n      <th>lasttrade_day_cos</th>\n      <th>lasttrade_weekday_sin</th>\n      <th>lasttrade_weekday_cos</th>\n      <th>lasttrade_hour_sin</th>\n      <th>lasttrade_hour_cos</th>\n      <th>0</th>\n      <th>1</th>\n      <th>2</th>\n      <th>3</th>\n      <th>4</th>\n      <th>5</th>\n      <th>6</th>\n      <th>7</th>\n      <th>8</th>\n      <th>9</th>\n      <th>10</th>\n      <th>11</th>\n      <th>12</th>\n      <th>13</th>\n      <th>14</th>\n      <th>15</th>\n      <th>16</th>\n      <th>17</th>\n      <th>18</th>\n      <th>19</th>\n      <th>20</th>\n      <th>21</th>\n      <th>22</th>\n      <th>23</th>\n    </tr>\n  </thead>\n  <tbody>\n    <tr>\n      <th>0</th>\n      <td>0.153634</td>\n      <td>1.0</td>\n      <td>0.0</td>\n      <td>0.201299</td>\n      <td>0.979530</td>\n      <td>-0.781831</td>\n      <td>0.623490</td>\n      <td>-0.500000</td>\n      <td>0.866025</td>\n      <td>1.0</td>\n      <td>0.0</td>\n      <td>0.201299</td>\n      <td>0.979530</td>\n      <td>-0.781831</td>\n      <td>0.623490</td>\n      <td>-0.707107</td>\n      <td>-7.071068e-01</td>\n      <td>0.548624</td>\n      <td>0.342375</td>\n      <td>0.483483</td>\n      <td>0.450294</td>\n      <td>0.285111</td>\n      <td>0.16</td>\n      <td>0.314494</td>\n      <td>0.486784</td>\n      <td>0.301933</td>\n      <td>0.333574</td>\n      <td>0.511595</td>\n      <td>0.16</td>\n      <td>0.367678</td>\n      <td>0.596980</td>\n      <td>0.518639</td>\n      <td>0.445045</td>\n      <td>0.511702</td>\n      <td>0.16</td>\n      <td>0.378254</td>\n      <td>0.289166</td>\n      <td>0.470863</td>\n      <td>0.302977</td>\n      <td>0.509702</td>\n      <td>0.16</td>\n    </tr>\n    <tr>\n      <th>1</th>\n      <td>0.153634</td>\n      <td>1.0</td>\n      <td>0.0</td>\n      <td>0.201299</td>\n      <td>0.979530</td>\n      <td>-0.781831</td>\n      <td>0.623490</td>\n      <td>-0.500000</td>\n      <td>0.866025</td>\n      <td>1.0</td>\n      <td>0.0</td>\n      <td>0.201299</td>\n      <td>0.979530</td>\n      <td>-0.781831</td>\n      <td>0.623490</td>\n      <td>-0.866025</td>\n      <td>-5.000000e-01</td>\n      <td>0.481299</td>\n      <td>0.330252</td>\n      <td>0.445686</td>\n      <td>0.436614</td>\n      <td>0.286310</td>\n      <td>0.12</td>\n      <td>0.454300</td>\n      <td>0.502022</td>\n      <td>0.393267</td>\n      <td>0.399807</td>\n      <td>0.511702</td>\n      <td>0.12</td>\n      <td>0.359601</td>\n      <td>0.585893</td>\n      <td>0.482680</td>\n      <td>0.397880</td>\n      <td>0.509702</td>\n      <td>0.12</td>\n      <td>0.347688</td>\n      <td>0.289220</td>\n      <td>0.453237</td>\n      <td>0.292983</td>\n      <td>0.509118</td>\n      <td>0.12</td>\n    </tr>\n    <tr>\n      <th>2</th>\n      <td>0.153634</td>\n      <td>1.0</td>\n      <td>0.0</td>\n      <td>0.201299</td>\n      <td>0.979530</td>\n      <td>-0.781831</td>\n      <td>0.623490</td>\n      <td>-0.500000</td>\n      <td>0.866025</td>\n      <td>1.0</td>\n      <td>0.0</td>\n      <td>0.201299</td>\n      <td>0.979530</td>\n      <td>-0.781831</td>\n      <td>0.623490</td>\n      <td>-0.965926</td>\n      <td>-2.588190e-01</td>\n      <td>0.587085</td>\n      <td>0.350137</td>\n      <td>0.518211</td>\n      <td>0.504933</td>\n      <td>0.286467</td>\n      <td>0.08</td>\n      <td>0.444320</td>\n      <td>0.492698</td>\n      <td>0.366000</td>\n      <td>0.345792</td>\n      <td>0.509702</td>\n      <td>0.08</td>\n      <td>0.323973</td>\n      <td>0.585933</td>\n      <td>0.465448</td>\n      <td>0.384756</td>\n      <td>0.509118</td>\n      <td>0.08</td>\n      <td>0.327095</td>\n      <td>0.276471</td>\n      <td>0.387500</td>\n      <td>0.292822</td>\n      <td>0.517617</td>\n      <td>0.08</td>\n    </tr>\n    <tr>\n      <th>3</th>\n      <td>0.153634</td>\n      <td>1.0</td>\n      <td>0.0</td>\n      <td>0.201299</td>\n      <td>0.979530</td>\n      <td>-0.781831</td>\n      <td>0.623490</td>\n      <td>-0.500000</td>\n      <td>0.866025</td>\n      <td>1.0</td>\n      <td>0.0</td>\n      <td>0.201299</td>\n      <td>0.979530</td>\n      <td>-0.781831</td>\n      <td>0.623490</td>\n      <td>-1.000000</td>\n      <td>-1.836970e-16</td>\n      <td>0.579534</td>\n      <td>0.337970</td>\n      <td>0.496559</td>\n      <td>0.449216</td>\n      <td>0.283544</td>\n      <td>0.04</td>\n      <td>0.400298</td>\n      <td>0.492732</td>\n      <td>0.352933</td>\n      <td>0.330761</td>\n      <td>0.509118</td>\n      <td>0.04</td>\n      <td>0.299970</td>\n      <td>0.576436</td>\n      <td>0.401178</td>\n      <td>0.384545</td>\n      <td>0.517617</td>\n      <td>0.04</td>\n      <td>0.330916</td>\n      <td>0.281272</td>\n      <td>0.481115</td>\n      <td>0.309925</td>\n      <td>0.506423</td>\n      <td>0.04</td>\n    </tr>\n    <tr>\n      <th>4</th>\n      <td>0.153634</td>\n      <td>1.0</td>\n      <td>0.0</td>\n      <td>0.201299</td>\n      <td>0.979530</td>\n      <td>-0.781831</td>\n      <td>0.623490</td>\n      <td>-0.500000</td>\n      <td>0.866025</td>\n      <td>1.0</td>\n      <td>0.0</td>\n      <td>0.201299</td>\n      <td>0.979530</td>\n      <td>-0.781831</td>\n      <td>0.623490</td>\n      <td>-0.965926</td>\n      <td>2.588190e-01</td>\n      <td>0.546224</td>\n      <td>0.338014</td>\n      <td>0.486183</td>\n      <td>0.433712</td>\n      <td>0.282690</td>\n      <td>0.00</td>\n      <td>0.370640</td>\n      <td>0.484745</td>\n      <td>0.304200</td>\n      <td>0.330520</td>\n      <td>0.517617</td>\n      <td>0.00</td>\n      <td>0.304423</td>\n      <td>0.580012</td>\n      <td>0.492703</td>\n      <td>0.407004</td>\n      <td>0.506423</td>\n      <td>0.00</td>\n      <td>0.345163</td>\n      <td>0.284365</td>\n      <td>0.449191</td>\n      <td>0.295602</td>\n      <td>0.510396</td>\n      <td>0.00</td>\n    </tr>\n    <tr>\n      <th>...</th>\n      <td>...</td>\n      <td>...</td>\n      <td>...</td>\n      <td>...</td>\n      <td>...</td>\n      <td>...</td>\n      <td>...</td>\n      <td>...</td>\n      <td>...</td>\n      <td>...</td>\n      <td>...</td>\n      <td>...</td>\n      <td>...</td>\n      <td>...</td>\n      <td>...</td>\n      <td>...</td>\n      <td>...</td>\n      <td>...</td>\n      <td>...</td>\n      <td>...</td>\n      <td>...</td>\n      <td>...</td>\n      <td>...</td>\n      <td>...</td>\n      <td>...</td>\n      <td>...</td>\n      <td>...</td>\n      <td>...</td>\n      <td>...</td>\n      <td>...</td>\n      <td>...</td>\n      <td>...</td>\n      <td>...</td>\n      <td>...</td>\n      <td>...</td>\n      <td>...</td>\n      <td>...</td>\n      <td>...</td>\n      <td>...</td>\n      <td>...</td>\n      <td>...</td>\n    </tr>\n    <tr>\n      <th>91507</th>\n      <td>0.445676</td>\n      <td>1.0</td>\n      <td>0.0</td>\n      <td>-0.743145</td>\n      <td>-0.669131</td>\n      <td>-0.974928</td>\n      <td>-0.222521</td>\n      <td>0.965926</td>\n      <td>-0.258819</td>\n      <td>0.0</td>\n      <td>0.0</td>\n      <td>-0.587785</td>\n      <td>-0.809017</td>\n      <td>-0.433884</td>\n      <td>-0.900969</td>\n      <td>-0.258819</td>\n      <td>9.659258e-01</td>\n      <td>0.539450</td>\n      <td>0.329423</td>\n      <td>0.484860</td>\n      <td>0.468701</td>\n      <td>0.283815</td>\n      <td>0.20</td>\n      <td>0.404216</td>\n      <td>0.498179</td>\n      <td>0.371867</td>\n      <td>0.361948</td>\n      <td>0.510634</td>\n      <td>0.20</td>\n      <td>0.330767</td>\n      <td>0.588913</td>\n      <td>0.474943</td>\n      <td>0.413040</td>\n      <td>0.510071</td>\n      <td>0.20</td>\n      <td>0.363295</td>\n      <td>0.317597</td>\n      <td>0.478957</td>\n      <td>0.346000</td>\n      <td>0.509847</td>\n      <td>0.20</td>\n    </tr>\n    <tr>\n      <th>91508</th>\n      <td>0.445676</td>\n      <td>1.0</td>\n      <td>0.0</td>\n      <td>-0.743145</td>\n      <td>-0.669131</td>\n      <td>-0.974928</td>\n      <td>-0.222521</td>\n      <td>0.965926</td>\n      <td>-0.258819</td>\n      <td>1.0</td>\n      <td>0.0</td>\n      <td>-0.743145</td>\n      <td>-0.669131</td>\n      <td>-0.974928</td>\n      <td>-0.222521</td>\n      <td>0.000000</td>\n      <td>1.000000e+00</td>\n      <td>0.549188</td>\n      <td>0.345122</td>\n      <td>0.501218</td>\n      <td>0.465882</td>\n      <td>0.284907</td>\n      <td>0.16</td>\n      <td>0.408692</td>\n      <td>0.495238</td>\n      <td>0.360133</td>\n      <td>0.363154</td>\n      <td>0.510071</td>\n      <td>0.16</td>\n      <td>0.342165</td>\n      <td>0.607073</td>\n      <td>0.490593</td>\n      <td>0.454380</td>\n      <td>0.509847</td>\n      <td>0.16</td>\n      <td>0.391012</td>\n      <td>0.320371</td>\n      <td>0.518345</td>\n      <td>0.331623</td>\n      <td>0.512149</td>\n      <td>0.16</td>\n    </tr>\n    <tr>\n      <th>91509</th>\n      <td>0.445676</td>\n      <td>1.0</td>\n      <td>0.0</td>\n      <td>-0.743145</td>\n      <td>-0.669131</td>\n      <td>-0.974928</td>\n      <td>-0.222521</td>\n      <td>0.965926</td>\n      <td>-0.258819</td>\n      <td>1.0</td>\n      <td>0.0</td>\n      <td>-0.743145</td>\n      <td>-0.669131</td>\n      <td>-0.974928</td>\n      <td>-0.222521</td>\n      <td>0.258819</td>\n      <td>9.659258e-01</td>\n      <td>0.552576</td>\n      <td>0.341285</td>\n      <td>0.491900</td>\n      <td>0.467125</td>\n      <td>0.284083</td>\n      <td>0.12</td>\n      <td>0.422776</td>\n      <td>0.510510</td>\n      <td>0.372000</td>\n      <td>0.410498</td>\n      <td>0.509847</td>\n      <td>0.12</td>\n      <td>0.374472</td>\n      <td>0.609140</td>\n      <td>0.529101</td>\n      <td>0.435500</td>\n      <td>0.512149</td>\n      <td>0.12</td>\n      <td>0.367569</td>\n      <td>0.296901</td>\n      <td>0.476079</td>\n      <td>0.307787</td>\n      <td>0.508224</td>\n      <td>0.12</td>\n    </tr>\n    <tr>\n      <th>91510</th>\n      <td>0.445676</td>\n      <td>1.0</td>\n      <td>0.0</td>\n      <td>-0.743145</td>\n      <td>-0.669131</td>\n      <td>-0.974928</td>\n      <td>-0.222521</td>\n      <td>0.965926</td>\n      <td>-0.258819</td>\n      <td>1.0</td>\n      <td>0.0</td>\n      <td>-0.743145</td>\n      <td>-0.669131</td>\n      <td>-0.974928</td>\n      <td>-0.222521</td>\n      <td>0.500000</td>\n      <td>8.660254e-01</td>\n      <td>0.563232</td>\n      <td>0.361214</td>\n      <td>0.501323</td>\n      <td>0.515961</td>\n      <td>0.283757</td>\n      <td>0.08</td>\n      <td>0.462694</td>\n      <td>0.512247</td>\n      <td>0.401200</td>\n      <td>0.388875</td>\n      <td>0.512149</td>\n      <td>0.08</td>\n      <td>0.347147</td>\n      <td>0.591655</td>\n      <td>0.487779</td>\n      <td>0.404197</td>\n      <td>0.508224</td>\n      <td>0.08</td>\n      <td>0.344321</td>\n      <td>0.284952</td>\n      <td>0.456924</td>\n      <td>0.309283</td>\n      <td>0.509084</td>\n      <td>0.08</td>\n    </tr>\n    <tr>\n      <th>91511</th>\n      <td>0.445676</td>\n      <td>1.0</td>\n      <td>0.0</td>\n      <td>-0.743145</td>\n      <td>-0.669131</td>\n      <td>-0.974928</td>\n      <td>-0.222521</td>\n      <td>0.965926</td>\n      <td>-0.258819</td>\n      <td>1.0</td>\n      <td>0.0</td>\n      <td>-0.743145</td>\n      <td>-0.669131</td>\n      <td>-0.974928</td>\n      <td>-0.222521</td>\n      <td>0.707107</td>\n      <td>7.071068e-01</td>\n      <td>0.593437</td>\n      <td>0.363482</td>\n      <td>0.524510</td>\n      <td>0.493657</td>\n      <td>0.287120</td>\n      <td>0.04</td>\n      <td>0.428931</td>\n      <td>0.497544</td>\n      <td>0.369867</td>\n      <td>0.353026</td>\n      <td>0.508224</td>\n      <td>0.04</td>\n      <td>0.320048</td>\n      <td>0.582754</td>\n      <td>0.469052</td>\n      <td>0.406162</td>\n      <td>0.509084</td>\n      <td>0.04</td>\n      <td>0.364525</td>\n      <td>0.282765</td>\n      <td>0.459173</td>\n      <td>0.305703</td>\n      <td>0.511696</td>\n      <td>0.04</td>\n    </tr>\n  </tbody>\n</table>\n<p>91512 rows × 41 columns</p>\n</div>"
     },
     "metadata": {},
     "execution_count": 6
    }
   ],
   "source": [
    "X_train_norm"
   ]
  },
  {
   "cell_type": "code",
   "execution_count": 7,
   "metadata": {},
   "outputs": [
    {
     "output_type": "execute_result",
     "data": {
      "text/plain": [
       "RandomForestRegressor(n_estimators=20, n_jobs=4, random_state=452543634)"
      ]
     },
     "metadata": {},
     "execution_count": 7
    }
   ],
   "source": [
    "from sklearn.ensemble import RandomForestRegressor\n",
    "\n",
    "N_ESTIMATORS = 20\n",
    "RANDOM_STATE = 452543634\n",
    "RF_model = RandomForestRegressor(n_estimators=N_ESTIMATORS, random_state=RANDOM_STATE, n_jobs=4)\n",
    "\n",
    "RF_model.fit(X_train_norm, y_train_norm)"
   ]
  },
  {
   "cell_type": "code",
   "execution_count": 8,
   "metadata": {},
   "outputs": [
    {
     "output_type": "stream",
     "name": "stdout",
     "text": [
      "Mean squared error on valid: 0.00045966155038540103\nMean squared error on valid inverse transformed from normalization: -74.14704736722378\n"
     ]
    }
   ],
   "source": [
    "result = evaluate_model_2(RF_model, X_valid_norm, y_valid_norm)"
   ]
  },
  {
   "source": [
    "### Simple LSTM"
   ],
   "cell_type": "markdown",
   "metadata": {}
  },
  {
   "cell_type": "code",
   "execution_count": 9,
   "metadata": {},
   "outputs": [],
   "source": [
    "# LSTM_CELL_SIZE=64\n",
    "BATCH_SIZE = 200\n",
    "EPOCHS = 15\n",
    "# DROPOUT_RATE=0.15"
   ]
  },
  {
   "source": [
    "#### Create an artificial 3rd dimension"
   ],
   "cell_type": "markdown",
   "metadata": {}
  },
  {
   "cell_type": "code",
   "execution_count": 10,
   "metadata": {},
   "outputs": [],
   "source": [
    "X_train_norm = X_train_norm.to_numpy().reshape(X_train_norm.shape[0], 1, X_train_norm.shape[1])\n",
    "X_valid_norm = X_valid_norm.to_numpy().reshape(X_valid_norm.shape[0], 1, X_valid_norm.shape[1])"
   ]
  },
  {
   "cell_type": "code",
   "execution_count": 11,
   "metadata": {},
   "outputs": [
    {
     "output_type": "stream",
     "name": "stdout",
     "text": [
      "Epoch 1/15\n",
      "458/458 [==============================] - 5s 6ms/step - loss: 0.0050 - val_loss: 0.0044\n",
      "Epoch 2/15\n",
      "458/458 [==============================] - 2s 5ms/step - loss: 7.1704e-04 - val_loss: 4.5943e-04\n",
      "Epoch 3/15\n",
      "458/458 [==============================] - 2s 5ms/step - loss: 4.8803e-04 - val_loss: 5.0523e-04\n",
      "Epoch 4/15\n",
      "458/458 [==============================] - 2s 5ms/step - loss: 4.1591e-04 - val_loss: 4.5310e-04\n",
      "Epoch 5/15\n",
      "458/458 [==============================] - 2s 5ms/step - loss: 4.7884e-04 - val_loss: 0.0021\n",
      "Epoch 6/15\n",
      "458/458 [==============================] - 2s 5ms/step - loss: 5.3771e-04 - val_loss: 5.4132e-04\n",
      "Epoch 7/15\n",
      "458/458 [==============================] - 2s 5ms/step - loss: 2.8547e-04 - val_loss: 4.6952e-04\n",
      "Epoch 8/15\n",
      "458/458 [==============================] - 2s 5ms/step - loss: 2.5147e-04 - val_loss: 4.3048e-04\n",
      "Epoch 9/15\n",
      "458/458 [==============================] - 2s 5ms/step - loss: 2.3212e-04 - val_loss: 4.3276e-04\n",
      "Epoch 10/15\n",
      "458/458 [==============================] - 2s 5ms/step - loss: 2.2046e-04 - val_loss: 4.2674e-04\n",
      "Epoch 11/15\n",
      "458/458 [==============================] - 2s 4ms/step - loss: 2.1351e-04 - val_loss: 4.4486e-04\n",
      "Epoch 12/15\n",
      "458/458 [==============================] - 2s 5ms/step - loss: 2.0815e-04 - val_loss: 4.2667e-04\n",
      "Epoch 13/15\n",
      "458/458 [==============================] - 2s 5ms/step - loss: 2.0349e-04 - val_loss: 4.3081e-04\n",
      "Epoch 14/15\n",
      "458/458 [==============================] - 2s 5ms/step - loss: 2.0975e-04 - val_loss: 7.1372e-04\n",
      "Epoch 15/15\n",
      "458/458 [==============================] - 2s 5ms/step - loss: 2.0722e-04 - val_loss: 4.2432e-04\n"
     ]
    }
   ],
   "source": [
    "import tensorflow\n",
    "from tensorflow.keras import Sequential\n",
    "from tensorflow.keras.layers import Dense, Dropout, LSTM\n",
    "from tensorflow.keras.callbacks import EarlyStopping\n",
    "from tensorflow.keras import backend as be\n",
    "from tensorflow.keras.callbacks import ModelCheckpoint, LearningRateScheduler\n",
    "\n",
    "column_count = np.shape(X_train_norm)[2]\n",
    "\n",
    "be.clear_session()\n",
    "\n",
    "# def schedule(epoch, lr):\n",
    "#    ...\n",
    "#    return lr\n",
    "\n",
    "# lr_scheduler = LearningRateScheduler(schedule)\n",
    "\n",
    "es = EarlyStopping(monitor='val_loss', mode='min', \n",
    "                   verbose=1, patience=5)\n",
    "mc = ModelCheckpoint('best_model.h5', monitor='val_loss', \n",
    "                     mode='min', save_best_only=True)\n",
    "\n",
    "# Build your whole LSTM model here!\n",
    "model = Sequential()\n",
    "model.add(LSTM(80, input_shape=(1, column_count), return_sequences=True))\n",
    "model.add(Dropout(0.2))\n",
    "model.add(LSTM(120))\n",
    "# model.add(Bidirectional(LSTM(150)))\n",
    "model.add(Dropout(0.4))\n",
    "model.add(Dense(1))\n",
    "\n",
    "#For shape remeber, we have a variable defining the \"window\" and the features in the window...\n",
    "optimizer = tensorflow.keras.optimizers.Adam(learning_rate=0.001)\n",
    "model.compile(loss='mean_squared_error', optimizer=optimizer)\n",
    "\n",
    "# Fit on the train data\n",
    "# USE the batch size parameter!\n",
    "# Use validation data - warning, a tuple of stuff!\n",
    "# Epochs as deemed necessary...\n",
    "# You should avoid shuffling the data maybe.\n",
    "# You can use the callbacks for LR schedule or model saving as seems fit.\n",
    "\n",
    "history = model.fit(X_train_norm, y=y_train_norm,\n",
    "                    validation_data=(X_valid_norm, y_valid_norm),\n",
    "                    shuffle=False,\n",
    "                    epochs=EPOCHS,\n",
    "                    batch_size=BATCH_SIZE,\n",
    "                    callbacks=[mc, es])"
   ]
  },
  {
   "cell_type": "code",
   "execution_count": 12,
   "metadata": {},
   "outputs": [
    {
     "output_type": "stream",
     "name": "stdout",
     "text": [
      "Mean squared error on valid: 0.00042431547780852314\nMean squared error on valid inverse transformed from normalization: -74.1557329576381\n"
     ]
    }
   ],
   "source": [
    "result = evaluate_model_2(model, X_valid_norm, y_valid_norm)"
   ]
  },
  {
   "source": [
    "#### Question: how can the inverse transformed version of the MSE be negative?"
   ],
   "cell_type": "markdown",
   "metadata": {}
  }
 ],
 "metadata": {
  "colab": {
   "collapsed_sections": [],
   "name": "Electricity_price_modeling_Sept2021.ipynb",
   "provenance": []
  },
  "kernelspec": {
   "name": "python3",
   "display_name": "Python 3.8.5 64-bit",
   "metadata": {
    "interpreter": {
     "hash": "59207fd7f0b9e8a74002b342f8f0f024dd546630f71269bce8138ef96ee36261"
    }
   }
  },
  "language_info": {
   "codemirror_mode": {
    "name": "ipython",
    "version": 3
   },
   "file_extension": ".py",
   "mimetype": "text/x-python",
   "name": "python",
   "nbconvert_exporter": "python",
   "pygments_lexer": "ipython3",
   "version": "3.8.5"
  }
 },
 "nbformat": 4,
 "nbformat_minor": 1
}