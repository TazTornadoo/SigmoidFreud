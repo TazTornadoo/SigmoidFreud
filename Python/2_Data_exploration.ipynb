{
 "cells": [
  {
   "cell_type": "code",
   "execution_count": 12,
   "metadata": {},
   "outputs": [],
   "source": [
    "import pandas as pd\n",
    "import numpy as np\n",
    "import xgboost as xgb\n",
    "from numpy import genfromtxt"
   ]
  },
  {
   "cell_type": "code",
   "execution_count": 3,
   "metadata": {},
   "outputs": [],
   "source": [
    "df = pd.read_csv(\"/workspaces/SigmoidFreud/Data/X_test_window_size_5_time_encoding_True.csv\", sep=',')"
   ]
  },
  {
   "cell_type": "code",
   "execution_count": 4,
   "metadata": {},
   "outputs": [
    {
     "name": "stdout",
     "output_type": "stream",
     "text": [
      "<class 'pandas.core.frame.DataFrame'>\n",
      "RangeIndex: 10704 entries, 0 to 10703\n",
      "Data columns (total 41 columns):\n",
      " #   Column                  Non-Null Count  Dtype  \n",
      "---  ------                  --------------  -----  \n",
      " 0   total_hours             10704 non-null  float64\n",
      " 1   dlvry_weekend           10704 non-null  float64\n",
      " 2   dlvry_bank_holiday      10704 non-null  float64\n",
      " 3   dlvry_day_sin           10704 non-null  float64\n",
      " 4   dlvry_day_cos           10704 non-null  float64\n",
      " 5   dlvry_weekday_sin       10704 non-null  float64\n",
      " 6   dlvry_weekday_cos       10704 non-null  float64\n",
      " 7   dlvry_hour_sin          10704 non-null  float64\n",
      " 8   dlvry_hour_cos          10704 non-null  float64\n",
      " 9   lasttrade_weekend       10704 non-null  float64\n",
      " 10  lasttrade_bank_holiday  10704 non-null  float64\n",
      " 11  lasttrade_day_sin       10704 non-null  float64\n",
      " 12  lasttrade_day_cos       10704 non-null  float64\n",
      " 13  lasttrade_weekday_sin   10704 non-null  float64\n",
      " 14  lasttrade_weekday_cos   10704 non-null  float64\n",
      " 15  lasttrade_hour_sin      10704 non-null  float64\n",
      " 16  lasttrade_hour_cos      10704 non-null  float64\n",
      " 17  0                       10704 non-null  float64\n",
      " 18  1                       10704 non-null  float64\n",
      " 19  2                       10704 non-null  float64\n",
      " 20  3                       10704 non-null  float64\n",
      " 21  4                       10704 non-null  float64\n",
      " 22  5                       10704 non-null  float64\n",
      " 23  6                       10704 non-null  float64\n",
      " 24  7                       10704 non-null  float64\n",
      " 25  8                       10704 non-null  float64\n",
      " 26  9                       10704 non-null  float64\n",
      " 27  10                      10704 non-null  float64\n",
      " 28  11                      10704 non-null  float64\n",
      " 29  12                      10704 non-null  float64\n",
      " 30  13                      10704 non-null  float64\n",
      " 31  14                      10704 non-null  float64\n",
      " 32  15                      10704 non-null  float64\n",
      " 33  16                      10704 non-null  float64\n",
      " 34  17                      10704 non-null  float64\n",
      " 35  18                      10704 non-null  float64\n",
      " 36  19                      10704 non-null  float64\n",
      " 37  20                      10704 non-null  float64\n",
      " 38  21                      10704 non-null  float64\n",
      " 39  22                      10704 non-null  float64\n",
      " 40  23                      10704 non-null  float64\n",
      "dtypes: float64(41)\n",
      "memory usage: 3.3 MB\n"
     ]
    }
   ],
   "source": [
    "df.info()"
   ]
  },
  {
   "cell_type": "code",
   "execution_count": 5,
   "metadata": {},
   "outputs": [
    {
     "data": {
      "text/html": [
       "<div>\n",
       "<style scoped>\n",
       "    .dataframe tbody tr th:only-of-type {\n",
       "        vertical-align: middle;\n",
       "    }\n",
       "\n",
       "    .dataframe tbody tr th {\n",
       "        vertical-align: top;\n",
       "    }\n",
       "\n",
       "    .dataframe thead th {\n",
       "        text-align: right;\n",
       "    }\n",
       "</style>\n",
       "<table border=\"1\" class=\"dataframe\">\n",
       "  <thead>\n",
       "    <tr style=\"text-align: right;\">\n",
       "      <th></th>\n",
       "      <th>total_hours</th>\n",
       "      <th>dlvry_weekend</th>\n",
       "      <th>dlvry_bank_holiday</th>\n",
       "      <th>dlvry_day_sin</th>\n",
       "      <th>dlvry_day_cos</th>\n",
       "      <th>dlvry_weekday_sin</th>\n",
       "      <th>dlvry_weekday_cos</th>\n",
       "      <th>dlvry_hour_sin</th>\n",
       "      <th>dlvry_hour_cos</th>\n",
       "      <th>lasttrade_weekend</th>\n",
       "      <th>...</th>\n",
       "      <th>14</th>\n",
       "      <th>15</th>\n",
       "      <th>16</th>\n",
       "      <th>17</th>\n",
       "      <th>18</th>\n",
       "      <th>19</th>\n",
       "      <th>20</th>\n",
       "      <th>21</th>\n",
       "      <th>22</th>\n",
       "      <th>23</th>\n",
       "    </tr>\n",
       "  </thead>\n",
       "  <tbody>\n",
       "    <tr>\n",
       "      <th>0</th>\n",
       "      <td>16.999015</td>\n",
       "      <td>1.0</td>\n",
       "      <td>0.0</td>\n",
       "      <td>0.571268</td>\n",
       "      <td>0.820763</td>\n",
       "      <td>-0.974928</td>\n",
       "      <td>-0.222521</td>\n",
       "      <td>1.0</td>\n",
       "      <td>6.123234e-17</td>\n",
       "      <td>0.0</td>\n",
       "      <td>...</td>\n",
       "      <td>-7.28</td>\n",
       "      <td>7.99</td>\n",
       "      <td>57.0</td>\n",
       "      <td>840.0</td>\n",
       "      <td>-9.32</td>\n",
       "      <td>-3.03</td>\n",
       "      <td>1.02</td>\n",
       "      <td>-5.92</td>\n",
       "      <td>16.3</td>\n",
       "      <td>780.0</td>\n",
       "    </tr>\n",
       "    <tr>\n",
       "      <th>1</th>\n",
       "      <td>16.999015</td>\n",
       "      <td>1.0</td>\n",
       "      <td>0.0</td>\n",
       "      <td>0.571268</td>\n",
       "      <td>0.820763</td>\n",
       "      <td>-0.974928</td>\n",
       "      <td>-0.222521</td>\n",
       "      <td>1.0</td>\n",
       "      <td>6.123234e-17</td>\n",
       "      <td>0.0</td>\n",
       "      <td>...</td>\n",
       "      <td>1.02</td>\n",
       "      <td>-5.92</td>\n",
       "      <td>16.3</td>\n",
       "      <td>780.0</td>\n",
       "      <td>10.52</td>\n",
       "      <td>-0.61</td>\n",
       "      <td>10.52</td>\n",
       "      <td>2.28</td>\n",
       "      <td>-72.0</td>\n",
       "      <td>720.0</td>\n",
       "    </tr>\n",
       "    <tr>\n",
       "      <th>2</th>\n",
       "      <td>16.999015</td>\n",
       "      <td>1.0</td>\n",
       "      <td>0.0</td>\n",
       "      <td>0.571268</td>\n",
       "      <td>0.820763</td>\n",
       "      <td>-0.974928</td>\n",
       "      <td>-0.222521</td>\n",
       "      <td>1.0</td>\n",
       "      <td>6.123234e-17</td>\n",
       "      <td>0.0</td>\n",
       "      <td>...</td>\n",
       "      <td>10.52</td>\n",
       "      <td>2.28</td>\n",
       "      <td>-72.0</td>\n",
       "      <td>720.0</td>\n",
       "      <td>1.00</td>\n",
       "      <td>1.59</td>\n",
       "      <td>-6.48</td>\n",
       "      <td>-6.57</td>\n",
       "      <td>321.8</td>\n",
       "      <td>660.0</td>\n",
       "    </tr>\n",
       "    <tr>\n",
       "      <th>3</th>\n",
       "      <td>16.999015</td>\n",
       "      <td>1.0</td>\n",
       "      <td>0.0</td>\n",
       "      <td>0.571268</td>\n",
       "      <td>0.820763</td>\n",
       "      <td>-0.974928</td>\n",
       "      <td>-0.222521</td>\n",
       "      <td>1.0</td>\n",
       "      <td>6.123234e-17</td>\n",
       "      <td>0.0</td>\n",
       "      <td>...</td>\n",
       "      <td>-6.48</td>\n",
       "      <td>-6.57</td>\n",
       "      <td>321.8</td>\n",
       "      <td>660.0</td>\n",
       "      <td>-7.86</td>\n",
       "      <td>-8.54</td>\n",
       "      <td>-9.76</td>\n",
       "      <td>-4.86</td>\n",
       "      <td>428.7</td>\n",
       "      <td>600.0</td>\n",
       "    </tr>\n",
       "    <tr>\n",
       "      <th>4</th>\n",
       "      <td>16.999015</td>\n",
       "      <td>1.0</td>\n",
       "      <td>0.0</td>\n",
       "      <td>0.571268</td>\n",
       "      <td>0.820763</td>\n",
       "      <td>-0.974928</td>\n",
       "      <td>-0.222521</td>\n",
       "      <td>1.0</td>\n",
       "      <td>6.123234e-17</td>\n",
       "      <td>0.0</td>\n",
       "      <td>...</td>\n",
       "      <td>-9.76</td>\n",
       "      <td>-4.86</td>\n",
       "      <td>428.7</td>\n",
       "      <td>600.0</td>\n",
       "      <td>-8.15</td>\n",
       "      <td>-3.65</td>\n",
       "      <td>-1.05</td>\n",
       "      <td>-0.68</td>\n",
       "      <td>-511.0</td>\n",
       "      <td>540.0</td>\n",
       "    </tr>\n",
       "  </tbody>\n",
       "</table>\n",
       "<p>5 rows × 41 columns</p>\n",
       "</div>"
      ],
      "text/plain": [
       "   total_hours  dlvry_weekend  dlvry_bank_holiday  dlvry_day_sin  \\\n",
       "0    16.999015            1.0                 0.0       0.571268   \n",
       "1    16.999015            1.0                 0.0       0.571268   \n",
       "2    16.999015            1.0                 0.0       0.571268   \n",
       "3    16.999015            1.0                 0.0       0.571268   \n",
       "4    16.999015            1.0                 0.0       0.571268   \n",
       "\n",
       "   dlvry_day_cos  dlvry_weekday_sin  dlvry_weekday_cos  dlvry_hour_sin  \\\n",
       "0       0.820763          -0.974928          -0.222521             1.0   \n",
       "1       0.820763          -0.974928          -0.222521             1.0   \n",
       "2       0.820763          -0.974928          -0.222521             1.0   \n",
       "3       0.820763          -0.974928          -0.222521             1.0   \n",
       "4       0.820763          -0.974928          -0.222521             1.0   \n",
       "\n",
       "   dlvry_hour_cos  lasttrade_weekend  ...     14    15     16     17     18  \\\n",
       "0    6.123234e-17                0.0  ...  -7.28  7.99   57.0  840.0  -9.32   \n",
       "1    6.123234e-17                0.0  ...   1.02 -5.92   16.3  780.0  10.52   \n",
       "2    6.123234e-17                0.0  ...  10.52  2.28  -72.0  720.0   1.00   \n",
       "3    6.123234e-17                0.0  ...  -6.48 -6.57  321.8  660.0  -7.86   \n",
       "4    6.123234e-17                0.0  ...  -9.76 -4.86  428.7  600.0  -8.15   \n",
       "\n",
       "     19     20    21     22     23  \n",
       "0 -3.03   1.02 -5.92   16.3  780.0  \n",
       "1 -0.61  10.52  2.28  -72.0  720.0  \n",
       "2  1.59  -6.48 -6.57  321.8  660.0  \n",
       "3 -8.54  -9.76 -4.86  428.7  600.0  \n",
       "4 -3.65  -1.05 -0.68 -511.0  540.0  \n",
       "\n",
       "[5 rows x 41 columns]"
      ]
     },
     "execution_count": 5,
     "metadata": {},
     "output_type": "execute_result"
    }
   ],
   "source": [
    "df.head(5)"
   ]
  },
  {
   "cell_type": "code",
   "execution_count": 6,
   "metadata": {},
   "outputs": [
    {
     "data": {
      "text/plain": [
       "(10704, 41)"
      ]
     },
     "execution_count": 6,
     "metadata": {},
     "output_type": "execute_result"
    }
   ],
   "source": [
    "df.shape"
   ]
  },
  {
   "cell_type": "code",
   "execution_count": 18,
   "metadata": {},
   "outputs": [],
   "source": [
    "X_train = genfromtxt(\"/workspaces/SigmoidFreud/Data/X_train_window_size_5_time_encoding_True.csv\", delimiter=',', skip_header=1)\n",
    "X_valid = genfromtxt(\"/workspaces/SigmoidFreud/Data/X_valid_window_size_5_time_encoding_True.csv\", delimiter=',', skip_header=1)\n",
    "X_test = genfromtxt(\"/workspaces/SigmoidFreud/Data/X_test_window_size_5_time_encoding_True.csv\", delimiter=',', skip_header=1)\n",
    "\n",
    "y_train = genfromtxt(\"/workspaces/SigmoidFreud/Data/y_train_window_size_5_time_encoding_True.csv\", delimiter=',', skip_header=1)\n",
    "y_valid = genfromtxt(\"/workspaces/SigmoidFreud/Data/y_valid_window_size_5_time_encoding_True.csv\", delimiter=',', skip_header=1)\n",
    "y_test = genfromtxt(\"/workspaces/SigmoidFreud/Data/y_test_window_size_5_time_encoding_True.csv\", delimiter=',', skip_header=1)\n"
   ]
  },
  {
   "cell_type": "code",
   "execution_count": 33,
   "metadata": {},
   "outputs": [],
   "source": [
    "from sklearn.metrics import mean_squared_error \n",
    "from math import sqrt\n",
    "def evaluate_model(model, X_valid, y_valid_true):\n",
    "    predictions = model.predict(X_valid)\n",
    "    rms = sqrt(mean_squared_error(y_valid_true, predictions))\n",
    "    print(\"Root mean squared error on valid:\",rms)\n",
    "    return rms"
   ]
  },
  {
   "cell_type": "code",
   "execution_count": 40,
   "metadata": {},
   "outputs": [],
   "source": [
    "dmatrix_train = xgb.DMatrix(data=X_train,label=y_train) \n",
    "dmatrix_valid = xgb.DMatrix(data=X_valid,label=y_valid)\n",
    "dmatrix_test = xgb.DMatrix(data=X_test,label=y_test)"
   ]
  },
  {
   "cell_type": "code",
   "execution_count": 43,
   "metadata": {},
   "outputs": [
    {
     "name": "stdout",
     "output_type": "stream",
     "text": [
      "[17:09:39] WARNING: ../src/objective/regression_obj.cu:171: reg:linear is now deprecated in favor of reg:squarederror.\n",
      "[17:09:39] WARNING: ../src/learner.cc:573: \n",
      "Parameters: { \"n_estimators\" } might not be used.\n",
      "\n",
      "  This may not be accurate due to some parameters are only used in language bindings but\n",
      "  passed down to XGBoost core.  Or some parameters are not used but slip through this\n",
      "  verification. Please open an issue if you find above cases.\n",
      "\n",
      "\n",
      "[0]\teval-rmse:5.14403\ttrain-rmse:3.39889\n",
      "[1]\teval-rmse:5.17879\ttrain-rmse:3.34742\n",
      "[2]\teval-rmse:5.18712\ttrain-rmse:3.31872\n",
      "[3]\teval-rmse:5.20033\ttrain-rmse:3.26728\n",
      "[4]\teval-rmse:5.20291\ttrain-rmse:3.25185\n",
      "[5]\teval-rmse:5.18161\ttrain-rmse:3.23683\n",
      "[6]\teval-rmse:5.18082\ttrain-rmse:3.20342\n",
      "[7]\teval-rmse:5.17404\ttrain-rmse:3.18230\n",
      "[8]\teval-rmse:5.18516\ttrain-rmse:3.16680\n",
      "[9]\teval-rmse:5.19832\ttrain-rmse:3.13192\n",
      "[10]\teval-rmse:5.21399\ttrain-rmse:3.11073\n",
      "[11]\teval-rmse:5.21575\ttrain-rmse:3.10428\n",
      "[12]\teval-rmse:5.21807\ttrain-rmse:3.08910\n",
      "[13]\teval-rmse:5.21943\ttrain-rmse:3.07082\n",
      "[14]\teval-rmse:5.18695\ttrain-rmse:3.04728\n",
      "[15]\teval-rmse:5.19079\ttrain-rmse:3.03468\n",
      "[16]\teval-rmse:5.20166\ttrain-rmse:3.02280\n",
      "[17]\teval-rmse:5.20099\ttrain-rmse:3.00830\n",
      "[18]\teval-rmse:5.20839\ttrain-rmse:2.97914\n",
      "[19]\teval-rmse:5.21385\ttrain-rmse:2.96887\n",
      "[20]\teval-rmse:5.19860\ttrain-rmse:2.94857\n",
      "[21]\teval-rmse:5.21835\ttrain-rmse:2.93818\n",
      "[22]\teval-rmse:5.24167\ttrain-rmse:2.92009\n",
      "[23]\teval-rmse:5.24407\ttrain-rmse:2.91326\n",
      "[24]\teval-rmse:5.24812\ttrain-rmse:2.89715\n",
      "[25]\teval-rmse:5.24743\ttrain-rmse:2.88701\n",
      "[26]\teval-rmse:5.24888\ttrain-rmse:2.87622\n",
      "[27]\teval-rmse:5.25865\ttrain-rmse:2.86572\n",
      "[28]\teval-rmse:5.24671\ttrain-rmse:2.84439\n",
      "[29]\teval-rmse:5.24772\ttrain-rmse:2.83397\n",
      "[30]\teval-rmse:5.24735\ttrain-rmse:2.82774\n",
      "[31]\teval-rmse:5.24455\ttrain-rmse:2.81879\n",
      "[32]\teval-rmse:5.25809\ttrain-rmse:2.80400\n",
      "[33]\teval-rmse:5.26438\ttrain-rmse:2.79005\n",
      "[34]\teval-rmse:5.26323\ttrain-rmse:2.77719\n",
      "[35]\teval-rmse:5.26542\ttrain-rmse:2.76417\n",
      "[36]\teval-rmse:5.26097\ttrain-rmse:2.75571\n",
      "[37]\teval-rmse:5.26710\ttrain-rmse:2.74728\n",
      "[38]\teval-rmse:5.26762\ttrain-rmse:2.73511\n",
      "[39]\teval-rmse:5.25588\ttrain-rmse:2.72271\n",
      "[40]\teval-rmse:5.25775\ttrain-rmse:2.71747\n",
      "[41]\teval-rmse:5.26483\ttrain-rmse:2.69456\n",
      "[42]\teval-rmse:5.26393\ttrain-rmse:2.68474\n",
      "[43]\teval-rmse:5.26352\ttrain-rmse:2.67339\n",
      "[44]\teval-rmse:5.27618\ttrain-rmse:2.65952\n",
      "[45]\teval-rmse:5.27543\ttrain-rmse:2.64823\n",
      "[46]\teval-rmse:5.27675\ttrain-rmse:2.64085\n",
      "[47]\teval-rmse:5.28033\ttrain-rmse:2.63411\n",
      "[48]\teval-rmse:5.28111\ttrain-rmse:2.63063\n",
      "[49]\teval-rmse:5.27935\ttrain-rmse:2.62386\n"
     ]
    }
   ],
   "source": [
    "params = {'objective': 'reg:linear', 'eval_metric': 'rmse', 'n_estimators': 100000}\n",
    "evallist = [(dmatrix_valid, 'eval'), (dmatrix_train, 'train')]\n",
    "xg_reg = xgb.train(params = params, dtrain=dmatrix_train, num_boost_round=50, evals=evallist)"
   ]
  },
  {
   "cell_type": "code",
   "execution_count": 44,
   "metadata": {},
   "outputs": [
    {
     "name": "stdout",
     "output_type": "stream",
     "text": [
      "Root mean squared error on valid: 4.8639959706365055\n"
     ]
    }
   ],
   "source": [
    "result = evaluate_model(xg_reg, dmatrix_test, dmatrix_test.get_label())"
   ]
  },
  {
   "cell_type": "code",
   "execution_count": 25,
   "metadata": {},
   "outputs": [
    {
     "data": {
      "text/plain": [
       "RandomForestRegressor(n_estimators=10, n_jobs=-1, random_state=42069)"
      ]
     },
     "execution_count": 25,
     "metadata": {},
     "output_type": "execute_result"
    }
   ],
   "source": [
    "from sklearn.ensemble import RandomForestRegressor\n",
    "RF_base_model = RandomForestRegressor(n_estimators = 10, random_state=42069, n_jobs= -1)\n",
    "RF_base_model.fit(X_train, y_train)"
   ]
  },
  {
   "cell_type": "code",
   "execution_count": 31,
   "metadata": {},
   "outputs": [
    {
     "name": "stdout",
     "output_type": "stream",
     "text": [
      "Root mean squared error on valid: 5.075530350490662\n"
     ]
    }
   ],
   "source": [
    "result = evaluate_model(RF_base_model, X_test, y_test)"
   ]
  }
 ],
 "metadata": {
  "interpreter": {
   "hash": "aee8b7b246df8f9039afb4144a1f6fd8d2ca17a180786b69acc140d282b71a49"
  },
  "kernelspec": {
   "display_name": "Python 3.9.1 64-bit",
   "name": "python3"
  },
  "language_info": {
   "codemirror_mode": {
    "name": "ipython",
    "version": 3
   },
   "file_extension": ".py",
   "mimetype": "text/x-python",
   "name": "python",
   "nbconvert_exporter": "python",
   "pygments_lexer": "ipython3",
   "version": "3.8.12"
  },
  "orig_nbformat": 4
 },
 "nbformat": 4,
 "nbformat_minor": 2
}
