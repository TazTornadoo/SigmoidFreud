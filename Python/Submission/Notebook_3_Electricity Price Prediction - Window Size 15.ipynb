{
 "cells": [
  {
   "cell_type": "markdown",
   "metadata": {
    "id": "gSa2MDIf8bJl"
   },
   "source": [
    "# <b>Notebook-3: Electricity Price Prediction - Window Size 15</b>\n",
    "by Qianjing Liang (8434350), Daniel Barbie (4939697), Jacob Umland (8436406),  Fan Jia (8436217), Jan Faulstich (8439328)"
   ]
  },
  {
   "cell_type": "markdown",
   "metadata": {
    "id": "5FVGL4igF1gQ"
   },
   "source": [
    "# Preparations\n",
    "<b>Firstly, we downloaded the data, imported necessary packages and loaded the data into DataFrames. We have also created a dataframe for summarizing the models' performance. </b>"
   ]
  },
  {
   "cell_type": "code",
   "execution_count": 1,
   "metadata": {
    "colab": {
     "base_uri": "https://localhost:8080/"
    },
    "executionInfo": {
     "elapsed": 3740,
     "status": "ok",
     "timestamp": 1636495163661,
     "user": {
      "displayName": "Jan Faulstich",
      "photoUrl": "https://lh3.googleusercontent.com/a/default-user=s64",
      "userId": "01448353606380084380"
     },
     "user_tz": -60
    },
    "id": "0kXqFJuvOXpJ",
    "outputId": "2c45b0ef-af3f-4f37-fd06-c25fc18b947d"
   },
   "outputs": [
    {
     "name": "stdout",
     "output_type": "stream",
     "text": [
      "Requirement already satisfied: tensorflow-addons in /usr/local/lib/python3.7/dist-packages (0.14.0)\n",
      "Requirement already satisfied: typeguard>=2.7 in /usr/local/lib/python3.7/dist-packages (from tensorflow-addons) (2.7.1)\n"
     ]
    }
   ],
   "source": [
    "pip install tensorflow-addons"
   ]
  },
  {
   "cell_type": "code",
   "execution_count": 2,
   "metadata": {
    "colab": {
     "base_uri": "https://localhost:8080/"
    },
    "executionInfo": {
     "elapsed": 4,
     "status": "ok",
     "timestamp": 1636495163661,
     "user": {
      "displayName": "Jan Faulstich",
      "photoUrl": "https://lh3.googleusercontent.com/a/default-user=s64",
      "userId": "01448353606380084380"
     },
     "user_tz": -60
    },
    "id": "rTAAI259Sslq",
    "outputId": "793a8e49-d11a-44dc-ea55-887f29de1af0"
   },
   "outputs": [
    {
     "name": "stdout",
     "output_type": "stream",
     "text": [
      "Drive already mounted at /content/gdrive; to attempt to forcibly remount, call drive.mount(\"/content/gdrive\", force_remount=True).\n",
      "/content/gdrive/MyDrive/Electricity_Data\n"
     ]
    }
   ],
   "source": [
    "from google.colab import drive\n",
    "drive.mount('/content/gdrive')\n",
    "%cd /content/gdrive/MyDrive/Electricity_Data"
   ]
  },
  {
   "cell_type": "code",
   "execution_count": 3,
   "metadata": {
    "colab": {
     "base_uri": "https://localhost:8080/"
    },
    "executionInfo": {
     "elapsed": 3356,
     "status": "ok",
     "timestamp": 1636495167015,
     "user": {
      "displayName": "Jan Faulstich",
      "photoUrl": "https://lh3.googleusercontent.com/a/default-user=s64",
      "userId": "01448353606380084380"
     },
     "user_tz": -60
    },
    "id": "9n31apy383Mu",
    "outputId": "56bfb2db-1d6e-42b7-a865-6564040584d4"
   },
   "outputs": [
    {
     "name": "stderr",
     "output_type": "stream",
     "text": [
      "/usr/local/lib/python3.7/dist-packages/tensorflow_addons/utils/ensure_tf_install.py:67: UserWarning: Tensorflow Addons supports using Python ops for all Tensorflow versions above or equal to 2.4.0 and strictly below 2.7.0 (nightly versions are not supported). \n",
      " The versions of TensorFlow you are currently using is 2.7.0 and is not supported. \n",
      "Some things might work, some things might not.\n",
      "If you were to encounter a bug, do not file an issue.\n",
      "If you want to make sure you're using a tested and supported configuration, either change the TensorFlow version or the TensorFlow Addons's version. \n",
      "You can find the compatibility matrix in TensorFlow Addon's readme:\n",
      "https://github.com/tensorflow/addons\n",
      "  UserWarning,\n"
     ]
    }
   ],
   "source": [
    "#Imports basic packages for our tasks\n",
    "import pandas as pd\n",
    "import numpy as np\n",
    "import pickle\n",
    "\n",
    "#Imports visualization packages\n",
    "import matplotlib.pyplot as plt\n",
    "import seaborn as sns\n",
    "\n",
    "#Import ML packages\n",
    "from sklearn.linear_model import LinearRegression\n",
    "from sklearn.dummy import DummyRegressor\n",
    "from sklearn.ensemble import RandomForestRegressor\n",
    "from sklearn.svm import SVR\n",
    "from sklearn.pipeline import Pipeline\n",
    "from sklearn.compose import ColumnTransformer\n",
    "from sklearn.neighbors import KNeighborsRegressor\n",
    "from sklearn.metrics import mean_absolute_error, r2_score, make_scorer, mean_squared_error\n",
    "from sklearn.preprocessing import MinMaxScaler, PolynomialFeatures\n",
    "from sklearn.model_selection import GridSearchCV, cross_val_score\n",
    "import lightgbm as lgb\n",
    "\n",
    "#Import DL packages\n",
    "import tensorflow as tf\n",
    "import tensorflow.keras as k \n",
    "from keras.models import *\n",
    "from keras.layers import merge\n",
    "from keras.layers.core import *\n",
    "from tensorflow.keras import Model, Sequential\n",
    "from tensorflow.keras import backend as be\n",
    "from tensorflow.keras.layers import *\n",
    "from tensorflow.keras.layers import Dense, Dropout, Input, Conv1D, MaxPool1D, Embedding, Attention\n",
    "from tensorflow.keras.callbacks import ModelCheckpoint, LearningRateScheduler, EarlyStopping\n",
    "from tensorflow.keras.optimizers import Adadelta, Adam, RMSprop\n",
    "from tensorflow.keras.regularizers import *\n",
    "from tensorflow.math import exp\n",
    "import tensorflow_addons as tfa\n",
    "\n",
    "import warnings\n",
    "warnings.filterwarnings('ignore')"
   ]
  },
  {
   "cell_type": "code",
   "execution_count": 4,
   "metadata": {
    "executionInfo": {
     "elapsed": 1354,
     "status": "ok",
     "timestamp": 1636495168364,
     "user": {
      "displayName": "Jan Faulstich",
      "photoUrl": "https://lh3.googleusercontent.com/a/default-user=s64",
      "userId": "01448353606380084380"
     },
     "user_tz": -60
    },
    "id": "Wn6ykoiI9sTr"
   },
   "outputs": [],
   "source": [
    "#Load the datasets with a sliding window size of 15\n",
    "X_train_window_size_15 = pd.read_csv('X_train_window_size_15.csv')\n",
    "X_valid_window_size_15 = pd.read_csv('X_valid_window_size_15.csv')\n",
    "X_test_window_size_15 = pd.read_csv('X_test_window_size_15.csv')\n",
    "X_train_window_size_15_tree = pd.read_csv('X_train_window_size_15_tree.csv')\n",
    "X_valid_window_size_15_tree = pd.read_csv('X_valid_window_size_15_tree.csv')\n",
    "X_test_window_size_15_tree = pd.read_csv('X_test_window_size_15_tree.csv')\n",
    "y_train_window_size_15 = pd.read_csv('y_train_window_size_15.csv')\n",
    "y_valid_window_size_15 = pd.read_csv('y_valid_window_size_15.csv')\n",
    "y_test_window_size_15 = pd.read_csv('y_test_window_size_15.csv')"
   ]
  },
  {
   "cell_type": "code",
   "execution_count": 5,
   "metadata": {
    "executionInfo": {
     "elapsed": 6,
     "status": "ok",
     "timestamp": 1636495168365,
     "user": {
      "displayName": "Jan Faulstich",
      "photoUrl": "https://lh3.googleusercontent.com/a/default-user=s64",
      "userId": "01448353606380084380"
     },
     "user_tz": -60
    },
    "id": "04g6eCVJdLso"
   },
   "outputs": [],
   "source": [
    "y_train_window_size_15 = y_train_window_size_15['y']\n",
    "y_valid_window_size_15 = y_valid_window_size_15['y']\n",
    "y_test_window_size_15 = y_test_window_size_15['y']"
   ]
  },
  {
   "cell_type": "code",
   "execution_count": 6,
   "metadata": {
    "executionInfo": {
     "elapsed": 448,
     "status": "ok",
     "timestamp": 1636495168809,
     "user": {
      "displayName": "Jan Faulstich",
      "photoUrl": "https://lh3.googleusercontent.com/a/default-user=s64",
      "userId": "01448353606380084380"
     },
     "user_tz": -60
    },
    "id": "TFt0AP2_R5nG"
   },
   "outputs": [],
   "source": [
    "# Prepare a dataframe to store the performance of all models\n",
    "performance_df = pd.DataFrame(columns=['Model', 'MAE score (on test set)', 'MSE score (on test set)'])"
   ]
  },
  {
   "cell_type": "markdown",
   "metadata": {
    "id": "be6o3zgDFHtc"
   },
   "source": [
    "# Conventional ML models\n",
    "<b>In the second part, conventional ML models are used to make predictions, serving as a baseline to be compared with DL approaches. </b>\n"
   ]
  },
  {
   "cell_type": "markdown",
   "metadata": {
    "id": "MAfDUGoQJXb9"
   },
   "source": [
    "### Evaluation Functions: MAE"
   ]
  },
  {
   "cell_type": "code",
   "execution_count": 7,
   "metadata": {
    "executionInfo": {
     "elapsed": 7,
     "status": "ok",
     "timestamp": 1636495168809,
     "user": {
      "displayName": "Jan Faulstich",
      "photoUrl": "https://lh3.googleusercontent.com/a/default-user=s64",
      "userId": "01448353606380084380"
     },
     "user_tz": -60
    },
    "id": "dMgHAsOIDgZh"
   },
   "outputs": [],
   "source": [
    "def evaluate_model(model, X_test, y_test_true):\n",
    "    predictions = model.predict(X_test)\n",
    "    mae = mean_absolute_error(y_test_true, predictions)\n",
    "    mse = mean_squared_error(y_test_true, predictions)\n",
    "    print(\"Mean absolut error on test:\", mae)\n",
    "    print(\"Mean squared error on test:\", mse)\n",
    "    return mae, mse"
   ]
  },
  {
   "cell_type": "code",
   "execution_count": 8,
   "metadata": {
    "executionInfo": {
     "elapsed": 6,
     "status": "ok",
     "timestamp": 1636495168809,
     "user": {
      "displayName": "Jan Faulstich",
      "photoUrl": "https://lh3.googleusercontent.com/a/default-user=s64",
      "userId": "01448353606380084380"
     },
     "user_tz": -60
    },
    "id": "ygVbPd8F3Bo0"
   },
   "outputs": [],
   "source": [
    "def evaluate_3Dmodel(model, X_test, y_test_true):\n",
    "    predictions = model.predict(X_test)\n",
    "    predictions = predictions[:, -1]\n",
    "    mae = mean_absolute_error(y_test_true, predictions)\n",
    "    mse = mean_squared_error(y_test_true, predictions)\n",
    "    print(\"Mean absolut error on test:\", mae)\n",
    "    return mae, mse"
   ]
  },
  {
   "cell_type": "markdown",
   "metadata": {
    "id": "9QBCkmPtKVYt"
   },
   "source": [
    "## Dummy regressor\n",
    "Takeaways:"
   ]
  },
  {
   "cell_type": "code",
   "execution_count": 9,
   "metadata": {
    "colab": {
     "base_uri": "https://localhost:8080/"
    },
    "executionInfo": {
     "elapsed": 6,
     "status": "ok",
     "timestamp": 1636495168810,
     "user": {
      "displayName": "Jan Faulstich",
      "photoUrl": "https://lh3.googleusercontent.com/a/default-user=s64",
      "userId": "01448353606380084380"
     },
     "user_tz": -60
    },
    "id": "171ofxYqKZqt",
    "outputId": "b8809ab4-2990-44ac-aedd-bd20f2f5d5d0"
   },
   "outputs": [
    {
     "name": "stdout",
     "output_type": "stream",
     "text": [
      "Mean absolut error on test: 3.01123314148565\n",
      "Mean squared error on test: 41.92988765321217\n"
     ]
    }
   ],
   "source": [
    "# Modeling\n",
    "dummy_model = DummyRegressor()\n",
    "dummy_model.fit(X_train_window_size_15, y_train_window_size_15)\n",
    "\n",
    "# Evaluate model performance and store it\n",
    "mae, mse = evaluate_model(dummy_model, X_test_window_size_15, y_test_window_size_15)\n",
    "performance_df = performance_df.append({'Model': 'Dummy Regressor', \n",
    "                                        'MAE score (on test set)': round(mae, 4),\n",
    "                                        'MSE score (on test set)': round(mse, 4)},\n",
    "                                       ignore_index=True)"
   ]
  },
  {
   "cell_type": "markdown",
   "metadata": {
    "id": "yinsq3ETKads"
   },
   "source": [
    "## Linear Regression\n",
    "As expected, the linear models performed poorly for our data, as indicated by the R2 scores for both degree 1 and degree 2 models. The near 0 R2 scores for both validation and testing suggest that dependent variable cannot be explained by our data. Even though in the plots, the predicted y basically covered the actual y, the non-linear nature of our data cannot be captured by linear models. Due to the computational limitation, we only include the degree 2 polynomial regression, which has already served our purpose. "
   ]
  },
  {
   "cell_type": "markdown",
   "metadata": {
    "id": "Hhp6xTm2SJLQ"
   },
   "source": [
    "### Helper functions"
   ]
  },
  {
   "cell_type": "code",
   "execution_count": 10,
   "metadata": {
    "executionInfo": {
     "elapsed": 4,
     "status": "ok",
     "timestamp": 1636495168810,
     "user": {
      "displayName": "Jan Faulstich",
      "photoUrl": "https://lh3.googleusercontent.com/a/default-user=s64",
      "userId": "01448353606380084380"
     },
     "user_tz": -60
    },
    "id": "xH4dFDnYKcuG"
   },
   "outputs": [],
   "source": [
    "# Modify the helper functions specifically for the linear models\n",
    "# Function to perform Cross Validation on Linear Models\n",
    "def get_cv_scores(model, X_train, y_train):\n",
    "    scores = cross_val_score(model, X_train, y_train, cv=5, scoring='r2')\n",
    "    print('CV Mean of R2: ', np.mean(scores))\n",
    "    print('CV STD of R2: ', np.std(scores))\n",
    "\n",
    "# Function to evaluate Linear Models with plots\n",
    "def evaluate_valid(model, X_valid, y_valid, X_test, y_test):\n",
    "    predictions_valid = model.predict(X_valid)\n",
    "    mae_valid = mean_absolute_error(y_valid, predictions_valid)\n",
    "    r2_valid = r2_score(y_valid, predictions_valid)\n",
    "    print(\"Validation MAE:\", mae_valid)\n",
    "    print(\"Validation R2:\", r2_valid)\n",
    "\n",
    "    predictions_test = model.predict(X_test)\n",
    "    mae_test = mean_absolute_error(y_test, predictions_test)\n",
    "    mse_test = mean_squared_error(y_test, predictions_test)\n",
    "    r2_test = r2_score(y_test, predictions_test)\n",
    "    print(\"Test MAE:\", mae_test)\n",
    "    print(\"Test R2:\", r2_test)\n",
    "    \n",
    "    fig=plt.figure()\n",
    "    ax=fig.add_axes([0,0,1,1])\n",
    "    ax.scatter(y_valid, predictions_valid, color='r', label='valid set', alpha=0.2)\n",
    "    ax.scatter(y_test, predictions_test, color='b', label='test set', alpha=0.2)\n",
    "    ax.set_title('Distributions of predicted and real Y')\n",
    "    ax.set_xlabel('Actual Y')\n",
    "    ax.set_ylabel('Predicted Y')\n",
    "    ax.legend()\n",
    "\n",
    "    return mae_test, mse_test"
   ]
  },
  {
   "cell_type": "code",
   "execution_count": 11,
   "metadata": {
    "colab": {
     "base_uri": "https://localhost:8080/",
     "height": 468
    },
    "executionInfo": {
     "elapsed": 1977,
     "status": "ok",
     "timestamp": 1636495170784,
     "user": {
      "displayName": "Jan Faulstich",
      "photoUrl": "https://lh3.googleusercontent.com/a/default-user=s64",
      "userId": "01448353606380084380"
     },
     "user_tz": -60
    },
    "id": "WkA-SuEiiSzr",
    "outputId": "6de2210e-6cde-40fe-ee2d-e2bfc671b434"
   },
   "outputs": [
    {
     "name": "stdout",
     "output_type": "stream",
     "text": [
      "CV Mean of R2:  -0.04501339090207068\n",
      "CV STD of R2:  0.028563834037815462\n",
      "Validation MAE: 3.557461004974547\n",
      "Validation R2: -0.050174386490726475\n",
      "Test MAE: 3.1070344651482813\n",
      "Test R2: -0.038126406257168455\n"
     ]
    },
    {
     "data": {
      "image/png": "[encoded data removed]",
      "text/plain": [
       "<Figure size 432x288 with 1 Axes>"
      ]
     },
     "metadata": {
      "needs_background": "light"
     },
     "output_type": "display_data"
    }
   ],
   "source": [
    "# Direct Linear Modling on Original Data \n",
    "model_lr = LinearRegression(copy_X=True, n_jobs=100)\n",
    "model_lr.fit(X_train_window_size_15, y_train_window_size_15)\n",
    "\n",
    "# Evaluate model performance and store it\n",
    "get_cv_scores(model_lr, X_train_window_size_15, y_train_window_size_15)\n",
    "mae, mse = evaluate_valid(model_lr, X_valid_window_size_15, y_valid_window_size_15, X_test_window_size_15, y_test_window_size_15)\n",
    "\n",
    "performance_df = performance_df.append({'Model': 'Linear Regression', \n",
    "                                        'MAE score (on test set)': round(mae, 4),\n",
    "                                        'MSE score (on test set)': round(mse, 4)},\n",
    "                                       ignore_index=True)"
   ]
  },
  {
   "cell_type": "code",
   "execution_count": 12,
   "metadata": {
    "colab": {
     "base_uri": "https://localhost:8080/",
     "height": 468
    },
    "executionInfo": {
     "elapsed": 183828,
     "status": "ok",
     "timestamp": 1636495998861,
     "user": {
      "displayName": "Jan Faulstich",
      "photoUrl": "https://lh3.googleusercontent.com/a/default-user=s64",
      "userId": "01448353606380084380"
     },
     "user_tz": -60
    },
    "id": "WJSI2Jo8iSzs",
    "outputId": "9420513f-394e-41fd-de56-8a9bda06201d"
   },
   "outputs": [
    {
     "name": "stdout",
     "output_type": "stream",
     "text": [
      "CV Mean of R2:  -35.95228562453596\n",
      "CV STD of R2:  64.49163346021064\n",
      "Validation MAE: 5.220299393340016\n",
      "Validation R2: -1.1002928290761949\n",
      "Test MAE: 4.919223066456531\n",
      "Test R2: -1.6395526636945683\n"
     ]
    },
    {
     "data": {
      "image/png": "[encoded data removed]",
      "text/plain": [
       "<Figure size 432x288 with 1 Axes>"
      ]
     },
     "metadata": {
      "needs_background": "light"
     },
     "output_type": "display_data"
    }
   ],
   "source": [
    "# Polynomial Regression (Degree=2) \n",
    "# Transformation of X_train/valid/test datasets\n",
    "polynomial_features= PolynomialFeatures(degree=2)\n",
    "X_train_15_poly = polynomial_features.fit_transform(X_train_window_size_15)\n",
    "X_valid_15_poly = polynomial_features.fit_transform(X_valid_window_size_15)\n",
    "X_test_15_poly = polynomial_features.fit_transform(X_test_window_size_15)\n",
    "\n",
    "# Modeling\n",
    "model_lr = LinearRegression(normalize=True, copy_X=True, n_jobs=100)\n",
    "model_lr.fit(X_train_15_poly, y_train_window_size_15)\n",
    "get_cv_scores(model_lr, X_train_15_poly, y_train_window_size_15)\n",
    "\n",
    "# Evaluate model performance and store it\n",
    "mae, mse = evaluate_valid(model_lr, X_valid_15_poly, y_valid_window_size_15, X_test_15_poly, y_test_window_size_15)\n",
    "performance_df = performance_df.append({'Model': 'Linear Regression (poly transformed)', \n",
    "                                        'MAE score (on test set)': round(mae, 4),\n",
    "                                        'MSE score (on test set)': round(mse, 4)},\n",
    "                                       ignore_index=True)"
   ]
  },
  {
   "cell_type": "markdown",
   "metadata": {
    "id": "QubESi9OKe9F"
   },
   "source": [
    "## Random Forrest\n",
    "- **Intro**:\n",
    "\n",
    "    The Random Forest method fits on the training data using an ensemble of decision trees. An important feature of the model is that it helps avoid overfitting by building each of the tree with a sample of data points as well as a sample of the features of the original training dataset.\n",
    "\n",
    "- **Input data**:\n",
    "\n",
    "    > Training dataset: `X_train_window_size_15_tree` and `y_train_window_size_15`\\\n",
    "    > Validation dataset: `X_valid_window_size_15_tree` and `y_valid_window_size_15`\\\n",
    "    > Testing dataset: `X_test_window_size_15_tree` and `y_test_window_size_15`\n",
    "    \n",
    "    Apart from normalization, the datasets used for Random Forest modelling have also been transformed in terms of their datetime columns, such as for the variable `lasttrade_weekday`. These columns originally consisted of two sets of variables to express a certain datetime point, which has been preprocessed and converted back to their original value.\n",
    "\n",
    "- **Architecture**:\n",
    "\n",
    "    After comparing the models' performance on the validation dataset using GridSearchCV, the best combination of parameters for the Random Forest Regressor is:\n",
    "    | Parameter name    | Value  |\n",
    "    |-------------------|--------|\n",
    "    | n_estimators      | 300    |\n",
    "    | max_features      | 'sqrt' |\n",
    "    | min_samples_split | 10     |\n",
    "    | max_depth         | 8      |\n",
    "    \n",
    "It is worth noting that our group has also tried dropping features that are deemed the least important by the Random Forest model after performing the Grid Search, and there seemed to be little improvement in the model's performance, which is why this part has been excluded here."
   ]
  },
  {
   "cell_type": "code",
   "execution_count": 13,
   "metadata": {
    "colab": {
     "base_uri": "https://localhost:8080/"
    },
    "executionInfo": {
     "elapsed": 19146,
     "status": "ok",
     "timestamp": 1636496018006,
     "user": {
      "displayName": "Jan Faulstich",
      "photoUrl": "https://lh3.googleusercontent.com/a/default-user=s64",
      "userId": "01448353606380084380"
     },
     "user_tz": -60
    },
    "id": "8DmMkD5RiSzt",
    "outputId": "bba16409-9668-4eb6-f13b-2d4c3fdddc9a"
   },
   "outputs": [
    {
     "name": "stdout",
     "output_type": "stream",
     "text": [
      "Mean absolut error on test: 3.038908218088867\n",
      "Mean squared error on test: 43.36783762861576\n"
     ]
    }
   ],
   "source": [
    "# Modeling\n",
    "rfmodel = RandomForestRegressor(random_state=3315, \n",
    "                                max_depth=8,\n",
    "                                n_estimators=300,\n",
    "                                max_features='sqrt',\n",
    "                                min_samples_split=10,\n",
    "                                criterion='mse', n_jobs=-1)\n",
    "rfmodel.fit(X_train_window_size_15_tree, y_train_window_size_15)\n",
    "\n",
    "# Evaluate model performance and store it\n",
    "mae, mse = evaluate_model(rfmodel, X_test_window_size_15_tree, y_test_window_size_15)\n",
    "\n",
    "performance_df = performance_df.append({'Model': 'Random Forest', \n",
    "                                        'MAE score (on test set)': round(mae, 4),\n",
    "                                        'MSE score (on test set)': round(mse, 4)},\n",
    "                                       ignore_index=True)"
   ]
  },
  {
   "cell_type": "markdown",
   "metadata": {
    "id": "ggSt_eL43Bo4"
   },
   "source": [
    "- **Brief summary**:\n",
    "\n",
    "    > As shown in the cell below, the Random Forest model's performance on the test dataset is 3.0389 in terms of MAE.\n",
    "    \n",
    "    ___Limitations___: \n",
    "    \n",
    "    While Random Forest takes advantage of the power of ensemble, which helps avoid overfitting, it simply aggregates all the individual decision trees by training them in parallel. In other words, the trees within the Random Forest model are independent from each other and thus can't learn from each other. To address this disadvantage, we have also tried ensemble of boosted trees as shown in the following section."
   ]
  },
  {
   "cell_type": "markdown",
   "metadata": {
    "id": "7FJGi6FvKjuv"
   },
   "source": [
    "## Gradient Boosting\n",
    "Takeaways:\n",
    "\n",
    "LightGBM is a gradient boosting framework using tree based approaches. Gradient boosting comes from the idea whether a weak learner can modified to become even better. Additionally, we can state that a Gradient Boosting algorithm consists of 3 elements: 1. a loss function, which needs to be optimized. 2. A weak learner to make predictions of the input data and 3. An additive model which adds weak learners to minimize the loss function. Basically, this means each new added weak learner is trained one minimizing the errors of the previous models.\n",
    "\n",
    "In the beginning we stated the LightGBM is using tree based approaches. This also means for us that we have to conserve the sin/cos features of the time series into real integers because a tree will split its decision after one feature even though the sin/cos of the columns is one feature. \n",
    "In the previous preprocessing notebook we encoded these time series sin/cos features to use LightGBM properly. Gradient Boosting algorithms are aggressive learners which means they overfit fast. That’s why we first have to drop all features with a high correlation.\n",
    "\n",
    "The architecture is really simple since we only need to define the right parameters. Since our group decided to optimize the model for the mean absolute error. The objective was set to regression_l1 and the metric is ‚mae‘ (mean absolute error). The parameters num_leaves and num_round are the most important parameters to tune because these regulate the over-/underfitting of our model. After several trials we identified a small number of leaves with 38 and 17 num of rounds.\n",
    "\n",
    "\n",
    "Performance:\n",
    "\n",
    "The LightGBM model is our best model and was able to achieve a slightly better mean absolute error than the DummyRegressor which was predicting the mean. By having a small number of leaves we regulated the overfitting of the model so it was able to capture more information of the training set to make better predictions on the test set.\n",
    "However, gradient boosting lacks the ability to capture time series information because it is a tree approach. In our opinion we were able to minimize the main disadvantage of overfitting but we think other models can be even better by also using the time series information correctly."
   ]
  },
  {
   "cell_type": "markdown",
   "metadata": {
    "id": "vxgieXwoiSzt"
   },
   "source": [
    "### LightGBM Model"
   ]
  },
  {
   "cell_type": "code",
   "execution_count": 14,
   "metadata": {
    "colab": {
     "base_uri": "https://localhost:8080/"
    },
    "executionInfo": {
     "elapsed": 971,
     "status": "ok",
     "timestamp": 1636496018976,
     "user": {
      "displayName": "Jan Faulstich",
      "photoUrl": "https://lh3.googleusercontent.com/a/default-user=s64",
      "userId": "01448353606380084380"
     },
     "user_tz": -60
    },
    "id": "2wg8qsTyiSzu",
    "outputId": "c17e7f58-05d8-4222-aeb1-249aa9db41ca"
   },
   "outputs": [
    {
     "name": "stdout",
     "output_type": "stream",
     "text": [
      "[1]\tvalid_0's l1: 3.47078\n",
      "[2]\tvalid_0's l1: 3.47027\n",
      "[3]\tvalid_0's l1: 3.46946\n",
      "[4]\tvalid_0's l1: 3.46942\n",
      "[5]\tvalid_0's l1: 3.46718\n",
      "[6]\tvalid_0's l1: 3.46787\n",
      "[7]\tvalid_0's l1: 3.46696\n",
      "[8]\tvalid_0's l1: 3.46824\n",
      "[9]\tvalid_0's l1: 3.46864\n",
      "[10]\tvalid_0's l1: 3.47049\n",
      "[11]\tvalid_0's l1: 3.46982\n",
      "[12]\tvalid_0's l1: 3.46922\n",
      "[13]\tvalid_0's l1: 3.47059\n",
      "[14]\tvalid_0's l1: 3.46897\n",
      "[15]\tvalid_0's l1: 3.46924\n",
      "[16]\tvalid_0's l1: 3.47006\n",
      "[17]\tvalid_0's l1: 3.47219\n",
      "Mean absolut error on test: 3.0055239022394464\n",
      "Mean squared error on test: 41.92262567122521\n"
     ]
    }
   ],
   "source": [
    "# Process data\n",
    "train_data = lgb.Dataset(X_train_window_size_15_tree, label=y_train_window_size_15)\n",
    "valid_data = lgb.Dataset(X_valid_window_size_15_tree, label=y_valid_window_size_15)\n",
    "test_data = lgb.Dataset(X_test_window_size_15_tree, label=y_test_window_size_15)\n",
    "\n",
    "# Modeling\n",
    "param = {'num_leaves': 38, 'objective': 'regression_l1', 'metric': 'mae'}\n",
    "num_round = 17\n",
    "bst = lgb.train(param, train_data, num_round, valid_sets=[valid_data])\n",
    "\n",
    "# Evaluate model performance and store it\n",
    "mae, mse = evaluate_model(bst, X_test_window_size_15_tree, y_test_window_size_15)\n",
    "performance_df = performance_df.append({'Model': 'LightGBM', \n",
    "                                        'MAE score (on test set)': round(mae, 4),\n",
    "                                        'MSE score (on test set)': round(mse, 4)},\n",
    "                                       ignore_index=True)"
   ]
  },
  {
   "cell_type": "markdown",
   "metadata": {
    "id": "v3_6Q1_LKpr_"
   },
   "source": [
    "## upport Vector Regression\n",
    "- **Intro**:\n",
    "\n",
    "    The Support Vector Regression model utilizes the kernel trick to project the original dataset to a higher dimension in an efficient way. A main advantage of the model is its ability to tolerate errors within a certain range, which allows the model to become robust.\n",
    "\n",
    "- **Input data**:\n",
    "\n",
    "    The input data of the model has been normalized.\n",
    "    \n",
    "    > Training dataset: `X_train_window_size_15` and `y_train_window_size_15`\\\n",
    "    > Validation dataset: `X_valid_window_size_15` and `y_valid_window_size_15`\\\n",
    "    > Testing dataset: `X_test_window_size_15` and `y_test_window_size_15`\n",
    "    \n",
    "- **Architecture**:\n",
    "\n",
    "    After comparing the models' performance on the validation dataset using GridSearchCV, the best combination of parameters for the Support Vector Regression model is:\n",
    "    | Parameter name    | Value  |\n",
    "    |-------------------|--------|\n",
    "    | kernel      | 'poly'    |\n",
    "    | C      | 25' |"
   ]
  },
  {
   "cell_type": "code",
   "execution_count": 15,
   "metadata": {
    "colab": {
     "base_uri": "https://localhost:8080/"
    },
    "executionInfo": {
     "elapsed": 196663,
     "status": "ok",
     "timestamp": 1636496215639,
     "user": {
      "displayName": "Jan Faulstich",
      "photoUrl": "https://lh3.googleusercontent.com/a/default-user=s64",
      "userId": "01448353606380084380"
     },
     "user_tz": -60
    },
    "id": "DHW0WWe0iSzu",
    "outputId": "0f83bc7d-d32a-4334-e7f3-f2ede37350b5"
   },
   "outputs": [
    {
     "name": "stdout",
     "output_type": "stream",
     "text": [
      "Mean absolut error on test: 3.0078296460070626\n",
      "Mean squared error on test: 41.93315890048373\n"
     ]
    }
   ],
   "source": [
    "# Modeling\n",
    "svrmodel = SVR(kernel='poly', C=25)\n",
    "svrmodel.fit(X_train_window_size_15, y_train_window_size_15)\n",
    "\n",
    "# Evaluate model performance and store it\n",
    "mae, mse = evaluate_model(svrmodel, X_test_window_size_15, y_test_window_size_15)\n",
    "performance_df = performance_df.append({'Model': 'Support Vector Regressor', \n",
    "                                        'MAE score (on test set)': round(mae, 4),\n",
    "                                        'MSE score (on test set)': round(mse, 4)},\n",
    "                                       ignore_index=True)"
   ]
  },
  {
   "cell_type": "markdown",
   "metadata": {
    "id": "zUYTe3RU3Bo5"
   },
   "source": [
    "- **Brief summary**:\n",
    "\n",
    "    > As shown in the cell above, the Support Vector Regression model's performance on the test dataset is 3.008 in terms of MAE.\n",
    "    \n",
    "    ___Limitations___: \n",
    "    \n",
    "    While Support Vector Regressor manages to introduce non-linearity by projecting the original dataset to a higher dimension space and does it in an effective way, it is relatively time consuming and requires much more resources compared to other models, especially when training on large datasets."
   ]
  },
  {
   "cell_type": "markdown",
   "metadata": {
    "id": "tZI9_UDkX9Wx"
   },
   "source": [
    "## KNN\n",
    "The optimal k was found doing a grid search for `range(3, 25)`.  \n",
    "\n",
    "For this 'classic' approach, the train and valid set will be put together to make use of cross-validation."
   ]
  },
  {
   "cell_type": "code",
   "execution_count": 16,
   "metadata": {
    "executionInfo": {
     "elapsed": 2,
     "status": "ok",
     "timestamp": 1636496215640,
     "user": {
      "displayName": "Jan Faulstich",
      "photoUrl": "https://lh3.googleusercontent.com/a/default-user=s64",
      "userId": "01448353606380084380"
     },
     "user_tz": -60
    },
    "id": "7prtvVuJYAJi"
   },
   "outputs": [],
   "source": [
    "X_train_window_size_15_classic = X_train_window_size_15.copy().append(X_valid_window_size_15)\n",
    "y_train_window_size_15_classic = y_train_window_size_15.copy().append(y_valid_window_size_15)\n",
    "\n",
    "minmax_transformer_classic = Pipeline(steps=[('minmax', MinMaxScaler())])\n",
    "\n",
    "preprocessor_window_size_15_classic = ColumnTransformer(\n",
    "        remainder='passthrough', #passthough features not listed\n",
    "        transformers=[\n",
    "            ('mm', minmax_transformer_classic , [X_train_window_size_15_classic.columns[1], *[*X_train_window_size_15_classic.columns[17:]]])\n",
    "        ])\n",
    "\n",
    "\n",
    "preprocessor_window_size_15_classic.fit(X_train_window_size_15, y_train_window_size_15)\n",
    "X_train_window_size_15_classic_norm = preprocessor_window_size_15_classic.transform(X_train_window_size_15_classic)\n",
    "X_test_window_size_15_classic_norm = preprocessor_window_size_15_classic.transform(X_test_window_size_15)"
   ]
  },
  {
   "cell_type": "code",
   "execution_count": 17,
   "metadata": {
    "executionInfo": {
     "elapsed": 1,
     "status": "ok",
     "timestamp": 1636496215640,
     "user": {
      "displayName": "Jan Faulstich",
      "photoUrl": "https://lh3.googleusercontent.com/a/default-user=s64",
      "userId": "01448353606380084380"
     },
     "user_tz": -60
    },
    "id": "vjT9gaXtYCT4"
   },
   "outputs": [],
   "source": [
    "class Knn:\n",
    "\n",
    "    def __init__(self,\n",
    "                 X_train: pd.DataFrame,\n",
    "                 X_test: pd.DataFrame,\n",
    "                 y_train: pd.DataFrame,\n",
    "                 y_test: pd.DataFrame,\n",
    "                 k: int):\n",
    "        self.X_train = X_train\n",
    "        self.X_test = X_test\n",
    "        self.y_train = y_train\n",
    "        self.y_test = y_test\n",
    "        self.k = k\n",
    "        self.model = KNeighborsRegressor(n_neighbors=self.k, n_jobs=-1)\n",
    "        self.mae_scorer = make_scorer(mean_absolute_error)\n",
    "    \n",
    "    def get_cv_scores(self):\n",
    "        return cross_val_score(self.model, self.X_train, self.y_train, cv=5, scoring=self.mae_scorer)\n",
    "\n",
    "    def fit(self):\n",
    "        self.model.fit(self.X_train, self.y_train)\n",
    "\n",
    "    def predict(self):\n",
    "        predictions = self.model.predict(self.X_test)\n",
    "        return predictions\n",
    "\n",
    "    def go(self):\n",
    "        cv_scores = self.get_cv_scores()\n",
    "        self.fit()\n",
    "        predictions = self.predict()\n",
    "        return cv_scores, predictions, self.model"
   ]
  },
  {
   "cell_type": "code",
   "execution_count": 18,
   "metadata": {
    "executionInfo": {
     "elapsed": 10352,
     "status": "ok",
     "timestamp": 1636496225991,
     "user": {
      "displayName": "Jan Faulstich",
      "photoUrl": "https://lh3.googleusercontent.com/a/default-user=s64",
      "userId": "01448353606380084380"
     },
     "user_tz": -60
    },
    "id": "3wEmFe_FYNMo"
   },
   "outputs": [],
   "source": [
    "knn_15 = Knn(\n",
    "    X_train_window_size_15_classic_norm,\n",
    "    X_test_window_size_15_classic_norm,\n",
    "    y_train_window_size_15_classic,\n",
    "    y_test_window_size_15,\n",
    "    k=5\n",
    ")\n",
    "\n",
    "# Fit model and get cross validation scores\n",
    "knn_cv_scores_15, knn_predictions_15, knn_model_15 = knn_15.go()"
   ]
  },
  {
   "cell_type": "markdown",
   "metadata": {
    "id": "e92XHwEnYOiw"
   },
   "source": [
    "CV Scores for KNN"
   ]
  },
  {
   "cell_type": "code",
   "execution_count": 19,
   "metadata": {
    "colab": {
     "base_uri": "https://localhost:8080/"
    },
    "executionInfo": {
     "elapsed": 4,
     "status": "ok",
     "timestamp": 1636496225996,
     "user": {
      "displayName": "Jan Faulstich",
      "photoUrl": "https://lh3.googleusercontent.com/a/default-user=s64",
      "userId": "01448353606380084380"
     },
     "user_tz": -60
    },
    "id": "V8AxuFo3YPex",
    "outputId": "ea7c92d8-ec46-404d-8e76-9674510e2ac0"
   },
   "outputs": [
    {
     "data": {
      "text/plain": [
       "array([2.41780899, 2.28482631, 2.25901748, 2.55659663, 3.08557565])"
      ]
     },
     "execution_count": 19,
     "metadata": {},
     "output_type": "execute_result"
    }
   ],
   "source": [
    "knn_cv_scores_15"
   ]
  },
  {
   "cell_type": "code",
   "execution_count": 21,
   "metadata": {
    "colab": {
     "base_uri": "https://localhost:8080/"
    },
    "executionInfo": {
     "elapsed": 539,
     "status": "ok",
     "timestamp": 1636496455666,
     "user": {
      "displayName": "Jan Faulstich",
      "photoUrl": "https://lh3.googleusercontent.com/a/default-user=s64",
      "userId": "01448353606380084380"
     },
     "user_tz": -60
    },
    "id": "NaNORlBWYTc5",
    "outputId": "3d5288a6-d657-4d33-93cf-9dd842248be3"
   },
   "outputs": [
    {
     "name": "stdout",
     "output_type": "stream",
     "text": [
      "Mean absolut error on test: 3.276977688787185\n",
      "Mean squared error on test: 44.11274918421052\n"
     ]
    }
   ],
   "source": [
    "# Evaluate model performance and store it\n",
    "mae, mse = evaluate_model(knn_model_15, X_test_window_size_15_classic_norm, y_test_window_size_15)\n",
    "\n",
    "performance_df = performance_df.append({'Model': 'K-Nearest Neighbor', \n",
    "                                        'MAE score (on test set)': round(mae, 4),\n",
    "                                        'MSE score (on test set)': round(mse, 4)},\n",
    "                                       ignore_index=True)"
   ]
  },
  {
   "cell_type": "markdown",
   "metadata": {
    "id": "XjhRxGqjKyY6"
   },
   "source": [
    "# Creating DL models\n",
    "<b>In this part, we employed multiple DL methods. </b>\n"
   ]
  },
  {
   "cell_type": "markdown",
   "metadata": {
    "id": "AsxkQOUoK3Or"
   },
   "source": [
    "## Multi-Layer Perceptron\n",
    "For the MLP, the architecture seemed to be rather irrelevant. Generally speaking, simpler architectures with less neurons seemed to work as well as more complex architectures with several hidden layers and/or a large number of neurons. In total, a few hundred neurons overall were enough. Dropout, LR Scheduling and Adam optimizer created the best results.  \n",
    "We also found that higher batch sizes decreased the MAE.  \n",
    "One interesting finding is that the performance on the validation set would not change after 2-3 epochs. Additionally, the performance on the test set was always better than the performance on the validation set."
   ]
  },
  {
   "cell_type": "code",
   "execution_count": 22,
   "metadata": {
    "executionInfo": {
     "elapsed": 202,
     "status": "ok",
     "timestamp": 1636496458201,
     "user": {
      "displayName": "Jan Faulstich",
      "photoUrl": "https://lh3.googleusercontent.com/a/default-user=s64",
      "userId": "01448353606380084380"
     },
     "user_tz": -60
    },
    "id": "ISkNpOsHLHs8"
   },
   "outputs": [],
   "source": [
    "class Mlp:\n",
    "    \"\"\"\n",
    "    Creates a multilayer-perceptron model.\n",
    "    \"\"\"\n",
    "    def __init__(self, \n",
    "                 X_train: pd.DataFrame, \n",
    "                 X_valid: pd.DataFrame, \n",
    "                 X_test: pd.DataFrame, \n",
    "                 y_train: pd.DataFrame, \n",
    "                 y_valid: pd.DataFrame, \n",
    "                 y_test: pd.DataFrame, \n",
    "                 params: dict, \n",
    "                 layers: list, \n",
    "                 dropout: bool,\n",
    "                 schedulerthresh: int,\n",
    "                 optimizer,\n",
    "                 earlystopping: int\n",
    "                 ):\n",
    "        self.X_train = X_train\n",
    "        self.X_valid = X_valid\n",
    "        self.X_test = X_test\n",
    "        self.y_train = y_train\n",
    "        self.y_valid = y_valid\n",
    "        self.y_test = y_test\n",
    "        self.params = params\n",
    "        self.layers = layers\n",
    "        self.dropout = dropout\n",
    "        self.schedulerthresh = schedulerthresh\n",
    "        self.optimizer = optimizer\n",
    "        self.earlystopping = earlystopping\n",
    "        self.model = Sequential()\n",
    "\n",
    "    def compile_model(self):\n",
    "        be.clear_session()\n",
    "        self.model.add(Input(shape=(self.X_train.shape[1])))\n",
    "        for i in range(len(self.layers)):\n",
    "            self.model.add(Dense(self.layers[i], activation=\"relu\"))\n",
    "            if self.dropout:\n",
    "                self.model.add(Dropout(rate=self.dropout))\n",
    "        self.model.add(Dense(1, activation=\"linear\"))\n",
    "        optimizer = self.optimizer\n",
    "        self.model.compile(loss='mean_absolute_error', optimizer=optimizer)\n",
    "        return self.model\n",
    "        \n",
    "    def fit_model(self):\n",
    "        callbacks = []\n",
    "        if self.scheduler:\n",
    "            callbacks.append(LearningRateScheduler(self.scheduler))\n",
    "        if self.earlystopping:\n",
    "            callbacks.append(EarlyStopping(monitor='loss', \n",
    "                                           patience=self.earlystopping))\n",
    "        history = self.model.fit(x=self.X_train,\n",
    "                                 y=self.y_train, \n",
    "                                 batch_size=self.params[\"BATCH_SIZE\"], \n",
    "                                 validation_data=(self.X_valid,self.y_valid), \n",
    "                                 epochs=self.params[\"EPOCHS\"], \n",
    "                                 callbacks=callbacks, \n",
    "                                 verbose=1, \n",
    "                                 shuffle=False)\n",
    "        return history, self.model\n",
    "\n",
    "    def evaluate_model(self):\n",
    "        eval_score = self.model.evaluate(self.X_test, self.y_test.to_numpy())\n",
    "        return eval_score, self.model\n",
    "\n",
    "    def predict(self):\n",
    "        return self.model.predict(self.X_test)\n",
    "      \n",
    "    def go(self):\n",
    "        self.compile_model()\n",
    "        history, _ = self.fit_model()\n",
    "        eval_score, _ = self.evaluate_model()\n",
    "        predictions = self.predict()\n",
    "        return history, eval_score, predictions, self.model\n",
    "        \n",
    "    def scheduler(self, epoch, lr):\n",
    "        if self.schedulerthresh:\n",
    "            thresh = self.schedulerthresh\n",
    "        else:\n",
    "            thresh = 5\n",
    "        if epoch < thresh:\n",
    "            return lr\n",
    "        else:\n",
    "            return lr*exp(-0.1)\n"
   ]
  },
  {
   "cell_type": "markdown",
   "metadata": {
    "id": "T-j0UgAFYZ0E"
   },
   "source": [
    "### Creating best model for MLP"
   ]
  },
  {
   "cell_type": "code",
   "execution_count": 23,
   "metadata": {
    "colab": {
     "base_uri": "https://localhost:8080/"
    },
    "executionInfo": {
     "elapsed": 12216,
     "status": "ok",
     "timestamp": 1636496472526,
     "user": {
      "displayName": "Jan Faulstich",
      "photoUrl": "https://lh3.googleusercontent.com/a/default-user=s64",
      "userId": "01448353606380084380"
     },
     "user_tz": -60
    },
    "id": "wBuXPTtcYaiD",
    "outputId": "d9ae3c44-701d-4edd-8516-40c2366631a2"
   },
   "outputs": [
    {
     "name": "stdout",
     "output_type": "stream",
     "text": [
      "Epoch 1/10\n",
      "15/15 [==============================] - 3s 31ms/step - loss: 465.5146 - val_loss: 3.6979 - lr: 5.0000e-04\n",
      "Epoch 2/10\n",
      "15/15 [==============================] - 0s 9ms/step - loss: 219.7682 - val_loss: 4.7449 - lr: 5.0000e-04\n",
      "Epoch 3/10\n",
      "15/15 [==============================] - 0s 8ms/step - loss: 89.9531 - val_loss: 3.4775 - lr: 5.0000e-04\n",
      "Epoch 4/10\n",
      "15/15 [==============================] - 0s 7ms/step - loss: 28.2141 - val_loss: 3.4715 - lr: 5.0000e-04\n",
      "Epoch 5/10\n",
      "15/15 [==============================] - 0s 8ms/step - loss: 8.1402 - val_loss: 3.4726 - lr: 5.0000e-04\n",
      "Epoch 6/10\n",
      "15/15 [==============================] - 0s 8ms/step - loss: 4.4272 - val_loss: 3.4729 - lr: 4.5242e-04\n",
      "Epoch 7/10\n",
      "15/15 [==============================] - 0s 8ms/step - loss: 3.5980 - val_loss: 3.4724 - lr: 4.0937e-04\n",
      "Epoch 8/10\n",
      "15/15 [==============================] - 0s 7ms/step - loss: 3.2269 - val_loss: 3.4724 - lr: 3.7041e-04\n",
      "Epoch 9/10\n",
      "15/15 [==============================] - 0s 8ms/step - loss: 3.0826 - val_loss: 3.4719 - lr: 3.3516e-04\n",
      "Epoch 10/10\n",
      "15/15 [==============================] - 0s 10ms/step - loss: 2.9726 - val_loss: 3.4716 - lr: 3.0327e-04\n",
      "110/110 [==============================] - 1s 4ms/step - loss: 3.0072\n"
     ]
    }
   ],
   "source": [
    "params = {\n",
    "    \"BATCH_SIZE\": 2048, \n",
    "    \"EPOCHS\": 10, \n",
    "    \"LEARNING_RATE\": 0.0005}\n",
    "layers = [300, 100]\n",
    "dropout = 0.25\n",
    "scheduler = 5\n",
    "optimizer = Adam(learning_rate=0.0005)\n",
    "earlystopping = 3\n",
    "\n",
    "mlp_15 = Mlp(\n",
    "    X_train_window_size_15,\n",
    "    X_valid_window_size_15,\n",
    "    X_test_window_size_15,\n",
    "    y_train_window_size_15,\n",
    "    y_valid_window_size_15,\n",
    "    y_test_window_size_15,\n",
    "    params,\n",
    "    layers,\n",
    "    dropout,\n",
    "    scheduler,\n",
    "    optimizer,\n",
    "    earlystopping\n",
    ")\n",
    "\n",
    "# Fit the model\n",
    "mlp_history_15, mlp_eval_score_15, mlp_predictions_15, mlp_model_15 = mlp_15.go()"
   ]
  },
  {
   "cell_type": "code",
   "execution_count": 24,
   "metadata": {
    "colab": {
     "base_uri": "https://localhost:8080/",
     "height": 295
    },
    "executionInfo": {
     "elapsed": 513,
     "status": "ok",
     "timestamp": 1636496473866,
     "user": {
      "displayName": "Jan Faulstich",
      "photoUrl": "https://lh3.googleusercontent.com/a/default-user=s64",
      "userId": "01448353606380084380"
     },
     "user_tz": -60
    },
    "id": "ip9t5h2mYjU-",
    "outputId": "3d3f7782-b267-4f6c-b620-fdd9816fdb99"
   },
   "outputs": [
    {
     "data": {
      "image/png": "[encoded data removed]",
      "text/plain": [
       "<Figure size 432x288 with 1 Axes>"
      ]
     },
     "metadata": {
      "needs_background": "light"
     },
     "output_type": "display_data"
    }
   ],
   "source": [
    "loss_values = mlp_history_15.history['loss']\n",
    "val_loss_values = mlp_history_15.history['val_loss']\n",
    "epochs = range(1, len(loss_values)+1)\n",
    "\n",
    "plt.plot(epochs, loss_values, label='Training Loss')\n",
    "plt.plot(epochs, val_loss_values, label='Validation Loss')\n",
    "\n",
    "plt.title(\"Compiling history of MLP model\")\n",
    "plt.xlabel('Epochs')\n",
    "plt.ylabel('Loss')\n",
    "plt.legend()\n",
    "\n",
    "plt.show()"
   ]
  },
  {
   "cell_type": "markdown",
   "metadata": {
    "id": "v4ENdvgzYcpd"
   },
   "source": [
    "Evaluation Score of MLP"
   ]
  },
  {
   "cell_type": "code",
   "execution_count": 25,
   "metadata": {
    "colab": {
     "base_uri": "https://localhost:8080/"
    },
    "executionInfo": {
     "elapsed": 6,
     "status": "ok",
     "timestamp": 1636496473868,
     "user": {
      "displayName": "Jan Faulstich",
      "photoUrl": "https://lh3.googleusercontent.com/a/default-user=s64",
      "userId": "01448353606380084380"
     },
     "user_tz": -60
    },
    "id": "cXFYaw51Ydo8",
    "outputId": "8a619a82-4191-4544-94ea-60650c7d1e24"
   },
   "outputs": [
    {
     "name": "stdout",
     "output_type": "stream",
     "text": [
      "Mean absolut error on test: 3.007194995880127\n"
     ]
    }
   ],
   "source": [
    "print(f\"Mean absolut error on test: {mlp_eval_score_15}\")\n",
    "performance_df = performance_df.append({'Model': 'Mulit-Layer Perceptron', \n",
    "                                        'MAE score (on test set)': round(mlp_eval_score_15, 4)},\n",
    "                                       ignore_index=True)"
   ]
  },
  {
   "cell_type": "markdown",
   "metadata": {
    "id": "r8uTHXoaK9aK"
   },
   "source": [
    "## Load 3D data for Recurrent Neural Networks"
   ]
  },
  {
   "cell_type": "code",
   "execution_count": 26,
   "metadata": {
    "executionInfo": {
     "elapsed": 3083,
     "status": "ok",
     "timestamp": 1636496476947,
     "user": {
      "displayName": "Jan Faulstich",
      "photoUrl": "https://lh3.googleusercontent.com/a/default-user=s64",
      "userId": "01448353606380084380"
     },
     "user_tz": -60
    },
    "id": "EZfZkUsKY1aJ"
   },
   "outputs": [],
   "source": [
    "#Write code to load the pickles\n",
    "pkl_file = open(\"X_train_unflatten_all_15\", 'rb')\n",
    "X_train_unflatten_all_15 = pickle.load(pkl_file)\n",
    "\n",
    "pkl_file = open(\"X_valid_unflatten_all_15\", 'rb')\n",
    "X_valid_unflatten_all_15 = pickle.load(pkl_file)\n",
    "\n",
    "pkl_file = open(\"X_test_unflatten_all_15\", 'rb')\n",
    "X_test_unflatten_all_15 = pickle.load(pkl_file)"
   ]
  },
  {
   "cell_type": "markdown",
   "metadata": {
    "id": "2Fc9q7et3Bo-"
   },
   "source": [
    "## Convolutional Neural Network\n",
    "- **Intro**:\n",
    "\n",
    "   A Convolutional Neural Network model involves multiple filters that can be used to capture complex patterns in the datasets. One of its distinct features is its parameter sharing, which can greatly increase its efficiency.\n",
    "\n",
    "- **Input data**:\n",
    "\n",
    "    The input data of the model has been normalized and rolled into a form of 3D data.\n",
    "    \n",
    "    > Training dataset: `X_train_unflatten_all_15` and `y_train_window_size_15`\\\n",
    "    > Validation dataset: `X_valid_unflatten_all_15` and `y_valid_window_size_15`\\\n",
    "    > Testing dataset: `X_test_unflatten_all_15` and `y_test_window_size_15`\n",
    "    \n",
    "- **Architecture**:\n",
    "\n",
    "    When increasing the complexity of the model (whether by increasing the number of hidden layers or the number of hidden cells), its performance doesn't seem to change. With various experiments, we have arrived at a relatively simple structure that yields similar results to its more complicated alternatives: 2 pairs of Convolutional layers and Max Pooling layers, followed by 2 pairs of fully connected layers and dropout layers."
   ]
  },
  {
   "cell_type": "code",
   "execution_count": 27,
   "metadata": {
    "executionInfo": {
     "elapsed": 11,
     "status": "ok",
     "timestamp": 1636496476948,
     "user": {
      "displayName": "Jan Faulstich",
      "photoUrl": "https://lh3.googleusercontent.com/a/default-user=s64",
      "userId": "01448353606380084380"
     },
     "user_tz": -60
    },
    "id": "4ECBzg9j3Bo-"
   },
   "outputs": [],
   "source": [
    "n_hidden_layers = 2\n",
    "hidden_layer_size = 80\n",
    "dropout_rate = 0.2\n",
    "\n",
    "BATCH_SIZE = 100\n",
    "EPOCHS = 20"
   ]
  },
  {
   "cell_type": "code",
   "execution_count": 28,
   "metadata": {
    "colab": {
     "base_uri": "https://localhost:8080/"
    },
    "executionInfo": {
     "elapsed": 307,
     "status": "ok",
     "timestamp": 1636496477247,
     "user": {
      "displayName": "Jan Faulstich",
      "photoUrl": "https://lh3.googleusercontent.com/a/default-user=s64",
      "userId": "01448353606380084380"
     },
     "user_tz": -60
    },
    "id": "UcpbVehM3Bo-",
    "outputId": "b63b1973-3d68-442c-e535-056e75f115e3"
   },
   "outputs": [
    {
     "name": "stdout",
     "output_type": "stream",
     "text": [
      "Model: \"model\"\n",
      "_________________________________________________________________\n",
      " Layer (type)                Output Shape              Param #   \n",
      "=================================================================\n",
      " input_1 (InputLayer)        [(None, 14, 22)]          0         \n",
      "                                                                 \n",
      " conv1d (Conv1D)             (None, 14, 5)             445       \n",
      "                                                                 \n",
      " max_pooling1d (MaxPooling1D  (None, 13, 5)            0         \n",
      " )                                                               \n",
      "                                                                 \n",
      " conv1d_1 (Conv1D)           (None, 13, 5)             105       \n",
      "                                                                 \n",
      " max_pooling1d_1 (MaxPooling  (None, 12, 5)            0         \n",
      " 1D)                                                             \n",
      "                                                                 \n",
      " dense (Dense)               (None, 12, 100)           600       \n",
      "                                                                 \n",
      " dropout (Dropout)           (None, 12, 100)           0         \n",
      "                                                                 \n",
      " dense_1 (Dense)             (None, 12, 100)           10100     \n",
      "                                                                 \n",
      " dropout_1 (Dropout)         (None, 12, 100)           0         \n",
      "                                                                 \n",
      " dense_2 (Dense)             (None, 12, 1)             101       \n",
      "                                                                 \n",
      "=================================================================\n",
      "Total params: 11,351\n",
      "Trainable params: 11,351\n",
      "Non-trainable params: 0\n",
      "_________________________________________________________________\n"
     ]
    }
   ],
   "source": [
    "tf.compat.v1.reset_default_graph()\n",
    "be.clear_session()\n",
    "\n",
    "# Define regularizer and initializer\n",
    "regularizer = tf.keras.regularizers.L2(2.)\n",
    "initializer = tf.keras.initializers.RandomUniform()\n",
    "\n",
    "input_shape = np.shape(X_train_unflatten_all_15)\n",
    "column_count = input_shape[2]\n",
    "\n",
    "input_layer=Input(shape=(input_shape[1], column_count))\n",
    "cur_last_layer = input_layer\n",
    "\n",
    "for l in range(n_hidden_layers):\n",
    "    cnn_layer=Conv1D(filters=5, kernel_size=4, \n",
    "                     input_shape=input_shape[1:],\n",
    "                     padding='same',\n",
    "                     kernel_initializer=initializer,\n",
    "                     kernel_regularizer=regularizer)(cur_last_layer)\n",
    "    pool = MaxPool1D(pool_size=2, strides=1)(cnn_layer)\n",
    "    cur_last_layer=pool\n",
    "\n",
    "for l in range(n_hidden_layers):\n",
    "    dense = Dense(100, activation='tanh')(cur_last_layer)\n",
    "    dropout_layer = Dropout(dropout_rate)(dense)\n",
    "    cur_last_layer=dropout_layer\n",
    "\n",
    "predictions=Dense(1)(cur_last_layer)\n",
    "\n",
    "cnn_model=Model(inputs=input_layer, outputs=predictions)\n",
    "cnn_model.summary()"
   ]
  },
  {
   "cell_type": "code",
   "execution_count": 29,
   "metadata": {
    "colab": {
     "base_uri": "https://localhost:8080/"
    },
    "executionInfo": {
     "elapsed": 83076,
     "status": "ok",
     "timestamp": 1636496560320,
     "user": {
      "displayName": "Jan Faulstich",
      "photoUrl": "https://lh3.googleusercontent.com/a/default-user=s64",
      "userId": "01448353606380084380"
     },
     "user_tz": -60
    },
    "id": "AD256EDmLPOq",
    "outputId": "86ca66ca-91f3-48f2-8016-010b25a245ea"
   },
   "outputs": [
    {
     "name": "stdout",
     "output_type": "stream",
     "text": [
      "Epoch 1/20\n",
      "299/299 [==============================] - 31s 9ms/step - loss: 2.3247 - val_loss: 3.4708\n",
      "Epoch 2/20\n",
      "299/299 [==============================] - 3s 9ms/step - loss: 2.2785 - val_loss: 3.4711\n",
      "Epoch 3/20\n",
      "299/299 [==============================] - 3s 8ms/step - loss: 2.2785 - val_loss: 3.4712\n",
      "Epoch 4/20\n",
      "299/299 [==============================] - 3s 8ms/step - loss: 2.2783 - val_loss: 3.4712\n",
      "Epoch 5/20\n",
      "299/299 [==============================] - 2s 8ms/step - loss: 2.2783 - val_loss: 3.4704\n",
      "Epoch 6/20\n",
      "299/299 [==============================] - 2s 8ms/step - loss: 2.2783 - val_loss: 3.4705\n",
      "Epoch 7/20\n",
      "299/299 [==============================] - 3s 8ms/step - loss: 2.2782 - val_loss: 3.4704\n",
      "Epoch 8/20\n",
      "299/299 [==============================] - 3s 9ms/step - loss: 2.2781 - val_loss: 3.4706\n",
      "Epoch 9/20\n",
      "299/299 [==============================] - 3s 9ms/step - loss: 2.2781 - val_loss: 3.4702\n",
      "Epoch 10/20\n",
      "299/299 [==============================] - 2s 8ms/step - loss: 2.2781 - val_loss: 3.4704\n",
      "Epoch 11/20\n",
      "299/299 [==============================] - 3s 8ms/step - loss: 2.2781 - val_loss: 3.4707\n",
      "Epoch 12/20\n",
      "299/299 [==============================] - 3s 9ms/step - loss: 2.2781 - val_loss: 3.4711\n",
      "Epoch 13/20\n",
      "299/299 [==============================] - 3s 8ms/step - loss: 2.2781 - val_loss: 3.4704\n",
      "Epoch 14/20\n",
      "299/299 [==============================] - 2s 8ms/step - loss: 2.2781 - val_loss: 3.4705\n",
      "Epoch 15/20\n",
      "299/299 [==============================] - 2s 8ms/step - loss: 2.2780 - val_loss: 3.4706\n",
      "Epoch 16/20\n",
      "299/299 [==============================] - 3s 9ms/step - loss: 2.2780 - val_loss: 3.4704\n",
      "Epoch 17/20\n",
      "299/299 [==============================] - 2s 8ms/step - loss: 2.2781 - val_loss: 3.4705\n",
      "Epoch 18/20\n",
      "299/299 [==============================] - 3s 9ms/step - loss: 2.2782 - val_loss: 3.4704\n",
      "Epoch 19/20\n",
      "299/299 [==============================] - 3s 8ms/step - loss: 2.2780 - val_loss: 3.4707\n",
      "Epoch 20/20\n",
      "299/299 [==============================] - 2s 8ms/step - loss: 2.2781 - val_loss: 3.4705\n"
     ]
    }
   ],
   "source": [
    "optimizer = Adam(learning_rate=0.001)\n",
    "\n",
    "cnn_model.compile(loss='mean_absolute_error', optimizer=optimizer)\n",
    "\n",
    "cnn_history = cnn_model.fit(X_train_unflatten_all_15, y_train_window_size_15,\n",
    "                            validation_data=(X_valid_unflatten_all_15, y_valid_window_size_15),\n",
    "                            epochs=EPOCHS,\n",
    "                            batch_size=BATCH_SIZE)"
   ]
  },
  {
   "cell_type": "code",
   "execution_count": 30,
   "metadata": {
    "colab": {
     "base_uri": "https://localhost:8080/",
     "height": 295
    },
    "executionInfo": {
     "elapsed": 333,
     "status": "ok",
     "timestamp": 1636496560629,
     "user": {
      "displayName": "Jan Faulstich",
      "photoUrl": "https://lh3.googleusercontent.com/a/default-user=s64",
      "userId": "01448353606380084380"
     },
     "user_tz": -60
    },
    "id": "OuEgtB5rLhzE",
    "outputId": "aa6ecbae-4ef4-401c-f07e-2dc0f310fb6d"
   },
   "outputs": [
    {
     "data": {
      "image/png": "[encoded data removed]",
      "text/plain": [
       "<Figure size 432x288 with 1 Axes>"
      ]
     },
     "metadata": {
      "needs_background": "light"
     },
     "output_type": "display_data"
    }
   ],
   "source": [
    "loss_values = cnn_history.history['loss']\n",
    "val_loss_values = cnn_history.history['val_loss']\n",
    "epochs = range(1, len(loss_values)+1)\n",
    "\n",
    "plt.plot(epochs, loss_values, label='Training Loss')\n",
    "plt.plot(epochs, val_loss_values, label='Validation Loss')\n",
    "\n",
    "plt.title(\"Compiling history of CNN model\")\n",
    "plt.xlabel('Epochs')\n",
    "plt.ylabel('Loss')\n",
    "plt.legend()\n",
    "\n",
    "plt.show()"
   ]
  },
  {
   "cell_type": "code",
   "execution_count": 31,
   "metadata": {
    "colab": {
     "base_uri": "https://localhost:8080/"
    },
    "executionInfo": {
     "elapsed": 708,
     "status": "ok",
     "timestamp": 1636496561335,
     "user": {
      "displayName": "Jan Faulstich",
      "photoUrl": "https://lh3.googleusercontent.com/a/default-user=s64",
      "userId": "01448353606380084380"
     },
     "user_tz": -60
    },
    "id": "DOCNIs7D3Bo-",
    "outputId": "5bfe3518-5b32-452d-c00b-6f60c56908cf"
   },
   "outputs": [
    {
     "name": "stdout",
     "output_type": "stream",
     "text": [
      "Mean absolut error on test: 3.0077111388078475\n"
     ]
    }
   ],
   "source": [
    "mae, mse = evaluate_3Dmodel(cnn_model, X_test_unflatten_all_15, y_test_window_size_15)\n",
    "\n",
    "performance_df = performance_df.append({'Model': 'CNN', \n",
    "                                        'MAE score (on test set)': round(mae, 4),\n",
    "                                        'MSE score (on test set)': round(mse, 4)},\n",
    "                                       ignore_index=True)"
   ]
  },
  {
   "cell_type": "markdown",
   "metadata": {
    "id": "rVTqYWP23Bo-"
   },
   "source": [
    "- **Brief summary**:\n",
    "\n",
    "    > As shown in the cell above, the performance of the CNN on the test dataset is 3.008 in terms of MAE.\n",
    "    \n",
    "    ___Limitations___: \n",
    "    \n",
    "    Generally, it is more common to use CNN in image related problems, therefore, it's not surprising that the model cannot achieve high performance here. Moreover, considering the dimensionality of the data fed into the neural network (with a window size of 15 and therefore 14 \"time steps\"), the size of kernel that can be used is rather limited."
   ]
  },
  {
   "cell_type": "markdown",
   "metadata": {
    "id": "wId3Iw9FLR5F"
   },
   "source": [
    "## Recurrent Neural Network"
   ]
  },
  {
   "cell_type": "markdown",
   "metadata": {
    "id": "87a_H89E3Bo_"
   },
   "source": [
    "### LSTM: Long- Short-Term Memory\n",
    "\n",
    "- **Intro**:\n",
    "\n",
    "   A Long- Short-Term Memory model is a type of Recurrent Neural Network that is often used for sequence data such as in time-series and NLP problems. By introducing an additional vector, i.e., the cell state, the model is able to store important information of the past that is helpful for the prediction of the current state (or forget useless information when needed). Since the task we have involve time series data, LSTM seems to be a natural candidate for achieving high performance.\n",
    "\n",
    "- **Input data**:\n",
    "\n",
    "    The input data of the model has been normalized and rolled into a form of 3D data.\n",
    "    \n",
    "    > Training dataset: `X_train_unflatten_all_15` and `y_train_window_size_15`\\\n",
    "    > Validation dataset: `X_valid_unflatten_all_15` and `y_valid_window_size_15`\\\n",
    "    > Testing dataset: `X_test_unflatten_all_15` and `y_test_window_size_15`\n",
    "    \n",
    "- **Architecture**:\n",
    "\n",
    "    When increasing the complexity of the model (whether by increasing the number of hidden layers or the number of hidden cells), its performance doesn't seem to change. Below is one of the structures that yields similar results to its alternatives, with 3 pairs of LSTM layers and dropout layers followed by 3 pairs of fully connected layers and dropout layers."
   ]
  },
  {
   "cell_type": "code",
   "execution_count": 32,
   "metadata": {
    "executionInfo": {
     "elapsed": 9,
     "status": "ok",
     "timestamp": 1636496561335,
     "user": {
      "displayName": "Jan Faulstich",
      "photoUrl": "https://lh3.googleusercontent.com/a/default-user=s64",
      "userId": "01448353606380084380"
     },
     "user_tz": -60
    },
    "id": "m77mxYiI3Bo_"
   },
   "outputs": [],
   "source": [
    "n_hidden_layers = 3\n",
    "hidden_layer_size = 400\n",
    "dropout_rate = 0.3\n",
    "\n",
    "BATCH_SIZE = 500\n",
    "EPOCHS = 25"
   ]
  },
  {
   "cell_type": "code",
   "execution_count": 33,
   "metadata": {
    "colab": {
     "base_uri": "https://localhost:8080/"
    },
    "executionInfo": {
     "elapsed": 1638,
     "status": "ok",
     "timestamp": 1636496562965,
     "user": {
      "displayName": "Jan Faulstich",
      "photoUrl": "https://lh3.googleusercontent.com/a/default-user=s64",
      "userId": "01448353606380084380"
     },
     "user_tz": -60
    },
    "id": "etp0Ev4v3Bo_",
    "outputId": "a28db99c-3e3e-413e-804c-34a69f8adea7"
   },
   "outputs": [
    {
     "name": "stdout",
     "output_type": "stream",
     "text": [
      "Model: \"model\"\n",
      "_________________________________________________________________\n",
      " Layer (type)                Output Shape              Param #   \n",
      "=================================================================\n",
      " input_1 (InputLayer)        [(None, 14, 22)]          0         \n",
      "                                                                 \n",
      " lstm (LSTM)                 (None, 14, 400)           676800    \n",
      "                                                                 \n",
      " dropout (Dropout)           (None, 14, 400)           0         \n",
      "                                                                 \n",
      " lstm_1 (LSTM)               (None, 14, 400)           1281600   \n",
      "                                                                 \n",
      " dropout_1 (Dropout)         (None, 14, 400)           0         \n",
      "                                                                 \n",
      " lstm_2 (LSTM)               (None, 14, 400)           1281600   \n",
      "                                                                 \n",
      " dropout_2 (Dropout)         (None, 14, 400)           0         \n",
      "                                                                 \n",
      " dense (Dense)               (None, 14, 120)           48120     \n",
      "                                                                 \n",
      " dropout_3 (Dropout)         (None, 14, 120)           0         \n",
      "                                                                 \n",
      " dense_1 (Dense)             (None, 14, 120)           14520     \n",
      "                                                                 \n",
      " dropout_4 (Dropout)         (None, 14, 120)           0         \n",
      "                                                                 \n",
      " dense_2 (Dense)             (None, 14, 120)           14520     \n",
      "                                                                 \n",
      " dropout_5 (Dropout)         (None, 14, 120)           0         \n",
      "                                                                 \n",
      " dense_3 (Dense)             (None, 14, 1)             121       \n",
      "                                                                 \n",
      "=================================================================\n",
      "Total params: 3,317,281\n",
      "Trainable params: 3,317,281\n",
      "Non-trainable params: 0\n",
      "_________________________________________________________________\n"
     ]
    }
   ],
   "source": [
    "tf.compat.v1.reset_default_graph()\n",
    "be.clear_session()\n",
    "\n",
    "input_shape[2]\n",
    "column_count = np.shape(X_train_unflatten_all_15)[2]\n",
    "\n",
    "input_layer=Input(shape=(np.shape(X_train_unflatten_all_15)[1], column_count))\n",
    "cur_last_layer=input_layer\n",
    "\n",
    "for l in range(n_hidden_layers):\n",
    "    hidden_layer=LSTM(hidden_layer_size, return_sequences=True)(cur_last_layer)\n",
    "    dropout_layer = Dropout(0.5)(hidden_layer)\n",
    "    cur_last_layer=dropout_layer\n",
    "\n",
    "for l in range(n_hidden_layers):\n",
    "    dense = Dense(120, activation='tanh')(cur_last_layer)\n",
    "    dropout_layer = Dropout(dropout_rate)(dense)\n",
    "    cur_last_layer=dropout_layer\n",
    "\n",
    "predictions=Dense(1)(cur_last_layer)\n",
    "\n",
    "lstm_model=Model(inputs=input_layer, outputs=predictions)\n",
    "lstm_model.summary()"
   ]
  },
  {
   "cell_type": "code",
   "execution_count": 34,
   "metadata": {
    "colab": {
     "base_uri": "https://localhost:8080/"
    },
    "executionInfo": {
     "elapsed": 200132,
     "status": "ok",
     "timestamp": 1636496763094,
     "user": {
      "displayName": "Jan Faulstich",
      "photoUrl": "https://lh3.googleusercontent.com/a/default-user=s64",
      "userId": "01448353606380084380"
     },
     "user_tz": -60
    },
    "id": "AB96ZXTj3Bo_",
    "outputId": "9e75371b-4447-4a18-c07e-7789b441842d"
   },
   "outputs": [
    {
     "name": "stdout",
     "output_type": "stream",
     "text": [
      "Epoch 1/25\n",
      "60/60 [==============================] - 17s 155ms/step - loss: 2.4346 - val_loss: 3.4837\n",
      "Epoch 2/25\n",
      "60/60 [==============================] - 8s 128ms/step - loss: 2.3171 - val_loss: 3.4939\n",
      "Epoch 3/25\n",
      "60/60 [==============================] - 8s 128ms/step - loss: 2.2869 - val_loss: 3.4730\n",
      "Epoch 4/25\n",
      "60/60 [==============================] - 8s 128ms/step - loss: 2.2788 - val_loss: 3.4701\n",
      "Epoch 5/25\n",
      "60/60 [==============================] - 8s 127ms/step - loss: 2.2786 - val_loss: 3.4704\n",
      "Epoch 6/25\n",
      "60/60 [==============================] - 8s 130ms/step - loss: 2.2785 - val_loss: 3.4710\n",
      "Epoch 7/25\n",
      "60/60 [==============================] - 8s 128ms/step - loss: 2.2790 - val_loss: 3.4704\n",
      "Epoch 8/25\n",
      "60/60 [==============================] - 8s 127ms/step - loss: 2.2782 - val_loss: 3.4705\n",
      "Epoch 9/25\n",
      "60/60 [==============================] - 8s 127ms/step - loss: 2.2782 - val_loss: 3.4690\n",
      "Epoch 10/25\n",
      "60/60 [==============================] - 8s 127ms/step - loss: 2.2782 - val_loss: 3.4702\n",
      "Epoch 11/25\n",
      "60/60 [==============================] - 8s 127ms/step - loss: 2.2781 - val_loss: 3.4692\n",
      "Epoch 12/25\n",
      "60/60 [==============================] - 8s 127ms/step - loss: 2.2780 - val_loss: 3.4704\n",
      "Epoch 13/25\n",
      "60/60 [==============================] - 8s 127ms/step - loss: 2.2782 - val_loss: 3.4697\n",
      "Epoch 14/25\n",
      "60/60 [==============================] - 8s 128ms/step - loss: 2.2780 - val_loss: 3.4721\n",
      "Epoch 15/25\n",
      "60/60 [==============================] - 8s 127ms/step - loss: 2.2775 - val_loss: 3.4867\n",
      "Epoch 16/25\n",
      "60/60 [==============================] - 8s 127ms/step - loss: 2.2778 - val_loss: 3.4719\n",
      "Epoch 17/25\n",
      "60/60 [==============================] - 8s 127ms/step - loss: 2.2767 - val_loss: 3.4699\n",
      "Epoch 18/25\n",
      "60/60 [==============================] - 8s 127ms/step - loss: 2.2767 - val_loss: 3.4704\n",
      "Epoch 19/25\n",
      "60/60 [==============================] - 8s 126ms/step - loss: 2.2770 - val_loss: 3.4766\n",
      "Epoch 20/25\n",
      "60/60 [==============================] - 8s 127ms/step - loss: 2.2784 - val_loss: 3.4683\n",
      "Epoch 21/25\n",
      "60/60 [==============================] - 8s 127ms/step - loss: 2.2773 - val_loss: 3.4779\n",
      "Epoch 22/25\n",
      "60/60 [==============================] - 8s 127ms/step - loss: 2.2779 - val_loss: 3.4710\n",
      "Epoch 23/25\n",
      "60/60 [==============================] - 8s 127ms/step - loss: 2.2783 - val_loss: 3.4675\n",
      "Epoch 24/25\n",
      "60/60 [==============================] - 8s 126ms/step - loss: 2.2777 - val_loss: 3.4669\n",
      "Epoch 25/25\n",
      "60/60 [==============================] - 8s 127ms/step - loss: 2.2767 - val_loss: 3.4770\n"
     ]
    }
   ],
   "source": [
    "optimizer = RMSprop(learning_rate=0.0025)\n",
    "lstm_model.compile(loss='mean_absolute_error', optimizer=optimizer)\n",
    "\n",
    "lstm_history = lstm_model.fit(X_train_unflatten_all_15, y_train_window_size_15,\n",
    "                              validation_data=(X_valid_unflatten_all_15, y_valid_window_size_15),\n",
    "                              epochs=EPOCHS,\n",
    "                              batch_size=BATCH_SIZE)"
   ]
  },
  {
   "cell_type": "code",
   "execution_count": 35,
   "metadata": {
    "colab": {
     "base_uri": "https://localhost:8080/",
     "height": 295
    },
    "executionInfo": {
     "elapsed": 276,
     "status": "ok",
     "timestamp": 1636496763362,
     "user": {
      "displayName": "Jan Faulstich",
      "photoUrl": "https://lh3.googleusercontent.com/a/default-user=s64",
      "userId": "01448353606380084380"
     },
     "user_tz": -60
    },
    "id": "xEwdAqq83Bo_",
    "outputId": "a491a98d-cf63-4c15-a9b6-0a6bb268016e"
   },
   "outputs": [
    {
     "data": {
      "image/png": "[encoded data removed]",
      "text/plain": [
       "<Figure size 432x288 with 1 Axes>"
      ]
     },
     "metadata": {
      "needs_background": "light"
     },
     "output_type": "display_data"
    }
   ],
   "source": [
    "loss_values = lstm_history.history['loss']\n",
    "val_loss_values = lstm_history.history['val_loss']\n",
    "epochs = range(1, len(loss_values)+1)\n",
    "\n",
    "plt.plot(epochs, loss_values, label='Training Loss')\n",
    "plt.plot(epochs, val_loss_values, label='Validation Loss')\n",
    "\n",
    "plt.title(\"Compiling history of LSTM model\")\n",
    "plt.xlabel('Epochs')\n",
    "plt.ylabel('Loss')\n",
    "plt.legend()\n",
    "\n",
    "plt.show()"
   ]
  },
  {
   "cell_type": "code",
   "execution_count": 36,
   "metadata": {
    "colab": {
     "base_uri": "https://localhost:8080/"
    },
    "executionInfo": {
     "elapsed": 2970,
     "status": "ok",
     "timestamp": 1636496766329,
     "user": {
      "displayName": "Jan Faulstich",
      "photoUrl": "https://lh3.googleusercontent.com/a/default-user=s64",
      "userId": "01448353606380084380"
     },
     "user_tz": -60
    },
    "id": "YxnEx9Wb3Bo_",
    "outputId": "eeeae67c-3102-4dc8-bb45-4dbfd1195234"
   },
   "outputs": [
    {
     "name": "stdout",
     "output_type": "stream",
     "text": [
      "Mean absolut error on test: 3.013370053904862\n"
     ]
    }
   ],
   "source": [
    "mae, mse = evaluate_3Dmodel(lstm_model, X_test_unflatten_all_15, y_test_window_size_15)\n",
    "\n",
    "performance_df = performance_df.append({'Model': 'LSTM', \n",
    "                                        'MAE score (on test set)': round(mae, 4),\n",
    "                                        'MSE score (on test set)': round(mse, 4)},\n",
    "                                       ignore_index=True)"
   ]
  },
  {
   "cell_type": "markdown",
   "metadata": {
    "id": "vqlK2cbw3Bo_"
   },
   "source": [
    "- **Brief summary**:\n",
    "\n",
    "    > As shown in the cell above, the LSTM model's performance on the test dataset is 3.012 in terms of MAE.\n",
    "    \n",
    "    ___Limitations___: \n",
    "    \n",
    "    While the structure of LSTM, especially the introduction of the cell state, allows it to process sequence data better, again, as mentioned above, due to the limitation caused by dimensionality of the input data (with a window size of 15 and therefore 14 \"time steps\"), the maximum context information that the neural network can store in the cell state is restricted, which is possibly the reason why the network fails to learn much additional information and predict better compared to other models shown above."
   ]
  },
  {
   "cell_type": "markdown",
   "metadata": {
    "id": "9wb_A92G3BpA"
   },
   "source": [
    "### Gated Recurrent Unit\n",
    "\n",
    "- **Intro**:\n",
    "\n",
    "   A Gated Recurrent Unit model is another type of Recurrent Neural Network. Compared to LSTM, a GRU neural network has fewer gates and parameters and therefore is more efficient to train.\n",
    "\n",
    "- **Input data**:\n",
    "\n",
    "    The input data of the model has been normalized and rolled into a form of 3D data.\n",
    "    \n",
    "    > Training dataset: `X_train_unflatten_all_15` and `y_train_window_size_15`\\\n",
    "    > Validation dataset: `X_valid_unflatten_all_15` and `y_valid_window_size_15`\\\n",
    "    > Testing dataset: `X_test_unflatten_all_15` and `y_test_window_size_15`\n",
    "    \n",
    "- **Architecture**:\n",
    "\n",
    "    When increasing the complexity of the model (either by increasing the number of hidden layers or the number of hidden cells), its performance doesn't seem to change. Below is one of the structures that yields similar results to its alternatives, with 2 GRU layers followed by 2 pairs of fully connected layers and dropout layers."
   ]
  },
  {
   "cell_type": "code",
   "execution_count": 37,
   "metadata": {
    "executionInfo": {
     "elapsed": 7,
     "status": "ok",
     "timestamp": 1636496766329,
     "user": {
      "displayName": "Jan Faulstich",
      "photoUrl": "https://lh3.googleusercontent.com/a/default-user=s64",
      "userId": "01448353606380084380"
     },
     "user_tz": -60
    },
    "id": "OHpHUPfB3BpA"
   },
   "outputs": [],
   "source": [
    "n_hidden_layers = 2\n",
    "hidden_layer_size = 300\n",
    "dropout_rate = 0.5\n",
    "\n",
    "BATCH_SIZE = 300\n",
    "EPOCHS = 20"
   ]
  },
  {
   "cell_type": "code",
   "execution_count": 38,
   "metadata": {
    "colab": {
     "base_uri": "https://localhost:8080/"
    },
    "executionInfo": {
     "elapsed": 928,
     "status": "ok",
     "timestamp": 1636496767252,
     "user": {
      "displayName": "Jan Faulstich",
      "photoUrl": "https://lh3.googleusercontent.com/a/default-user=s64",
      "userId": "01448353606380084380"
     },
     "user_tz": -60
    },
    "id": "uvKy-7z13BpA",
    "outputId": "e22b554b-c0c2-4cb4-80fc-0627f3e1a491"
   },
   "outputs": [
    {
     "name": "stdout",
     "output_type": "stream",
     "text": [
      "Model: \"model\"\n",
      "_________________________________________________________________\n",
      " Layer (type)                Output Shape              Param #   \n",
      "=================================================================\n",
      " input_1 (InputLayer)        [(None, 14, 22)]          0         \n",
      "                                                                 \n",
      " gru (GRU)                   (None, 14, 300)           291600    \n",
      "                                                                 \n",
      " gru_1 (GRU)                 (None, 14, 300)           541800    \n",
      "                                                                 \n",
      " dense (Dense)               (None, 14, 120)           36120     \n",
      "                                                                 \n",
      " dropout (Dropout)           (None, 14, 120)           0         \n",
      "                                                                 \n",
      " dense_1 (Dense)             (None, 14, 120)           14520     \n",
      "                                                                 \n",
      " dropout_1 (Dropout)         (None, 14, 120)           0         \n",
      "                                                                 \n",
      " dense_2 (Dense)             (None, 14, 1)             121       \n",
      "                                                                 \n",
      "=================================================================\n",
      "Total params: 884,161\n",
      "Trainable params: 884,161\n",
      "Non-trainable params: 0\n",
      "_________________________________________________________________\n"
     ]
    }
   ],
   "source": [
    "tf.compat.v1.reset_default_graph()\n",
    "be.clear_session()\n",
    "\n",
    "column_count = np.shape(X_train_unflatten_all_15)[2]\n",
    "\n",
    "input_layer=Input(shape=(np.shape(X_train_unflatten_all_15)[1], column_count))\n",
    "cur_last_layer=input_layer\n",
    "\n",
    "for l in range(n_hidden_layers):\n",
    "    hidden_layer=GRU(hidden_layer_size, return_sequences=True)(cur_last_layer)\n",
    "    cur_last_layer=hidden_layer\n",
    "\n",
    "for l in range(n_hidden_layers):\n",
    "    dense = Dense(120, activation='sigmoid')(cur_last_layer)\n",
    "    dropout_layer = Dropout(dropout_rate)(dense)\n",
    "    cur_last_layer=dropout_layer\n",
    "predictions=Dense(1)(cur_last_layer)\n",
    "\n",
    "gru_model=Model(inputs=input_layer, outputs=predictions)\n",
    "gru_model.summary()"
   ]
  },
  {
   "cell_type": "code",
   "execution_count": 39,
   "metadata": {
    "colab": {
     "base_uri": "https://localhost:8080/"
    },
    "executionInfo": {
     "elapsed": 77888,
     "status": "ok",
     "timestamp": 1636496845136,
     "user": {
      "displayName": "Jan Faulstich",
      "photoUrl": "https://lh3.googleusercontent.com/a/default-user=s64",
      "userId": "01448353606380084380"
     },
     "user_tz": -60
    },
    "id": "s3LIkBOg3BpA",
    "outputId": "587375c4-ac09-41ba-b7a8-bd93a1b1fd03"
   },
   "outputs": [
    {
     "name": "stdout",
     "output_type": "stream",
     "text": [
      "Epoch 1/20\n",
      "100/100 [==============================] - 9s 48ms/step - loss: 2.3324 - val_loss: 3.4697\n",
      "Epoch 2/20\n",
      "100/100 [==============================] - 4s 36ms/step - loss: 2.2829 - val_loss: 3.4710\n",
      "Epoch 3/20\n",
      "100/100 [==============================] - 4s 36ms/step - loss: 2.2792 - val_loss: 3.4721\n",
      "Epoch 4/20\n",
      "100/100 [==============================] - 4s 36ms/step - loss: 2.2784 - val_loss: 3.4700\n",
      "Epoch 5/20\n",
      "100/100 [==============================] - 4s 35ms/step - loss: 2.2782 - val_loss: 3.4711\n",
      "Epoch 6/20\n",
      "100/100 [==============================] - 4s 36ms/step - loss: 2.2781 - val_loss: 3.4706\n",
      "Epoch 7/20\n",
      "100/100 [==============================] - 4s 36ms/step - loss: 2.2781 - val_loss: 3.4703\n",
      "Epoch 8/20\n",
      "100/100 [==============================] - 4s 36ms/step - loss: 2.2781 - val_loss: 3.4703\n",
      "Epoch 9/20\n",
      "100/100 [==============================] - 4s 35ms/step - loss: 2.2781 - val_loss: 3.4702\n",
      "Epoch 10/20\n",
      "100/100 [==============================] - 4s 36ms/step - loss: 2.2781 - val_loss: 3.4695\n",
      "Epoch 11/20\n",
      "100/100 [==============================] - 4s 36ms/step - loss: 2.2778 - val_loss: 3.4690\n",
      "Epoch 12/20\n",
      "100/100 [==============================] - 4s 36ms/step - loss: 2.2772 - val_loss: 3.4708\n",
      "Epoch 13/20\n",
      "100/100 [==============================] - 4s 36ms/step - loss: 2.2767 - val_loss: 3.4691\n",
      "Epoch 14/20\n",
      "100/100 [==============================] - 4s 36ms/step - loss: 2.2763 - val_loss: 3.4682\n",
      "Epoch 15/20\n",
      "100/100 [==============================] - 4s 35ms/step - loss: 2.2755 - val_loss: 3.4718\n",
      "Epoch 16/20\n",
      "100/100 [==============================] - 4s 36ms/step - loss: 2.2745 - val_loss: 3.4729\n",
      "Epoch 17/20\n",
      "100/100 [==============================] - 4s 36ms/step - loss: 2.2732 - val_loss: 3.4792\n",
      "Epoch 18/20\n",
      "100/100 [==============================] - 4s 36ms/step - loss: 2.2708 - val_loss: 3.4750\n",
      "Epoch 19/20\n",
      "100/100 [==============================] - 4s 36ms/step - loss: 2.2675 - val_loss: 3.4808\n",
      "Epoch 20/20\n",
      "100/100 [==============================] - 4s 36ms/step - loss: 2.2653 - val_loss: 3.4759\n"
     ]
    }
   ],
   "source": [
    "#For shape remeber, we have a variable defining the \"window\" and the features in the window...\n",
    "optimizer = RMSprop(learning_rate=0.0015)\n",
    "gru_model.compile(loss='mean_absolute_error', optimizer=optimizer)\n",
    "\n",
    "gru_history = gru_model.fit(X_train_unflatten_all_15, y_train_window_size_15,\n",
    "                              validation_data=(X_valid_unflatten_all_15, y_valid_window_size_15),\n",
    "                              epochs=EPOCHS,\n",
    "                              batch_size=BATCH_SIZE)"
   ]
  },
  {
   "cell_type": "code",
   "execution_count": 40,
   "metadata": {
    "colab": {
     "base_uri": "https://localhost:8080/",
     "height": 295
    },
    "executionInfo": {
     "elapsed": 501,
     "status": "ok",
     "timestamp": 1636496845628,
     "user": {
      "displayName": "Jan Faulstich",
      "photoUrl": "https://lh3.googleusercontent.com/a/default-user=s64",
      "userId": "01448353606380084380"
     },
     "user_tz": -60
    },
    "id": "78NdIh6S3BpA",
    "outputId": "cd38feb0-329f-4cb9-a475-759036f9044b"
   },
   "outputs": [
    {
     "data": {
      "image/png": "[encoded data removed]",
      "text/plain": [
       "<Figure size 432x288 with 1 Axes>"
      ]
     },
     "metadata": {
      "needs_background": "light"
     },
     "output_type": "display_data"
    }
   ],
   "source": [
    "loss_values = gru_history.history['loss']\n",
    "val_loss_values = gru_history.history['val_loss']\n",
    "epochs = range(1, len(loss_values)+1)\n",
    "\n",
    "plt.plot(epochs, loss_values, label='Training Loss')\n",
    "plt.plot(epochs, val_loss_values, label='Validation Loss')\n",
    "\n",
    "plt.title('Compiling history of GRU model')\n",
    "plt.xlabel('Epochs')\n",
    "plt.ylabel('Loss')\n",
    "plt.legend()\n",
    "\n",
    "plt.show()"
   ]
  },
  {
   "cell_type": "code",
   "execution_count": 41,
   "metadata": {
    "colab": {
     "base_uri": "https://localhost:8080/"
    },
    "executionInfo": {
     "elapsed": 2014,
     "status": "ok",
     "timestamp": 1636496847640,
     "user": {
      "displayName": "Jan Faulstich",
      "photoUrl": "https://lh3.googleusercontent.com/a/default-user=s64",
      "userId": "01448353606380084380"
     },
     "user_tz": -60
    },
    "id": "A-ic7Zfp3BpA",
    "outputId": "76ad9ebf-5636-45b9-b2dc-bbe216609ce2"
   },
   "outputs": [
    {
     "name": "stdout",
     "output_type": "stream",
     "text": [
      "Mean absolut error on test: 3.004458470752285\n"
     ]
    }
   ],
   "source": [
    "mae, mse = evaluate_3Dmodel(gru_model, X_test_unflatten_all_15, y_test_window_size_15)\n",
    "\n",
    "performance_df = performance_df.append({'Model': 'GRU', \n",
    "                                        'MAE score (on test set)': round(mae, 4),\n",
    "                                        'MSE score (on test set)': round(mse, 4)},\n",
    "                                       ignore_index=True)"
   ]
  },
  {
   "cell_type": "markdown",
   "metadata": {
    "id": "jtwuevAq3BpA"
   },
   "source": [
    "- **Brief summary**:\n",
    "\n",
    "    > As shown in the cell above, the GRU model's performance on the test dataset is 3.018 in terms of MAE.\n",
    "    \n",
    "    Compared to LSTM, GRU yields a slightly worse performance on the test set. Moreover, the graphs of the compile histories of both models seem very similar--both show that there is little learning after the first 2 or 3 epochs.\n",
    "    \n",
    "    ___Limitations___: \n",
    "    \n",
    "    With fewer parameters and gates in the neural network, while the speed of training has been increased, the complexity that can be captured by GRU is also reduced, which could be the reason for its lower performance results."
   ]
  },
  {
   "cell_type": "markdown",
   "metadata": {
    "id": "TIQZq6puLuyx"
   },
   "source": [
    "## Transformers: Attention is all you need!"
   ]
  },
  {
   "cell_type": "markdown",
   "metadata": {
    "id": "YA5i5Yrt3BpB"
   },
   "source": [
    "### Self-Attention\n",
    "\n",
    "- **Intro**:\n",
    "\n",
    "The Attention mechanism is one of the state of the art architecture. To gain some experience with it our group decided to try the attention architecture on the our electricity data.\n",
    "However, our prediction problem is not a sequence thats why we have to apply the self-attention mechanism. In the self-attention mechanism both the source of the queries and the target of the attention are input embeddings and are learned projections.\n",
    "\n",
    "During training we identified that high drop_out rate of 0.5 helps a lot to have a good convergence. Additionally, a batch size of 64 and and a dense layer size of 256 which enables the model to learn well.\n",
    "\n",
    "Unluckily, the model was also not able to beat the Dummy Regressor but for our group we learned very well how to apply self attention to predict.\n",
    "\n",
    "   \n",
    "\n",
    "- **Input data**:\n",
    "\n",
    "    The input data of the model has been normalized and rolled into a form of 3D data.\n",
    "    \n",
    "    > Training dataset: `X_train_window_size_15` and `y_train_window_size_15`\\\n",
    "    > Validation dataset: `X_valid_window_size_15` and `y_valid_window_size_15`\\\n",
    "    > Testing dataset: `X_test_window_size_15` and `y_test_window_size_15`\n",
    "\n",
    " \n",
    "- **Architecture**:\n",
    "\n",
    "1. Input Layer\n",
    "2. Embedding Layer for the query\n",
    "3. Self-Attention layer with the inputs and embedding layer\n",
    "4. Concatenating the input and attention layer\n",
    "5. 2x Dense Layers followed by a Dropout Layer\n",
    "6. Output Layer with a linear activation function\n"
   ]
  },
  {
   "cell_type": "code",
   "execution_count": 42,
   "metadata": {
    "executionInfo": {
     "elapsed": 5,
     "status": "ok",
     "timestamp": 1636496847641,
     "user": {
      "displayName": "Jan Faulstich",
      "photoUrl": "https://lh3.googleusercontent.com/a/default-user=s64",
      "userId": "01448353606380084380"
     },
     "user_tz": -60
    },
    "id": "T0xbgBz9Vdz0"
   },
   "outputs": [],
   "source": [
    "EPOCHS = 50\n",
    "BATCH_SIZE = 64\n",
    "DENSE_LAYER_SIZE = 256\n",
    "DROP_OUT = 0.0"
   ]
  },
  {
   "cell_type": "code",
   "execution_count": 47,
   "metadata": {
    "executionInfo": {
     "elapsed": 281,
     "status": "ok",
     "timestamp": 1636496871181,
     "user": {
      "displayName": "Jan Faulstich",
      "photoUrl": "https://lh3.googleusercontent.com/a/default-user=s64",
      "userId": "01448353606380084380"
     },
     "user_tz": -60
    },
    "id": "rzrRV7hWUMS9"
   },
   "outputs": [],
   "source": [
    "tf.compat.v1.reset_default_graph()\n",
    "be.clear_session()\n",
    "\n",
    "def create_self_attention():\n",
    "\n",
    "    \n",
    "    inputs_q = Input(shape=(X_train_window_size_15.shape[1],))\n",
    "\n",
    "    dense_embedding_layer_q = Dense(X_train_window_size_15.shape[1], activation='softmax')(inputs_q)\n",
    "\n",
    "    self_attention = tf.keras.layers.Attention()([inputs_q, dense_embedding_layer_q])\n",
    "\n",
    "    attention_inputs = merge.Concatenate()([inputs_q, self_attention])\n",
    "\n",
    "    Dense1 = Dense(DENSE_LAYER_SIZE, name='Dense1', activation='relu')(attention_inputs)\n",
    "\n",
    "    Dropout1 = Dropout(DROP_OUT)(Dense1)\n",
    "\n",
    "    Dense2 = Dense(DENSE_LAYER_SIZE, name='Dense2', activation='relu')(Dropout1)\n",
    "    Dropout2 = Dropout(DROP_OUT)(Dense2)\n",
    "\n",
    "    output = Dense(1, name='output', activation='linear')(Dropout2)\n",
    "\n",
    "    model = Model(inputs=[inputs_q], outputs=output)\n",
    "    print(\"Architecture of model:\\n\")\n",
    "    model.summary()\n",
    "\n",
    "    #Since we are using a 'state of the art'-model we also tried the 'state of the art'-optimizer \"ranger\"\n",
    "    radam = tfa.optimizers.RectifiedAdam()\n",
    "    ranger = tfa.optimizers.Lookahead(radam, sync_period=6, slow_step_size=0.5)\n",
    "    \n",
    "    model.compile(optimizer=ranger, loss='mae')\n",
    "\n",
    "    model_history = model.fit(X_train_window_size_15, y_train_window_size_15, \n",
    "                              validation_data=(X_valid_window_size_15, y_valid_window_size_15), \n",
    "                              epochs=EPOCHS, \n",
    "                              batch_size=BATCH_SIZE, \n",
    "                              shuffle=False)\n",
    "\n",
    "    return model, model_history"
   ]
  },
  {
   "cell_type": "code",
   "execution_count": 48,
   "metadata": {
    "colab": {
     "base_uri": "https://localhost:8080/"
    },
    "executionInfo": {
     "elapsed": 265356,
     "status": "ok",
     "timestamp": 1636497137456,
     "user": {
      "displayName": "Jan Faulstich",
      "photoUrl": "https://lh3.googleusercontent.com/a/default-user=s64",
      "userId": "01448353606380084380"
     },
     "user_tz": -60
    },
    "id": "M4d4KYQ6UOfU",
    "outputId": "d0b413e7-b0d0-4ba9-9fc1-cbfe7723b138"
   },
   "outputs": [
    {
     "name": "stdout",
     "output_type": "stream",
     "text": [
      "Architecture of model:\n",
      "\n",
      "Model: \"model\"\n",
      "__________________________________________________________________________________________________\n",
      " Layer (type)                   Output Shape         Param #     Connected to                     \n",
      "==================================================================================================\n",
      " input_1 (InputLayer)           [(None, 102)]        0           []                               \n",
      "                                                                                                  \n",
      " dense (Dense)                  (None, 102)          10506       ['input_1[0][0]']                \n",
      "                                                                                                  \n",
      " attention (Attention)          (None, 102)          0           ['input_1[0][0]',                \n",
      "                                                                  'dense[0][0]']                  \n",
      "                                                                                                  \n",
      " concatenate (Concatenate)      (None, 204)          0           ['input_1[0][0]',                \n",
      "                                                                  'attention[0][0]']              \n",
      "                                                                                                  \n",
      " Dense1 (Dense)                 (None, 256)          52480       ['concatenate[0][0]']            \n",
      "                                                                                                  \n",
      " dropout (Dropout)              (None, 256)          0           ['Dense1[0][0]']                 \n",
      "                                                                                                  \n",
      " Dense2 (Dense)                 (None, 256)          65792       ['dropout[0][0]']                \n",
      "                                                                                                  \n",
      " dropout_1 (Dropout)            (None, 256)          0           ['Dense2[0][0]']                 \n",
      "                                                                                                  \n",
      " output (Dense)                 (None, 1)            257         ['dropout_1[0][0]']              \n",
      "                                                                                                  \n",
      "==================================================================================================\n",
      "Total params: 129,035\n",
      "Trainable params: 129,035\n",
      "Non-trainable params: 0\n",
      "__________________________________________________________________________________________________\n",
      "Epoch 1/50\n",
      "467/467 [==============================] - 8s 11ms/step - loss: 72.3481 - val_loss: 6.7065\n",
      "Epoch 2/50\n",
      "467/467 [==============================] - 5s 11ms/step - loss: 82.5255 - val_loss: 9.4811\n",
      "Epoch 3/50\n",
      "467/467 [==============================] - 5s 10ms/step - loss: 78.5476 - val_loss: 9.0703\n",
      "Epoch 4/50\n",
      "467/467 [==============================] - 5s 11ms/step - loss: 75.1209 - val_loss: 11.7078\n",
      "Epoch 5/50\n",
      "467/467 [==============================] - 5s 10ms/step - loss: 74.4795 - val_loss: 3.6436\n",
      "Epoch 6/50\n",
      "467/467 [==============================] - 5s 11ms/step - loss: 51.9659 - val_loss: 3.9775\n",
      "Epoch 7/50\n",
      "467/467 [==============================] - 5s 10ms/step - loss: 55.0199 - val_loss: 3.9168\n",
      "Epoch 8/50\n",
      "467/467 [==============================] - 5s 11ms/step - loss: 44.8925 - val_loss: 7.5118\n",
      "Epoch 9/50\n",
      "467/467 [==============================] - 5s 11ms/step - loss: 29.3851 - val_loss: 5.7560\n",
      "Epoch 10/50\n",
      "467/467 [==============================] - 5s 10ms/step - loss: 30.7157 - val_loss: 3.7128\n",
      "Epoch 11/50\n",
      "467/467 [==============================] - 5s 10ms/step - loss: 27.7472 - val_loss: 7.3581\n",
      "Epoch 12/50\n",
      "467/467 [==============================] - 5s 10ms/step - loss: 23.9918 - val_loss: 3.5068\n",
      "Epoch 13/50\n",
      "467/467 [==============================] - 5s 10ms/step - loss: 19.5273 - val_loss: 5.3769\n",
      "Epoch 14/50\n",
      "467/467 [==============================] - 5s 11ms/step - loss: 16.8265 - val_loss: 4.0110\n",
      "Epoch 15/50\n",
      "467/467 [==============================] - 5s 10ms/step - loss: 15.6393 - val_loss: 4.9371\n",
      "Epoch 16/50\n",
      "467/467 [==============================] - 5s 11ms/step - loss: 14.4647 - val_loss: 4.2105\n",
      "Epoch 17/50\n",
      "467/467 [==============================] - 5s 11ms/step - loss: 12.4150 - val_loss: 3.5511\n",
      "Epoch 18/50\n",
      "467/467 [==============================] - 5s 10ms/step - loss: 9.2602 - val_loss: 4.2722\n",
      "Epoch 19/50\n",
      "467/467 [==============================] - 5s 11ms/step - loss: 5.9055 - val_loss: 3.8818\n",
      "Epoch 20/50\n",
      "467/467 [==============================] - 5s 10ms/step - loss: 7.9731 - val_loss: 3.7612\n",
      "Epoch 21/50\n",
      "467/467 [==============================] - 5s 11ms/step - loss: 7.0714 - val_loss: 4.1130\n",
      "Epoch 22/50\n",
      "467/467 [==============================] - 5s 11ms/step - loss: 6.3954 - val_loss: 3.5783\n",
      "Epoch 23/50\n",
      "467/467 [==============================] - 5s 10ms/step - loss: 4.6675 - val_loss: 3.6057\n",
      "Epoch 24/50\n",
      "467/467 [==============================] - 5s 11ms/step - loss: 3.8421 - val_loss: 4.0961\n",
      "Epoch 25/50\n",
      "467/467 [==============================] - 5s 10ms/step - loss: 3.0187 - val_loss: 3.7568\n",
      "Epoch 26/50\n",
      "467/467 [==============================] - 5s 10ms/step - loss: 3.2719 - val_loss: 3.6788\n",
      "Epoch 27/50\n",
      "467/467 [==============================] - 5s 10ms/step - loss: 3.4228 - val_loss: 3.4695\n",
      "Epoch 28/50\n",
      "467/467 [==============================] - 5s 10ms/step - loss: 3.2809 - val_loss: 4.0863\n",
      "Epoch 29/50\n",
      "467/467 [==============================] - 5s 11ms/step - loss: 3.5469 - val_loss: 3.9799\n",
      "Epoch 30/50\n",
      "467/467 [==============================] - 5s 10ms/step - loss: 2.9953 - val_loss: 3.7417\n",
      "Epoch 31/50\n",
      "467/467 [==============================] - 5s 11ms/step - loss: 2.9572 - val_loss: 3.6854\n",
      "Epoch 32/50\n",
      "467/467 [==============================] - 5s 11ms/step - loss: 2.7031 - val_loss: 3.7452\n",
      "Epoch 33/50\n",
      "467/467 [==============================] - 5s 11ms/step - loss: 3.3754 - val_loss: 3.6487\n",
      "Epoch 34/50\n",
      "467/467 [==============================] - 5s 10ms/step - loss: 2.6408 - val_loss: 3.5563\n",
      "Epoch 35/50\n",
      "467/467 [==============================] - 5s 11ms/step - loss: 2.8793 - val_loss: 3.5370\n",
      "Epoch 36/50\n",
      "467/467 [==============================] - 5s 11ms/step - loss: 2.7802 - val_loss: 3.4853\n",
      "Epoch 37/50\n",
      "467/467 [==============================] - 5s 10ms/step - loss: 2.5295 - val_loss: 3.5143\n",
      "Epoch 38/50\n",
      "467/467 [==============================] - 5s 11ms/step - loss: 2.5726 - val_loss: 3.5053\n",
      "Epoch 39/50\n",
      "467/467 [==============================] - 5s 11ms/step - loss: 2.5344 - val_loss: 3.4910\n",
      "Epoch 40/50\n",
      "467/467 [==============================] - 5s 10ms/step - loss: 2.4830 - val_loss: 3.4743\n",
      "Epoch 41/50\n",
      "467/467 [==============================] - 5s 10ms/step - loss: 2.4559 - val_loss: 3.5028\n",
      "Epoch 42/50\n",
      "467/467 [==============================] - 5s 10ms/step - loss: 2.4312 - val_loss: 3.5126\n",
      "Epoch 43/50\n",
      "467/467 [==============================] - 5s 11ms/step - loss: 2.3632 - val_loss: 3.4795\n",
      "Epoch 44/50\n",
      "467/467 [==============================] - 5s 10ms/step - loss: 2.3535 - val_loss: 3.4747\n",
      "Epoch 45/50\n",
      "467/467 [==============================] - 5s 10ms/step - loss: 2.3249 - val_loss: 3.4818\n",
      "Epoch 46/50\n",
      "467/467 [==============================] - 5s 11ms/step - loss: 2.3202 - val_loss: 3.4967\n",
      "Epoch 47/50\n",
      "467/467 [==============================] - 5s 10ms/step - loss: 2.3150 - val_loss: 3.4950\n",
      "Epoch 48/50\n",
      "467/467 [==============================] - 5s 11ms/step - loss: 2.2920 - val_loss: 3.4999\n",
      "Epoch 49/50\n",
      "467/467 [==============================] - 5s 10ms/step - loss: 2.2859 - val_loss: 3.4776\n",
      "Epoch 50/50\n",
      "467/467 [==============================] - 5s 10ms/step - loss: 2.2839 - val_loss: 3.4762\n"
     ]
    }
   ],
   "source": [
    "model, model_history = create_self_attention()"
   ]
  },
  {
   "cell_type": "code",
   "execution_count": 49,
   "metadata": {
    "colab": {
     "base_uri": "https://localhost:8080/",
     "height": 279
    },
    "executionInfo": {
     "elapsed": 19,
     "status": "ok",
     "timestamp": 1636497137457,
     "user": {
      "displayName": "Jan Faulstich",
      "photoUrl": "https://lh3.googleusercontent.com/a/default-user=s64",
      "userId": "01448353606380084380"
     },
     "user_tz": -60
    },
    "id": "pX-aqRjrUVFR",
    "outputId": "59b85886-01e3-497f-e632-1332eeb05906"
   },
   "outputs": [
    {
     "data": {
      "image/png": "[encoded data removed]",
      "text/plain": [
       "<Figure size 432x288 with 1 Axes>"
      ]
     },
     "metadata": {
      "needs_background": "light"
     },
     "output_type": "display_data"
    }
   ],
   "source": [
    "loss_values = model_history.history['loss']\n",
    "val_loss_values = model_history.history['val_loss']\n",
    "epochs = range(1, len(loss_values)+1)\n",
    "\n",
    "plt.plot(epochs, loss_values, label='Training Loss')\n",
    "plt.plot(epochs, val_loss_values, label='Validation Loss')\n",
    "plt.xlabel('Epochs')\n",
    "plt.ylabel('Loss')\n",
    "plt.legend()\n",
    "\n",
    "plt.show()"
   ]
  },
  {
   "cell_type": "code",
   "execution_count": 51,
   "metadata": {
    "colab": {
     "base_uri": "https://localhost:8080/"
    },
    "executionInfo": {
     "elapsed": 598,
     "status": "ok",
     "timestamp": 1636497179204,
     "user": {
      "displayName": "Jan Faulstich",
      "photoUrl": "https://lh3.googleusercontent.com/a/default-user=s64",
      "userId": "01448353606380084380"
     },
     "user_tz": -60
    },
    "id": "4tNBSDC1UPWP",
    "outputId": "84eb51f2-1ecf-4dbe-befb-d58c34fc8e08"
   },
   "outputs": [
    {
     "name": "stdout",
     "output_type": "stream",
     "text": [
      "Mean absolut error on test: 3.008265976374479\n",
      "Mean squared error on test: 41.88905556137337\n"
     ]
    }
   ],
   "source": [
    "mae, mse = evaluate_model(model, X_test_window_size_15, y_test_window_size_15)\n",
    "\n",
    "performance_df = performance_df.append({'Model': 'GRU', \n",
    "                                        'MAE score (on test set)': round(mae, 4),\n",
    "                                        'MSE score (on test set)': round(mse, 4)},\n",
    "                                       ignore_index=True)"
   ]
  },
  {
   "cell_type": "markdown",
   "metadata": {
    "id": "fFcQ3jQPVq8m"
   },
   "source": [
    "# Summary\n",
    "<b>In this part, we summairzed the results of all the models above. </b>\n"
   ]
  },
  {
   "cell_type": "code",
   "execution_count": 52,
   "metadata": {
    "colab": {
     "base_uri": "https://localhost:8080/",
     "height": 421
    },
    "executionInfo": {
     "elapsed": 209,
     "status": "ok",
     "timestamp": 1636497182425,
     "user": {
      "displayName": "Jan Faulstich",
      "photoUrl": "https://lh3.googleusercontent.com/a/default-user=s64",
      "userId": "01448353606380084380"
     },
     "user_tz": -60
    },
    "id": "AWmAIR0XVrNf",
    "outputId": "ae062738-10d5-4c0b-c072-bc0fcdc02b7a"
   },
   "outputs": [
    {
     "data": {
      "text/html": [
       "<div>\n",
       "<style scoped>\n",
       "    .dataframe tbody tr th:only-of-type {\n",
       "        vertical-align: middle;\n",
       "    }\n",
       "\n",
       "    .dataframe tbody tr th {\n",
       "        vertical-align: top;\n",
       "    }\n",
       "\n",
       "    .dataframe thead th {\n",
       "        text-align: right;\n",
       "    }\n",
       "</style>\n",
       "<table border=\"1\" class=\"dataframe\">\n",
       "  <thead>\n",
       "    <tr style=\"text-align: right;\">\n",
       "      <th></th>\n",
       "      <th>Model</th>\n",
       "      <th>MAE score (on test set)</th>\n",
       "      <th>MSE score (on test set)</th>\n",
       "    </tr>\n",
       "  </thead>\n",
       "  <tbody>\n",
       "    <tr>\n",
       "      <th>10</th>\n",
       "      <td>GRU</td>\n",
       "      <td>3.0045</td>\n",
       "      <td>41.9208</td>\n",
       "    </tr>\n",
       "    <tr>\n",
       "      <th>4</th>\n",
       "      <td>LightGBM</td>\n",
       "      <td>3.0055</td>\n",
       "      <td>41.9226</td>\n",
       "    </tr>\n",
       "    <tr>\n",
       "      <th>7</th>\n",
       "      <td>Mulit-Layer Perceptron</td>\n",
       "      <td>3.0072</td>\n",
       "      <td>NaN</td>\n",
       "    </tr>\n",
       "    <tr>\n",
       "      <th>8</th>\n",
       "      <td>CNN</td>\n",
       "      <td>3.0077</td>\n",
       "      <td>41.9333</td>\n",
       "    </tr>\n",
       "    <tr>\n",
       "      <th>5</th>\n",
       "      <td>Support Vector Regressor</td>\n",
       "      <td>3.0078</td>\n",
       "      <td>41.9332</td>\n",
       "    </tr>\n",
       "    <tr>\n",
       "      <th>11</th>\n",
       "      <td>GRU</td>\n",
       "      <td>3.0083</td>\n",
       "      <td>41.8891</td>\n",
       "    </tr>\n",
       "    <tr>\n",
       "      <th>0</th>\n",
       "      <td>Dummy Regressor</td>\n",
       "      <td>3.0112</td>\n",
       "      <td>41.9299</td>\n",
       "    </tr>\n",
       "    <tr>\n",
       "      <th>9</th>\n",
       "      <td>LSTM</td>\n",
       "      <td>3.0134</td>\n",
       "      <td>42.0221</td>\n",
       "    </tr>\n",
       "    <tr>\n",
       "      <th>3</th>\n",
       "      <td>Random Forest</td>\n",
       "      <td>3.0389</td>\n",
       "      <td>43.3678</td>\n",
       "    </tr>\n",
       "    <tr>\n",
       "      <th>1</th>\n",
       "      <td>Linear Regression</td>\n",
       "      <td>3.1070</td>\n",
       "      <td>43.5284</td>\n",
       "    </tr>\n",
       "    <tr>\n",
       "      <th>6</th>\n",
       "      <td>K-Nearest Neighbor</td>\n",
       "      <td>3.2770</td>\n",
       "      <td>44.1127</td>\n",
       "    </tr>\n",
       "    <tr>\n",
       "      <th>2</th>\n",
       "      <td>Linear Regression (poly transformed)</td>\n",
       "      <td>4.9192</td>\n",
       "      <td>110.6759</td>\n",
       "    </tr>\n",
       "  </tbody>\n",
       "</table>\n",
       "</div>"
      ],
      "text/plain": [
       "                                   Model  ...  MSE score (on test set)\n",
       "10                                   GRU  ...                  41.9208\n",
       "4                               LightGBM  ...                  41.9226\n",
       "7                 Mulit-Layer Perceptron  ...                      NaN\n",
       "8                                    CNN  ...                  41.9333\n",
       "5               Support Vector Regressor  ...                  41.9332\n",
       "11                                   GRU  ...                  41.8891\n",
       "0                        Dummy Regressor  ...                  41.9299\n",
       "9                                   LSTM  ...                  42.0221\n",
       "3                          Random Forest  ...                  43.3678\n",
       "1                      Linear Regression  ...                  43.5284\n",
       "6                     K-Nearest Neighbor  ...                  44.1127\n",
       "2   Linear Regression (poly transformed)  ...                 110.6759\n",
       "\n",
       "[12 rows x 3 columns]"
      ]
     },
     "execution_count": 52,
     "metadata": {},
     "output_type": "execute_result"
    }
   ],
   "source": [
    "performance_df.sort_values('MAE score (on test set)')"
   ]
  },
  {
   "cell_type": "markdown",
   "metadata": {
    "id": "Gn887lVMDZAH"
   },
   "source": [
    "**Observations**: \n",
    "Since the results for data with a window size of 15 are similar to that with a window size of 5, to avoid repetition, please refer to the jupyter notebook/presentation slides for our analysis."
   ]
  }
 ],
 "metadata": {
  "accelerator": "GPU",
  "colab": {
   "collapsed_sections": [],
   "machine_shape": "hm",
   "name": "Notebook_3_Electricity Price Prediction - Window Size 15.ipynb",
   "provenance": []
  },
  "interpreter": {
   "hash": "89e63de8770f628c77675a9211c73c50d8048a4fbbbf8de889960f40f43afefe"
  },
  "kernelspec": {
   "display_name": "Python 3",
   "language": "python",
   "name": "python3"
  },
  "language_info": {
   "codemirror_mode": {
    "name": "ipython",
    "version": 3
   },
   "file_extension": ".py",
   "mimetype": "text/x-python",
   "name": "python",
   "nbconvert_exporter": "python",
   "pygments_lexer": "ipython3",
   "version": "3.9.2"
  }
 },
 "nbformat": 4,
 "nbformat_minor": 4
}
