{
 "cells": [
  {
   "cell_type": "markdown",
   "metadata": {
    "id": "gSa2MDIf8bJl"
   },
   "source": [
    "# This is the submission Notebook of Team Sigmoid Freud \n",
    "by Qianjing, Danie, Jacob, Fan, Jan"
   ]
  },
  {
   "cell_type": "markdown",
   "metadata": {
    "id": "5FVGL4igF1gQ"
   },
   "source": [
    "# <b>1.Load Data and Packages</b>\n",
    "<b>Firstly, we downloaded the data, imported necessary packages and loaded the data into DataFrames. </b>"
   ]
  },
  {
   "cell_type": "code",
   "execution_count": null,
   "metadata": {
    "collapsed": true,
    "id": "uQ2rA9p-8ays",
    "jupyter": {
     "outputs_hidden": true
    }
   },
   "outputs": [],
   "source": [
    "#Demonstration data used in this excercise is already preprocessed and split into\n",
    "#training, validation, and test sets\n",
    "\n",
    "#Use wget to download the data stored in csv format.\n",
    "import itertools\n",
    "\n",
    "#Define what files to download; download all of the preprocessed data\n",
    "#Note that the data are already split into Train, Validation, and Test sets.\n",
    "#The predictor data are denoted with 'X', the target by 'y'\n",
    "data_download = {}\n",
    "data_download[\"window_size\"] = [5, 15]\n",
    "data_download[\"data_type\"] = [\"train\", \"valid\", \"test\"]\n",
    "data_download[\"predictor_or_target\"] = [\"X\", \"y\"]\n",
    "\n",
    "#Prepare the combinations of the window sizes and the data types\n",
    "keys, values = zip(*data_download.items())\n",
    "data_download_combinations = [dict(zip(keys, v)) for v in itertools.product(*values)]\n",
    "display('The kind of data to be downloaded:', data_download_combinations)\n",
    "\n",
    "print(\"Downloading started...\")\n",
    "for data_download_param in data_download_combinations:\n",
    "    file_to_download = \"https://frankfurt-school-dataset.s3.eu-central-1.amazonaws.com/Sept2021/window_size_{0}_time_encoding_True/{1}_{2}_window_size_{0}_time_encoding_True.csv\"\\\n",
    "                     .format(data_download_param[\"window_size\"], data_download_param[\"predictor_or_target\"], data_download_param[\"data_type\"])\n",
    "\n",
    "  #the actual downloading\n",
    "  !wget \"$file_to_download\"\n",
    "\n",
    "print(\"Downloading has finished\")"
   ]
  },
  {
   "cell_type": "code",
   "execution_count": null,
   "metadata": {
    "id": "0kXqFJuvOXpJ"
   },
   "outputs": [],
   "source": [
    "pip install tensorflow-addons"
   ]
  },
  {
   "cell_type": "code",
   "execution_count": null,
   "metadata": {
    "id": "YaqGwjYoiSzh"
   },
   "outputs": [],
   "source": [
    "pip install catboost"
   ]
  },
  {
   "cell_type": "code",
   "execution_count": 4,
   "metadata": {
    "executionInfo": {
     "elapsed": 2438,
     "status": "ok",
     "timestamp": 1636219095102,
     "user": {
      "displayName": "Jay J",
      "photoUrl": "https://lh3.googleusercontent.com/a-/AOh14GhYhjEIqny0vZW15UJvY7jtn845uh7AICvCtJGe=s64",
      "userId": "05851186706035953007"
     },
     "user_tz": -60
    },
    "id": "9n31apy383Mu"
   },
   "outputs": [],
   "source": [
    "#Imports basic packages for our tasks\n",
    "import pandas as pd\n",
    "import numpy as np\n",
    "\n",
    "#Imports visualization packages\n",
    "import matplotlib.pyplot as plt\n",
    "import seaborn as sns\n",
    "\n",
    "#Import ML packages\n",
    "from sklearn.linear_model import LinearRegression\n",
    "from sklearn.dummy import DummyRegressor\n",
    "from sklearn.ensemble import RandomForestRegressor\n",
    "from sklearn.svm import SVR\n",
    "from sklearn.pipeline import Pipeline\n",
    "from sklearn.compose import ColumnTransformer\n",
    "from sklearn.neighbors import KNeighborsRegressor\n",
    "from sklearn.metrics import mean_absolute_error, r2_score, make_scorer\n",
    "from sklearn.preprocessing import MinMaxScaler, PolynomialFeatures\n",
    "from sklearn.model_selection import GridSearchCV, cross_val_score\n",
    "import xgboost as xgb\n",
    "import catboost\n",
    "from catboost import CatBoostRegressor \n",
    "import lightgbm as lgb\n",
    "\n",
    "#Import DL packages\n",
    "import tensorflow as tf\n",
    "import tensorflow.keras as k \n",
    "from keras.models import *\n",
    "from keras.layers import merge\n",
    "from keras.layers.core import *\n",
    "from tensorflow.keras import Model, Sequential\n",
    "from tensorflow.keras import backend as be\n",
    "from tensorflow.keras.layers import *\n",
    "from tensorflow.keras.layers import Dense, Dropout, Input, Conv1D, MaxPool1D, Embedding, Attention\n",
    "from tensorflow.keras.callbacks import ModelCheckpoint, LearningRateScheduler, EarlyStopping\n",
    "from tensorflow.keras.optimizers import Adadelta, Adam, RMSprop\n",
    "from tensorflow.keras.regularizers import *\n",
    "from tensorflow.keras.backend import clear_session\n",
    "from tensorflow.math import exp\n",
    "import tensorflow_addons as tfa\n",
    "\n",
    "import warnings\n",
    "warnings.filterwarnings('ignore')"
   ]
  },
  {
   "cell_type": "code",
   "execution_count": 5,
   "metadata": {
    "executionInfo": {
     "elapsed": 532,
     "status": "ok",
     "timestamp": 1636219096255,
     "user": {
      "displayName": "Jay J",
      "photoUrl": "https://lh3.googleusercontent.com/a-/AOh14GhYhjEIqny0vZW15UJvY7jtn845uh7AICvCtJGe=s64",
      "userId": "05851186706035953007"
     },
     "user_tz": -60
    },
    "id": "Wn6ykoiI9sTr"
   },
   "outputs": [],
   "source": [
    "#Load the datasets with a sliding window size of 5\n",
    "X_train_window_size_5 = pd.read_csv('X_train_window_size_5_time_encoding_True.csv')\n",
    "X_valid_window_size_5 = pd.read_csv('X_valid_window_size_5_time_encoding_True.csv')\n",
    "X_test_window_size_5 = pd.read_csv('X_test_window_size_5_time_encoding_True.csv')\n",
    "y_train_window_size_5 = pd.read_csv('y_train_window_size_5_time_encoding_True.csv')\n",
    "y_valid_window_size_5 = pd.read_csv('y_valid_window_size_5_time_encoding_True.csv')\n",
    "y_test_window_size_5 = pd.read_csv('y_test_window_size_5_time_encoding_True.csv')"
   ]
  },
  {
   "cell_type": "markdown",
   "metadata": {
    "id": "Uy2dNrGz-x-I"
   },
   "source": [
    "# <b>2.Exploratory Data Analysis (EDA)</b>\n",
    "<b>In the second part, we statistically and visually explored the data for an intuitive understanding. </b>"
   ]
  },
  {
   "cell_type": "markdown",
   "metadata": {
    "id": "grIzJx89E1KA"
   },
   "source": [
    "## 2.1.Check the data\n",
    "Firstly, we inspected the basic data structure and renamed the trading-related columns for a more intuitive understanding. As shown below, the data is equally distributed with no Null value. However, all trading features have relatively high standard deviation, with the \"volumn\" and \"minutes\" columns being the highest, indicating the existence of extreme values in these columns.\n"
   ]
  },
  {
   "cell_type": "code",
   "execution_count": 6,
   "metadata": {
    "colab": {
     "base_uri": "https://localhost:8080/"
    },
    "collapsed": true,
    "executionInfo": {
     "elapsed": 304,
     "status": "ok",
     "timestamp": 1636219098070,
     "user": {
      "displayName": "Jay J",
      "photoUrl": "https://lh3.googleusercontent.com/a-/AOh14GhYhjEIqny0vZW15UJvY7jtn845uh7AICvCtJGe=s64",
      "userId": "05851186706035953007"
     },
     "user_tz": -60
    },
    "id": "NPPyhtSMANvj",
    "jupyter": {
     "outputs_hidden": true
    },
    "outputId": "cdf9ccb2-b5d1-4850-d7a7-bf5caa2ffb65"
   },
   "outputs": [
    {
     "name": "stdout",
     "output_type": "stream",
     "text": [
      "<class 'pandas.core.frame.DataFrame'>\n",
      "RangeIndex: 91512 entries, 0 to 91511\n",
      "Data columns (total 41 columns):\n",
      " #   Column                  Non-Null Count  Dtype  \n",
      "---  ------                  --------------  -----  \n",
      " 0   total_hours             91512 non-null  float64\n",
      " 1   dlvry_weekend           91512 non-null  float64\n",
      " 2   dlvry_bank_holiday      91512 non-null  float64\n",
      " 3   dlvry_day_sin           91512 non-null  float64\n",
      " 4   dlvry_day_cos           91512 non-null  float64\n",
      " 5   dlvry_weekday_sin       91512 non-null  float64\n",
      " 6   dlvry_weekday_cos       91512 non-null  float64\n",
      " 7   dlvry_hour_sin          91512 non-null  float64\n",
      " 8   dlvry_hour_cos          91512 non-null  float64\n",
      " 9   lasttrade_weekend       91512 non-null  float64\n",
      " 10  lasttrade_bank_holiday  91512 non-null  float64\n",
      " 11  lasttrade_day_sin       91512 non-null  float64\n",
      " 12  lasttrade_day_cos       91512 non-null  float64\n",
      " 13  lasttrade_weekday_sin   91512 non-null  float64\n",
      " 14  lasttrade_weekday_cos   91512 non-null  float64\n",
      " 15  lasttrade_hour_sin      91512 non-null  float64\n",
      " 16  lasttrade_hour_cos      91512 non-null  float64\n",
      " 17  0                       91512 non-null  float64\n",
      " 18  1                       91512 non-null  float64\n",
      " 19  2                       91512 non-null  float64\n",
      " 20  3                       91512 non-null  float64\n",
      " 21  4                       91512 non-null  float64\n",
      " 22  5                       91512 non-null  float64\n",
      " 23  6                       91512 non-null  float64\n",
      " 24  7                       91512 non-null  float64\n",
      " 25  8                       91512 non-null  float64\n",
      " 26  9                       91512 non-null  float64\n",
      " 27  10                      91512 non-null  float64\n",
      " 28  11                      91512 non-null  float64\n",
      " 29  12                      91512 non-null  float64\n",
      " 30  13                      91512 non-null  float64\n",
      " 31  14                      91512 non-null  float64\n",
      " 32  15                      91512 non-null  float64\n",
      " 33  16                      91512 non-null  float64\n",
      " 34  17                      91512 non-null  float64\n",
      " 35  18                      91512 non-null  float64\n",
      " 36  19                      91512 non-null  float64\n",
      " 37  20                      91512 non-null  float64\n",
      " 38  21                      91512 non-null  float64\n",
      " 39  22                      91512 non-null  float64\n",
      " 40  23                      91512 non-null  float64\n",
      "dtypes: float64(41)\n",
      "memory usage: 28.6 MB\n"
     ]
    }
   ],
   "source": [
    "#Check the basic info of our data\n",
    "X_train_window_size_5.info()"
   ]
  },
  {
   "cell_type": "code",
   "execution_count": 7,
   "metadata": {
    "colab": {
     "base_uri": "https://localhost:8080/",
     "height": 320
    },
    "executionInfo": {
     "elapsed": 532,
     "status": "ok",
     "timestamp": 1636219101468,
     "user": {
      "displayName": "Jay J",
      "photoUrl": "https://lh3.googleusercontent.com/a-/AOh14GhYhjEIqny0vZW15UJvY7jtn845uh7AICvCtJGe=s64",
      "userId": "05851186706035953007"
     },
     "user_tz": -60
    },
    "id": "0rXVWPxYAgVI",
    "outputId": "172592c5-267d-4f71-84a9-fb30624bb164"
   },
   "outputs": [
    {
     "data": {
      "text/html": [
       "<div>\n",
       "<style scoped>\n",
       "    .dataframe tbody tr th:only-of-type {\n",
       "        vertical-align: middle;\n",
       "    }\n",
       "\n",
       "    .dataframe tbody tr th {\n",
       "        vertical-align: top;\n",
       "    }\n",
       "\n",
       "    .dataframe thead th {\n",
       "        text-align: right;\n",
       "    }\n",
       "</style>\n",
       "<table border=\"1\" class=\"dataframe\">\n",
       "  <thead>\n",
       "    <tr style=\"text-align: right;\">\n",
       "      <th></th>\n",
       "      <th>total_hours</th>\n",
       "      <th>dlvry_weekend</th>\n",
       "      <th>dlvry_bank_holiday</th>\n",
       "      <th>dlvry_day_sin</th>\n",
       "      <th>dlvry_day_cos</th>\n",
       "      <th>dlvry_weekday_sin</th>\n",
       "      <th>dlvry_weekday_cos</th>\n",
       "      <th>dlvry_hour_sin</th>\n",
       "      <th>dlvry_hour_cos</th>\n",
       "      <th>lasttrade_weekend</th>\n",
       "      <th>lasttrade_bank_holiday</th>\n",
       "      <th>lasttrade_day_sin</th>\n",
       "      <th>lasttrade_day_cos</th>\n",
       "      <th>lasttrade_weekday_sin</th>\n",
       "      <th>lasttrade_weekday_cos</th>\n",
       "      <th>lasttrade_hour_sin</th>\n",
       "      <th>lasttrade_hour_cos</th>\n",
       "      <th>open_4_3</th>\n",
       "      <th>high_4_3</th>\n",
       "      <th>low_4_3</th>\n",
       "      <th>close_4_3</th>\n",
       "      <th>volume_4_3</th>\n",
       "      <th>minutes_4_3</th>\n",
       "      <th>open_3_2</th>\n",
       "      <th>high_3_2</th>\n",
       "      <th>low_3_2</th>\n",
       "      <th>close_3_2</th>\n",
       "      <th>volume_3_2</th>\n",
       "      <th>minutes_3_2</th>\n",
       "      <th>open_2_1</th>\n",
       "      <th>high_2_1</th>\n",
       "      <th>low_2_1</th>\n",
       "      <th>close_2_1</th>\n",
       "      <th>volume_2_1</th>\n",
       "      <th>minutes_2_1</th>\n",
       "      <th>open_1_0</th>\n",
       "      <th>high_1_0</th>\n",
       "      <th>low_1_0</th>\n",
       "      <th>close_1_0</th>\n",
       "      <th>volume_1_0</th>\n",
       "      <th>minutes_1_0</th>\n",
       "    </tr>\n",
       "  </thead>\n",
       "  <tbody>\n",
       "    <tr>\n",
       "      <th>count</th>\n",
       "      <td>91512.000000</td>\n",
       "      <td>91512.000000</td>\n",
       "      <td>91512.000000</td>\n",
       "      <td>91512.000000</td>\n",
       "      <td>91512.000000</td>\n",
       "      <td>91512.000000</td>\n",
       "      <td>91512.000000</td>\n",
       "      <td>91512.000000</td>\n",
       "      <td>91512.000000</td>\n",
       "      <td>91512.000000</td>\n",
       "      <td>91512.000000</td>\n",
       "      <td>91512.000000</td>\n",
       "      <td>91512.000000</td>\n",
       "      <td>91512.000000</td>\n",
       "      <td>91512.000000</td>\n",
       "      <td>91512.000000</td>\n",
       "      <td>91512.000000</td>\n",
       "      <td>91512.000000</td>\n",
       "      <td>91512.000000</td>\n",
       "      <td>91512.000000</td>\n",
       "      <td>91512.000000</td>\n",
       "      <td>91512.000000</td>\n",
       "      <td>91512.000000</td>\n",
       "      <td>91512.000000</td>\n",
       "      <td>91512.000000</td>\n",
       "      <td>91512.000000</td>\n",
       "      <td>91512.000000</td>\n",
       "      <td>91512.000000</td>\n",
       "      <td>91512.000000</td>\n",
       "      <td>91512.000000</td>\n",
       "      <td>91512.000000</td>\n",
       "      <td>91512.000000</td>\n",
       "      <td>91512.000000</td>\n",
       "      <td>91512.000000</td>\n",
       "      <td>91512.000000</td>\n",
       "      <td>91512.000000</td>\n",
       "      <td>91512.000000</td>\n",
       "      <td>91512.000000</td>\n",
       "      <td>91512.000000</td>\n",
       "      <td>91512.000000</td>\n",
       "      <td>91512.000000</td>\n",
       "    </tr>\n",
       "    <tr>\n",
       "      <th>mean</th>\n",
       "      <td>21.076573</td>\n",
       "      <td>0.278215</td>\n",
       "      <td>0.031876</td>\n",
       "      <td>0.049590</td>\n",
       "      <td>-0.031720</td>\n",
       "      <td>0.012716</td>\n",
       "      <td>-0.006560</td>\n",
       "      <td>-0.274853</td>\n",
       "      <td>-0.172969</td>\n",
       "      <td>0.278958</td>\n",
       "      <td>0.031111</td>\n",
       "      <td>0.051690</td>\n",
       "      <td>-0.028087</td>\n",
       "      <td>0.012946</td>\n",
       "      <td>-0.002537</td>\n",
       "      <td>0.167920</td>\n",
       "      <td>0.272985</td>\n",
       "      <td>0.162057</td>\n",
       "      <td>0.110918</td>\n",
       "      <td>0.159535</td>\n",
       "      <td>0.084212</td>\n",
       "      <td>25.933776</td>\n",
       "      <td>789.619066</td>\n",
       "      <td>0.059150</td>\n",
       "      <td>0.181786</td>\n",
       "      <td>-0.045576</td>\n",
       "      <td>0.059811</td>\n",
       "      <td>38.583757</td>\n",
       "      <td>729.619066</td>\n",
       "      <td>0.060479</td>\n",
       "      <td>0.189616</td>\n",
       "      <td>-0.055592</td>\n",
       "      <td>0.044150</td>\n",
       "      <td>54.931951</td>\n",
       "      <td>669.619066</td>\n",
       "      <td>0.041233</td>\n",
       "      <td>0.195364</td>\n",
       "      <td>-0.098434</td>\n",
       "      <td>0.032456</td>\n",
       "      <td>87.409425</td>\n",
       "      <td>609.619066</td>\n",
       "    </tr>\n",
       "    <tr>\n",
       "      <th>std</th>\n",
       "      <td>5.485763</td>\n",
       "      <td>0.448122</td>\n",
       "      <td>0.175670</td>\n",
       "      <td>0.702321</td>\n",
       "      <td>0.709430</td>\n",
       "      <td>0.706995</td>\n",
       "      <td>0.707081</td>\n",
       "      <td>0.704416</td>\n",
       "      <td>0.631146</td>\n",
       "      <td>0.448489</td>\n",
       "      <td>0.173618</td>\n",
       "      <td>0.701305</td>\n",
       "      <td>0.710437</td>\n",
       "      <td>0.707360</td>\n",
       "      <td>0.706739</td>\n",
       "      <td>0.640014</td>\n",
       "      <td>0.698336</td>\n",
       "      <td>3.390137</td>\n",
       "      <td>3.206271</td>\n",
       "      <td>3.738540</td>\n",
       "      <td>2.939542</td>\n",
       "      <td>239.837714</td>\n",
       "      <td>325.538011</td>\n",
       "      <td>2.767407</td>\n",
       "      <td>3.074236</td>\n",
       "      <td>3.245567</td>\n",
       "      <td>2.816980</td>\n",
       "      <td>312.331294</td>\n",
       "      <td>325.538011</td>\n",
       "      <td>2.728786</td>\n",
       "      <td>3.157805</td>\n",
       "      <td>3.128701</td>\n",
       "      <td>2.857961</td>\n",
       "      <td>334.903828</td>\n",
       "      <td>325.538011</td>\n",
       "      <td>2.735750</td>\n",
       "      <td>3.308957</td>\n",
       "      <td>3.002296</td>\n",
       "      <td>3.001645</td>\n",
       "      <td>384.474903</td>\n",
       "      <td>325.538011</td>\n",
       "    </tr>\n",
       "    <tr>\n",
       "      <th>min</th>\n",
       "      <td>6.008203</td>\n",
       "      <td>0.000000</td>\n",
       "      <td>0.000000</td>\n",
       "      <td>-0.998717</td>\n",
       "      <td>-1.000000</td>\n",
       "      <td>-0.974928</td>\n",
       "      <td>-0.900969</td>\n",
       "      <td>-1.000000</td>\n",
       "      <td>-1.000000</td>\n",
       "      <td>0.000000</td>\n",
       "      <td>0.000000</td>\n",
       "      <td>-0.998717</td>\n",
       "      <td>-1.000000</td>\n",
       "      <td>-0.974928</td>\n",
       "      <td>-0.900969</td>\n",
       "      <td>-1.000000</td>\n",
       "      <td>-1.000000</td>\n",
       "      <td>-77.710000</td>\n",
       "      <td>-77.710000</td>\n",
       "      <td>-92.500000</td>\n",
       "      <td>-55.490000</td>\n",
       "      <td>-19986.100000</td>\n",
       "      <td>360.000000</td>\n",
       "      <td>-43.230000</td>\n",
       "      <td>-147.650000</td>\n",
       "      <td>-53.600000</td>\n",
       "      <td>-44.330000</td>\n",
       "      <td>-52469.700000</td>\n",
       "      <td>300.000000</td>\n",
       "      <td>-43.230000</td>\n",
       "      <td>-147.650000</td>\n",
       "      <td>-53.600000</td>\n",
       "      <td>-58.000000</td>\n",
       "      <td>-52469.700000</td>\n",
       "      <td>240.000000</td>\n",
       "      <td>-54.000000</td>\n",
       "      <td>-54.420000</td>\n",
       "      <td>-51.060000</td>\n",
       "      <td>-58.000000</td>\n",
       "      <td>-52469.700000</td>\n",
       "      <td>180.000000</td>\n",
       "    </tr>\n",
       "    <tr>\n",
       "      <th>25%</th>\n",
       "      <td>16.997189</td>\n",
       "      <td>0.000000</td>\n",
       "      <td>0.000000</td>\n",
       "      <td>-0.651372</td>\n",
       "      <td>-0.758758</td>\n",
       "      <td>-0.781831</td>\n",
       "      <td>-0.900969</td>\n",
       "      <td>-0.866025</td>\n",
       "      <td>-0.707107</td>\n",
       "      <td>0.000000</td>\n",
       "      <td>0.000000</td>\n",
       "      <td>-0.651372</td>\n",
       "      <td>-0.758758</td>\n",
       "      <td>-0.781831</td>\n",
       "      <td>-0.900969</td>\n",
       "      <td>-0.500000</td>\n",
       "      <td>-0.258819</td>\n",
       "      <td>-0.700000</td>\n",
       "      <td>-0.690000</td>\n",
       "      <td>-0.650000</td>\n",
       "      <td>-0.730000</td>\n",
       "      <td>-13.400000</td>\n",
       "      <td>540.000000</td>\n",
       "      <td>-0.700000</td>\n",
       "      <td>-0.650000</td>\n",
       "      <td>-0.720000</td>\n",
       "      <td>-0.790000</td>\n",
       "      <td>-13.500000</td>\n",
       "      <td>480.000000</td>\n",
       "      <td>-0.740000</td>\n",
       "      <td>-0.680000</td>\n",
       "      <td>-0.780000</td>\n",
       "      <td>-0.850000</td>\n",
       "      <td>-14.600000</td>\n",
       "      <td>420.000000</td>\n",
       "      <td>-0.800000</td>\n",
       "      <td>-0.710000</td>\n",
       "      <td>-0.830000</td>\n",
       "      <td>-0.900000</td>\n",
       "      <td>-12.900000</td>\n",
       "      <td>360.000000</td>\n",
       "    </tr>\n",
       "    <tr>\n",
       "      <th>50%</th>\n",
       "      <td>21.958922</td>\n",
       "      <td>0.000000</td>\n",
       "      <td>0.000000</td>\n",
       "      <td>0.101168</td>\n",
       "      <td>-0.050649</td>\n",
       "      <td>0.000000</td>\n",
       "      <td>-0.222521</td>\n",
       "      <td>-0.500000</td>\n",
       "      <td>-0.258819</td>\n",
       "      <td>0.000000</td>\n",
       "      <td>0.000000</td>\n",
       "      <td>0.101168</td>\n",
       "      <td>-0.050649</td>\n",
       "      <td>0.000000</td>\n",
       "      <td>-0.222521</td>\n",
       "      <td>0.258819</td>\n",
       "      <td>0.500000</td>\n",
       "      <td>0.000000</td>\n",
       "      <td>0.000000</td>\n",
       "      <td>0.000000</td>\n",
       "      <td>0.000000</td>\n",
       "      <td>1.400000</td>\n",
       "      <td>720.000000</td>\n",
       "      <td>0.000000</td>\n",
       "      <td>0.000000</td>\n",
       "      <td>0.000000</td>\n",
       "      <td>0.000000</td>\n",
       "      <td>3.500000</td>\n",
       "      <td>660.000000</td>\n",
       "      <td>0.000000</td>\n",
       "      <td>0.000000</td>\n",
       "      <td>0.000000</td>\n",
       "      <td>0.000000</td>\n",
       "      <td>6.000000</td>\n",
       "      <td>600.000000</td>\n",
       "      <td>0.000000</td>\n",
       "      <td>0.000000</td>\n",
       "      <td>0.000000</td>\n",
       "      <td>0.000000</td>\n",
       "      <td>11.100000</td>\n",
       "      <td>540.000000</td>\n",
       "    </tr>\n",
       "    <tr>\n",
       "      <th>75%</th>\n",
       "      <td>25.484821</td>\n",
       "      <td>1.000000</td>\n",
       "      <td>0.000000</td>\n",
       "      <td>0.743145</td>\n",
       "      <td>0.688967</td>\n",
       "      <td>0.781831</td>\n",
       "      <td>0.623490</td>\n",
       "      <td>0.500000</td>\n",
       "      <td>0.500000</td>\n",
       "      <td>1.000000</td>\n",
       "      <td>0.000000</td>\n",
       "      <td>0.743145</td>\n",
       "      <td>0.688967</td>\n",
       "      <td>0.781831</td>\n",
       "      <td>0.623490</td>\n",
       "      <td>0.707107</td>\n",
       "      <td>0.866025</td>\n",
       "      <td>0.800000</td>\n",
       "      <td>0.730000</td>\n",
       "      <td>0.800000</td>\n",
       "      <td>0.810000</td>\n",
       "      <td>48.200000</td>\n",
       "      <td>1020.000000</td>\n",
       "      <td>0.770000</td>\n",
       "      <td>0.800000</td>\n",
       "      <td>0.710000</td>\n",
       "      <td>0.850000</td>\n",
       "      <td>68.000000</td>\n",
       "      <td>960.000000</td>\n",
       "      <td>0.800000</td>\n",
       "      <td>0.840000</td>\n",
       "      <td>0.710000</td>\n",
       "      <td>0.890000</td>\n",
       "      <td>93.100000</td>\n",
       "      <td>900.000000</td>\n",
       "      <td>0.820000</td>\n",
       "      <td>0.900000</td>\n",
       "      <td>0.720000</td>\n",
       "      <td>0.940000</td>\n",
       "      <td>134.000000</td>\n",
       "      <td>840.000000</td>\n",
       "    </tr>\n",
       "    <tr>\n",
       "      <th>max</th>\n",
       "      <td>31.999669</td>\n",
       "      <td>1.000000</td>\n",
       "      <td>1.000000</td>\n",
       "      <td>1.000000</td>\n",
       "      <td>1.000000</td>\n",
       "      <td>0.974928</td>\n",
       "      <td>1.000000</td>\n",
       "      <td>1.000000</td>\n",
       "      <td>1.000000</td>\n",
       "      <td>1.000000</td>\n",
       "      <td>1.000000</td>\n",
       "      <td>1.000000</td>\n",
       "      <td>1.000000</td>\n",
       "      <td>0.974928</td>\n",
       "      <td>1.000000</td>\n",
       "      <td>1.000000</td>\n",
       "      <td>1.000000</td>\n",
       "      <td>63.990000</td>\n",
       "      <td>151.600000</td>\n",
       "      <td>96.400000</td>\n",
       "      <td>65.120000</td>\n",
       "      <td>50436.600000</td>\n",
       "      <td>1860.000000</td>\n",
       "      <td>63.990000</td>\n",
       "      <td>151.600000</td>\n",
       "      <td>96.400000</td>\n",
       "      <td>80.080000</td>\n",
       "      <td>50436.600000</td>\n",
       "      <td>1800.000000</td>\n",
       "      <td>89.250000</td>\n",
       "      <td>104.000000</td>\n",
       "      <td>60.140000</td>\n",
       "      <td>84.480000</td>\n",
       "      <td>50436.600000</td>\n",
       "      <td>1740.000000</td>\n",
       "      <td>100.420000</td>\n",
       "      <td>133.050000</td>\n",
       "      <td>60.140000</td>\n",
       "      <td>129.110000</td>\n",
       "      <td>50436.600000</td>\n",
       "      <td>1680.000000</td>\n",
       "    </tr>\n",
       "  </tbody>\n",
       "</table>\n",
       "</div>"
      ],
      "text/plain": [
       "        total_hours  dlvry_weekend  ...    volume_1_0   minutes_1_0\n",
       "count  91512.000000   91512.000000  ...  91512.000000  91512.000000\n",
       "mean      21.076573       0.278215  ...     87.409425    609.619066\n",
       "std        5.485763       0.448122  ...    384.474903    325.538011\n",
       "min        6.008203       0.000000  ... -52469.700000    180.000000\n",
       "25%       16.997189       0.000000  ...    -12.900000    360.000000\n",
       "50%       21.958922       0.000000  ...     11.100000    540.000000\n",
       "75%       25.484821       1.000000  ...    134.000000    840.000000\n",
       "max       31.999669       1.000000  ...  50436.600000   1680.000000\n",
       "\n",
       "[8 rows x 41 columns]"
      ]
     },
     "execution_count": 7,
     "metadata": {},
     "output_type": "execute_result"
    }
   ],
   "source": [
    "#Rename trading columns 1 - 23\n",
    "\n",
    "def rename_time_series(df):\n",
    "    labels = [\"open\", \"high\", \"low\", \"close\", \"volume\", \"minutes\"]\n",
    "    new_cols = list(df.columns[:17])\n",
    "    for i in range(4, 0, -1):\n",
    "        for label in labels:\n",
    "            new_cols.append(label+f\"_{i}_{i-1}\")\n",
    "    df_original = df.copy()\n",
    "    df.columns = new_cols\n",
    "    return df\n",
    "\n",
    "X_train_window_size_5 = rename_time_series(X_train_window_size_5)\n",
    "X_valid_window_size_5 = rename_time_series(X_valid_window_size_5)\n",
    "X_test_window_size_5 = rename_time_series(X_test_window_size_5)\n",
    "\n",
    "X_train_window_size_5.describe()"
   ]
  },
  {
   "cell_type": "markdown",
   "metadata": {
    "id": "Ll-fBIw7Du4b"
   },
   "source": [
    "## 2.2.Plot data distribution by distinct contract\n",
    "This step checks the number of rows per distinct contract represented by the \"total_hours\" column. A clear alternation of peaks and bottoms can be seen between neighbouring contracts"
   ]
  },
  {
   "cell_type": "code",
   "execution_count": 8,
   "metadata": {
    "colab": {
     "base_uri": "https://localhost:8080/",
     "height": 280
    },
    "executionInfo": {
     "elapsed": 325,
     "status": "ok",
     "timestamp": 1636219105608,
     "user": {
      "displayName": "Jay J",
      "photoUrl": "https://lh3.googleusercontent.com/a-/AOh14GhYhjEIqny0vZW15UJvY7jtn845uh7AICvCtJGe=s64",
      "userId": "05851186706035953007"
     },
     "user_tz": -60
    },
    "id": "s-uZiCfTBZVu",
    "outputId": "d784f449-efe0-43d8-9163-38c000b89f73"
   },
   "outputs": [
    {
     "data": {
      "image/png": "[encoded data removed]",
      "text/plain": [
       "<Figure size 432x288 with 1 Axes>"
      ]
     },
     "metadata": {
      "needs_background": "light"
     },
     "output_type": "display_data"
    }
   ],
   "source": [
    "# Group rows by contract \"total_hours\" and plot the distribution\n",
    "X_train_window_size_5_grouped = X_train_window_size_5.groupby(\"total_hours\").size().reset_index()\n",
    "X_train_window_size_5_grouped.rename(columns={0: \"rowcount\"}, inplace=True)\n",
    "\n",
    "plt.hist(X_train_window_size_5[\"total_hours\"], label=\"Count of Rows\", bins=50)\n",
    "plt.xlabel(\"total_hours (distinct)\")\n",
    "plt.ylabel(\"rowcount\")\n",
    "plt.show()"
   ]
  },
  {
   "cell_type": "markdown",
   "metadata": {
    "id": "ClXETCpdDkTe"
   },
   "source": [
    "## 2.3.Plot trading features \n",
    "This step visualizes the trading data specifically. Shown in the graphs below, the open, high, low and close price features resemble sound waves when plotted against the contract \"total_hours\" with some clearly visible extreme values. Trading volumns share an extreme peak for some contracts with around 11.6 hours."
   ]
  },
  {
   "cell_type": "code",
   "execution_count": 9,
   "metadata": {
    "executionInfo": {
     "elapsed": 295,
     "status": "ok",
     "timestamp": 1636219108629,
     "user": {
      "displayName": "Jay J",
      "photoUrl": "https://lh3.googleusercontent.com/a-/AOh14GhYhjEIqny0vZW15UJvY7jtn845uh7AICvCtJGe=s64",
      "userId": "05851186706035953007"
     },
     "user_tz": -60
    },
    "id": "oOWEIn-w-1th"
   },
   "outputs": [],
   "source": [
    "#First create our helper models to plot the data\n",
    "def plot_subplots(dataframe: pd.DataFrame, title: str):\n",
    "    \"\"\"\n",
    "    Draws one subplot for each of the columns in the DataFrame.\n",
    "    \"\"\"\n",
    "    \n",
    "    fig, axes = plt.subplots(nrows=len(dataframe.columns), figsize=(20,20))\n",
    "    labels = list(dataframe.columns)\n",
    "\n",
    "    for idx, row in enumerate(axes):\n",
    "        y = dataframe.iloc[:, idx]\n",
    "        row.plot(y, label=y.name)\n",
    "        row.set_ylabel(labels[idx])\n",
    "\n",
    "    fig.set_facecolor(\"grey\")\n",
    "    fig.suptitle(title, size=15, y=0.9)\n",
    "    plt.show()\n",
    "\n",
    "def plot_subplots_wrapper(\n",
    "    dataframe: pd.DataFrame,\n",
    "    title: str,\n",
    "    labels: list = [\"open\", \"high\", \"low\", \"close\", \"volume\", \"minutes\"]\n",
    "    ):\n",
    "    \"\"\"\n",
    "    Calls the 'plot_subplots' function for each label provided in labels and selects columns that start with the label.\n",
    "    \"\"\"\n",
    "\n",
    "    #df = dataframe.copy()\n",
    "    for label in labels:\n",
    "        print(f\"Plots for {label}:\")\n",
    "        title = title + f\" {label}\"\n",
    "        plot_subplots(dataframe.loc[:,dataframe.columns.str.startswith(label)], title)"
   ]
  },
  {
   "cell_type": "code",
   "execution_count": null,
   "metadata": {
    "collapsed": true,
    "id": "eIcPr8gpCOhZ",
    "jupyter": {
     "outputs_hidden": true
    }
   },
   "outputs": [],
   "source": [
    "# Plotting all trading features by contract\n",
    "df_to_plot = X_train_window_size_5.copy()\n",
    "title = \"General Plots for all data:\"\n",
    "plot_subplots_wrapper(df_to_plot, title)"
   ]
  },
  {
   "cell_type": "code",
   "execution_count": null,
   "metadata": {
    "collapsed": true,
    "id": "Bof8ZGgfCedE",
    "jupyter": {
     "outputs_hidden": true
    }
   },
   "outputs": [],
   "source": [
    "# Plotting all trading features from only the first 20 rows by contract\n",
    "df_to_plot = X_train_window_size_5.copy()\n",
    "title = \"General Plots for just the first 20 Rows:\"\n",
    "plot_subplots_wrapper(df_to_plot.iloc[:20, :].reset_index(), title)"
   ]
  },
  {
   "cell_type": "markdown",
   "metadata": {
    "id": "AVho1myuDOZA"
   },
   "source": [
    "## 2.4.Plot correlation matrix\n",
    "The heatmap below reveals that delivery-related features strongly  correlated with last-trade-related features on the daily level. Also, the sin & cos transformations are highly correlated with their corresponding original features. The \"minutes\" columns at different time steps are also strongly correlated with each other, which is only natrual as these columns have a linear relationship. Similar correlations can also be seen among the trading price features between each \"steps\" pairs as the data has a sliding time window structure. "
   ]
  },
  {
   "cell_type": "code",
   "execution_count": null,
   "metadata": {
    "collapsed": true,
    "id": "FqnirmstC6r9",
    "jupyter": {
     "outputs_hidden": true
    }
   },
   "outputs": [],
   "source": [
    "plt.figure(figsize=(30,30))\n",
    "full_train_window_size_5 = X_train_window_size_5.copy()\n",
    "full_train_window_size_5[\"TARGET\"] = y_train_window_size_5[\"y\"]\n",
    "sns.heatmap(full_train_window_size_5.corr(), annot=False, linewidths = 2, square= True, cmap=\"coolwarm\")\n",
    "plt.show()"
   ]
  },
  {
   "cell_type": "markdown",
   "metadata": {
    "id": "be6o3zgDFHtc"
   },
   "source": [
    "# <b>3.Conventional ML models</b>\n",
    "<b>In the third part, conventional ML models are used to make predictions, serving as a baseline to be compared with DL approaches. </b>\n"
   ]
  },
  {
   "cell_type": "markdown",
   "metadata": {
    "id": "byKrodsaXjdZ"
   },
   "source": [
    "## <b>3.1.Preprocessing the data</b>"
   ]
  },
  {
   "cell_type": "markdown",
   "metadata": {
    "id": "2-g1PYiIiSzm"
   },
   "source": [
    "### Make data tree-friendly: sin/cos features retransformation to make them work for tree-based approaches\n",
    "Tree-based algorithms like Random Forest and Boosted Trees build their split rules according to one feature at a time. The cosine-sine transformation of features created 2 columns for every cyclical feature. If possible, we should retransform these 2 features to the original values to increase the chance of higher accuracy of the tree-based approaches.\n",
    "\n",
    "There are 6 features (i.e., dlvry_day, dlvry_weekday, dlvry_hour, lasttrade_day, lasttrade_weekday, lasttrade_hour) encoded using a sine and cosine column respectively.\n",
    "\n",
    "As one cannot simply solve the underlying sine and cosine transformations to the original value, we tried to reproduce the tranaformation in order to get the original values."
   ]
  },
  {
   "cell_type": "markdown",
   "metadata": {
    "id": "B0AWCPiEiSzn"
   },
   "source": [
    "#### \"_weekday\" features\n",
    "When we look at the values for the dlvry_weekday, we can see that there are 7 unique values, corresponding to the days of the week."
   ]
  },
  {
   "cell_type": "code",
   "execution_count": 13,
   "metadata": {
    "colab": {
     "base_uri": "https://localhost:8080/",
     "height": 532
    },
    "executionInfo": {
     "elapsed": 687,
     "status": "ok",
     "timestamp": 1636219135716,
     "user": {
      "displayName": "Jay J",
      "photoUrl": "https://lh3.googleusercontent.com/a-/AOh14GhYhjEIqny0vZW15UJvY7jtn845uh7AICvCtJGe=s64",
      "userId": "05851186706035953007"
     },
     "user_tz": -60
    },
    "id": "PBp_GbLpiSzn",
    "outputId": "08531b01-de81-4606-eef0-b88b07504308"
   },
   "outputs": [
    {
     "data": {
      "text/html": [
       "<div>\n",
       "<style scoped>\n",
       "    .dataframe tbody tr th:only-of-type {\n",
       "        vertical-align: middle;\n",
       "    }\n",
       "\n",
       "    .dataframe tbody tr th {\n",
       "        vertical-align: top;\n",
       "    }\n",
       "\n",
       "    .dataframe thead th {\n",
       "        text-align: right;\n",
       "    }\n",
       "</style>\n",
       "<table border=\"1\" class=\"dataframe\">\n",
       "  <thead>\n",
       "    <tr style=\"text-align: right;\">\n",
       "      <th></th>\n",
       "      <th>dlvry_weekday_sin</th>\n",
       "      <th>dlvry_weekday_cos</th>\n",
       "      <th>count</th>\n",
       "    </tr>\n",
       "  </thead>\n",
       "  <tbody>\n",
       "    <tr>\n",
       "      <th>0</th>\n",
       "      <td>-0.974928</td>\n",
       "      <td>-0.222521</td>\n",
       "      <td>12722</td>\n",
       "    </tr>\n",
       "    <tr>\n",
       "      <th>1</th>\n",
       "      <td>-0.781831</td>\n",
       "      <td>0.623490</td>\n",
       "      <td>12738</td>\n",
       "    </tr>\n",
       "    <tr>\n",
       "      <th>2</th>\n",
       "      <td>-0.433884</td>\n",
       "      <td>-0.900969</td>\n",
       "      <td>13163</td>\n",
       "    </tr>\n",
       "    <tr>\n",
       "      <th>3</th>\n",
       "      <td>0.000000</td>\n",
       "      <td>1.000000</td>\n",
       "      <td>12923</td>\n",
       "    </tr>\n",
       "    <tr>\n",
       "      <th>4</th>\n",
       "      <td>0.433884</td>\n",
       "      <td>-0.900969</td>\n",
       "      <td>13283</td>\n",
       "    </tr>\n",
       "    <tr>\n",
       "      <th>5</th>\n",
       "      <td>0.781831</td>\n",
       "      <td>0.623490</td>\n",
       "      <td>13156</td>\n",
       "    </tr>\n",
       "    <tr>\n",
       "      <th>6</th>\n",
       "      <td>0.974928</td>\n",
       "      <td>-0.222521</td>\n",
       "      <td>13527</td>\n",
       "    </tr>\n",
       "  </tbody>\n",
       "</table>\n",
       "</div>"
      ],
      "text/plain": [
       "   dlvry_weekday_sin  dlvry_weekday_cos  count\n",
       "0          -0.974928          -0.222521  12722\n",
       "1          -0.781831           0.623490  12738\n",
       "2          -0.433884          -0.900969  13163\n",
       "3           0.000000           1.000000  12923\n",
       "4           0.433884          -0.900969  13283\n",
       "5           0.781831           0.623490  13156\n",
       "6           0.974928          -0.222521  13527"
      ]
     },
     "metadata": {},
     "output_type": "display_data"
    },
    {
     "data": {
      "image/png": "[encoded data removed]",
      "text/plain": [
       "<Figure size 432x288 with 1 Axes>"
      ]
     },
     "metadata": {
      "needs_background": "light"
     },
     "output_type": "display_data"
    }
   ],
   "source": [
    "# look at unique values\n",
    "display(X_train_window_size_5.groupby(['dlvry_weekday_sin', 'dlvry_weekday_cos']).size().reset_index().rename(columns={0:'count'}))\n",
    "\n",
    "# plot sample of values\n",
    "X_train_window_size_5.sample(500).plot.scatter('dlvry_weekday_sin','dlvry_weekday_cos').set_aspect('equal')"
   ]
  },
  {
   "cell_type": "markdown",
   "metadata": {
    "id": "pGjpPVjUiSzn"
   },
   "source": [
    "With that information, we can calculate our own sine and cosine features and create a mapping which is to be used for creating the original feature column for days of the week."
   ]
  },
  {
   "cell_type": "code",
   "execution_count": 14,
   "metadata": {
    "colab": {
     "base_uri": "https://localhost:8080/"
    },
    "executionInfo": {
     "elapsed": 554,
     "status": "ok",
     "timestamp": 1636219138355,
     "user": {
      "displayName": "Jay J",
      "photoUrl": "https://lh3.googleusercontent.com/a-/AOh14GhYhjEIqny0vZW15UJvY7jtn845uh7AICvCtJGe=s64",
      "userId": "05851186706035953007"
     },
     "user_tz": -60
    },
    "id": "VY7QEREdiSzn",
    "outputId": "a2578b8c-bad2-4341-a52a-8bc65f76c5bd"
   },
   "outputs": [
    {
     "data": {
      "text/plain": [
       "{(-0.97493, -0.22252): 5,\n",
       " (-0.78183, 0.62349): 6,\n",
       " (-0.43388, -0.90097): 4,\n",
       " (0.0, 1.0): 0,\n",
       " (0.43388, -0.90097): 3,\n",
       " (0.78183, 0.62349): 1,\n",
       " (0.97493, -0.22252): 2}"
      ]
     },
     "execution_count": 14,
     "metadata": {},
     "output_type": "execute_result"
    }
   ],
   "source": [
    "days_in_a_week = 7\n",
    "\n",
    "mapping_day_of_week = {}\n",
    "\n",
    "# apply cosine and sine transformaiton for every day of the week\n",
    "for i in range(0, days_in_a_week):\n",
    "    mapping_day_of_week[(round(np.sin(2*np.pi*i/days_in_a_week), 5), round(np.cos(2*np.pi*i/days_in_a_week), 5))] = i\n",
    "\n",
    "mapping_day_of_week"
   ]
  },
  {
   "cell_type": "code",
   "execution_count": 15,
   "metadata": {
    "executionInfo": {
     "elapsed": 3,
     "status": "ok",
     "timestamp": 1636219139521,
     "user": {
      "displayName": "Jay J",
      "photoUrl": "https://lh3.googleusercontent.com/a-/AOh14GhYhjEIqny0vZW15UJvY7jtn845uh7AICvCtJGe=s64",
      "userId": "05851186706035953007"
     },
     "user_tz": -60
    },
    "id": "CMZgFVQAiSzo"
   },
   "outputs": [],
   "source": [
    "# create function to convert sine- and cosine-transformed values back\n",
    "def convert_weekday(sin, cos):\n",
    "    \"\"\"Return original value from sine- and cosine-transformed values\n",
    "\n",
    "    Arguments:\n",
    "    sin -- sine-transformed value\n",
    "    cos -- cosine-transformed value\"\"\"\n",
    "    weekday = mapping_day_of_week[(round(sin, 5), round(cos, 5))]\n",
    "    return weekday"
   ]
  },
  {
   "cell_type": "markdown",
   "metadata": {
    "id": "o__YXah3iSzo"
   },
   "source": [
    "#### \"_hour\" features\n",
    "When we look at the values for the dlvry_hour, we can see that there are most likely 24 possible values (points are distributed like a 24h clock, corresponding to the hours of the day."
   ]
  },
  {
   "cell_type": "code",
   "execution_count": 16,
   "metadata": {
    "colab": {
     "base_uri": "https://localhost:8080/",
     "height": 1000
    },
    "executionInfo": {
     "elapsed": 459,
     "status": "ok",
     "timestamp": 1636219141594,
     "user": {
      "displayName": "Jay J",
      "photoUrl": "https://lh3.googleusercontent.com/a-/AOh14GhYhjEIqny0vZW15UJvY7jtn845uh7AICvCtJGe=s64",
      "userId": "05851186706035953007"
     },
     "user_tz": -60
    },
    "id": "PvfnXV_UiSzo",
    "outputId": "d53adc3e-74df-47d8-e6bc-3a45bdef4a5d"
   },
   "outputs": [
    {
     "data": {
      "text/html": [
       "<div>\n",
       "<style scoped>\n",
       "    .dataframe tbody tr th:only-of-type {\n",
       "        vertical-align: middle;\n",
       "    }\n",
       "\n",
       "    .dataframe tbody tr th {\n",
       "        vertical-align: top;\n",
       "    }\n",
       "\n",
       "    .dataframe thead th {\n",
       "        text-align: right;\n",
       "    }\n",
       "</style>\n",
       "<table border=\"1\" class=\"dataframe\">\n",
       "  <thead>\n",
       "    <tr style=\"text-align: right;\">\n",
       "      <th></th>\n",
       "      <th>lasttrade_hour_sin</th>\n",
       "      <th>lasttrade_hour_cos</th>\n",
       "      <th>count</th>\n",
       "    </tr>\n",
       "  </thead>\n",
       "  <tbody>\n",
       "    <tr>\n",
       "      <th>0</th>\n",
       "      <td>-1.000000e+00</td>\n",
       "      <td>-1.836970e-16</td>\n",
       "      <td>902</td>\n",
       "    </tr>\n",
       "    <tr>\n",
       "      <th>1</th>\n",
       "      <td>-9.659258e-01</td>\n",
       "      <td>-2.588190e-01</td>\n",
       "      <td>1198</td>\n",
       "    </tr>\n",
       "    <tr>\n",
       "      <th>2</th>\n",
       "      <td>-9.659258e-01</td>\n",
       "      <td>2.588190e-01</td>\n",
       "      <td>570</td>\n",
       "    </tr>\n",
       "    <tr>\n",
       "      <th>3</th>\n",
       "      <td>-8.660254e-01</td>\n",
       "      <td>5.000000e-01</td>\n",
       "      <td>3792</td>\n",
       "    </tr>\n",
       "    <tr>\n",
       "      <th>4</th>\n",
       "      <td>-8.660254e-01</td>\n",
       "      <td>-5.000000e-01</td>\n",
       "      <td>1145</td>\n",
       "    </tr>\n",
       "    <tr>\n",
       "      <th>5</th>\n",
       "      <td>-7.071068e-01</td>\n",
       "      <td>7.071068e-01</td>\n",
       "      <td>6446</td>\n",
       "    </tr>\n",
       "    <tr>\n",
       "      <th>6</th>\n",
       "      <td>-7.071068e-01</td>\n",
       "      <td>-7.071068e-01</td>\n",
       "      <td>1480</td>\n",
       "    </tr>\n",
       "    <tr>\n",
       "      <th>7</th>\n",
       "      <td>-5.000000e-01</td>\n",
       "      <td>8.660254e-01</td>\n",
       "      <td>6638</td>\n",
       "    </tr>\n",
       "    <tr>\n",
       "      <th>8</th>\n",
       "      <td>-5.000000e-01</td>\n",
       "      <td>-8.660254e-01</td>\n",
       "      <td>1820</td>\n",
       "    </tr>\n",
       "    <tr>\n",
       "      <th>9</th>\n",
       "      <td>-2.588190e-01</td>\n",
       "      <td>9.659258e-01</td>\n",
       "      <td>6627</td>\n",
       "    </tr>\n",
       "    <tr>\n",
       "      <th>10</th>\n",
       "      <td>-2.588190e-01</td>\n",
       "      <td>-9.659258e-01</td>\n",
       "      <td>2165</td>\n",
       "    </tr>\n",
       "    <tr>\n",
       "      <th>11</th>\n",
       "      <td>0.000000e+00</td>\n",
       "      <td>1.000000e+00</td>\n",
       "      <td>6474</td>\n",
       "    </tr>\n",
       "    <tr>\n",
       "      <th>12</th>\n",
       "      <td>1.224647e-16</td>\n",
       "      <td>-1.000000e+00</td>\n",
       "      <td>2503</td>\n",
       "    </tr>\n",
       "    <tr>\n",
       "      <th>13</th>\n",
       "      <td>2.588190e-01</td>\n",
       "      <td>9.659258e-01</td>\n",
       "      <td>6194</td>\n",
       "    </tr>\n",
       "    <tr>\n",
       "      <th>14</th>\n",
       "      <td>2.588190e-01</td>\n",
       "      <td>-9.659258e-01</td>\n",
       "      <td>2841</td>\n",
       "    </tr>\n",
       "    <tr>\n",
       "      <th>15</th>\n",
       "      <td>5.000000e-01</td>\n",
       "      <td>-8.660254e-01</td>\n",
       "      <td>3178</td>\n",
       "    </tr>\n",
       "    <tr>\n",
       "      <th>16</th>\n",
       "      <td>5.000000e-01</td>\n",
       "      <td>8.660254e-01</td>\n",
       "      <td>5867</td>\n",
       "    </tr>\n",
       "    <tr>\n",
       "      <th>17</th>\n",
       "      <td>7.071068e-01</td>\n",
       "      <td>7.071068e-01</td>\n",
       "      <td>5537</td>\n",
       "    </tr>\n",
       "    <tr>\n",
       "      <th>18</th>\n",
       "      <td>7.071068e-01</td>\n",
       "      <td>-7.071068e-01</td>\n",
       "      <td>3513</td>\n",
       "    </tr>\n",
       "    <tr>\n",
       "      <th>19</th>\n",
       "      <td>8.660254e-01</td>\n",
       "      <td>5.000000e-01</td>\n",
       "      <td>5207</td>\n",
       "    </tr>\n",
       "    <tr>\n",
       "      <th>20</th>\n",
       "      <td>8.660254e-01</td>\n",
       "      <td>-5.000000e-01</td>\n",
       "      <td>3847</td>\n",
       "    </tr>\n",
       "    <tr>\n",
       "      <th>21</th>\n",
       "      <td>9.659258e-01</td>\n",
       "      <td>-2.588190e-01</td>\n",
       "      <td>4180</td>\n",
       "    </tr>\n",
       "    <tr>\n",
       "      <th>22</th>\n",
       "      <td>9.659258e-01</td>\n",
       "      <td>2.588190e-01</td>\n",
       "      <td>4863</td>\n",
       "    </tr>\n",
       "    <tr>\n",
       "      <th>23</th>\n",
       "      <td>1.000000e+00</td>\n",
       "      <td>6.123234e-17</td>\n",
       "      <td>4525</td>\n",
       "    </tr>\n",
       "  </tbody>\n",
       "</table>\n",
       "</div>"
      ],
      "text/plain": [
       "    lasttrade_hour_sin  lasttrade_hour_cos  count\n",
       "0        -1.000000e+00       -1.836970e-16    902\n",
       "1        -9.659258e-01       -2.588190e-01   1198\n",
       "2        -9.659258e-01        2.588190e-01    570\n",
       "3        -8.660254e-01        5.000000e-01   3792\n",
       "4        -8.660254e-01       -5.000000e-01   1145\n",
       "5        -7.071068e-01        7.071068e-01   6446\n",
       "6        -7.071068e-01       -7.071068e-01   1480\n",
       "7        -5.000000e-01        8.660254e-01   6638\n",
       "8        -5.000000e-01       -8.660254e-01   1820\n",
       "9        -2.588190e-01        9.659258e-01   6627\n",
       "10       -2.588190e-01       -9.659258e-01   2165\n",
       "11        0.000000e+00        1.000000e+00   6474\n",
       "12        1.224647e-16       -1.000000e+00   2503\n",
       "13        2.588190e-01        9.659258e-01   6194\n",
       "14        2.588190e-01       -9.659258e-01   2841\n",
       "15        5.000000e-01       -8.660254e-01   3178\n",
       "16        5.000000e-01        8.660254e-01   5867\n",
       "17        7.071068e-01        7.071068e-01   5537\n",
       "18        7.071068e-01       -7.071068e-01   3513\n",
       "19        8.660254e-01        5.000000e-01   5207\n",
       "20        8.660254e-01       -5.000000e-01   3847\n",
       "21        9.659258e-01       -2.588190e-01   4180\n",
       "22        9.659258e-01        2.588190e-01   4863\n",
       "23        1.000000e+00        6.123234e-17   4525"
      ]
     },
     "metadata": {},
     "output_type": "display_data"
    },
    {
     "data": {
      "image/png": "[encoded data removed]",
      "text/plain": [
       "<Figure size 432x288 with 1 Axes>"
      ]
     },
     "metadata": {
      "needs_background": "light"
     },
     "output_type": "display_data"
    }
   ],
   "source": [
    "# look at unique values\n",
    "hours = X_train_window_size_5.groupby(['lasttrade_hour_sin','lasttrade_hour_cos']).size().reset_index().rename(columns={0:'count'})\n",
    "hours[[\"lasttrade_hour_sin\", \"lasttrade_hour_cos\"]].round(5)\n",
    "display(hours)\n",
    "\n",
    "# plot sample of values\n",
    "X_train_window_size_5.sample(500).plot.scatter('dlvry_hour_sin','dlvry_hour_cos').set_aspect('equal')"
   ]
  },
  {
   "cell_type": "markdown",
   "metadata": {
    "id": "q0Y-BIzZiSzo"
   },
   "source": [
    "With that information, we can calculate our own sine and cosine features and create a mapping which is to be used for creating the original feature column for hours of the day."
   ]
  },
  {
   "cell_type": "code",
   "execution_count": 17,
   "metadata": {
    "colab": {
     "base_uri": "https://localhost:8080/"
    },
    "executionInfo": {
     "elapsed": 5,
     "status": "ok",
     "timestamp": 1636219143244,
     "user": {
      "displayName": "Jay J",
      "photoUrl": "https://lh3.googleusercontent.com/a-/AOh14GhYhjEIqny0vZW15UJvY7jtn845uh7AICvCtJGe=s64",
      "userId": "05851186706035953007"
     },
     "user_tz": -60
    },
    "id": "Jbde2jLQiSzo",
    "outputId": "4d7aee27-ed82-411d-ea73-869240577b93"
   },
   "outputs": [
    {
     "data": {
      "text/plain": [
       "{(-1.0, -0.0): 18,\n",
       " (-0.96593, -0.25882): 17,\n",
       " (-0.96593, 0.25882): 19,\n",
       " (-0.86603, -0.5): 16,\n",
       " (-0.86603, 0.5): 20,\n",
       " (-0.70711, -0.70711): 15,\n",
       " (-0.70711, 0.70711): 21,\n",
       " (-0.5, -0.86603): 14,\n",
       " (-0.5, 0.86603): 22,\n",
       " (-0.25882, -0.96593): 13,\n",
       " (-0.25882, 0.96593): 23,\n",
       " (0.0, -1.0): 12,\n",
       " (0.0, 1.0): 0,\n",
       " (0.25882, -0.96593): 11,\n",
       " (0.25882, 0.96593): 1,\n",
       " (0.5, -0.86603): 10,\n",
       " (0.5, 0.86603): 2,\n",
       " (0.70711, -0.70711): 9,\n",
       " (0.70711, 0.70711): 3,\n",
       " (0.86603, -0.5): 8,\n",
       " (0.86603, 0.5): 4,\n",
       " (0.96593, -0.25882): 7,\n",
       " (0.96593, 0.25882): 5,\n",
       " (1.0, 0.0): 6}"
      ]
     },
     "execution_count": 17,
     "metadata": {},
     "output_type": "execute_result"
    }
   ],
   "source": [
    "hours_in_a_day = 24\n",
    "\n",
    "mapping_hour_of_day = {}\n",
    "\n",
    "# apply cosine and sine transformaiton for every hour of the day\n",
    "for i in range(0, hours_in_a_day):\n",
    "    mapping_hour_of_day[(round(np.sin(2*np.pi*i/hours_in_a_day), 5), round(np.cos(2*np.pi*i/hours_in_a_day), 5))] = i\n",
    "                            \n",
    "mapping_hour_of_day    "
   ]
  },
  {
   "cell_type": "code",
   "execution_count": 18,
   "metadata": {
    "executionInfo": {
     "elapsed": 2,
     "status": "ok",
     "timestamp": 1636219144099,
     "user": {
      "displayName": "Jay J",
      "photoUrl": "https://lh3.googleusercontent.com/a-/AOh14GhYhjEIqny0vZW15UJvY7jtn845uh7AICvCtJGe=s64",
      "userId": "05851186706035953007"
     },
     "user_tz": -60
    },
    "id": "_JPbdh1oiSzo"
   },
   "outputs": [],
   "source": [
    "# create function to convert sine- and cosine-transformed values back\n",
    "def convert_hour(sin, cos):\n",
    "    hour = mapping_hour_of_day[(round(sin, 5), round(cos, 5))]\n",
    "    return hour"
   ]
  },
  {
   "cell_type": "markdown",
   "metadata": {
    "id": "Lxp4Dd3liSzp"
   },
   "source": [
    "#### \"_day\" features\n",
    "When we look at the values for the dlvry_day, we can see that there is no obvious patterns like we observed for the _hour and _weekday features."
   ]
  },
  {
   "cell_type": "code",
   "execution_count": 19,
   "metadata": {
    "colab": {
     "base_uri": "https://localhost:8080/",
     "height": 687
    },
    "executionInfo": {
     "elapsed": 452,
     "status": "ok",
     "timestamp": 1636219146422,
     "user": {
      "displayName": "Jay J",
      "photoUrl": "https://lh3.googleusercontent.com/a-/AOh14GhYhjEIqny0vZW15UJvY7jtn845uh7AICvCtJGe=s64",
      "userId": "05851186706035953007"
     },
     "user_tz": -60
    },
    "id": "fUIrVcj5iSzp",
    "outputId": "e8777144-0ee7-45dc-e5b5-0ec002b85513"
   },
   "outputs": [
    {
     "data": {
      "text/html": [
       "<div>\n",
       "<style scoped>\n",
       "    .dataframe tbody tr th:only-of-type {\n",
       "        vertical-align: middle;\n",
       "    }\n",
       "\n",
       "    .dataframe tbody tr th {\n",
       "        vertical-align: top;\n",
       "    }\n",
       "\n",
       "    .dataframe thead th {\n",
       "        text-align: right;\n",
       "    }\n",
       "</style>\n",
       "<table border=\"1\" class=\"dataframe\">\n",
       "  <thead>\n",
       "    <tr style=\"text-align: right;\">\n",
       "      <th></th>\n",
       "      <th>dlvry_day_sin</th>\n",
       "      <th>dlvry_day_cos</th>\n",
       "    </tr>\n",
       "  </thead>\n",
       "  <tbody>\n",
       "    <tr>\n",
       "      <th>0</th>\n",
       "      <td>-0.99872</td>\n",
       "      <td>-0.05065</td>\n",
       "    </tr>\n",
       "    <tr>\n",
       "      <th>1</th>\n",
       "      <td>-0.99452</td>\n",
       "      <td>0.10453</td>\n",
       "    </tr>\n",
       "    <tr>\n",
       "      <th>2</th>\n",
       "      <td>-0.99452</td>\n",
       "      <td>-0.10453</td>\n",
       "    </tr>\n",
       "    <tr>\n",
       "      <th>3</th>\n",
       "      <td>-0.98847</td>\n",
       "      <td>0.15143</td>\n",
       "    </tr>\n",
       "    <tr>\n",
       "      <th>4</th>\n",
       "      <td>-0.96808</td>\n",
       "      <td>-0.25065</td>\n",
       "    </tr>\n",
       "    <tr>\n",
       "      <th>...</th>\n",
       "      <td>...</td>\n",
       "      <td>...</td>\n",
       "    </tr>\n",
       "    <tr>\n",
       "      <th>77</th>\n",
       "      <td>0.98847</td>\n",
       "      <td>0.15143</td>\n",
       "    </tr>\n",
       "    <tr>\n",
       "      <th>78</th>\n",
       "      <td>0.99452</td>\n",
       "      <td>0.10453</td>\n",
       "    </tr>\n",
       "    <tr>\n",
       "      <th>79</th>\n",
       "      <td>0.99452</td>\n",
       "      <td>-0.10453</td>\n",
       "    </tr>\n",
       "    <tr>\n",
       "      <th>80</th>\n",
       "      <td>0.99872</td>\n",
       "      <td>-0.05065</td>\n",
       "    </tr>\n",
       "    <tr>\n",
       "      <th>81</th>\n",
       "      <td>1.00000</td>\n",
       "      <td>0.00000</td>\n",
       "    </tr>\n",
       "  </tbody>\n",
       "</table>\n",
       "<p>82 rows × 2 columns</p>\n",
       "</div>"
      ],
      "text/plain": [
       "    dlvry_day_sin  dlvry_day_cos\n",
       "0        -0.99872       -0.05065\n",
       "1        -0.99452        0.10453\n",
       "2        -0.99452       -0.10453\n",
       "3        -0.98847        0.15143\n",
       "4        -0.96808       -0.25065\n",
       "..            ...            ...\n",
       "77        0.98847        0.15143\n",
       "78        0.99452        0.10453\n",
       "79        0.99452       -0.10453\n",
       "80        0.99872       -0.05065\n",
       "81        1.00000        0.00000\n",
       "\n",
       "[82 rows x 2 columns]"
      ]
     },
     "metadata": {},
     "output_type": "display_data"
    },
    {
     "data": {
      "image/png": "[encoded data removed]",
      "text/plain": [
       "<Figure size 432x288 with 1 Axes>"
      ]
     },
     "metadata": {
      "needs_background": "light"
     },
     "output_type": "display_data"
    }
   ],
   "source": [
    "# look at unique values\n",
    "year_days = X_train_window_size_5.groupby(['dlvry_day_sin','dlvry_day_cos']).size().reset_index().rename(columns={0:'count'})\n",
    "year_days = year_days[['dlvry_day_sin','dlvry_day_cos']].round(5)\n",
    "display(year_days)\n",
    "\n",
    "# plot sample of values\n",
    "X_train_window_size_5.sample(500).plot.scatter('dlvry_day_sin','dlvry_day_cos').set_aspect('equal')"
   ]
  },
  {
   "cell_type": "markdown",
   "metadata": {
    "id": "dn2e6o36iSzp"
   },
   "source": [
    "Intuitively, we might assume that the transformation is based on 365 days in a year, but creating the respective mapping does not yield matches (see below), so we couldn't reproduce the sine and cosine features for the _day features."
   ]
  },
  {
   "cell_type": "code",
   "execution_count": 20,
   "metadata": {
    "colab": {
     "base_uri": "https://localhost:8080/"
    },
    "executionInfo": {
     "elapsed": 456,
     "status": "ok",
     "timestamp": 1636219148806,
     "user": {
      "displayName": "Jay J",
      "photoUrl": "https://lh3.googleusercontent.com/a-/AOh14GhYhjEIqny0vZW15UJvY7jtn845uh7AICvCtJGe=s64",
      "userId": "05851186706035953007"
     },
     "user_tz": -60
    },
    "id": "nXlz0oxPiSzp",
    "outputId": "f7d0fd3d-b79f-457f-be8c-50e0365e30b6"
   },
   "outputs": [
    {
     "name": "stdout",
     "output_type": "stream",
     "text": [
      "There is no match\n"
     ]
    }
   ],
   "source": [
    "days_in_a_year = 365\n",
    "\n",
    "mapping_day = {}\n",
    "\n",
    "for i in range(0, days_in_a_year):\n",
    "    mapping_day[(round(np.sin(2*np.pi*i/days_in_a_year), 5), round(np.cos(2*np.pi*i/days_in_a_year), 5))] = i\n",
    "\n",
    "# check whether there is a match with randomly picked values from the unique values above\n",
    "try: \n",
    "    mapping_day[(0.98847, 0.15143)]\n",
    "except KeyError:\n",
    "    print(\"There is no match\")"
   ]
  },
  {
   "cell_type": "markdown",
   "metadata": {
    "id": "rPccFKqSiSzp"
   },
   "source": [
    "### Transformation function for tree-based models"
   ]
  },
  {
   "cell_type": "code",
   "execution_count": 21,
   "metadata": {
    "executionInfo": {
     "elapsed": 294,
     "status": "ok",
     "timestamp": 1636219152177,
     "user": {
      "displayName": "Jay J",
      "photoUrl": "https://lh3.googleusercontent.com/a-/AOh14GhYhjEIqny0vZW15UJvY7jtn845uh7AICvCtJGe=s64",
      "userId": "05851186706035953007"
     },
     "user_tz": -60
    },
    "id": "o4nQuzD_iSzp"
   },
   "outputs": [],
   "source": [
    "def tree_transform(df, drop_day=True):\n",
    "    \"\"\"Return tree-friendly data with cos and sin features transformed back to original values\n",
    "\n",
    "    Arguments:\n",
    "    df -- dataset\n",
    "    drop_day -- _day features cannot be transformed back, can be dropped or kept\"\"\"\n",
    "    # create new columns for original values\n",
    "    data = df.copy()\n",
    "    data[\"dlvry_weekday\"] = data.apply(lambda x: convert_weekday(x['dlvry_weekday_sin'], x['dlvry_weekday_cos']), axis=1)\n",
    "    data[\"lasttrade_weekday\"] = data.apply(lambda x: convert_weekday(x['lasttrade_weekday_sin'], x['lasttrade_weekday_cos']), axis=1)\n",
    "    data[\"dlvry_hour\"] = data.apply(lambda x: convert_hour(x['dlvry_hour_sin'], x['dlvry_hour_cos']), axis=1)\n",
    "    data[[\"lasttrade_hour\"]] = data.apply(lambda x: convert_hour(x['lasttrade_hour_sin'], x['lasttrade_hour_cos']), axis=1)\n",
    "\n",
    "    # drop redundant sine and cosine features\n",
    "    data = data.drop(['dlvry_weekday_sin', 'dlvry_weekday_cos', 'lasttrade_weekday_sin', \n",
    "                      'lasttrade_weekday_cos', 'dlvry_hour_sin', 'dlvry_hour_cos', \n",
    "                      'lasttrade_hour_sin', 'lasttrade_hour_cos'], axis=1)\n",
    "    # drop _day features as we couldn't transform them back\n",
    "    if drop_day:\n",
    "        data = data.drop(['dlvry_day_cos', 'dlvry_day_sin', 'lasttrade_day_sin', 'lasttrade_day_cos'], axis=1)\n",
    "\n",
    "    return data"
   ]
  },
  {
   "cell_type": "code",
   "execution_count": 22,
   "metadata": {
    "executionInfo": {
     "elapsed": 9270,
     "status": "ok",
     "timestamp": 1636219162689,
     "user": {
      "displayName": "Jay J",
      "photoUrl": "https://lh3.googleusercontent.com/a-/AOh14GhYhjEIqny0vZW15UJvY7jtn845uh7AICvCtJGe=s64",
      "userId": "05851186706035953007"
     },
     "user_tz": -60
    },
    "id": "SGJlimTZiSzp"
   },
   "outputs": [],
   "source": [
    "# create tree-friendly datasets\n",
    "X_train_window_size_5_tree = tree_transform(X_train_window_size_5)\n",
    "X_valid_window_size_5_tree = tree_transform(X_valid_window_size_5)\n",
    "X_test_window_size_5_tree = tree_transform(X_test_window_size_5)"
   ]
  },
  {
   "cell_type": "markdown",
   "metadata": {
    "id": "_s_rqQz-XoI1"
   },
   "source": [
    "### Data Normalization"
   ]
  },
  {
   "cell_type": "code",
   "execution_count": 23,
   "metadata": {
    "executionInfo": {
     "elapsed": 7,
     "status": "ok",
     "timestamp": 1636219162690,
     "user": {
      "displayName": "Jay J",
      "photoUrl": "https://lh3.googleusercontent.com/a-/AOh14GhYhjEIqny0vZW15UJvY7jtn845uh7AICvCtJGe=s64",
      "userId": "05851186706035953007"
     },
     "user_tz": -60
    },
    "id": "tYAX9FR_X1R3"
   },
   "outputs": [],
   "source": [
    "scaler = MinMaxScaler()\n",
    "X_train_window_size_5[X_train_window_size_5.columns[17:]] = scaler.fit_transform(X_train_window_size_5[X_train_window_size_5.columns[17:]])\n",
    "X_valid_window_size_5[X_valid_window_size_5.columns[17:]] = scaler.transform(X_valid_window_size_5[X_valid_window_size_5.columns[17:]])\n",
    "X_test_window_size_5[X_test_window_size_5.columns[17:]] = scaler.transform(X_test_window_size_5[X_test_window_size_5.columns[17:]])\n",
    "\n",
    "#Quick note: It seems like the results are getting worse when normalizing the input set X"
   ]
  },
  {
   "cell_type": "markdown",
   "metadata": {
    "id": "MAfDUGoQJXb9"
   },
   "source": [
    "### Evaluation Functions: MAE"
   ]
  },
  {
   "cell_type": "code",
   "execution_count": 24,
   "metadata": {
    "executionInfo": {
     "elapsed": 6,
     "status": "ok",
     "timestamp": 1636219162690,
     "user": {
      "displayName": "Jay J",
      "photoUrl": "https://lh3.googleusercontent.com/a-/AOh14GhYhjEIqny0vZW15UJvY7jtn845uh7AICvCtJGe=s64",
      "userId": "05851186706035953007"
     },
     "user_tz": -60
    },
    "id": "dMgHAsOIDgZh"
   },
   "outputs": [],
   "source": [
    "def evaluate_model(model, X_test, y_test_true):\n",
    "    predictions = model.predict(X_test)\n",
    "    mae = mean_absolute_error(y_test_true, predictions)\n",
    "    print(\"Mean absolut error on test:\", mae)\n",
    "    return mae"
   ]
  },
  {
   "cell_type": "code",
   "execution_count": 15,
   "metadata": {},
   "outputs": [],
   "source": [
    "def evaluate_3Dmodel(model, X_test, y_test_true):\n",
    "    predictions = model.predict(X_test)\n",
    "    predictions = predictions[:, -1]\n",
    "    mae = mean_absolute_error(y_test_true, predictions)\n",
    "    print(\"Mean absolut error on test:\", mae)\n",
    "    return mae"
   ]
  },
  {
   "cell_type": "markdown",
   "metadata": {
    "id": "9QBCkmPtKVYt"
   },
   "source": [
    "## <b>3.2.Dummy regressor</b>\n",
    "Takeaways:"
   ]
  },
  {
   "cell_type": "code",
   "execution_count": 25,
   "metadata": {
    "colab": {
     "base_uri": "https://localhost:8080/"
    },
    "executionInfo": {
     "elapsed": 6,
     "status": "ok",
     "timestamp": 1636219162690,
     "user": {
      "displayName": "Jay J",
      "photoUrl": "https://lh3.googleusercontent.com/a-/AOh14GhYhjEIqny0vZW15UJvY7jtn845uh7AICvCtJGe=s64",
      "userId": "05851186706035953007"
     },
     "user_tz": -60
    },
    "id": "171ofxYqKZqt",
    "outputId": "5040a0e2-3d26-48e9-e0a1-b636e83948cf"
   },
   "outputs": [
    {
     "name": "stdout",
     "output_type": "stream",
     "text": [
      "Mean absolut error on test: 2.258751650277334\n"
     ]
    }
   ],
   "source": [
    "# Modeling\n",
    "dummy_model = DummyRegressor()\n",
    "dummy_model.fit(X_train_window_size_5, y_train_window_size_5)\n",
    "\n",
    "# Evaluate model performance\n",
    "result = evaluate_model(dummy_model, X_test_window_size_5, y_test_window_size_5)"
   ]
  },
  {
   "cell_type": "markdown",
   "metadata": {
    "id": "yinsq3ETKads"
   },
   "source": [
    "## <b>3.3.Linear Regression</b>\n",
    "As expected, the linear models performed poorly for our data, as indicated by the R2 scores for both degree 1 and degree 2 models. The near 0 R2 scores for both validation and testing suggest that dependent variable cannot be explained by our data. Even though in the plots, the predicted y basically covered the actual y, the non-linear nature of our data cannot be captured by linear models. Due to the computational limitation, we only include the degree 2 polynomial regression, which has already served our purpose. "
   ]
  },
  {
   "cell_type": "code",
   "execution_count": 26,
   "metadata": {
    "executionInfo": {
     "elapsed": 526,
     "status": "ok",
     "timestamp": 1636218106917,
     "user": {
      "displayName": "Jay J",
      "photoUrl": "https://lh3.googleusercontent.com/a-/AOh14GhYhjEIqny0vZW15UJvY7jtn845uh7AICvCtJGe=s64",
      "userId": "05851186706035953007"
     },
     "user_tz": -60
    },
    "id": "xH4dFDnYKcuG"
   },
   "outputs": [],
   "source": [
    "# Modify the helper functions specifically for the linear models\n",
    "# Function to perform Cross Validation on Linear Models\n",
    "def get_cv_scores(model, X_train, y_train):\n",
    "    scores = cross_val_score(model, X_train, y_train, cv=5, scoring='r2')\n",
    "    print('CV Mean of R2: ', np.mean(scores))\n",
    "    print('CV STD of R2: ', np.std(scores))\n",
    "\n",
    "# Function to evaluate Linear Models with plots\n",
    "def evaluate_valid(model, X_valid, y_valid, X_test, y_test):\n",
    "    predictions_valid = model.predict(X_valid)\n",
    "    mae_valid = mean_absolute_error(y_valid, predictions_valid)\n",
    "    r2_valid = r2_score(y_valid, predictions_valid)\n",
    "    print(\"Validation MAE:\", mae_valid)\n",
    "    print(\"Validation R2:\", r2_valid)\n",
    "\n",
    "    predictions_test = model.predict(X_test)\n",
    "    mae_test = mean_absolute_error(y_test, predictions_test)\n",
    "    r2_test = r2_score(y_test, predictions_test)\n",
    "    print(\"Test MAE:\", mae_test)\n",
    "    print(\"Test R2:\", r2_test)\n",
    "    \n",
    "    fig=plt.figure()\n",
    "    ax=fig.add_axes([0,0,1,1])\n",
    "    ax.scatter(y_valid, predictions_valid, color='r', label='valid set', alpha=0.2)\n",
    "    ax.scatter(y_test, predictions_test, color='b', label='test set', alpha=0.2)\n",
    "    ax.set_title('Distributions of predicted and real Y')\n",
    "    ax.set_xlabel('Actual Y')\n",
    "    ax.set_ylabel('Predicted Y')\n",
    "    ax.legend()"
   ]
  },
  {
   "cell_type": "code",
   "execution_count": 27,
   "metadata": {
    "colab": {
     "base_uri": "https://localhost:8080/",
     "height": 695
    },
    "executionInfo": {
     "elapsed": 1619,
     "status": "ok",
     "timestamp": 1636218110800,
     "user": {
      "displayName": "Jay J",
      "photoUrl": "https://lh3.googleusercontent.com/a-/AOh14GhYhjEIqny0vZW15UJvY7jtn845uh7AICvCtJGe=s64",
      "userId": "05851186706035953007"
     },
     "user_tz": -60
    },
    "id": "WkA-SuEiiSzr",
    "outputId": "87d1d88b-bbed-4dda-cc2c-4c85e6b2f1c3"
   },
   "outputs": [
    {
     "name": "stdout",
     "output_type": "stream",
     "text": [
      "CV Mean of R2:  -0.002444375793037956\n",
      "CV STD of R2:  0.011855571850617105\n",
      "Validation MAE: 2.561283916269669\n",
      "Validation R2: -0.00694251426219572\n",
      "Test MAE: 2.2812644117528604\n",
      "Test R2: -0.004568293422968495\n",
      "Independent term in the linear model:  [15.07411672]\n",
      "Estimated coefficients in the linear regression: \n",
      " [[ 6.89081868e-03 -9.88587493e-03 -1.45634910e-01 -1.46917649e-01\n",
      "   1.15859755e-01  1.91936020e-02  3.09468599e-02  1.18505900e-02\n",
      "  -4.59516082e-03  2.98062540e-02  2.90961513e-01  1.92219458e-01\n",
      "  -7.20698835e-02  1.10265956e-01 -3.37399818e-03 -1.19450344e-01\n",
      "   7.28990918e-03 -4.51763147e+00  8.80925167e+00  5.79993575e+00\n",
      "  -6.75171850e+00 -1.95555714e-01 -3.58314416e-02 -5.81054999e+00\n",
      "   1.66483050e+01  4.09302290e+00 -6.66822421e+00 -5.22698550e+00\n",
      "  -3.58314416e-02 -6.30042715e+00  2.26504993e+01  1.90344269e-01\n",
      "  -9.40568707e+00 -1.88348195e+01 -3.58314416e-02 -1.67705405e+00\n",
      "   1.63941172e+01  3.30408005e+00 -2.84623445e+01 -2.42397813e+01\n",
      "  -3.58314416e-02]]\n"
     ]
    },
    {
     "data": {
      "image/png": "[encoded data removed]",
      "text/plain": [
       "<Figure size 432x288 with 1 Axes>"
      ]
     },
     "metadata": {
      "needs_background": "light"
     },
     "output_type": "display_data"
    }
   ],
   "source": [
    "# Direct Linear Modling on Original Data \n",
    "model_lr = LinearRegression(copy_X=True, n_jobs=100)\n",
    "model_lr.fit(X_train_window_size_5, y_train_window_size_5)\n",
    "\n",
    "# Evaluate model performance\n",
    "get_cv_scores(model_lr, X_train_window_size_5, y_train_window_size_5)\n",
    "evaluate_valid(model_lr, X_valid_window_size_5, y_valid_window_size_5, X_test_window_size_5, y_test_window_size_5)\n",
    "print('Independent term in the linear model: ', model_lr.intercept_)\n",
    "print('Estimated coefficients in the linear regression: \\n', model_lr.coef_)"
   ]
  },
  {
   "cell_type": "code",
   "execution_count": 28,
   "metadata": {
    "colab": {
     "base_uri": "https://localhost:8080/",
     "height": 470
    },
    "executionInfo": {
     "elapsed": 22386,
     "status": "ok",
     "timestamp": 1636218134544,
     "user": {
      "displayName": "Jay J",
      "photoUrl": "https://lh3.googleusercontent.com/a-/AOh14GhYhjEIqny0vZW15UJvY7jtn845uh7AICvCtJGe=s64",
      "userId": "05851186706035953007"
     },
     "user_tz": -60
    },
    "id": "WJSI2Jo8iSzs",
    "outputId": "7d06f51e-7f77-4f18-8728-fa887dae3fc8"
   },
   "outputs": [
    {
     "name": "stdout",
     "output_type": "stream",
     "text": [
      "CV Mean of R2:  -6.259556302367364e+16\n",
      "CV STD of R2:  1.2266999010145466e+17\n",
      "Validation MAE: 2.7870416250816885\n",
      "Validation R2: -0.21708092496475162\n",
      "Test MAE: 2.4663861117270316\n",
      "Test R2: -0.07260491721297702\n"
     ]
    },
    {
     "data": {
      "image/png": "[encoded data removed]",
      "text/plain": [
       "<Figure size 432x288 with 1 Axes>"
      ]
     },
     "metadata": {
      "needs_background": "light"
     },
     "output_type": "display_data"
    }
   ],
   "source": [
    "# Polynomial Regression (Degree=2) \n",
    "# Transformation of X_train/valid/test datasets\n",
    "polynomial_features= PolynomialFeatures(degree=2)\n",
    "X_train_5_poly = polynomial_features.fit_transform(X_train_window_size_5)\n",
    "X_valid_5_poly = polynomial_features.fit_transform(X_valid_window_size_5)\n",
    "X_test_5_poly = polynomial_features.fit_transform(X_test_window_size_5)\n",
    "\n",
    "# Modeling\n",
    "model_lr = LinearRegression(normalize=True, copy_X=True, n_jobs=100)\n",
    "model_lr.fit(X_train_5_poly, y_train_window_size_5)\n",
    "get_cv_scores(model_lr, X_train_5_poly, y_train_window_size_5)\n",
    "\n",
    "# Evaluate model performance\n",
    "evaluate_valid(model_lr, X_valid_5_poly, y_valid_window_size_5, X_test_5_poly, y_test_window_size_5)"
   ]
  },
  {
   "cell_type": "markdown",
   "metadata": {
    "id": "QubESi9OKe9F"
   },
   "source": [
    "## <b>3.4.Random Forrest</b>\n",
    "- **Intro**:\n",
    "\n",
    "    The Random Forest method fits on the training data using an ensemble of decision trees. An important feature of the model is that it helps avoid overfitting by building each of the tree with a sample of data points as well as a sample of the features of the original training dataset.\n",
    "\n",
    "- **Input data**:\n",
    "\n",
    "    > Training dataset: `X_train_window_size_5_tree` and `y_train_window_size_5`\\\n",
    "    > Validation dataset: `X_valid_window_size_5_tree` and `y_valid_window_size_5`\\\n",
    "    > Testing dataset: `X_test_window_size_5_tree` and `y_test_window_size_5`\n",
    "    \n",
    "    Apart from normalization, the datasets used for Random Forest modelling have also been transformed in terms of their datetime columns, such as for the variable `lasttrade_weekday`. These columns originally consisted of two sets of variables to express a certain datetime point, which has been preprocessed and converted back to their original value.\n",
    "\n",
    "- **Architecture**:\n",
    "\n",
    "    After comparing the models' performance on the validation dataset using GridSearchCV, the best combination of parameters for the Random Forest Regressor is:\n",
    "    | Parameter name    | Value  |\n",
    "    |-------------------|--------|\n",
    "    | n_estimators      | 500    |\n",
    "    | max_features      | 'sqrt' |\n",
    "    | min_samples_split | 10     |\n",
    "    \n",
    "It is worth noting that our group has also tried dropping features that are deemed the least important by the Random Forest model after performing the Grid Search, and there seemed to be little improvement in the model's performance, which is why this part has been excluded here."
   ]
  },
  {
   "cell_type": "code",
   "execution_count": 22,
   "metadata": {
    "id": "8DmMkD5RiSzt"
   },
   "outputs": [
    {
     "name": "stdout",
     "output_type": "stream",
     "text": [
      "Mean absolut error on test: 2.276691339825479\n"
     ]
    }
   ],
   "source": [
    "# Modeling\n",
    "rfmodel = RandomForestRegressor(random_state=3315, \n",
    "                                max_depth=6,\n",
    "                                n_estimators=500,\n",
    "                                max_features='sqrt',\n",
    "                                min_samples_split=10,\n",
    "                                criterion='mse', n_jobs=-1)\n",
    "rfmodel.fit(X_train_window_size_5_tree, y_train_window_size_5)\n",
    "\n",
    "# Evaluate model performance\n",
    "result = evaluate_model(rfmodel, X_test_window_size_5_tree, y_test_window_size_5)"
   ]
  },
  {
   "cell_type": "markdown",
   "metadata": {},
   "source": [
    "- **Brief summary**:\n",
    "\n",
    "    > As shown in the cell below, the Random Forest model's performance on the test dataset is 2.2767 in terms of MAE.\n",
    "    \n",
    "    ___Limitations___: \n",
    "    \n",
    "    While Random Forest takes advantage of the power of ensemble, which helps avoid overfitting, it simply aggregates all the individual decision trees by training them in parallel. In other words, the trees within the Random Forest model are independent from each other and thus can't learn from each other. To address this disadvantage, we have also tried ensemble of boosted trees as shown in the following section."
   ]
  },
  {
   "cell_type": "markdown",
   "metadata": {
    "id": "7FJGi6FvKjuv"
   },
   "source": [
    "## <b>3.5.CatBoost and XGBoost</b>\n",
    "Takeaways:"
   ]
  },
  {
   "cell_type": "markdown",
   "metadata": {
    "id": "vxgieXwoiSzt"
   },
   "source": [
    "### LightGBM Model"
   ]
  },
  {
   "cell_type": "code",
   "execution_count": 27,
   "metadata": {
    "colab": {
     "base_uri": "https://localhost:8080/",
     "height": 653
    },
    "executionInfo": {
     "elapsed": 679,
     "status": "ok",
     "timestamp": 1636219216639,
     "user": {
      "displayName": "Jay J",
      "photoUrl": "https://lh3.googleusercontent.com/a-/AOh14GhYhjEIqny0vZW15UJvY7jtn845uh7AICvCtJGe=s64",
      "userId": "05851186706035953007"
     },
     "user_tz": -60
    },
    "id": "M1IJ_OW7Uvgy",
    "outputId": "22181bcd-e160-4e57-e479-6cf8c3eed0f1"
   },
   "outputs": [
    {
     "data": {
      "image/png": "[encoded data removed]",
      "text/plain": [
       "<Figure size 720x720 with 2 Axes>"
      ]
     },
     "metadata": {
      "needs_background": "light"
     },
     "output_type": "display_data"
    }
   ],
   "source": [
    "# Drop some features\n",
    "X_train_window_size_5_tree = X_train_window_size_5_tree.drop(['total_hours','minutes_4_3', 'minutes_3_2', 'minutes_2_1', 'dlvry_weekend', 'volume_4_3','volume_3_2', 'volume_2_1'], axis=1)\n",
    "X_valid_window_size_5_tree = X_valid_window_size_5_tree.drop(['total_hours','minutes_4_3', 'minutes_3_2', 'minutes_2_1', 'dlvry_weekend', 'volume_4_3','volume_3_2', 'volume_2_1'], axis=1)\n",
    "X_test_window_size_5_tree = X_test_window_size_5_tree.drop(['total_hours', 'minutes_4_3', 'minutes_3_2', 'minutes_2_1', 'dlvry_weekend', 'volume_4_3','volume_3_2', 'volume_2_1'], axis=1)\n",
    "\n",
    "# Plot\n",
    "plt.figure(figsize=(10,10))\n",
    "full_train_window_size_5 = X_train_window_size_5_tree.copy()\n",
    "full_train_window_size_5[\"TARGET\"] = y_train_window_size_5[\"y\"]\n",
    "sns.heatmap(full_train_window_size_5.corr(), annot=False, linewidths = 2, square= True, cmap=\"coolwarm\")\n",
    "plt.show()"
   ]
  },
  {
   "cell_type": "code",
   "execution_count": 28,
   "metadata": {
    "colab": {
     "base_uri": "https://localhost:8080/"
    },
    "executionInfo": {
     "elapsed": 540,
     "status": "ok",
     "timestamp": 1636219220967,
     "user": {
      "displayName": "Jay J",
      "photoUrl": "https://lh3.googleusercontent.com/a-/AOh14GhYhjEIqny0vZW15UJvY7jtn845uh7AICvCtJGe=s64",
      "userId": "05851186706035953007"
     },
     "user_tz": -60
    },
    "id": "2wg8qsTyiSzu",
    "outputId": "a9c6102c-e99e-4d57-ab4f-d998459f67ef"
   },
   "outputs": [
    {
     "name": "stdout",
     "output_type": "stream",
     "text": [
      "[1]\tvalid_0's l1: 2.55466\n",
      "[2]\tvalid_0's l1: 2.55436\n",
      "[3]\tvalid_0's l1: 2.55373\n",
      "[4]\tvalid_0's l1: 2.55288\n",
      "[5]\tvalid_0's l1: 2.55318\n",
      "[6]\tvalid_0's l1: 2.55347\n",
      "[7]\tvalid_0's l1: 2.55335\n",
      "[8]\tvalid_0's l1: 2.55299\n",
      "[9]\tvalid_0's l1: 2.55306\n",
      "[10]\tvalid_0's l1: 2.55255\n",
      "[11]\tvalid_0's l1: 2.55216\n",
      "[12]\tvalid_0's l1: 2.55203\n",
      "[13]\tvalid_0's l1: 2.5511\n",
      "[14]\tvalid_0's l1: 2.55088\n",
      "[15]\tvalid_0's l1: 2.55049\n",
      "[16]\tvalid_0's l1: 2.55001\n",
      "[17]\tvalid_0's l1: 2.55073\n",
      "Mean absolut error on test: 2.2483066265867726\n"
     ]
    }
   ],
   "source": [
    "# Process data\n",
    "train_data = lgb.Dataset(X_train_window_size_5_tree, label=y_train_window_size_5)\n",
    "valid_data = lgb.Dataset(X_valid_window_size_5_tree, label=y_valid_window_size_5)\n",
    "test_data = lgb.Dataset(X_test_window_size_5_tree, label=y_test_window_size_5)\n",
    "\n",
    "# Modeling\n",
    "param = {'num_leaves': 38, 'objective': 'regression_l1', 'metric': 'mae'}\n",
    "num_round =17\n",
    "bst = lgb.train(param, train_data, num_round, valid_sets=[valid_data])\n",
    "\n",
    "# Evaluate model performance\n",
    "result = evaluate_model(bst, X_test_window_size_5_tree, y_test_window_size_5)"
   ]
  },
  {
   "cell_type": "markdown",
   "metadata": {
    "id": "v3_6Q1_LKpr_"
   },
   "source": [
    "## <b>3.6.Support Vector Regression</b>\n",
    "- **Intro**:\n",
    "\n",
    "    The Support Vector Regression model utilizes the kernel trick to project the original dataset to a higher dimension in an efficient way. A main advantage of the model is its ability to tolerate errors within a certain range, which allows the model to become robust.\n",
    "\n",
    "- **Input data**:\n",
    "\n",
    "    The input data of the model has been normalized.\n",
    "    \n",
    "    > Training dataset: `X_train_window_size_5` and `y_train_window_size_5`\\\n",
    "    > Validation dataset: `X_valid_window_size_5` and `y_valid_window_size_5`\\\n",
    "    > Testing dataset: `X_test_window_size_5` and `y_test_window_size_5`\n",
    "    \n",
    "- **Architecture**:\n",
    "\n",
    "    After comparing the models' performance on the validation dataset using GridSearchCV, the best combination of parameters for the Support Vector Regression model is:\n",
    "    | Parameter name    | Value  |\n",
    "    |-------------------|--------|\n",
    "    | kernel      | 'poly'    |\n",
    "    | C      | 20' |"
   ]
  },
  {
   "cell_type": "code",
   "execution_count": 24,
   "metadata": {
    "id": "DHW0WWe0iSzu",
    "outputId": "5bd800b5-d299-4189-d5ed-5e0ef045b870"
   },
   "outputs": [
    {
     "name": "stdout",
     "output_type": "stream",
     "text": [
      "Mean absolut error on test: 2.260098588031554\n"
     ]
    }
   ],
   "source": [
    "# Modeling\n",
    "svrmodel = SVR(kernel='poly', C=20)\n",
    "svrmodel.fit(X_train_window_size_5, y_train_window_size_5)\n",
    "\n",
    "# Evaluate model performance\n",
    "result = evaluate_model(svrmodel, X_test_window_size_5, y_test_window_size_5)"
   ]
  },
  {
   "cell_type": "markdown",
   "metadata": {},
   "source": [
    "- **Brief summary**:\n",
    "\n",
    "    > As shown in the cell above, the Support Vector Regression model's performance on the test dataset is 2.26 in terms of MAE.\n",
    "    \n",
    "    ___Limitations___: \n",
    "    \n",
    "    While Support Vector Regressor manages to introduce non-linearity by projecting the original dataset to a higher dimension space and does it in an effective way, it is relatively time consuming and requires much more resources compared to other models, especially when training on large datasets."
   ]
  },
  {
   "cell_type": "markdown",
   "metadata": {
    "id": "tZI9_UDkX9Wx"
   },
   "source": [
    "## <b>3.7.KNN</b>\n",
    "The optimal k was found doing a grid search for `range(3, 25)`.  \n",
    "\n",
    "For this 'classic' approach, the train and valid set will be put together to make use of cross-validation."
   ]
  },
  {
   "cell_type": "code",
   "execution_count": 29,
   "metadata": {
    "executionInfo": {
     "elapsed": 543,
     "status": "ok",
     "timestamp": 1636219226414,
     "user": {
      "displayName": "Jay J",
      "photoUrl": "https://lh3.googleusercontent.com/a-/AOh14GhYhjEIqny0vZW15UJvY7jtn845uh7AICvCtJGe=s64",
      "userId": "05851186706035953007"
     },
     "user_tz": -60
    },
    "id": "7prtvVuJYAJi"
   },
   "outputs": [],
   "source": [
    "X_train_window_size_5_classic = X_train_window_size_5.copy().append(X_valid_window_size_5)\n",
    "y_train_window_size_5_classic = y_train_window_size_5.copy().append(y_valid_window_size_5)\n",
    "\n",
    "minmax_transformer_classic = Pipeline(steps=[\n",
    "        ('minmax', MinMaxScaler())])\n",
    "\n",
    "preprocessor_window_size_5_classic = ColumnTransformer(\n",
    "        remainder='passthrough', #passthough features not listed\n",
    "        transformers=[\n",
    "            ('mm', minmax_transformer_classic , [X_train_window_size_5_classic.columns[1], *[*X_train_window_size_5_classic.columns[17:]]])\n",
    "        ])\n",
    "\n",
    "\n",
    "preprocessor_window_size_5_classic.fit(X_train_window_size_5, y_train_window_size_5)\n",
    "X_train_window_size_5_classic_norm = preprocessor_window_size_5_classic.transform(X_train_window_size_5_classic)\n",
    "X_test_window_size_5_classic_norm = preprocessor_window_size_5_classic.transform(X_test_window_size_5)"
   ]
  },
  {
   "cell_type": "code",
   "execution_count": 30,
   "metadata": {
    "executionInfo": {
     "elapsed": 533,
     "status": "ok",
     "timestamp": 1636219229153,
     "user": {
      "displayName": "Jay J",
      "photoUrl": "https://lh3.googleusercontent.com/a-/AOh14GhYhjEIqny0vZW15UJvY7jtn845uh7AICvCtJGe=s64",
      "userId": "05851186706035953007"
     },
     "user_tz": -60
    },
    "id": "vjT9gaXtYCT4"
   },
   "outputs": [],
   "source": [
    "class Knn:\n",
    "\n",
    "    def __init__(self,\n",
    "                 X_train: pd.DataFrame,\n",
    "                 X_test: pd.DataFrame,\n",
    "                 y_train: pd.DataFrame,\n",
    "                 y_test: pd.DataFrame,\n",
    "                 k: int):\n",
    "        self.X_train = X_train\n",
    "        self.X_test = X_test\n",
    "        self.y_train = y_train\n",
    "        self.y_test = y_test\n",
    "        self.k = k\n",
    "        self.model = KNeighborsRegressor(n_neighbors=self.k, n_jobs=-1)\n",
    "        self.mae_scorer = make_scorer(mean_absolute_error)\n",
    "    \n",
    "    def get_cv_scores(self):\n",
    "        return cross_val_score(self.model, self.X_train, self.y_train, cv=5, scoring=self.mae_scorer)\n",
    "\n",
    "    def fit(self):\n",
    "        self.model.fit(self.X_train, self.y_train)\n",
    "\n",
    "    def predict(self):\n",
    "        predictions = self.model.predict(self.X_test)\n",
    "        return predictions\n",
    "\n",
    "    def go(self):\n",
    "        cv_scores = self.get_cv_scores()\n",
    "        self.fit()\n",
    "        predictions = self.predict()\n",
    "        return cv_scores, predictions, self.model"
   ]
  },
  {
   "cell_type": "code",
   "execution_count": 31,
   "metadata": {
    "executionInfo": {
     "elapsed": 6629,
     "status": "ok",
     "timestamp": 1636219238258,
     "user": {
      "displayName": "Jay J",
      "photoUrl": "https://lh3.googleusercontent.com/a-/AOh14GhYhjEIqny0vZW15UJvY7jtn845uh7AICvCtJGe=s64",
      "userId": "05851186706035953007"
     },
     "user_tz": -60
    },
    "id": "3wEmFe_FYNMo"
   },
   "outputs": [],
   "source": [
    "knn_5 = Knn(\n",
    "    X_train_window_size_5_classic_norm,\n",
    "    X_test_window_size_5_classic_norm,\n",
    "    y_train_window_size_5_classic,\n",
    "    y_test_window_size_5,\n",
    "    k=3\n",
    ")\n",
    "\n",
    "knn_cv_scores_5, knn_predictions_5, knn_model_5 = knn_5.go()"
   ]
  },
  {
   "cell_type": "markdown",
   "metadata": {
    "id": "e92XHwEnYOiw"
   },
   "source": [
    "CV Scores for KNN"
   ]
  },
  {
   "cell_type": "code",
   "execution_count": 32,
   "metadata": {
    "colab": {
     "base_uri": "https://localhost:8080/"
    },
    "executionInfo": {
     "elapsed": 8,
     "status": "ok",
     "timestamp": 1636219238259,
     "user": {
      "displayName": "Jay J",
      "photoUrl": "https://lh3.googleusercontent.com/a-/AOh14GhYhjEIqny0vZW15UJvY7jtn845uh7AICvCtJGe=s64",
      "userId": "05851186706035953007"
     },
     "user_tz": -60
    },
    "id": "V8AxuFo3YPex",
    "outputId": "5ebdd460-fe33-44e4-b784-ac5107841837"
   },
   "outputs": [
    {
     "data": {
      "text/plain": [
       "array([2.16796654, 2.01141579, 2.32734974, 2.23319267, 2.45716533])"
      ]
     },
     "execution_count": 32,
     "metadata": {},
     "output_type": "execute_result"
    }
   ],
   "source": [
    "knn_cv_scores_5"
   ]
  },
  {
   "cell_type": "markdown",
   "metadata": {
    "id": "s-6qdF3iYRA_"
   },
   "source": [
    "Prediction Scores for KNN"
   ]
  },
  {
   "cell_type": "code",
   "execution_count": 33,
   "metadata": {
    "colab": {
     "base_uri": "https://localhost:8080/"
    },
    "executionInfo": {
     "elapsed": 4,
     "status": "ok",
     "timestamp": 1636219238259,
     "user": {
      "displayName": "Jay J",
      "photoUrl": "https://lh3.googleusercontent.com/a-/AOh14GhYhjEIqny0vZW15UJvY7jtn845uh7AICvCtJGe=s64",
      "userId": "05851186706035953007"
     },
     "user_tz": -60
    },
    "id": "NaNORlBWYTc5",
    "outputId": "9f9f6773-d9d9-47c2-e305-e8b40d367d03"
   },
   "outputs": [
    {
     "data": {
      "text/plain": [
       "array([[-0.15333333],\n",
       "       [-0.15333333],\n",
       "       [ 0.39      ],\n",
       "       ...,\n",
       "       [ 0.63      ],\n",
       "       [ 1.07      ],\n",
       "       [ 1.07      ]])"
      ]
     },
     "execution_count": 33,
     "metadata": {},
     "output_type": "execute_result"
    }
   ],
   "source": [
    "knn_predictions_5"
   ]
  },
  {
   "cell_type": "markdown",
   "metadata": {
    "id": "XjhRxGqjKyY6"
   },
   "source": [
    "# <b>4.Creating DL models</b>\n",
    "<b>In this part, we employed multiple DL methods. </b>\n"
   ]
  },
  {
   "cell_type": "markdown",
   "metadata": {
    "id": "AsxkQOUoK3Or"
   },
   "source": [
    "## <b>4.1.Mulit-Layer Perceptron</b>\n",
    "For the MLP, the architecture seemed to be rather irrelevant. Generally speaking, simpler architectures with less neurons seemed to work as well as more complex architectures with several hidden layers and/or a large number of neurons. In total, a few hundred neurons overall were enough. Dropout, LR Scheduling and Adam optimizer created the best results.  \n",
    "We also found that higher batch sizes decreased the MAE.  \n",
    "One interesting finding is that the performance on the validation set would not change after 2-3 epochs. Additionally, the performance on the test set was always better than the performance on the validation set."
   ]
  },
  {
   "cell_type": "code",
   "execution_count": 34,
   "metadata": {
    "executionInfo": {
     "elapsed": 2,
     "status": "ok",
     "timestamp": 1636219241231,
     "user": {
      "displayName": "Jay J",
      "photoUrl": "https://lh3.googleusercontent.com/a-/AOh14GhYhjEIqny0vZW15UJvY7jtn845uh7AICvCtJGe=s64",
      "userId": "05851186706035953007"
     },
     "user_tz": -60
    },
    "id": "ISkNpOsHLHs8"
   },
   "outputs": [],
   "source": [
    "class Mlp:\n",
    "    \"\"\"\n",
    "    Creates a multilayer-perceptron model.\n",
    "    \"\"\"\n",
    "    def __init__(self, \n",
    "                 X_train: pd.DataFrame, \n",
    "                 X_valid: pd.DataFrame, \n",
    "                 X_test: pd.DataFrame, \n",
    "                 y_train: pd.DataFrame, \n",
    "                 y_valid: pd.DataFrame, \n",
    "                 y_test: pd.DataFrame, \n",
    "                 params: dict, \n",
    "                 layers: list, \n",
    "                 dropout: bool,\n",
    "                 schedulerthresh: int,\n",
    "                 optimizer,\n",
    "                 earlystopping: int\n",
    "                 ):\n",
    "        self.X_train = X_train\n",
    "        self.X_valid = X_valid\n",
    "        self.X_test = X_test\n",
    "        self.y_train = y_train\n",
    "        self.y_valid = y_valid\n",
    "        self.y_test = y_test\n",
    "        self.params = params\n",
    "        self.layers = layers\n",
    "        self.dropout = dropout\n",
    "        self.schedulerthresh = schedulerthresh\n",
    "        self.optimizer = optimizer\n",
    "        self.earlystopping = earlystopping\n",
    "        self.model = Sequential()\n",
    "\n",
    "    def compile_model(self):\n",
    "        be.clear_session()\n",
    "        self.model.add(Input(shape=(self.X_train.shape[1])))\n",
    "        for i in range(len(self.layers)):\n",
    "            self.model.add(Dense(self.layers[i], activation=\"relu\"))\n",
    "            if self.dropout:\n",
    "                self.model.add(Dropout(rate=self.dropout))\n",
    "        self.model.add(Dense(1, activation=\"linear\"))\n",
    "        optimizer = self.optimizer\n",
    "        self.model.compile(loss='mean_absolute_error', optimizer=optimizer)\n",
    "        return self.model\n",
    "        \n",
    "    def fit_model(self):\n",
    "        callbacks = []\n",
    "        if self.scheduler:\n",
    "            callbacks.append(LearningRateScheduler(self.scheduler))\n",
    "        if self.earlystopping:\n",
    "            callbacks.append(EarlyStopping(monitor='loss', patience=self.earlystopping))\n",
    "        history = self.model.fit(x=self.X_train,y=self.y_train, batch_size=self.params[\"BATCH_SIZE\"], validation_data=(self.X_valid,self.y_valid), epochs=self.params[\"EPOCHS\"], callbacks=callbacks, verbose=1, shuffle=False)\n",
    "        return history, self.model\n",
    "\n",
    "    def evaluate_model(self):\n",
    "        eval_score = self.model.evaluate(self.X_test, self.y_test.to_numpy())\n",
    "        return eval_score, self.model\n",
    "\n",
    "    def predict(self):\n",
    "        return self.model.predict(self.X_test)\n",
    "      \n",
    "    def go(self):\n",
    "        self.compile_model()\n",
    "        history, _ = self.fit_model()\n",
    "        eval_score, _ = self.evaluate_model()\n",
    "        predictions = self.predict()\n",
    "        return history, eval_score, predictions, self.model\n",
    "        \n",
    "    def scheduler(self, epoch, lr):\n",
    "        if self.schedulerthresh:\n",
    "            thresh = self.schedulerthresh\n",
    "        else:\n",
    "            thresh = 5\n",
    "        if epoch < thresh:\n",
    "            return lr\n",
    "        else:\n",
    "            return lr*exp(-0.1)\n"
   ]
  },
  {
   "cell_type": "markdown",
   "metadata": {
    "id": "T-j0UgAFYZ0E"
   },
   "source": [
    "### Creating best model for MLP"
   ]
  },
  {
   "cell_type": "code",
   "execution_count": 35,
   "metadata": {
    "colab": {
     "base_uri": "https://localhost:8080/"
    },
    "executionInfo": {
     "elapsed": 3926,
     "status": "ok",
     "timestamp": 1636219247007,
     "user": {
      "displayName": "Jay J",
      "photoUrl": "https://lh3.googleusercontent.com/a-/AOh14GhYhjEIqny0vZW15UJvY7jtn845uh7AICvCtJGe=s64",
      "userId": "05851186706035953007"
     },
     "user_tz": -60
    },
    "id": "wBuXPTtcYaiD",
    "outputId": "9826788e-0eec-4fbc-9dd7-2bdd318c6d9f"
   },
   "outputs": [
    {
     "name": "stdout",
     "output_type": "stream",
     "text": [
      "Epoch 1/10\n",
      "45/45 [==============================] - 1s 6ms/step - loss: 1.9087 - val_loss: 2.5613\n",
      "Epoch 2/10\n",
      "45/45 [==============================] - 0s 3ms/step - loss: 1.7933 - val_loss: 2.5571\n",
      "Epoch 3/10\n",
      "45/45 [==============================] - 0s 2ms/step - loss: 1.7768 - val_loss: 2.5554\n",
      "Epoch 4/10\n",
      "45/45 [==============================] - 0s 2ms/step - loss: 1.7728 - val_loss: 2.5552\n",
      "Epoch 5/10\n",
      "45/45 [==============================] - 0s 3ms/step - loss: 1.7718 - val_loss: 2.5551\n",
      "Epoch 6/10\n",
      "45/45 [==============================] - 0s 3ms/step - loss: 1.7713 - val_loss: 2.5551\n",
      "Epoch 7/10\n",
      "45/45 [==============================] - 0s 3ms/step - loss: 1.7712 - val_loss: 2.5552\n",
      "Epoch 8/10\n",
      "45/45 [==============================] - 0s 3ms/step - loss: 1.7711 - val_loss: 2.5551\n",
      "Epoch 9/10\n",
      "45/45 [==============================] - 0s 3ms/step - loss: 1.7710 - val_loss: 2.5551\n",
      "Epoch 10/10\n",
      "45/45 [==============================] - 0s 3ms/step - loss: 1.7710 - val_loss: 2.5551\n",
      "335/335 [==============================] - 1s 2ms/step - loss: 2.2551\n"
     ]
    }
   ],
   "source": [
    "params = {\n",
    "    \"BATCH_SIZE\": 2048, \n",
    "    \"EPOCHS\": 10, \n",
    "    \"LEARNING_RATE\": 0.0005}\n",
    "layers = [300, 100]\n",
    "dropout = 0.25\n",
    "scheduler = 5\n",
    "optimizer = Adam(learning_rate=0.0005)\n",
    "earlystopping = 3\n",
    "\n",
    "mlp_5 = Mlp(\n",
    "    X_train_window_size_5,\n",
    "    X_valid_window_size_5,\n",
    "    X_test_window_size_5,\n",
    "    y_train_window_size_5,\n",
    "    y_valid_window_size_5,\n",
    "    y_test_window_size_5,\n",
    "    params,\n",
    "    layers,\n",
    "    dropout,\n",
    "    scheduler,\n",
    "    optimizer,\n",
    "    earlystopping\n",
    ")\n",
    "mlp_history_5, mlp_eval_score_5, mlp_predictions_5, mlp_model_5 = mlp_5.go()"
   ]
  },
  {
   "cell_type": "markdown",
   "metadata": {
    "id": "v4ENdvgzYcpd"
   },
   "source": [
    "Evaluation Score of MLP"
   ]
  },
  {
   "cell_type": "code",
   "execution_count": 36,
   "metadata": {
    "colab": {
     "base_uri": "https://localhost:8080/"
    },
    "executionInfo": {
     "elapsed": 5,
     "status": "ok",
     "timestamp": 1636219247007,
     "user": {
      "displayName": "Jay J",
      "photoUrl": "https://lh3.googleusercontent.com/a-/AOh14GhYhjEIqny0vZW15UJvY7jtn845uh7AICvCtJGe=s64",
      "userId": "05851186706035953007"
     },
     "user_tz": -60
    },
    "id": "cXFYaw51Ydo8",
    "outputId": "04eba91e-d898-4370-8afd-50a5495cfb23"
   },
   "outputs": [
    {
     "data": {
      "text/plain": [
       "2.255129814147949"
      ]
     },
     "execution_count": 36,
     "metadata": {},
     "output_type": "execute_result"
    }
   ],
   "source": [
    "mlp_eval_score_5"
   ]
  },
  {
   "cell_type": "markdown",
   "metadata": {
    "id": "1vd_dZHwYfyJ"
   },
   "source": [
    "Plotting the Convergence process"
   ]
  },
  {
   "cell_type": "code",
   "execution_count": 38,
   "metadata": {
    "colab": {
     "base_uri": "https://localhost:8080/",
     "height": 283
    },
    "executionInfo": {
     "elapsed": 583,
     "status": "ok",
     "timestamp": 1636219260750,
     "user": {
      "displayName": "Jay J",
      "photoUrl": "https://lh3.googleusercontent.com/a-/AOh14GhYhjEIqny0vZW15UJvY7jtn845uh7AICvCtJGe=s64",
      "userId": "05851186706035953007"
     },
     "user_tz": -60
    },
    "id": "ip9t5h2mYjU-",
    "outputId": "cc650760-4326-4b9d-ea69-93c2d89ea52c"
   },
   "outputs": [
    {
     "data": {
      "image/png": "[encoded data removed]",
      "text/plain": [
       "<Figure size 432x288 with 1 Axes>"
      ]
     },
     "metadata": {
      "needs_background": "light"
     },
     "output_type": "display_data"
    }
   ],
   "source": [
    "loss_values = mlp_history_5.history['loss']\n",
    "val_loss_values = mlp_history_5.history['val_loss']\n",
    "epochs = range(1, len(loss_values)+1)\n",
    "\n",
    "plt.plot(epochs, loss_values, label='Training Loss')\n",
    "plt.plot(epochs, val_loss_values, label='Validation Loss')\n",
    "plt.xlabel('Epochs')\n",
    "plt.ylabel('Loss')\n",
    "plt.legend()\n",
    "\n",
    "plt.show()"
   ]
  },
  {
   "cell_type": "markdown",
   "metadata": {
    "id": "r8uTHXoaK9aK"
   },
   "source": [
    "## <b>4.2.Transform data to 3D for Recurrent Neural Networks</b>"
   ]
  },
  {
   "cell_type": "code",
   "execution_count": 39,
   "metadata": {
    "executionInfo": {
     "elapsed": 285,
     "status": "ok",
     "timestamp": 1636219264608,
     "user": {
      "displayName": "Jay J",
      "photoUrl": "https://lh3.googleusercontent.com/a-/AOh14GhYhjEIqny0vZW15UJvY7jtn845uh7AICvCtJGe=s64",
      "userId": "05851186706035953007"
     },
     "user_tz": -60
    },
    "id": "NODTFWYZY1ca"
   },
   "outputs": [],
   "source": [
    "################### Add \"Drop feature\" option based on Jacob and Jamie's version\n",
    "def unflatten_all(data, window_size, drop_features_list=None):\n",
    "    \"\"\"Return 3D data for all features (except minutes left) \n",
    "    to make the data suitable for recurrent neural networks\n",
    "\n",
    "    Arguments:\n",
    "    data -- predictor data after renaming and normalization\n",
    "    window_size -- either 5 or 15\n",
    "    \"\"\"\n",
    "    # Add option to drop a list of features \n",
    "    if drop_features_list == None:\n",
    "        drop_features_list = []\n",
    "    else:\n",
    "        data = data.drop(drop_features_list, axis=1)\n",
    "\n",
    "    # empty variable to hold final stacked 3D array\n",
    "    X_all_feat = []\n",
    "\n",
    "    # copy every non-time-series feature to get the right shape\n",
    "    feature_count = 17-len(drop_features_list)\n",
    "    for feature in data.iloc[:,:feature_count].columns:\n",
    "        X_feat = pd.concat([data[feature]]*(window_size - 1), axis=1)\n",
    "        X_all_feat.append(X_feat)\n",
    "    \n",
    "    # process open, high, low, close and volume features\n",
    "    X = data.iloc[:,feature_count:] \n",
    "    # drop minutes left feature as it is a linear function of time\n",
    "    minute_col = [col for col in X.columns if 'minutes' in col]\n",
    "    X = X.drop(minute_col, axis = 1)\n",
    "\n",
    "    # separate data per feature\n",
    "    open_col = [col for col in X.columns if 'open' in col]\n",
    "    X_open = X[open_col]\n",
    "    high_col = [col for col in X.columns if 'high' in col]\n",
    "    X_high = X[high_col]\n",
    "    low_col = [col for col in X.columns if 'low' in col]\n",
    "    X_low = X[low_col]\n",
    "    close_col = [col for col in X.columns if 'close' in col]\n",
    "    X_close = X[close_col]\n",
    "    vol_col = [col for col in X.columns if 'volume' in col]\n",
    "    X_vol = X[vol_col]\n",
    "    X_ts = [X_open, X_high, X_low, X_close, X_vol]\n",
    "    X_all_feat.extend(X_ts)\n",
    "\n",
    "    # stack data\n",
    "    X = np.stack(X_all_feat, axis = 2)\n",
    "\n",
    "    return X"
   ]
  },
  {
   "cell_type": "code",
   "execution_count": 40,
   "metadata": {
    "colab": {
     "base_uri": "https://localhost:8080/"
    },
    "executionInfo": {
     "elapsed": 5,
     "status": "ok",
     "timestamp": 1636219266043,
     "user": {
      "displayName": "Jay J",
      "photoUrl": "https://lh3.googleusercontent.com/a-/AOh14GhYhjEIqny0vZW15UJvY7jtn845uh7AICvCtJGe=s64",
      "userId": "05851186706035953007"
     },
     "user_tz": -60
    },
    "id": "EZfZkUsKY1aJ",
    "outputId": "07886c13-860f-4fc8-e5eb-c5db1258c034"
   },
   "outputs": [
    {
     "data": {
      "text/plain": [
       "((91512, 4, 8), (4817, 4, 8), (10704, 4, 8))"
      ]
     },
     "execution_count": 40,
     "metadata": {},
     "output_type": "execute_result"
    }
   ],
   "source": [
    "drop_features_list = ['dlvry_day_sin', 'dlvry_day_cos', 'dlvry_weekday_sin', 'dlvry_weekday_cos', 'dlvry_hour_sin', 'dlvry_hour_cos',\n",
    "                      'lasttrade_day_sin', 'lasttrade_day_cos', 'lasttrade_weekday_sin', 'lasttrade_weekday_cos', 'lasttrade_hour_sin', \n",
    "                      'lasttrade_weekend','lasttrade_bank_holiday', 'lasttrade_hour_cos']\n",
    "X_train_unflatten_all_5 = unflatten_all(X_train_window_size_5, 5, drop_features_list)\n",
    "X_valid_unflatten_all_5 = unflatten_all(X_valid_window_size_5, 5, drop_features_list)\n",
    "X_test_unflatten_all_5 = unflatten_all(X_test_window_size_5, 5, drop_features_list)\n",
    "np.shape(X_train_unflatten_all_5), np.shape(X_valid_unflatten_all_5), np.shape(X_test_unflatten_all_5)"
   ]
  },
  {
   "cell_type": "markdown",
   "metadata": {
    "id": "v3_6Q1_LKpr_"
   },
   "source": [
    "## <b>4.3.Convolutional Neural Network</b>\n",
    "- **Intro**:\n",
    "\n",
    "   A Convolutional Neural Network model involves multiple filters that can be used to capture complex patterns in the datasets. One of its distinct features is its parameter sharing, which can greatly increase its efficiency.\n",
    "\n",
    "- **Input data**:\n",
    "\n",
    "    The input data of the model has been normalized and rolled into a form of 3D data.\n",
    "    \n",
    "    > Training dataset: `X_train_unflatten_all_5` and `y_train_window_size_5`\\\n",
    "    > Validation dataset: `X_valid_unflatten_all_5` and `y_valid_window_size_5`\\\n",
    "    > Testing dataset: `X_test_unflatten_all_5` and `y_test_window_size_5`\n",
    "    \n",
    "- **Architecture**:\n",
    "\n",
    "    When increasing the complexity of the model (whether by increasing the number of hidden layers or the number of hidden cells), its performance doesn't seem to change. With various experiments, we have arrived at a relatively simple structure that yields similar results to its more complicated alternatives: 2 pairs of Convolutional layers and Max Pooling layers, followed by 2 pairs of fully connected layers and dropout layers."
   ]
  },
  {
   "cell_type": "code",
   "execution_count": 26,
   "metadata": {},
   "outputs": [],
   "source": [
    "n_hidden_layers = 2\n",
    "hidden_layer_size = 40\n",
    "dropout_rate = 0\n",
    "\n",
    "BATCH_SIZE = 100\n",
    "EPOCHS = 20"
   ]
  },
  {
   "cell_type": "code",
   "execution_count": 29,
   "metadata": {},
   "outputs": [
    {
     "name": "stdout",
     "output_type": "stream",
     "text": [
      "Model: \"model\"\n",
      "_________________________________________________________________\n",
      "Layer (type)                 Output Shape              Param #   \n",
      "=================================================================\n",
      "input_1 (InputLayer)         [(None, 4, 22)]           0         \n",
      "_________________________________________________________________\n",
      "conv1d (Conv1D)              (None, 4, 5)              225       \n",
      "_________________________________________________________________\n",
      "max_pooling1d (MaxPooling1D) (None, 3, 5)              0         \n",
      "_________________________________________________________________\n",
      "conv1d_1 (Conv1D)            (None, 3, 5)              55        \n",
      "_________________________________________________________________\n",
      "max_pooling1d_1 (MaxPooling1 (None, 2, 5)              0         \n",
      "_________________________________________________________________\n",
      "dense (Dense)                (None, 2, 100)            600       \n",
      "_________________________________________________________________\n",
      "dropout (Dropout)            (None, 2, 100)            0         \n",
      "_________________________________________________________________\n",
      "dense_1 (Dense)              (None, 2, 100)            10100     \n",
      "_________________________________________________________________\n",
      "dropout_1 (Dropout)          (None, 2, 100)            0         \n",
      "_________________________________________________________________\n",
      "dense_2 (Dense)              (None, 2, 1)              101       \n",
      "=================================================================\n",
      "Total params: 11,081\n",
      "Trainable params: 11,081\n",
      "Non-trainable params: 0\n",
      "_________________________________________________________________\n"
     ]
    }
   ],
   "source": [
    "tf.compat.v1.reset_default_graph()\n",
    "be.clear_session()\n",
    "\n",
    "# Define regularizer and initializer\n",
    "regularizer = tf.keras.regularizers.L2(2.)\n",
    "initializer = tf.keras.initializers.RandomUniform()\n",
    "\n",
    "input_shape = np.shape(X_train_unflatten_all_5)\n",
    "column_count = input_shape[2]\n",
    "\n",
    "input_layer=Input(shape=(input_shape[1], column_count))\n",
    "cur_last_layer = input_layer\n",
    "\n",
    "for l in range(n_hidden_layers):\n",
    "    cnn_layer=Conv1D(filters=5, kernel_size=2, \n",
    "                     input_shape=input_shape[1:],\n",
    "                     padding='same',\n",
    "                     kernel_initializer=initializer,\n",
    "                     kernel_regularizer=regularizer)(cur_last_layer)\n",
    "    pool = MaxPool1D(pool_size=2, strides=1)(cnn_layer)\n",
    "    cur_last_layer=pool\n",
    "\n",
    "for l in range(n_hidden_layers):\n",
    "    dense = Dense(100, activation='tanh')(cur_last_layer)\n",
    "    dropout_layer = Dropout(dropout_rate)(dense)\n",
    "    cur_last_layer=dropout_layer\n",
    "\n",
    "predictions=Dense(1)(cur_last_layer)\n",
    "\n",
    "cnn_model=Model(inputs=input_layer, outputs=predictions)\n",
    "cnn_model.summary()"
   ]
  },
  {
   "cell_type": "code",
   "execution_count": 30,
   "metadata": {
    "id": "AD256EDmLPOq"
   },
   "outputs": [
    {
     "name": "stdout",
     "output_type": "stream",
     "text": [
      "Epoch 1/20\n",
      "916/916 [==============================] - 20s 6ms/step - loss: 1.7757 - val_loss: 2.5553\n",
      "Epoch 2/20\n",
      "916/916 [==============================] - 4s 5ms/step - loss: 1.7709 - val_loss: 2.5551\n",
      "Epoch 3/20\n",
      "916/916 [==============================] - 4s 5ms/step - loss: 1.7708 - val_loss: 2.5552\n",
      "Epoch 4/20\n",
      "916/916 [==============================] - 4s 5ms/step - loss: 1.7708 - val_loss: 2.5552\n",
      "Epoch 5/20\n",
      "916/916 [==============================] - 4s 5ms/step - loss: 1.7709 - val_loss: 2.5554\n",
      "Epoch 6/20\n",
      "916/916 [==============================] - 4s 5ms/step - loss: 1.7709 - val_loss: 2.5551\n",
      "Epoch 7/20\n",
      "916/916 [==============================] - 4s 5ms/step - loss: 1.7708 - val_loss: 2.5553\n",
      "Epoch 8/20\n",
      "916/916 [==============================] - 5s 5ms/step - loss: 1.7709 - val_loss: 2.5552\n",
      "Epoch 9/20\n",
      "916/916 [==============================] - 4s 5ms/step - loss: 1.7708 - val_loss: 2.5551\n",
      "Epoch 10/20\n",
      "916/916 [==============================] - 4s 5ms/step - loss: 1.7709 - val_loss: 2.5552\n",
      "Epoch 11/20\n",
      "916/916 [==============================] - 5s 5ms/step - loss: 1.7709 - val_loss: 2.5551\n",
      "Epoch 12/20\n",
      "916/916 [==============================] - 4s 5ms/step - loss: 1.7709 - val_loss: 2.5552\n",
      "Epoch 13/20\n",
      "916/916 [==============================] - 4s 5ms/step - loss: 1.7709 - val_loss: 2.5552\n",
      "Epoch 14/20\n",
      "916/916 [==============================] - 5s 5ms/step - loss: 1.7709 - val_loss: 2.5552\n",
      "Epoch 15/20\n",
      "916/916 [==============================] - 4s 5ms/step - loss: 1.7709 - val_loss: 2.5552\n",
      "Epoch 16/20\n",
      "916/916 [==============================] - 5s 5ms/step - loss: 1.7708 - val_loss: 2.5552\n",
      "Epoch 17/20\n",
      "916/916 [==============================] - 4s 5ms/step - loss: 1.7708 - val_loss: 2.5552\n",
      "Epoch 18/20\n",
      "916/916 [==============================] - 4s 5ms/step - loss: 1.7709 - val_loss: 2.5552\n",
      "Epoch 19/20\n",
      "916/916 [==============================] - 4s 5ms/step - loss: 1.7708 - val_loss: 2.5552\n",
      "Epoch 20/20\n",
      "916/916 [==============================] - 4s 5ms/step - loss: 1.7709 - val_loss: 2.5552\n"
     ]
    }
   ],
   "source": [
    "optimizer = Adam(learning_rate=0.0018)\n",
    "\n",
    "cnn_model.compile(loss='mean_absolute_error', optimizer=optimizer)\n",
    "\n",
    "cnn_history = cnn_model.fit(X_train_unflatten_all_5, y_train_window_size_5,\n",
    "                            validation_data=(X_valid_unflatten_all_5, y_valid_window_size_5),\n",
    "                            epochs=EPOCHS,\n",
    "                            batch_size=BATCH_SIZE)"
   ]
  },
  {
   "cell_type": "code",
   "execution_count": 32,
   "metadata": {},
   "outputs": [
    {
     "name": "stdout",
     "output_type": "stream",
     "text": [
      "Mean absolut error on test: 2.255178354827305\n"
     ]
    }
   ],
   "source": [
    "result = evaluate_3Dmodel(cnn_model, X_test_unflatten_all_5, y_test_window_size_5)"
   ]
  },
  {
   "cell_type": "code",
   "execution_count": 33,
   "metadata": {
    "id": "OuEgtB5rLhzE"
   },
   "outputs": [
    {
     "data": {
      "image/png": "[encoded data removed]",
      "text/plain": [
       "<Figure size 432x288 with 1 Axes>"
      ]
     },
     "metadata": {
      "needs_background": "light"
     },
     "output_type": "display_data"
    }
   ],
   "source": [
    "loss_values = cnn_history.history['loss']\n",
    "val_loss_values = cnn_history.history['val_loss']\n",
    "epochs = range(1, len(loss_values)+1)\n",
    "\n",
    "plt.plot(epochs, loss_values, label='Training Loss')\n",
    "plt.plot(epochs, val_loss_values, label='Validation Loss')\n",
    "\n",
    "plt.title(\"Compiling history of CNN model\")\n",
    "plt.xlabel('Epochs')\n",
    "plt.ylabel('Loss')\n",
    "plt.legend()\n",
    "\n",
    "plt.show()"
   ]
  },
  {
   "cell_type": "markdown",
   "metadata": {},
   "source": [
    "- **Brief summary**:\n",
    "\n",
    "    > As shown in the cell above, the performance of the CNN on the test dataset is 2.255 in terms of MAE.\n",
    "    \n",
    "    ___Limitations___: \n",
    "    \n",
    "    Generally, it is more common to use CNN in image related problems, therefore, it's not surprising that the model cannot achieve high performance here. Moreover, considering the dimensionality of the data fed into the neural network (with a window size of 5 and therefore 4 \"time steps\"), the size of kernel that can be used is rather limited."
   ]
  },
  {
   "cell_type": "markdown",
   "metadata": {
    "id": "wId3Iw9FLR5F"
   },
   "source": [
    "## <b>4.4.Recurrent Neural Network</b>"
   ]
  },
  {
   "cell_type": "markdown",
   "metadata": {
    "id": "v3_6Q1_LKpr_"
   },
   "source": [
    "### LSTM: Long- Short-Term Memory\n",
    "\n",
    "- **Intro**:\n",
    "\n",
    "   A Long- Short-Term Memory model is a type of Recurrent Neural Network that is often used for sequence data such as in time-series and NLP problems. By introducing an additional vector, i.e., the cell state, the model is able to store important information of the past that is helpful for the prediction of the current state (or forget useless information when needed). Since the task we have involve time series data, LSTM seems to be a natural candidate for achieving high performance.\n",
    "\n",
    "- **Input data**:\n",
    "\n",
    "    The input data of the model has been normalized and rolled into a form of 3D data.\n",
    "    \n",
    "    > Training dataset: `X_train_unflatten_all_5` and `y_train_window_size_5`\\\n",
    "    > Validation dataset: `X_valid_unflatten_all_5` and `y_valid_window_size_5`\\\n",
    "    > Testing dataset: `X_test_unflatten_all_5` and `y_test_window_size_5`\n",
    "    \n",
    "- **Architecture**:\n",
    "\n",
    "    When increasing the complexity of the model (whether by increasing the number of hidden layers or the number of hidden cells), its performance doesn't seem to change. Below is one of the structures that yields similar results to its alternatives, with 3 pairs of LSTM layers and dropout layers followed by 3 pairs of fully connected layers and dropout layers."
   ]
  },
  {
   "cell_type": "code",
   "execution_count": 34,
   "metadata": {},
   "outputs": [],
   "source": [
    "n_hidden_layers = 3\n",
    "hidden_layer_size = 300\n",
    "dropout_rate = 0.25\n",
    "\n",
    "BATCH_SIZE = 500\n",
    "EPOCHS = 20"
   ]
  },
  {
   "cell_type": "code",
   "execution_count": 35,
   "metadata": {},
   "outputs": [
    {
     "name": "stdout",
     "output_type": "stream",
     "text": [
      "Model: \"model\"\n",
      "_________________________________________________________________\n",
      "Layer (type)                 Output Shape              Param #   \n",
      "=================================================================\n",
      "input_1 (InputLayer)         [(None, 4, 22)]           0         \n",
      "_________________________________________________________________\n",
      "lstm (LSTM)                  (None, 4, 300)            387600    \n",
      "_________________________________________________________________\n",
      "dropout (Dropout)            (None, 4, 300)            0         \n",
      "_________________________________________________________________\n",
      "lstm_1 (LSTM)                (None, 4, 300)            721200    \n",
      "_________________________________________________________________\n",
      "dropout_1 (Dropout)          (None, 4, 300)            0         \n",
      "_________________________________________________________________\n",
      "lstm_2 (LSTM)                (None, 4, 300)            721200    \n",
      "_________________________________________________________________\n",
      "dropout_2 (Dropout)          (None, 4, 300)            0         \n",
      "_________________________________________________________________\n",
      "dense (Dense)                (None, 4, 100)            30100     \n",
      "_________________________________________________________________\n",
      "dropout_3 (Dropout)          (None, 4, 100)            0         \n",
      "_________________________________________________________________\n",
      "dense_1 (Dense)              (None, 4, 100)            10100     \n",
      "_________________________________________________________________\n",
      "dropout_4 (Dropout)          (None, 4, 100)            0         \n",
      "_________________________________________________________________\n",
      "dense_2 (Dense)              (None, 4, 100)            10100     \n",
      "_________________________________________________________________\n",
      "dropout_5 (Dropout)          (None, 4, 100)            0         \n",
      "_________________________________________________________________\n",
      "dense_3 (Dense)              (None, 4, 1)              101       \n",
      "=================================================================\n",
      "Total params: 1,880,401\n",
      "Trainable params: 1,880,401\n",
      "Non-trainable params: 0\n",
      "_________________________________________________________________\n"
     ]
    }
   ],
   "source": [
    "tf.compat.v1.reset_default_graph()\n",
    "be.clear_session()\n",
    "\n",
    "input_shape[2]\n",
    "column_count = np.shape(X_train_unflatten_all_5)[2]\n",
    "\n",
    "input_layer=Input(shape=(np.shape(X_train_unflatten_all_5)[1], column_count))\n",
    "cur_last_layer=input_layer\n",
    "\n",
    "for l in range(n_hidden_layers):\n",
    "    hidden_layer=LSTM(hidden_layer_size, return_sequences=True)(cur_last_layer)\n",
    "    dropout_layer = Dropout(0.5)(hidden_layer)\n",
    "    cur_last_layer=dropout_layer\n",
    "\n",
    "for l in range(n_hidden_layers):\n",
    "    dense = Dense(100, activation='tanh')(cur_last_layer)\n",
    "    dropout_layer = Dropout(dropout_rate)(dense)\n",
    "    cur_last_layer=dropout_layer\n",
    "\n",
    "predictions=Dense(1)(cur_last_layer)\n",
    "\n",
    "lstm_model=Model(inputs=input_layer, outputs=predictions)\n",
    "lstm_model.summary()"
   ]
  },
  {
   "cell_type": "code",
   "execution_count": 36,
   "metadata": {
    "id": "OuEgtB5rLhzE"
   },
   "outputs": [
    {
     "name": "stdout",
     "output_type": "stream",
     "text": [
      "Epoch 1/20\n",
      "184/184 [==============================] - 29s 82ms/step - loss: 1.8798 - val_loss: 2.5572\n",
      "Epoch 2/20\n",
      "184/184 [==============================] - 14s 76ms/step - loss: 1.7720 - val_loss: 2.5695\n",
      "Epoch 3/20\n",
      "184/184 [==============================] - 14s 77ms/step - loss: 1.7717 - val_loss: 2.5569\n",
      "Epoch 4/20\n",
      "184/184 [==============================] - 14s 76ms/step - loss: 1.7718 - val_loss: 2.5564\n",
      "Epoch 5/20\n",
      "184/184 [==============================] - 14s 77ms/step - loss: 1.7715 - val_loss: 2.5579\n",
      "Epoch 6/20\n",
      "184/184 [==============================] - 14s 78ms/step - loss: 1.7715 - val_loss: 2.5559\n",
      "Epoch 7/20\n",
      "184/184 [==============================] - 14s 78ms/step - loss: 1.7716 - val_loss: 2.5556\n",
      "Epoch 8/20\n",
      "184/184 [==============================] - 15s 79ms/step - loss: 1.7713 - val_loss: 2.5557\n",
      "Epoch 9/20\n",
      "184/184 [==============================] - 15s 80ms/step - loss: 1.7714 - val_loss: 2.5559\n",
      "Epoch 10/20\n",
      "184/184 [==============================] - 15s 81ms/step - loss: 1.7714 - val_loss: 2.5555\n",
      "Epoch 11/20\n",
      "184/184 [==============================] - 15s 80ms/step - loss: 1.7713 - val_loss: 2.5556\n",
      "Epoch 12/20\n",
      "184/184 [==============================] - 14s 78ms/step - loss: 1.7716 - val_loss: 2.5555\n",
      "Epoch 13/20\n",
      "184/184 [==============================] - 14s 78ms/step - loss: 1.7713 - val_loss: 2.5552\n",
      "Epoch 14/20\n",
      "184/184 [==============================] - 14s 78ms/step - loss: 1.7713 - val_loss: 2.5561\n",
      "Epoch 15/20\n",
      "184/184 [==============================] - 14s 78ms/step - loss: 1.7714 - val_loss: 2.5553\n",
      "Epoch 16/20\n",
      "184/184 [==============================] - 14s 78ms/step - loss: 1.7714 - val_loss: 2.5566\n",
      "Epoch 17/20\n",
      "184/184 [==============================] - 14s 77ms/step - loss: 1.7713 - val_loss: 2.5557\n",
      "Epoch 18/20\n",
      "184/184 [==============================] - 14s 77ms/step - loss: 1.7714 - val_loss: 2.5563\n",
      "Epoch 19/20\n",
      "184/184 [==============================] - 14s 78ms/step - loss: 1.7713 - val_loss: 2.5553\n",
      "Epoch 20/20\n",
      "184/184 [==============================] - 14s 79ms/step - loss: 1.7714 - val_loss: 2.5559\n"
     ]
    }
   ],
   "source": [
    "optimizer = RMSprop(learning_rate=0.005)\n",
    "lstm_model.compile(loss='mean_absolute_error', optimizer=optimizer)\n",
    "\n",
    "lstm_history = lstm_model.fit(X_train_unflatten_all_5, y_train_window_size_5,\n",
    "                              validation_data=(X_valid_unflatten_all_5, y_valid_window_size_5),\n",
    "                              epochs=EPOCHS,\n",
    "                              batch_size=BATCH_SIZE)"
   ]
  },
  {
   "cell_type": "code",
   "execution_count": 37,
   "metadata": {},
   "outputs": [
    {
     "name": "stdout",
     "output_type": "stream",
     "text": [
      "Mean absolut error on test: 2.255846573621465\n"
     ]
    }
   ],
   "source": [
    "result = evaluate_3Dmodel(lstm_model, X_test_unflatten_all_5, y_test_window_size_5)"
   ]
  },
  {
   "cell_type": "code",
   "execution_count": 38,
   "metadata": {
    "id": "OuEgtB5rLhzE"
   },
   "outputs": [
    {
     "data": {
      "image/png": "[encoded data removed]",
      "text/plain": [
       "<Figure size 432x288 with 1 Axes>"
      ]
     },
     "metadata": {
      "needs_background": "light"
     },
     "output_type": "display_data"
    }
   ],
   "source": [
    "loss_values = lstm_history.history['loss']\n",
    "val_loss_values = lstm_history.history['val_loss']\n",
    "epochs = range(1, len(loss_values)+1)\n",
    "\n",
    "plt.plot(epochs, loss_values, label='Training Loss')\n",
    "plt.plot(epochs, val_loss_values, label='Validation Loss')\n",
    "\n",
    "plt.title(\"Compiling history of LSTM model\")\n",
    "plt.xlabel('Epochs')\n",
    "plt.ylabel('Loss')\n",
    "plt.legend()\n",
    "\n",
    "plt.show()"
   ]
  },
  {
   "cell_type": "markdown",
   "metadata": {},
   "source": [
    "- **Brief summary**:\n",
    "\n",
    "    > As shown in the cell above, the LSTM model's performance on the test dataset is 2.2558 in terms of MAE.\n",
    "    \n",
    "    ___Limitations___: \n",
    "    \n",
    "    While the structure of LSTM, especially the introduction of the cell state, allows it to process sequence data better, again, as mentioned above, due to the limitation caused by dimensionality of the input data (with a window size of 5 and therefore 4 \"time steps\"), the maximum context information that the neural network can store in the cell state is restricted, which is possibly the reason why the network fails to learn much additional information and predict better compared to other models shown above."
   ]
  },
  {
   "cell_type": "markdown",
   "metadata": {
    "id": "v3_6Q1_LKpr_"
   },
   "source": [
    "### Gated Recurrent Unit\n",
    "\n",
    "- **Intro**:\n",
    "\n",
    "   A Gated Recurrent Unit model is another type of Recurrent Neural Network. Compared to LSTM, a GRU neural network has fewer gates and parameters and therefore is more efficient to train.\n",
    "\n",
    "- **Input data**:\n",
    "\n",
    "    The input data of the model has been normalized and rolled into a form of 3D data.\n",
    "    \n",
    "    > Training dataset: `X_train_unflatten_all_5` and `y_train_window_size_5`\\\n",
    "    > Validation dataset: `X_valid_unflatten_all_5` and `y_valid_window_size_5`\\\n",
    "    > Testing dataset: `X_test_unflatten_all_5` and `y_test_window_size_5`\n",
    "    \n",
    "- **Architecture**:\n",
    "\n",
    "    When increasing the complexity of the model (whether by increasing the number of hidden layers or the number of hidden cells), its performance doesn't seem to change. Below is one of the structures that yields similar results to its alternatives, with 2 pairs of GRU layers and dropout layers followed by 2 pairs of fully connected layers and dropout layers."
   ]
  },
  {
   "cell_type": "code",
   "execution_count": 41,
   "metadata": {},
   "outputs": [],
   "source": [
    "n_hidden_layers = 2\n",
    "hidden_layer_size = 200\n",
    "dropout_rate = 0.5\n",
    "\n",
    "BATCH_SIZE = 300\n",
    "EPOCHS = 20"
   ]
  },
  {
   "cell_type": "code",
   "execution_count": 42,
   "metadata": {},
   "outputs": [
    {
     "name": "stdout",
     "output_type": "stream",
     "text": [
      "Model: \"model\"\n",
      "_________________________________________________________________\n",
      "Layer (type)                 Output Shape              Param #   \n",
      "=================================================================\n",
      "input_1 (InputLayer)         [(None, 4, 22)]           0         \n",
      "_________________________________________________________________\n",
      "gru (GRU)                    (None, 4, 200)            134400    \n",
      "_________________________________________________________________\n",
      "gru_1 (GRU)                  (None, 4, 200)            241200    \n",
      "_________________________________________________________________\n",
      "dense (Dense)                (None, 4, 100)            20100     \n",
      "_________________________________________________________________\n",
      "dropout (Dropout)            (None, 4, 100)            0         \n",
      "_________________________________________________________________\n",
      "dense_1 (Dense)              (None, 4, 100)            10100     \n",
      "_________________________________________________________________\n",
      "dropout_1 (Dropout)          (None, 4, 100)            0         \n",
      "_________________________________________________________________\n",
      "dense_2 (Dense)              (None, 4, 1)              101       \n",
      "=================================================================\n",
      "Total params: 405,901\n",
      "Trainable params: 405,901\n",
      "Non-trainable params: 0\n",
      "_________________________________________________________________\n"
     ]
    }
   ],
   "source": [
    "tf.compat.v1.reset_default_graph()\n",
    "be.clear_session()\n",
    "\n",
    "column_count = np.shape(X_train_unflatten_all_5)[2]\n",
    "\n",
    "input_layer=Input(shape=(np.shape(X_train_unflatten_all_5)[1], column_count))\n",
    "cur_last_layer=input_layer\n",
    "\n",
    "for l in range(n_hidden_layers):\n",
    "    hidden_layer=GRU(hidden_layer_size, return_sequences=True)(cur_last_layer)\n",
    "    cur_last_layer=hidden_layer\n",
    "\n",
    "for l in range(n_hidden_layers):\n",
    "    dense = Dense(100, activation='sigmoid')(cur_last_layer)\n",
    "    dropout_layer = Dropout(dropout_rate)(dense)\n",
    "    cur_last_layer=dropout_layer\n",
    "predictions=Dense(1)(cur_last_layer)\n",
    "\n",
    "gru_model=Model(inputs=input_layer, outputs=predictions)\n",
    "gru_model.summary()"
   ]
  },
  {
   "cell_type": "code",
   "execution_count": 43,
   "metadata": {
    "id": "OuEgtB5rLhzE"
   },
   "outputs": [
    {
     "name": "stdout",
     "output_type": "stream",
     "text": [
      "Epoch 1/20\n",
      "306/306 [==============================] - 10s 23ms/step - loss: 1.7964 - val_loss: 2.5552\n",
      "Epoch 2/20\n",
      "306/306 [==============================] - 7s 22ms/step - loss: 1.7709 - val_loss: 2.5553\n",
      "Epoch 3/20\n",
      "306/306 [==============================] - 7s 22ms/step - loss: 1.7709 - val_loss: 2.5554\n",
      "Epoch 4/20\n",
      "306/306 [==============================] - 7s 22ms/step - loss: 1.7709 - val_loss: 2.5553\n",
      "Epoch 5/20\n",
      "306/306 [==============================] - 7s 23ms/step - loss: 1.7709 - val_loss: 2.5553\n",
      "Epoch 6/20\n",
      "306/306 [==============================] - 6s 21ms/step - loss: 1.7709 - val_loss: 2.5553\n",
      "Epoch 7/20\n",
      "306/306 [==============================] - 7s 23ms/step - loss: 1.7709 - val_loss: 2.5551\n",
      "Epoch 8/20\n",
      "306/306 [==============================] - 6s 21ms/step - loss: 1.7709 - val_loss: 2.5553\n",
      "Epoch 9/20\n",
      "306/306 [==============================] - 7s 23ms/step - loss: 1.7709 - val_loss: 2.5554\n",
      "Epoch 10/20\n",
      "306/306 [==============================] - 7s 22ms/step - loss: 1.7709 - val_loss: 2.5554\n",
      "Epoch 11/20\n",
      "306/306 [==============================] - 6s 20ms/step - loss: 1.7709 - val_loss: 2.5554\n",
      "Epoch 12/20\n",
      "306/306 [==============================] - 7s 23ms/step - loss: 1.7709 - val_loss: 2.5553\n",
      "Epoch 13/20\n",
      "306/306 [==============================] - 7s 22ms/step - loss: 1.7709 - val_loss: 2.5554\n",
      "Epoch 14/20\n",
      "306/306 [==============================] - 7s 21ms/step - loss: 1.7709 - val_loss: 2.5552\n",
      "Epoch 15/20\n",
      "306/306 [==============================] - 7s 23ms/step - loss: 1.7709 - val_loss: 2.5552\n",
      "Epoch 16/20\n",
      "306/306 [==============================] - 7s 22ms/step - loss: 1.7709 - val_loss: 2.5552\n",
      "Epoch 17/20\n",
      "306/306 [==============================] - 7s 24ms/step - loss: 1.7709 - val_loss: 2.5553\n",
      "Epoch 18/20\n",
      "306/306 [==============================] - 7s 22ms/step - loss: 1.7709 - val_loss: 2.5553\n",
      "Epoch 19/20\n",
      "306/306 [==============================] - 7s 23ms/step - loss: 1.7709 - val_loss: 2.5554\n",
      "Epoch 20/20\n",
      "306/306 [==============================] - 7s 23ms/step - loss: 1.7709 - val_loss: 2.5554\n"
     ]
    }
   ],
   "source": [
    "#For shape remeber, we have a variable defining the \"window\" and the features in the window...\n",
    "optimizer = RMSprop(learning_rate=0.0015)\n",
    "gru_model.compile(loss='mean_absolute_error', optimizer=optimizer)\n",
    "\n",
    "gru_history = gru_model.fit(X_train_unflatten_all_5, y_train_window_size_5,\n",
    "                              validation_data=(X_valid_unflatten_all_5, y_valid_window_size_5),\n",
    "                              epochs=EPOCHS,\n",
    "                              batch_size=BATCH_SIZE)"
   ]
  },
  {
   "cell_type": "code",
   "execution_count": 44,
   "metadata": {},
   "outputs": [
    {
     "name": "stdout",
     "output_type": "stream",
     "text": [
      "Mean absolut error on test: 2.2554063179541552\n"
     ]
    }
   ],
   "source": [
    "result = evaluate_3Dmodel(gru_model, X_test_unflatten_all_5, y_test_window_size_5)"
   ]
  },
  {
   "cell_type": "code",
   "execution_count": 46,
   "metadata": {
    "id": "OuEgtB5rLhzE"
   },
   "outputs": [
    {
     "data": {
      "image/png": "[encoded data removed]",
      "text/plain": [
       "<Figure size 432x288 with 1 Axes>"
      ]
     },
     "metadata": {
      "needs_background": "light"
     },
     "output_type": "display_data"
    }
   ],
   "source": [
    "loss_values = gru_history.history['loss']\n",
    "val_loss_values = gru_history.history['val_loss']\n",
    "epochs = range(1, len(loss_values)+1)\n",
    "\n",
    "plt.plot(epochs, loss_values, label='Training Loss')\n",
    "plt.plot(epochs, val_loss_values, label='Validation Loss')\n",
    "\n",
    "plt.title('Compiling history of GRU model')\n",
    "plt.xlabel('Epochs')\n",
    "plt.ylabel('Loss')\n",
    "plt.legend()\n",
    "\n",
    "plt.show()"
   ]
  },
  {
   "cell_type": "markdown",
   "metadata": {},
   "source": [
    "- **Brief summary**:\n",
    "\n",
    "    > As shown in the cell above, the GRU model's performance on the test dataset is 2.2554 in terms of MAE.\n",
    "    \n",
    "    It is interesting to see that compared to LSTM, GRU yields a slightly better performance on the test set. However, the graphs of the compile histories of both models seem very similar--both show that there is little learning after the first 2 or 3 epochs.\n",
    "    \n",
    "    ___Limitations___: \n",
    "    \n",
    "    With fewer parameters and gates in the neural network, while the speed of training has been increased, the complexity that can be captured by GRU is also reduced. While its performance does seem better than LSTM, the difference can also be caused by other random factors."
   ]
  },
  {
   "cell_type": "markdown",
   "metadata": {
    "id": "TIQZq6puLuyx"
   },
   "source": [
    "## <b>4.5.Transformers: Attention is all you need!</b>"
   ]
  },
  {
   "cell_type": "code",
   "execution_count": 54,
   "metadata": {
    "executionInfo": {
     "elapsed": 5,
     "status": "ok",
     "timestamp": 1636219407085,
     "user": {
      "displayName": "Jay J",
      "photoUrl": "https://lh3.googleusercontent.com/a-/AOh14GhYhjEIqny0vZW15UJvY7jtn845uh7AICvCtJGe=s64",
      "userId": "05851186706035953007"
     },
     "user_tz": -60
    },
    "id": "6EpnA9LyT8DW"
   },
   "outputs": [],
   "source": [
    "X_train_window_size_5 = X_train_window_size_5.drop(['total_hours', 'minutes_4_3', 'minutes_3_2', 'minutes_2_1', 'dlvry_weekend', 'volume_4_3','volume_3_2', 'volume_2_1'], axis=1)\n",
    "X_valid_window_size_5 = X_valid_window_size_5.drop(['total_hours', 'minutes_4_3', 'minutes_3_2', 'minutes_2_1', 'dlvry_weekend', 'volume_4_3','volume_3_2', 'volume_2_1'], axis=1)\n",
    "X_test_window_size_5 = X_test_window_size_5.drop(['total_hours', 'minutes_4_3', 'minutes_3_2', 'minutes_2_1', 'dlvry_weekend', 'volume_4_3','volume_3_2', 'volume_2_1'], axis=1)"
   ]
  },
  {
   "cell_type": "code",
   "execution_count": 55,
   "metadata": {
    "executionInfo": {
     "elapsed": 5,
     "status": "ok",
     "timestamp": 1636219407085,
     "user": {
      "displayName": "Jay J",
      "photoUrl": "https://lh3.googleusercontent.com/a-/AOh14GhYhjEIqny0vZW15UJvY7jtn845uh7AICvCtJGe=s64",
      "userId": "05851186706035953007"
     },
     "user_tz": -60
    },
    "id": "rzrRV7hWUMS9"
   },
   "outputs": [],
   "source": [
    "EPOCHS = 10\n",
    "BATCH_SIZE = 64\n",
    "DENSE_LAYER_SIZE = 256\n",
    "DROP_OUT = 0.5\n",
    "be.clear_session()\n",
    "\n",
    "def Self_Attention_Dense():\n",
    "\n",
    "    clear_session\n",
    "    \n",
    "    #inputs = Input(shape=(X_train.shape[1],))\n",
    "    q_input = Input(shape=(X_train_window_size_5.shape[1],))\n",
    "\n",
    "    #Dense Layer for Embedding\n",
    "    D_EM_q = Dense(X_train_window_size_5.shape[1], activation='softmax', \n",
    "                   kernel_initializer=k.initializers.HeNormal)(q_input)\n",
    "\n",
    "    # Self Attention\n",
    "    qv_attention_seq = tf.keras.layers.Attention()(\n",
    "       [q_input, D_EM_q])\n",
    "\n",
    "    # Concatenate input and Self Attention object to produce input layer\n",
    "    Atten_inputs = merge.Concatenate()(\n",
    "        [q_input, qv_attention_seq])\n",
    "\n",
    "    #1 Dense Layer\n",
    "    Dense_1 = Dense(DENSE_LAYER_SIZE, name='Dense_1', activation='relu', \n",
    "                    kernel_initializer=k.initializers.HeNormal)(Atten_inputs)\n",
    "\n",
    "    #Dropout\n",
    "    Dropout_1 = Dropout(DROP_OUT)(Dense_1)\n",
    "    #2 Dense Layer\n",
    "    Dense_2 = Dense(DENSE_LAYER_SIZE, name='Dense_2', activation='relu', \n",
    "                    kernel_initializer=k.initializers.HeNormal)(Dropout_1)\n",
    "    #Dropout\n",
    "    Dropout_2 = Dropout(DROP_OUT)(Dense_2)\n",
    "    #Output\n",
    "    output = Dense(1, name='output_layer', activation='linear')(Dropout_2)\n",
    "\n",
    "    model = Model(inputs=[q_input], outputs=output)\n",
    "\n",
    "    radam = tfa.optimizers.RectifiedAdam()\n",
    "    ranger = tfa.optimizers.Lookahead(radam, sync_period=6, slow_step_size=0.5)\n",
    "    \n",
    "    model.compile(optimizer=ranger, loss='mae')\n",
    "\n",
    "    model_history = model.fit(X_train_window_size_5, y_train_window_size_5, validation_data=(X_valid_window_size_5, y_valid_window_size_5), epochs=EPOCHS, batch_size=BATCH_SIZE, shuffle=True)\n",
    "\n",
    "    return model, model_history"
   ]
  },
  {
   "cell_type": "code",
   "execution_count": 56,
   "metadata": {
    "colab": {
     "base_uri": "https://localhost:8080/"
    },
    "executionInfo": {
     "elapsed": 77774,
     "status": "ok",
     "timestamp": 1636219484855,
     "user": {
      "displayName": "Jay J",
      "photoUrl": "https://lh3.googleusercontent.com/a-/AOh14GhYhjEIqny0vZW15UJvY7jtn845uh7AICvCtJGe=s64",
      "userId": "05851186706035953007"
     },
     "user_tz": -60
    },
    "id": "M4d4KYQ6UOfU",
    "outputId": "113bed48-f47c-4466-a980-b801a5ff313c"
   },
   "outputs": [
    {
     "name": "stdout",
     "output_type": "stream",
     "text": [
      "Epoch 1/10\n",
      "1430/1430 [==============================] - 9s 5ms/step - loss: 1.8544 - val_loss: 2.5542\n",
      "Epoch 2/10\n",
      "1430/1430 [==============================] - 7s 5ms/step - loss: 1.7791 - val_loss: 2.5544\n",
      "Epoch 3/10\n",
      "1430/1430 [==============================] - 7s 5ms/step - loss: 1.7727 - val_loss: 2.5549\n",
      "Epoch 4/10\n",
      "1430/1430 [==============================] - 7s 5ms/step - loss: 1.7715 - val_loss: 2.5552\n",
      "Epoch 5/10\n",
      "1430/1430 [==============================] - 7s 5ms/step - loss: 1.7710 - val_loss: 2.5552\n",
      "Epoch 6/10\n",
      "1430/1430 [==============================] - 7s 5ms/step - loss: 1.7707 - val_loss: 2.5549\n",
      "Epoch 7/10\n",
      "1430/1430 [==============================] - 8s 5ms/step - loss: 1.7705 - val_loss: 2.5548\n",
      "Epoch 8/10\n",
      "1430/1430 [==============================] - 7s 5ms/step - loss: 1.7707 - val_loss: 2.5545\n",
      "Epoch 9/10\n",
      "1430/1430 [==============================] - 8s 5ms/step - loss: 1.7706 - val_loss: 2.5541\n",
      "Epoch 10/10\n",
      "1430/1430 [==============================] - 8s 5ms/step - loss: 1.7703 - val_loss: 2.5538\n"
     ]
    }
   ],
   "source": [
    "model, model_history = Self_Attention_Dense()"
   ]
  },
  {
   "cell_type": "code",
   "execution_count": 57,
   "metadata": {
    "colab": {
     "base_uri": "https://localhost:8080/"
    },
    "executionInfo": {
     "elapsed": 11,
     "status": "ok",
     "timestamp": 1636219484855,
     "user": {
      "displayName": "Jay J",
      "photoUrl": "https://lh3.googleusercontent.com/a-/AOh14GhYhjEIqny0vZW15UJvY7jtn845uh7AICvCtJGe=s64",
      "userId": "05851186706035953007"
     },
     "user_tz": -60
    },
    "id": "4tNBSDC1UPWP",
    "outputId": "d163e705-e6db-4fb3-bf5c-ca1d23124fe6"
   },
   "outputs": [
    {
     "name": "stdout",
     "output_type": "stream",
     "text": [
      "Mean absolut error on test: 2.256460820837076\n"
     ]
    },
    {
     "data": {
      "text/plain": [
       "2.256460820837076"
      ]
     },
     "execution_count": 57,
     "metadata": {},
     "output_type": "execute_result"
    }
   ],
   "source": [
    "evaluate_model(model, X_test_window_size_5, y_test_window_size_5)"
   ]
  },
  {
   "cell_type": "code",
   "execution_count": 58,
   "metadata": {
    "colab": {
     "base_uri": "https://localhost:8080/",
     "height": 279
    },
    "executionInfo": {
     "elapsed": 453,
     "status": "ok",
     "timestamp": 1636219485300,
     "user": {
      "displayName": "Jay J",
      "photoUrl": "https://lh3.googleusercontent.com/a-/AOh14GhYhjEIqny0vZW15UJvY7jtn845uh7AICvCtJGe=s64",
      "userId": "05851186706035953007"
     },
     "user_tz": -60
    },
    "id": "pX-aqRjrUVFR",
    "outputId": "5e3f6bd9-1830-4fed-f003-2e5e60184b8e"
   },
   "outputs": [
    {
     "data": {
      "image/png": "[encoded data removed]",
      "text/plain": [
       "<Figure size 432x288 with 1 Axes>"
      ]
     },
     "metadata": {
      "needs_background": "light"
     },
     "output_type": "display_data"
    }
   ],
   "source": [
    "loss_values = model_history.history['loss']\n",
    "val_loss_values = model_history.history['val_loss']\n",
    "epochs = range(1, len(loss_values)+1)\n",
    "\n",
    "plt.plot(epochs, loss_values, label='Training Loss')\n",
    "plt.plot(epochs, val_loss_values, label='Validation Loss')\n",
    "plt.xlabel('Epochs')\n",
    "plt.ylabel('Loss')\n",
    "plt.legend()\n",
    "\n",
    "plt.show()"
   ]
  }
 ],
 "metadata": {
  "accelerator": "GPU",
  "colab": {
   "collapsed_sections": [],
   "machine_shape": "hm",
   "name": "[Fan0611]_Electricity_price_prediction_5.ipynb",
   "provenance": []
  },
  "interpreter": {
   "hash": "89e63de8770f628c77675a9211c73c50d8048a4fbbbf8de889960f40f43afefe"
  },
  "kernelspec": {
   "display_name": "Python 3",
   "language": "python",
   "name": "python3"
  },
  "language_info": {
   "codemirror_mode": {
    "name": "ipython",
    "version": 3
   },
   "file_extension": ".py",
   "mimetype": "text/x-python",
   "name": "python",
   "nbconvert_exporter": "python",
   "pygments_lexer": "ipython3",
   "version": "3.8.5"
  }
 },
 "nbformat": 4,
 "nbformat_minor": 4
}
