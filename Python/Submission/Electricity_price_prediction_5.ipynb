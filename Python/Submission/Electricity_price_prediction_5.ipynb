{
 "cells": [
  {
   "cell_type": "markdown",
   "metadata": {
    "id": "gSa2MDIf8bJl"
   },
   "source": [
    "# This is the submission Notebook of Team Sigmoid Freud \n",
    "by Qianjing, Danie, Jacob, Fan, Jan"
   ]
  },
  {
   "cell_type": "markdown",
   "metadata": {
    "id": "5FVGL4igF1gQ"
   },
   "source": [
    "# <b>1.Preparations</b>\n",
    "<b>Firstly, we downloaded the data, imported necessary packages and loaded the data into DataFrames. We have also created a dataframe for summarizing the models' performance. </b>"
   ]
  },
  {
   "cell_type": "code",
   "execution_count": 1,
   "metadata": {
    "colab": {
     "base_uri": "https://localhost:8080/"
    },
    "id": "0kXqFJuvOXpJ",
    "outputId": "4f288f02-c9a6-4f9a-c806-04d309e6a7ba"
   },
   "outputs": [
    {
     "name": "stdout",
     "output_type": "stream",
     "text": [
      "Requirement already satisfied: tensorflow-addons in /usr/local/lib/python3.7/dist-packages (0.14.0)\n",
      "Requirement already satisfied: typeguard>=2.7 in /usr/local/lib/python3.7/dist-packages (from tensorflow-addons) (2.7.1)\n"
     ]
    }
   ],
   "source": [
    "pip install tensorflow-addons"
   ]
  },
  {
   "cell_type": "code",
   "execution_count": 2,
   "metadata": {
    "colab": {
     "base_uri": "https://localhost:8080/"
    },
    "id": "j-f5b8T0Q_3o",
    "outputId": "4305ef67-41db-445f-e657-9afb48ab58be"
   },
   "outputs": [
    {
     "name": "stdout",
     "output_type": "stream",
     "text": [
      "Drive already mounted at /content/gdrive; to attempt to forcibly remount, call drive.mount(\"/content/gdrive\", force_remount=True).\n",
      "/content/gdrive/MyDrive/Electricity_Data\n"
     ]
    }
   ],
   "source": [
    "from google.colab import drive\n",
    "drive.mount('/content/gdrive')\n",
    "%cd /content/gdrive/MyDrive/Electricity_Data"
   ]
  },
  {
   "cell_type": "code",
   "execution_count": 3,
   "metadata": {
    "id": "9n31apy383Mu"
   },
   "outputs": [],
   "source": [
    "#Imports basic packages for our tasks\n",
    "import pandas as pd\n",
    "import numpy as np\n",
    "import pickle\n",
    "\n",
    "#Imports visualization packages\n",
    "import matplotlib.pyplot as plt\n",
    "import seaborn as sns\n",
    "\n",
    "#Import ML packages\n",
    "from sklearn.linear_model import LinearRegression\n",
    "from sklearn.dummy import DummyRegressor\n",
    "from sklearn.ensemble import RandomForestRegressor\n",
    "from sklearn.svm import SVR\n",
    "from sklearn.pipeline import Pipeline\n",
    "from sklearn.compose import ColumnTransformer\n",
    "from sklearn.neighbors import KNeighborsRegressor\n",
    "from sklearn.metrics import mean_absolute_error, r2_score, make_scorer\n",
    "from sklearn.preprocessing import MinMaxScaler, PolynomialFeatures\n",
    "from sklearn.model_selection import GridSearchCV, cross_val_score\n",
    "import lightgbm as lgb\n",
    "\n",
    "#Import DL packages\n",
    "import tensorflow as tf\n",
    "import tensorflow.keras as k \n",
    "from keras.models import *\n",
    "from keras.layers import merge\n",
    "from keras.layers.core import *\n",
    "from tensorflow.keras import Model, Sequential\n",
    "from tensorflow.keras import backend as be\n",
    "from tensorflow.keras.layers import *\n",
    "from tensorflow.keras.layers import Dense, Dropout, Input, Conv1D, MaxPool1D, Embedding, Attention\n",
    "from tensorflow.keras.callbacks import ModelCheckpoint, LearningRateScheduler, EarlyStopping\n",
    "from tensorflow.keras.optimizers import Adadelta, Adam, RMSprop\n",
    "from tensorflow.keras.regularizers import *\n",
    "from tensorflow.math import exp\n",
    "import tensorflow_addons as tfa\n",
    "\n",
    "import warnings\n",
    "warnings.filterwarnings('ignore')"
   ]
  },
  {
   "cell_type": "code",
   "execution_count": 4,
   "metadata": {
    "id": "Wn6ykoiI9sTr"
   },
   "outputs": [],
   "source": [
    "#Load the datasets with a sliding window size of 5\n",
    "X_train_window_size_5 = pd.read_csv('X_train_window_size_5.csv')\n",
    "X_valid_window_size_5 = pd.read_csv('X_valid_window_size_5.csv')\n",
    "X_test_window_size_5 = pd.read_csv('X_test_window_size_5.csv')\n",
    "X_train_window_size_5_tree = pd.read_csv('X_train_window_size_5_tree.csv')\n",
    "X_valid_window_size_5_tree = pd.read_csv('X_valid_window_size_5_tree.csv')\n",
    "X_test_window_size_5_tree = pd.read_csv('X_test_window_size_5_tree.csv')\n",
    "y_train_window_size_5 = pd.read_csv('y_train_window_size_5.csv')\n",
    "y_valid_window_size_5 = pd.read_csv('y_valid_window_size_5.csv')\n",
    "y_test_window_size_5 = pd.read_csv('y_test_window_size_5.csv')"
   ]
  },
  {
   "cell_type": "code",
   "execution_count": 5,
   "metadata": {
    "id": "_k1yZ33eWjFz"
   },
   "outputs": [],
   "source": [
    "y_train_window_size_5 = y_train_window_size_5['y']\n",
    "y_valid_window_size_5 = y_valid_window_size_5['y']\n",
    "y_test_window_size_5 = y_test_window_size_5['y']"
   ]
  },
  {
   "cell_type": "code",
   "execution_count": 6,
   "metadata": {
    "id": "-cGCaD4QEdyH"
   },
   "outputs": [],
   "source": [
    "# Prepare a dataframe to store the performance of all models\n",
    "performance_df = pd.DataFrame(columns=['Model', 'MAE score (on test set)'])"
   ]
  },
  {
   "cell_type": "markdown",
   "metadata": {
    "id": "be6o3zgDFHtc"
   },
   "source": [
    "# <b>2.Conventional ML models</b>\n",
    "<b>In the second part, conventional ML models are used to make predictions, serving as a baseline to be compared with DL approaches. </b>\n"
   ]
  },
  {
   "cell_type": "markdown",
   "metadata": {
    "id": "MAfDUGoQJXb9"
   },
   "source": [
    "### Evaluation Functions: MAE"
   ]
  },
  {
   "cell_type": "code",
   "execution_count": 7,
   "metadata": {
    "id": "dMgHAsOIDgZh"
   },
   "outputs": [],
   "source": [
    "def evaluate_model(model, X_test, y_test_true):\n",
    "    predictions = model.predict(X_test)\n",
    "    mae = mean_absolute_error(y_test_true, predictions)\n",
    "    print(\"Mean absolut error on test:\", mae)\n",
    "    return mae"
   ]
  },
  {
   "cell_type": "code",
   "execution_count": 8,
   "metadata": {
    "id": "ygVbPd8F3Bo0"
   },
   "outputs": [],
   "source": [
    "def evaluate_3Dmodel(model, X_test, y_test_true):\n",
    "    predictions = model.predict(X_test)\n",
    "    predictions = predictions[:, -1]\n",
    "    mae = mean_absolute_error(y_test_true, predictions)\n",
    "    print(\"Mean absolut error on test:\", mae)\n",
    "    return mae"
   ]
  },
  {
   "cell_type": "markdown",
   "metadata": {
    "id": "9QBCkmPtKVYt"
   },
   "source": [
    "## <b>2.1.Dummy regressor</b>\n",
    "Takeaways:"
   ]
  },
  {
   "cell_type": "code",
   "execution_count": 9,
   "metadata": {
    "colab": {
     "base_uri": "https://localhost:8080/"
    },
    "id": "171ofxYqKZqt",
    "outputId": "e4a3773e-ac8d-40e8-8290-cd3966e3d4cb"
   },
   "outputs": [
    {
     "name": "stdout",
     "output_type": "stream",
     "text": [
      "Mean absolut error on test: 2.258751650277334\n"
     ]
    }
   ],
   "source": [
    "# Modeling\n",
    "dummy_model = DummyRegressor()\n",
    "dummy_model.fit(X_train_window_size_5, y_train_window_size_5)\n",
    "\n",
    "# Evaluate model performance and store it\n",
    "result = evaluate_model(dummy_model, X_test_window_size_5, y_test_window_size_5)\n",
    "performance_df = performance_df.append({'Model': 'Dummy Regressor', \n",
    "                                        'MAE score (on test set)': round(result, 4)},\n",
    "                                       ignore_index=True)"
   ]
  },
  {
   "cell_type": "markdown",
   "metadata": {
    "id": "yinsq3ETKads"
   },
   "source": [
    "## <b>2.2.Linear Regression</b>\n",
    "As expected, the linear models performed poorly for our data, as indicated by the R2 scores for both degree 1 and degree 2 models. The near 0 R2 scores for both validation and testing suggest that dependent variable cannot be explained by our data. Even though in the plots, the predicted y basically covered the actual y, the non-linear nature of our data cannot be captured by linear models. Due to the computational limitation, we only include the degree 2 polynomial regression, which has already served our purpose. "
   ]
  },
  {
   "cell_type": "markdown",
   "metadata": {
    "id": "8G-a9a-lFzgS"
   },
   "source": [
    "### Helper functions"
   ]
  },
  {
   "cell_type": "code",
   "execution_count": 10,
   "metadata": {
    "id": "xH4dFDnYKcuG"
   },
   "outputs": [],
   "source": [
    "# Modify the helper functions specifically for the linear models\n",
    "# Function to perform Cross Validation on Linear Models\n",
    "def get_cv_scores(model, X_train, y_train):\n",
    "    scores = cross_val_score(model, X_train, y_train, cv=5, scoring='r2')\n",
    "    print('CV Mean of R2: ', np.mean(scores))\n",
    "    print('CV STD of R2: ', np.std(scores))\n",
    "\n",
    "# Function to evaluate Linear Models with plots\n",
    "def evaluate_valid(model, X_valid, y_valid, X_test, y_test):\n",
    "    predictions_valid = model.predict(X_valid)\n",
    "    mae_valid = mean_absolute_error(y_valid, predictions_valid)\n",
    "    r2_valid = r2_score(y_valid, predictions_valid)\n",
    "    print(\"Validation MAE:\", mae_valid)\n",
    "    print(\"Validation R2:\", r2_valid)\n",
    "\n",
    "    predictions_test = model.predict(X_test)\n",
    "    mae_test = mean_absolute_error(y_test, predictions_test)\n",
    "    r2_test = r2_score(y_test, predictions_test)\n",
    "    print(\"Test MAE:\", mae_test)\n",
    "    print(\"Test R2:\", r2_test)\n",
    "    \n",
    "    fig=plt.figure()\n",
    "    ax=fig.add_axes([0,0,1,1])\n",
    "    ax.scatter(y_valid, predictions_valid, color='r', label='valid set', alpha=0.2)\n",
    "    ax.scatter(y_test, predictions_test, color='b', label='test set', alpha=0.2)\n",
    "    ax.set_title('Distributions of predicted and real Y')\n",
    "    ax.set_xlabel('Actual Y')\n",
    "    ax.set_ylabel('Predicted Y')\n",
    "    ax.legend()\n",
    "\n",
    "    return mae_test"
   ]
  },
  {
   "cell_type": "code",
   "execution_count": 11,
   "metadata": {
    "colab": {
     "base_uri": "https://localhost:8080/",
     "height": 468
    },
    "id": "WkA-SuEiiSzr",
    "outputId": "a2e44f88-03a8-4523-d61e-4dd3a15319d2"
   },
   "outputs": [
    {
     "name": "stdout",
     "output_type": "stream",
     "text": [
      "CV Mean of R2:  -0.0024990875674780976\n",
      "CV STD of R2:  0.011901930927789132\n",
      "Validation MAE: 2.5597569293787914\n",
      "Validation R2: -0.00753600763196971\n",
      "Test MAE: 2.278277126690864\n",
      "Test R2: -0.004706594876143555\n"
     ]
    },
    {
     "data": {
      "image/png": "[encoded data removed]",
      "text/plain": [
       "<Figure size 432x288 with 1 Axes>"
      ]
     },
     "metadata": {
      "needs_background": "light"
     },
     "output_type": "display_data"
    }
   ],
   "source": [
    "# Direct Linear Modling on Original Data \n",
    "model_lr = LinearRegression(copy_X=True, n_jobs=100)\n",
    "model_lr.fit(X_train_window_size_5, y_train_window_size_5)\n",
    "\n",
    "# Evaluate model performance and store it\n",
    "get_cv_scores(model_lr, X_train_window_size_5, y_train_window_size_5)\n",
    "result = evaluate_valid(model_lr, X_valid_window_size_5, y_valid_window_size_5, X_test_window_size_5, y_test_window_size_5)\n",
    "# print('Independent term in the linear model: ', model_lr.intercept_)\n",
    "# print('Estimated coefficients in the linear regression: \\n', model_lr.coef_)\n",
    "performance_df = performance_df.append({'Model': 'Linear Regression', \n",
    "                                        'MAE score (on test set)': round(result, 4)},\n",
    "                                       ignore_index=True)"
   ]
  },
  {
   "cell_type": "code",
   "execution_count": 12,
   "metadata": {
    "colab": {
     "base_uri": "https://localhost:8080/",
     "height": 468
    },
    "id": "WJSI2Jo8iSzs",
    "outputId": "68f7a623-2720-4d1b-87ec-7e747a2ef75c"
   },
   "outputs": [
    {
     "name": "stdout",
     "output_type": "stream",
     "text": [
      "CV Mean of R2:  -1.6558473392156838e+16\n",
      "CV STD of R2:  3.218491706856336e+16\n",
      "Validation MAE: 2.811697086257412\n",
      "Validation R2: -0.23269828315318963\n",
      "Test MAE: 2.484765136958238\n",
      "Test R2: -0.07257177828641947\n"
     ]
    },
    {
     "data": {
      "image/png": "[encoded data removed]",
      "text/plain": [
       "<Figure size 432x288 with 1 Axes>"
      ]
     },
     "metadata": {
      "needs_background": "light"
     },
     "output_type": "display_data"
    }
   ],
   "source": [
    "# Polynomial Regression (Degree=2) \n",
    "# Transformation of X_train/valid/test datasets\n",
    "polynomial_features= PolynomialFeatures(degree=2)\n",
    "X_train_5_poly = polynomial_features.fit_transform(X_train_window_size_5)\n",
    "X_valid_5_poly = polynomial_features.fit_transform(X_valid_window_size_5)\n",
    "X_test_5_poly = polynomial_features.fit_transform(X_test_window_size_5)\n",
    "\n",
    "# Modeling\n",
    "model_lr = LinearRegression(normalize=True, copy_X=True, n_jobs=100)\n",
    "model_lr.fit(X_train_5_poly, y_train_window_size_5)\n",
    "get_cv_scores(model_lr, X_train_5_poly, y_train_window_size_5)\n",
    "\n",
    "# Evaluate model performance and store it\n",
    "result = evaluate_valid(model_lr, X_valid_5_poly, y_valid_window_size_5, X_test_5_poly, y_test_window_size_5)\n",
    "performance_df = performance_df.append({'Model': 'Linear Regression (poly transformed)', \n",
    "                                        'MAE score (on test set)': round(result, 4)},\n",
    "                                       ignore_index=True)"
   ]
  },
  {
   "cell_type": "markdown",
   "metadata": {
    "id": "QubESi9OKe9F"
   },
   "source": [
    "## <b>2.3.Random Forrest</b>\n",
    "- **Intro**:\n",
    "\n",
    "    The Random Forest method fits on the training data using an ensemble of decision trees. An important feature of the model is that it helps avoid overfitting by building each of the tree with a sample of data points as well as a sample of the features of the original training dataset.\n",
    "\n",
    "- **Input data**:\n",
    "\n",
    "    > Training dataset: `X_train_window_size_5_tree` and `y_train_window_size_5`\\\n",
    "    > Validation dataset: `X_valid_window_size_5_tree` and `y_valid_window_size_5`\\\n",
    "    > Testing dataset: `X_test_window_size_5_tree` and `y_test_window_size_5`\n",
    "    \n",
    "    Apart from normalization, the datasets used for Random Forest modelling have also been transformed in terms of their datetime columns, such as for the variable `lasttrade_weekday`. These columns originally consisted of two sets of variables to express a certain datetime point, which has been preprocessed and converted back to their original value.\n",
    "\n",
    "- **Architecture**:\n",
    "\n",
    "    After comparing the models' performance on the validation dataset using GridSearchCV, the best combination of parameters for the Random Forest Regressor is:\n",
    "    | Parameter name    | Value  |\n",
    "    |-------------------|--------|\n",
    "    | n_estimators      | 500    |\n",
    "    | max_features      | 'sqrt' |\n",
    "    | min_samples_split | 10     |\n",
    "    | max_depth         | 6      |\n",
    "    \n",
    "It is worth noting that our group has also tried dropping features that are deemed the least important by the Random Forest model after performing the Grid Search, and there seemed to be little improvement in the model's performance, which is why this part has been excluded here."
   ]
  },
  {
   "cell_type": "code",
   "execution_count": 13,
   "metadata": {
    "colab": {
     "base_uri": "https://localhost:8080/"
    },
    "id": "8DmMkD5RiSzt",
    "outputId": "4cb89644-43f7-4558-b147-0173601b8ea0"
   },
   "outputs": [
    {
     "name": "stdout",
     "output_type": "stream",
     "text": [
      "Mean absolut error on test: 2.2755474195799463\n"
     ]
    }
   ],
   "source": [
    "# Modeling\n",
    "rfmodel = RandomForestRegressor(random_state=3315, \n",
    "                                max_depth=6,\n",
    "                                n_estimators=500,\n",
    "                                max_features='sqrt',\n",
    "                                min_samples_split=10,\n",
    "                                criterion='mse', \n",
    "                                n_jobs=-1)\n",
    "rfmodel.fit(X_train_window_size_5_tree, y_train_window_size_5)\n",
    "\n",
    "# Evaluate model performance and store it\n",
    "result = evaluate_model(rfmodel, X_test_window_size_5_tree, y_test_window_size_5)\n",
    "performance_df = performance_df.append({'Model': 'Random Forest', \n",
    "                                        'MAE score (on test set)': round(result, 4)},\n",
    "                                       ignore_index=True)"
   ]
  },
  {
   "cell_type": "markdown",
   "metadata": {
    "id": "ggSt_eL43Bo4"
   },
   "source": [
    "- **Brief summary**:\n",
    "\n",
    "    > As shown in the cell above, the Random Forest model's performance on the test dataset is 2.2755 in terms of MAE.\n",
    "    \n",
    "    ___Limitations___: \n",
    "    \n",
    "    While Random Forest takes advantage of the power of ensemble, which helps avoid overfitting, it simply aggregates all the individual decision trees by training them in parallel. In other words, the trees within the Random Forest model are independent from each other and thus can't learn from each other. To address this disadvantage, we have also tried ensemble of boosted trees as shown in the following section."
   ]
  },
  {
   "cell_type": "markdown",
   "metadata": {
    "id": "7FJGi6FvKjuv"
   },
   "source": [
    "## <b>2.4.Gradient Boosting</b>\n",
    "Takeaways:\n",
    "\n",
    "LightGBM is a gradient boosting framework using tree based approaches. Gradient boosting comes from the idea whether a weak learner can modified to become even better. Additionally, we can state that a Gradient Boosting algorithm consists of 3 elements: 1. a loss function, which needs to be optimized. 2. A weak learner to make predictions of the input data and 3. An additive model which adds weak learners to minimize the loss function. Basically, this means each new added weak learner is trained one minimizing the errors of the previous models.\n",
    "\n",
    "In the beginning we stated the LightGBM is using tree based approaches. This also means for us that we have to conserve the sin/cos features of the time series into real integers because a tree will split its decision after one feature even though the sin/cos of the columns is one feature. \n",
    "In the previous preprocessing notebook we encoded these time series sin/cos features to use LightGBM properly. Gradient Boosting algorithms are aggressive learners which means they overfit fast. That’s why we first have to drop all features with a high correlation.\n",
    "\n",
    "The architecture is really simple since we only need to define the right parameters. Since our group decided to optimize the model for the mean absolute error. The objective was set to regression_l1 and the metric is ‚mae‘ (mean absolute error). The parameters num_leaves and num_round are the most important parameters to tune because these regulate the over-/underfitting of our model. After several trials we identified a small number of leaves with 45 and 17 num of rounds.\n",
    "\n",
    "\n",
    "Performance:\n",
    "\n",
    "The LightGBM model is our best model and was able to achieve a slightly better mean absolute error than the DummyRegressor which was predicting the mean. By having a small number of leaves we regulated the overfitting of the model so it was able to capture more information of the training set to make better predictions on the test set.\n",
    "However, gradient boosting lacks the ability to capture time series information because it is a tree approach. In our opinion we were able to minimize the main disadvantage of overfitting but we think other models can be even better by also using the time series information correctly."
   ]
  },
  {
   "cell_type": "markdown",
   "metadata": {
    "id": "vxgieXwoiSzt"
   },
   "source": [
    "### LightGBM Model"
   ]
  },
  {
   "cell_type": "code",
   "execution_count": 14,
   "metadata": {
    "id": "M1IJ_OW7Uvgy"
   },
   "outputs": [],
   "source": [
    "# Drop some features\n",
    "X_train_window_size_5_tree = X_train_window_size_5_tree.drop(['total_hours','minutes_4_3', 'minutes_3_2', 'minutes_2_1', 'dlvry_weekend', 'volume_4_3','volume_3_2', 'volume_2_1'], axis=1)\n",
    "X_valid_window_size_5_tree = X_valid_window_size_5_tree.drop(['total_hours','minutes_4_3', 'minutes_3_2', 'minutes_2_1', 'dlvry_weekend', 'volume_4_3','volume_3_2', 'volume_2_1'], axis=1)\n",
    "X_test_window_size_5_tree = X_test_window_size_5_tree.drop(['total_hours', 'minutes_4_3', 'minutes_3_2', 'minutes_2_1', 'dlvry_weekend', 'volume_4_3','volume_3_2', 'volume_2_1'], axis=1)"
   ]
  },
  {
   "cell_type": "code",
   "execution_count": 15,
   "metadata": {
    "colab": {
     "base_uri": "https://localhost:8080/"
    },
    "id": "2wg8qsTyiSzu",
    "outputId": "843f280e-73cb-459e-dc10-d2c536f1ddee"
   },
   "outputs": [
    {
     "name": "stdout",
     "output_type": "stream",
     "text": [
      "[1]\tvalid_0's l1: 2.55502\n",
      "[2]\tvalid_0's l1: 2.55424\n",
      "[3]\tvalid_0's l1: 2.55366\n",
      "[4]\tvalid_0's l1: 2.55321\n",
      "[5]\tvalid_0's l1: 2.55267\n",
      "[6]\tvalid_0's l1: 2.55254\n",
      "[7]\tvalid_0's l1: 2.55169\n",
      "[8]\tvalid_0's l1: 2.55115\n",
      "[9]\tvalid_0's l1: 2.55127\n",
      "[10]\tvalid_0's l1: 2.55024\n",
      "[11]\tvalid_0's l1: 2.54987\n",
      "[12]\tvalid_0's l1: 2.54873\n",
      "[13]\tvalid_0's l1: 2.54836\n",
      "[14]\tvalid_0's l1: 2.54794\n",
      "[15]\tvalid_0's l1: 2.54819\n",
      "[16]\tvalid_0's l1: 2.54801\n",
      "[17]\tvalid_0's l1: 2.54927\n",
      "[18]\tvalid_0's l1: 2.54936\n",
      "[19]\tvalid_0's l1: 2.54924\n",
      "[20]\tvalid_0's l1: 2.54965\n",
      "Mean absolut error on test: 2.2494811412930393\n"
     ]
    }
   ],
   "source": [
    "# Process data\n",
    "train_data = lgb.Dataset(X_train_window_size_5_tree, label=y_train_window_size_5)\n",
    "valid_data = lgb.Dataset(X_valid_window_size_5_tree, label=y_valid_window_size_5)\n",
    "test_data = lgb.Dataset(X_test_window_size_5_tree, label=y_test_window_size_5)\n",
    "\n",
    "# Modeling\n",
    "param = {'num_leaves': 60, 'objective': 'regression_l1', 'metric': 'mae'}\n",
    "num_round = 20\n",
    "bst = lgb.train(param, train_data, num_round, valid_sets=[valid_data])\n",
    "\n",
    "# Evaluate model performance and store it\n",
    "result = evaluate_model(bst, X_test_window_size_5_tree, y_test_window_size_5)\n",
    "performance_df = performance_df.append({'Model': 'LightGBM', \n",
    "                                        'MAE score (on test set)': round(result, 4)},\n",
    "                                       ignore_index=True)"
   ]
  },
  {
   "cell_type": "markdown",
   "metadata": {
    "id": "v3_6Q1_LKpr_"
   },
   "source": [
    "## <b>2.5.Support Vector Regression</b>\n",
    "- **Intro**:\n",
    "\n",
    "    The Support Vector Regression model utilizes the kernel trick to project the original dataset to a higher dimension in an efficient way. A main advantage of the model is its ability to tolerate errors within a certain range, which allows the model to become robust.\n",
    "\n",
    "- **Input data**:\n",
    "\n",
    "    The input data of the model has been normalized.\n",
    "    \n",
    "    > Training dataset: `X_train_window_size_5` and `y_train_window_size_5`\\\n",
    "    > Validation dataset: `X_valid_window_size_5` and `y_valid_window_size_5`\\\n",
    "    > Testing dataset: `X_test_window_size_5` and `y_test_window_size_5`\n",
    "    \n",
    "- **Architecture**:\n",
    "\n",
    "    After comparing the models' performance on the validation dataset using GridSearchCV, the best combination of parameters for the Support Vector Regression model is:\n",
    "    | Parameter name    | Value  |\n",
    "    |-------------------|--------|\n",
    "    | kernel      | 'poly'    |\n",
    "    | C      | 20' |"
   ]
  },
  {
   "cell_type": "code",
   "execution_count": 16,
   "metadata": {
    "colab": {
     "base_uri": "https://localhost:8080/"
    },
    "id": "DHW0WWe0iSzu",
    "outputId": "ca753199-f3ce-4326-8881-c37692174d3b"
   },
   "outputs": [
    {
     "name": "stdout",
     "output_type": "stream",
     "text": [
      "Mean absolut error on test: 2.255148286587747\n"
     ]
    }
   ],
   "source": [
    "# Modeling\n",
    "svrmodel = SVR(kernel='poly', C=20)\n",
    "svrmodel.fit(X_train_window_size_5, y_train_window_size_5)\n",
    "\n",
    "# Evaluate model performance and store it\n",
    "result = evaluate_model(svrmodel, X_test_window_size_5, y_test_window_size_5)\n",
    "performance_df = performance_df.append({'Model': 'Support Vector Regressor', \n",
    "                                        'MAE score (on test set)': round(result, 4)},\n",
    "                                       ignore_index=True)"
   ]
  },
  {
   "cell_type": "markdown",
   "metadata": {
    "id": "zUYTe3RU3Bo5"
   },
   "source": [
    "- **Brief summary**:\n",
    "\n",
    "    > As shown in the cell above, the Support Vector Regression model's performance on the test dataset is 2.255 in terms of MAE.\n",
    "    \n",
    "    ___Limitations___: \n",
    "    \n",
    "    While Support Vector Regressor manages to introduce non-linearity by projecting the original dataset to a higher dimension space and does it in an effective way, it is relatively time consuming and requires much more resources compared to other models, especially when training on large datasets."
   ]
  },
  {
   "cell_type": "markdown",
   "metadata": {
    "id": "tZI9_UDkX9Wx"
   },
   "source": [
    "## <b>2.6.KNN</b>\n",
    "The optimal k was found doing a grid search for `range(3, 25)`. "
   ]
  },
  {
   "cell_type": "code",
   "execution_count": 17,
   "metadata": {
    "id": "7prtvVuJYAJi"
   },
   "outputs": [],
   "source": [
    "# For this 'classic' approach, the train and valid set will be put together to make use of cross-validation.\n",
    "X_train_window_size_5_classic = X_train_window_size_5.copy().append(X_valid_window_size_5)\n",
    "y_train_window_size_5_classic = y_train_window_size_5.copy().append(y_valid_window_size_5)\n",
    "\n",
    "minmax_transformer_classic = Pipeline(steps=[('minmax', MinMaxScaler())])\n",
    "\n",
    "preprocessor_window_size_5_classic = ColumnTransformer(\n",
    "        remainder='passthrough', #passthough features not listed\n",
    "        transformers=[\n",
    "            ('mm', minmax_transformer_classic , [X_train_window_size_5_classic.columns[1], \n",
    "                                                 *[*X_train_window_size_5_classic.columns[17:]]])\n",
    "        ])\n",
    "\n",
    "preprocessor_window_size_5_classic.fit(X_train_window_size_5, y_train_window_size_5)\n",
    "X_train_window_size_5_classic_norm = preprocessor_window_size_5_classic.transform(X_train_window_size_5_classic)\n",
    "X_test_window_size_5_classic_norm = preprocessor_window_size_5_classic.transform(X_test_window_size_5)"
   ]
  },
  {
   "cell_type": "code",
   "execution_count": 18,
   "metadata": {
    "id": "vjT9gaXtYCT4"
   },
   "outputs": [],
   "source": [
    "class Knn:\n",
    "\n",
    "    def __init__(self,\n",
    "                 X_train: pd.DataFrame,\n",
    "                 X_test: pd.DataFrame,\n",
    "                 y_train: pd.DataFrame,\n",
    "                 y_test: pd.DataFrame,\n",
    "                 k: int):\n",
    "        self.X_train = X_train\n",
    "        self.X_test = X_test\n",
    "        self.y_train = y_train\n",
    "        self.y_test = y_test\n",
    "        self.k = k\n",
    "        self.model = KNeighborsRegressor(n_neighbors=self.k, n_jobs=-1)\n",
    "        self.mae_scorer = make_scorer(mean_absolute_error)\n",
    "    \n",
    "    def get_cv_scores(self):\n",
    "        return cross_val_score(self.model, self.X_train, \n",
    "                               self.y_train, cv=5, \n",
    "                               scoring=self.mae_scorer)\n",
    "\n",
    "    def fit(self):\n",
    "        self.model.fit(self.X_train, self.y_train)\n",
    "\n",
    "    def predict(self):\n",
    "        predictions = self.model.predict(self.X_test)\n",
    "        return predictions\n",
    "\n",
    "    def go(self):\n",
    "        cv_scores = self.get_cv_scores()\n",
    "        self.fit()\n",
    "        predictions = self.predict()\n",
    "        return cv_scores, predictions, self.model"
   ]
  },
  {
   "cell_type": "code",
   "execution_count": 19,
   "metadata": {
    "id": "3wEmFe_FYNMo"
   },
   "outputs": [],
   "source": [
    "knn_5 = Knn(\n",
    "    X_train_window_size_5_classic_norm,\n",
    "    X_test_window_size_5_classic_norm,\n",
    "    y_train_window_size_5_classic,\n",
    "    y_test_window_size_5,\n",
    "    k=3\n",
    ")\n",
    "\n",
    "# Fit model and get cross validation scores\n",
    "knn_cv_scores_5, knn_predictions_5, knn_model_5 = knn_5.go()"
   ]
  },
  {
   "cell_type": "markdown",
   "metadata": {
    "id": "e92XHwEnYOiw"
   },
   "source": [
    "CV Scores for KNN"
   ]
  },
  {
   "cell_type": "code",
   "execution_count": 20,
   "metadata": {
    "colab": {
     "base_uri": "https://localhost:8080/"
    },
    "id": "V8AxuFo3YPex",
    "outputId": "8b304d53-d764-438d-9fdf-0e23af6a3ad4"
   },
   "outputs": [
    {
     "data": {
      "text/plain": [
       "array([1.8916902 , 1.96246531, 2.06411225, 3.64786982, 2.38535877])"
      ]
     },
     "execution_count": 20,
     "metadata": {},
     "output_type": "execute_result"
    }
   ],
   "source": [
    "knn_cv_scores_5"
   ]
  },
  {
   "cell_type": "code",
   "execution_count": 21,
   "metadata": {
    "colab": {
     "base_uri": "https://localhost:8080/"
    },
    "id": "M-VbCXMDMetU",
    "outputId": "2d5f1bf4-e540-48c7-c950-37876513c003"
   },
   "outputs": [
    {
     "name": "stdout",
     "output_type": "stream",
     "text": [
      "Mean absolut error on test: 2.727597159940209\n"
     ]
    }
   ],
   "source": [
    "# Evaluate model performance and store it\n",
    "result = evaluate_model(knn_model_5, X_test_window_size_5_classic_norm, y_test_window_size_5)\n",
    "performance_df = performance_df.append({'Model': 'K-Nearest Neighbor', \n",
    "                                        'MAE score (on test set)': round(result, 4)},\n",
    "                                       ignore_index=True)"
   ]
  },
  {
   "cell_type": "markdown",
   "metadata": {
    "id": "XjhRxGqjKyY6"
   },
   "source": [
    "# <b>3.Creating DL models</b>\n",
    "<b>In this part, we employed multiple DL methods. </b>\n"
   ]
  },
  {
   "cell_type": "markdown",
   "metadata": {
    "id": "AsxkQOUoK3Or"
   },
   "source": [
    "## <b>3.1.Mulit-Layer Perceptron</b>\n",
    "For the MLP, the architecture seemed to be rather irrelevant. Generally speaking, simpler architectures with less neurons seemed to work as well as more complex architectures with several hidden layers and/or a large number of neurons. In total, a few hundred neurons overall were enough. Dropout, LR Scheduling and Adam optimizer created the best results.  \n",
    "We also found that higher batch sizes decreased the MAE.  \n",
    "One interesting finding is that the performance on the validation set would not change after 2-3 epochs. Additionally, the performance on the test set was always better than the performance on the validation set."
   ]
  },
  {
   "cell_type": "code",
   "execution_count": 22,
   "metadata": {
    "id": "ISkNpOsHLHs8"
   },
   "outputs": [],
   "source": [
    "class Mlp:\n",
    "    \"\"\"\n",
    "    Creates a multilayer-perceptron model.\n",
    "    \"\"\"\n",
    "    def __init__(self, \n",
    "                 X_train: pd.DataFrame, \n",
    "                 X_valid: pd.DataFrame, \n",
    "                 X_test: pd.DataFrame, \n",
    "                 y_train: pd.DataFrame, \n",
    "                 y_valid: pd.DataFrame, \n",
    "                 y_test: pd.DataFrame, \n",
    "                 params: dict, \n",
    "                 layers: list, \n",
    "                 dropout: bool,\n",
    "                 schedulerthresh: int,\n",
    "                 optimizer,\n",
    "                 earlystopping: int\n",
    "                 ):\n",
    "        self.X_train = X_train\n",
    "        self.X_valid = X_valid\n",
    "        self.X_test = X_test\n",
    "        self.y_train = y_train\n",
    "        self.y_valid = y_valid\n",
    "        self.y_test = y_test\n",
    "        self.params = params\n",
    "        self.layers = layers\n",
    "        self.dropout = dropout\n",
    "        self.schedulerthresh = schedulerthresh\n",
    "        self.optimizer = optimizer\n",
    "        self.earlystopping = earlystopping\n",
    "        self.model = Sequential()\n",
    "\n",
    "    def compile_model(self):\n",
    "        be.clear_session()\n",
    "        self.model.add(Input(shape=(self.X_train.shape[1])))\n",
    "        for i in range(len(self.layers)):\n",
    "            self.model.add(Dense(self.layers[i], activation=\"relu\"))\n",
    "            if self.dropout:\n",
    "                self.model.add(Dropout(rate=self.dropout))\n",
    "        self.model.add(Dense(1, activation=\"linear\"))\n",
    "        optimizer = self.optimizer\n",
    "        self.model.compile(loss='mean_absolute_error', optimizer=optimizer)\n",
    "        return self.model\n",
    "        \n",
    "    def fit_model(self):\n",
    "        callbacks = []\n",
    "        if self.scheduler:\n",
    "            callbacks.append(LearningRateScheduler(self.scheduler))\n",
    "        if self.earlystopping:\n",
    "            callbacks.append(EarlyStopping(monitor='loss', patience=self.earlystopping))\n",
    "        history = self.model.fit(x=self.X_train,y=self.y_train, \n",
    "                                 batch_size=self.params[\"BATCH_SIZE\"], \n",
    "                                 validation_data=(self.X_valid,self.y_valid), \n",
    "                                 epochs=self.params[\"EPOCHS\"], \n",
    "                                 callbacks=callbacks, \n",
    "                                 verbose=1, \n",
    "                                 shuffle=False)\n",
    "        return history, self.model\n",
    "\n",
    "    def evaluate_model(self):\n",
    "        eval_score = self.model.evaluate(self.X_test, self.y_test.to_numpy())\n",
    "        return eval_score, self.model\n",
    "\n",
    "    def predict(self):\n",
    "        return self.model.predict(self.X_test)\n",
    "      \n",
    "    def go(self):\n",
    "        self.compile_model()\n",
    "        history, _ = self.fit_model()\n",
    "        eval_score, _ = self.evaluate_model()\n",
    "        predictions = self.predict()\n",
    "        return history, eval_score, predictions, self.model\n",
    "        \n",
    "    def scheduler(self, epoch, lr):\n",
    "        if self.schedulerthresh:\n",
    "            thresh = self.schedulerthresh\n",
    "        else:\n",
    "            thresh = 5\n",
    "        if epoch < thresh:\n",
    "            return lr\n",
    "        else:\n",
    "            return lr*exp(-0.1)\n"
   ]
  },
  {
   "cell_type": "markdown",
   "metadata": {
    "id": "T-j0UgAFYZ0E"
   },
   "source": [
    "### Creating best model for MLP"
   ]
  },
  {
   "cell_type": "code",
   "execution_count": 23,
   "metadata": {
    "colab": {
     "base_uri": "https://localhost:8080/"
    },
    "id": "wBuXPTtcYaiD",
    "outputId": "9dd8a1fa-2827-484b-90bb-64577be194de"
   },
   "outputs": [
    {
     "name": "stdout",
     "output_type": "stream",
     "text": [
      "Epoch 1/10\n",
      "45/45 [==============================] - 1s 10ms/step - loss: 444.4563 - val_loss: 2.5963\n",
      "Epoch 2/10\n",
      "45/45 [==============================] - 0s 5ms/step - loss: 4.1707 - val_loss: 2.5552\n",
      "Epoch 3/10\n",
      "45/45 [==============================] - 0s 5ms/step - loss: 2.6587 - val_loss: 2.5552\n",
      "Epoch 4/10\n",
      "45/45 [==============================] - 0s 5ms/step - loss: 2.4269 - val_loss: 2.5551\n",
      "Epoch 5/10\n",
      "45/45 [==============================] - 0s 5ms/step - loss: 2.2596 - val_loss: 2.5551\n",
      "Epoch 6/10\n",
      "45/45 [==============================] - 0s 5ms/step - loss: 2.1448 - val_loss: 2.5551\n",
      "Epoch 7/10\n",
      "45/45 [==============================] - 0s 5ms/step - loss: 2.0962 - val_loss: 2.5551\n",
      "Epoch 8/10\n",
      "45/45 [==============================] - 0s 5ms/step - loss: 2.0137 - val_loss: 2.5551\n",
      "Epoch 9/10\n",
      "45/45 [==============================] - 0s 5ms/step - loss: 1.9871 - val_loss: 2.5550\n",
      "Epoch 10/10\n",
      "45/45 [==============================] - 0s 5ms/step - loss: 1.9593 - val_loss: 2.5551\n",
      "335/335 [==============================] - 1s 2ms/step - loss: 2.2550\n"
     ]
    }
   ],
   "source": [
    "params = {\n",
    "    \"BATCH_SIZE\": 2048, \n",
    "    \"EPOCHS\": 10, \n",
    "    \"LEARNING_RATE\": 0.0005}\n",
    "layers = [300, 100]\n",
    "dropout = 0.25\n",
    "scheduler = 5\n",
    "optimizer = Adam(learning_rate=0.0005)\n",
    "earlystopping = 3\n",
    "\n",
    "mlp_5 = Mlp(\n",
    "    X_train_window_size_5,\n",
    "    X_valid_window_size_5,\n",
    "    X_test_window_size_5,\n",
    "    y_train_window_size_5,\n",
    "    y_valid_window_size_5,\n",
    "    y_test_window_size_5,\n",
    "    params,\n",
    "    layers,\n",
    "    dropout,\n",
    "    scheduler,\n",
    "    optimizer,\n",
    "    earlystopping\n",
    ")\n",
    "\n",
    "# Fit the model\n",
    "mlp_history_5, mlp_eval_score_5, mlp_predictions_5, mlp_model_5 = mlp_5.go()"
   ]
  },
  {
   "cell_type": "code",
   "execution_count": 24,
   "metadata": {
    "colab": {
     "base_uri": "https://localhost:8080/",
     "height": 295
    },
    "id": "ip9t5h2mYjU-",
    "outputId": "c04948ea-e625-4bf9-b166-ec269aa38731"
   },
   "outputs": [
    {
     "data": {
      "image/png": "[encoded data removed]",
      "text/plain": [
       "<Figure size 432x288 with 1 Axes>"
      ]
     },
     "metadata": {
      "needs_background": "light"
     },
     "output_type": "display_data"
    }
   ],
   "source": [
    "loss_values = mlp_history_5.history['loss']\n",
    "val_loss_values = mlp_history_5.history['val_loss']\n",
    "epochs = range(1, len(loss_values)+1)\n",
    "\n",
    "plt.plot(epochs, loss_values, label='Training Loss')\n",
    "plt.plot(epochs, val_loss_values, label='Validation Loss')\n",
    "\n",
    "plt.title(\"Compiling history of MLP model\")\n",
    "plt.xlabel('Epochs')\n",
    "plt.ylabel('Loss')\n",
    "plt.legend()\n",
    "\n",
    "plt.show()"
   ]
  },
  {
   "cell_type": "markdown",
   "metadata": {
    "id": "v4ENdvgzYcpd"
   },
   "source": [
    "Evaluation Score of MLP"
   ]
  },
  {
   "cell_type": "code",
   "execution_count": 25,
   "metadata": {
    "colab": {
     "base_uri": "https://localhost:8080/"
    },
    "id": "cXFYaw51Ydo8",
    "outputId": "1932ec9f-6e84-4e60-dff7-37a27406e1f3"
   },
   "outputs": [
    {
     "name": "stdout",
     "output_type": "stream",
     "text": [
      "Mean absolut error on test: 2.255030870437622\n"
     ]
    }
   ],
   "source": [
    "print(f\"Mean absolut error on test: {mlp_eval_score_5}\")\n",
    "performance_df = performance_df.append({'Model': 'Mulit-Layer Perceptron', \n",
    "                                        'MAE score (on test set)': round(mlp_eval_score_5, 4)},\n",
    "                                       ignore_index=True)"
   ]
  },
  {
   "cell_type": "markdown",
   "metadata": {
    "id": "r8uTHXoaK9aK"
   },
   "source": [
    "## <b>3.2.Load 3D data for Recurrent Neural Networks</b>"
   ]
  },
  {
   "cell_type": "code",
   "execution_count": 26,
   "metadata": {
    "id": "EZfZkUsKY1aJ"
   },
   "outputs": [],
   "source": [
    "# Write code to load the pickles\n",
    "pkl_file = open(\"X_train_unflatten_all_5\", 'rb')\n",
    "X_train_unflatten_all_5 = pickle.load(pkl_file)\n",
    "\n",
    "pkl_file = open(\"X_valid_unflatten_all_5\", 'rb')\n",
    "X_valid_unflatten_all_5 = pickle.load(pkl_file)\n",
    "\n",
    "pkl_file = open(\"X_test_unflatten_all_5\", 'rb')\n",
    "X_test_unflatten_all_5 = pickle.load(pkl_file)"
   ]
  },
  {
   "cell_type": "markdown",
   "metadata": {
    "id": "2Fc9q7et3Bo-"
   },
   "source": [
    "## <b>3.3.Convolutional Neural Network</b>\n",
    "- **Intro**:\n",
    "\n",
    "   A Convolutional Neural Network model involves multiple filters that can be used to capture complex patterns in the datasets. One of its distinct features is its parameter sharing, which can greatly increase its efficiency.\n",
    "\n",
    "- **Input data**:\n",
    "\n",
    "    The input data of the model has been normalized and rolled into a form of 3D data.\n",
    "    \n",
    "    > Training dataset: `X_train_unflatten_all_5` and `y_train_window_size_5`\\\n",
    "    > Validation dataset: `X_valid_unflatten_all_5` and `y_valid_window_size_5`\\\n",
    "    > Testing dataset: `X_test_unflatten_all_5` and `y_test_window_size_5`\n",
    "    \n",
    "- **Architecture**:\n",
    "\n",
    "    When increasing the complexity of the model (whether by increasing the number of hidden layers or the number of hidden cells), its performance doesn't seem to change. With various experiments, we have arrived at a relatively simple structure that yields similar results to its more complicated alternatives: 2 pairs of Convolutional layers and Max Pooling layers, followed by 2 pairs of fully connected layers and dropout layers."
   ]
  },
  {
   "cell_type": "code",
   "execution_count": 27,
   "metadata": {
    "id": "4ECBzg9j3Bo-"
   },
   "outputs": [],
   "source": [
    "n_hidden_layers = 2\n",
    "hidden_layer_size = 40\n",
    "dropout_rate = 0\n",
    "\n",
    "BATCH_SIZE = 100\n",
    "EPOCHS = 20"
   ]
  },
  {
   "cell_type": "code",
   "execution_count": 28,
   "metadata": {
    "colab": {
     "base_uri": "https://localhost:8080/"
    },
    "id": "UcpbVehM3Bo-",
    "outputId": "c710662e-5cb0-457a-f322-430e55d3f12c"
   },
   "outputs": [
    {
     "name": "stdout",
     "output_type": "stream",
     "text": [
      "Model: \"model\"\n",
      "_________________________________________________________________\n",
      "Layer (type)                 Output Shape              Param #   \n",
      "=================================================================\n",
      "input_1 (InputLayer)         [(None, 4, 22)]           0         \n",
      "_________________________________________________________________\n",
      "conv1d (Conv1D)              (None, 4, 5)              225       \n",
      "_________________________________________________________________\n",
      "max_pooling1d (MaxPooling1D) (None, 3, 5)              0         \n",
      "_________________________________________________________________\n",
      "conv1d_1 (Conv1D)            (None, 3, 5)              55        \n",
      "_________________________________________________________________\n",
      "max_pooling1d_1 (MaxPooling1 (None, 2, 5)              0         \n",
      "_________________________________________________________________\n",
      "dense (Dense)                (None, 2, 100)            600       \n",
      "_________________________________________________________________\n",
      "dropout (Dropout)            (None, 2, 100)            0         \n",
      "_________________________________________________________________\n",
      "dense_1 (Dense)              (None, 2, 100)            10100     \n",
      "_________________________________________________________________\n",
      "dropout_1 (Dropout)          (None, 2, 100)            0         \n",
      "_________________________________________________________________\n",
      "dense_2 (Dense)              (None, 2, 1)              101       \n",
      "=================================================================\n",
      "Total params: 11,081\n",
      "Trainable params: 11,081\n",
      "Non-trainable params: 0\n",
      "_________________________________________________________________\n"
     ]
    }
   ],
   "source": [
    "tf.compat.v1.reset_default_graph()\n",
    "be.clear_session()\n",
    "\n",
    "# Define regularizer and initializer\n",
    "regularizer = tf.keras.regularizers.L2(2.)\n",
    "initializer = tf.keras.initializers.RandomUniform()\n",
    "\n",
    "input_shape = np.shape(X_train_unflatten_all_5)\n",
    "column_count = input_shape[2]\n",
    "\n",
    "input_layer=Input(shape=(input_shape[1], column_count))\n",
    "cur_last_layer = input_layer\n",
    "\n",
    "for l in range(n_hidden_layers):\n",
    "    cnn_layer=Conv1D(filters=5, kernel_size=2, \n",
    "                     input_shape=input_shape[1:],\n",
    "                     padding='same',\n",
    "                     kernel_initializer=initializer,\n",
    "                     kernel_regularizer=regularizer)(cur_last_layer)\n",
    "    pool = MaxPool1D(pool_size=2, strides=1)(cnn_layer)\n",
    "    cur_last_layer=pool\n",
    "\n",
    "for l in range(n_hidden_layers):\n",
    "    dense = Dense(100, activation='tanh')(cur_last_layer)\n",
    "    dropout_layer = Dropout(dropout_rate)(dense)\n",
    "    cur_last_layer=dropout_layer\n",
    "\n",
    "predictions=Dense(1)(cur_last_layer)\n",
    "\n",
    "cnn_model=Model(inputs=input_layer, outputs=predictions)\n",
    "cnn_model.summary()"
   ]
  },
  {
   "cell_type": "code",
   "execution_count": 29,
   "metadata": {
    "colab": {
     "base_uri": "https://localhost:8080/"
    },
    "id": "AD256EDmLPOq",
    "outputId": "714440a0-eb5f-4e22-d8a5-3ec795448ab7"
   },
   "outputs": [
    {
     "name": "stdout",
     "output_type": "stream",
     "text": [
      "Epoch 1/20\n",
      "916/916 [==============================] - 7s 6ms/step - loss: 1.7768 - val_loss: 2.5552\n",
      "Epoch 2/20\n",
      "916/916 [==============================] - 5s 5ms/step - loss: 1.7710 - val_loss: 2.5555\n",
      "Epoch 3/20\n",
      "916/916 [==============================] - 5s 6ms/step - loss: 1.7709 - val_loss: 2.5551\n",
      "Epoch 4/20\n",
      "916/916 [==============================] - 5s 6ms/step - loss: 1.7709 - val_loss: 2.5552\n",
      "Epoch 5/20\n",
      "916/916 [==============================] - 5s 6ms/step - loss: 1.7709 - val_loss: 2.5552\n",
      "Epoch 6/20\n",
      "916/916 [==============================] - 5s 6ms/step - loss: 1.7708 - val_loss: 2.5551\n",
      "Epoch 7/20\n",
      "916/916 [==============================] - 5s 6ms/step - loss: 1.7709 - val_loss: 2.5552\n",
      "Epoch 8/20\n",
      "916/916 [==============================] - 5s 6ms/step - loss: 1.7709 - val_loss: 2.5551\n",
      "Epoch 9/20\n",
      "916/916 [==============================] - 5s 6ms/step - loss: 1.7708 - val_loss: 2.5551\n",
      "Epoch 10/20\n",
      "916/916 [==============================] - 5s 6ms/step - loss: 1.7708 - val_loss: 2.5551\n",
      "Epoch 11/20\n",
      "916/916 [==============================] - 5s 6ms/step - loss: 1.7709 - val_loss: 2.5553\n",
      "Epoch 12/20\n",
      "916/916 [==============================] - 5s 6ms/step - loss: 1.7709 - val_loss: 2.5551\n",
      "Epoch 13/20\n",
      "916/916 [==============================] - 5s 6ms/step - loss: 1.7708 - val_loss: 2.5551\n",
      "Epoch 14/20\n",
      "916/916 [==============================] - 5s 6ms/step - loss: 1.7709 - val_loss: 2.5552\n",
      "Epoch 15/20\n",
      "916/916 [==============================] - 5s 6ms/step - loss: 1.7709 - val_loss: 2.5552\n",
      "Epoch 16/20\n",
      "916/916 [==============================] - 5s 6ms/step - loss: 1.7708 - val_loss: 2.5552\n",
      "Epoch 17/20\n",
      "916/916 [==============================] - 5s 5ms/step - loss: 1.7709 - val_loss: 2.5552\n",
      "Epoch 18/20\n",
      "916/916 [==============================] - 5s 6ms/step - loss: 1.7709 - val_loss: 2.5552\n",
      "Epoch 19/20\n",
      "916/916 [==============================] - 5s 5ms/step - loss: 1.7708 - val_loss: 2.5551\n",
      "Epoch 20/20\n",
      "916/916 [==============================] - 5s 5ms/step - loss: 1.7709 - val_loss: 2.5551\n"
     ]
    }
   ],
   "source": [
    "optimizer = Adam(learning_rate=0.0018)\n",
    "\n",
    "cnn_model.compile(loss='mean_absolute_error', optimizer=optimizer)\n",
    "\n",
    "cnn_history = cnn_model.fit(X_train_unflatten_all_5, y_train_window_size_5,\n",
    "                            validation_data=(X_valid_unflatten_all_5, y_valid_window_size_5),\n",
    "                            epochs=EPOCHS,\n",
    "                            batch_size=BATCH_SIZE)"
   ]
  },
  {
   "cell_type": "code",
   "execution_count": 30,
   "metadata": {
    "colab": {
     "base_uri": "https://localhost:8080/",
     "height": 295
    },
    "id": "OuEgtB5rLhzE",
    "outputId": "1874faef-aa71-4cc0-dd24-616e5599fd58"
   },
   "outputs": [
    {
     "data": {
      "image/png": "[encoded data removed]",
      "text/plain": [
       "<Figure size 432x288 with 1 Axes>"
      ]
     },
     "metadata": {
      "needs_background": "light"
     },
     "output_type": "display_data"
    }
   ],
   "source": [
    "loss_values = cnn_history.history['loss']\n",
    "val_loss_values = cnn_history.history['val_loss']\n",
    "epochs = range(1, len(loss_values)+1)\n",
    "\n",
    "plt.plot(epochs, loss_values, label='Training Loss')\n",
    "plt.plot(epochs, val_loss_values, label='Validation Loss')\n",
    "\n",
    "plt.title(\"Compiling history of CNN model\")\n",
    "plt.xlabel('Epochs')\n",
    "plt.ylabel('Loss')\n",
    "plt.legend()\n",
    "\n",
    "plt.show()"
   ]
  },
  {
   "cell_type": "code",
   "execution_count": 31,
   "metadata": {
    "colab": {
     "base_uri": "https://localhost:8080/"
    },
    "id": "DOCNIs7D3Bo-",
    "outputId": "d63f71d9-d5a7-4c64-b005-42563acf22a7"
   },
   "outputs": [
    {
     "name": "stdout",
     "output_type": "stream",
     "text": [
      "Mean absolut error on test: 2.2551434792128005\n"
     ]
    }
   ],
   "source": [
    "result = evaluate_3Dmodel(cnn_model, X_test_unflatten_all_5, y_test_window_size_5)\n",
    "performance_df = performance_df.append({'Model': 'CNN', \n",
    "                                        'MAE score (on test set)': round(result, 4)},\n",
    "                                       ignore_index=True)"
   ]
  },
  {
   "cell_type": "markdown",
   "metadata": {
    "id": "rVTqYWP23Bo-"
   },
   "source": [
    "- **Brief summary**:\n",
    "\n",
    "    > As shown in the cell above, the performance of the CNN on the test dataset is 2.255 in terms of MAE.\n",
    "    \n",
    "    ___Limitations___: \n",
    "    \n",
    "    Generally, it is more common to use CNN in image related problems, therefore, it's not surprising that the model cannot achieve high performance here. Moreover, considering the dimensionality of the data fed into the neural network (with a window size of 5 and therefore 4 \"time steps\"), the size of kernel that can be used is rather limited."
   ]
  },
  {
   "cell_type": "markdown",
   "metadata": {
    "id": "wId3Iw9FLR5F"
   },
   "source": [
    "## <b>3.4.Recurrent Neural Network</b>"
   ]
  },
  {
   "cell_type": "markdown",
   "metadata": {
    "id": "87a_H89E3Bo_"
   },
   "source": [
    "### LSTM: Long- Short-Term Memory\n",
    "\n",
    "- **Intro**:\n",
    "\n",
    "   A Long- Short-Term Memory model is a type of Recurrent Neural Network that is often used for sequence data such as in time-series and NLP problems. By introducing an additional vector, i.e., the cell state, the model is able to store important information of the past that is helpful for the prediction of the current state (or forget useless information when needed). Since the task we have involve time series data, LSTM seems to be a natural candidate for achieving high performance.\n",
    "\n",
    "- **Input data**:\n",
    "\n",
    "    The input data of the model has been normalized and rolled into a form of 3D data.\n",
    "    \n",
    "    > Training dataset: `X_train_unflatten_all_5` and `y_train_window_size_5`\\\n",
    "    > Validation dataset: `X_valid_unflatten_all_5` and `y_valid_window_size_5`\\\n",
    "    > Testing dataset: `X_test_unflatten_all_5` and `y_test_window_size_5`\n",
    "    \n",
    "- **Architecture**:\n",
    "\n",
    "    When increasing the complexity of the model (whether by increasing the number of hidden layers or the number of hidden cells), its performance doesn't seem to change. Below is one of the structures that yields similar results to its alternatives, with 3 pairs of LSTM layers and dropout layers followed by 3 pairs of fully connected layers and dropout layers."
   ]
  },
  {
   "cell_type": "code",
   "execution_count": 32,
   "metadata": {
    "id": "m77mxYiI3Bo_"
   },
   "outputs": [],
   "source": [
    "n_hidden_layers = 3\n",
    "hidden_layer_size = 300\n",
    "dropout_rate = 0.25\n",
    "\n",
    "BATCH_SIZE = 500\n",
    "EPOCHS = 20"
   ]
  },
  {
   "cell_type": "code",
   "execution_count": 33,
   "metadata": {
    "colab": {
     "base_uri": "https://localhost:8080/"
    },
    "id": "etp0Ev4v3Bo_",
    "outputId": "72f94604-f35d-4bae-9f4f-6c4da25a35bf"
   },
   "outputs": [
    {
     "name": "stdout",
     "output_type": "stream",
     "text": [
      "Model: \"model\"\n",
      "_________________________________________________________________\n",
      "Layer (type)                 Output Shape              Param #   \n",
      "=================================================================\n",
      "input_1 (InputLayer)         [(None, 4, 22)]           0         \n",
      "_________________________________________________________________\n",
      "lstm (LSTM)                  (None, 4, 300)            387600    \n",
      "_________________________________________________________________\n",
      "dropout (Dropout)            (None, 4, 300)            0         \n",
      "_________________________________________________________________\n",
      "lstm_1 (LSTM)                (None, 4, 300)            721200    \n",
      "_________________________________________________________________\n",
      "dropout_1 (Dropout)          (None, 4, 300)            0         \n",
      "_________________________________________________________________\n",
      "lstm_2 (LSTM)                (None, 4, 300)            721200    \n",
      "_________________________________________________________________\n",
      "dropout_2 (Dropout)          (None, 4, 300)            0         \n",
      "_________________________________________________________________\n",
      "dense (Dense)                (None, 4, 100)            30100     \n",
      "_________________________________________________________________\n",
      "dropout_3 (Dropout)          (None, 4, 100)            0         \n",
      "_________________________________________________________________\n",
      "dense_1 (Dense)              (None, 4, 100)            10100     \n",
      "_________________________________________________________________\n",
      "dropout_4 (Dropout)          (None, 4, 100)            0         \n",
      "_________________________________________________________________\n",
      "dense_2 (Dense)              (None, 4, 100)            10100     \n",
      "_________________________________________________________________\n",
      "dropout_5 (Dropout)          (None, 4, 100)            0         \n",
      "_________________________________________________________________\n",
      "dense_3 (Dense)              (None, 4, 1)              101       \n",
      "=================================================================\n",
      "Total params: 1,880,401\n",
      "Trainable params: 1,880,401\n",
      "Non-trainable params: 0\n",
      "_________________________________________________________________\n"
     ]
    }
   ],
   "source": [
    "tf.compat.v1.reset_default_graph()\n",
    "be.clear_session()\n",
    "\n",
    "input_shape[2]\n",
    "column_count = np.shape(X_train_unflatten_all_5)[2]\n",
    "\n",
    "input_layer=Input(shape=(np.shape(X_train_unflatten_all_5)[1], column_count))\n",
    "cur_last_layer=input_layer\n",
    "\n",
    "for l in range(n_hidden_layers):\n",
    "    hidden_layer=LSTM(hidden_layer_size, return_sequences=True)(cur_last_layer)\n",
    "    dropout_layer = Dropout(0.5)(hidden_layer)\n",
    "    cur_last_layer=dropout_layer\n",
    "\n",
    "for l in range(n_hidden_layers):\n",
    "    dense = Dense(100, activation='tanh')(cur_last_layer)\n",
    "    dropout_layer = Dropout(dropout_rate)(dense)\n",
    "    cur_last_layer=dropout_layer\n",
    "\n",
    "predictions=Dense(1)(cur_last_layer)\n",
    "\n",
    "lstm_model=Model(inputs=input_layer, outputs=predictions)\n",
    "lstm_model.summary()"
   ]
  },
  {
   "cell_type": "code",
   "execution_count": 34,
   "metadata": {
    "colab": {
     "base_uri": "https://localhost:8080/"
    },
    "id": "AB96ZXTj3Bo_",
    "outputId": "32548e8d-d21e-434f-edce-48a59c21c1fd"
   },
   "outputs": [
    {
     "name": "stdout",
     "output_type": "stream",
     "text": [
      "Epoch 1/20\n",
      "184/184 [==============================] - 14s 43ms/step - loss: 1.8985 - val_loss: 2.5980\n",
      "Epoch 2/20\n",
      "184/184 [==============================] - 6s 34ms/step - loss: 1.7726 - val_loss: 2.5587\n",
      "Epoch 3/20\n",
      "184/184 [==============================] - 6s 33ms/step - loss: 1.7719 - val_loss: 2.5555\n",
      "Epoch 4/20\n",
      "184/184 [==============================] - 6s 33ms/step - loss: 1.7715 - val_loss: 2.5598\n",
      "Epoch 5/20\n",
      "184/184 [==============================] - 6s 34ms/step - loss: 1.7715 - val_loss: 2.5561\n",
      "Epoch 6/20\n",
      "184/184 [==============================] - 6s 34ms/step - loss: 1.7715 - val_loss: 2.5558\n",
      "Epoch 7/20\n",
      "184/184 [==============================] - 6s 34ms/step - loss: 1.7714 - val_loss: 2.5561\n",
      "Epoch 8/20\n",
      "184/184 [==============================] - 6s 34ms/step - loss: 1.7714 - val_loss: 2.5614\n",
      "Epoch 9/20\n",
      "184/184 [==============================] - 6s 34ms/step - loss: 1.7714 - val_loss: 2.5576\n",
      "Epoch 10/20\n",
      "184/184 [==============================] - 6s 34ms/step - loss: 1.7714 - val_loss: 2.5552\n",
      "Epoch 11/20\n",
      "184/184 [==============================] - 6s 34ms/step - loss: 1.7714 - val_loss: 2.5591\n",
      "Epoch 12/20\n",
      "184/184 [==============================] - 6s 34ms/step - loss: 1.7715 - val_loss: 2.5551\n",
      "Epoch 13/20\n",
      "184/184 [==============================] - 6s 34ms/step - loss: 1.7713 - val_loss: 2.5557\n",
      "Epoch 14/20\n",
      "184/184 [==============================] - 6s 34ms/step - loss: 1.7714 - val_loss: 2.5560\n",
      "Epoch 15/20\n",
      "184/184 [==============================] - 6s 34ms/step - loss: 1.7714 - val_loss: 2.5830\n",
      "Epoch 16/20\n",
      "184/184 [==============================] - 6s 34ms/step - loss: 1.7716 - val_loss: 2.5555\n",
      "Epoch 17/20\n",
      "184/184 [==============================] - 6s 34ms/step - loss: 1.7714 - val_loss: 2.5563\n",
      "Epoch 18/20\n",
      "184/184 [==============================] - 6s 34ms/step - loss: 1.7714 - val_loss: 2.5560\n",
      "Epoch 19/20\n",
      "184/184 [==============================] - 6s 35ms/step - loss: 1.7714 - val_loss: 2.5556\n",
      "Epoch 20/20\n",
      "184/184 [==============================] - 6s 35ms/step - loss: 1.7714 - val_loss: 2.5570\n"
     ]
    }
   ],
   "source": [
    "optimizer = RMSprop(learning_rate=0.005)\n",
    "lstm_model.compile(loss='mean_absolute_error', optimizer=optimizer)\n",
    "\n",
    "lstm_history = lstm_model.fit(X_train_unflatten_all_5, y_train_window_size_5,\n",
    "                              validation_data=(X_valid_unflatten_all_5, y_valid_window_size_5),\n",
    "                              epochs=EPOCHS,\n",
    "                              batch_size=BATCH_SIZE)"
   ]
  },
  {
   "cell_type": "code",
   "execution_count": 35,
   "metadata": {
    "colab": {
     "base_uri": "https://localhost:8080/",
     "height": 295
    },
    "id": "xEwdAqq83Bo_",
    "outputId": "83059df8-aeb9-4704-d0f2-07ba9d40af92"
   },
   "outputs": [
    {
     "data": {
      "image/png": "[encoded data removed]",
      "text/plain": [
       "<Figure size 432x288 with 1 Axes>"
      ]
     },
     "metadata": {
      "needs_background": "light"
     },
     "output_type": "display_data"
    }
   ],
   "source": [
    "loss_values = lstm_history.history['loss']\n",
    "val_loss_values = lstm_history.history['val_loss']\n",
    "epochs = range(1, len(loss_values)+1)\n",
    "\n",
    "plt.plot(epochs, loss_values, label='Training Loss')\n",
    "plt.plot(epochs, val_loss_values, label='Validation Loss')\n",
    "\n",
    "plt.title(\"Compiling history of LSTM model\")\n",
    "plt.xlabel('Epochs')\n",
    "plt.ylabel('Loss')\n",
    "plt.legend()\n",
    "\n",
    "plt.show()"
   ]
  },
  {
   "cell_type": "code",
   "execution_count": 36,
   "metadata": {
    "colab": {
     "base_uri": "https://localhost:8080/"
    },
    "id": "YxnEx9Wb3Bo_",
    "outputId": "f850476f-cd64-47d0-9892-88d33d0322f4"
   },
   "outputs": [
    {
     "name": "stdout",
     "output_type": "stream",
     "text": [
      "Mean absolut error on test: 2.257000840374178\n"
     ]
    }
   ],
   "source": [
    "result = evaluate_3Dmodel(lstm_model, X_test_unflatten_all_5, y_test_window_size_5)\n",
    "performance_df = performance_df.append({'Model': 'LSTM', \n",
    "                                        'MAE score (on test set)': round(result, 4)},\n",
    "                                       ignore_index=True)"
   ]
  },
  {
   "cell_type": "markdown",
   "metadata": {
    "id": "vqlK2cbw3Bo_"
   },
   "source": [
    "- **Brief summary**:\n",
    "\n",
    "    > As shown in the cell above, the LSTM model's performance on the test dataset is 2.264 in terms of MAE.\n",
    "    \n",
    "    ___Limitations___: \n",
    "    \n",
    "    While the structure of LSTM, especially the introduction of the cell state, allows it to process sequence data better, again, as mentioned above, due to the limitation caused by dimensionality of the input data (with a window size of 5 and therefore 4 \"time steps\"), the maximum context information that the neural network can store in the cell state is restricted, which is possibly the reason why the network fails to learn much additional information and predict better compared to other models shown above."
   ]
  },
  {
   "cell_type": "markdown",
   "metadata": {
    "id": "9wb_A92G3BpA"
   },
   "source": [
    "### Gated Recurrent Unit\n",
    "\n",
    "- **Intro**:\n",
    "\n",
    "   A Gated Recurrent Unit model is another type of Recurrent Neural Network. Compared to LSTM, a GRU neural network has fewer gates and parameters and therefore is more efficient to train.\n",
    "\n",
    "- **Input data**:\n",
    "\n",
    "    The input data of the model has been normalized and rolled into a form of 3D data.\n",
    "    \n",
    "    > Training dataset: `X_train_unflatten_all_5` and `y_train_window_size_5`\\\n",
    "    > Validation dataset: `X_valid_unflatten_all_5` and `y_valid_window_size_5`\\\n",
    "    > Testing dataset: `X_test_unflatten_all_5` and `y_test_window_size_5`\n",
    "    \n",
    "- **Architecture**:\n",
    "\n",
    "    When increasing the complexity of the model (whether by increasing the number of hidden layers or the number of hidden cells), its performance doesn't seem to change. Below is one of the structures that yields similar results to its alternatives, with 2 GRU layers followed by 2 pairs of fully connected layers and dropout layers."
   ]
  },
  {
   "cell_type": "code",
   "execution_count": 37,
   "metadata": {
    "id": "OHpHUPfB3BpA"
   },
   "outputs": [],
   "source": [
    "n_hidden_layers = 2\n",
    "hidden_layer_size = 200\n",
    "dropout_rate = 0.5\n",
    "\n",
    "BATCH_SIZE = 300\n",
    "EPOCHS = 20"
   ]
  },
  {
   "cell_type": "code",
   "execution_count": 38,
   "metadata": {
    "colab": {
     "base_uri": "https://localhost:8080/"
    },
    "id": "uvKy-7z13BpA",
    "outputId": "4c0bf206-2e98-4d66-b3dd-708628c50b40"
   },
   "outputs": [
    {
     "name": "stdout",
     "output_type": "stream",
     "text": [
      "Model: \"model\"\n",
      "_________________________________________________________________\n",
      "Layer (type)                 Output Shape              Param #   \n",
      "=================================================================\n",
      "input_1 (InputLayer)         [(None, 4, 22)]           0         \n",
      "_________________________________________________________________\n",
      "gru (GRU)                    (None, 4, 200)            134400    \n",
      "_________________________________________________________________\n",
      "gru_1 (GRU)                  (None, 4, 200)            241200    \n",
      "_________________________________________________________________\n",
      "dense (Dense)                (None, 4, 100)            20100     \n",
      "_________________________________________________________________\n",
      "dropout (Dropout)            (None, 4, 100)            0         \n",
      "_________________________________________________________________\n",
      "dense_1 (Dense)              (None, 4, 100)            10100     \n",
      "_________________________________________________________________\n",
      "dropout_1 (Dropout)          (None, 4, 100)            0         \n",
      "_________________________________________________________________\n",
      "dense_2 (Dense)              (None, 4, 1)              101       \n",
      "=================================================================\n",
      "Total params: 405,901\n",
      "Trainable params: 405,901\n",
      "Non-trainable params: 0\n",
      "_________________________________________________________________\n"
     ]
    }
   ],
   "source": [
    "tf.compat.v1.reset_default_graph()\n",
    "be.clear_session()\n",
    "\n",
    "column_count = np.shape(X_train_unflatten_all_5)[2]\n",
    "\n",
    "input_layer=Input(shape=(np.shape(X_train_unflatten_all_5)[1], column_count))\n",
    "cur_last_layer=input_layer\n",
    "\n",
    "for l in range(n_hidden_layers):\n",
    "    hidden_layer=GRU(hidden_layer_size, return_sequences=True)(cur_last_layer)\n",
    "    cur_last_layer=hidden_layer\n",
    "\n",
    "for l in range(n_hidden_layers):\n",
    "    dense = Dense(100, activation='sigmoid')(cur_last_layer)\n",
    "    dropout_layer = Dropout(dropout_rate)(dense)\n",
    "    cur_last_layer=dropout_layer\n",
    "predictions=Dense(1)(cur_last_layer)\n",
    "\n",
    "gru_model=Model(inputs=input_layer, outputs=predictions)\n",
    "gru_model.summary()"
   ]
  },
  {
   "cell_type": "code",
   "execution_count": 39,
   "metadata": {
    "colab": {
     "base_uri": "https://localhost:8080/"
    },
    "id": "s3LIkBOg3BpA",
    "outputId": "4eacea04-2332-44fc-d09d-725d7718a431"
   },
   "outputs": [
    {
     "name": "stdout",
     "output_type": "stream",
     "text": [
      "Epoch 1/20\n",
      "306/306 [==============================] - 10s 21ms/step - loss: 1.7916 - val_loss: 2.5552\n",
      "Epoch 2/20\n",
      "306/306 [==============================] - 5s 18ms/step - loss: 1.7709 - val_loss: 2.5553\n",
      "Epoch 3/20\n",
      "306/306 [==============================] - 5s 18ms/step - loss: 1.7709 - val_loss: 2.5552\n",
      "Epoch 4/20\n",
      "306/306 [==============================] - 5s 18ms/step - loss: 1.7709 - val_loss: 2.5552\n",
      "Epoch 5/20\n",
      "306/306 [==============================] - 5s 18ms/step - loss: 1.7709 - val_loss: 2.5553\n",
      "Epoch 6/20\n",
      "306/306 [==============================] - 5s 18ms/step - loss: 1.7709 - val_loss: 2.5553\n",
      "Epoch 7/20\n",
      "306/306 [==============================] - 5s 18ms/step - loss: 1.7709 - val_loss: 2.5552\n",
      "Epoch 8/20\n",
      "306/306 [==============================] - 5s 18ms/step - loss: 1.7709 - val_loss: 2.5551\n",
      "Epoch 9/20\n",
      "306/306 [==============================] - 5s 18ms/step - loss: 1.7709 - val_loss: 2.5552\n",
      "Epoch 10/20\n",
      "306/306 [==============================] - 5s 18ms/step - loss: 1.7709 - val_loss: 2.5555\n",
      "Epoch 11/20\n",
      "306/306 [==============================] - 5s 18ms/step - loss: 1.7709 - val_loss: 2.5554\n",
      "Epoch 12/20\n",
      "306/306 [==============================] - 5s 18ms/step - loss: 1.7709 - val_loss: 2.5554\n",
      "Epoch 13/20\n",
      "306/306 [==============================] - 5s 18ms/step - loss: 1.7709 - val_loss: 2.5553\n",
      "Epoch 14/20\n",
      "306/306 [==============================] - 5s 18ms/step - loss: 1.7709 - val_loss: 2.5553\n",
      "Epoch 15/20\n",
      "306/306 [==============================] - 5s 18ms/step - loss: 1.7709 - val_loss: 2.5552\n",
      "Epoch 16/20\n",
      "306/306 [==============================] - 5s 18ms/step - loss: 1.7709 - val_loss: 2.5552\n",
      "Epoch 17/20\n",
      "306/306 [==============================] - 5s 18ms/step - loss: 1.7709 - val_loss: 2.5554\n",
      "Epoch 18/20\n",
      "306/306 [==============================] - 5s 18ms/step - loss: 1.7709 - val_loss: 2.5553\n",
      "Epoch 19/20\n",
      "306/306 [==============================] - 5s 18ms/step - loss: 1.7709 - val_loss: 2.5553\n",
      "Epoch 20/20\n",
      "306/306 [==============================] - 5s 18ms/step - loss: 1.7709 - val_loss: 2.5552\n"
     ]
    }
   ],
   "source": [
    "optimizer = RMSprop(learning_rate=0.0015)\n",
    "gru_model.compile(loss='mean_absolute_error', optimizer=optimizer)\n",
    "\n",
    "gru_history = gru_model.fit(X_train_unflatten_all_5, y_train_window_size_5,\n",
    "                              validation_data=(X_valid_unflatten_all_5, y_valid_window_size_5),\n",
    "                              epochs=EPOCHS,\n",
    "                              batch_size=BATCH_SIZE)"
   ]
  },
  {
   "cell_type": "code",
   "execution_count": 40,
   "metadata": {
    "colab": {
     "base_uri": "https://localhost:8080/",
     "height": 295
    },
    "id": "78NdIh6S3BpA",
    "outputId": "265b4bde-fb8b-4dfd-d784-b60a85942ec5"
   },
   "outputs": [
    {
     "data": {
      "image/png": "[encoded data removed]",
      "text/plain": [
       "<Figure size 432x288 with 1 Axes>"
      ]
     },
     "metadata": {
      "needs_background": "light"
     },
     "output_type": "display_data"
    }
   ],
   "source": [
    "loss_values = gru_history.history['loss']\n",
    "val_loss_values = gru_history.history['val_loss']\n",
    "epochs = range(1, len(loss_values)+1)\n",
    "\n",
    "plt.plot(epochs, loss_values, label='Training Loss')\n",
    "plt.plot(epochs, val_loss_values, label='Validation Loss')\n",
    "\n",
    "plt.title('Compiling history of GRU model')\n",
    "plt.xlabel('Epochs')\n",
    "plt.ylabel('Loss')\n",
    "plt.legend()\n",
    "\n",
    "plt.show()"
   ]
  },
  {
   "cell_type": "code",
   "execution_count": 41,
   "metadata": {
    "colab": {
     "base_uri": "https://localhost:8080/"
    },
    "id": "A-ic7Zfp3BpA",
    "outputId": "5e4fa767-a63c-4a2f-8d80-50b5349f435f"
   },
   "outputs": [
    {
     "name": "stdout",
     "output_type": "stream",
     "text": [
      "Mean absolut error on test: 2.2552508627814194\n"
     ]
    }
   ],
   "source": [
    "result = evaluate_3Dmodel(gru_model, X_test_unflatten_all_5, y_test_window_size_5)\n",
    "performance_df = performance_df.append({'Model': 'GRU', \n",
    "                                        'MAE score (on test set)': round(result, 4)},\n",
    "                                       ignore_index=True)"
   ]
  },
  {
   "cell_type": "markdown",
   "metadata": {
    "id": "jtwuevAq3BpA"
   },
   "source": [
    "- **Brief summary**:\n",
    "\n",
    "    > As shown in the cell above, the GRU model's performance on the test dataset is 2.2553 in terms of MAE.\n",
    "    \n",
    "    It is interesting to see that compared to LSTM, GRU yields a slightly better performance on the test set. However, the graphs of the compile histories of both models seem very similar--both show that there is little learning after the first 2 or 3 epochs.\n",
    "    \n",
    "    ___Limitations___: \n",
    "    \n",
    "    With fewer parameters and gates in the neural network, while the speed of training has been increased, the complexity that can be captured by GRU is also reduced. While its performance does seem better than LSTM, the difference can also be caused by other random factors."
   ]
  },
  {
   "cell_type": "markdown",
   "metadata": {
    "id": "TIQZq6puLuyx"
   },
   "source": [
    "## <b>3.5.Transformers: Attention is all you need!</b>"
   ]
  },
  {
   "cell_type": "markdown",
   "metadata": {
    "id": "YA5i5Yrt3BpB"
   },
   "source": [
    "### Self-Attention\n",
    "\n",
    "- **Intro**:\n",
    "\n",
    "The Attention mechanism is one of the state of the art architecture. To gain some experience with it our group decided to try the attention architecture on the our electricity data.\n",
    "However, our prediction problem is not a sequence thats why we have to apply the self-attention mechanism. In the self-attention mechanism both the source of the queries and the target of the attention are input embeddings and are learned projections.\n",
    "\n",
    "During training we identified that high drop_out rate of 0.5 helps a lot to have a good convergence. Additionally, a batch size of 64 and and a dense layer size of 256 which enables the model to learn well.\n",
    "\n",
    "Unluckily, the model was also not able to beat the Dummy Regressor but for our group we learned very well how to apply self attention to predict.\n",
    "\n",
    "   \n",
    "\n",
    "- **Input data**:\n",
    "\n",
    "    The input data of the model has been normalized and rolled into a form of 3D data.\n",
    "    \n",
    "    > Training dataset: `X_train_window_size_5` and `y_train_window_size_5`\\\n",
    "    > Validation dataset: `X_valid_window_size_5` and `y_valid_window_size_5`\\\n",
    "    > Testing dataset: `X_test_window_size_5` and `y_test_window_size_5`\n",
    "\n",
    " \n",
    "- **Architecture**:\n",
    "\n",
    "1. Input Layer\n",
    "2. Embedding Layer for the query\n",
    "3. Self-Attention layer with the inputs and embedding layer\n",
    "4. Concatenating the input and attention layer\n",
    "5. 2x Dense Layers followed by a Dropout Layer\n",
    "6. Output Layer with a linear activation function\n"
   ]
  },
  {
   "cell_type": "code",
   "execution_count": 42,
   "metadata": {
    "id": "6EpnA9LyT8DW"
   },
   "outputs": [],
   "source": [
    "#Dropping high correlation features to prohibit to overfitting a bit\n",
    "X_train_window_size_5 = X_train_window_size_5.drop(['total_hours', 'minutes_4_3', 'minutes_3_2', 'minutes_2_1', 'dlvry_weekend', 'volume_4_3','volume_3_2', 'volume_2_1'], axis=1)\n",
    "X_valid_window_size_5 = X_valid_window_size_5.drop(['total_hours', 'minutes_4_3', 'minutes_3_2', 'minutes_2_1', 'dlvry_weekend', 'volume_4_3','volume_3_2', 'volume_2_1'], axis=1)\n",
    "X_test_window_size_5 = X_test_window_size_5.drop(['total_hours', 'minutes_4_3', 'minutes_3_2', 'minutes_2_1', 'dlvry_weekend', 'volume_4_3','volume_3_2', 'volume_2_1'], axis=1)"
   ]
  },
  {
   "cell_type": "code",
   "execution_count": 43,
   "metadata": {
    "id": "ke7_WjKdRYf3"
   },
   "outputs": [],
   "source": [
    "EPOCHS = 10\n",
    "BATCH_SIZE = 64\n",
    "DENSE_LAYER_SIZE = 256\n",
    "DROP_OUT = 0.5"
   ]
  },
  {
   "cell_type": "code",
   "execution_count": 44,
   "metadata": {
    "id": "rzrRV7hWUMS9"
   },
   "outputs": [],
   "source": [
    "tf.compat.v1.reset_default_graph()\n",
    "be.clear_session()\n",
    "\n",
    "def create_self_attention():\n",
    "\n",
    "    be.clear_session()\n",
    "    \n",
    "    inputs_q = Input(shape=(X_train_window_size_5.shape[1],))\n",
    "\n",
    "\n",
    "    dense_embedding_layer_q = Dense(X_train_window_size_5.shape[1], activation='softmax', \n",
    "                   kernel_initializer=k.initializers.HeNormal)(inputs_q)\n",
    "\n",
    "    self_attention = tf.keras.layers.Attention()(\n",
    "       [inputs_q, dense_embedding_layer_q])\n",
    "\n",
    "    attention_inputs = merge.Concatenate()(\n",
    "        [inputs_q, self_attention])\n",
    "\n",
    "    Dense_1 = Dense(DENSE_LAYER_SIZE, name='Dense_1', activation='relu', \n",
    "                    kernel_initializer=k.initializers.HeNormal)(attention_inputs)\n",
    "\n",
    "\n",
    "    Dropout_1 = Dropout(DROP_OUT)(Dense_1)\n",
    "\n",
    "\n",
    "    Dense_2 = Dense(DENSE_LAYER_SIZE, name='Dense_2', activation='relu', \n",
    "                    kernel_initializer=k.initializers.HeNormal)(Dropout_1)\n",
    "\n",
    "    Dropout_2 = Dropout(DROP_OUT)(Dense_2)\n",
    "\n",
    "    output = Dense(1, name='output_layer', activation='linear')(Dropout_2)\n",
    "\n",
    "    model = Model(inputs=[inputs_q], outputs=output)\n",
    "    print(\"Architecture of model:\\n\")\n",
    "    model.summary()\n",
    "\n",
    "    #Since we are using a 'state of the art'-model we also tried the 'state of the art'-optimizer \"ranger\"\n",
    "    radam = tfa.optimizers.RectifiedAdam()\n",
    "    ranger = tfa.optimizers.Lookahead(radam, sync_period=6, slow_step_size=0.5)\n",
    "    \n",
    "    model.compile(optimizer=ranger, loss='mae')\n",
    "\n",
    "    model_history = model.fit(X_train_window_size_5, y_train_window_size_5, \n",
    "                              validation_data=(X_valid_window_size_5, y_valid_window_size_5), \n",
    "                              epochs=EPOCHS, \n",
    "                              batch_size=BATCH_SIZE, \n",
    "                              shuffle=False)\n",
    "\n",
    "    return model, model_history"
   ]
  },
  {
   "cell_type": "code",
   "execution_count": 45,
   "metadata": {
    "colab": {
     "base_uri": "https://localhost:8080/"
    },
    "id": "M4d4KYQ6UOfU",
    "outputId": "3005c630-d77a-44d5-8324-30f8218fa921"
   },
   "outputs": [
    {
     "name": "stdout",
     "output_type": "stream",
     "text": [
      "Architecture of model:\n",
      "\n",
      "Model: \"model\"\n",
      "__________________________________________________________________________________________________\n",
      "Layer (type)                    Output Shape         Param #     Connected to                     \n",
      "==================================================================================================\n",
      "input_1 (InputLayer)            [(None, 34)]         0                                            \n",
      "__________________________________________________________________________________________________\n",
      "dense (Dense)                   (None, 34)           1190        input_1[0][0]                    \n",
      "__________________________________________________________________________________________________\n",
      "attention (Attention)           (None, 34)           0           input_1[0][0]                    \n",
      "                                                                 dense[0][0]                      \n",
      "__________________________________________________________________________________________________\n",
      "concatenate (Concatenate)       (None, 68)           0           input_1[0][0]                    \n",
      "                                                                 attention[0][0]                  \n",
      "__________________________________________________________________________________________________\n",
      "Dense_1 (Dense)                 (None, 256)          17664       concatenate[0][0]                \n",
      "__________________________________________________________________________________________________\n",
      "dropout (Dropout)               (None, 256)          0           Dense_1[0][0]                    \n",
      "__________________________________________________________________________________________________\n",
      "Dense_2 (Dense)                 (None, 256)          65792       dropout[0][0]                    \n",
      "__________________________________________________________________________________________________\n",
      "dropout_1 (Dropout)             (None, 256)          0           Dense_2[0][0]                    \n",
      "__________________________________________________________________________________________________\n",
      "output_layer (Dense)            (None, 1)            257         dropout_1[0][0]                  \n",
      "==================================================================================================\n",
      "Total params: 84,903\n",
      "Trainable params: 84,903\n",
      "Non-trainable params: 0\n",
      "__________________________________________________________________________________________________\n",
      "Epoch 1/10\n",
      "1430/1430 [==============================] - 15s 9ms/step - loss: 389.1811 - val_loss: 2.5551\n",
      "Epoch 2/10\n",
      "1430/1430 [==============================] - 12s 8ms/step - loss: 3.2088 - val_loss: 2.5552\n",
      "Epoch 3/10\n",
      "1430/1430 [==============================] - 12s 8ms/step - loss: 2.1297 - val_loss: 2.5551\n",
      "Epoch 4/10\n",
      "1430/1430 [==============================] - 12s 8ms/step - loss: 1.9171 - val_loss: 2.5551\n",
      "Epoch 5/10\n",
      "1430/1430 [==============================] - 12s 8ms/step - loss: 1.8288 - val_loss: 2.5551\n",
      "Epoch 6/10\n",
      "1430/1430 [==============================] - 11s 8ms/step - loss: 1.7982 - val_loss: 2.5551\n",
      "Epoch 7/10\n",
      "1430/1430 [==============================] - 11s 8ms/step - loss: 1.7932 - val_loss: 2.5550\n",
      "Epoch 8/10\n",
      "1430/1430 [==============================] - 11s 8ms/step - loss: 1.7884 - val_loss: 2.5551\n",
      "Epoch 9/10\n",
      "1430/1430 [==============================] - 11s 8ms/step - loss: 1.7947 - val_loss: 2.5550\n",
      "Epoch 10/10\n",
      "1430/1430 [==============================] - 11s 8ms/step - loss: 1.7821 - val_loss: 2.5550\n"
     ]
    }
   ],
   "source": [
    "attention_model, attention_history = create_self_attention()"
   ]
  },
  {
   "cell_type": "code",
   "execution_count": 46,
   "metadata": {
    "colab": {
     "base_uri": "https://localhost:8080/",
     "height": 295
    },
    "id": "pX-aqRjrUVFR",
    "outputId": "00c93d85-3e53-4b69-dc4d-e756a0cab064"
   },
   "outputs": [
    {
     "data": {
      "image/png": "[encoded data removed]",
      "text/plain": [
       "<Figure size 432x288 with 1 Axes>"
      ]
     },
     "metadata": {
      "needs_background": "light"
     },
     "output_type": "display_data"
    }
   ],
   "source": [
    "loss_values = attention_history.history['loss']\n",
    "val_loss_values = attention_history.history['val_loss']\n",
    "epochs = range(1, len(loss_values)+1)\n",
    "\n",
    "plt.plot(epochs, loss_values, label='Training Loss')\n",
    "plt.plot(epochs, val_loss_values, label='Validation Loss')\n",
    "\n",
    "plt.title(\"Compiling history of Self-Attention model\")\n",
    "plt.xlabel('Epochs')\n",
    "plt.ylabel('Loss')\n",
    "plt.legend()\n",
    "\n",
    "plt.show()"
   ]
  },
  {
   "cell_type": "code",
   "execution_count": 47,
   "metadata": {
    "colab": {
     "base_uri": "https://localhost:8080/"
    },
    "id": "4tNBSDC1UPWP",
    "outputId": "87e0dac2-f9a8-4424-cc8c-f14aa80b765c"
   },
   "outputs": [
    {
     "name": "stdout",
     "output_type": "stream",
     "text": [
      "Mean absolut error on test: 2.2551537075026378\n"
     ]
    }
   ],
   "source": [
    "result = evaluate_model(attention_model, X_test_window_size_5, y_test_window_size_5)\n",
    "performance_df = performance_df.append({'Model': 'Self-Attention', \n",
    "                                        'MAE score (on test set)': round(result, 4)},\n",
    "                                       ignore_index=True)"
   ]
  },
  {
   "cell_type": "markdown",
   "metadata": {
    "id": "98nkNoKtQ2xX"
   },
   "source": [
    "# <b>4.Summary</b>\n",
    "<b>In this part, we summairzed the results of all the models above. </b>\n"
   ]
  },
  {
   "cell_type": "code",
   "execution_count": 48,
   "metadata": {
    "colab": {
     "base_uri": "https://localhost:8080/",
     "height": 421
    },
    "id": "Txo-DtB8Q188",
    "outputId": "f1160de9-0a89-4ed4-8160-a68899d2e63d"
   },
   "outputs": [
    {
     "data": {
      "text/html": [
       "<div>\n",
       "<style scoped>\n",
       "    .dataframe tbody tr th:only-of-type {\n",
       "        vertical-align: middle;\n",
       "    }\n",
       "\n",
       "    .dataframe tbody tr th {\n",
       "        vertical-align: top;\n",
       "    }\n",
       "\n",
       "    .dataframe thead th {\n",
       "        text-align: right;\n",
       "    }\n",
       "</style>\n",
       "<table border=\"1\" class=\"dataframe\">\n",
       "  <thead>\n",
       "    <tr style=\"text-align: right;\">\n",
       "      <th></th>\n",
       "      <th>Model</th>\n",
       "      <th>MAE score (on test set)</th>\n",
       "    </tr>\n",
       "  </thead>\n",
       "  <tbody>\n",
       "    <tr>\n",
       "      <th>4</th>\n",
       "      <td>LightGBM</td>\n",
       "      <td>2.2495</td>\n",
       "    </tr>\n",
       "    <tr>\n",
       "      <th>7</th>\n",
       "      <td>Mulit-Layer Perceptron</td>\n",
       "      <td>2.2550</td>\n",
       "    </tr>\n",
       "    <tr>\n",
       "      <th>5</th>\n",
       "      <td>Support Vector Regressor</td>\n",
       "      <td>2.2551</td>\n",
       "    </tr>\n",
       "    <tr>\n",
       "      <th>8</th>\n",
       "      <td>CNN</td>\n",
       "      <td>2.2551</td>\n",
       "    </tr>\n",
       "    <tr>\n",
       "      <th>11</th>\n",
       "      <td>Self-Attention</td>\n",
       "      <td>2.2552</td>\n",
       "    </tr>\n",
       "    <tr>\n",
       "      <th>10</th>\n",
       "      <td>GRU</td>\n",
       "      <td>2.2553</td>\n",
       "    </tr>\n",
       "    <tr>\n",
       "      <th>9</th>\n",
       "      <td>LSTM</td>\n",
       "      <td>2.2570</td>\n",
       "    </tr>\n",
       "    <tr>\n",
       "      <th>0</th>\n",
       "      <td>Dummy Regressor</td>\n",
       "      <td>2.2588</td>\n",
       "    </tr>\n",
       "    <tr>\n",
       "      <th>3</th>\n",
       "      <td>Random Forest</td>\n",
       "      <td>2.2755</td>\n",
       "    </tr>\n",
       "    <tr>\n",
       "      <th>1</th>\n",
       "      <td>Linear Regression</td>\n",
       "      <td>2.2783</td>\n",
       "    </tr>\n",
       "    <tr>\n",
       "      <th>2</th>\n",
       "      <td>Linear Regression (poly transformed)</td>\n",
       "      <td>2.4848</td>\n",
       "    </tr>\n",
       "    <tr>\n",
       "      <th>6</th>\n",
       "      <td>K-Nearest Neighbor</td>\n",
       "      <td>2.7276</td>\n",
       "    </tr>\n",
       "  </tbody>\n",
       "</table>\n",
       "</div>"
      ],
      "text/plain": [
       "                                   Model  MAE score (on test set)\n",
       "4                               LightGBM                   2.2495\n",
       "7                 Mulit-Layer Perceptron                   2.2550\n",
       "5               Support Vector Regressor                   2.2551\n",
       "8                                    CNN                   2.2551\n",
       "11                        Self-Attention                   2.2552\n",
       "10                                   GRU                   2.2553\n",
       "9                                   LSTM                   2.2570\n",
       "0                        Dummy Regressor                   2.2588\n",
       "3                          Random Forest                   2.2755\n",
       "1                      Linear Regression                   2.2783\n",
       "2   Linear Regression (poly transformed)                   2.4848\n",
       "6                     K-Nearest Neighbor                   2.7276"
      ]
     },
     "execution_count": 48,
     "metadata": {},
     "output_type": "execute_result"
    }
   ],
   "source": [
    "performance_df.sort_values('MAE score (on test set)')"
   ]
  },
  {
   "cell_type": "markdown",
   "metadata": {},
   "source": [
    "**Observations**:\n",
    "- Boosted decision trees have the best performance for this dataset, which is around 0.25% better than the second best model in terms of MAE.\n",
    "\n",
    "    It is not surprising to see that LightGBM model has a higher performance when compared to Random Forest. As mentioned earlier, by training different decision trees in parallel, Random Forest can only learn from the training data. Boosted models such as LightGBM, however, build trees that are dependent on each other, which allows more room for the model to learn and explains the better performance seen here.\n",
    "    \n",
    "- The performance of all neural networks are very close to each other.\n",
    "\n",
    "    Whether it is Recurrent Neural Network, which is more suitable for sequence data, or Convolutional Neural Network, which is more suitable for image data, their performance results seem very similar to each other. Moreover, as mentioned earlier, during the stage of hyperparameter tuning, we have discovered that the complexity of the model also did not make much difference. \n",
    "    \n",
    "    It is also worth noting that when trainig the neural networks, we have discovered that the validation and training loss values tend to fluctuate around a certain value, and regardless of the type of optimizer/learning rate (scheduler)/activation function/initializer that we use, the model can not seem to reach a lower value. \n",
    "    \n",
    "    Therefore, it is very likely that neural network is suitable for solving the problem we have at hand. Generally, neural networks are helpful in identifying patterns in data. However, the dataset here involves not just one time series but multiple sequences of different contracts, which can add a lot of noise and, without a large amount of data to make up for this drawback, it can be one of the reasons why neural networks are unable to learn from it. "
   ]
  }
 ],
 "metadata": {
  "accelerator": "GPU",
  "colab": {
   "collapsed_sections": [],
   "machine_shape": "hm",
   "name": "Electricity_price_prediction_5.ipynb",
   "provenance": []
  },
  "interpreter": {
   "hash": "89e63de8770f628c77675a9211c73c50d8048a4fbbbf8de889960f40f43afefe"
  },
  "kernelspec": {
   "display_name": "Python 3",
   "language": "python",
   "name": "python3"
  },
  "language_info": {
   "codemirror_mode": {
    "name": "ipython",
    "version": 3
   },
   "file_extension": ".py",
   "mimetype": "text/x-python",
   "name": "python",
   "nbconvert_exporter": "python",
   "pygments_lexer": "ipython3",
   "version": "3.8.8"
  }
 },
 "nbformat": 4,
 "nbformat_minor": 1
}
