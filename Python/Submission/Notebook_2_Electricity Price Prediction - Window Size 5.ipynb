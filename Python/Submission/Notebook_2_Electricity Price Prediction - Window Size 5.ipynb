{
 "cells": [
  {
   "cell_type": "markdown",
   "metadata": {
    "id": "gSa2MDIf8bJl"
   },
   "source": [
    "# <b>Notebook-2: Electricity Price Prediction - Window Size 5</b>\n",
    "by Qianjing Liang (8434350), Daniel Barbie (4939697), Jacob Umland (8436406),  Fan Jia (8436217), Jan Faulstich (8439328)"
   ]
  },
  {
   "cell_type": "markdown",
   "metadata": {
    "id": "5FVGL4igF1gQ"
   },
   "source": [
    "# Preparations\n",
    "<b>Firstly, we downloaded the data, imported necessary packages and loaded the data into DataFrames. We have also created a dataframe for summarizing the models' performance. </b>"
   ]
  },
  {
   "cell_type": "code",
   "execution_count": 1,
   "metadata": {
    "colab": {
     "base_uri": "https://localhost:8080/"
    },
    "executionInfo": {
     "elapsed": 3592,
     "status": "ok",
     "timestamp": 1636492166362,
     "user": {
      "displayName": "Jan Faulstich",
      "photoUrl": "https://lh3.googleusercontent.com/a/default-user=s64",
      "userId": "01448353606380084380"
     },
     "user_tz": -60
    },
    "id": "0kXqFJuvOXpJ",
    "outputId": "150d22fb-232b-40dd-80fb-f467e2e82845"
   },
   "outputs": [
    {
     "name": "stdout",
     "output_type": "stream",
     "text": [
      "Requirement already satisfied: tensorflow-addons in /usr/local/lib/python3.7/dist-packages (0.14.0)\n",
      "Requirement already satisfied: typeguard>=2.7 in /usr/local/lib/python3.7/dist-packages (from tensorflow-addons) (2.7.1)\n"
     ]
    }
   ],
   "source": [
    "pip install tensorflow-addons"
   ]
  },
  {
   "cell_type": "code",
   "execution_count": 2,
   "metadata": {
    "colab": {
     "base_uri": "https://localhost:8080/"
    },
    "executionInfo": {
     "elapsed": 5,
     "status": "ok",
     "timestamp": 1636492166363,
     "user": {
      "displayName": "Jan Faulstich",
      "photoUrl": "https://lh3.googleusercontent.com/a/default-user=s64",
      "userId": "01448353606380084380"
     },
     "user_tz": -60
    },
    "id": "j-f5b8T0Q_3o",
    "outputId": "fd5f8b79-fa69-47f1-932e-f1097ab89057"
   },
   "outputs": [
    {
     "name": "stdout",
     "output_type": "stream",
     "text": [
      "Drive already mounted at /content/gdrive; to attempt to forcibly remount, call drive.mount(\"/content/gdrive\", force_remount=True).\n",
      "/content/gdrive/MyDrive/Electricity_Data\n"
     ]
    }
   ],
   "source": [
    "from google.colab import drive\n",
    "drive.mount('/content/gdrive')\n",
    "%cd /content/gdrive/MyDrive/Electricity_Data"
   ]
  },
  {
   "cell_type": "code",
   "execution_count": 3,
   "metadata": {
    "colab": {
     "base_uri": "https://localhost:8080/"
    },
    "executionInfo": {
     "elapsed": 3130,
     "status": "ok",
     "timestamp": 1636492169490,
     "user": {
      "displayName": "Jan Faulstich",
      "photoUrl": "https://lh3.googleusercontent.com/a/default-user=s64",
      "userId": "01448353606380084380"
     },
     "user_tz": -60
    },
    "id": "9n31apy383Mu",
    "outputId": "b3c6aa2b-74a3-44d2-83ab-5f934f36de8f"
   },
   "outputs": [
    {
     "name": "stderr",
     "output_type": "stream",
     "text": [
      "/usr/local/lib/python3.7/dist-packages/tensorflow_addons/utils/ensure_tf_install.py:67: UserWarning: Tensorflow Addons supports using Python ops for all Tensorflow versions above or equal to 2.4.0 and strictly below 2.7.0 (nightly versions are not supported). \n",
      " The versions of TensorFlow you are currently using is 2.7.0 and is not supported. \n",
      "Some things might work, some things might not.\n",
      "If you were to encounter a bug, do not file an issue.\n",
      "If you want to make sure you're using a tested and supported configuration, either change the TensorFlow version or the TensorFlow Addons's version. \n",
      "You can find the compatibility matrix in TensorFlow Addon's readme:\n",
      "https://github.com/tensorflow/addons\n",
      "  UserWarning,\n"
     ]
    }
   ],
   "source": [
    "#Imports basic packages for our tasks\n",
    "import pandas as pd\n",
    "import numpy as np\n",
    "import pickle\n",
    "from math import sqrt\n",
    "\n",
    "#Imports visualization packages\n",
    "import matplotlib.pyplot as plt\n",
    "import seaborn as sns\n",
    "\n",
    "#Import ML packages\n",
    "from sklearn.linear_model import LinearRegression\n",
    "from sklearn.dummy import DummyRegressor\n",
    "from sklearn.ensemble import RandomForestRegressor\n",
    "from sklearn.svm import SVR\n",
    "from sklearn.pipeline import Pipeline\n",
    "from sklearn.compose import ColumnTransformer\n",
    "from sklearn.neighbors import KNeighborsRegressor\n",
    "from sklearn.metrics import mean_absolute_error, r2_score, make_scorer, mean_squared_error\n",
    "from sklearn.preprocessing import MinMaxScaler, PolynomialFeatures\n",
    "from sklearn.model_selection import GridSearchCV, cross_val_score\n",
    "import lightgbm as lgb\n",
    "\n",
    "#Import DL packages\n",
    "import tensorflow as tf\n",
    "import tensorflow.keras as k \n",
    "from keras.models import *\n",
    "from keras.layers import merge\n",
    "from keras.layers.core import *\n",
    "from tensorflow.keras import Model, Sequential\n",
    "from tensorflow.keras import backend as be\n",
    "from tensorflow.keras.layers import *\n",
    "from tensorflow.keras.layers import Dense, Dropout, Input, Conv1D, MaxPool1D, Embedding, Attention\n",
    "from tensorflow.keras.callbacks import ModelCheckpoint, LearningRateScheduler, EarlyStopping\n",
    "from tensorflow.keras.optimizers import Adadelta, Adam, RMSprop\n",
    "from tensorflow.keras.regularizers import *\n",
    "from tensorflow.math import exp\n",
    "import tensorflow_addons as tfa\n",
    "\n",
    "import warnings\n",
    "warnings.filterwarnings('ignore')"
   ]
  },
  {
   "cell_type": "code",
   "execution_count": 4,
   "metadata": {
    "executionInfo": {
     "elapsed": 1588,
     "status": "ok",
     "timestamp": 1636492171068,
     "user": {
      "displayName": "Jan Faulstich",
      "photoUrl": "https://lh3.googleusercontent.com/a/default-user=s64",
      "userId": "01448353606380084380"
     },
     "user_tz": -60
    },
    "id": "Wn6ykoiI9sTr"
   },
   "outputs": [],
   "source": [
    "#Load the datasets with a sliding window size of 5\n",
    "X_train_window_size_5 = pd.read_csv('X_train_window_size_5.csv')\n",
    "X_valid_window_size_5 = pd.read_csv('X_valid_window_size_5.csv')\n",
    "X_test_window_size_5 = pd.read_csv('X_test_window_size_5.csv')\n",
    "X_train_window_size_5_tree = pd.read_csv('X_train_window_size_5_tree.csv')\n",
    "X_valid_window_size_5_tree = pd.read_csv('X_valid_window_size_5_tree.csv')\n",
    "X_test_window_size_5_tree = pd.read_csv('X_test_window_size_5_tree.csv')\n",
    "y_train_window_size_5 = pd.read_csv('y_train_window_size_5.csv')\n",
    "y_valid_window_size_5 = pd.read_csv('y_valid_window_size_5.csv')\n",
    "y_test_window_size_5 = pd.read_csv('y_test_window_size_5.csv')"
   ]
  },
  {
   "cell_type": "code",
   "execution_count": 5,
   "metadata": {
    "executionInfo": {
     "elapsed": 9,
     "status": "ok",
     "timestamp": 1636492171069,
     "user": {
      "displayName": "Jan Faulstich",
      "photoUrl": "https://lh3.googleusercontent.com/a/default-user=s64",
      "userId": "01448353606380084380"
     },
     "user_tz": -60
    },
    "id": "_k1yZ33eWjFz"
   },
   "outputs": [],
   "source": [
    "y_train_window_size_5 = y_train_window_size_5['y']\n",
    "y_valid_window_size_5 = y_valid_window_size_5['y']\n",
    "y_test_window_size_5 = y_test_window_size_5['y']"
   ]
  },
  {
   "cell_type": "code",
   "execution_count": 6,
   "metadata": {
    "executionInfo": {
     "elapsed": 8,
     "status": "ok",
     "timestamp": 1636492171069,
     "user": {
      "displayName": "Jan Faulstich",
      "photoUrl": "https://lh3.googleusercontent.com/a/default-user=s64",
      "userId": "01448353606380084380"
     },
     "user_tz": -60
    },
    "id": "-cGCaD4QEdyH"
   },
   "outputs": [],
   "source": [
    "# Prepare a dataframe to store the performance of all models\n",
    "performance_df = pd.DataFrame(columns=['Model', 'MAE score (on test set)', 'MSE score (on test set)'])"
   ]
  },
  {
   "cell_type": "markdown",
   "metadata": {
    "id": "be6o3zgDFHtc"
   },
   "source": [
    "# Conventional ML models\n",
    "<b>In the second part, conventional ML models are used to make predictions, serving as a baseline to be compared with DL approaches. </b>\n"
   ]
  },
  {
   "cell_type": "markdown",
   "metadata": {
    "id": "MAfDUGoQJXb9"
   },
   "source": [
    "## Evaluation Functions: MAE"
   ]
  },
  {
   "cell_type": "code",
   "execution_count": 7,
   "metadata": {
    "executionInfo": {
     "elapsed": 8,
     "status": "ok",
     "timestamp": 1636492171070,
     "user": {
      "displayName": "Jan Faulstich",
      "photoUrl": "https://lh3.googleusercontent.com/a/default-user=s64",
      "userId": "01448353606380084380"
     },
     "user_tz": -60
    },
    "id": "dMgHAsOIDgZh"
   },
   "outputs": [],
   "source": [
    "def evaluate_model(model, X_test, y_test_true):\n",
    "    predictions = model.predict(X_test)\n",
    "    mae = mean_absolute_error(y_test_true, predictions)\n",
    "    mse = mean_squared_error(y_test_true, predictions)\n",
    "    print(\"Mean absolut error on test:\", mae)\n",
    "    print(\"Mean squared error on test:\", mse)\n",
    "    return mae, mse"
   ]
  },
  {
   "cell_type": "code",
   "execution_count": 8,
   "metadata": {
    "executionInfo": {
     "elapsed": 8,
     "status": "ok",
     "timestamp": 1636492171070,
     "user": {
      "displayName": "Jan Faulstich",
      "photoUrl": "https://lh3.googleusercontent.com/a/default-user=s64",
      "userId": "01448353606380084380"
     },
     "user_tz": -60
    },
    "id": "ygVbPd8F3Bo0"
   },
   "outputs": [],
   "source": [
    "def evaluate_3Dmodel(model, X_test, y_test_true):\n",
    "    predictions = model.predict(X_test)\n",
    "    predictions = predictions[:, -1]\n",
    "    mae = mean_absolute_error(y_test_true, predictions)\n",
    "    mse = mean_squared_error(y_test_true, predictions)\n",
    "    print(\"Mean absolut error on test:\", mae)\n",
    "    return mae, mse"
   ]
  },
  {
   "cell_type": "markdown",
   "metadata": {
    "id": "9QBCkmPtKVYt"
   },
   "source": [
    "## Dummy regressor\n",
    "Takeaways:"
   ]
  },
  {
   "cell_type": "code",
   "execution_count": 9,
   "metadata": {
    "colab": {
     "base_uri": "https://localhost:8080/"
    },
    "executionInfo": {
     "elapsed": 7,
     "status": "ok",
     "timestamp": 1636492171070,
     "user": {
      "displayName": "Jan Faulstich",
      "photoUrl": "https://lh3.googleusercontent.com/a/default-user=s64",
      "userId": "01448353606380084380"
     },
     "user_tz": -60
    },
    "id": "171ofxYqKZqt",
    "outputId": "0dfed23f-daa4-41af-c8ef-b0df3bed7f62"
   },
   "outputs": [
    {
     "name": "stdout",
     "output_type": "stream",
     "text": [
      "Mean absolut error on test: 2.258751650277334\n",
      "Mean squared error on test: 21.15889779728792\n"
     ]
    }
   ],
   "source": [
    "# Modeling\n",
    "dummy_model = DummyRegressor()\n",
    "dummy_model.fit(X_train_window_size_5, y_train_window_size_5)\n",
    "\n",
    "# Evaluate model performance and store it\n",
    "mae, mse = evaluate_model(dummy_model, X_test_window_size_5, y_test_window_size_5)\n",
    "performance_df = performance_df.append({'Model': 'Dummy Regressor', \n",
    "                                        'MAE score (on test set)': round(mae, 4),\n",
    "                                        'MSE score (on test set)': round(mse, 4)},\n",
    "                                       ignore_index=True)"
   ]
  },
  {
   "cell_type": "markdown",
   "metadata": {
    "id": "yinsq3ETKads"
   },
   "source": [
    "## Linear Regression\n",
    "As expected, the linear models performed poorly for our data, as indicated by the R2 scores for both degree 1 and degree 2 models. The near 0 R2 scores for both validation and testing suggest that dependent variable cannot be explained by our data. Even though in the plots, the predicted y basically covered the actual y, the non-linear nature of our data cannot be captured by linear models. Due to the computational limitation, we only include the degree 2 polynomial regression, which has already served our purpose. "
   ]
  },
  {
   "cell_type": "markdown",
   "metadata": {
    "id": "8G-a9a-lFzgS"
   },
   "source": [
    "### Helper functions"
   ]
  },
  {
   "cell_type": "code",
   "execution_count": 10,
   "metadata": {
    "executionInfo": {
     "elapsed": 6,
     "status": "ok",
     "timestamp": 1636492171071,
     "user": {
      "displayName": "Jan Faulstich",
      "photoUrl": "https://lh3.googleusercontent.com/a/default-user=s64",
      "userId": "01448353606380084380"
     },
     "user_tz": -60
    },
    "id": "xH4dFDnYKcuG"
   },
   "outputs": [],
   "source": [
    "# Modify the helper functions specifically for the linear models\n",
    "# Function to perform Cross Validation on Linear Models\n",
    "def get_cv_scores(model, X_train, y_train):\n",
    "    scores = cross_val_score(model, X_train, y_train, cv=5, scoring='r2')\n",
    "    print('CV Mean of R2: ', np.mean(scores))\n",
    "    print('CV STD of R2: ', np.std(scores))\n",
    "\n",
    "# Function to evaluate Linear Models with plots\n",
    "def evaluate_valid(model, X_valid, y_valid, X_test, y_test):\n",
    "    predictions_valid = model.predict(X_valid)\n",
    "    mae_valid = mean_absolute_error(y_valid, predictions_valid)\n",
    "    r2_valid = r2_score(y_valid, predictions_valid)\n",
    "    print(\"Validation MAE:\", mae_valid)\n",
    "    print(\"Validation R2:\", r2_valid)\n",
    "\n",
    "    predictions_test = model.predict(X_test)\n",
    "    mae_test = mean_absolute_error(y_test, predictions_test)\n",
    "    mse_test = mean_squared_error(y_test, predictions_test)\n",
    "    r2_test = r2_score(y_test, predictions_test)\n",
    "    print(\"Test MAE:\", mae_test)\n",
    "    print(\"Test R2:\", r2_test)\n",
    "    \n",
    "    fig=plt.figure()\n",
    "    ax=fig.add_axes([0,0,1,1])\n",
    "    ax.scatter(y_valid, predictions_valid, color='r', label='valid set', alpha=0.2)\n",
    "    ax.scatter(y_test, predictions_test, color='b', label='test set', alpha=0.2)\n",
    "    ax.set_title('Distributions of predicted and real Y')\n",
    "    ax.set_xlabel('Actual Y')\n",
    "    ax.set_ylabel('Predicted Y')\n",
    "    ax.legend()\n",
    "\n",
    "    return mae_test, mse_test"
   ]
  },
  {
   "cell_type": "code",
   "execution_count": 11,
   "metadata": {
    "colab": {
     "base_uri": "https://localhost:8080/",
     "height": 468
    },
    "executionInfo": {
     "elapsed": 1679,
     "status": "ok",
     "timestamp": 1636492172745,
     "user": {
      "displayName": "Jan Faulstich",
      "photoUrl": "https://lh3.googleusercontent.com/a/default-user=s64",
      "userId": "01448353606380084380"
     },
     "user_tz": -60
    },
    "id": "WkA-SuEiiSzr",
    "outputId": "9bad7999-c009-48ef-c6c9-a7d0c7f54438"
   },
   "outputs": [
    {
     "name": "stdout",
     "output_type": "stream",
     "text": [
      "CV Mean of R2:  -0.0024990875674780976\n",
      "CV STD of R2:  0.011901930927789132\n",
      "Validation MAE: 2.5597569293787914\n",
      "Validation R2: -0.00753600763196971\n",
      "Test MAE: 2.278277126690864\n",
      "Test R2: -0.004706594876143555\n"
     ]
    },
    {
     "data": {
      "image/png": "[encoded data removed]",
      "text/plain": [
       "<Figure size 432x288 with 1 Axes>"
      ]
     },
     "metadata": {
      "needs_background": "light"
     },
     "output_type": "display_data"
    }
   ],
   "source": [
    "# Direct Linear Modling on Original Data \n",
    "model_lr = LinearRegression(copy_X=True, n_jobs=100)\n",
    "model_lr.fit(X_train_window_size_5, y_train_window_size_5)\n",
    "\n",
    "# Evaluate model performance and store it\n",
    "get_cv_scores(model_lr, X_train_window_size_5, y_train_window_size_5)\n",
    "mae, mse = evaluate_valid(model_lr, X_valid_window_size_5, y_valid_window_size_5, X_test_window_size_5, y_test_window_size_5)\n",
    "\n",
    "performance_df = performance_df.append({'Model': 'Linear Regression', \n",
    "                                        'MAE score (on test set)': round(mae, 4),\n",
    "                                        'MSE score (on test set)': round(mse, 4)},\n",
    "                                       ignore_index=True)"
   ]
  },
  {
   "cell_type": "code",
   "execution_count": 12,
   "metadata": {
    "colab": {
     "base_uri": "https://localhost:8080/",
     "height": 468
    },
    "executionInfo": {
     "elapsed": 62638,
     "status": "ok",
     "timestamp": 1636492235381,
     "user": {
      "displayName": "Jan Faulstich",
      "photoUrl": "https://lh3.googleusercontent.com/a/default-user=s64",
      "userId": "01448353606380084380"
     },
     "user_tz": -60
    },
    "id": "WJSI2Jo8iSzs",
    "outputId": "76528b61-8054-4733-bc11-aee13a5f74dc"
   },
   "outputs": [
    {
     "name": "stdout",
     "output_type": "stream",
     "text": [
      "CV Mean of R2:  -1.6558473392156838e+16\n",
      "CV STD of R2:  3.218491706856336e+16\n",
      "Validation MAE: 2.811697086257412\n",
      "Validation R2: -0.23269828315318963\n",
      "Test MAE: 2.484765136958238\n",
      "Test R2: -0.07257177828641947\n"
     ]
    },
    {
     "data": {
      "image/png": "[encoded data removed]",
      "text/plain": [
       "<Figure size 432x288 with 1 Axes>"
      ]
     },
     "metadata": {
      "needs_background": "light"
     },
     "output_type": "display_data"
    }
   ],
   "source": [
    "# Polynomial Regression (Degree=2) \n",
    "# Transformation of X_train/valid/test datasets\n",
    "polynomial_features= PolynomialFeatures(degree=2)\n",
    "X_train_5_poly = polynomial_features.fit_transform(X_train_window_size_5)\n",
    "X_valid_5_poly = polynomial_features.fit_transform(X_valid_window_size_5)\n",
    "X_test_5_poly = polynomial_features.fit_transform(X_test_window_size_5)\n",
    "\n",
    "# Modeling\n",
    "model_lr = LinearRegression(normalize=True, copy_X=True, n_jobs=100)\n",
    "model_lr.fit(X_train_5_poly, y_train_window_size_5)\n",
    "get_cv_scores(model_lr, X_train_5_poly, y_train_window_size_5)\n",
    "\n",
    "# Evaluate model performance and store it\n",
    "mae, mse = evaluate_valid(model_lr, X_valid_5_poly, y_valid_window_size_5, X_test_5_poly, y_test_window_size_5)\n",
    "\n",
    "performance_df = performance_df.append({'Model': 'Linear Regression (poly transformed)', \n",
    "                                        'MAE score (on test set)': round(mae, 4),\n",
    "                                        'MSE score (on test set)': round(mse, 4)},\n",
    "                                       ignore_index=True)"
   ]
  },
  {
   "cell_type": "markdown",
   "metadata": {
    "id": "QubESi9OKe9F"
   },
   "source": [
    "## Random Forrest\n",
    "- **Intro**:\n",
    "\n",
    "    The Random Forest method fits on the training data using an ensemble of decision trees. An important feature of the model is that it helps avoid overfitting by building each of the tree with a sample of data points as well as a sample of the features of the original training dataset.\n",
    "\n",
    "- **Input data**:\n",
    "\n",
    "    > Training dataset: `X_train_window_size_5_tree` and `y_train_window_size_5`\\\n",
    "    > Validation dataset: `X_valid_window_size_5_tree` and `y_valid_window_size_5`\\\n",
    "    > Testing dataset: `X_test_window_size_5_tree` and `y_test_window_size_5`\n",
    "    \n",
    "    Apart from normalization, the datasets used for Random Forest modelling have also been transformed in terms of their datetime columns, such as for the variable `lasttrade_weekday`. These columns originally consisted of two sets of variables to express a certain datetime point, which has been preprocessed and converted back to their original value.\n",
    "\n",
    "- **Architecture**:\n",
    "\n",
    "    After comparing the models' performance on the validation dataset using GridSearchCV, the best combination of parameters for the Random Forest Regressor is:\n",
    "    \n",
    "    | Parameter name    | Value  |\n",
    "    |-------------------|--------|\n",
    "    | n_estimators      | 500    |\n",
    "    | max_features      | 'sqrt' |\n",
    "    | min_samples_split | 10     |\n",
    "    | max_depth         | 6      |\n",
    "    \n",
    "It is worth noting that our group has also tried dropping features that are deemed the least important by the Random Forest model after performing the Grid Search, and there seemed to be little improvement in the model's performance, which is why this part has been excluded here."
   ]
  },
  {
   "cell_type": "code",
   "execution_count": 13,
   "metadata": {
    "colab": {
     "base_uri": "https://localhost:8080/"
    },
    "executionInfo": {
     "elapsed": 40911,
     "status": "ok",
     "timestamp": 1636492276290,
     "user": {
      "displayName": "Jan Faulstich",
      "photoUrl": "https://lh3.googleusercontent.com/a/default-user=s64",
      "userId": "01448353606380084380"
     },
     "user_tz": -60
    },
    "id": "8DmMkD5RiSzt",
    "outputId": "a1d8554c-71a8-4aa4-a0db-60cab59b5df3"
   },
   "outputs": [
    {
     "name": "stdout",
     "output_type": "stream",
     "text": [
      "Mean absolut error on test: 2.2755474195799463\n",
      "Mean squared error on test: 21.846742385558375\n"
     ]
    }
   ],
   "source": [
    "# Modeling\n",
    "rfmodel = RandomForestRegressor(random_state=3315, \n",
    "                                max_depth=6,\n",
    "                                n_estimators=500,\n",
    "                                max_features='sqrt',\n",
    "                                min_samples_split=10,\n",
    "                                criterion='mse', \n",
    "                                n_jobs=-1)\n",
    "rfmodel.fit(X_train_window_size_5_tree, y_train_window_size_5)\n",
    "\n",
    "# Evaluate model performance and store it\n",
    "mae, mse = evaluate_model(rfmodel, X_test_window_size_5_tree, y_test_window_size_5)\n",
    "\n",
    "performance_df = performance_df.append({'Model': 'Random Forest', \n",
    "                                        'MAE score (on test set)': round(mae, 4),\n",
    "                                        'MSE score (on test set)': round(mse, 4)},\n",
    "                                       ignore_index=True)\n"
   ]
  },
  {
   "cell_type": "markdown",
   "metadata": {
    "id": "ggSt_eL43Bo4"
   },
   "source": [
    "- **Brief summary**:\n",
    "\n",
    "    > As shown in the cell above, the Random Forest model's performance on the test dataset is 2.2755 in terms of MAE.\n",
    "    \n",
    "    ___Limitations___: \n",
    "    \n",
    "    While Random Forest takes advantage of the power of ensemble, which helps avoid overfitting, it simply aggregates all the individual decision trees by training them in parallel. In other words, the trees within the Random Forest model are independent from each other and thus can't learn from each other. To address this disadvantage, we have also tried ensemble of boosted trees as shown in the following section."
   ]
  },
  {
   "cell_type": "markdown",
   "metadata": {
    "id": "7FJGi6FvKjuv"
   },
   "source": [
    "## Gradient Boosting\n",
    "Takeaways:\n",
    "\n",
    "LightGBM is a gradient boosting framework using tree based approaches. Gradient boosting comes from the idea whether a weak learner can modified to become even better. Additionally, we can state that a Gradient Boosting algorithm consists of 3 elements: 1. a loss function, which needs to be optimized. 2. A weak learner to make predictions of the input data and 3. An additive model which adds weak learners to minimize the loss function. Basically, this means each new added weak learner is trained one minimizing the errors of the previous models.\n",
    "\n",
    "In the beginning we stated the LightGBM is using tree based approaches. This also means for us that we have to conserve the sin/cos features of the time series into real integers because a tree will split its decision after one feature even though the sin/cos of the columns is one feature. \n",
    "In the previous preprocessing notebook we encoded these time series sin/cos features to use LightGBM properly. Gradient Boosting algorithms are aggressive learners which means they overfit fast. That’s why we first have to drop all features with a high correlation.\n",
    "\n",
    "The architecture is really simple since we only need to define the right parameters. Since our group decided to optimize the model for the mean absolute error. The objective was set to regression_l1 and the metric is ‚mae‘ (mean absolute error). The parameters num_leaves and num_round are the most important parameters to tune because these regulate the over-/underfitting of our model. After several trials we identified a small number of leaves with 45 and 17 num of rounds.\n",
    "\n",
    "\n",
    "Performance:\n",
    "\n",
    "The LightGBM model is our best model and was able to achieve a slightly better mean absolute error than the DummyRegressor which was predicting the mean. By having a small number of leaves we regulated the overfitting of the model so it was able to capture more information of the training set to make better predictions on the test set.\n",
    "However, gradient boosting lacks the ability to capture time series information because it is a tree approach. In our opinion we were able to minimize the main disadvantage of overfitting but we think other models can be even better by also using the time series information correctly."
   ]
  },
  {
   "cell_type": "markdown",
   "metadata": {
    "id": "vxgieXwoiSzt"
   },
   "source": [
    "### LightGBM Model"
   ]
  },
  {
   "cell_type": "code",
   "execution_count": 14,
   "metadata": {
    "executionInfo": {
     "elapsed": 11,
     "status": "ok",
     "timestamp": 1636492276291,
     "user": {
      "displayName": "Jan Faulstich",
      "photoUrl": "https://lh3.googleusercontent.com/a/default-user=s64",
      "userId": "01448353606380084380"
     },
     "user_tz": -60
    },
    "id": "M1IJ_OW7Uvgy"
   },
   "outputs": [],
   "source": [
    "# Drop some features\n",
    "X_train_window_size_5_tree = X_train_window_size_5_tree.drop(['total_hours','minutes_4_3', 'minutes_3_2', 'minutes_2_1', 'dlvry_weekend', 'volume_4_3','volume_3_2', 'volume_2_1'], axis=1)\n",
    "X_valid_window_size_5_tree = X_valid_window_size_5_tree.drop(['total_hours','minutes_4_3', 'minutes_3_2', 'minutes_2_1', 'dlvry_weekend', 'volume_4_3','volume_3_2', 'volume_2_1'], axis=1)\n",
    "X_test_window_size_5_tree = X_test_window_size_5_tree.drop(['total_hours', 'minutes_4_3', 'minutes_3_2', 'minutes_2_1', 'dlvry_weekend', 'volume_4_3','volume_3_2', 'volume_2_1'], axis=1)"
   ]
  },
  {
   "cell_type": "code",
   "execution_count": 15,
   "metadata": {
    "colab": {
     "base_uri": "https://localhost:8080/"
    },
    "executionInfo": {
     "elapsed": 954,
     "status": "ok",
     "timestamp": 1636492277237,
     "user": {
      "displayName": "Jan Faulstich",
      "photoUrl": "https://lh3.googleusercontent.com/a/default-user=s64",
      "userId": "01448353606380084380"
     },
     "user_tz": -60
    },
    "id": "2wg8qsTyiSzu",
    "outputId": "d88ea8e5-35a1-4077-ce94-39e35e800bb5"
   },
   "outputs": [
    {
     "name": "stdout",
     "output_type": "stream",
     "text": [
      "[1]\tvalid_0's l1: 2.55502\n",
      "[2]\tvalid_0's l1: 2.55424\n",
      "[3]\tvalid_0's l1: 2.55366\n",
      "[4]\tvalid_0's l1: 2.55321\n",
      "[5]\tvalid_0's l1: 2.55267\n",
      "[6]\tvalid_0's l1: 2.55254\n",
      "[7]\tvalid_0's l1: 2.55169\n",
      "[8]\tvalid_0's l1: 2.55115\n",
      "[9]\tvalid_0's l1: 2.55127\n",
      "[10]\tvalid_0's l1: 2.55024\n",
      "[11]\tvalid_0's l1: 2.54987\n",
      "[12]\tvalid_0's l1: 2.54873\n",
      "[13]\tvalid_0's l1: 2.54836\n",
      "[14]\tvalid_0's l1: 2.54794\n",
      "[15]\tvalid_0's l1: 2.54819\n",
      "[16]\tvalid_0's l1: 2.54801\n",
      "[17]\tvalid_0's l1: 2.54927\n",
      "[18]\tvalid_0's l1: 2.54936\n",
      "[19]\tvalid_0's l1: 2.54924\n",
      "[20]\tvalid_0's l1: 2.54965\n",
      "Mean absolut error on test: 2.2494811412930393\n",
      "Mean squared error on test: 21.102277500657202\n"
     ]
    }
   ],
   "source": [
    "# Process data\n",
    "train_data = lgb.Dataset(X_train_window_size_5_tree, label=y_train_window_size_5)\n",
    "valid_data = lgb.Dataset(X_valid_window_size_5_tree, label=y_valid_window_size_5)\n",
    "test_data = lgb.Dataset(X_test_window_size_5_tree, label=y_test_window_size_5)\n",
    "\n",
    "# Modeling\n",
    "param = {'num_leaves': 60, 'objective': 'regression_l1', 'metric': 'mae'}\n",
    "num_round = 20\n",
    "bst = lgb.train(param, train_data, num_round, valid_sets=[valid_data])\n",
    "\n",
    "# Evaluate model performance and store it\n",
    "mae, mse = evaluate_model(bst, X_test_window_size_5_tree, y_test_window_size_5)\n",
    "\n",
    "performance_df = performance_df.append({'Model': 'LightGBM', \n",
    "                                        'MAE score (on test set)': round(mae, 4),\n",
    "                                        'MSE score (on test set)': round(mse, 4)},\n",
    "                                       ignore_index=True)"
   ]
  },
  {
   "cell_type": "markdown",
   "metadata": {
    "id": "v3_6Q1_LKpr_"
   },
   "source": [
    "## Support Vector Regression\n",
    "- **Intro**:\n",
    "\n",
    "    The Support Vector Regression model utilizes the kernel trick to project the original dataset to a higher dimension in an efficient way. A main advantage of the model is its ability to tolerate errors within a certain range, which allows the model to become robust.\n",
    "\n",
    "- **Input data**:\n",
    "\n",
    "    The input data of the model has been normalized.\n",
    "    \n",
    "    > Training dataset: `X_train_window_size_5` and `y_train_window_size_5`\\\n",
    "    > Validation dataset: `X_valid_window_size_5` and `y_valid_window_size_5`\\\n",
    "    > Testing dataset: `X_test_window_size_5` and `y_test_window_size_5`\n",
    "    \n",
    "- **Architecture**:\n",
    "\n",
    "    After comparing the models' performance on the validation dataset using GridSearchCV, the best combination of parameters for the Support Vector Regression model is:\n",
    "    | Parameter name    | Value  |\n",
    "    |-------------------|--------|\n",
    "    | kernel      | 'poly'    |\n",
    "    | C      | 20' |"
   ]
  },
  {
   "cell_type": "code",
   "execution_count": 16,
   "metadata": {
    "colab": {
     "base_uri": "https://localhost:8080/"
    },
    "executionInfo": {
     "elapsed": 1223316,
     "status": "ok",
     "timestamp": 1636493500552,
     "user": {
      "displayName": "Jan Faulstich",
      "photoUrl": "https://lh3.googleusercontent.com/a/default-user=s64",
      "userId": "01448353606380084380"
     },
     "user_tz": -60
    },
    "id": "DHW0WWe0iSzu",
    "outputId": "9af29986-f396-4006-bc62-8bf8c31b0182"
   },
   "outputs": [
    {
     "name": "stdout",
     "output_type": "stream",
     "text": [
      "Mean absolut error on test: 2.255148286587747\n",
      "Mean squared error on test: 21.162448708317868\n"
     ]
    }
   ],
   "source": [
    "# Modeling\n",
    "svrmodel = SVR(kernel='poly', C=20)\n",
    "svrmodel.fit(X_train_window_size_5, y_train_window_size_5)\n",
    "\n",
    "# Evaluate model performance and store it\n",
    "mae, mse = evaluate_model(svrmodel, X_test_window_size_5, y_test_window_size_5)\n",
    "\n",
    "performance_df = performance_df.append({'Model': 'Support Vector Regressor', \n",
    "                                        'MAE score (on test set)': round(mae, 4),\n",
    "                                        'MSE score (on test set)': round(mse, 4)},\n",
    "                                       ignore_index=True)"
   ]
  },
  {
   "cell_type": "markdown",
   "metadata": {
    "id": "zUYTe3RU3Bo5"
   },
   "source": [
    "- **Brief summary**:\n",
    "\n",
    "    > As shown in the cell above, the Support Vector Regression model's performance on the test dataset is 2.255 in terms of MAE.\n",
    "    \n",
    "    ___Limitations___: \n",
    "    \n",
    "    While Support Vector Regressor manages to introduce non-linearity by projecting the original dataset to a higher dimension space and does it in an effective way, it is relatively time consuming and requires much more resources compared to other models, especially when training on large datasets."
   ]
  },
  {
   "cell_type": "markdown",
   "metadata": {
    "id": "tZI9_UDkX9Wx"
   },
   "source": [
    "## KNN\n",
    "The optimal k was found doing a grid search for `range(3, 25)`. "
   ]
  },
  {
   "cell_type": "code",
   "execution_count": 17,
   "metadata": {
    "executionInfo": {
     "elapsed": 41,
     "status": "ok",
     "timestamp": 1636493500553,
     "user": {
      "displayName": "Jan Faulstich",
      "photoUrl": "https://lh3.googleusercontent.com/a/default-user=s64",
      "userId": "01448353606380084380"
     },
     "user_tz": -60
    },
    "id": "7prtvVuJYAJi"
   },
   "outputs": [],
   "source": [
    "# For this 'classic' approach, the train and valid set will be put together to make use of cross-validation.\n",
    "X_train_window_size_5_classic = X_train_window_size_5.copy().append(X_valid_window_size_5)\n",
    "y_train_window_size_5_classic = y_train_window_size_5.copy().append(y_valid_window_size_5)\n",
    "\n",
    "minmax_transformer_classic = Pipeline(steps=[('minmax', MinMaxScaler())])\n",
    "\n",
    "preprocessor_window_size_5_classic = ColumnTransformer(\n",
    "        remainder='passthrough', #passthough features not listed\n",
    "        transformers=[\n",
    "            ('mm', minmax_transformer_classic , [X_train_window_size_5_classic.columns[1], \n",
    "                                                 *[*X_train_window_size_5_classic.columns[17:]]])\n",
    "        ])\n",
    "\n",
    "preprocessor_window_size_5_classic.fit(X_train_window_size_5, y_train_window_size_5)\n",
    "X_train_window_size_5_classic_norm = preprocessor_window_size_5_classic.transform(X_train_window_size_5_classic)\n",
    "X_test_window_size_5_classic_norm = preprocessor_window_size_5_classic.transform(X_test_window_size_5)"
   ]
  },
  {
   "cell_type": "code",
   "execution_count": 18,
   "metadata": {
    "executionInfo": {
     "elapsed": 39,
     "status": "ok",
     "timestamp": 1636493500554,
     "user": {
      "displayName": "Jan Faulstich",
      "photoUrl": "https://lh3.googleusercontent.com/a/default-user=s64",
      "userId": "01448353606380084380"
     },
     "user_tz": -60
    },
    "id": "vjT9gaXtYCT4"
   },
   "outputs": [],
   "source": [
    "class Knn:\n",
    "\n",
    "    def __init__(self,\n",
    "                 X_train: pd.DataFrame,\n",
    "                 X_test: pd.DataFrame,\n",
    "                 y_train: pd.DataFrame,\n",
    "                 y_test: pd.DataFrame,\n",
    "                 k: int):\n",
    "        self.X_train = X_train\n",
    "        self.X_test = X_test\n",
    "        self.y_train = y_train\n",
    "        self.y_test = y_test\n",
    "        self.k = k\n",
    "        self.model = KNeighborsRegressor(n_neighbors=self.k, n_jobs=-1)\n",
    "        self.mae_scorer = make_scorer(mean_absolute_error)\n",
    "    \n",
    "    def get_cv_scores(self):\n",
    "        return cross_val_score(self.model, self.X_train, \n",
    "                               self.y_train, cv=5, \n",
    "                               scoring=self.mae_scorer)\n",
    "\n",
    "    def fit(self):\n",
    "        self.model.fit(self.X_train, self.y_train)\n",
    "\n",
    "    def predict(self):\n",
    "        predictions = self.model.predict(self.X_test)\n",
    "        return predictions\n",
    "\n",
    "    def go(self):\n",
    "        cv_scores = self.get_cv_scores()\n",
    "        self.fit()\n",
    "        predictions = self.predict()\n",
    "        return cv_scores, predictions, self.model"
   ]
  },
  {
   "cell_type": "code",
   "execution_count": 19,
   "metadata": {
    "executionInfo": {
     "elapsed": 54655,
     "status": "ok",
     "timestamp": 1636493555173,
     "user": {
      "displayName": "Jan Faulstich",
      "photoUrl": "https://lh3.googleusercontent.com/a/default-user=s64",
      "userId": "01448353606380084380"
     },
     "user_tz": -60
    },
    "id": "3wEmFe_FYNMo"
   },
   "outputs": [],
   "source": [
    "knn_5 = Knn(\n",
    "    X_train_window_size_5_classic_norm,\n",
    "    X_test_window_size_5_classic_norm,\n",
    "    y_train_window_size_5_classic,\n",
    "    y_test_window_size_5,\n",
    "    k=3\n",
    ")\n",
    "\n",
    "# Fit model and get cross validation scores\n",
    "knn_cv_scores_5, knn_predictions_5, knn_model_5 = knn_5.go()"
   ]
  },
  {
   "cell_type": "markdown",
   "metadata": {
    "id": "e92XHwEnYOiw"
   },
   "source": [
    "CV Scores for KNN"
   ]
  },
  {
   "cell_type": "code",
   "execution_count": 20,
   "metadata": {
    "colab": {
     "base_uri": "https://localhost:8080/"
    },
    "executionInfo": {
     "elapsed": 23,
     "status": "ok",
     "timestamp": 1636493555174,
     "user": {
      "displayName": "Jan Faulstich",
      "photoUrl": "https://lh3.googleusercontent.com/a/default-user=s64",
      "userId": "01448353606380084380"
     },
     "user_tz": -60
    },
    "id": "V8AxuFo3YPex",
    "outputId": "67dd4a6d-e651-4da3-8ae1-2fc51bdeb1aa"
   },
   "outputs": [
    {
     "data": {
      "text/plain": [
       "array([1.8916902 , 1.96246531, 2.06411225, 3.64786982, 2.38535877])"
      ]
     },
     "execution_count": 20,
     "metadata": {},
     "output_type": "execute_result"
    }
   ],
   "source": [
    "knn_cv_scores_5"
   ]
  },
  {
   "cell_type": "code",
   "execution_count": 22,
   "metadata": {
    "colab": {
     "base_uri": "https://localhost:8080/"
    },
    "executionInfo": {
     "elapsed": 507,
     "status": "ok",
     "timestamp": 1636493567754,
     "user": {
      "displayName": "Jan Faulstich",
      "photoUrl": "https://lh3.googleusercontent.com/a/default-user=s64",
      "userId": "01448353606380084380"
     },
     "user_tz": -60
    },
    "id": "M-VbCXMDMetU",
    "outputId": "d9a44839-4714-41a5-ba10-996d62e50f5d"
   },
   "outputs": [
    {
     "name": "stdout",
     "output_type": "stream",
     "text": [
      "Mean absolut error on test: 2.687419344793223\n",
      "Mean squared error on test: 23.32592340869457\n"
     ]
    }
   ],
   "source": [
    "mae, mse = evaluate_model(knn_model_5, X_test_window_size_5, y_test_window_size_5)\n",
    "\n",
    "performance_df = performance_df.append({'Model': 'K-Nearest Neighbor', \n",
    "                                        'MAE score (on test set)': round(mae, 4),\n",
    "                                        'MSE score (on test set)': round(mse, 4)},\n",
    "                                       ignore_index=True)"
   ]
  },
  {
   "cell_type": "markdown",
   "metadata": {
    "id": "XjhRxGqjKyY6"
   },
   "source": [
    "# Creating DL models\n",
    "<b>In this part, we employed multiple DL methods. </b>\n"
   ]
  },
  {
   "cell_type": "markdown",
   "metadata": {
    "id": "AsxkQOUoK3Or"
   },
   "source": [
    "## Multi-Layer Perceptron\n",
    "For the MLP, the architecture seemed to be rather irrelevant. Generally speaking, simpler architectures with less neurons seemed to work as well as more complex architectures with several hidden layers and/or a large number of neurons. In total, a few hundred neurons overall were enough. Dropout, LR Scheduling and Adam optimizer created the best results.  \n",
    "We also found that higher batch sizes decreased the MAE.  \n",
    "One interesting finding is that the performance on the validation set would not change after 2-3 epochs. Additionally, the performance on the test set was always better than the performance on the validation set."
   ]
  },
  {
   "cell_type": "code",
   "execution_count": 23,
   "metadata": {
    "executionInfo": {
     "elapsed": 240,
     "status": "ok",
     "timestamp": 1636493570510,
     "user": {
      "displayName": "Jan Faulstich",
      "photoUrl": "https://lh3.googleusercontent.com/a/default-user=s64",
      "userId": "01448353606380084380"
     },
     "user_tz": -60
    },
    "id": "ISkNpOsHLHs8"
   },
   "outputs": [],
   "source": [
    "class Mlp:\n",
    "    \"\"\"\n",
    "    Creates a multilayer-perceptron model.\n",
    "    \"\"\"\n",
    "    def __init__(self, \n",
    "                 X_train: pd.DataFrame, \n",
    "                 X_valid: pd.DataFrame, \n",
    "                 X_test: pd.DataFrame, \n",
    "                 y_train: pd.DataFrame, \n",
    "                 y_valid: pd.DataFrame, \n",
    "                 y_test: pd.DataFrame, \n",
    "                 params: dict, \n",
    "                 layers: list, \n",
    "                 dropout: bool,\n",
    "                 schedulerthresh: int,\n",
    "                 optimizer,\n",
    "                 earlystopping: int\n",
    "                 ):\n",
    "        self.X_train = X_train\n",
    "        self.X_valid = X_valid\n",
    "        self.X_test = X_test\n",
    "        self.y_train = y_train\n",
    "        self.y_valid = y_valid\n",
    "        self.y_test = y_test\n",
    "        self.params = params\n",
    "        self.layers = layers\n",
    "        self.dropout = dropout\n",
    "        self.schedulerthresh = schedulerthresh\n",
    "        self.optimizer = optimizer\n",
    "        self.earlystopping = earlystopping\n",
    "        self.model = Sequential()\n",
    "\n",
    "    def compile_model(self):\n",
    "        be.clear_session()\n",
    "        self.model.add(Input(shape=(self.X_train.shape[1])))\n",
    "        for i in range(len(self.layers)):\n",
    "            self.model.add(Dense(self.layers[i], activation=\"relu\"))\n",
    "            if self.dropout:\n",
    "                self.model.add(Dropout(rate=self.dropout))\n",
    "        self.model.add(Dense(1, activation=\"linear\"))\n",
    "        optimizer = self.optimizer\n",
    "        self.model.compile(loss='mean_absolute_error', optimizer=optimizer)\n",
    "        return self.model\n",
    "        \n",
    "    def fit_model(self):\n",
    "        callbacks = []\n",
    "        if self.scheduler:\n",
    "            callbacks.append(LearningRateScheduler(self.scheduler))\n",
    "        if self.earlystopping:\n",
    "            callbacks.append(EarlyStopping(monitor='loss', patience=self.earlystopping))\n",
    "        history = self.model.fit(x=self.X_train,y=self.y_train, \n",
    "                                 batch_size=self.params[\"BATCH_SIZE\"], \n",
    "                                 validation_data=(self.X_valid,self.y_valid), \n",
    "                                 epochs=self.params[\"EPOCHS\"], \n",
    "                                 callbacks=callbacks, \n",
    "                                 verbose=1, \n",
    "                                 shuffle=False)\n",
    "        return history, self.model\n",
    "\n",
    "    def evaluate_model(self):\n",
    "        eval_score = self.model.evaluate(self.X_test, self.y_test.to_numpy())\n",
    "        return eval_score, self.model\n",
    "\n",
    "    def predict(self):\n",
    "        return self.model.predict(self.X_test)\n",
    "      \n",
    "    def go(self):\n",
    "        self.compile_model()\n",
    "        history, _ = self.fit_model()\n",
    "        eval_score, _ = self.evaluate_model()\n",
    "        predictions = self.predict()\n",
    "        return history, eval_score, predictions, self.model\n",
    "        \n",
    "    def scheduler(self, epoch, lr):\n",
    "        if self.schedulerthresh:\n",
    "            thresh = self.schedulerthresh\n",
    "        else:\n",
    "            thresh = 5\n",
    "        if epoch < thresh:\n",
    "            return lr\n",
    "        else:\n",
    "            return lr*exp(-0.1)\n"
   ]
  },
  {
   "cell_type": "markdown",
   "metadata": {
    "id": "T-j0UgAFYZ0E"
   },
   "source": [
    "### Creating best model for MLP"
   ]
  },
  {
   "cell_type": "code",
   "execution_count": 24,
   "metadata": {
    "colab": {
     "base_uri": "https://localhost:8080/"
    },
    "executionInfo": {
     "elapsed": 14149,
     "status": "ok",
     "timestamp": 1636493586808,
     "user": {
      "displayName": "Jan Faulstich",
      "photoUrl": "https://lh3.googleusercontent.com/a/default-user=s64",
      "userId": "01448353606380084380"
     },
     "user_tz": -60
    },
    "id": "wBuXPTtcYaiD",
    "outputId": "0bf78f5c-9d9d-4444-cbf2-8d546f36d382"
   },
   "outputs": [
    {
     "name": "stdout",
     "output_type": "stream",
     "text": [
      "Epoch 1/10\n",
      "45/45 [==============================] - 3s 12ms/step - loss: 848.6163 - val_loss: 5.7091 - lr: 5.0000e-04\n",
      "Epoch 2/10\n",
      "45/45 [==============================] - 0s 6ms/step - loss: 43.8270 - val_loss: 2.5556 - lr: 5.0000e-04\n",
      "Epoch 3/10\n",
      "45/45 [==============================] - 0s 6ms/step - loss: 6.3598 - val_loss: 2.5552 - lr: 5.0000e-04\n",
      "Epoch 4/10\n",
      "45/45 [==============================] - 0s 6ms/step - loss: 4.0672 - val_loss: 2.5551 - lr: 5.0000e-04\n",
      "Epoch 5/10\n",
      "45/45 [==============================] - 0s 6ms/step - loss: 3.2134 - val_loss: 2.5551 - lr: 5.0000e-04\n",
      "Epoch 6/10\n",
      "45/45 [==============================] - 0s 6ms/step - loss: 2.7473 - val_loss: 2.5551 - lr: 4.5242e-04\n",
      "Epoch 7/10\n",
      "45/45 [==============================] - 0s 6ms/step - loss: 2.6071 - val_loss: 2.5552 - lr: 4.0937e-04\n",
      "Epoch 8/10\n",
      "45/45 [==============================] - 0s 6ms/step - loss: 2.3839 - val_loss: 2.5553 - lr: 3.7041e-04\n",
      "Epoch 9/10\n",
      "45/45 [==============================] - 0s 6ms/step - loss: 2.3046 - val_loss: 2.5554 - lr: 3.3516e-04\n",
      "Epoch 10/10\n",
      "45/45 [==============================] - 0s 6ms/step - loss: 2.2794 - val_loss: 2.5554 - lr: 3.0327e-04\n",
      "335/335 [==============================] - 1s 3ms/step - loss: 2.2550\n"
     ]
    }
   ],
   "source": [
    "params = {\n",
    "    \"BATCH_SIZE\": 2048, \n",
    "    \"EPOCHS\": 10, \n",
    "    \"LEARNING_RATE\": 0.0005}\n",
    "layers = [300, 100]\n",
    "dropout = 0.25\n",
    "scheduler = 5\n",
    "optimizer = Adam(learning_rate=0.0005)\n",
    "earlystopping = 3\n",
    "\n",
    "mlp_5 = Mlp(\n",
    "    X_train_window_size_5,\n",
    "    X_valid_window_size_5,\n",
    "    X_test_window_size_5,\n",
    "    y_train_window_size_5,\n",
    "    y_valid_window_size_5,\n",
    "    y_test_window_size_5,\n",
    "    params,\n",
    "    layers,\n",
    "    dropout,\n",
    "    scheduler,\n",
    "    optimizer,\n",
    "    earlystopping\n",
    ")\n",
    "\n",
    "# Fit the model\n",
    "mlp_history_5, mlp_eval_score_5, mlp_predictions_5, mlp_model_5 = mlp_5.go()"
   ]
  },
  {
   "cell_type": "code",
   "execution_count": 25,
   "metadata": {
    "colab": {
     "base_uri": "https://localhost:8080/",
     "height": 295
    },
    "executionInfo": {
     "elapsed": 541,
     "status": "ok",
     "timestamp": 1636493587347,
     "user": {
      "displayName": "Jan Faulstich",
      "photoUrl": "https://lh3.googleusercontent.com/a/default-user=s64",
      "userId": "01448353606380084380"
     },
     "user_tz": -60
    },
    "id": "ip9t5h2mYjU-",
    "outputId": "cdb7fd14-5abe-4d14-b5b7-04b849c014b8"
   },
   "outputs": [
    {
     "data": {
      "image/png": "[encoded data removed]",
      "text/plain": [
       "<Figure size 432x288 with 1 Axes>"
      ]
     },
     "metadata": {
      "needs_background": "light"
     },
     "output_type": "display_data"
    }
   ],
   "source": [
    "loss_values = mlp_history_5.history['loss']\n",
    "val_loss_values = mlp_history_5.history['val_loss']\n",
    "epochs = range(1, len(loss_values)+1)\n",
    "\n",
    "plt.plot(epochs, loss_values, label='Training Loss')\n",
    "plt.plot(epochs, val_loss_values, label='Validation Loss')\n",
    "\n",
    "plt.title(\"Compiling history of MLP model\")\n",
    "plt.xlabel('Epochs')\n",
    "plt.ylabel('Loss')\n",
    "plt.legend()\n",
    "\n",
    "plt.show()"
   ]
  },
  {
   "cell_type": "markdown",
   "metadata": {
    "id": "v4ENdvgzYcpd"
   },
   "source": [
    "Evaluation Score of MLP"
   ]
  },
  {
   "cell_type": "code",
   "execution_count": 26,
   "metadata": {
    "colab": {
     "base_uri": "https://localhost:8080/"
    },
    "executionInfo": {
     "elapsed": 4,
     "status": "ok",
     "timestamp": 1636493587347,
     "user": {
      "displayName": "Jan Faulstich",
      "photoUrl": "https://lh3.googleusercontent.com/a/default-user=s64",
      "userId": "01448353606380084380"
     },
     "user_tz": -60
    },
    "id": "cXFYaw51Ydo8",
    "outputId": "891f1ce3-d815-43fb-855f-0c89179c4650"
   },
   "outputs": [
    {
     "name": "stdout",
     "output_type": "stream",
     "text": [
      "Mean absolut error on test: 2.2549593448638916\n"
     ]
    }
   ],
   "source": [
    "# Evaluate model performance and store it\n",
    "print(f\"Mean absolut error on test: {mlp_eval_score_5}\")\n",
    "performance_df = performance_df.append({'Model': 'Mulit-Layer Perceptron', \n",
    "                                        'MAE score (on test set)': round(mlp_eval_score_5, 4)},\n",
    "                                       ignore_index=True)"
   ]
  },
  {
   "cell_type": "markdown",
   "metadata": {
    "id": "r8uTHXoaK9aK"
   },
   "source": [
    "## Load 3D data for Recurrent Neural Networks"
   ]
  },
  {
   "cell_type": "code",
   "execution_count": 27,
   "metadata": {
    "executionInfo": {
     "elapsed": 2726,
     "status": "ok",
     "timestamp": 1636493590071,
     "user": {
      "displayName": "Jan Faulstich",
      "photoUrl": "https://lh3.googleusercontent.com/a/default-user=s64",
      "userId": "01448353606380084380"
     },
     "user_tz": -60
    },
    "id": "EZfZkUsKY1aJ"
   },
   "outputs": [],
   "source": [
    "# Write code to load the pickles\n",
    "pkl_file = open(\"X_train_unflatten_all_5\", 'rb')\n",
    "X_train_unflatten_all_5 = pickle.load(pkl_file)\n",
    "\n",
    "pkl_file = open(\"X_valid_unflatten_all_5\", 'rb')\n",
    "X_valid_unflatten_all_5 = pickle.load(pkl_file)\n",
    "\n",
    "pkl_file = open(\"X_test_unflatten_all_5\", 'rb')\n",
    "X_test_unflatten_all_5 = pickle.load(pkl_file)"
   ]
  },
  {
   "cell_type": "markdown",
   "metadata": {
    "id": "2Fc9q7et3Bo-"
   },
   "source": [
    "## Convolutional Neural Network\n",
    "- **Intro**:\n",
    "\n",
    "   A Convolutional Neural Network model involves multiple filters that can be used to capture complex patterns in the datasets. One of its distinct features is its parameter sharing, which can greatly increase its efficiency.\n",
    "\n",
    "- **Input data**:\n",
    "\n",
    "    The input data of the model has been normalized and rolled into a form of 3D data.\n",
    "    \n",
    "    > Training dataset: `X_train_unflatten_all_5` and `y_train_window_size_5`\\\n",
    "    > Validation dataset: `X_valid_unflatten_all_5` and `y_valid_window_size_5`\\\n",
    "    > Testing dataset: `X_test_unflatten_all_5` and `y_test_window_size_5`\n",
    "    \n",
    "- **Architecture**:\n",
    "\n",
    "    When increasing the complexity of the model (whether by increasing the number of hidden layers or the number of hidden cells), its performance doesn't seem to change. With various experiments, we have arrived at a relatively simple structure that yields similar results to its more complicated alternatives: 2 pairs of Convolutional layers and Max Pooling layers, followed by 2 pairs of fully connected layers and dropout layers."
   ]
  },
  {
   "cell_type": "code",
   "execution_count": 28,
   "metadata": {
    "executionInfo": {
     "elapsed": 2,
     "status": "ok",
     "timestamp": 1636493590071,
     "user": {
      "displayName": "Jan Faulstich",
      "photoUrl": "https://lh3.googleusercontent.com/a/default-user=s64",
      "userId": "01448353606380084380"
     },
     "user_tz": -60
    },
    "id": "4ECBzg9j3Bo-"
   },
   "outputs": [],
   "source": [
    "n_hidden_layers = 2\n",
    "hidden_layer_size = 40\n",
    "dropout_rate = 0\n",
    "\n",
    "BATCH_SIZE = 100\n",
    "EPOCHS = 20"
   ]
  },
  {
   "cell_type": "code",
   "execution_count": 29,
   "metadata": {
    "colab": {
     "base_uri": "https://localhost:8080/"
    },
    "executionInfo": {
     "elapsed": 282,
     "status": "ok",
     "timestamp": 1636493590351,
     "user": {
      "displayName": "Jan Faulstich",
      "photoUrl": "https://lh3.googleusercontent.com/a/default-user=s64",
      "userId": "01448353606380084380"
     },
     "user_tz": -60
    },
    "id": "UcpbVehM3Bo-",
    "outputId": "24b07c12-a832-4a81-be7a-ea92e03286c8"
   },
   "outputs": [
    {
     "name": "stdout",
     "output_type": "stream",
     "text": [
      "Model: \"model\"\n",
      "_________________________________________________________________\n",
      " Layer (type)                Output Shape              Param #   \n",
      "=================================================================\n",
      " input_1 (InputLayer)        [(None, 4, 22)]           0         \n",
      "                                                                 \n",
      " conv1d (Conv1D)             (None, 4, 5)              225       \n",
      "                                                                 \n",
      " max_pooling1d (MaxPooling1D  (None, 3, 5)             0         \n",
      " )                                                               \n",
      "                                                                 \n",
      " conv1d_1 (Conv1D)           (None, 3, 5)              55        \n",
      "                                                                 \n",
      " max_pooling1d_1 (MaxPooling  (None, 2, 5)             0         \n",
      " 1D)                                                             \n",
      "                                                                 \n",
      " dense (Dense)               (None, 2, 100)            600       \n",
      "                                                                 \n",
      " dropout (Dropout)           (None, 2, 100)            0         \n",
      "                                                                 \n",
      " dense_1 (Dense)             (None, 2, 100)            10100     \n",
      "                                                                 \n",
      " dropout_1 (Dropout)         (None, 2, 100)            0         \n",
      "                                                                 \n",
      " dense_2 (Dense)             (None, 2, 1)              101       \n",
      "                                                                 \n",
      "=================================================================\n",
      "Total params: 11,081\n",
      "Trainable params: 11,081\n",
      "Non-trainable params: 0\n",
      "_________________________________________________________________\n"
     ]
    }
   ],
   "source": [
    "tf.compat.v1.reset_default_graph()\n",
    "be.clear_session()\n",
    "\n",
    "# Define regularizer and initializer\n",
    "regularizer = tf.keras.regularizers.L2(2.)\n",
    "initializer = tf.keras.initializers.RandomUniform()\n",
    "\n",
    "input_shape = np.shape(X_train_unflatten_all_5)\n",
    "column_count = input_shape[2]\n",
    "\n",
    "input_layer=Input(shape=(input_shape[1], column_count))\n",
    "cur_last_layer = input_layer\n",
    "\n",
    "for l in range(n_hidden_layers):\n",
    "    cnn_layer=Conv1D(filters=5, kernel_size=2, \n",
    "                     input_shape=input_shape[1:],\n",
    "                     padding='same',\n",
    "                     kernel_initializer=initializer,\n",
    "                     kernel_regularizer=regularizer)(cur_last_layer)\n",
    "    pool = MaxPool1D(pool_size=2, strides=1)(cnn_layer)\n",
    "    cur_last_layer=pool\n",
    "\n",
    "for l in range(n_hidden_layers):\n",
    "    dense = Dense(100, activation='tanh')(cur_last_layer)\n",
    "    dropout_layer = Dropout(dropout_rate)(dense)\n",
    "    cur_last_layer=dropout_layer\n",
    "\n",
    "predictions=Dense(1)(cur_last_layer)\n",
    "\n",
    "cnn_model=Model(inputs=input_layer, outputs=predictions)\n",
    "cnn_model.summary()"
   ]
  },
  {
   "cell_type": "code",
   "execution_count": 30,
   "metadata": {
    "colab": {
     "base_uri": "https://localhost:8080/"
    },
    "executionInfo": {
     "elapsed": 202922,
     "status": "ok",
     "timestamp": 1636493793270,
     "user": {
      "displayName": "Jan Faulstich",
      "photoUrl": "https://lh3.googleusercontent.com/a/default-user=s64",
      "userId": "01448353606380084380"
     },
     "user_tz": -60
    },
    "id": "AD256EDmLPOq",
    "outputId": "2877465a-ec02-406f-96dc-9caa45e51aa3"
   },
   "outputs": [
    {
     "name": "stdout",
     "output_type": "stream",
     "text": [
      "Epoch 1/20\n",
      "916/916 [==============================] - 35s 8ms/step - loss: 1.7759 - val_loss: 2.5556\n",
      "Epoch 2/20\n",
      "916/916 [==============================] - 7s 7ms/step - loss: 1.7710 - val_loss: 2.5552\n",
      "Epoch 3/20\n",
      "916/916 [==============================] - 7s 7ms/step - loss: 1.7709 - val_loss: 2.5553\n",
      "Epoch 4/20\n",
      "916/916 [==============================] - 7s 7ms/step - loss: 1.7709 - val_loss: 2.5552\n",
      "Epoch 5/20\n",
      "916/916 [==============================] - 7s 7ms/step - loss: 1.7708 - val_loss: 2.5552\n",
      "Epoch 6/20\n",
      "916/916 [==============================] - 7s 7ms/step - loss: 1.7709 - val_loss: 2.5552\n",
      "Epoch 7/20\n",
      "916/916 [==============================] - 7s 7ms/step - loss: 1.7708 - val_loss: 2.5552\n",
      "Epoch 8/20\n",
      "916/916 [==============================] - 7s 7ms/step - loss: 1.7709 - val_loss: 2.5552\n",
      "Epoch 9/20\n",
      "916/916 [==============================] - 7s 7ms/step - loss: 1.7709 - val_loss: 2.5552\n",
      "Epoch 10/20\n",
      "916/916 [==============================] - 7s 7ms/step - loss: 1.7708 - val_loss: 2.5552\n",
      "Epoch 11/20\n",
      "916/916 [==============================] - 7s 7ms/step - loss: 1.7709 - val_loss: 2.5552\n",
      "Epoch 12/20\n",
      "916/916 [==============================] - 7s 7ms/step - loss: 1.7709 - val_loss: 2.5551\n",
      "Epoch 13/20\n",
      "916/916 [==============================] - 7s 7ms/step - loss: 1.7709 - val_loss: 2.5552\n",
      "Epoch 14/20\n",
      "916/916 [==============================] - 7s 7ms/step - loss: 1.7708 - val_loss: 2.5552\n",
      "Epoch 15/20\n",
      "916/916 [==============================] - 7s 7ms/step - loss: 1.7709 - val_loss: 2.5552\n",
      "Epoch 16/20\n",
      "916/916 [==============================] - 7s 8ms/step - loss: 1.7709 - val_loss: 2.5551\n",
      "Epoch 17/20\n",
      "916/916 [==============================] - 7s 8ms/step - loss: 1.7708 - val_loss: 2.5552\n",
      "Epoch 18/20\n",
      "916/916 [==============================] - 7s 8ms/step - loss: 1.7708 - val_loss: 2.5552\n",
      "Epoch 19/20\n",
      "916/916 [==============================] - 7s 8ms/step - loss: 1.7709 - val_loss: 2.5553\n",
      "Epoch 20/20\n",
      "916/916 [==============================] - 7s 8ms/step - loss: 1.7709 - val_loss: 2.5552\n"
     ]
    }
   ],
   "source": [
    "optimizer = Adam(learning_rate=0.0018)\n",
    "\n",
    "cnn_model.compile(loss='mean_absolute_error', optimizer=optimizer)\n",
    "\n",
    "cnn_history = cnn_model.fit(X_train_unflatten_all_5, y_train_window_size_5,\n",
    "                            validation_data=(X_valid_unflatten_all_5, y_valid_window_size_5),\n",
    "                            epochs=EPOCHS,\n",
    "                            batch_size=BATCH_SIZE)"
   ]
  },
  {
   "cell_type": "code",
   "execution_count": 31,
   "metadata": {
    "colab": {
     "base_uri": "https://localhost:8080/",
     "height": 295
    },
    "executionInfo": {
     "elapsed": 320,
     "status": "ok",
     "timestamp": 1636493793574,
     "user": {
      "displayName": "Jan Faulstich",
      "photoUrl": "https://lh3.googleusercontent.com/a/default-user=s64",
      "userId": "01448353606380084380"
     },
     "user_tz": -60
    },
    "id": "OuEgtB5rLhzE",
    "outputId": "a78ca92b-752e-4e09-f0e2-8fc69e321b5a"
   },
   "outputs": [
    {
     "data": {
      "image/png": "[encoded data removed]",
      "text/plain": [
       "<Figure size 432x288 with 1 Axes>"
      ]
     },
     "metadata": {
      "needs_background": "light"
     },
     "output_type": "display_data"
    }
   ],
   "source": [
    "loss_values = cnn_history.history['loss']\n",
    "val_loss_values = cnn_history.history['val_loss']\n",
    "epochs = range(1, len(loss_values)+1)\n",
    "\n",
    "plt.plot(epochs, loss_values, label='Training Loss')\n",
    "plt.plot(epochs, val_loss_values, label='Validation Loss')\n",
    "\n",
    "plt.title(\"Compiling history of CNN model\")\n",
    "plt.xlabel('Epochs')\n",
    "plt.ylabel('Loss')\n",
    "plt.legend()\n",
    "\n",
    "plt.show()"
   ]
  },
  {
   "cell_type": "code",
   "execution_count": 35,
   "metadata": {
    "colab": {
     "base_uri": "https://localhost:8080/"
    },
    "executionInfo": {
     "elapsed": 3010,
     "status": "ok",
     "timestamp": 1636493948536,
     "user": {
      "displayName": "Jan Faulstich",
      "photoUrl": "https://lh3.googleusercontent.com/a/default-user=s64",
      "userId": "01448353606380084380"
     },
     "user_tz": -60
    },
    "id": "DOCNIs7D3Bo-",
    "outputId": "4c75cbd2-f129-4f6b-e604-9a0ebd9510ad"
   },
   "outputs": [
    {
     "name": "stdout",
     "output_type": "stream",
     "text": [
      "Mean absolut error on test: 2.255152949612842\n"
     ]
    }
   ],
   "source": [
    "# Evaluate model performance and store it\n",
    "mae, mse = evaluate_3Dmodel(cnn_model, X_test_unflatten_all_5, y_test_window_size_5)\n",
    "performance_df = performance_df.append({'Model': 'CNN', \n",
    "                                        'MAE score (on test set)': round(mae, 4),\n",
    "                                        'MSE score (on test set)': round(mse, 4)},\n",
    "                                       ignore_index=True)"
   ]
  },
  {
   "cell_type": "markdown",
   "metadata": {
    "id": "rVTqYWP23Bo-"
   },
   "source": [
    "- **Brief summary**:\n",
    "\n",
    "    > As shown in the cell above, the performance of the CNN on the test dataset is 2.255 in terms of MAE.\n",
    "    \n",
    "    ___Limitations___: \n",
    "    \n",
    "    Generally, it is more common to use CNN in image related problems, therefore, it's not surprising that the model cannot achieve high performance here. Moreover, considering the dimensionality of the data fed into the neural network (with a window size of 5 and therefore 4 \"time steps\"), the size of kernel that can be used is rather limited."
   ]
  },
  {
   "cell_type": "markdown",
   "metadata": {
    "id": "wId3Iw9FLR5F"
   },
   "source": [
    "## Recurrent Neural Network"
   ]
  },
  {
   "cell_type": "markdown",
   "metadata": {
    "id": "87a_H89E3Bo_"
   },
   "source": [
    "### LSTM: Long- Short-Term Memory\n",
    "\n",
    "- **Intro**:\n",
    "\n",
    "   A Long- Short-Term Memory model is a type of Recurrent Neural Network that is often used for sequence data such as in time-series and NLP problems. By introducing an additional vector, i.e., the cell state, the model is able to store important information of the past that is helpful for the prediction of the current state (or forget useless information when needed). Since the task we have involve time series data, LSTM seems to be a natural candidate for achieving high performance.\n",
    "\n",
    "- **Input data**:\n",
    "\n",
    "    The input data of the model has been normalized and rolled into a form of 3D data.\n",
    "    \n",
    "    > Training dataset: `X_train_unflatten_all_5` and `y_train_window_size_5`\\\n",
    "    > Validation dataset: `X_valid_unflatten_all_5` and `y_valid_window_size_5`\\\n",
    "    > Testing dataset: `X_test_unflatten_all_5` and `y_test_window_size_5`\n",
    "    \n",
    "- **Architecture**:\n",
    "\n",
    "    When increasing the complexity of the model (whether by increasing the number of hidden layers or the number of hidden cells), its performance doesn't seem to change. Below is one of the structures that yields similar results to its alternatives, with 3 pairs of LSTM layers and dropout layers followed by 3 pairs of fully connected layers and dropout layers."
   ]
  },
  {
   "cell_type": "code",
   "execution_count": 36,
   "metadata": {
    "executionInfo": {
     "elapsed": 177,
     "status": "ok",
     "timestamp": 1636493955026,
     "user": {
      "displayName": "Jan Faulstich",
      "photoUrl": "https://lh3.googleusercontent.com/a/default-user=s64",
      "userId": "01448353606380084380"
     },
     "user_tz": -60
    },
    "id": "m77mxYiI3Bo_"
   },
   "outputs": [],
   "source": [
    "n_hidden_layers = 3\n",
    "hidden_layer_size = 300\n",
    "dropout_rate = 0.25\n",
    "\n",
    "BATCH_SIZE = 500\n",
    "EPOCHS = 20"
   ]
  },
  {
   "cell_type": "code",
   "execution_count": 37,
   "metadata": {
    "colab": {
     "base_uri": "https://localhost:8080/"
    },
    "executionInfo": {
     "elapsed": 1698,
     "status": "ok",
     "timestamp": 1636493957483,
     "user": {
      "displayName": "Jan Faulstich",
      "photoUrl": "https://lh3.googleusercontent.com/a/default-user=s64",
      "userId": "01448353606380084380"
     },
     "user_tz": -60
    },
    "id": "etp0Ev4v3Bo_",
    "outputId": "b940f033-9e46-45f9-afbb-86ce7d3e022e"
   },
   "outputs": [
    {
     "name": "stdout",
     "output_type": "stream",
     "text": [
      "Model: \"model\"\n",
      "_________________________________________________________________\n",
      " Layer (type)                Output Shape              Param #   \n",
      "=================================================================\n",
      " input_1 (InputLayer)        [(None, 4, 22)]           0         \n",
      "                                                                 \n",
      " lstm (LSTM)                 (None, 4, 300)            387600    \n",
      "                                                                 \n",
      " dropout (Dropout)           (None, 4, 300)            0         \n",
      "                                                                 \n",
      " lstm_1 (LSTM)               (None, 4, 300)            721200    \n",
      "                                                                 \n",
      " dropout_1 (Dropout)         (None, 4, 300)            0         \n",
      "                                                                 \n",
      " lstm_2 (LSTM)               (None, 4, 300)            721200    \n",
      "                                                                 \n",
      " dropout_2 (Dropout)         (None, 4, 300)            0         \n",
      "                                                                 \n",
      " dense (Dense)               (None, 4, 100)            30100     \n",
      "                                                                 \n",
      " dropout_3 (Dropout)         (None, 4, 100)            0         \n",
      "                                                                 \n",
      " dense_1 (Dense)             (None, 4, 100)            10100     \n",
      "                                                                 \n",
      " dropout_4 (Dropout)         (None, 4, 100)            0         \n",
      "                                                                 \n",
      " dense_2 (Dense)             (None, 4, 100)            10100     \n",
      "                                                                 \n",
      " dropout_5 (Dropout)         (None, 4, 100)            0         \n",
      "                                                                 \n",
      " dense_3 (Dense)             (None, 4, 1)              101       \n",
      "                                                                 \n",
      "=================================================================\n",
      "Total params: 1,880,401\n",
      "Trainable params: 1,880,401\n",
      "Non-trainable params: 0\n",
      "_________________________________________________________________\n"
     ]
    }
   ],
   "source": [
    "tf.compat.v1.reset_default_graph()\n",
    "be.clear_session()\n",
    "\n",
    "input_shape[2]\n",
    "column_count = np.shape(X_train_unflatten_all_5)[2]\n",
    "\n",
    "input_layer=Input(shape=(np.shape(X_train_unflatten_all_5)[1], column_count))\n",
    "cur_last_layer=input_layer\n",
    "\n",
    "for l in range(n_hidden_layers):\n",
    "    hidden_layer=LSTM(hidden_layer_size, return_sequences=True)(cur_last_layer)\n",
    "    dropout_layer = Dropout(0.5)(hidden_layer)\n",
    "    cur_last_layer=dropout_layer\n",
    "\n",
    "for l in range(n_hidden_layers):\n",
    "    dense = Dense(100, activation='tanh')(cur_last_layer)\n",
    "    dropout_layer = Dropout(dropout_rate)(dense)\n",
    "    cur_last_layer=dropout_layer\n",
    "\n",
    "predictions=Dense(1)(cur_last_layer)\n",
    "\n",
    "lstm_model=Model(inputs=input_layer, outputs=predictions)\n",
    "lstm_model.summary()"
   ]
  },
  {
   "cell_type": "code",
   "execution_count": 38,
   "metadata": {
    "colab": {
     "base_uri": "https://localhost:8080/"
    },
    "executionInfo": {
     "elapsed": 148717,
     "status": "ok",
     "timestamp": 1636494106197,
     "user": {
      "displayName": "Jan Faulstich",
      "photoUrl": "https://lh3.googleusercontent.com/a/default-user=s64",
      "userId": "01448353606380084380"
     },
     "user_tz": -60
    },
    "id": "AB96ZXTj3Bo_",
    "outputId": "073fa0e3-f6a8-4e3d-e32d-753458613063"
   },
   "outputs": [
    {
     "name": "stdout",
     "output_type": "stream",
     "text": [
      "Epoch 1/20\n",
      "184/184 [==============================] - 16s 46ms/step - loss: 1.8461 - val_loss: 2.5578\n",
      "Epoch 2/20\n",
      "184/184 [==============================] - 7s 36ms/step - loss: 1.7717 - val_loss: 2.5898\n",
      "Epoch 3/20\n",
      "184/184 [==============================] - 7s 35ms/step - loss: 1.7719 - val_loss: 2.5576\n",
      "Epoch 4/20\n",
      "184/184 [==============================] - 7s 35ms/step - loss: 1.7715 - val_loss: 2.5619\n",
      "Epoch 5/20\n",
      "184/184 [==============================] - 7s 35ms/step - loss: 1.7715 - val_loss: 2.5559\n",
      "Epoch 6/20\n",
      "184/184 [==============================] - 7s 36ms/step - loss: 1.7716 - val_loss: 2.5580\n",
      "Epoch 7/20\n",
      "184/184 [==============================] - 7s 36ms/step - loss: 1.7714 - val_loss: 2.5555\n",
      "Epoch 8/20\n",
      "184/184 [==============================] - 7s 35ms/step - loss: 1.7714 - val_loss: 2.5566\n",
      "Epoch 9/20\n",
      "184/184 [==============================] - 7s 35ms/step - loss: 1.7713 - val_loss: 2.5558\n",
      "Epoch 10/20\n",
      "184/184 [==============================] - 7s 35ms/step - loss: 1.7714 - val_loss: 2.5552\n",
      "Epoch 11/20\n",
      "184/184 [==============================] - 7s 35ms/step - loss: 1.7713 - val_loss: 2.5570\n",
      "Epoch 12/20\n",
      "184/184 [==============================] - 7s 35ms/step - loss: 1.7714 - val_loss: 2.5567\n",
      "Epoch 13/20\n",
      "184/184 [==============================] - 7s 35ms/step - loss: 1.7714 - val_loss: 2.5560\n",
      "Epoch 14/20\n",
      "184/184 [==============================] - 6s 35ms/step - loss: 1.7714 - val_loss: 2.5564\n",
      "Epoch 15/20\n",
      "184/184 [==============================] - 6s 35ms/step - loss: 1.7714 - val_loss: 2.5558\n",
      "Epoch 16/20\n",
      "184/184 [==============================] - 6s 35ms/step - loss: 1.7713 - val_loss: 2.5555\n",
      "Epoch 17/20\n",
      "184/184 [==============================] - 7s 36ms/step - loss: 1.7714 - val_loss: 2.5561\n",
      "Epoch 18/20\n",
      "184/184 [==============================] - 7s 35ms/step - loss: 1.7714 - val_loss: 2.5555\n",
      "Epoch 19/20\n",
      "184/184 [==============================] - 7s 35ms/step - loss: 1.7713 - val_loss: 2.5565\n",
      "Epoch 20/20\n",
      "184/184 [==============================] - 6s 35ms/step - loss: 1.7714 - val_loss: 2.5557\n"
     ]
    }
   ],
   "source": [
    "optimizer = RMSprop(learning_rate=0.005)\n",
    "lstm_model.compile(loss='mean_absolute_error', optimizer=optimizer)\n",
    "\n",
    "lstm_history = lstm_model.fit(X_train_unflatten_all_5, y_train_window_size_5,\n",
    "                              validation_data=(X_valid_unflatten_all_5, y_valid_window_size_5),\n",
    "                              epochs=EPOCHS,\n",
    "                              batch_size=BATCH_SIZE)"
   ]
  },
  {
   "cell_type": "code",
   "execution_count": 39,
   "metadata": {
    "colab": {
     "base_uri": "https://localhost:8080/",
     "height": 295
    },
    "executionInfo": {
     "elapsed": 421,
     "status": "ok",
     "timestamp": 1636494106592,
     "user": {
      "displayName": "Jan Faulstich",
      "photoUrl": "https://lh3.googleusercontent.com/a/default-user=s64",
      "userId": "01448353606380084380"
     },
     "user_tz": -60
    },
    "id": "xEwdAqq83Bo_",
    "outputId": "022dfddc-c87b-4122-9efd-6c5ffd2ecd9c"
   },
   "outputs": [
    {
     "data": {
      "image/png": "[encoded data removed]",
      "text/plain": [
       "<Figure size 432x288 with 1 Axes>"
      ]
     },
     "metadata": {
      "needs_background": "light"
     },
     "output_type": "display_data"
    }
   ],
   "source": [
    "loss_values = lstm_history.history['loss']\n",
    "val_loss_values = lstm_history.history['val_loss']\n",
    "epochs = range(1, len(loss_values)+1)\n",
    "\n",
    "plt.plot(epochs, loss_values, label='Training Loss')\n",
    "plt.plot(epochs, val_loss_values, label='Validation Loss')\n",
    "\n",
    "plt.title(\"Compiling history of LSTM model\")\n",
    "plt.xlabel('Epochs')\n",
    "plt.ylabel('Loss')\n",
    "plt.legend()\n",
    "\n",
    "plt.show()"
   ]
  },
  {
   "cell_type": "code",
   "execution_count": 41,
   "metadata": {
    "colab": {
     "base_uri": "https://localhost:8080/"
    },
    "executionInfo": {
     "elapsed": 4180,
     "status": "ok",
     "timestamp": 1636494138057,
     "user": {
      "displayName": "Jan Faulstich",
      "photoUrl": "https://lh3.googleusercontent.com/a/default-user=s64",
      "userId": "01448353606380084380"
     },
     "user_tz": -60
    },
    "id": "YxnEx9Wb3Bo_",
    "outputId": "89b78088-2710-4b4a-8bcb-7fb589af307c"
   },
   "outputs": [
    {
     "name": "stdout",
     "output_type": "stream",
     "text": [
      "Mean absolut error on test: 2.2557934026838153\n"
     ]
    }
   ],
   "source": [
    "# Evaluate model performance and store it\n",
    "\n",
    "mae, mse = evaluate_3Dmodel(lstm_model, X_test_unflatten_all_5, y_test_window_size_5)\n",
    "performance_df = performance_df.append({'Model': 'LSTM', \n",
    "                                        'MAE score (on test set)': round(mae, 4),\n",
    "                                        'MSE score (on test set)': round(mse, 4)},\n",
    "                                       ignore_index=True)"
   ]
  },
  {
   "cell_type": "markdown",
   "metadata": {
    "id": "vqlK2cbw3Bo_"
   },
   "source": [
    "- **Brief summary**:\n",
    "\n",
    "    > As shown in the cell above, the LSTM model's performance on the test dataset is 2.256 in terms of MAE.\n",
    "    \n",
    "    ___Limitations___: \n",
    "    \n",
    "    While the structure of LSTM, especially the introduction of the cell state, allows it to process sequence data better, again, as mentioned above, due to the limitation caused by dimensionality of the input data (with a window size of 5 and therefore 4 \"time steps\"), the maximum context information that the neural network can store in the cell state is restricted, which is possibly the reason why the network fails to learn much additional information and predict better compared to other models shown above."
   ]
  },
  {
   "cell_type": "markdown",
   "metadata": {
    "id": "9wb_A92G3BpA"
   },
   "source": [
    "### Gated Recurrent Unit\n",
    "\n",
    "- **Intro**:\n",
    "\n",
    "   A Gated Recurrent Unit model is another type of Recurrent Neural Network. Compared to LSTM, a GRU neural network has fewer gates and parameters and therefore is more efficient to train.\n",
    "\n",
    "- **Input data**:\n",
    "\n",
    "    The input data of the model has been normalized and rolled into a form of 3D data.\n",
    "    \n",
    "    > Training dataset: `X_train_unflatten_all_5` and `y_train_window_size_5`\\\n",
    "    > Validation dataset: `X_valid_unflatten_all_5` and `y_valid_window_size_5`\\\n",
    "    > Testing dataset: `X_test_unflatten_all_5` and `y_test_window_size_5`\n",
    "    \n",
    "- **Architecture**:\n",
    "\n",
    "    When increasing the complexity of the model (whether by increasing the number of hidden layers or the number of hidden cells), its performance doesn't seem to change. Below is one of the structures that yields similar results to its alternatives, with 2 GRU layers followed by 2 pairs of fully connected layers and dropout layers."
   ]
  },
  {
   "cell_type": "code",
   "execution_count": 42,
   "metadata": {
    "executionInfo": {
     "elapsed": 206,
     "status": "ok",
     "timestamp": 1636494140943,
     "user": {
      "displayName": "Jan Faulstich",
      "photoUrl": "https://lh3.googleusercontent.com/a/default-user=s64",
      "userId": "01448353606380084380"
     },
     "user_tz": -60
    },
    "id": "OHpHUPfB3BpA"
   },
   "outputs": [],
   "source": [
    "n_hidden_layers = 2\n",
    "hidden_layer_size = 200\n",
    "dropout_rate = 0.5\n",
    "\n",
    "BATCH_SIZE = 300\n",
    "EPOCHS = 20"
   ]
  },
  {
   "cell_type": "code",
   "execution_count": 43,
   "metadata": {
    "colab": {
     "base_uri": "https://localhost:8080/"
    },
    "executionInfo": {
     "elapsed": 797,
     "status": "ok",
     "timestamp": 1636494142411,
     "user": {
      "displayName": "Jan Faulstich",
      "photoUrl": "https://lh3.googleusercontent.com/a/default-user=s64",
      "userId": "01448353606380084380"
     },
     "user_tz": -60
    },
    "id": "uvKy-7z13BpA",
    "outputId": "c329553e-e532-4995-ac75-1cf52f59bc02"
   },
   "outputs": [
    {
     "name": "stdout",
     "output_type": "stream",
     "text": [
      "Model: \"model\"\n",
      "_________________________________________________________________\n",
      " Layer (type)                Output Shape              Param #   \n",
      "=================================================================\n",
      " input_1 (InputLayer)        [(None, 4, 22)]           0         \n",
      "                                                                 \n",
      " gru (GRU)                   (None, 4, 200)            134400    \n",
      "                                                                 \n",
      " gru_1 (GRU)                 (None, 4, 200)            241200    \n",
      "                                                                 \n",
      " dense (Dense)               (None, 4, 100)            20100     \n",
      "                                                                 \n",
      " dropout (Dropout)           (None, 4, 100)            0         \n",
      "                                                                 \n",
      " dense_1 (Dense)             (None, 4, 100)            10100     \n",
      "                                                                 \n",
      " dropout_1 (Dropout)         (None, 4, 100)            0         \n",
      "                                                                 \n",
      " dense_2 (Dense)             (None, 4, 1)              101       \n",
      "                                                                 \n",
      "=================================================================\n",
      "Total params: 405,901\n",
      "Trainable params: 405,901\n",
      "Non-trainable params: 0\n",
      "_________________________________________________________________\n"
     ]
    }
   ],
   "source": [
    "tf.compat.v1.reset_default_graph()\n",
    "be.clear_session()\n",
    "\n",
    "column_count = np.shape(X_train_unflatten_all_5)[2]\n",
    "\n",
    "input_layer=Input(shape=(np.shape(X_train_unflatten_all_5)[1], column_count))\n",
    "cur_last_layer=input_layer\n",
    "\n",
    "for l in range(n_hidden_layers):\n",
    "    hidden_layer=GRU(hidden_layer_size, return_sequences=True)(cur_last_layer)\n",
    "    cur_last_layer=hidden_layer\n",
    "\n",
    "for l in range(n_hidden_layers):\n",
    "    dense = Dense(100, activation='sigmoid')(cur_last_layer)\n",
    "    dropout_layer = Dropout(dropout_rate)(dense)\n",
    "    cur_last_layer=dropout_layer\n",
    "predictions=Dense(1)(cur_last_layer)\n",
    "\n",
    "gru_model=Model(inputs=input_layer, outputs=predictions)\n",
    "gru_model.summary()"
   ]
  },
  {
   "cell_type": "code",
   "execution_count": 44,
   "metadata": {
    "colab": {
     "base_uri": "https://localhost:8080/"
    },
    "executionInfo": {
     "elapsed": 146646,
     "status": "ok",
     "timestamp": 1636494290726,
     "user": {
      "displayName": "Jan Faulstich",
      "photoUrl": "https://lh3.googleusercontent.com/a/default-user=s64",
      "userId": "01448353606380084380"
     },
     "user_tz": -60
    },
    "id": "s3LIkBOg3BpA",
    "outputId": "bb94e18f-5625-4f0c-eebe-431dd3afa58a"
   },
   "outputs": [
    {
     "name": "stdout",
     "output_type": "stream",
     "text": [
      "Epoch 1/20\n",
      "306/306 [==============================] - 11s 22ms/step - loss: 1.7977 - val_loss: 2.5554\n",
      "Epoch 2/20\n",
      "306/306 [==============================] - 6s 18ms/step - loss: 1.7709 - val_loss: 2.5553\n",
      "Epoch 3/20\n",
      "306/306 [==============================] - 6s 18ms/step - loss: 1.7709 - val_loss: 2.5555\n",
      "Epoch 4/20\n",
      "306/306 [==============================] - 6s 19ms/step - loss: 1.7709 - val_loss: 2.5552\n",
      "Epoch 5/20\n",
      "306/306 [==============================] - 6s 19ms/step - loss: 1.7709 - val_loss: 2.5552\n",
      "Epoch 6/20\n",
      "306/306 [==============================] - 6s 19ms/step - loss: 1.7709 - val_loss: 2.5553\n",
      "Epoch 7/20\n",
      "306/306 [==============================] - 6s 18ms/step - loss: 1.7709 - val_loss: 2.5554\n",
      "Epoch 8/20\n",
      "306/306 [==============================] - 6s 18ms/step - loss: 1.7709 - val_loss: 2.5551\n",
      "Epoch 9/20\n",
      "306/306 [==============================] - 6s 18ms/step - loss: 1.7709 - val_loss: 2.5553\n",
      "Epoch 10/20\n",
      "306/306 [==============================] - 6s 18ms/step - loss: 1.7709 - val_loss: 2.5554\n",
      "Epoch 11/20\n",
      "306/306 [==============================] - 6s 18ms/step - loss: 1.7709 - val_loss: 2.5555\n",
      "Epoch 12/20\n",
      "306/306 [==============================] - 6s 18ms/step - loss: 1.7709 - val_loss: 2.5551\n",
      "Epoch 13/20\n",
      "306/306 [==============================] - 6s 18ms/step - loss: 1.7709 - val_loss: 2.5551\n",
      "Epoch 14/20\n",
      "306/306 [==============================] - 6s 18ms/step - loss: 1.7709 - val_loss: 2.5553\n",
      "Epoch 15/20\n",
      "306/306 [==============================] - 6s 18ms/step - loss: 1.7709 - val_loss: 2.5552\n",
      "Epoch 16/20\n",
      "306/306 [==============================] - 6s 18ms/step - loss: 1.7709 - val_loss: 2.5553\n",
      "Epoch 17/20\n",
      "306/306 [==============================] - 6s 19ms/step - loss: 1.7709 - val_loss: 2.5552\n",
      "Epoch 18/20\n",
      "306/306 [==============================] - 6s 18ms/step - loss: 1.7709 - val_loss: 2.5553\n",
      "Epoch 19/20\n",
      "306/306 [==============================] - 6s 18ms/step - loss: 1.7709 - val_loss: 2.5552\n",
      "Epoch 20/20\n",
      "306/306 [==============================] - 6s 18ms/step - loss: 1.7709 - val_loss: 2.5553\n"
     ]
    }
   ],
   "source": [
    "optimizer = RMSprop(learning_rate=0.0015)\n",
    "gru_model.compile(loss='mean_absolute_error', optimizer=optimizer)\n",
    "\n",
    "gru_history = gru_model.fit(X_train_unflatten_all_5, y_train_window_size_5,\n",
    "                              validation_data=(X_valid_unflatten_all_5, y_valid_window_size_5),\n",
    "                              epochs=EPOCHS,\n",
    "                              batch_size=BATCH_SIZE)"
   ]
  },
  {
   "cell_type": "code",
   "execution_count": 45,
   "metadata": {
    "colab": {
     "base_uri": "https://localhost:8080/",
     "height": 295
    },
    "executionInfo": {
     "elapsed": 21,
     "status": "ok",
     "timestamp": 1636494290726,
     "user": {
      "displayName": "Jan Faulstich",
      "photoUrl": "https://lh3.googleusercontent.com/a/default-user=s64",
      "userId": "01448353606380084380"
     },
     "user_tz": -60
    },
    "id": "78NdIh6S3BpA",
    "outputId": "c12bd53a-f2e9-4ec7-d05b-e38721e9e923"
   },
   "outputs": [
    {
     "data": {
      "image/png": "[encoded data removed]",
      "text/plain": [
       "<Figure size 432x288 with 1 Axes>"
      ]
     },
     "metadata": {
      "needs_background": "light"
     },
     "output_type": "display_data"
    }
   ],
   "source": [
    "loss_values = gru_history.history['loss']\n",
    "val_loss_values = gru_history.history['val_loss']\n",
    "epochs = range(1, len(loss_values)+1)\n",
    "\n",
    "plt.plot(epochs, loss_values, label='Training Loss')\n",
    "plt.plot(epochs, val_loss_values, label='Validation Loss')\n",
    "\n",
    "plt.title('Compiling history of GRU model')\n",
    "plt.xlabel('Epochs')\n",
    "plt.ylabel('Loss')\n",
    "plt.legend()\n",
    "\n",
    "plt.show()"
   ]
  },
  {
   "cell_type": "code",
   "execution_count": 46,
   "metadata": {
    "colab": {
     "base_uri": "https://localhost:8080/"
    },
    "executionInfo": {
     "elapsed": 3768,
     "status": "ok",
     "timestamp": 1636494294488,
     "user": {
      "displayName": "Jan Faulstich",
      "photoUrl": "https://lh3.googleusercontent.com/a/default-user=s64",
      "userId": "01448353606380084380"
     },
     "user_tz": -60
    },
    "id": "A-ic7Zfp3BpA",
    "outputId": "07a9e3d7-6d60-4ba0-fc74-dd92615ba187"
   },
   "outputs": [
    {
     "name": "stdout",
     "output_type": "stream",
     "text": [
      "Mean absolut error on test: 2.2552665536389123\n"
     ]
    }
   ],
   "source": [
    "# Evaluate model performance and store it\n",
    "\n",
    "mae, mse = evaluate_3Dmodel(gru_model, X_test_unflatten_all_5, y_test_window_size_5)\n",
    "performance_df = performance_df.append({'Model': 'GRU', \n",
    "                                        'MAE score (on test set)': round(mae, 4),\n",
    "                                        'MSE score (on test set)': round(mse, 4)},\n",
    "                                       ignore_index=True)"
   ]
  },
  {
   "cell_type": "markdown",
   "metadata": {
    "id": "jtwuevAq3BpA"
   },
   "source": [
    "- **Brief summary**:\n",
    "\n",
    "    > As shown in the cell above, the GRU model's performance on the test dataset is 2.2553 in terms of MAE.\n",
    "    \n",
    "    It is interesting to see that compared to LSTM, GRU yields a slightly better performance on the test set. However, the graphs of the compile histories of both models seem very similar--both show that there is little learning after the first 2 or 3 epochs.\n",
    "    \n",
    "    ___Limitations___: \n",
    "    \n",
    "    With fewer parameters and gates in the neural network, while the speed of training has been increased, the complexity that can be captured by GRU is also reduced. While its performance does seem better than LSTM, the difference can also be caused by other random factors."
   ]
  },
  {
   "cell_type": "markdown",
   "metadata": {
    "id": "TIQZq6puLuyx"
   },
   "source": [
    "## Transformers: Attention is all you need!"
   ]
  },
  {
   "cell_type": "markdown",
   "metadata": {
    "id": "YA5i5Yrt3BpB"
   },
   "source": [
    "### Self-Attention\n",
    "\n",
    "- **Intro**:\n",
    "\n",
    "The Attention mechanism is one of the state of the art architecture. To gain some experience with it our group decided to try the attention architecture on the our electricity data.\n",
    "However, our prediction problem is not a sequence thats why we have to apply the self-attention mechanism. In the self-attention mechanism both the source of the queries and the target of the attention are input embeddings and are learned projections.\n",
    "\n",
    "During training we identified that high drop_out rate of 0.5 helps a lot to have a good convergence. Additionally, a batch size of 64 and and a dense layer size of 256 which enables the model to learn well.\n",
    "\n",
    "Unluckily, the model was also not able to beat the Dummy Regressor but for our group we learned very well how to apply self attention to predict.\n",
    "\n",
    "   \n",
    "\n",
    "- **Input data**:\n",
    "\n",
    "    The input data of the model has been normalized and rolled into a form of 3D data.\n",
    "    \n",
    "    > Training dataset: `X_train_window_size_5` and `y_train_window_size_5`\\\n",
    "    > Validation dataset: `X_valid_window_size_5` and `y_valid_window_size_5`\\\n",
    "    > Testing dataset: `X_test_window_size_5` and `y_test_window_size_5`\n",
    "\n",
    " \n",
    "- **Architecture**:\n",
    "\n",
    "1. Input Layer\n",
    "2. Embedding Layer for the query\n",
    "3. Self-Attention layer with the inputs and embedding layer\n",
    "4. Concatenating the input and attention layer\n",
    "5. 2x Dense Layers followed by a Dropout Layer\n",
    "6. Output Layer with a linear activation function\n"
   ]
  },
  {
   "cell_type": "code",
   "execution_count": 47,
   "metadata": {
    "executionInfo": {
     "elapsed": 7,
     "status": "ok",
     "timestamp": 1636494294488,
     "user": {
      "displayName": "Jan Faulstich",
      "photoUrl": "https://lh3.googleusercontent.com/a/default-user=s64",
      "userId": "01448353606380084380"
     },
     "user_tz": -60
    },
    "id": "6EpnA9LyT8DW"
   },
   "outputs": [],
   "source": [
    "#Dropping high correlation features to prohibit to overfitting a bit\n",
    "X_train_window_size_5 = X_train_window_size_5.drop(['total_hours', 'minutes_4_3', 'minutes_3_2', 'minutes_2_1', 'dlvry_weekend', 'volume_4_3','volume_3_2', 'volume_2_1'], axis=1)\n",
    "X_valid_window_size_5 = X_valid_window_size_5.drop(['total_hours', 'minutes_4_3', 'minutes_3_2', 'minutes_2_1', 'dlvry_weekend', 'volume_4_3','volume_3_2', 'volume_2_1'], axis=1)\n",
    "X_test_window_size_5 = X_test_window_size_5.drop(['total_hours', 'minutes_4_3', 'minutes_3_2', 'minutes_2_1', 'dlvry_weekend', 'volume_4_3','volume_3_2', 'volume_2_1'], axis=1)"
   ]
  },
  {
   "cell_type": "code",
   "execution_count": 48,
   "metadata": {
    "executionInfo": {
     "elapsed": 6,
     "status": "ok",
     "timestamp": 1636494294488,
     "user": {
      "displayName": "Jan Faulstich",
      "photoUrl": "https://lh3.googleusercontent.com/a/default-user=s64",
      "userId": "01448353606380084380"
     },
     "user_tz": -60
    },
    "id": "ke7_WjKdRYf3"
   },
   "outputs": [],
   "source": [
    "EPOCHS = 10\n",
    "BATCH_SIZE = 64\n",
    "DENSE_LAYER_SIZE = 256\n",
    "DROP_OUT = 0.5"
   ]
  },
  {
   "cell_type": "code",
   "execution_count": 49,
   "metadata": {
    "executionInfo": {
     "elapsed": 6,
     "status": "ok",
     "timestamp": 1636494294488,
     "user": {
      "displayName": "Jan Faulstich",
      "photoUrl": "https://lh3.googleusercontent.com/a/default-user=s64",
      "userId": "01448353606380084380"
     },
     "user_tz": -60
    },
    "id": "rzrRV7hWUMS9"
   },
   "outputs": [],
   "source": [
    "tf.compat.v1.reset_default_graph()\n",
    "be.clear_session()\n",
    "\n",
    "def create_self_attention():\n",
    "\n",
    "    \n",
    "    inputs_q = Input(shape=(X_train_window_size_5.shape[1],))\n",
    "\n",
    "    dense_embedding_layer_q = Dense(X_train_window_size_5.shape[1], activation='softmax')(inputs_q)\n",
    "\n",
    "    self_attention = tf.keras.layers.Attention()([inputs_q, dense_embedding_layer_q])\n",
    "\n",
    "    attention_inputs = merge.Concatenate()([inputs_q, self_attention])\n",
    "\n",
    "    Dense1 = Dense(DENSE_LAYER_SIZE, name='Dense1', activation='relu')(attention_inputs)\n",
    "\n",
    "    Dropout1 = Dropout(DROP_OUT)(Dense1)\n",
    "\n",
    "    Dense2 = Dense(DENSE_LAYER_SIZE, name='Dense2', activation='relu')(Dropout1)\n",
    "    Dropout2 = Dropout(DROP_OUT)(Dense2)\n",
    "\n",
    "    output = Dense(1, name='output', activation='linear')(Dropout2)\n",
    "\n",
    "    model = Model(inputs=[inputs_q], outputs=output)\n",
    "    print(\"Architecture of model:\\n\")\n",
    "    model.summary()\n",
    "\n",
    "    #Since we are using a 'state of the art'-model we also tried the 'state of the art'-optimizer \"ranger\"\n",
    "    radam = tfa.optimizers.RectifiedAdam()\n",
    "    ranger = tfa.optimizers.Lookahead(radam, sync_period=6, slow_step_size=0.5)\n",
    "    \n",
    "    model.compile(optimizer=ranger, loss='mae')\n",
    "\n",
    "    model_history = model.fit(X_train_window_size_5, y_train_window_size_5, \n",
    "                              validation_data=(X_valid_window_size_5, y_valid_window_size_5), \n",
    "                              epochs=EPOCHS, \n",
    "                              batch_size=BATCH_SIZE, \n",
    "                              shuffle=False)\n",
    "\n",
    "    return model, model_history"
   ]
  },
  {
   "cell_type": "code",
   "execution_count": 50,
   "metadata": {
    "colab": {
     "base_uri": "https://localhost:8080/"
    },
    "executionInfo": {
     "elapsed": 205038,
     "status": "ok",
     "timestamp": 1636494499521,
     "user": {
      "displayName": "Jan Faulstich",
      "photoUrl": "https://lh3.googleusercontent.com/a/default-user=s64",
      "userId": "01448353606380084380"
     },
     "user_tz": -60
    },
    "id": "M4d4KYQ6UOfU",
    "outputId": "79192d3a-ebfb-4385-e861-28b4f1d3f390"
   },
   "outputs": [
    {
     "name": "stdout",
     "output_type": "stream",
     "text": [
      "Architecture of model:\n",
      "\n",
      "Model: \"model\"\n",
      "__________________________________________________________________________________________________\n",
      " Layer (type)                   Output Shape         Param #     Connected to                     \n",
      "==================================================================================================\n",
      " input_1 (InputLayer)           [(None, 34)]         0           []                               \n",
      "                                                                                                  \n",
      " dense (Dense)                  (None, 34)           1190        ['input_1[0][0]']                \n",
      "                                                                                                  \n",
      " attention (Attention)          (None, 34)           0           ['input_1[0][0]',                \n",
      "                                                                  'dense[0][0]']                  \n",
      "                                                                                                  \n",
      " concatenate (Concatenate)      (None, 68)           0           ['input_1[0][0]',                \n",
      "                                                                  'attention[0][0]']              \n",
      "                                                                                                  \n",
      " Dense1 (Dense)                 (None, 256)          17664       ['concatenate[0][0]']            \n",
      "                                                                                                  \n",
      " dropout (Dropout)              (None, 256)          0           ['Dense1[0][0]']                 \n",
      "                                                                                                  \n",
      " Dense2 (Dense)                 (None, 256)          65792       ['dropout[0][0]']                \n",
      "                                                                                                  \n",
      " dropout_1 (Dropout)            (None, 256)          0           ['Dense2[0][0]']                 \n",
      "                                                                                                  \n",
      " output (Dense)                 (None, 1)            257         ['dropout_1[0][0]']              \n",
      "                                                                                                  \n",
      "==================================================================================================\n",
      "Total params: 84,903\n",
      "Trainable params: 84,903\n",
      "Non-trainable params: 0\n",
      "__________________________________________________________________________________________________\n",
      "Epoch 1/10\n",
      "1430/1430 [==============================] - 18s 10ms/step - loss: 82.2027 - val_loss: 2.5552\n",
      "Epoch 2/10\n",
      "1430/1430 [==============================] - 14s 10ms/step - loss: 1.9801 - val_loss: 2.5551\n",
      "Epoch 3/10\n",
      "1430/1430 [==============================] - 14s 10ms/step - loss: 1.8514 - val_loss: 2.5551\n",
      "Epoch 4/10\n",
      "1430/1430 [==============================] - 14s 10ms/step - loss: 1.8023 - val_loss: 2.5551\n",
      "Epoch 5/10\n",
      "1430/1430 [==============================] - 14s 10ms/step - loss: 1.7924 - val_loss: 2.5552\n",
      "Epoch 6/10\n",
      "1430/1430 [==============================] - 14s 10ms/step - loss: 1.7830 - val_loss: 2.5551\n",
      "Epoch 7/10\n",
      "1430/1430 [==============================] - 14s 10ms/step - loss: 1.7795 - val_loss: 2.5551\n",
      "Epoch 8/10\n",
      "1430/1430 [==============================] - 14s 10ms/step - loss: 1.7790 - val_loss: 2.5551\n",
      "Epoch 9/10\n",
      "1430/1430 [==============================] - 14s 10ms/step - loss: 1.7764 - val_loss: 2.5551\n",
      "Epoch 10/10\n",
      "1430/1430 [==============================] - 14s 10ms/step - loss: 1.7750 - val_loss: 2.5551\n"
     ]
    }
   ],
   "source": [
    "attention_model, attention_history = create_self_attention()"
   ]
  },
  {
   "cell_type": "code",
   "execution_count": 51,
   "metadata": {
    "colab": {
     "base_uri": "https://localhost:8080/",
     "height": 295
    },
    "executionInfo": {
     "elapsed": 625,
     "status": "ok",
     "timestamp": 1636494500117,
     "user": {
      "displayName": "Jan Faulstich",
      "photoUrl": "https://lh3.googleusercontent.com/a/default-user=s64",
      "userId": "01448353606380084380"
     },
     "user_tz": -60
    },
    "id": "pX-aqRjrUVFR",
    "outputId": "c73839cb-f87f-4800-ef2d-7e95db31730c"
   },
   "outputs": [
    {
     "data": {
      "image/png": "[encoded data removed]",
      "text/plain": [
       "<Figure size 432x288 with 1 Axes>"
      ]
     },
     "metadata": {
      "needs_background": "light"
     },
     "output_type": "display_data"
    }
   ],
   "source": [
    "loss_values = attention_history.history['loss']\n",
    "val_loss_values = attention_history.history['val_loss']\n",
    "epochs = range(1, len(loss_values)+1)\n",
    "\n",
    "plt.plot(epochs, loss_values, label='Training Loss')\n",
    "plt.plot(epochs, val_loss_values, label='Validation Loss')\n",
    "\n",
    "plt.title(\"Compiling history of Self-Attention model\")\n",
    "plt.xlabel('Epochs')\n",
    "plt.ylabel('Loss')\n",
    "plt.legend()\n",
    "\n",
    "plt.show()"
   ]
  },
  {
   "cell_type": "code",
   "execution_count": 52,
   "metadata": {
    "colab": {
     "base_uri": "https://localhost:8080/"
    },
    "executionInfo": {
     "elapsed": 613,
     "status": "ok",
     "timestamp": 1636494500725,
     "user": {
      "displayName": "Jan Faulstich",
      "photoUrl": "https://lh3.googleusercontent.com/a/default-user=s64",
      "userId": "01448353606380084380"
     },
     "user_tz": -60
    },
    "id": "4tNBSDC1UPWP",
    "outputId": "05eb089d-3aa4-4f26-b2e5-1bbfb3f9a205"
   },
   "outputs": [
    {
     "name": "stdout",
     "output_type": "stream",
     "text": [
      "Mean absolut error on test: 2.255134580546972\n",
      "Mean squared error on test: 21.161776632786403\n"
     ]
    }
   ],
   "source": [
    "\n",
    "mae, mse = evaluate_model(attention_model, X_test_window_size_5, y_test_window_size_5)\n",
    "performance_df = performance_df.append({'Model': 'Self-Attention', \n",
    "                                        'MAE score (on test set)': round(mae, 4),\n",
    "                                        'MSE score (on test set)': round(mse, 4)},\n",
    "                                       ignore_index=True)\n"
   ]
  },
  {
   "cell_type": "markdown",
   "metadata": {
    "id": "98nkNoKtQ2xX"
   },
   "source": [
    "# Summary\n",
    "<b>In this part, we summairzed the results of all the models above. </b>\n"
   ]
  },
  {
   "cell_type": "code",
   "execution_count": 53,
   "metadata": {
    "colab": {
     "base_uri": "https://localhost:8080/",
     "height": 421
    },
    "executionInfo": {
     "elapsed": 7,
     "status": "ok",
     "timestamp": 1636494500725,
     "user": {
      "displayName": "Jan Faulstich",
      "photoUrl": "https://lh3.googleusercontent.com/a/default-user=s64",
      "userId": "01448353606380084380"
     },
     "user_tz": -60
    },
    "id": "Txo-DtB8Q188",
    "outputId": "2c3e447f-dab4-4f4f-849b-5de402d62ccf"
   },
   "outputs": [
    {
     "data": {
      "text/html": [
       "<div>\n",
       "<style scoped>\n",
       "    .dataframe tbody tr th:only-of-type {\n",
       "        vertical-align: middle;\n",
       "    }\n",
       "\n",
       "    .dataframe tbody tr th {\n",
       "        vertical-align: top;\n",
       "    }\n",
       "\n",
       "    .dataframe thead th {\n",
       "        text-align: right;\n",
       "    }\n",
       "</style>\n",
       "<table border=\"1\" class=\"dataframe\">\n",
       "  <thead>\n",
       "    <tr style=\"text-align: right;\">\n",
       "      <th></th>\n",
       "      <th>Model</th>\n",
       "      <th>MAE score (on test set)</th>\n",
       "      <th>MSE score (on test set)</th>\n",
       "    </tr>\n",
       "  </thead>\n",
       "  <tbody>\n",
       "    <tr>\n",
       "      <th>4</th>\n",
       "      <td>LightGBM</td>\n",
       "      <td>2.2495</td>\n",
       "      <td>21.1023</td>\n",
       "    </tr>\n",
       "    <tr>\n",
       "      <th>7</th>\n",
       "      <td>Mulit-Layer Perceptron</td>\n",
       "      <td>2.2550</td>\n",
       "      <td>NaN</td>\n",
       "    </tr>\n",
       "    <tr>\n",
       "      <th>5</th>\n",
       "      <td>Support Vector Regressor</td>\n",
       "      <td>2.2551</td>\n",
       "      <td>21.1624</td>\n",
       "    </tr>\n",
       "    <tr>\n",
       "      <th>11</th>\n",
       "      <td>Self-Attention</td>\n",
       "      <td>2.2551</td>\n",
       "      <td>21.1618</td>\n",
       "    </tr>\n",
       "    <tr>\n",
       "      <th>8</th>\n",
       "      <td>CNN</td>\n",
       "      <td>2.2552</td>\n",
       "      <td>21.1624</td>\n",
       "    </tr>\n",
       "    <tr>\n",
       "      <th>10</th>\n",
       "      <td>GRU</td>\n",
       "      <td>2.2553</td>\n",
       "      <td>21.1627</td>\n",
       "    </tr>\n",
       "    <tr>\n",
       "      <th>9</th>\n",
       "      <td>LSTM</td>\n",
       "      <td>2.2558</td>\n",
       "      <td>21.1615</td>\n",
       "    </tr>\n",
       "    <tr>\n",
       "      <th>0</th>\n",
       "      <td>Dummy Regressor</td>\n",
       "      <td>2.2588</td>\n",
       "      <td>21.1589</td>\n",
       "    </tr>\n",
       "    <tr>\n",
       "      <th>3</th>\n",
       "      <td>Random Forest</td>\n",
       "      <td>2.2755</td>\n",
       "      <td>21.8467</td>\n",
       "    </tr>\n",
       "    <tr>\n",
       "      <th>1</th>\n",
       "      <td>Linear Regression</td>\n",
       "      <td>2.2783</td>\n",
       "      <td>21.2577</td>\n",
       "    </tr>\n",
       "    <tr>\n",
       "      <th>2</th>\n",
       "      <td>Linear Regression (poly transformed)</td>\n",
       "      <td>2.4848</td>\n",
       "      <td>22.6935</td>\n",
       "    </tr>\n",
       "    <tr>\n",
       "      <th>6</th>\n",
       "      <td>K-Nearest Neighbor</td>\n",
       "      <td>2.6874</td>\n",
       "      <td>23.3259</td>\n",
       "    </tr>\n",
       "  </tbody>\n",
       "</table>\n",
       "</div>"
      ],
      "text/plain": [
       "                                   Model  ...  MSE score (on test set)\n",
       "4                               LightGBM  ...                  21.1023\n",
       "7                 Mulit-Layer Perceptron  ...                      NaN\n",
       "5               Support Vector Regressor  ...                  21.1624\n",
       "11                        Self-Attention  ...                  21.1618\n",
       "8                                    CNN  ...                  21.1624\n",
       "10                                   GRU  ...                  21.1627\n",
       "9                                   LSTM  ...                  21.1615\n",
       "0                        Dummy Regressor  ...                  21.1589\n",
       "3                          Random Forest  ...                  21.8467\n",
       "1                      Linear Regression  ...                  21.2577\n",
       "2   Linear Regression (poly transformed)  ...                  22.6935\n",
       "6                     K-Nearest Neighbor  ...                  23.3259\n",
       "\n",
       "[12 rows x 3 columns]"
      ]
     },
     "execution_count": 53,
     "metadata": {},
     "output_type": "execute_result"
    }
   ],
   "source": [
    "performance_df.sort_values('MAE score (on test set)')"
   ]
  },
  {
   "cell_type": "markdown",
   "metadata": {
    "id": "eGvdXOVUR6TK"
   },
   "source": [
    "**Observations**:\n",
    "\n",
    "- Boosted decision trees have the best performance for this dataset, which is around 0.25% better than the second best model in terms of MAE.\n",
    "\n",
    "    It is not surprising to see that LightGBM model has a higher performance when compared to Random Forest. As mentioned earlier, by training different decision trees in parallel, Random Forest can only learn from the training data. Boosted models such as LightGBM, however, build trees that are dependent on each other, which allows more room for the model to learn and explains the better performance seen here.\n",
    "    \n",
    "- The performance of all neural networks are very close to each other.\n",
    "\n",
    "    Whether it is Recurrent Neural Network, which is more suitable for sequence data, or Convolutional Neural Network, which is more suitable for image data, their performance results seem very similar to each other. Moreover, as mentioned earlier, during the stage of hyperparameter tuning, we have discovered that the complexity of the model also did not make much difference. \n",
    "    \n",
    "    It is also worth noting that when training the neural networks, we have discovered that the validation and training loss values tend to fluctuate around a certain value, and regardless of the type of optimizer/learning rate (scheduler)/activation function/initializer that we use, the model can not seem to reach a lower value. \n",
    "    \n",
    "    Therefore, it is very likely that neural network is not suitable for solving the problem we have at hand. Generally, neural networks are helpful in identifying patterns in data. However, the dataset here involves not just one time series but multiple sequences of different contracts, which can add a lot of noise and, without a large amount of data to make up for this drawback, it can be one of the reasons why neural networks are unable to learn from it. \n",
    "\n",
    "\n",
    "- Some additional note to the comparison between Neural Nets and Decision Trees:\n",
    "\n",
    "    Even though Neural Networks are comapred to Decision Trees very often because both are able to handle non-linear relationships within the data, neural networks have some disadvantages in capturing categorical multiclass problems.\n",
    "    Additionally, as stated in the introduction, our data consists of small time series sequences of electricity contracts with varying lengths, which makes it aslo hard for the state of the art LSTM model that is able to remember important features and information of a time series. In contrast to that, gradient boosted decision trees don't even consider the time series and the included auto-correlation. However, this kind of models tend to overfit on training data very fast, but we were able to mitigate this by dropping features with high correlation and increase the independence between the variables."
   ]
  },
  {
   "cell_type": "markdown",
   "metadata": {
    "id": "5WmTZ_DSR6TK"
   },
   "source": [
    "# Error Analysis and Limitations"
   ]
  },
  {
   "cell_type": "markdown",
   "metadata": {
    "id": "3Q1BcenEhaUO"
   },
   "source": [
    "## Error Analysis\n",
    "One of the most important findings is that nearly all of our models had a hard time beating the baseline set by the dummy regressor, which only predicts the average value. To analyze this behaviour we will look into distribution of the train target variable, the test target variable and the prediction of our best model, the LightGBM model."
   ]
  },
  {
   "cell_type": "code",
   "execution_count": 54,
   "metadata": {
    "executionInfo": {
     "elapsed": 237,
     "status": "ok",
     "timestamp": 1636494536511,
     "user": {
      "displayName": "Jan Faulstich",
      "photoUrl": "https://lh3.googleusercontent.com/a/default-user=s64",
      "userId": "01448353606380084380"
     },
     "user_tz": -60
    },
    "id": "GApqFhcRR6TK"
   },
   "outputs": [],
   "source": [
    "lightgbm_predictions = bst.predict(X_test_window_size_5)\n",
    "dummy_model_predictions = dummy_model.predict(X_test_window_size_5)"
   ]
  },
  {
   "cell_type": "code",
   "execution_count": 55,
   "metadata": {
    "colab": {
     "base_uri": "https://localhost:8080/"
    },
    "executionInfo": {
     "elapsed": 2,
     "status": "ok",
     "timestamp": 1636494537138,
     "user": {
      "displayName": "Jan Faulstich",
      "photoUrl": "https://lh3.googleusercontent.com/a/default-user=s64",
      "userId": "01448353606380084380"
     },
     "user_tz": -60
    },
    "id": "PguGi2k-R6TK",
    "outputId": "e37a95ec-bdf5-4264-a385-4035c4f67707"
   },
   "outputs": [
    {
     "name": "stdout",
     "output_type": "stream",
     "text": [
      "These are the predictions of lightgbtm: [-0.19360566 -0.18433629 -0.18433629 ... -0.03179153 -0.03179153\n",
      " -0.03179153]\n",
      "These are the predictions of the dummy model:  [0.03707088 0.03707088 0.03707088 ... 0.03707088 0.03707088 0.03707088]\n",
      "These are the real values: \n",
      "0        2.28\n",
      "1       -6.57\n",
      "2       -4.86\n",
      "3       -0.68\n",
      "4       -0.83\n",
      "         ... \n",
      "10699    2.26\n",
      "10700    3.05\n",
      "10701   -5.33\n",
      "10702   -1.30\n",
      "10703    6.69\n",
      "Name: y, Length: 10704, dtype: float64\n"
     ]
    }
   ],
   "source": [
    "print(f'These are the predictions of lightgbtm: {lightgbm_predictions}')\n",
    "print(f'These are the predictions of the dummy model:  {dummy_model_predictions}')\n",
    "print(f'These are the real values: \\n{y_test_window_size_5}')"
   ]
  },
  {
   "cell_type": "code",
   "execution_count": 56,
   "metadata": {
    "colab": {
     "base_uri": "https://localhost:8080/"
    },
    "executionInfo": {
     "elapsed": 194,
     "status": "ok",
     "timestamp": 1636494538763,
     "user": {
      "displayName": "Jan Faulstich",
      "photoUrl": "https://lh3.googleusercontent.com/a/default-user=s64",
      "userId": "01448353606380084380"
     },
     "user_tz": -60
    },
    "id": "MGidKKdWR6TK",
    "outputId": "d5c253e3-4aee-4b13-a4b7-c018c93c1b1b"
   },
   "outputs": [
    {
     "name": "stdout",
     "output_type": "stream",
     "text": [
      "These are the average prediction values of LightGBM -0.08794192033593307\n",
      "This the average of the test target variable 0.037070875950690634\n",
      "This the average of the train target variable 0.03707087595069501\n",
      "This is the average predicted by the dummy model 0.06584547832585931\n"
     ]
    }
   ],
   "source": [
    "print(f'These are the average prediction values of LightGBM {sum(lightgbm_predictions) / len(lightgbm_predictions)}')\n",
    "print(f'This the average of the test target variable {sum(dummy_model_predictions) / len(dummy_model_predictions)}')\n",
    "print(f'This the average of the train target variable {sum(y_train_window_size_5) / len(y_train_window_size_5)}')\n",
    "print(f'This is the average predicted by the dummy model {sum(y_test_window_size_5) / len(y_test_window_size_5)}')"
   ]
  },
  {
   "cell_type": "code",
   "execution_count": 57,
   "metadata": {
    "colab": {
     "base_uri": "https://localhost:8080/",
     "height": 607
    },
    "executionInfo": {
     "elapsed": 875,
     "status": "ok",
     "timestamp": 1636494541095,
     "user": {
      "displayName": "Jan Faulstich",
      "photoUrl": "https://lh3.googleusercontent.com/a/default-user=s64",
      "userId": "01448353606380084380"
     },
     "user_tz": -60
    },
    "id": "Uk_7IgfAR6TL",
    "outputId": "bbc39215-a65a-42d4-bd2c-eb30a1d751f2"
   },
   "outputs": [
    {
     "data": {
      "image/png": "[encoded data removed]",
      "text/plain": [
       "<Figure size 720x720 with 1 Axes>"
      ]
     },
     "metadata": {
      "needs_background": "light"
     },
     "output_type": "display_data"
    }
   ],
   "source": [
    "col = \"LightGBM prediction\"\n",
    "plt.figure(figsize=(10,10))\n",
    "plt.hist(lightgbm_predictions, bins= 300)\n",
    "plt.title(f\"{col} Distribution\")\n",
    "plt.show()"
   ]
  },
  {
   "cell_type": "code",
   "execution_count": 58,
   "metadata": {
    "colab": {
     "base_uri": "https://localhost:8080/",
     "height": 879
    },
    "executionInfo": {
     "elapsed": 1248,
     "status": "ok",
     "timestamp": 1636494542341,
     "user": {
      "displayName": "Jan Faulstich",
      "photoUrl": "https://lh3.googleusercontent.com/a/default-user=s64",
      "userId": "01448353606380084380"
     },
     "user_tz": -60
    },
    "id": "Wte3-eYPR6TL",
    "outputId": "712a433f-8ef5-4df3-d610-36cb730b96aa"
   },
   "outputs": [
    {
     "data": {
      "image/png": "[encoded data removed]",
      "text/plain": [
       "<Figure size 1080x1080 with 1 Axes>"
      ]
     },
     "metadata": {
      "needs_background": "light"
     },
     "output_type": "display_data"
    }
   ],
   "source": [
    "col = \"Test Target Variable\"\n",
    "plt.figure(figsize=(15,15))\n",
    "plt.hist(y_test_window_size_5, bins= 300)\n",
    "\n",
    "plt.title(f\"{col} Distribution\")\n",
    "plt.show()"
   ]
  },
  {
   "cell_type": "code",
   "execution_count": 59,
   "metadata": {
    "colab": {
     "base_uri": "https://localhost:8080/",
     "height": 879
    },
    "executionInfo": {
     "elapsed": 1302,
     "status": "ok",
     "timestamp": 1636494543640,
     "user": {
      "displayName": "Jan Faulstich",
      "photoUrl": "https://lh3.googleusercontent.com/a/default-user=s64",
      "userId": "01448353606380084380"
     },
     "user_tz": -60
    },
    "id": "ft0aFn65R6TL",
    "outputId": "1ae6f732-f670-4f15-ffb5-38ddaf015945"
   },
   "outputs": [
    {
     "data": {
      "image/png": "[encoded data removed]",
      "text/plain": [
       "<Figure size 1080x1080 with 1 Axes>"
      ]
     },
     "metadata": {
      "needs_background": "light"
     },
     "output_type": "display_data"
    }
   ],
   "source": [
    "col = \"Train Target Variable\"\n",
    "plt.figure(figsize=(15,15))\n",
    "plt.hist(y_train_window_size_5, bins= 300)\n",
    "\n",
    "plt.title(f\"{col} Distribution\")\n",
    "plt.show()"
   ]
  },
  {
   "cell_type": "code",
   "execution_count": 60,
   "metadata": {
    "colab": {
     "base_uri": "https://localhost:8080/",
     "height": 281
    },
    "executionInfo": {
     "elapsed": 3,
     "status": "ok",
     "timestamp": 1636494543640,
     "user": {
      "displayName": "Jan Faulstich",
      "photoUrl": "https://lh3.googleusercontent.com/a/default-user=s64",
      "userId": "01448353606380084380"
     },
     "user_tz": -60
    },
    "id": "uFBW2YROR6TL",
    "outputId": "b80cd2ef-579b-4066-9ab5-89f778cde590"
   },
   "outputs": [
    {
     "data": {
      "image/png": "[encoded data removed]",
      "text/plain": [
       "<Figure size 432x288 with 1 Axes>"
      ]
     },
     "metadata": {
      "needs_background": "light"
     },
     "output_type": "display_data"
    }
   ],
   "source": [
    "col = \"Dummy Regressor prediction\"\n",
    "\n",
    "plt.hist(dummy_model_predictions, bins= 30)\n",
    "plt.title(f\"{col} Distribution\")\n",
    "plt.show()"
   ]
  },
  {
   "cell_type": "markdown",
   "metadata": {
    "id": "NidY2sumR6TL"
   },
   "source": [
    "In summary, we can see that the LightGBM does not predict a constant value but values between -0.3 and 0.2 so in a very narrow space. The average of these predictions is roundabout -0.06 so an opposite value to the +0.06 average of the Dummy Regressor's prediction. This makes more sense as we are looking into the distribution of the train and test target variable. Both are distributed very dense around 0, which also explains why the Dummy Regressor model is doing so well. Predicting only one value for a dense distribution also minimizes the mean abolsut error the best which gives us also an understanding why only the LightGBM model was able to beat the Dummy Regressor."
   ]
  },
  {
   "cell_type": "markdown",
   "metadata": {
    "id": "MX556YuQgnlx"
   },
   "source": [
    "## Limitations - shift in data distribution\n",
    "Dataset shift can be the root of many problems in machine learning tasks, the most obvious being that trained models are not generalizing well beyond the training data.\n",
    "\n",
    "More specifically, we are dealing with dataset shift, if the features' distributions are significantly different across training, validation and test set.\n",
    "\n",
    "While identifying dataset shift itself does not solve its problems, it does offer a partial explanation of our models' accuracies and discrepancies in accuracy metrics across training, validation and test sets.\n",
    "\n",
    "There are multiple types of dataset shift depending on which kind of data \"shifts\". We will be looking at **covariate shift** (do the input features shift?) and **prior probability shift** (does the target variable shift?).\n",
    "\n",
    "There are two major explanations why the dataset is shifting:\n",
    "1. Sample selection \n",
    "2. \"Shifting\" or non-stationary environments\n",
    "\n",
    "For our data it is most likely that both causes play a role, as the arbirtrary splitting into training, validation and test data represent differently sized samples (1.) and they exhibit a temporal order which might be accompanied by shifts in time (2.).\n",
    "\n",
    "We will be looking at the unproprocessed window size 5 data set exclusively as findings should apply to the window size 15 data set, which is only being extended in the time steps columns."
   ]
  },
  {
   "cell_type": "code",
   "execution_count": 61,
   "metadata": {
    "executionInfo": {
     "elapsed": 3616,
     "status": "ok",
     "timestamp": 1636494548544,
     "user": {
      "displayName": "Jan Faulstich",
      "photoUrl": "https://lh3.googleusercontent.com/a/default-user=s64",
      "userId": "01448353606380084380"
     },
     "user_tz": -60
    },
    "id": "u0twyNpeh6Ig"
   },
   "outputs": [],
   "source": [
    "# load raw data for window size 5\n",
    "X_train_window_size_5 = pd.read_csv('X_train_window_size_5_time_encoding_True.csv')\n",
    "y_train_window_size_5 = pd.read_csv('y_train_window_size_5_time_encoding_True.csv')\n",
    "X_valid_window_size_5 = pd.read_csv('X_valid_window_size_5_time_encoding_True.csv')\n",
    "y_valid_window_size_5 = pd.read_csv('y_valid_window_size_5_time_encoding_True.csv')\n",
    "X_test_window_size_5 = pd.read_csv('X_test_window_size_5_time_encoding_True.csv')\n",
    "y_test_window_size_5 = pd.read_csv('y_test_window_size_5_time_encoding_True.csv')"
   ]
  },
  {
   "cell_type": "markdown",
   "metadata": {
    "id": "_2lymkE3iYkT"
   },
   "source": [
    "### Covariate shift"
   ]
  },
  {
   "cell_type": "markdown",
   "metadata": {
    "id": "T86wO9lxihjs"
   },
   "source": [
    "Let's take a look at how the distributions change across the training, validation and test set.\n",
    "\n",
    "In order to make the distributions comparable, we use weights <1 (calculcated below) applied to the frequencies for the training and test set to bring them to the same count as the validation set, being the smallest data set."
   ]
  },
  {
   "cell_type": "code",
   "execution_count": 62,
   "metadata": {
    "colab": {
     "base_uri": "https://localhost:8080/"
    },
    "executionInfo": {
     "elapsed": 6,
     "status": "ok",
     "timestamp": 1636494548545,
     "user": {
      "displayName": "Jan Faulstich",
      "photoUrl": "https://lh3.googleusercontent.com/a/default-user=s64",
      "userId": "01448353606380084380"
     },
     "user_tz": -60
    },
    "id": "ImXmglcMh9Aw",
    "outputId": "c67c914f-4dd2-4d0d-abac-9e97356545ef"
   },
   "outputs": [
    {
     "name": "stdout",
     "output_type": "stream",
     "text": [
      "Row count of training set with window size 5: 91512\n",
      "Row count of validation set with window size 5: 4817\n",
      "Row count of test set with window size 5: 10704\n",
      "\n"
     ]
    }
   ],
   "source": [
    "# look at row count and identify smallest dataset\n",
    "print(f\"Row count of training set with window size 5: {X_train_window_size_5.shape[0]}\")\n",
    "print(f\"Row count of validation set with window size 5: {X_valid_window_size_5.shape[0]}\")\n",
    "print(f\"Row count of test set with window size 5: {X_test_window_size_5.shape[0]}\\n\")"
   ]
  },
  {
   "cell_type": "code",
   "execution_count": 63,
   "metadata": {
    "colab": {
     "base_uri": "https://localhost:8080/"
    },
    "executionInfo": {
     "elapsed": 5,
     "status": "ok",
     "timestamp": 1636494548545,
     "user": {
      "displayName": "Jan Faulstich",
      "photoUrl": "https://lh3.googleusercontent.com/a/default-user=s64",
      "userId": "01448353606380084380"
     },
     "user_tz": -60
    },
    "id": "13841nACimwh",
    "outputId": "06f7d3a0-024f-4634-b85a-af2e299ba8ea"
   },
   "outputs": [
    {
     "name": "stdout",
     "output_type": "stream",
     "text": [
      "These weights should be used to weigh the frequency for the train, test and validations data sets with window size 5, respectively: (0.05, 0.45, 1.0)\n"
     ]
    }
   ],
   "source": [
    "# calculate weights to make sure that distributions are comparable in the y-axis (w)\n",
    "# for window size 5\n",
    "train_valid_weight_5 = 1/(X_train_window_size_5.shape[0]/X_valid_window_size_5.shape[0])\n",
    "test_valid_weight_5 = 1/(X_test_window_size_5.shape[0]/X_valid_window_size_5.shape[0])\n",
    "# not necessary, but increases code understandability\n",
    "valid_valid_weight_5 = 1/(X_valid_window_size_5.shape[0]/X_valid_window_size_5.shape[0])\n",
    "# fill np arrays with tespective weight values (same for all values within a dataset)\n",
    "train_valid_weights_5 = np.full((X_train_window_size_5.shape[0], ), train_valid_weight_5)\n",
    "valid_valid_weights_5 = np.full((X_valid_window_size_5.shape[0], ), valid_valid_weight_5)\n",
    "test_valid_weights_5 = np.full((X_test_window_size_5.shape[0], ), test_valid_weight_5)\n",
    "\n",
    "print(f\"These weights should be used to weigh the frequency for the train, test and \"+\n",
    "      f\"validations data sets with window size 5, respectively: {round(train_valid_weight_5, 2),round(test_valid_weight_5,2), valid_valid_weight_5}\")"
   ]
  },
  {
   "cell_type": "code",
   "execution_count": 64,
   "metadata": {
    "executionInfo": {
     "elapsed": 2,
     "status": "ok",
     "timestamp": 1636494548545,
     "user": {
      "displayName": "Jan Faulstich",
      "photoUrl": "https://lh3.googleusercontent.com/a/default-user=s64",
      "userId": "01448353606380084380"
     },
     "user_tz": -60
    },
    "id": "dW6rXn1Oi6IH"
   },
   "outputs": [],
   "source": [
    "# create function for changing the integer-based column names for window size 5\n",
    "def rename_time_series_5(df):\n",
    "    labels = [\"open\", \"high\", \"low\", \"close\", \"volume\", \"minutes\"]\n",
    "    new_cols = list(df.columns[:17])\n",
    "    for i in range(4, 0, -1):\n",
    "        for label in labels:\n",
    "            new_cols.append(label+f\"_{i}_{i-1}\")\n",
    "\n",
    "    df_original = df.copy()\n",
    "    df.columns = new_cols\n",
    "\n",
    "    return df\n",
    "\n",
    "# apply renaming functions to all X datasets\n",
    "X_train_window_size_5 = rename_time_series_5(X_train_window_size_5)\n",
    "X_valid_window_size_5 = rename_time_series_5(X_valid_window_size_5)\n",
    "X_test_window_size_5 = rename_time_series_5(X_test_window_size_5)"
   ]
  },
  {
   "cell_type": "code",
   "execution_count": 65,
   "metadata": {
    "colab": {
     "base_uri": "https://localhost:8080/",
     "height": 1000,
     "output_embedded_package_id": "1St_-DZAh02KfbruRTO1kGzxZa_Dx2FC4"
    },
    "executionInfo": {
     "elapsed": 51371,
     "status": "ok",
     "timestamp": 1636494600726,
     "user": {
      "displayName": "Jan Faulstich",
      "photoUrl": "https://lh3.googleusercontent.com/a/default-user=s64",
      "userId": "01448353606380084380"
     },
     "user_tz": -60
    },
    "id": "QOnxYpFti-VN",
    "outputId": "28bf7f43-3539-4eee-cdc7-15bf1aca3cb0"
   },
   "outputs": [
    {
     "data": {
      "text/plain": [
       "Output hidden; open in https://colab.research.google.com to view."
      ]
     },
     "metadata": {},
     "output_type": "display_data"
    }
   ],
   "source": [
    "# plot relative distributions for all features\n",
    "datasets_5 = [X_train_window_size_5, X_valid_window_size_5, X_test_window_size_5]\n",
    "\n",
    "bins = 50\n",
    "\n",
    "fig, ax = plt.subplots(datasets_5[0].shape[1], 1, figsize = (50, 450))\n",
    "\n",
    "for i in range(len(X_train_window_size_5.columns)):\n",
    "    ax[i].hist(datasets_5[0][datasets_5[0].columns[i]], bins = bins, weights = train_valid_weights_5, alpha=0.3, label=\"train\")\n",
    "    ax[i].hist(datasets_5[1][datasets_5[1].columns[i]], bins = bins, weights = valid_valid_weights_5, alpha=0.3, label=\"valid\")\n",
    "    ax[i].hist(datasets_5[2][datasets_5[2].columns[i]], bins = bins, weights = test_valid_weights_5, alpha=0.3, label=\"test\")\n",
    "    ax[i].legend(fontsize = 20)\n",
    "    ax[i].set_title(f\" Column: {datasets_5[0].columns[i]} // train mean: {round(datasets_5[0][datasets_5[0].columns[i]].mean(), 2)}, valid mean: {round(datasets_5[1][datasets_5[0].columns[i]].mean(), 2)}, test mean: {round(datasets_5[2][datasets_5[0].columns[i]].mean(), 2)}\",  fontsize= 30)\n",
    "    ax[i].tick_params(labelsize=20)\n",
    "    ax[i].set_ylabel(\"relative frequency\", fontsize=20)\n",
    "    ax[i].set_xlabel(\"feature values\", fontsize=20)"
   ]
  },
  {
   "cell_type": "markdown",
   "metadata": {
    "id": "bNBcjL_fjRp_"
   },
   "source": [
    "#### Main findings\n",
    "- Significant shift in feature total_hours from training set compared to validation and test set (see means)\n",
    "- No dlvry_bank_holiday seem to be only represented in the training set\n",
    "- Drastic discrepancies between the similar distributions of train and test sets compared to the validation set in the dlvry_day features (see means), same holds for the lasttrade_day features\n",
    "- Looking at the time series features, we can see that the open, high, low values at t-4  and t-1 are systematically different in validation and test set compared to the more 0-centric training data  (see means)"
   ]
  },
  {
   "cell_type": "markdown",
   "metadata": {
    "id": "zg5DcSDijVAj"
   },
   "source": [
    "### Prior probability shift\n",
    "Let's take a look at whether there are major distribution shifts among the **target values**."
   ]
  },
  {
   "cell_type": "code",
   "execution_count": 66,
   "metadata": {
    "colab": {
     "base_uri": "https://localhost:8080/",
     "height": 281
    },
    "executionInfo": {
     "elapsed": 424,
     "status": "ok",
     "timestamp": 1636494601140,
     "user": {
      "displayName": "Jan Faulstich",
      "photoUrl": "https://lh3.googleusercontent.com/a/default-user=s64",
      "userId": "01448353606380084380"
     },
     "user_tz": -60
    },
    "id": "ep1vedLojCDl",
    "outputId": "5abe10d7-3968-45c4-eb11-98afd51ce5cc"
   },
   "outputs": [
    {
     "data": {
      "image/png": "[encoded data removed]",
      "text/plain": [
       "<Figure size 432x288 with 1 Axes>"
      ]
     },
     "metadata": {
      "needs_background": "light"
     },
     "output_type": "display_data"
    }
   ],
   "source": [
    "# plot histogram for y values\n",
    "plt.hist(y_train_window_size_5.y, bins = bins, weights = train_valid_weights_5, alpha=0.3,label=\"train\",range=(-10, 10))\n",
    "plt.hist(y_valid_window_size_5.y, bins = bins, weights = valid_valid_weights_5, alpha=0.3, label=\"valid\", range=(-10, 10))\n",
    "plt.hist(y_test_window_size_5.y, bins = bins, weights = test_valid_weights_5, alpha=0.3, label=\"test\",range=(-10, 10))\n",
    "plt.legend()\n",
    "plt.title(f\"Target variable // train mean: {round(float(y_train_window_size_5.mean()), 2)}, valid mean: {round(float(y_valid_window_size_5.mean()), 2)}, test mean: {round(float(y_test_window_size_5.mean()), 2)}\")\n",
    "plt.show()"
   ]
  },
  {
   "cell_type": "markdown",
   "metadata": {
    "id": "1XpWCUkvkJ-4"
   },
   "source": [
    "#### Main findings\n",
    "- While the target variable distributions are quite similar at first sight, we see that the training set's mean is dragged closer to zero via frequently occuring values close to zero\n",
    "- There is a ~2x increase in mean from training to test set and another ~2x increase from test to valdiation set \n",
    "- As this is the value the models are trying to predict based on training on the training set, we can see how generalization might be impeded when the distributions' means change that much across training and test sets"
   ]
  },
  {
   "cell_type": "markdown",
   "metadata": {
    "id": "NUjB6Hh3kNvh"
   },
   "source": [
    "### Conclusion\n",
    "\n",
    "From looking at distributional shifts across training, validation and test sets for both the input features and the target variable, we can understand the generalization difficulties of our models (both from training to validation and from training to test sets)."
   ]
  }
 ],
 "metadata": {
  "accelerator": "GPU",
  "colab": {
   "collapsed_sections": [],
   "machine_shape": "hm",
   "name": "Notebook_2_Electricity Price Prediction - Window Size 5.ipynb",
   "provenance": []
  },
  "interpreter": {
   "hash": "89e63de8770f628c77675a9211c73c50d8048a4fbbbf8de889960f40f43afefe"
  },
  "kernelspec": {
   "display_name": "Python 3",
   "language": "python",
   "name": "python3"
  },
  "language_info": {
   "codemirror_mode": {
    "name": "ipython",
    "version": 3
   },
   "file_extension": ".py",
   "mimetype": "text/x-python",
   "name": "python",
   "nbconvert_exporter": "python",
   "pygments_lexer": "ipython3",
   "version": "3.9.2"
  }
 },
 "nbformat": 4,
 "nbformat_minor": 4
}
