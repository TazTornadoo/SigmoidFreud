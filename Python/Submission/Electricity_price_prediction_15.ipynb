{
  "nbformat": 4,
  "nbformat_minor": 0,
  "metadata": {
    "accelerator": "GPU",
    "colab": {
      "name": "Electricity_price_prediction_15.ipynb",
      "provenance": [],
      "collapsed_sections": [],
      "machine_shape": "hm"
    },
    "interpreter": {
      "hash": "89e63de8770f628c77675a9211c73c50d8048a4fbbbf8de889960f40f43afefe"
    },
    "kernelspec": {
      "display_name": "Python 3",
      "language": "python",
      "name": "python3"
    },
    "language_info": {
      "codemirror_mode": {
        "name": "ipython",
        "version": 3
      },
      "file_extension": ".py",
      "mimetype": "text/x-python",
      "name": "python",
      "nbconvert_exporter": "python",
      "pygments_lexer": "ipython3",
      "version": "3.8.5"
    }
  },
  "cells": [
    {
      "cell_type": "markdown",
      "metadata": {
        "id": "gSa2MDIf8bJl"
      },
      "source": [
        "# This is the submission Notebook of Team Sigmoid Freud \n",
        "by Qianjing, Danie, Jacob, Fan, Jan"
      ]
    },
    {
      "cell_type": "markdown",
      "metadata": {
        "id": "5FVGL4igF1gQ"
      },
      "source": [
        "# <b>1.Preparations</b>\n",
        "<b>Firstly, we downloaded the data, imported necessary packages and loaded the data into DataFrames. We have also created a dataframe for summarizing the models' performance. </b>"
      ]
    },
    {
      "cell_type": "code",
      "metadata": {
        "colab": {
          "base_uri": "https://localhost:8080/"
        },
        "id": "0kXqFJuvOXpJ",
        "outputId": "40eeeabc-a3c8-4a0a-976e-16d9794d94a4"
      },
      "source": [
        "pip install tensorflow-addons"
      ],
      "execution_count": 1,
      "outputs": [
        {
          "output_type": "stream",
          "name": "stdout",
          "text": [
            "Collecting tensorflow-addons\n",
            "  Downloading tensorflow_addons-0.14.0-cp37-cp37m-manylinux_2_12_x86_64.manylinux2010_x86_64.whl (1.1 MB)\n",
            "\u001b[?25l\r\u001b[K     |▎                               | 10 kB 22.7 MB/s eta 0:00:01\r\u001b[K     |▋                               | 20 kB 25.7 MB/s eta 0:00:01\r\u001b[K     |▉                               | 30 kB 29.0 MB/s eta 0:00:01\r\u001b[K     |█▏                              | 40 kB 26.1 MB/s eta 0:00:01\r\u001b[K     |█▌                              | 51 kB 17.9 MB/s eta 0:00:01\r\u001b[K     |█▊                              | 61 kB 12.3 MB/s eta 0:00:01\r\u001b[K     |██                              | 71 kB 11.9 MB/s eta 0:00:01\r\u001b[K     |██▍                             | 81 kB 12.8 MB/s eta 0:00:01\r\u001b[K     |██▋                             | 92 kB 14.1 MB/s eta 0:00:01\r\u001b[K     |███                             | 102 kB 13.8 MB/s eta 0:00:01\r\u001b[K     |███▎                            | 112 kB 13.8 MB/s eta 0:00:01\r\u001b[K     |███▌                            | 122 kB 13.8 MB/s eta 0:00:01\r\u001b[K     |███▉                            | 133 kB 13.8 MB/s eta 0:00:01\r\u001b[K     |████▏                           | 143 kB 13.8 MB/s eta 0:00:01\r\u001b[K     |████▍                           | 153 kB 13.8 MB/s eta 0:00:01\r\u001b[K     |████▊                           | 163 kB 13.8 MB/s eta 0:00:01\r\u001b[K     |█████                           | 174 kB 13.8 MB/s eta 0:00:01\r\u001b[K     |█████▎                          | 184 kB 13.8 MB/s eta 0:00:01\r\u001b[K     |█████▋                          | 194 kB 13.8 MB/s eta 0:00:01\r\u001b[K     |██████                          | 204 kB 13.8 MB/s eta 0:00:01\r\u001b[K     |██████▏                         | 215 kB 13.8 MB/s eta 0:00:01\r\u001b[K     |██████▌                         | 225 kB 13.8 MB/s eta 0:00:01\r\u001b[K     |██████▉                         | 235 kB 13.8 MB/s eta 0:00:01\r\u001b[K     |███████                         | 245 kB 13.8 MB/s eta 0:00:01\r\u001b[K     |███████▍                        | 256 kB 13.8 MB/s eta 0:00:01\r\u001b[K     |███████▊                        | 266 kB 13.8 MB/s eta 0:00:01\r\u001b[K     |████████                        | 276 kB 13.8 MB/s eta 0:00:01\r\u001b[K     |████████▎                       | 286 kB 13.8 MB/s eta 0:00:01\r\u001b[K     |████████▋                       | 296 kB 13.8 MB/s eta 0:00:01\r\u001b[K     |████████▉                       | 307 kB 13.8 MB/s eta 0:00:01\r\u001b[K     |█████████▏                      | 317 kB 13.8 MB/s eta 0:00:01\r\u001b[K     |█████████▌                      | 327 kB 13.8 MB/s eta 0:00:01\r\u001b[K     |█████████▊                      | 337 kB 13.8 MB/s eta 0:00:01\r\u001b[K     |██████████                      | 348 kB 13.8 MB/s eta 0:00:01\r\u001b[K     |██████████▍                     | 358 kB 13.8 MB/s eta 0:00:01\r\u001b[K     |██████████▋                     | 368 kB 13.8 MB/s eta 0:00:01\r\u001b[K     |███████████                     | 378 kB 13.8 MB/s eta 0:00:01\r\u001b[K     |███████████▎                    | 389 kB 13.8 MB/s eta 0:00:01\r\u001b[K     |███████████▌                    | 399 kB 13.8 MB/s eta 0:00:01\r\u001b[K     |███████████▉                    | 409 kB 13.8 MB/s eta 0:00:01\r\u001b[K     |████████████▏                   | 419 kB 13.8 MB/s eta 0:00:01\r\u001b[K     |████████████▍                   | 430 kB 13.8 MB/s eta 0:00:01\r\u001b[K     |████████████▊                   | 440 kB 13.8 MB/s eta 0:00:01\r\u001b[K     |█████████████                   | 450 kB 13.8 MB/s eta 0:00:01\r\u001b[K     |█████████████▎                  | 460 kB 13.8 MB/s eta 0:00:01\r\u001b[K     |█████████████▋                  | 471 kB 13.8 MB/s eta 0:00:01\r\u001b[K     |██████████████                  | 481 kB 13.8 MB/s eta 0:00:01\r\u001b[K     |██████████████▏                 | 491 kB 13.8 MB/s eta 0:00:01\r\u001b[K     |██████████████▌                 | 501 kB 13.8 MB/s eta 0:00:01\r\u001b[K     |██████████████▉                 | 512 kB 13.8 MB/s eta 0:00:01\r\u001b[K     |███████████████                 | 522 kB 13.8 MB/s eta 0:00:01\r\u001b[K     |███████████████▍                | 532 kB 13.8 MB/s eta 0:00:01\r\u001b[K     |███████████████▊                | 542 kB 13.8 MB/s eta 0:00:01\r\u001b[K     |████████████████                | 552 kB 13.8 MB/s eta 0:00:01\r\u001b[K     |████████████████▎               | 563 kB 13.8 MB/s eta 0:00:01\r\u001b[K     |████████████████▋               | 573 kB 13.8 MB/s eta 0:00:01\r\u001b[K     |████████████████▉               | 583 kB 13.8 MB/s eta 0:00:01\r\u001b[K     |█████████████████▏              | 593 kB 13.8 MB/s eta 0:00:01\r\u001b[K     |█████████████████▌              | 604 kB 13.8 MB/s eta 0:00:01\r\u001b[K     |█████████████████▊              | 614 kB 13.8 MB/s eta 0:00:01\r\u001b[K     |██████████████████              | 624 kB 13.8 MB/s eta 0:00:01\r\u001b[K     |██████████████████▍             | 634 kB 13.8 MB/s eta 0:00:01\r\u001b[K     |██████████████████▋             | 645 kB 13.8 MB/s eta 0:00:01\r\u001b[K     |███████████████████             | 655 kB 13.8 MB/s eta 0:00:01\r\u001b[K     |███████████████████▎            | 665 kB 13.8 MB/s eta 0:00:01\r\u001b[K     |███████████████████▌            | 675 kB 13.8 MB/s eta 0:00:01\r\u001b[K     |███████████████████▉            | 686 kB 13.8 MB/s eta 0:00:01\r\u001b[K     |████████████████████▏           | 696 kB 13.8 MB/s eta 0:00:01\r\u001b[K     |████████████████████▍           | 706 kB 13.8 MB/s eta 0:00:01\r\u001b[K     |████████████████████▊           | 716 kB 13.8 MB/s eta 0:00:01\r\u001b[K     |█████████████████████           | 727 kB 13.8 MB/s eta 0:00:01\r\u001b[K     |█████████████████████▎          | 737 kB 13.8 MB/s eta 0:00:01\r\u001b[K     |█████████████████████▋          | 747 kB 13.8 MB/s eta 0:00:01\r\u001b[K     |██████████████████████          | 757 kB 13.8 MB/s eta 0:00:01\r\u001b[K     |██████████████████████▏         | 768 kB 13.8 MB/s eta 0:00:01\r\u001b[K     |██████████████████████▌         | 778 kB 13.8 MB/s eta 0:00:01\r\u001b[K     |██████████████████████▉         | 788 kB 13.8 MB/s eta 0:00:01\r\u001b[K     |███████████████████████         | 798 kB 13.8 MB/s eta 0:00:01\r\u001b[K     |███████████████████████▍        | 808 kB 13.8 MB/s eta 0:00:01\r\u001b[K     |███████████████████████▊        | 819 kB 13.8 MB/s eta 0:00:01\r\u001b[K     |████████████████████████        | 829 kB 13.8 MB/s eta 0:00:01\r\u001b[K     |████████████████████████▎       | 839 kB 13.8 MB/s eta 0:00:01\r\u001b[K     |████████████████████████▋       | 849 kB 13.8 MB/s eta 0:00:01\r\u001b[K     |████████████████████████▉       | 860 kB 13.8 MB/s eta 0:00:01\r\u001b[K     |█████████████████████████▏      | 870 kB 13.8 MB/s eta 0:00:01\r\u001b[K     |█████████████████████████▍      | 880 kB 13.8 MB/s eta 0:00:01\r\u001b[K     |█████████████████████████▊      | 890 kB 13.8 MB/s eta 0:00:01\r\u001b[K     |██████████████████████████      | 901 kB 13.8 MB/s eta 0:00:01\r\u001b[K     |██████████████████████████▎     | 911 kB 13.8 MB/s eta 0:00:01\r\u001b[K     |██████████████████████████▋     | 921 kB 13.8 MB/s eta 0:00:01\r\u001b[K     |███████████████████████████     | 931 kB 13.8 MB/s eta 0:00:01\r\u001b[K     |███████████████████████████▏    | 942 kB 13.8 MB/s eta 0:00:01\r\u001b[K     |███████████████████████████▌    | 952 kB 13.8 MB/s eta 0:00:01\r\u001b[K     |███████████████████████████▉    | 962 kB 13.8 MB/s eta 0:00:01\r\u001b[K     |████████████████████████████    | 972 kB 13.8 MB/s eta 0:00:01\r\u001b[K     |████████████████████████████▍   | 983 kB 13.8 MB/s eta 0:00:01\r\u001b[K     |████████████████████████████▊   | 993 kB 13.8 MB/s eta 0:00:01\r\u001b[K     |█████████████████████████████   | 1.0 MB 13.8 MB/s eta 0:00:01\r\u001b[K     |█████████████████████████████▎  | 1.0 MB 13.8 MB/s eta 0:00:01\r\u001b[K     |█████████████████████████████▋  | 1.0 MB 13.8 MB/s eta 0:00:01\r\u001b[K     |█████████████████████████████▉  | 1.0 MB 13.8 MB/s eta 0:00:01\r\u001b[K     |██████████████████████████████▏ | 1.0 MB 13.8 MB/s eta 0:00:01\r\u001b[K     |██████████████████████████████▌ | 1.1 MB 13.8 MB/s eta 0:00:01\r\u001b[K     |██████████████████████████████▊ | 1.1 MB 13.8 MB/s eta 0:00:01\r\u001b[K     |███████████████████████████████ | 1.1 MB 13.8 MB/s eta 0:00:01\r\u001b[K     |███████████████████████████████▍| 1.1 MB 13.8 MB/s eta 0:00:01\r\u001b[K     |███████████████████████████████▋| 1.1 MB 13.8 MB/s eta 0:00:01\r\u001b[K     |████████████████████████████████| 1.1 MB 13.8 MB/s eta 0:00:01\r\u001b[K     |████████████████████████████████| 1.1 MB 13.8 MB/s \n",
            "\u001b[?25hRequirement already satisfied: typeguard>=2.7 in /usr/local/lib/python3.7/dist-packages (from tensorflow-addons) (2.7.1)\n",
            "Installing collected packages: tensorflow-addons\n",
            "Successfully installed tensorflow-addons-0.14.0\n"
          ]
        }
      ]
    },
    {
      "cell_type": "code",
      "metadata": {
        "colab": {
          "base_uri": "https://localhost:8080/"
        },
        "id": "rTAAI259Sslq",
        "outputId": "ba61e99c-a89c-4053-fd94-d1f68e16b17a"
      },
      "source": [
        "from google.colab import drive\n",
        "drive.mount('/content/gdrive')\n",
        "%cd /content/gdrive/MyDrive/Electricity_Data"
      ],
      "execution_count": 2,
      "outputs": [
        {
          "output_type": "stream",
          "name": "stdout",
          "text": [
            "Mounted at /content/gdrive\n",
            "/content/gdrive/MyDrive/Electricity_Data\n"
          ]
        }
      ]
    },
    {
      "cell_type": "code",
      "metadata": {
        "id": "9n31apy383Mu"
      },
      "source": [
        "#Imports basic packages for our tasks\n",
        "import pandas as pd\n",
        "import numpy as np\n",
        "import pickle\n",
        "\n",
        "#Imports visualization packages\n",
        "import matplotlib.pyplot as plt\n",
        "import seaborn as sns\n",
        "\n",
        "#Import ML packages\n",
        "from sklearn.linear_model import LinearRegression\n",
        "from sklearn.dummy import DummyRegressor\n",
        "from sklearn.ensemble import RandomForestRegressor\n",
        "from sklearn.svm import SVR\n",
        "from sklearn.pipeline import Pipeline\n",
        "from sklearn.compose import ColumnTransformer\n",
        "from sklearn.neighbors import KNeighborsRegressor\n",
        "from sklearn.metrics import mean_absolute_error, r2_score, make_scorer\n",
        "from sklearn.preprocessing import MinMaxScaler, PolynomialFeatures\n",
        "from sklearn.model_selection import GridSearchCV, cross_val_score\n",
        "import lightgbm as lgb\n",
        "\n",
        "#Import DL packages\n",
        "import tensorflow as tf\n",
        "import tensorflow.keras as k \n",
        "from keras.models import *\n",
        "from keras.layers import merge\n",
        "from keras.layers.core import *\n",
        "from tensorflow.keras import Model, Sequential\n",
        "from tensorflow.keras import backend as be\n",
        "from tensorflow.keras.layers import *\n",
        "from tensorflow.keras.layers import Dense, Dropout, Input, Conv1D, MaxPool1D, Embedding, Attention\n",
        "from tensorflow.keras.callbacks import ModelCheckpoint, LearningRateScheduler, EarlyStopping\n",
        "from tensorflow.keras.optimizers import Adadelta, Adam, RMSprop\n",
        "from tensorflow.keras.regularizers import *\n",
        "from tensorflow.math import exp\n",
        "import tensorflow_addons as tfa\n",
        "\n",
        "import warnings\n",
        "warnings.filterwarnings('ignore')"
      ],
      "execution_count": 3,
      "outputs": []
    },
    {
      "cell_type": "code",
      "metadata": {
        "id": "Wn6ykoiI9sTr"
      },
      "source": [
        "#Load the datasets with a sliding window size of 15\n",
        "X_train_window_size_15 = pd.read_csv('X_train_window_size_15.csv')\n",
        "X_valid_window_size_15 = pd.read_csv('X_valid_window_size_15.csv')\n",
        "X_test_window_size_15 = pd.read_csv('X_test_window_size_15.csv')\n",
        "X_train_window_size_15_tree = pd.read_csv('X_train_window_size_15_tree.csv')\n",
        "X_valid_window_size_15_tree = pd.read_csv('X_valid_window_size_15_tree.csv')\n",
        "X_test_window_size_15_tree = pd.read_csv('X_test_window_size_15_tree.csv')\n",
        "y_train_window_size_15 = pd.read_csv('y_train_window_size_15.csv')\n",
        "y_valid_window_size_15 = pd.read_csv('y_valid_window_size_15.csv')\n",
        "y_test_window_size_15 = pd.read_csv('y_test_window_size_15.csv')"
      ],
      "execution_count": 4,
      "outputs": []
    },
    {
      "cell_type": "code",
      "metadata": {
        "id": "04g6eCVJdLso"
      },
      "source": [
        "y_train_window_size_15 = y_train_window_size_15['y']\n",
        "y_valid_window_size_15 = y_valid_window_size_15['y']\n",
        "y_test_window_size_15 = y_test_window_size_15['y']"
      ],
      "execution_count": 5,
      "outputs": []
    },
    {
      "cell_type": "code",
      "metadata": {
        "id": "TFt0AP2_R5nG"
      },
      "source": [
        "# Prepare a dataframe to store the performance of all models\n",
        "performance_df = pd.DataFrame(columns=['Model', 'MAE score (on test set)'])"
      ],
      "execution_count": 6,
      "outputs": []
    },
    {
      "cell_type": "markdown",
      "metadata": {
        "id": "be6o3zgDFHtc"
      },
      "source": [
        "# <b>2.Conventional ML models</b>\n",
        "<b>In the second part, conventional ML models are used to make predictions, serving as a baseline to be compared with DL approaches. </b>\n"
      ]
    },
    {
      "cell_type": "markdown",
      "metadata": {
        "id": "MAfDUGoQJXb9"
      },
      "source": [
        "### Evaluation Functions: MAE"
      ]
    },
    {
      "cell_type": "code",
      "metadata": {
        "id": "dMgHAsOIDgZh"
      },
      "source": [
        "def evaluate_model(model, X_test, y_test_true):\n",
        "    predictions = model.predict(X_test)\n",
        "    mae = mean_absolute_error(y_test_true, predictions)\n",
        "    print(\"Mean absolut error on test:\", mae)\n",
        "    return mae"
      ],
      "execution_count": 7,
      "outputs": []
    },
    {
      "cell_type": "code",
      "metadata": {
        "id": "ygVbPd8F3Bo0"
      },
      "source": [
        "def evaluate_3Dmodel(model, X_test, y_test_true):\n",
        "    predictions = model.predict(X_test)\n",
        "    predictions = predictions[:, -1]\n",
        "    mae = mean_absolute_error(y_test_true, predictions)\n",
        "    print(\"Mean absolut error on test:\", mae)\n",
        "    return mae"
      ],
      "execution_count": 8,
      "outputs": []
    },
    {
      "cell_type": "markdown",
      "metadata": {
        "id": "9QBCkmPtKVYt"
      },
      "source": [
        "## <b>2.1.Dummy regressor</b>\n",
        "Takeaways:"
      ]
    },
    {
      "cell_type": "code",
      "metadata": {
        "colab": {
          "base_uri": "https://localhost:8080/"
        },
        "id": "171ofxYqKZqt",
        "outputId": "a1009c84-c7fd-4842-e106-ba4b3d2e4af8"
      },
      "source": [
        "# Modeling\n",
        "dummy_model = DummyRegressor()\n",
        "dummy_model.fit(X_train_window_size_15, y_train_window_size_15)\n",
        "\n",
        "# Evaluate model performance and store it\n",
        "result = evaluate_model(dummy_model, X_test_window_size_15, y_test_window_size_15)\n",
        "performance_df = performance_df.append({'Model': 'Dummy Regressor', \n",
        "                                        'MAE score (on test set)': round(result, 4)},\n",
        "                                       ignore_index=True)"
      ],
      "execution_count": 9,
      "outputs": [
        {
          "output_type": "stream",
          "name": "stdout",
          "text": [
            "Mean absolut error on test: 3.01123314148565\n"
          ]
        }
      ]
    },
    {
      "cell_type": "markdown",
      "metadata": {
        "id": "yinsq3ETKads"
      },
      "source": [
        "## <b>2.2.Linear Regression</b>\n",
        "As expected, the linear models performed poorly for our data, as indicated by the R2 scores for both degree 1 and degree 2 models. The near 0 R2 scores for both validation and testing suggest that dependent variable cannot be explained by our data. Even though in the plots, the predicted y basically covered the actual y, the non-linear nature of our data cannot be captured by linear models. Due to the computational limitation, we only include the degree 2 polynomial regression, which has already served our purpose. "
      ]
    },
    {
      "cell_type": "markdown",
      "metadata": {
        "id": "Hhp6xTm2SJLQ"
      },
      "source": [
        "### Helper functions"
      ]
    },
    {
      "cell_type": "code",
      "metadata": {
        "id": "xH4dFDnYKcuG"
      },
      "source": [
        "# Modify the helper functions specifically for the linear models\n",
        "# Function to perform Cross Validation on Linear Models\n",
        "def get_cv_scores(model, X_train, y_train):\n",
        "    scores = cross_val_score(model, X_train, y_train, cv=5, scoring='r2')\n",
        "    print('CV Mean of R2: ', np.mean(scores))\n",
        "    print('CV STD of R2: ', np.std(scores))\n",
        "\n",
        "# Function to evaluate Linear Models with plots\n",
        "def evaluate_valid(model, X_valid, y_valid, X_test, y_test):\n",
        "    predictions_valid = model.predict(X_valid)\n",
        "    mae_valid = mean_absolute_error(y_valid, predictions_valid)\n",
        "    r2_valid = r2_score(y_valid, predictions_valid)\n",
        "    print(\"Validation MAE:\", mae_valid)\n",
        "    print(\"Validation R2:\", r2_valid)\n",
        "\n",
        "    predictions_test = model.predict(X_test)\n",
        "    mae_test = mean_absolute_error(y_test, predictions_test)\n",
        "    r2_test = r2_score(y_test, predictions_test)\n",
        "    print(\"Test MAE:\", mae_test)\n",
        "    print(\"Test R2:\", r2_test)\n",
        "    \n",
        "    fig=plt.figure()\n",
        "    ax=fig.add_axes([0,0,1,1])\n",
        "    ax.scatter(y_valid, predictions_valid, color='r', label='valid set', alpha=0.2)\n",
        "    ax.scatter(y_test, predictions_test, color='b', label='test set', alpha=0.2)\n",
        "    ax.set_title('Distributions of predicted and real Y')\n",
        "    ax.set_xlabel('Actual Y')\n",
        "    ax.set_ylabel('Predicted Y')\n",
        "    ax.legend()\n",
        "\n",
        "    return mae_test"
      ],
      "execution_count": 10,
      "outputs": []
    },
    {
      "cell_type": "code",
      "metadata": {
        "colab": {
          "base_uri": "https://localhost:8080/",
          "height": 468
        },
        "id": "WkA-SuEiiSzr",
        "outputId": "33c75eb8-a11b-4ffc-cf69-655dbe651447"
      },
      "source": [
        "# Direct Linear Modling on Original Data \n",
        "model_lr = LinearRegression(copy_X=True, n_jobs=100)\n",
        "model_lr.fit(X_train_window_size_15, y_train_window_size_15)\n",
        "\n",
        "# Evaluate model performance and store it\n",
        "get_cv_scores(model_lr, X_train_window_size_15, y_train_window_size_15)\n",
        "evaluate_valid(model_lr, X_valid_window_size_15, y_valid_window_size_15, X_test_window_size_15, y_test_window_size_15)\n",
        "# print('Independent term in the linear model: ', model_lr.intercept_)\n",
        "# print('Estimated coefficients in the linear regression: \\n', model_lr.coef_)\n",
        "performance_df = performance_df.append({'Model': 'Linear Regression', \n",
        "                                        'MAE score (on test set)': round(result, 4)},\n",
        "                                       ignore_index=True)"
      ],
      "execution_count": 11,
      "outputs": [
        {
          "output_type": "stream",
          "name": "stdout",
          "text": [
            "CV Mean of R2:  -0.04501339090207068\n",
            "CV STD of R2:  0.028563834037815462\n",
            "Validation MAE: 3.557461004974547\n",
            "Validation R2: -0.050174386490726475\n",
            "Test MAE: 3.1070344651482813\n",
            "Test R2: -0.038126406257168455\n"
          ]
        },
        {
          "output_type": "display_data",
          "data": {
            "image/png": "[encoded data removed]",
            "text/plain": [
              "<Figure size 432x288 with 1 Axes>"
            ]
          },
          "metadata": {
            "needs_background": "light"
          }
        }
      ]
    },
    {
      "cell_type": "code",
      "metadata": {
        "colab": {
          "base_uri": "https://localhost:8080/",
          "height": 468
        },
        "id": "WJSI2Jo8iSzs",
        "outputId": "1e89caa2-18ad-428c-b94b-48bf5fc8e3f5"
      },
      "source": [
        "# Polynomial Regression (Degree=2) \n",
        "# Transformation of X_train/valid/test datasets\n",
        "polynomial_features= PolynomialFeatures(degree=2)\n",
        "X_train_15_poly = polynomial_features.fit_transform(X_train_window_size_15)\n",
        "X_valid_15_poly = polynomial_features.fit_transform(X_valid_window_size_15)\n",
        "X_test_15_poly = polynomial_features.fit_transform(X_test_window_size_15)\n",
        "\n",
        "# Modeling\n",
        "model_lr = LinearRegression(normalize=True, copy_X=True, n_jobs=100)\n",
        "model_lr.fit(X_train_15_poly, y_train_window_size_15)\n",
        "get_cv_scores(model_lr, X_train_15_poly, y_train_window_size_15)\n",
        "\n",
        "# Evaluate model performance and store it\n",
        "evaluate_valid(model_lr, X_valid_15_poly, y_valid_window_size_15, X_test_15_poly, y_test_window_size_15)\n",
        "performance_df = performance_df.append({'Model': 'Linear Regression (poly transformed)', \n",
        "                                        'MAE score (on test set)': round(result, 4)},\n",
        "                                       ignore_index=True)"
      ],
      "execution_count": 12,
      "outputs": [
        {
          "output_type": "stream",
          "name": "stdout",
          "text": [
            "CV Mean of R2:  -35.95228562453596\n",
            "CV STD of R2:  64.49163346021064\n",
            "Validation MAE: 5.220299393340016\n",
            "Validation R2: -1.1002928290761949\n",
            "Test MAE: 4.919223066456531\n",
            "Test R2: -1.6395526636945683\n"
          ]
        },
        {
          "output_type": "display_data",
          "data": {
            "image/png": "[encoded data removed]",
            "text/plain": [
              "<Figure size 432x288 with 1 Axes>"
            ]
          },
          "metadata": {
            "needs_background": "light"
          }
        }
      ]
    },
    {
      "cell_type": "markdown",
      "metadata": {
        "id": "QubESi9OKe9F"
      },
      "source": [
        "## <b>2.3.Random Forrest</b>\n",
        "- **Intro**:\n",
        "\n",
        "    The Random Forest method fits on the training data using an ensemble of decision trees. An important feature of the model is that it helps avoid overfitting by building each of the tree with a sample of data points as well as a sample of the features of the original training dataset.\n",
        "\n",
        "- **Input data**:\n",
        "\n",
        "    > Training dataset: `X_train_window_size_15_tree` and `y_train_window_size_15`\\\n",
        "    > Validation dataset: `X_valid_window_size_15_tree` and `y_valid_window_size_15`\\\n",
        "    > Testing dataset: `X_test_window_size_15_tree` and `y_test_window_size_15`\n",
        "    \n",
        "    Apart from normalization, the datasets used for Random Forest modelling have also been transformed in terms of their datetime columns, such as for the variable `lasttrade_weekday`. These columns originally consisted of two sets of variables to express a certain datetime point, which has been preprocessed and converted back to their original value.\n",
        "\n",
        "- **Architecture**:\n",
        "\n",
        "    After comparing the models' performance on the validation dataset using GridSearchCV, the best combination of parameters for the Random Forest Regressor is:\n",
        "    | Parameter name    | Value  |\n",
        "    |-------------------|--------|\n",
        "    | n_estimators      | 300    |\n",
        "    | max_features      | 'sqrt' |\n",
        "    | min_samples_split | 10     |\n",
        "    | max_depth         | 8      |\n",
        "    \n",
        "It is worth noting that our group has also tried dropping features that are deemed the least important by the Random Forest model after performing the Grid Search, and there seemed to be little improvement in the model's performance, which is why this part has been excluded here."
      ]
    },
    {
      "cell_type": "code",
      "metadata": {
        "id": "8DmMkD5RiSzt",
        "colab": {
          "base_uri": "https://localhost:8080/"
        },
        "outputId": "10d642e1-274e-4c9f-e59c-ffe4bddac582"
      },
      "source": [
        "# Modeling\n",
        "rfmodel = RandomForestRegressor(random_state=3315, \n",
        "                                max_depth=8,\n",
        "                                n_estimators=300,\n",
        "                                max_features='sqrt',\n",
        "                                min_samples_split=10,\n",
        "                                criterion='mse', n_jobs=-1)\n",
        "rfmodel.fit(X_train_window_size_15_tree, y_train_window_size_15)\n",
        "\n",
        "# Evaluate model performance and store it\n",
        "result = evaluate_model(rfmodel, X_test_window_size_15_tree, y_test_window_size_15)\n",
        "performance_df = performance_df.append({'Model': 'Random Forest', \n",
        "                                        'MAE score (on test set)': round(result, 4)},\n",
        "                                       ignore_index=True)"
      ],
      "execution_count": 13,
      "outputs": [
        {
          "output_type": "stream",
          "name": "stdout",
          "text": [
            "Mean absolut error on test: 3.038908218088867\n"
          ]
        }
      ]
    },
    {
      "cell_type": "markdown",
      "metadata": {
        "id": "ggSt_eL43Bo4"
      },
      "source": [
        "- **Brief summary**:\n",
        "\n",
        "    > As shown in the cell below, the Random Forest model's performance on the test dataset is 3.0389 in terms of MAE.\n",
        "    \n",
        "    ___Limitations___: \n",
        "    \n",
        "    While Random Forest takes advantage of the power of ensemble, which helps avoid overfitting, it simply aggregates all the individual decision trees by training them in parallel. In other words, the trees within the Random Forest model are independent from each other and thus can't learn from each other. To address this disadvantage, we have also tried ensemble of boosted trees as shown in the following section."
      ]
    },
    {
      "cell_type": "markdown",
      "metadata": {
        "id": "7FJGi6FvKjuv"
      },
      "source": [
        "## <b>2.4.Gradient Boosting</b>\n",
        "Takeaways:\n",
        "\n",
        "LightGBM is a gradient boosting framework using tree based approaches. Gradient boosting comes from the idea whether a weak learner can modified to become even better. Additionally, we can state that a Gradient Boosting algorithm consists of 3 elements: 1. a loss function, which needs to be optimized. 2. A weak learner to make predictions of the input data and 3. An additive model which adds weak learners to minimize the loss function. Basically, this means each new added weak learner is trained one minimizing the errors of the previous models.\n",
        "\n",
        "In the beginning we stated the LightGBM is using tree based approaches. This also means for us that we have to conserve the sin/cos features of the time series into real integers because a tree will split its decision after one feature even though the sin/cos of the columns is one feature. \n",
        "In the previous preprocessing notebook we encoded these time series sin/cos features to use LightGBM properly. Gradient Boosting algorithms are aggressive learners which means they overfit fast. That’s why we first have to drop all features with a high correlation.\n",
        "\n",
        "The architecture is really simple since we only need to define the right parameters. Since our group decided to optimize the model for the mean absolute error. The objective was set to regression_l1 and the metric is ‚mae‘ (mean absolute error). The parameters num_leaves and num_round are the most important parameters to tune because these regulate the over-/underfitting of our model. After several trials we identified a small number of leaves with 38 and 17 num of rounds.\n",
        "\n",
        "\n",
        "Performance:\n",
        "\n",
        "The LightGBM model is our best model and was able to achieve a slightly better mean absolute error than the DummyRegressor which was predicting the mean. By having a small number of leaves we regulated the overfitting of the model so it was able to capture more information of the training set to make better predictions on the test set.\n",
        "However, gradient boosting lacks the ability to capture time series information because it is a tree approach. In our opinion we were able to minimize the main disadvantage of overfitting but we think other models can be even better by also using the time series information correctly."
      ]
    },
    {
      "cell_type": "markdown",
      "metadata": {
        "id": "vxgieXwoiSzt"
      },
      "source": [
        "### LightGBM Model"
      ]
    },
    {
      "cell_type": "code",
      "metadata": {
        "colab": {
          "base_uri": "https://localhost:8080/"
        },
        "id": "2wg8qsTyiSzu",
        "outputId": "e469ac4b-2f96-4a11-ed59-bc9723bea6b8"
      },
      "source": [
        "# Process data\n",
        "train_data = lgb.Dataset(X_train_window_size_15_tree, label=y_train_window_size_15)\n",
        "valid_data = lgb.Dataset(X_valid_window_size_15_tree, label=y_valid_window_size_15)\n",
        "test_data = lgb.Dataset(X_test_window_size_15_tree, label=y_test_window_size_15)\n",
        "\n",
        "# Modeling\n",
        "param = {'num_leaves': 38, 'objective': 'regression_l1', 'metric': 'mae'}\n",
        "num_round = 17\n",
        "bst = lgb.train(param, train_data, num_round, valid_sets=[valid_data])\n",
        "\n",
        "# Evaluate model performance and store it\n",
        "result = evaluate_model(bst, X_test_window_size_15_tree, y_test_window_size_15)\n",
        "performance_df = performance_df.append({'Model': 'LightGBM', \n",
        "                                        'MAE score (on test set)': round(result, 4)},\n",
        "                                       ignore_index=True)"
      ],
      "execution_count": 14,
      "outputs": [
        {
          "output_type": "stream",
          "name": "stdout",
          "text": [
            "[1]\tvalid_0's l1: 3.47078\n",
            "[2]\tvalid_0's l1: 3.47027\n",
            "[3]\tvalid_0's l1: 3.46946\n",
            "[4]\tvalid_0's l1: 3.46942\n",
            "[5]\tvalid_0's l1: 3.46718\n",
            "[6]\tvalid_0's l1: 3.46787\n",
            "[7]\tvalid_0's l1: 3.46696\n",
            "[8]\tvalid_0's l1: 3.46824\n",
            "[9]\tvalid_0's l1: 3.46864\n",
            "[10]\tvalid_0's l1: 3.47049\n",
            "[11]\tvalid_0's l1: 3.46982\n",
            "[12]\tvalid_0's l1: 3.46922\n",
            "[13]\tvalid_0's l1: 3.47059\n",
            "[14]\tvalid_0's l1: 3.46897\n",
            "[15]\tvalid_0's l1: 3.46924\n",
            "[16]\tvalid_0's l1: 3.47006\n",
            "[17]\tvalid_0's l1: 3.47219\n",
            "Mean absolut error on test: 3.0055239022394464\n"
          ]
        }
      ]
    },
    {
      "cell_type": "markdown",
      "metadata": {
        "id": "v3_6Q1_LKpr_"
      },
      "source": [
        "## <b>2.5.Support Vector Regression</b>\n",
        "- **Intro**:\n",
        "\n",
        "    The Support Vector Regression model utilizes the kernel trick to project the original dataset to a higher dimension in an efficient way. A main advantage of the model is its ability to tolerate errors within a certain range, which allows the model to become robust.\n",
        "\n",
        "- **Input data**:\n",
        "\n",
        "    The input data of the model has been normalized.\n",
        "    \n",
        "    > Training dataset: `X_train_window_size_15` and `y_train_window_size_15`\\\n",
        "    > Validation dataset: `X_valid_window_size_15` and `y_valid_window_size_15`\\\n",
        "    > Testing dataset: `X_test_window_size_15` and `y_test_window_size_15`\n",
        "    \n",
        "- **Architecture**:\n",
        "\n",
        "    After comparing the models' performance on the validation dataset using GridSearchCV, the best combination of parameters for the Support Vector Regression model is:\n",
        "    | Parameter name    | Value  |\n",
        "    |-------------------|--------|\n",
        "    | kernel      | 'poly'    |\n",
        "    | C      | 25' |"
      ]
    },
    {
      "cell_type": "code",
      "metadata": {
        "id": "DHW0WWe0iSzu",
        "colab": {
          "base_uri": "https://localhost:8080/"
        },
        "outputId": "69b08f94-2bb3-40bf-b0e0-91d41d4e6bf0"
      },
      "source": [
        "# Modeling\n",
        "svrmodel = SVR(kernel='poly', C=25)\n",
        "svrmodel.fit(X_train_window_size_15, y_train_window_size_15)\n",
        "\n",
        "# Evaluate model performance and store it\n",
        "result = evaluate_model(svrmodel, X_test_window_size_15, y_test_window_size_15)\n",
        "performance_df = performance_df.append({'Model': 'Support Vector Regressor', \n",
        "                                        'MAE score (on test set)': round(result, 4)},\n",
        "                                       ignore_index=True)"
      ],
      "execution_count": 15,
      "outputs": [
        {
          "output_type": "stream",
          "name": "stdout",
          "text": [
            "Mean absolut error on test: 3.0078296460070626\n"
          ]
        }
      ]
    },
    {
      "cell_type": "markdown",
      "metadata": {
        "id": "zUYTe3RU3Bo5"
      },
      "source": [
        "- **Brief summary**:\n",
        "\n",
        "    > As shown in the cell above, the Support Vector Regression model's performance on the test dataset is 3.008 in terms of MAE.\n",
        "    \n",
        "    ___Limitations___: \n",
        "    \n",
        "    While Support Vector Regressor manages to introduce non-linearity by projecting the original dataset to a higher dimension space and does it in an effective way, it is relatively time consuming and requires much more resources compared to other models, especially when training on large datasets."
      ]
    },
    {
      "cell_type": "markdown",
      "metadata": {
        "id": "tZI9_UDkX9Wx"
      },
      "source": [
        "## <b>2.6.KNN</b>\n",
        "The optimal k was found doing a grid search for `range(3, 25)`.  \n",
        "\n",
        "For this 'classic' approach, the train and valid set will be put together to make use of cross-validation."
      ]
    },
    {
      "cell_type": "code",
      "metadata": {
        "id": "7prtvVuJYAJi"
      },
      "source": [
        "X_train_window_size_15_classic = X_train_window_size_15.copy().append(X_valid_window_size_15)\n",
        "y_train_window_size_15_classic = y_train_window_size_15.copy().append(y_valid_window_size_15)\n",
        "\n",
        "minmax_transformer_classic = Pipeline(steps=[('minmax', MinMaxScaler())])\n",
        "\n",
        "preprocessor_window_size_15_classic = ColumnTransformer(\n",
        "        remainder='passthrough', #passthough features not listed\n",
        "        transformers=[\n",
        "            ('mm', minmax_transformer_classic , [X_train_window_size_15_classic.columns[1], *[*X_train_window_size_15_classic.columns[17:]]])\n",
        "        ])\n",
        "\n",
        "\n",
        "preprocessor_window_size_15_classic.fit(X_train_window_size_15, y_train_window_size_15)\n",
        "X_train_window_size_15_classic_norm = preprocessor_window_size_15_classic.transform(X_train_window_size_15_classic)\n",
        "X_test_window_size_15_classic_norm = preprocessor_window_size_15_classic.transform(X_test_window_size_15)"
      ],
      "execution_count": 16,
      "outputs": []
    },
    {
      "cell_type": "code",
      "metadata": {
        "id": "vjT9gaXtYCT4"
      },
      "source": [
        "class Knn:\n",
        "\n",
        "    def __init__(self,\n",
        "                 X_train: pd.DataFrame,\n",
        "                 X_test: pd.DataFrame,\n",
        "                 y_train: pd.DataFrame,\n",
        "                 y_test: pd.DataFrame,\n",
        "                 k: int):\n",
        "        self.X_train = X_train\n",
        "        self.X_test = X_test\n",
        "        self.y_train = y_train\n",
        "        self.y_test = y_test\n",
        "        self.k = k\n",
        "        self.model = KNeighborsRegressor(n_neighbors=self.k, n_jobs=-1)\n",
        "        self.mae_scorer = make_scorer(mean_absolute_error)\n",
        "    \n",
        "    def get_cv_scores(self):\n",
        "        return cross_val_score(self.model, self.X_train, self.y_train, cv=5, scoring=self.mae_scorer)\n",
        "\n",
        "    def fit(self):\n",
        "        self.model.fit(self.X_train, self.y_train)\n",
        "\n",
        "    def predict(self):\n",
        "        predictions = self.model.predict(self.X_test)\n",
        "        return predictions\n",
        "\n",
        "    def go(self):\n",
        "        cv_scores = self.get_cv_scores()\n",
        "        self.fit()\n",
        "        predictions = self.predict()\n",
        "        return cv_scores, predictions, self.model"
      ],
      "execution_count": 17,
      "outputs": []
    },
    {
      "cell_type": "code",
      "metadata": {
        "id": "3wEmFe_FYNMo"
      },
      "source": [
        "knn_15 = Knn(\n",
        "    X_train_window_size_15_classic_norm,\n",
        "    X_test_window_size_15_classic_norm,\n",
        "    y_train_window_size_15_classic,\n",
        "    y_test_window_size_15,\n",
        "    k=5\n",
        ")\n",
        "\n",
        "# Fit model and get cross validation scores\n",
        "knn_cv_scores_15, knn_predictions_15, knn_model_15 = knn_15.go()"
      ],
      "execution_count": 18,
      "outputs": []
    },
    {
      "cell_type": "markdown",
      "metadata": {
        "id": "e92XHwEnYOiw"
      },
      "source": [
        "CV Scores for KNN"
      ]
    },
    {
      "cell_type": "code",
      "metadata": {
        "colab": {
          "base_uri": "https://localhost:8080/"
        },
        "id": "V8AxuFo3YPex",
        "outputId": "14f78bb5-5d54-4fc8-9590-9695672ae0bc"
      },
      "source": [
        "knn_cv_scores_15"
      ],
      "execution_count": 19,
      "outputs": [
        {
          "output_type": "execute_result",
          "data": {
            "text/plain": [
              "array([2.41780899, 2.28482631, 2.25901748, 2.55659663, 3.08557565])"
            ]
          },
          "metadata": {},
          "execution_count": 19
        }
      ]
    },
    {
      "cell_type": "code",
      "metadata": {
        "colab": {
          "base_uri": "https://localhost:8080/"
        },
        "id": "NaNORlBWYTc5",
        "outputId": "ecbd0a31-286f-4993-fac7-a9a69179ed82"
      },
      "source": [
        "# Evaluate model performance and store it\n",
        "result = evaluate_model(knn_model_15, X_test_window_size_15_classic_norm, y_test_window_size_15)\n",
        "performance_df = performance_df.append({'Model': 'K-Nearest Neighbor', \n",
        "                                        'MAE score (on test set)': round(result, 4)},\n",
        "                                       ignore_index=True)"
      ],
      "execution_count": 20,
      "outputs": [
        {
          "output_type": "stream",
          "name": "stdout",
          "text": [
            "Mean absolut error on test: 3.276977688787185\n"
          ]
        }
      ]
    },
    {
      "cell_type": "markdown",
      "metadata": {
        "id": "XjhRxGqjKyY6"
      },
      "source": [
        "# <b>3.Creating DL models</b>\n",
        "<b>In this part, we employed multiple DL methods. </b>\n"
      ]
    },
    {
      "cell_type": "markdown",
      "metadata": {
        "id": "AsxkQOUoK3Or"
      },
      "source": [
        "## <b>3.1.Mulit-Layer Perceptron</b>\n",
        "For the MLP, the architecture seemed to be rather irrelevant. Generally speaking, simpler architectures with less neurons seemed to work as well as more complex architectures with several hidden layers and/or a large number of neurons. In total, a few hundred neurons overall were enough. Dropout, LR Scheduling and Adam optimizer created the best results.  \n",
        "We also found that higher batch sizes decreased the MAE.  \n",
        "One interesting finding is that the performance on the validation set would not change after 2-3 epochs. Additionally, the performance on the test set was always better than the performance on the validation set."
      ]
    },
    {
      "cell_type": "code",
      "metadata": {
        "id": "ISkNpOsHLHs8"
      },
      "source": [
        "class Mlp:\n",
        "    \"\"\"\n",
        "    Creates a multilayer-perceptron model.\n",
        "    \"\"\"\n",
        "    def __init__(self, \n",
        "                 X_train: pd.DataFrame, \n",
        "                 X_valid: pd.DataFrame, \n",
        "                 X_test: pd.DataFrame, \n",
        "                 y_train: pd.DataFrame, \n",
        "                 y_valid: pd.DataFrame, \n",
        "                 y_test: pd.DataFrame, \n",
        "                 params: dict, \n",
        "                 layers: list, \n",
        "                 dropout: bool,\n",
        "                 schedulerthresh: int,\n",
        "                 optimizer,\n",
        "                 earlystopping: int\n",
        "                 ):\n",
        "        self.X_train = X_train\n",
        "        self.X_valid = X_valid\n",
        "        self.X_test = X_test\n",
        "        self.y_train = y_train\n",
        "        self.y_valid = y_valid\n",
        "        self.y_test = y_test\n",
        "        self.params = params\n",
        "        self.layers = layers\n",
        "        self.dropout = dropout\n",
        "        self.schedulerthresh = schedulerthresh\n",
        "        self.optimizer = optimizer\n",
        "        self.earlystopping = earlystopping\n",
        "        self.model = Sequential()\n",
        "\n",
        "    def compile_model(self):\n",
        "        be.clear_session()\n",
        "        self.model.add(Input(shape=(self.X_train.shape[1])))\n",
        "        for i in range(len(self.layers)):\n",
        "            self.model.add(Dense(self.layers[i], activation=\"relu\"))\n",
        "            if self.dropout:\n",
        "                self.model.add(Dropout(rate=self.dropout))\n",
        "        self.model.add(Dense(1, activation=\"linear\"))\n",
        "        optimizer = self.optimizer\n",
        "        self.model.compile(loss='mean_absolute_error', optimizer=optimizer)\n",
        "        return self.model\n",
        "        \n",
        "    def fit_model(self):\n",
        "        callbacks = []\n",
        "        if self.scheduler:\n",
        "            callbacks.append(LearningRateScheduler(self.scheduler))\n",
        "        if self.earlystopping:\n",
        "            callbacks.append(EarlyStopping(monitor='loss', \n",
        "                                           patience=self.earlystopping))\n",
        "        history = self.model.fit(x=self.X_train,\n",
        "                                 y=self.y_train, \n",
        "                                 batch_size=self.params[\"BATCH_SIZE\"], \n",
        "                                 validation_data=(self.X_valid,self.y_valid), \n",
        "                                 epochs=self.params[\"EPOCHS\"], \n",
        "                                 callbacks=callbacks, \n",
        "                                 verbose=1, \n",
        "                                 shuffle=False)\n",
        "        return history, self.model\n",
        "\n",
        "    def evaluate_model(self):\n",
        "        eval_score = self.model.evaluate(self.X_test, self.y_test.to_numpy())\n",
        "        return eval_score, self.model\n",
        "\n",
        "    def predict(self):\n",
        "        return self.model.predict(self.X_test)\n",
        "      \n",
        "    def go(self):\n",
        "        self.compile_model()\n",
        "        history, _ = self.fit_model()\n",
        "        eval_score, _ = self.evaluate_model()\n",
        "        predictions = self.predict()\n",
        "        return history, eval_score, predictions, self.model\n",
        "        \n",
        "    def scheduler(self, epoch, lr):\n",
        "        if self.schedulerthresh:\n",
        "            thresh = self.schedulerthresh\n",
        "        else:\n",
        "            thresh = 5\n",
        "        if epoch < thresh:\n",
        "            return lr\n",
        "        else:\n",
        "            return lr*exp(-0.1)\n"
      ],
      "execution_count": 21,
      "outputs": []
    },
    {
      "cell_type": "markdown",
      "metadata": {
        "id": "T-j0UgAFYZ0E"
      },
      "source": [
        "### Creating best model for MLP"
      ]
    },
    {
      "cell_type": "code",
      "metadata": {
        "colab": {
          "base_uri": "https://localhost:8080/"
        },
        "id": "wBuXPTtcYaiD",
        "outputId": "f3f1f422-9838-4d26-e2c7-212f8c893075"
      },
      "source": [
        "params = {\n",
        "    \"BATCH_SIZE\": 2048, \n",
        "    \"EPOCHS\": 10, \n",
        "    \"LEARNING_RATE\": 0.0005}\n",
        "layers = [300, 100]\n",
        "dropout = 0.25\n",
        "scheduler = 5\n",
        "optimizer = Adam(learning_rate=0.0005)\n",
        "earlystopping = 3\n",
        "\n",
        "mlp_15 = Mlp(\n",
        "    X_train_window_size_15,\n",
        "    X_valid_window_size_15,\n",
        "    X_test_window_size_15,\n",
        "    y_train_window_size_15,\n",
        "    y_valid_window_size_15,\n",
        "    y_test_window_size_15,\n",
        "    params,\n",
        "    layers,\n",
        "    dropout,\n",
        "    scheduler,\n",
        "    optimizer,\n",
        "    earlystopping\n",
        ")\n",
        "\n",
        "# Fit the model\n",
        "mlp_history_15, mlp_eval_score_15, mlp_predictions_15, mlp_model_15 = mlp_15.go()"
      ],
      "execution_count": 22,
      "outputs": [
        {
          "output_type": "stream",
          "name": "stdout",
          "text": [
            "Epoch 1/10\n",
            "15/15 [==============================] - 3s 25ms/step - loss: 523.6674 - val_loss: 8.4665\n",
            "Epoch 2/10\n",
            "15/15 [==============================] - 0s 7ms/step - loss: 301.2444 - val_loss: 4.8815\n",
            "Epoch 3/10\n",
            "15/15 [==============================] - 0s 6ms/step - loss: 151.0009 - val_loss: 3.8687\n",
            "Epoch 4/10\n",
            "15/15 [==============================] - 0s 8ms/step - loss: 66.6076 - val_loss: 3.6185\n",
            "Epoch 5/10\n",
            "15/15 [==============================] - 0s 7ms/step - loss: 26.3020 - val_loss: 3.4671\n",
            "Epoch 6/10\n",
            "15/15 [==============================] - 0s 7ms/step - loss: 10.2238 - val_loss: 3.4723\n",
            "Epoch 7/10\n",
            "15/15 [==============================] - 0s 7ms/step - loss: 6.2232 - val_loss: 3.4717\n",
            "Epoch 8/10\n",
            "15/15 [==============================] - 0s 6ms/step - loss: 5.1764 - val_loss: 3.4712\n",
            "Epoch 9/10\n",
            "15/15 [==============================] - 0s 6ms/step - loss: 4.3838 - val_loss: 3.4710\n",
            "Epoch 10/10\n",
            "15/15 [==============================] - 0s 7ms/step - loss: 4.0506 - val_loss: 3.4711\n",
            "110/110 [==============================] - 0s 2ms/step - loss: 3.0076\n"
          ]
        }
      ]
    },
    {
      "cell_type": "code",
      "metadata": {
        "colab": {
          "base_uri": "https://localhost:8080/",
          "height": 295
        },
        "id": "ip9t5h2mYjU-",
        "outputId": "b7238879-5a3d-4308-b962-02079f02e061"
      },
      "source": [
        "loss_values = mlp_history_15.history['loss']\n",
        "val_loss_values = mlp_history_15.history['val_loss']\n",
        "epochs = range(1, len(loss_values)+1)\n",
        "\n",
        "plt.plot(epochs, loss_values, label='Training Loss')\n",
        "plt.plot(epochs, val_loss_values, label='Validation Loss')\n",
        "\n",
        "plt.title(\"Compiling history of MLP model\")\n",
        "plt.xlabel('Epochs')\n",
        "plt.ylabel('Loss')\n",
        "plt.legend()\n",
        "\n",
        "plt.show()"
      ],
      "execution_count": 23,
      "outputs": [
        {
          "output_type": "display_data",
          "data": {
            "image/png": "[encoded data removed]",
            "text/plain": [
              "<Figure size 432x288 with 1 Axes>"
            ]
          },
          "metadata": {
            "needs_background": "light"
          }
        }
      ]
    },
    {
      "cell_type": "markdown",
      "metadata": {
        "id": "v4ENdvgzYcpd"
      },
      "source": [
        "Evaluation Score of MLP"
      ]
    },
    {
      "cell_type": "code",
      "metadata": {
        "colab": {
          "base_uri": "https://localhost:8080/"
        },
        "id": "cXFYaw51Ydo8",
        "outputId": "72b2a176-2782-42e1-98ab-d297327ba86e"
      },
      "source": [
        "print(f\"Mean absolut error on test: {mlp_eval_score_15}\")\n",
        "performance_df = performance_df.append({'Model': 'Mulit-Layer Perceptron', \n",
        "                                        'MAE score (on test set)': round(mlp_eval_score_15, 4)},\n",
        "                                       ignore_index=True)"
      ],
      "execution_count": 24,
      "outputs": [
        {
          "output_type": "stream",
          "name": "stdout",
          "text": [
            "Mean absolut error on test: 3.0075857639312744\n"
          ]
        }
      ]
    },
    {
      "cell_type": "markdown",
      "metadata": {
        "id": "r8uTHXoaK9aK"
      },
      "source": [
        "## <b>3.2.Load 3D data for Recurrent Neural Networks</b>"
      ]
    },
    {
      "cell_type": "code",
      "metadata": {
        "id": "EZfZkUsKY1aJ"
      },
      "source": [
        "#Write code to load the pickles\n",
        "pkl_file = open(\"X_train_unflatten_all_15\", 'rb')\n",
        "X_train_unflatten_all_15 = pickle.load(pkl_file)\n",
        "\n",
        "pkl_file = open(\"X_valid_unflatten_all_15\", 'rb')\n",
        "X_valid_unflatten_all_15 = pickle.load(pkl_file)\n",
        "\n",
        "pkl_file = open(\"X_test_unflatten_all_15\", 'rb')\n",
        "X_test_unflatten_all_15 = pickle.load(pkl_file)"
      ],
      "execution_count": 25,
      "outputs": []
    },
    {
      "cell_type": "markdown",
      "metadata": {
        "id": "2Fc9q7et3Bo-"
      },
      "source": [
        "## <b>3.3.Convolutional Neural Network</b>\n",
        "- **Intro**:\n",
        "\n",
        "   A Convolutional Neural Network model involves multiple filters that can be used to capture complex patterns in the datasets. One of its distinct features is its parameter sharing, which can greatly increase its efficiency.\n",
        "\n",
        "- **Input data**:\n",
        "\n",
        "    The input data of the model has been normalized and rolled into a form of 3D data.\n",
        "    \n",
        "    > Training dataset: `X_train_unflatten_all_15` and `y_train_window_size_15`\\\n",
        "    > Validation dataset: `X_valid_unflatten_all_15` and `y_valid_window_size_15`\\\n",
        "    > Testing dataset: `X_test_unflatten_all_15` and `y_test_window_size_15`\n",
        "    \n",
        "- **Architecture**:\n",
        "\n",
        "    When increasing the complexity of the model (whether by increasing the number of hidden layers or the number of hidden cells), its performance doesn't seem to change. With various experiments, we have arrived at a relatively simple structure that yields similar results to its more complicated alternatives: 2 pairs of Convolutional layers and Max Pooling layers, followed by 2 pairs of fully connected layers and dropout layers."
      ]
    },
    {
      "cell_type": "code",
      "metadata": {
        "id": "4ECBzg9j3Bo-"
      },
      "source": [
        "n_hidden_layers = 2\n",
        "hidden_layer_size = 80\n",
        "dropout_rate = 0.2\n",
        "\n",
        "BATCH_SIZE = 100\n",
        "EPOCHS = 20"
      ],
      "execution_count": 26,
      "outputs": []
    },
    {
      "cell_type": "code",
      "metadata": {
        "id": "UcpbVehM3Bo-",
        "colab": {
          "base_uri": "https://localhost:8080/"
        },
        "outputId": "fe6489f8-6477-41d9-da4d-16054e6229dd"
      },
      "source": [
        "tf.compat.v1.reset_default_graph()\n",
        "be.clear_session()\n",
        "\n",
        "# Define regularizer and initializer\n",
        "regularizer = tf.keras.regularizers.L2(2.)\n",
        "initializer = tf.keras.initializers.RandomUniform()\n",
        "\n",
        "input_shape = np.shape(X_train_unflatten_all_15)\n",
        "column_count = input_shape[2]\n",
        "\n",
        "input_layer=Input(shape=(input_shape[1], column_count))\n",
        "cur_last_layer = input_layer\n",
        "\n",
        "for l in range(n_hidden_layers):\n",
        "    cnn_layer=Conv1D(filters=5, kernel_size=4, \n",
        "                     input_shape=input_shape[1:],\n",
        "                     padding='same',\n",
        "                     kernel_initializer=initializer,\n",
        "                     kernel_regularizer=regularizer)(cur_last_layer)\n",
        "    pool = MaxPool1D(pool_size=2, strides=1)(cnn_layer)\n",
        "    cur_last_layer=pool\n",
        "\n",
        "for l in range(n_hidden_layers):\n",
        "    dense = Dense(100, activation='tanh')(cur_last_layer)\n",
        "    dropout_layer = Dropout(dropout_rate)(dense)\n",
        "    cur_last_layer=dropout_layer\n",
        "\n",
        "predictions=Dense(1)(cur_last_layer)\n",
        "\n",
        "cnn_model=Model(inputs=input_layer, outputs=predictions)\n",
        "cnn_model.summary()"
      ],
      "execution_count": 27,
      "outputs": [
        {
          "output_type": "stream",
          "name": "stdout",
          "text": [
            "Model: \"model\"\n",
            "_________________________________________________________________\n",
            "Layer (type)                 Output Shape              Param #   \n",
            "=================================================================\n",
            "input_1 (InputLayer)         [(None, 14, 22)]          0         \n",
            "_________________________________________________________________\n",
            "conv1d (Conv1D)              (None, 14, 5)             445       \n",
            "_________________________________________________________________\n",
            "max_pooling1d (MaxPooling1D) (None, 13, 5)             0         \n",
            "_________________________________________________________________\n",
            "conv1d_1 (Conv1D)            (None, 13, 5)             105       \n",
            "_________________________________________________________________\n",
            "max_pooling1d_1 (MaxPooling1 (None, 12, 5)             0         \n",
            "_________________________________________________________________\n",
            "dense (Dense)                (None, 12, 100)           600       \n",
            "_________________________________________________________________\n",
            "dropout (Dropout)            (None, 12, 100)           0         \n",
            "_________________________________________________________________\n",
            "dense_1 (Dense)              (None, 12, 100)           10100     \n",
            "_________________________________________________________________\n",
            "dropout_1 (Dropout)          (None, 12, 100)           0         \n",
            "_________________________________________________________________\n",
            "dense_2 (Dense)              (None, 12, 1)             101       \n",
            "=================================================================\n",
            "Total params: 11,351\n",
            "Trainable params: 11,351\n",
            "Non-trainable params: 0\n",
            "_________________________________________________________________\n"
          ]
        }
      ]
    },
    {
      "cell_type": "code",
      "metadata": {
        "id": "AD256EDmLPOq",
        "colab": {
          "base_uri": "https://localhost:8080/"
        },
        "outputId": "d42fb1c2-0a84-4497-fdcf-fa54f6726fc3"
      },
      "source": [
        "optimizer = Adam(learning_rate=0.001)\n",
        "\n",
        "cnn_model.compile(loss='mean_absolute_error', optimizer=optimizer)\n",
        "\n",
        "cnn_history = cnn_model.fit(X_train_unflatten_all_15, y_train_window_size_15,\n",
        "                            validation_data=(X_valid_unflatten_all_15, y_valid_window_size_15),\n",
        "                            epochs=EPOCHS,\n",
        "                            batch_size=BATCH_SIZE)"
      ],
      "execution_count": 28,
      "outputs": [
        {
          "output_type": "stream",
          "name": "stdout",
          "text": [
            "Epoch 1/20\n",
            "299/299 [==============================] - 30s 7ms/step - loss: 2.3229 - val_loss: 3.4716\n",
            "Epoch 2/20\n",
            "299/299 [==============================] - 2s 6ms/step - loss: 2.2786 - val_loss: 3.4719\n",
            "Epoch 3/20\n",
            "299/299 [==============================] - 2s 6ms/step - loss: 2.2784 - val_loss: 3.4703\n",
            "Epoch 4/20\n",
            "299/299 [==============================] - 2s 6ms/step - loss: 2.2783 - val_loss: 3.4701\n",
            "Epoch 5/20\n",
            "299/299 [==============================] - 2s 6ms/step - loss: 2.2783 - val_loss: 3.4708\n",
            "Epoch 6/20\n",
            "299/299 [==============================] - 2s 6ms/step - loss: 2.2783 - val_loss: 3.4703\n",
            "Epoch 7/20\n",
            "299/299 [==============================] - 2s 6ms/step - loss: 2.2782 - val_loss: 3.4706\n",
            "Epoch 8/20\n",
            "299/299 [==============================] - 2s 6ms/step - loss: 2.2782 - val_loss: 3.4704\n",
            "Epoch 9/20\n",
            "299/299 [==============================] - 2s 6ms/step - loss: 2.2782 - val_loss: 3.4709\n",
            "Epoch 10/20\n",
            "299/299 [==============================] - 2s 6ms/step - loss: 2.2781 - val_loss: 3.4705\n",
            "Epoch 11/20\n",
            "299/299 [==============================] - 2s 6ms/step - loss: 2.2781 - val_loss: 3.4705\n",
            "Epoch 12/20\n",
            "299/299 [==============================] - 2s 6ms/step - loss: 2.2781 - val_loss: 3.4710\n",
            "Epoch 13/20\n",
            "299/299 [==============================] - 2s 6ms/step - loss: 2.2781 - val_loss: 3.4705\n",
            "Epoch 14/20\n",
            "299/299 [==============================] - 2s 6ms/step - loss: 2.2781 - val_loss: 3.4707\n",
            "Epoch 15/20\n",
            "299/299 [==============================] - 2s 6ms/step - loss: 2.2780 - val_loss: 3.4708\n",
            "Epoch 16/20\n",
            "299/299 [==============================] - 2s 6ms/step - loss: 2.2781 - val_loss: 3.4707\n",
            "Epoch 17/20\n",
            "299/299 [==============================] - 2s 6ms/step - loss: 2.2780 - val_loss: 3.4705\n",
            "Epoch 18/20\n",
            "299/299 [==============================] - 2s 6ms/step - loss: 2.2781 - val_loss: 3.4705\n",
            "Epoch 19/20\n",
            "299/299 [==============================] - 2s 6ms/step - loss: 2.2781 - val_loss: 3.4704\n",
            "Epoch 20/20\n",
            "299/299 [==============================] - 2s 6ms/step - loss: 2.2781 - val_loss: 3.4704\n"
          ]
        }
      ]
    },
    {
      "cell_type": "code",
      "metadata": {
        "id": "OuEgtB5rLhzE",
        "colab": {
          "base_uri": "https://localhost:8080/",
          "height": 295
        },
        "outputId": "ef35742f-c05f-400d-a83c-461685d91424"
      },
      "source": [
        "loss_values = cnn_history.history['loss']\n",
        "val_loss_values = cnn_history.history['val_loss']\n",
        "epochs = range(1, len(loss_values)+1)\n",
        "\n",
        "plt.plot(epochs, loss_values, label='Training Loss')\n",
        "plt.plot(epochs, val_loss_values, label='Validation Loss')\n",
        "\n",
        "plt.title(\"Compiling history of CNN model\")\n",
        "plt.xlabel('Epochs')\n",
        "plt.ylabel('Loss')\n",
        "plt.legend()\n",
        "\n",
        "plt.show()"
      ],
      "execution_count": 29,
      "outputs": [
        {
          "output_type": "display_data",
          "data": {
            "image/png": "[encoded data removed]",
            "text/plain": [
              "<Figure size 432x288 with 1 Axes>"
            ]
          },
          "metadata": {
            "needs_background": "light"
          }
        }
      ]
    },
    {
      "cell_type": "code",
      "metadata": {
        "id": "DOCNIs7D3Bo-",
        "colab": {
          "base_uri": "https://localhost:8080/"
        },
        "outputId": "fc97313a-6863-4b12-e198-27e94aa33a0a"
      },
      "source": [
        "result = evaluate_3Dmodel(cnn_model, X_test_unflatten_all_15, y_test_window_size_15)\n",
        "performance_df = performance_df.append({'Model': 'CNN', \n",
        "                                        'MAE score (on test set)': round(result, 4)},\n",
        "                                       ignore_index=True)"
      ],
      "execution_count": 30,
      "outputs": [
        {
          "output_type": "stream",
          "name": "stdout",
          "text": [
            "Mean absolut error on test: 3.007618339091019\n"
          ]
        }
      ]
    },
    {
      "cell_type": "markdown",
      "metadata": {
        "id": "rVTqYWP23Bo-"
      },
      "source": [
        "- **Brief summary**:\n",
        "\n",
        "    > As shown in the cell above, the performance of the CNN on the test dataset is 3.008 in terms of MAE.\n",
        "    \n",
        "    ___Limitations___: \n",
        "    \n",
        "    Generally, it is more common to use CNN in image related problems, therefore, it's not surprising that the model cannot achieve high performance here. Moreover, considering the dimensionality of the data fed into the neural network (with a window size of 15 and therefore 14 \"time steps\"), the size of kernel that can be used is rather limited."
      ]
    },
    {
      "cell_type": "markdown",
      "metadata": {
        "id": "wId3Iw9FLR5F"
      },
      "source": [
        "## <b>3.4.Recurrent Neural Network</b>"
      ]
    },
    {
      "cell_type": "markdown",
      "metadata": {
        "id": "87a_H89E3Bo_"
      },
      "source": [
        "### LSTM: Long- Short-Term Memory\n",
        "\n",
        "- **Intro**:\n",
        "\n",
        "   A Long- Short-Term Memory model is a type of Recurrent Neural Network that is often used for sequence data such as in time-series and NLP problems. By introducing an additional vector, i.e., the cell state, the model is able to store important information of the past that is helpful for the prediction of the current state (or forget useless information when needed). Since the task we have involve time series data, LSTM seems to be a natural candidate for achieving high performance.\n",
        "\n",
        "- **Input data**:\n",
        "\n",
        "    The input data of the model has been normalized and rolled into a form of 3D data.\n",
        "    \n",
        "    > Training dataset: `X_train_unflatten_all_15` and `y_train_window_size_15`\\\n",
        "    > Validation dataset: `X_valid_unflatten_all_15` and `y_valid_window_size_15`\\\n",
        "    > Testing dataset: `X_test_unflatten_all_15` and `y_test_window_size_15`\n",
        "    \n",
        "- **Architecture**:\n",
        "\n",
        "    When increasing the complexity of the model (whether by increasing the number of hidden layers or the number of hidden cells), its performance doesn't seem to change. Below is one of the structures that yields similar results to its alternatives, with 3 pairs of LSTM layers and dropout layers followed by 3 pairs of fully connected layers and dropout layers."
      ]
    },
    {
      "cell_type": "code",
      "metadata": {
        "id": "m77mxYiI3Bo_"
      },
      "source": [
        "n_hidden_layers = 3\n",
        "hidden_layer_size = 400\n",
        "dropout_rate = 0.3\n",
        "\n",
        "BATCH_SIZE = 500\n",
        "EPOCHS = 25"
      ],
      "execution_count": 31,
      "outputs": []
    },
    {
      "cell_type": "code",
      "metadata": {
        "id": "etp0Ev4v3Bo_",
        "colab": {
          "base_uri": "https://localhost:8080/"
        },
        "outputId": "d05ba966-e95f-4358-d269-e78546a1a15b"
      },
      "source": [
        "tf.compat.v1.reset_default_graph()\n",
        "be.clear_session()\n",
        "\n",
        "input_shape[2]\n",
        "column_count = np.shape(X_train_unflatten_all_15)[2]\n",
        "\n",
        "input_layer=Input(shape=(np.shape(X_train_unflatten_all_15)[1], column_count))\n",
        "cur_last_layer=input_layer\n",
        "\n",
        "for l in range(n_hidden_layers):\n",
        "    hidden_layer=LSTM(hidden_layer_size, return_sequences=True)(cur_last_layer)\n",
        "    dropout_layer = Dropout(0.5)(hidden_layer)\n",
        "    cur_last_layer=dropout_layer\n",
        "\n",
        "for l in range(n_hidden_layers):\n",
        "    dense = Dense(120, activation='tanh')(cur_last_layer)\n",
        "    dropout_layer = Dropout(dropout_rate)(dense)\n",
        "    cur_last_layer=dropout_layer\n",
        "\n",
        "predictions=Dense(1)(cur_last_layer)\n",
        "\n",
        "lstm_model=Model(inputs=input_layer, outputs=predictions)\n",
        "lstm_model.summary()"
      ],
      "execution_count": 32,
      "outputs": [
        {
          "output_type": "stream",
          "name": "stdout",
          "text": [
            "Model: \"model\"\n",
            "_________________________________________________________________\n",
            "Layer (type)                 Output Shape              Param #   \n",
            "=================================================================\n",
            "input_1 (InputLayer)         [(None, 14, 22)]          0         \n",
            "_________________________________________________________________\n",
            "lstm (LSTM)                  (None, 14, 400)           676800    \n",
            "_________________________________________________________________\n",
            "dropout (Dropout)            (None, 14, 400)           0         \n",
            "_________________________________________________________________\n",
            "lstm_1 (LSTM)                (None, 14, 400)           1281600   \n",
            "_________________________________________________________________\n",
            "dropout_1 (Dropout)          (None, 14, 400)           0         \n",
            "_________________________________________________________________\n",
            "lstm_2 (LSTM)                (None, 14, 400)           1281600   \n",
            "_________________________________________________________________\n",
            "dropout_2 (Dropout)          (None, 14, 400)           0         \n",
            "_________________________________________________________________\n",
            "dense (Dense)                (None, 14, 120)           48120     \n",
            "_________________________________________________________________\n",
            "dropout_3 (Dropout)          (None, 14, 120)           0         \n",
            "_________________________________________________________________\n",
            "dense_1 (Dense)              (None, 14, 120)           14520     \n",
            "_________________________________________________________________\n",
            "dropout_4 (Dropout)          (None, 14, 120)           0         \n",
            "_________________________________________________________________\n",
            "dense_2 (Dense)              (None, 14, 120)           14520     \n",
            "_________________________________________________________________\n",
            "dropout_5 (Dropout)          (None, 14, 120)           0         \n",
            "_________________________________________________________________\n",
            "dense_3 (Dense)              (None, 14, 1)             121       \n",
            "=================================================================\n",
            "Total params: 3,317,281\n",
            "Trainable params: 3,317,281\n",
            "Non-trainable params: 0\n",
            "_________________________________________________________________\n"
          ]
        }
      ]
    },
    {
      "cell_type": "code",
      "metadata": {
        "id": "AB96ZXTj3Bo_",
        "colab": {
          "base_uri": "https://localhost:8080/"
        },
        "outputId": "38f8c283-75db-4304-ec6b-2d78a7d406f5"
      },
      "source": [
        "optimizer = RMSprop(learning_rate=0.0025)\n",
        "lstm_model.compile(loss='mean_absolute_error', optimizer=optimizer)\n",
        "\n",
        "lstm_history = lstm_model.fit(X_train_unflatten_all_15, y_train_window_size_15,\n",
        "                              validation_data=(X_valid_unflatten_all_15, y_valid_window_size_15),\n",
        "                              epochs=EPOCHS,\n",
        "                              batch_size=BATCH_SIZE)"
      ],
      "execution_count": 33,
      "outputs": [
        {
          "output_type": "stream",
          "name": "stdout",
          "text": [
            "Epoch 1/25\n",
            "60/60 [==============================] - 15s 137ms/step - loss: 2.4290 - val_loss: 3.5170\n",
            "Epoch 2/25\n",
            "60/60 [==============================] - 7s 113ms/step - loss: 2.3007 - val_loss: 3.4747\n",
            "Epoch 3/25\n",
            "60/60 [==============================] - 7s 114ms/step - loss: 2.2798 - val_loss: 3.4700\n",
            "Epoch 4/25\n",
            "60/60 [==============================] - 7s 114ms/step - loss: 2.2791 - val_loss: 3.4705\n",
            "Epoch 5/25\n",
            "60/60 [==============================] - 7s 114ms/step - loss: 2.2797 - val_loss: 3.4718\n",
            "Epoch 6/25\n",
            "60/60 [==============================] - 7s 114ms/step - loss: 2.2786 - val_loss: 3.4713\n",
            "Epoch 7/25\n",
            "60/60 [==============================] - 7s 114ms/step - loss: 2.2789 - val_loss: 3.4715\n",
            "Epoch 8/25\n",
            "60/60 [==============================] - 7s 115ms/step - loss: 2.2784 - val_loss: 3.4705\n",
            "Epoch 9/25\n",
            "60/60 [==============================] - 7s 114ms/step - loss: 2.2783 - val_loss: 3.4700\n",
            "Epoch 10/25\n",
            "60/60 [==============================] - 7s 115ms/step - loss: 2.2785 - val_loss: 3.4680\n",
            "Epoch 11/25\n",
            "60/60 [==============================] - 7s 115ms/step - loss: 2.2781 - val_loss: 3.4702\n",
            "Epoch 12/25\n",
            "60/60 [==============================] - 7s 114ms/step - loss: 2.2778 - val_loss: 3.4730\n",
            "Epoch 13/25\n",
            "60/60 [==============================] - 7s 114ms/step - loss: 2.2782 - val_loss: 3.4699\n",
            "Epoch 14/25\n",
            "60/60 [==============================] - 7s 115ms/step - loss: 2.2782 - val_loss: 3.4694\n",
            "Epoch 15/25\n",
            "60/60 [==============================] - 7s 115ms/step - loss: 2.2781 - val_loss: 3.4670\n",
            "Epoch 16/25\n",
            "60/60 [==============================] - 7s 115ms/step - loss: 2.2777 - val_loss: 3.4711\n",
            "Epoch 17/25\n",
            "60/60 [==============================] - 7s 115ms/step - loss: 2.2779 - val_loss: 3.4692\n",
            "Epoch 18/25\n",
            "60/60 [==============================] - 7s 115ms/step - loss: 2.2778 - val_loss: 3.4635\n",
            "Epoch 19/25\n",
            "60/60 [==============================] - 7s 114ms/step - loss: 2.2767 - val_loss: 3.4694\n",
            "Epoch 20/25\n",
            "60/60 [==============================] - 7s 114ms/step - loss: 2.2771 - val_loss: 3.4671\n",
            "Epoch 21/25\n",
            "60/60 [==============================] - 7s 114ms/step - loss: 2.2766 - val_loss: 3.4673\n",
            "Epoch 22/25\n",
            "60/60 [==============================] - 7s 114ms/step - loss: 2.2768 - val_loss: 3.4723\n",
            "Epoch 23/25\n",
            "60/60 [==============================] - 7s 115ms/step - loss: 2.2760 - val_loss: 3.4703\n",
            "Epoch 24/25\n",
            "60/60 [==============================] - 7s 115ms/step - loss: 2.2755 - val_loss: 3.4696\n",
            "Epoch 25/25\n",
            "60/60 [==============================] - 7s 115ms/step - loss: 2.2745 - val_loss: 3.4724\n"
          ]
        }
      ]
    },
    {
      "cell_type": "code",
      "metadata": {
        "id": "xEwdAqq83Bo_",
        "colab": {
          "base_uri": "https://localhost:8080/",
          "height": 295
        },
        "outputId": "106e7460-4635-4d3c-b298-d205b786b140"
      },
      "source": [
        "loss_values = lstm_history.history['loss']\n",
        "val_loss_values = lstm_history.history['val_loss']\n",
        "epochs = range(1, len(loss_values)+1)\n",
        "\n",
        "plt.plot(epochs, loss_values, label='Training Loss')\n",
        "plt.plot(epochs, val_loss_values, label='Validation Loss')\n",
        "\n",
        "plt.title(\"Compiling history of LSTM model\")\n",
        "plt.xlabel('Epochs')\n",
        "plt.ylabel('Loss')\n",
        "plt.legend()\n",
        "\n",
        "plt.show()"
      ],
      "execution_count": 34,
      "outputs": [
        {
          "output_type": "display_data",
          "data": {
            "image/png": "[encoded data removed]",
            "text/plain": [
              "<Figure size 432x288 with 1 Axes>"
            ]
          },
          "metadata": {
            "needs_background": "light"
          }
        }
      ]
    },
    {
      "cell_type": "code",
      "metadata": {
        "id": "YxnEx9Wb3Bo_",
        "colab": {
          "base_uri": "https://localhost:8080/"
        },
        "outputId": "1e1584c3-fcf4-4bf6-ed95-30626b0d92b0"
      },
      "source": [
        "result = evaluate_3Dmodel(lstm_model, X_test_unflatten_all_15, y_test_window_size_15)\n",
        "performance_df = performance_df.append({'Model': 'LSTM', \n",
        "                                        'MAE score (on test set)': round(result, 4)},\n",
        "                                       ignore_index=True)"
      ],
      "execution_count": 35,
      "outputs": [
        {
          "output_type": "stream",
          "name": "stdout",
          "text": [
            "Mean absolut error on test: 3.012931094841213\n"
          ]
        }
      ]
    },
    {
      "cell_type": "markdown",
      "metadata": {
        "id": "vqlK2cbw3Bo_"
      },
      "source": [
        "- **Brief summary**:\n",
        "\n",
        "    > As shown in the cell above, the LSTM model's performance on the test dataset is 3.012 in terms of MAE.\n",
        "    \n",
        "    ___Limitations___: \n",
        "    \n",
        "    While the structure of LSTM, especially the introduction of the cell state, allows it to process sequence data better, again, as mentioned above, due to the limitation caused by dimensionality of the input data (with a window size of 15 and therefore 14 \"time steps\"), the maximum context information that the neural network can store in the cell state is restricted, which is possibly the reason why the network fails to learn much additional information and predict better compared to other models shown above."
      ]
    },
    {
      "cell_type": "markdown",
      "metadata": {
        "id": "9wb_A92G3BpA"
      },
      "source": [
        "### Gated Recurrent Unit\n",
        "\n",
        "- **Intro**:\n",
        "\n",
        "   A Gated Recurrent Unit model is another type of Recurrent Neural Network. Compared to LSTM, a GRU neural network has fewer gates and parameters and therefore is more efficient to train.\n",
        "\n",
        "- **Input data**:\n",
        "\n",
        "    The input data of the model has been normalized and rolled into a form of 3D data.\n",
        "    \n",
        "    > Training dataset: `X_train_unflatten_all_15` and `y_train_window_size_15`\\\n",
        "    > Validation dataset: `X_valid_unflatten_all_15` and `y_valid_window_size_15`\\\n",
        "    > Testing dataset: `X_test_unflatten_all_15` and `y_test_window_size_15`\n",
        "    \n",
        "- **Architecture**:\n",
        "\n",
        "    When increasing the complexity of the model (whether by increasing the number of hidden layers or the number of hidden cells), its performance doesn't seem to change. Below is one of the structures that yields similar results to its alternatives, with 2 GRU layers followed by 2 pairs of fully connected layers and dropout layers."
      ]
    },
    {
      "cell_type": "code",
      "metadata": {
        "id": "OHpHUPfB3BpA"
      },
      "source": [
        "n_hidden_layers = 2\n",
        "hidden_layer_size = 300\n",
        "dropout_rate = 0.5\n",
        "\n",
        "BATCH_SIZE = 300\n",
        "EPOCHS = 20"
      ],
      "execution_count": 36,
      "outputs": []
    },
    {
      "cell_type": "code",
      "metadata": {
        "id": "uvKy-7z13BpA",
        "colab": {
          "base_uri": "https://localhost:8080/"
        },
        "outputId": "42aeea81-91a9-437c-86d6-dd3a3f948aea"
      },
      "source": [
        "tf.compat.v1.reset_default_graph()\n",
        "be.clear_session()\n",
        "\n",
        "column_count = np.shape(X_train_unflatten_all_15)[2]\n",
        "\n",
        "input_layer=Input(shape=(np.shape(X_train_unflatten_all_15)[1], column_count))\n",
        "cur_last_layer=input_layer\n",
        "\n",
        "for l in range(n_hidden_layers):\n",
        "    hidden_layer=GRU(hidden_layer_size, return_sequences=True)(cur_last_layer)\n",
        "    cur_last_layer=hidden_layer\n",
        "\n",
        "for l in range(n_hidden_layers):\n",
        "    dense = Dense(120, activation='sigmoid')(cur_last_layer)\n",
        "    dropout_layer = Dropout(dropout_rate)(dense)\n",
        "    cur_last_layer=dropout_layer\n",
        "predictions=Dense(1)(cur_last_layer)\n",
        "\n",
        "gru_model=Model(inputs=input_layer, outputs=predictions)\n",
        "gru_model.summary()"
      ],
      "execution_count": 37,
      "outputs": [
        {
          "output_type": "stream",
          "name": "stdout",
          "text": [
            "Model: \"model\"\n",
            "_________________________________________________________________\n",
            "Layer (type)                 Output Shape              Param #   \n",
            "=================================================================\n",
            "input_1 (InputLayer)         [(None, 14, 22)]          0         \n",
            "_________________________________________________________________\n",
            "gru (GRU)                    (None, 14, 300)           291600    \n",
            "_________________________________________________________________\n",
            "gru_1 (GRU)                  (None, 14, 300)           541800    \n",
            "_________________________________________________________________\n",
            "dense (Dense)                (None, 14, 120)           36120     \n",
            "_________________________________________________________________\n",
            "dropout (Dropout)            (None, 14, 120)           0         \n",
            "_________________________________________________________________\n",
            "dense_1 (Dense)              (None, 14, 120)           14520     \n",
            "_________________________________________________________________\n",
            "dropout_1 (Dropout)          (None, 14, 120)           0         \n",
            "_________________________________________________________________\n",
            "dense_2 (Dense)              (None, 14, 1)             121       \n",
            "=================================================================\n",
            "Total params: 884,161\n",
            "Trainable params: 884,161\n",
            "Non-trainable params: 0\n",
            "_________________________________________________________________\n"
          ]
        }
      ]
    },
    {
      "cell_type": "code",
      "metadata": {
        "id": "s3LIkBOg3BpA",
        "colab": {
          "base_uri": "https://localhost:8080/"
        },
        "outputId": "41bbad44-58ae-41c8-bcf4-0b1edb8841ff"
      },
      "source": [
        "#For shape remeber, we have a variable defining the \"window\" and the features in the window...\n",
        "optimizer = RMSprop(learning_rate=0.0015)\n",
        "gru_model.compile(loss='mean_absolute_error', optimizer=optimizer)\n",
        "\n",
        "gru_history = gru_model.fit(X_train_unflatten_all_15, y_train_window_size_15,\n",
        "                              validation_data=(X_valid_unflatten_all_15, y_valid_window_size_15),\n",
        "                              epochs=EPOCHS,\n",
        "                              batch_size=BATCH_SIZE)"
      ],
      "execution_count": 38,
      "outputs": [
        {
          "output_type": "stream",
          "name": "stdout",
          "text": [
            "Epoch 1/20\n",
            "100/100 [==============================] - 8s 42ms/step - loss: 2.3349 - val_loss: 3.4699\n",
            "Epoch 2/20\n",
            "100/100 [==============================] - 3s 33ms/step - loss: 2.2827 - val_loss: 3.4696\n",
            "Epoch 3/20\n",
            "100/100 [==============================] - 3s 33ms/step - loss: 2.2791 - val_loss: 3.4699\n",
            "Epoch 4/20\n",
            "100/100 [==============================] - 3s 33ms/step - loss: 2.2785 - val_loss: 3.4699\n",
            "Epoch 5/20\n",
            "100/100 [==============================] - 3s 33ms/step - loss: 2.2782 - val_loss: 3.4702\n",
            "Epoch 6/20\n",
            "100/100 [==============================] - 3s 33ms/step - loss: 2.2778 - val_loss: 3.4706\n",
            "Epoch 7/20\n",
            "100/100 [==============================] - 3s 33ms/step - loss: 2.2769 - val_loss: 3.4704\n",
            "Epoch 8/20\n",
            "100/100 [==============================] - 3s 34ms/step - loss: 2.2766 - val_loss: 3.4712\n",
            "Epoch 9/20\n",
            "100/100 [==============================] - 3s 33ms/step - loss: 2.2751 - val_loss: 3.4710\n",
            "Epoch 10/20\n",
            "100/100 [==============================] - 3s 33ms/step - loss: 2.2751 - val_loss: 3.4783\n",
            "Epoch 11/20\n",
            "100/100 [==============================] - 3s 34ms/step - loss: 2.2735 - val_loss: 3.4778\n",
            "Epoch 12/20\n",
            "100/100 [==============================] - 3s 34ms/step - loss: 2.2720 - val_loss: 3.4848\n",
            "Epoch 13/20\n",
            "100/100 [==============================] - 3s 34ms/step - loss: 2.2701 - val_loss: 3.4781\n",
            "Epoch 14/20\n",
            "100/100 [==============================] - 3s 33ms/step - loss: 2.2691 - val_loss: 3.5031\n",
            "Epoch 15/20\n",
            "100/100 [==============================] - 3s 34ms/step - loss: 2.2657 - val_loss: 3.4792\n",
            "Epoch 16/20\n",
            "100/100 [==============================] - 3s 33ms/step - loss: 2.2652 - val_loss: 3.4801\n",
            "Epoch 17/20\n",
            "100/100 [==============================] - 3s 33ms/step - loss: 2.2626 - val_loss: 3.4823\n",
            "Epoch 18/20\n",
            "100/100 [==============================] - 3s 33ms/step - loss: 2.2608 - val_loss: 3.4841\n",
            "Epoch 19/20\n",
            "100/100 [==============================] - 3s 33ms/step - loss: 2.2585 - val_loss: 3.4809\n",
            "Epoch 20/20\n",
            "100/100 [==============================] - 3s 34ms/step - loss: 2.2550 - val_loss: 3.4898\n"
          ]
        }
      ]
    },
    {
      "cell_type": "code",
      "metadata": {
        "id": "78NdIh6S3BpA",
        "colab": {
          "base_uri": "https://localhost:8080/",
          "height": 295
        },
        "outputId": "82982a38-0dd8-4ab9-afb1-60835e75084e"
      },
      "source": [
        "loss_values = gru_history.history['loss']\n",
        "val_loss_values = gru_history.history['val_loss']\n",
        "epochs = range(1, len(loss_values)+1)\n",
        "\n",
        "plt.plot(epochs, loss_values, label='Training Loss')\n",
        "plt.plot(epochs, val_loss_values, label='Validation Loss')\n",
        "\n",
        "plt.title('Compiling history of GRU model')\n",
        "plt.xlabel('Epochs')\n",
        "plt.ylabel('Loss')\n",
        "plt.legend()\n",
        "\n",
        "plt.show()"
      ],
      "execution_count": 39,
      "outputs": [
        {
          "output_type": "display_data",
          "data": {
            "image/png": "[encoded data removed]",
            "text/plain": [
              "<Figure size 432x288 with 1 Axes>"
            ]
          },
          "metadata": {
            "needs_background": "light"
          }
        }
      ]
    },
    {
      "cell_type": "code",
      "metadata": {
        "id": "A-ic7Zfp3BpA",
        "colab": {
          "base_uri": "https://localhost:8080/"
        },
        "outputId": "63261251-72fd-476e-d593-6b276f13e2ac"
      },
      "source": [
        "result = evaluate_3Dmodel(gru_model, X_test_unflatten_all_15, y_test_window_size_15)\n",
        "performance_df = performance_df.append({'Model': 'GRU', \n",
        "                                        'MAE score (on test set)': round(result, 4)},\n",
        "                                       ignore_index=True)"
      ],
      "execution_count": 40,
      "outputs": [
        {
          "output_type": "stream",
          "name": "stdout",
          "text": [
            "Mean absolut error on test: 3.0185337397594143\n"
          ]
        }
      ]
    },
    {
      "cell_type": "markdown",
      "metadata": {
        "id": "jtwuevAq3BpA"
      },
      "source": [
        "- **Brief summary**:\n",
        "\n",
        "    > As shown in the cell above, the GRU model's performance on the test dataset is 3.018 in terms of MAE.\n",
        "    \n",
        "    Compared to LSTM, GRU yields a slightly worse performance on the test set. Moreover, the graphs of the compile histories of both models seem very similar--both show that there is little learning after the first 2 or 3 epochs.\n",
        "    \n",
        "    ___Limitations___: \n",
        "    \n",
        "    With fewer parameters and gates in the neural network, while the speed of training has been increased, the complexity that can be captured by GRU is also reduced, which could be the reason for its lower performance results."
      ]
    },
    {
      "cell_type": "markdown",
      "metadata": {
        "id": "TIQZq6puLuyx"
      },
      "source": [
        "## <b>3.5.Transformers: Attention is all you need!</b>"
      ]
    },
    {
      "cell_type": "markdown",
      "metadata": {
        "id": "YA5i5Yrt3BpB"
      },
      "source": [
        "### Self-Attention\n",
        "\n",
        "- **Intro**:\n",
        "\n",
        "The Attention mechanism is one of the state of the art architecture. To gain some experience with it our group decided to try the attention architecture on the our electricity data.\n",
        "However, our prediction problem is not a sequence thats why we have to apply the self-attention mechanism. In the self-attention mechanism both the source of the queries and the target of the attention are input embeddings and are learned projections.\n",
        "\n",
        "During training we identified that high drop_out rate of 0.5 helps a lot to have a good convergence. Additionally, a batch size of 64 and and a dense layer size of 256 which enables the model to learn well.\n",
        "\n",
        "Unluckily, the model was also not able to beat the Dummy Regressor but for our group we learned very well how to apply self attention to predict.\n",
        "\n",
        "   \n",
        "\n",
        "- **Input data**:\n",
        "\n",
        "    The input data of the model has been normalized and rolled into a form of 3D data.\n",
        "    \n",
        "    > Training dataset: `X_train_window_size_15` and `y_train_window_size_15`\\\n",
        "    > Validation dataset: `X_valid_window_size_15` and `y_valid_window_size_15`\\\n",
        "    > Testing dataset: `X_test_window_size_15` and `y_test_window_size_15`\n",
        "\n",
        " \n",
        "- **Architecture**:\n",
        "\n",
        "1. Input Layer\n",
        "2. Embedding Layer for the query\n",
        "3. Self-Attention layer with the inputs and embedding layer\n",
        "4. Concatenating the input and attention layer\n",
        "5. 2x Dense Layers followed by a Dropout Layer\n",
        "6. Output Layer with a linear activation function\n"
      ]
    },
    {
      "cell_type": "code",
      "metadata": {
        "id": "T0xbgBz9Vdz0"
      },
      "source": [
        "EPOCHS = 50\n",
        "BATCH_SIZE = 64\n",
        "DENSE_LAYER_SIZE = 256\n",
        "DROP_OUT = 0.0"
      ],
      "execution_count": 41,
      "outputs": []
    },
    {
      "cell_type": "code",
      "metadata": {
        "id": "rzrRV7hWUMS9"
      },
      "source": [
        "tf.compat.v1.reset_default_graph()\n",
        "be.clear_session()\n",
        "\n",
        "def create_self_attention():\n",
        "\n",
        "    be.clear_session()\n",
        "    \n",
        "    inputs_q = Input(shape=(X_train_window_size_15.shape[1],))\n",
        "\n",
        "\n",
        "    dense_embedding_layer_q = Dense(X_train_window_size_15.shape[1], activation='softmax', \n",
        "                   kernel_initializer=k.initializers.HeNormal)(inputs_q)\n",
        "\n",
        "    self_attention = tf.keras.layers.Attention()(\n",
        "       [inputs_q, dense_embedding_layer_q])\n",
        "\n",
        "    attention_inputs = merge.Concatenate()(\n",
        "        [inputs_q, self_attention])\n",
        "\n",
        "    Dense_1 = Dense(DENSE_LAYER_SIZE, name='Dense_1', activation='relu', \n",
        "                    kernel_initializer=k.initializers.HeNormal)(attention_inputs)\n",
        "\n",
        "\n",
        "    Dropout_1 = Dropout(DROP_OUT)(Dense_1)\n",
        "\n",
        "\n",
        "    Dense_2 = Dense(DENSE_LAYER_SIZE, name='Dense_2', activation='relu', \n",
        "                    kernel_initializer=k.initializers.HeNormal)(Dropout_1)\n",
        "\n",
        "    Dropout_2 = Dropout(DROP_OUT)(Dense_2)\n",
        "\n",
        "    output = Dense(1, name='output_layer', activation='linear')(Dropout_2)\n",
        "\n",
        "    model = Model(inputs=[inputs_q], outputs=output)\n",
        "    print(\"Architecture of model:\\n\")\n",
        "    model.summary()\n",
        "\n",
        "    #Since we are using a 'state of the art'-model we also tried the 'state of the art'-optimizer \"ranger\"\n",
        "    radam = tfa.optimizers.RectifiedAdam()\n",
        "    ranger = tfa.optimizers.Lookahead(radam, sync_period=6, slow_step_size=0.5)\n",
        "    \n",
        "    model.compile(optimizer=ranger, loss='mae')\n",
        "\n",
        "    model_history = model.fit(X_train_window_size_15, y_train_window_size_15, validation_data=(X_valid_window_size_15, y_valid_window_size_15), epochs=EPOCHS, batch_size=BATCH_SIZE, shuffle=False)\n",
        "\n",
        "    return model, model_history"
      ],
      "execution_count": 42,
      "outputs": []
    },
    {
      "cell_type": "code",
      "metadata": {
        "colab": {
          "base_uri": "https://localhost:8080/"
        },
        "id": "M4d4KYQ6UOfU",
        "outputId": "76b20c1d-2746-432c-c543-801d8f085886"
      },
      "source": [
        "model, model_history = create_self_attention()"
      ],
      "execution_count": 43,
      "outputs": [
        {
          "output_type": "stream",
          "name": "stdout",
          "text": [
            "Architecture of model:\n",
            "\n",
            "Model: \"model\"\n",
            "__________________________________________________________________________________________________\n",
            "Layer (type)                    Output Shape         Param #     Connected to                     \n",
            "==================================================================================================\n",
            "input_1 (InputLayer)            [(None, 102)]        0                                            \n",
            "__________________________________________________________________________________________________\n",
            "dense (Dense)                   (None, 102)          10506       input_1[0][0]                    \n",
            "__________________________________________________________________________________________________\n",
            "attention (Attention)           (None, 102)          0           input_1[0][0]                    \n",
            "                                                                 dense[0][0]                      \n",
            "__________________________________________________________________________________________________\n",
            "concatenate (Concatenate)       (None, 204)          0           input_1[0][0]                    \n",
            "                                                                 attention[0][0]                  \n",
            "__________________________________________________________________________________________________\n",
            "Dense_1 (Dense)                 (None, 256)          52480       concatenate[0][0]                \n",
            "__________________________________________________________________________________________________\n",
            "dropout (Dropout)               (None, 256)          0           Dense_1[0][0]                    \n",
            "__________________________________________________________________________________________________\n",
            "Dense_2 (Dense)                 (None, 256)          65792       dropout[0][0]                    \n",
            "__________________________________________________________________________________________________\n",
            "dropout_1 (Dropout)             (None, 256)          0           Dense_2[0][0]                    \n",
            "__________________________________________________________________________________________________\n",
            "output_layer (Dense)            (None, 1)            257         dropout_1[0][0]                  \n",
            "==================================================================================================\n",
            "Total params: 129,035\n",
            "Trainable params: 129,035\n",
            "Non-trainable params: 0\n",
            "__________________________________________________________________________________________________\n",
            "Epoch 1/50\n",
            "467/467 [==============================] - 6s 8ms/step - loss: 82.8988 - val_loss: 7.8314\n",
            "Epoch 2/50\n",
            "467/467 [==============================] - 3s 7ms/step - loss: 94.7344 - val_loss: 5.0500\n",
            "Epoch 3/50\n",
            "467/467 [==============================] - 3s 7ms/step - loss: 104.7544 - val_loss: 11.7270\n",
            "Epoch 4/50\n",
            "467/467 [==============================] - 3s 7ms/step - loss: 99.8425 - val_loss: 5.9441\n",
            "Epoch 5/50\n",
            "467/467 [==============================] - 3s 7ms/step - loss: 93.3505 - val_loss: 5.4257\n",
            "Epoch 6/50\n",
            "467/467 [==============================] - 3s 7ms/step - loss: 88.7790 - val_loss: 15.0491\n",
            "Epoch 7/50\n",
            "467/467 [==============================] - 3s 7ms/step - loss: 87.1410 - val_loss: 15.6491\n",
            "Epoch 8/50\n",
            "467/467 [==============================] - 3s 7ms/step - loss: 81.6990 - val_loss: 3.9608\n",
            "Epoch 9/50\n",
            "467/467 [==============================] - 3s 7ms/step - loss: 79.0880 - val_loss: 5.1856\n",
            "Epoch 10/50\n",
            "467/467 [==============================] - 3s 7ms/step - loss: 66.0685 - val_loss: 12.9281\n",
            "Epoch 11/50\n",
            "467/467 [==============================] - 3s 7ms/step - loss: 36.5363 - val_loss: 6.1673\n",
            "Epoch 12/50\n",
            "467/467 [==============================] - 3s 7ms/step - loss: 58.4757 - val_loss: 14.5671\n",
            "Epoch 13/50\n",
            "467/467 [==============================] - 3s 7ms/step - loss: 54.0652 - val_loss: 8.8401\n",
            "Epoch 14/50\n",
            "467/467 [==============================] - 3s 7ms/step - loss: 49.5119 - val_loss: 9.8088\n",
            "Epoch 15/50\n",
            "467/467 [==============================] - 3s 7ms/step - loss: 42.9218 - val_loss: 16.0333\n",
            "Epoch 16/50\n",
            "467/467 [==============================] - 3s 7ms/step - loss: 48.9628 - val_loss: 3.9309\n",
            "Epoch 17/50\n",
            "467/467 [==============================] - 3s 7ms/step - loss: 39.6783 - val_loss: 5.1942\n",
            "Epoch 18/50\n",
            "467/467 [==============================] - 3s 7ms/step - loss: 34.5155 - val_loss: 12.0480\n",
            "Epoch 19/50\n",
            "467/467 [==============================] - 3s 7ms/step - loss: 30.6015 - val_loss: 10.0912\n",
            "Epoch 20/50\n",
            "467/467 [==============================] - 3s 7ms/step - loss: 28.9329 - val_loss: 5.4113\n",
            "Epoch 21/50\n",
            "467/467 [==============================] - 3s 7ms/step - loss: 27.7595 - val_loss: 10.8134\n",
            "Epoch 22/50\n",
            "467/467 [==============================] - 3s 7ms/step - loss: 26.4525 - val_loss: 3.6331\n",
            "Epoch 23/50\n",
            "467/467 [==============================] - 3s 7ms/step - loss: 25.2605 - val_loss: 7.1956\n",
            "Epoch 24/50\n",
            "467/467 [==============================] - 3s 7ms/step - loss: 24.4772 - val_loss: 3.8657\n",
            "Epoch 25/50\n",
            "467/467 [==============================] - 3s 7ms/step - loss: 21.6031 - val_loss: 3.6324\n",
            "Epoch 26/50\n",
            "467/467 [==============================] - 3s 7ms/step - loss: 20.2295 - val_loss: 4.7270\n",
            "Epoch 27/50\n",
            "467/467 [==============================] - 3s 7ms/step - loss: 19.4912 - val_loss: 3.5795\n",
            "Epoch 28/50\n",
            "467/467 [==============================] - 3s 7ms/step - loss: 16.7338 - val_loss: 3.4939\n",
            "Epoch 29/50\n",
            "467/467 [==============================] - 3s 7ms/step - loss: 14.0691 - val_loss: 3.7233\n",
            "Epoch 30/50\n",
            "467/467 [==============================] - 3s 7ms/step - loss: 13.3518 - val_loss: 3.6252\n",
            "Epoch 31/50\n",
            "467/467 [==============================] - 3s 7ms/step - loss: 13.5308 - val_loss: 3.8462\n",
            "Epoch 32/50\n",
            "467/467 [==============================] - 3s 7ms/step - loss: 12.2949 - val_loss: 3.7455\n",
            "Epoch 33/50\n",
            "467/467 [==============================] - 3s 7ms/step - loss: 10.6514 - val_loss: 4.3488\n",
            "Epoch 34/50\n",
            "467/467 [==============================] - 3s 7ms/step - loss: 9.5403 - val_loss: 4.1117\n",
            "Epoch 35/50\n",
            "467/467 [==============================] - 3s 7ms/step - loss: 7.8273 - val_loss: 3.5855\n",
            "Epoch 36/50\n",
            "467/467 [==============================] - 3s 7ms/step - loss: 7.7663 - val_loss: 3.4986\n",
            "Epoch 37/50\n",
            "467/467 [==============================] - 3s 7ms/step - loss: 8.6487 - val_loss: 3.9692\n",
            "Epoch 38/50\n",
            "467/467 [==============================] - 3s 7ms/step - loss: 7.9108 - val_loss: 3.8870\n",
            "Epoch 39/50\n",
            "467/467 [==============================] - 3s 7ms/step - loss: 7.2898 - val_loss: 3.8790\n",
            "Epoch 40/50\n",
            "467/467 [==============================] - 3s 7ms/step - loss: 5.0508 - val_loss: 3.6687\n",
            "Epoch 41/50\n",
            "467/467 [==============================] - 4s 8ms/step - loss: 6.4069 - val_loss: 3.7201\n",
            "Epoch 42/50\n",
            "467/467 [==============================] - 3s 7ms/step - loss: 6.9809 - val_loss: 3.5333\n",
            "Epoch 43/50\n",
            "467/467 [==============================] - 3s 7ms/step - loss: 6.7496 - val_loss: 3.6477\n",
            "Epoch 44/50\n",
            "467/467 [==============================] - 3s 7ms/step - loss: 5.6123 - val_loss: 4.1885\n",
            "Epoch 45/50\n",
            "467/467 [==============================] - 3s 7ms/step - loss: 5.6759 - val_loss: 3.5099\n",
            "Epoch 46/50\n",
            "467/467 [==============================] - 3s 7ms/step - loss: 5.4656 - val_loss: 3.4723\n",
            "Epoch 47/50\n",
            "467/467 [==============================] - 3s 7ms/step - loss: 3.3930 - val_loss: 4.2126\n",
            "Epoch 48/50\n",
            "467/467 [==============================] - 3s 7ms/step - loss: 3.8439 - val_loss: 4.4161\n",
            "Epoch 49/50\n",
            "467/467 [==============================] - 3s 7ms/step - loss: 4.3895 - val_loss: 4.3502\n",
            "Epoch 50/50\n",
            "467/467 [==============================] - 3s 7ms/step - loss: 3.4064 - val_loss: 3.9039\n"
          ]
        }
      ]
    },
    {
      "cell_type": "code",
      "metadata": {
        "colab": {
          "base_uri": "https://localhost:8080/",
          "height": 279
        },
        "id": "pX-aqRjrUVFR",
        "outputId": "afe23411-1401-45b8-8f0b-e82894c480b2"
      },
      "source": [
        "loss_values = model_history.history['loss']\n",
        "val_loss_values = model_history.history['val_loss']\n",
        "epochs = range(1, len(loss_values)+1)\n",
        "\n",
        "plt.plot(epochs, loss_values, label='Training Loss')\n",
        "plt.plot(epochs, val_loss_values, label='Validation Loss')\n",
        "plt.xlabel('Epochs')\n",
        "plt.ylabel('Loss')\n",
        "plt.legend()\n",
        "\n",
        "plt.show()"
      ],
      "execution_count": 44,
      "outputs": [
        {
          "output_type": "display_data",
          "data": {
            "image/png": "[encoded data removed]",
            "text/plain": [
              "<Figure size 432x288 with 1 Axes>"
            ]
          },
          "metadata": {
            "needs_background": "light"
          }
        }
      ]
    },
    {
      "cell_type": "code",
      "metadata": {
        "colab": {
          "base_uri": "https://localhost:8080/"
        },
        "id": "4tNBSDC1UPWP",
        "outputId": "62f7605b-8898-4d6e-ab48-4be40e9834ff"
      },
      "source": [
        "evaluate_model(model, X_test_window_size_15, y_test_window_size_15)\n",
        "performance_df = performance_df.append({'Model': 'Self-Attention', \n",
        "                                        'MAE score (on test set)': round(result, 4)},\n",
        "                                       ignore_index=True)"
      ],
      "execution_count": 45,
      "outputs": [
        {
          "output_type": "stream",
          "name": "stdout",
          "text": [
            "Mean absolut error on test: 3.3717389140426435\n"
          ]
        }
      ]
    },
    {
      "cell_type": "markdown",
      "metadata": {
        "id": "fFcQ3jQPVq8m"
      },
      "source": [
        "# <b>4.Summary</b>\n",
        "<b>In this part, we summairzed the results of all the models above. </b>\n"
      ]
    },
    {
      "cell_type": "code",
      "metadata": {
        "colab": {
          "base_uri": "https://localhost:8080/",
          "height": 421
        },
        "id": "AWmAIR0XVrNf",
        "outputId": "dd2fbc9f-75ca-4eb0-fd1e-ff547b1e9f98"
      },
      "source": [
        "performance_df.sort_values('MAE score (on test set)')"
      ],
      "execution_count": 46,
      "outputs": [
        {
          "output_type": "execute_result",
          "data": {
            "text/html": [
              "<div>\n",
              "<style scoped>\n",
              "    .dataframe tbody tr th:only-of-type {\n",
              "        vertical-align: middle;\n",
              "    }\n",
              "\n",
              "    .dataframe tbody tr th {\n",
              "        vertical-align: top;\n",
              "    }\n",
              "\n",
              "    .dataframe thead th {\n",
              "        text-align: right;\n",
              "    }\n",
              "</style>\n",
              "<table border=\"1\" class=\"dataframe\">\n",
              "  <thead>\n",
              "    <tr style=\"text-align: right;\">\n",
              "      <th></th>\n",
              "      <th>Model</th>\n",
              "      <th>MAE score (on test set)</th>\n",
              "    </tr>\n",
              "  </thead>\n",
              "  <tbody>\n",
              "    <tr>\n",
              "      <th>4</th>\n",
              "      <td>LightGBM</td>\n",
              "      <td>3.0055</td>\n",
              "    </tr>\n",
              "    <tr>\n",
              "      <th>7</th>\n",
              "      <td>Mulit-Layer Perceptron</td>\n",
              "      <td>3.0076</td>\n",
              "    </tr>\n",
              "    <tr>\n",
              "      <th>8</th>\n",
              "      <td>CNN</td>\n",
              "      <td>3.0076</td>\n",
              "    </tr>\n",
              "    <tr>\n",
              "      <th>5</th>\n",
              "      <td>Support Vector Regressor</td>\n",
              "      <td>3.0078</td>\n",
              "    </tr>\n",
              "    <tr>\n",
              "      <th>0</th>\n",
              "      <td>Dummy Regressor</td>\n",
              "      <td>3.0112</td>\n",
              "    </tr>\n",
              "    <tr>\n",
              "      <th>1</th>\n",
              "      <td>Linear Regression</td>\n",
              "      <td>3.0112</td>\n",
              "    </tr>\n",
              "    <tr>\n",
              "      <th>2</th>\n",
              "      <td>Linear Regression (poly transformed)</td>\n",
              "      <td>3.0112</td>\n",
              "    </tr>\n",
              "    <tr>\n",
              "      <th>9</th>\n",
              "      <td>LSTM</td>\n",
              "      <td>3.0129</td>\n",
              "    </tr>\n",
              "    <tr>\n",
              "      <th>10</th>\n",
              "      <td>GRU</td>\n",
              "      <td>3.0185</td>\n",
              "    </tr>\n",
              "    <tr>\n",
              "      <th>11</th>\n",
              "      <td>Self-Attention</td>\n",
              "      <td>3.0185</td>\n",
              "    </tr>\n",
              "    <tr>\n",
              "      <th>3</th>\n",
              "      <td>Random Forest</td>\n",
              "      <td>3.0389</td>\n",
              "    </tr>\n",
              "    <tr>\n",
              "      <th>6</th>\n",
              "      <td>K-Nearest Neighbor</td>\n",
              "      <td>3.2770</td>\n",
              "    </tr>\n",
              "  </tbody>\n",
              "</table>\n",
              "</div>"
            ],
            "text/plain": [
              "                                   Model  MAE score (on test set)\n",
              "4                               LightGBM                   3.0055\n",
              "7                 Mulit-Layer Perceptron                   3.0076\n",
              "8                                    CNN                   3.0076\n",
              "5               Support Vector Regressor                   3.0078\n",
              "0                        Dummy Regressor                   3.0112\n",
              "1                      Linear Regression                   3.0112\n",
              "2   Linear Regression (poly transformed)                   3.0112\n",
              "9                                   LSTM                   3.0129\n",
              "10                                   GRU                   3.0185\n",
              "11                        Self-Attention                   3.0185\n",
              "3                          Random Forest                   3.0389\n",
              "6                     K-Nearest Neighbor                   3.2770"
            ]
          },
          "metadata": {},
          "execution_count": 46
        }
      ]
    },
    {
      "cell_type": "markdown",
      "metadata": {
        "id": "Gn887lVMDZAH"
      },
      "source": [
        "**Observations**: \n",
        "Since the results for data with a window size of 15 are similar to that with a window size of 5, to avoid repetition, please refer to the jupyter notebook/presentation slides for our analysis."
      ]
    }
  ]
}