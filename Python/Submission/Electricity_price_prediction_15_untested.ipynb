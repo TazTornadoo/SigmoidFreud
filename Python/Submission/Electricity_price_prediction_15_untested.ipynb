{
  "nbformat": 4,
  "nbformat_minor": 0,
  "metadata": {
    "accelerator": "GPU",
    "colab": {
      "name": "Electricity_price_prediction_15_untested.ipynb",
      "provenance": [],
      "collapsed_sections": [],
      "machine_shape": "hm"
    },
    "interpreter": {
      "hash": "89e63de8770f628c77675a9211c73c50d8048a4fbbbf8de889960f40f43afefe"
    },
    "kernelspec": {
      "display_name": "Python 3",
      "language": "python",
      "name": "python3"
    },
    "language_info": {
      "codemirror_mode": {
        "name": "ipython",
        "version": 3
      },
      "file_extension": ".py",
      "mimetype": "text/x-python",
      "name": "python",
      "nbconvert_exporter": "python",
      "pygments_lexer": "ipython3",
      "version": "3.8.5"
    }
  },
  "cells": [
    {
      "cell_type": "markdown",
      "metadata": {
        "id": "gSa2MDIf8bJl"
      },
      "source": [
        "# This is the submission Notebook of Team Sigmoid Freud \n",
        "by Qianjing, Danie, Jacob, Fan, Jan"
      ]
    },
    {
      "cell_type": "markdown",
      "metadata": {
        "id": "5FVGL4igF1gQ"
      },
      "source": [
        "# <b>1.Load Packages</b>\n",
        "<b>Firstly, we downloaded the data, imported necessary packages and loaded the data into DataFrames. </b>"
      ]
    },
    {
      "cell_type": "code",
      "metadata": {
        "colab": {
          "base_uri": "https://localhost:8080/"
        },
        "id": "0kXqFJuvOXpJ",
        "outputId": "d67b97c1-4262-4ce4-ca7e-4ea1996ad1ff"
      },
      "source": [
        "pip install tensorflow-addons"
      ],
      "execution_count": 1,
      "outputs": [
        {
          "output_type": "stream",
          "name": "stdout",
          "text": [
            "Collecting tensorflow-addons\n",
            "  Downloading tensorflow_addons-0.14.0-cp37-cp37m-manylinux_2_12_x86_64.manylinux2010_x86_64.whl (1.1 MB)\n",
            "\u001b[?25l\r\u001b[K     |▎                               | 10 kB 23.7 MB/s eta 0:00:01\r\u001b[K     |▋                               | 20 kB 28.2 MB/s eta 0:00:01\r\u001b[K     |▉                               | 30 kB 24.2 MB/s eta 0:00:01\r\u001b[K     |█▏                              | 40 kB 18.9 MB/s eta 0:00:01\r\u001b[K     |█▌                              | 51 kB 15.2 MB/s eta 0:00:01\r\u001b[K     |█▊                              | 61 kB 13.4 MB/s eta 0:00:01\r\u001b[K     |██                              | 71 kB 12.9 MB/s eta 0:00:01\r\u001b[K     |██▍                             | 81 kB 14.1 MB/s eta 0:00:01\r\u001b[K     |██▋                             | 92 kB 14.3 MB/s eta 0:00:01\r\u001b[K     |███                             | 102 kB 11.6 MB/s eta 0:00:01\r\u001b[K     |███▎                            | 112 kB 11.6 MB/s eta 0:00:01\r\u001b[K     |███▌                            | 122 kB 11.6 MB/s eta 0:00:01\r\u001b[K     |███▉                            | 133 kB 11.6 MB/s eta 0:00:01\r\u001b[K     |████▏                           | 143 kB 11.6 MB/s eta 0:00:01\r\u001b[K     |████▍                           | 153 kB 11.6 MB/s eta 0:00:01\r\u001b[K     |████▊                           | 163 kB 11.6 MB/s eta 0:00:01\r\u001b[K     |█████                           | 174 kB 11.6 MB/s eta 0:00:01\r\u001b[K     |█████▎                          | 184 kB 11.6 MB/s eta 0:00:01\r\u001b[K     |█████▋                          | 194 kB 11.6 MB/s eta 0:00:01\r\u001b[K     |██████                          | 204 kB 11.6 MB/s eta 0:00:01\r\u001b[K     |██████▏                         | 215 kB 11.6 MB/s eta 0:00:01\r\u001b[K     |██████▌                         | 225 kB 11.6 MB/s eta 0:00:01\r\u001b[K     |██████▉                         | 235 kB 11.6 MB/s eta 0:00:01\r\u001b[K     |███████                         | 245 kB 11.6 MB/s eta 0:00:01\r\u001b[K     |███████▍                        | 256 kB 11.6 MB/s eta 0:00:01\r\u001b[K     |███████▊                        | 266 kB 11.6 MB/s eta 0:00:01\r\u001b[K     |████████                        | 276 kB 11.6 MB/s eta 0:00:01\r\u001b[K     |████████▎                       | 286 kB 11.6 MB/s eta 0:00:01\r\u001b[K     |████████▋                       | 296 kB 11.6 MB/s eta 0:00:01\r\u001b[K     |████████▉                       | 307 kB 11.6 MB/s eta 0:00:01\r\u001b[K     |█████████▏                      | 317 kB 11.6 MB/s eta 0:00:01\r\u001b[K     |█████████▌                      | 327 kB 11.6 MB/s eta 0:00:01\r\u001b[K     |█████████▊                      | 337 kB 11.6 MB/s eta 0:00:01\r\u001b[K     |██████████                      | 348 kB 11.6 MB/s eta 0:00:01\r\u001b[K     |██████████▍                     | 358 kB 11.6 MB/s eta 0:00:01\r\u001b[K     |██████████▋                     | 368 kB 11.6 MB/s eta 0:00:01\r\u001b[K     |███████████                     | 378 kB 11.6 MB/s eta 0:00:01\r\u001b[K     |███████████▎                    | 389 kB 11.6 MB/s eta 0:00:01\r\u001b[K     |███████████▌                    | 399 kB 11.6 MB/s eta 0:00:01\r\u001b[K     |███████████▉                    | 409 kB 11.6 MB/s eta 0:00:01\r\u001b[K     |████████████▏                   | 419 kB 11.6 MB/s eta 0:00:01\r\u001b[K     |████████████▍                   | 430 kB 11.6 MB/s eta 0:00:01\r\u001b[K     |████████████▊                   | 440 kB 11.6 MB/s eta 0:00:01\r\u001b[K     |█████████████                   | 450 kB 11.6 MB/s eta 0:00:01\r\u001b[K     |█████████████▎                  | 460 kB 11.6 MB/s eta 0:00:01\r\u001b[K     |█████████████▋                  | 471 kB 11.6 MB/s eta 0:00:01\r\u001b[K     |██████████████                  | 481 kB 11.6 MB/s eta 0:00:01\r\u001b[K     |██████████████▏                 | 491 kB 11.6 MB/s eta 0:00:01\r\u001b[K     |██████████████▌                 | 501 kB 11.6 MB/s eta 0:00:01\r\u001b[K     |██████████████▉                 | 512 kB 11.6 MB/s eta 0:00:01\r\u001b[K     |███████████████                 | 522 kB 11.6 MB/s eta 0:00:01\r\u001b[K     |███████████████▍                | 532 kB 11.6 MB/s eta 0:00:01\r\u001b[K     |███████████████▊                | 542 kB 11.6 MB/s eta 0:00:01\r\u001b[K     |████████████████                | 552 kB 11.6 MB/s eta 0:00:01\r\u001b[K     |████████████████▎               | 563 kB 11.6 MB/s eta 0:00:01\r\u001b[K     |████████████████▋               | 573 kB 11.6 MB/s eta 0:00:01\r\u001b[K     |████████████████▉               | 583 kB 11.6 MB/s eta 0:00:01\r\u001b[K     |█████████████████▏              | 593 kB 11.6 MB/s eta 0:00:01\r\u001b[K     |█████████████████▌              | 604 kB 11.6 MB/s eta 0:00:01\r\u001b[K     |█████████████████▊              | 614 kB 11.6 MB/s eta 0:00:01\r\u001b[K     |██████████████████              | 624 kB 11.6 MB/s eta 0:00:01\r\u001b[K     |██████████████████▍             | 634 kB 11.6 MB/s eta 0:00:01\r\u001b[K     |██████████████████▋             | 645 kB 11.6 MB/s eta 0:00:01\r\u001b[K     |███████████████████             | 655 kB 11.6 MB/s eta 0:00:01\r\u001b[K     |███████████████████▎            | 665 kB 11.6 MB/s eta 0:00:01\r\u001b[K     |███████████████████▌            | 675 kB 11.6 MB/s eta 0:00:01\r\u001b[K     |███████████████████▉            | 686 kB 11.6 MB/s eta 0:00:01\r\u001b[K     |████████████████████▏           | 696 kB 11.6 MB/s eta 0:00:01\r\u001b[K     |████████████████████▍           | 706 kB 11.6 MB/s eta 0:00:01\r\u001b[K     |████████████████████▊           | 716 kB 11.6 MB/s eta 0:00:01\r\u001b[K     |█████████████████████           | 727 kB 11.6 MB/s eta 0:00:01\r\u001b[K     |█████████████████████▎          | 737 kB 11.6 MB/s eta 0:00:01\r\u001b[K     |█████████████████████▋          | 747 kB 11.6 MB/s eta 0:00:01\r\u001b[K     |██████████████████████          | 757 kB 11.6 MB/s eta 0:00:01\r\u001b[K     |██████████████████████▏         | 768 kB 11.6 MB/s eta 0:00:01\r\u001b[K     |██████████████████████▌         | 778 kB 11.6 MB/s eta 0:00:01\r\u001b[K     |██████████████████████▉         | 788 kB 11.6 MB/s eta 0:00:01\r\u001b[K     |███████████████████████         | 798 kB 11.6 MB/s eta 0:00:01\r\u001b[K     |███████████████████████▍        | 808 kB 11.6 MB/s eta 0:00:01\r\u001b[K     |███████████████████████▊        | 819 kB 11.6 MB/s eta 0:00:01\r\u001b[K     |████████████████████████        | 829 kB 11.6 MB/s eta 0:00:01\r\u001b[K     |████████████████████████▎       | 839 kB 11.6 MB/s eta 0:00:01\r\u001b[K     |████████████████████████▋       | 849 kB 11.6 MB/s eta 0:00:01\r\u001b[K     |████████████████████████▉       | 860 kB 11.6 MB/s eta 0:00:01\r\u001b[K     |█████████████████████████▏      | 870 kB 11.6 MB/s eta 0:00:01\r\u001b[K     |█████████████████████████▍      | 880 kB 11.6 MB/s eta 0:00:01\r\u001b[K     |█████████████████████████▊      | 890 kB 11.6 MB/s eta 0:00:01\r\u001b[K     |██████████████████████████      | 901 kB 11.6 MB/s eta 0:00:01\r\u001b[K     |██████████████████████████▎     | 911 kB 11.6 MB/s eta 0:00:01\r\u001b[K     |██████████████████████████▋     | 921 kB 11.6 MB/s eta 0:00:01\r\u001b[K     |███████████████████████████     | 931 kB 11.6 MB/s eta 0:00:01\r\u001b[K     |███████████████████████████▏    | 942 kB 11.6 MB/s eta 0:00:01\r\u001b[K     |███████████████████████████▌    | 952 kB 11.6 MB/s eta 0:00:01\r\u001b[K     |███████████████████████████▉    | 962 kB 11.6 MB/s eta 0:00:01\r\u001b[K     |████████████████████████████    | 972 kB 11.6 MB/s eta 0:00:01\r\u001b[K     |████████████████████████████▍   | 983 kB 11.6 MB/s eta 0:00:01\r\u001b[K     |████████████████████████████▊   | 993 kB 11.6 MB/s eta 0:00:01\r\u001b[K     |█████████████████████████████   | 1.0 MB 11.6 MB/s eta 0:00:01\r\u001b[K     |█████████████████████████████▎  | 1.0 MB 11.6 MB/s eta 0:00:01\r\u001b[K     |█████████████████████████████▋  | 1.0 MB 11.6 MB/s eta 0:00:01\r\u001b[K     |█████████████████████████████▉  | 1.0 MB 11.6 MB/s eta 0:00:01\r\u001b[K     |██████████████████████████████▏ | 1.0 MB 11.6 MB/s eta 0:00:01\r\u001b[K     |██████████████████████████████▌ | 1.1 MB 11.6 MB/s eta 0:00:01\r\u001b[K     |██████████████████████████████▊ | 1.1 MB 11.6 MB/s eta 0:00:01\r\u001b[K     |███████████████████████████████ | 1.1 MB 11.6 MB/s eta 0:00:01\r\u001b[K     |███████████████████████████████▍| 1.1 MB 11.6 MB/s eta 0:00:01\r\u001b[K     |███████████████████████████████▋| 1.1 MB 11.6 MB/s eta 0:00:01\r\u001b[K     |████████████████████████████████| 1.1 MB 11.6 MB/s eta 0:00:01\r\u001b[K     |████████████████████████████████| 1.1 MB 11.6 MB/s \n",
            "\u001b[?25hRequirement already satisfied: typeguard>=2.7 in /usr/local/lib/python3.7/dist-packages (from tensorflow-addons) (2.7.1)\n",
            "Installing collected packages: tensorflow-addons\n",
            "Successfully installed tensorflow-addons-0.14.0\n"
          ]
        }
      ]
    },
    {
      "cell_type": "code",
      "metadata": {
        "colab": {
          "base_uri": "https://localhost:8080/"
        },
        "id": "rTAAI259Sslq",
        "outputId": "aa5fee38-a916-4894-8cce-90dcef15edd0"
      },
      "source": [
        "from google.colab import drive\n",
        "drive.mount('/content/gdrive')\n",
        "%cd /content/gdrive/MyDrive/Electricity_Data"
      ],
      "execution_count": 2,
      "outputs": [
        {
          "output_type": "stream",
          "name": "stdout",
          "text": [
            "Mounted at /content/gdrive\n",
            "/content/gdrive/MyDrive/Electricity_Data\n"
          ]
        }
      ]
    },
    {
      "cell_type": "code",
      "metadata": {
        "id": "9n31apy383Mu"
      },
      "source": [
        "#Imports basic packages for our tasks\n",
        "import pandas as pd\n",
        "import numpy as np\n",
        "\n",
        "#Imports visualization packages\n",
        "import matplotlib.pyplot as plt\n",
        "import seaborn as sns\n",
        "\n",
        "#Import ML packages\n",
        "from sklearn.linear_model import LinearRegression\n",
        "from sklearn.dummy import DummyRegressor\n",
        "from sklearn.ensemble import RandomForestRegressor\n",
        "from sklearn.svm import SVR\n",
        "from sklearn.pipeline import Pipeline\n",
        "from sklearn.compose import ColumnTransformer\n",
        "from sklearn.neighbors import KNeighborsRegressor\n",
        "from sklearn.metrics import mean_absolute_error, r2_score, make_scorer\n",
        "from sklearn.preprocessing import MinMaxScaler, PolynomialFeatures\n",
        "from sklearn.model_selection import GridSearchCV, cross_val_score\n",
        "import lightgbm as lgb\n",
        "\n",
        "#Import DL packages\n",
        "import tensorflow as tf\n",
        "import tensorflow.keras as k \n",
        "from keras.models import *\n",
        "from keras.layers import merge\n",
        "from keras.layers.core import *\n",
        "from tensorflow.keras import Model, Sequential\n",
        "from tensorflow.keras import backend as be\n",
        "from tensorflow.keras.layers import *\n",
        "from tensorflow.keras.layers import Dense, Dropout, Input, Conv1D, MaxPool1D, Embedding, Attention\n",
        "from tensorflow.keras.callbacks import ModelCheckpoint, LearningRateScheduler, EarlyStopping\n",
        "from tensorflow.keras.optimizers import Adadelta, Adam, RMSprop\n",
        "from tensorflow.keras.regularizers import *\n",
        "from tensorflow.keras.backend import clear_session\n",
        "from tensorflow.math import exp\n",
        "import tensorflow_addons as tfa\n",
        "\n",
        "import warnings\n",
        "warnings.filterwarnings('ignore')"
      ],
      "execution_count": 3,
      "outputs": []
    },
    {
      "cell_type": "code",
      "metadata": {
        "id": "Wn6ykoiI9sTr"
      },
      "source": [
        "#Load the datasets with a sliding window size of 5\n",
        "X_train_window_size_15 = pd.read_csv('X_train_window_size_15.csv')\n",
        "X_valid_window_size_15 = pd.read_csv('X_valid_window_size_15.csv')\n",
        "X_test_window_size_15 = pd.read_csv('X_test_window_size_15.csv')\n",
        "X_train_window_size_15_tree = pd.read_csv('X_train_window_size_15_tree.csv')\n",
        "X_valid_window_size_15_tree = pd.read_csv('X_valid_window_size_15_tree.csv')\n",
        "X_test_window_size_15_tree = pd.read_csv('X_test_window_size_15_tree.csv')\n",
        "y_train_window_size_15 = pd.read_csv('y_train_window_size_15.csv')\n",
        "y_valid_window_size_15 = pd.read_csv('y_valid_window_size_15.csv')\n",
        "y_test_window_size_15 = pd.read_csv('y_test_window_size_15.csv')"
      ],
      "execution_count": 4,
      "outputs": []
    },
    {
      "cell_type": "code",
      "metadata": {
        "id": "04g6eCVJdLso"
      },
      "source": [
        "y_train_window_size_15 = y_train_window_size_15['y']\n",
        "y_valid_window_size_15 = y_valid_window_size_15['y']\n",
        "y_test_window_size_15 = y_test_window_size_15['y']"
      ],
      "execution_count": 5,
      "outputs": []
    },
    {
      "cell_type": "markdown",
      "metadata": {
        "id": "be6o3zgDFHtc"
      },
      "source": [
        "# <b>2.Conventional ML models</b>\n",
        "<b>In the third part, conventional ML models are used to make predictions, serving as a baseline to be compared with DL approaches. </b>\n"
      ]
    },
    {
      "cell_type": "code",
      "metadata": {
        "id": "tYAX9FR_X1R3"
      },
      "source": [
        "scaler = MinMaxScaler()\n",
        "X_train_window_size_15[X_train_window_size_15.columns[17:]] = scaler.fit_transform(X_train_window_size_15[X_train_window_size_15.columns[17:]])\n",
        "X_valid_window_size_15[X_valid_window_size_15.columns[17:]] = scaler.transform(X_valid_window_size_15[X_valid_window_size_15.columns[17:]])\n",
        "X_test_window_size_15[X_test_window_size_15.columns[17:]] = scaler.transform(X_test_window_size_15[X_test_window_size_15.columns[17:]])\n",
        "\n",
        "#Quick note: It seems like the results are getting worse when normalizing the input set X"
      ],
      "execution_count": 6,
      "outputs": []
    },
    {
      "cell_type": "markdown",
      "metadata": {
        "id": "MAfDUGoQJXb9"
      },
      "source": [
        "### Evaluation Functions: MAE"
      ]
    },
    {
      "cell_type": "code",
      "metadata": {
        "id": "dMgHAsOIDgZh"
      },
      "source": [
        "def evaluate_model(model, X_test, y_test_true):\n",
        "    predictions = model.predict(X_test)\n",
        "    mae = mean_absolute_error(y_test_true, predictions)\n",
        "    print(\"Mean absolut error on test:\", mae)\n",
        "    return mae"
      ],
      "execution_count": 7,
      "outputs": []
    },
    {
      "cell_type": "code",
      "metadata": {
        "id": "ygVbPd8F3Bo0"
      },
      "source": [
        "def evaluate_3Dmodel(model, X_test, y_test_true):\n",
        "    predictions = model.predict(X_test)\n",
        "    predictions = predictions[:, -1]\n",
        "    mae = mean_absolute_error(y_test_true, predictions)\n",
        "    print(\"Mean absolut error on test:\", mae)\n",
        "    return mae"
      ],
      "execution_count": 8,
      "outputs": []
    },
    {
      "cell_type": "markdown",
      "metadata": {
        "id": "9QBCkmPtKVYt"
      },
      "source": [
        "## <b>2.1.Dummy regressor</b>\n",
        "Takeaways:"
      ]
    },
    {
      "cell_type": "code",
      "metadata": {
        "colab": {
          "base_uri": "https://localhost:8080/"
        },
        "id": "171ofxYqKZqt",
        "outputId": "6674af8c-5ee0-4f6d-b976-d8e1d4639131"
      },
      "source": [
        "# Modeling\n",
        "dummy_model = DummyRegressor()\n",
        "dummy_model.fit(X_train_window_size_15, y_train_window_size_15)\n",
        "\n",
        "# Evaluate model performance\n",
        "result = evaluate_model(dummy_model, X_test_window_size_15, y_test_window_size_15)"
      ],
      "execution_count": 9,
      "outputs": [
        {
          "output_type": "stream",
          "name": "stdout",
          "text": [
            "Mean absolut error on test: 3.01123314148565\n"
          ]
        }
      ]
    },
    {
      "cell_type": "markdown",
      "metadata": {
        "id": "yinsq3ETKads"
      },
      "source": [
        "## <b>2.2.Linear Regression</b>\n",
        "As expected, the linear models performed poorly for our data, as indicated by the R2 scores for both degree 1 and degree 2 models. The near 0 R2 scores for both validation and testing suggest that dependent variable cannot be explained by our data. Even though in the plots, the predicted y basically covered the actual y, the non-linear nature of our data cannot be captured by linear models. Due to the computational limitation, we only include the degree 2 polynomial regression, which has already served our purpose. "
      ]
    },
    {
      "cell_type": "code",
      "metadata": {
        "id": "xH4dFDnYKcuG"
      },
      "source": [
        "# Modify the helper functions specifically for the linear models\n",
        "# Function to perform Cross Validation on Linear Models\n",
        "def get_cv_scores(model, X_train, y_train):\n",
        "    scores = cross_val_score(model, X_train, y_train, cv=5, scoring='r2')\n",
        "    print('CV Mean of R2: ', np.mean(scores))\n",
        "    print('CV STD of R2: ', np.std(scores))\n",
        "\n",
        "# Function to evaluate Linear Models with plots\n",
        "def evaluate_valid(model, X_valid, y_valid, X_test, y_test):\n",
        "    predictions_valid = model.predict(X_valid)\n",
        "    mae_valid = mean_absolute_error(y_valid, predictions_valid)\n",
        "    r2_valid = r2_score(y_valid, predictions_valid)\n",
        "    print(\"Validation MAE:\", mae_valid)\n",
        "    print(\"Validation R2:\", r2_valid)\n",
        "\n",
        "    predictions_test = model.predict(X_test)\n",
        "    mae_test = mean_absolute_error(y_test, predictions_test)\n",
        "    r2_test = r2_score(y_test, predictions_test)\n",
        "    print(\"Test MAE:\", mae_test)\n",
        "    print(\"Test R2:\", r2_test)\n",
        "    \n",
        "    fig=plt.figure()\n",
        "    ax=fig.add_axes([0,0,1,1])\n",
        "    ax.scatter(y_valid, predictions_valid, color='r', label='valid set', alpha=0.2)\n",
        "    ax.scatter(y_test, predictions_test, color='b', label='test set', alpha=0.2)\n",
        "    ax.set_title('Distributions of predicted and real Y')\n",
        "    ax.set_xlabel('Actual Y')\n",
        "    ax.set_ylabel('Predicted Y')\n",
        "    ax.legend()"
      ],
      "execution_count": 10,
      "outputs": []
    },
    {
      "cell_type": "code",
      "metadata": {
        "colab": {
          "base_uri": "https://localhost:8080/",
          "height": 944
        },
        "id": "WkA-SuEiiSzr",
        "outputId": "edfad7ab-bc4b-4588-f872-e9c0df69caf6"
      },
      "source": [
        "# Direct Linear Modling on Original Data \n",
        "model_lr = LinearRegression(copy_X=True, n_jobs=100)\n",
        "model_lr.fit(X_train_window_size_15, y_train_window_size_15)\n",
        "\n",
        "# Evaluate model performance\n",
        "get_cv_scores(model_lr, X_train_window_size_15, y_train_window_size_15)\n",
        "evaluate_valid(model_lr, X_valid_window_size_15, y_valid_window_size_15, X_test_window_size_15, y_test_window_size_15)\n",
        "print('Independent term in the linear model: ', model_lr.intercept_)\n",
        "print('Estimated coefficients in the linear regression: \\n', model_lr.coef_)"
      ],
      "execution_count": 11,
      "outputs": [
        {
          "output_type": "stream",
          "name": "stdout",
          "text": [
            "CV Mean of R2:  -0.04501339090208103\n",
            "CV STD of R2:  0.02856383403780959\n",
            "Validation MAE: 3.5574610049742357\n",
            "Validation R2: -0.050174386490482004\n",
            "Test MAE: 3.1070344651484376\n",
            "Test R2: -0.03812640625723929\n",
            "Independent term in the linear model:  44.118323557970065\n",
            "Estimated coefficients in the linear regression: \n",
            " [-3.53164814e-06  4.29974017e-02  2.31007037e-02  1.15333504e-01\n",
            "  5.33269004e-02  3.54468679e-02  1.04501770e-01  4.97833611e-03\n",
            " -1.79580075e-01  3.50863336e-01  2.31007037e-02  1.15333504e-01\n",
            "  5.33269004e-02  3.54468679e-02  1.04501770e-01  4.97833611e-03\n",
            "  4.33747671e-01 -2.37979730e-02  4.81489948e+00  1.67346903e+00\n",
            " -5.20032333e+00 -9.39083254e-01 -1.22530212e+00 -1.46424690e-01\n",
            "  3.40020202e+00  5.96586827e+00 -6.10838632e+00 -3.55901530e+00\n",
            " -4.96848677e+00 -1.46424690e-01  2.27667384e+00  2.59088102e+00\n",
            " -1.31180083e+00 -3.86732639e+00 -4.92335005e+00 -1.46424690e-01\n",
            "  6.80845522e+00 -9.98152278e+00 -9.71918780e-01  2.98257947e+00\n",
            " -3.04629385e+00 -1.46424690e-01  1.01073740e+01 -1.55285119e+01\n",
            "  3.05571726e+00  1.89005996e+00 -3.67927631e+00 -1.46424690e-01\n",
            "  1.06820864e+01 -1.31967290e+01  7.37714091e+00 -9.11790418e+00\n",
            " -1.20749203e-01 -1.46424690e-01  1.02898677e+01 -5.57776544e+00\n",
            "  8.01320401e+00 -1.19297196e+01  5.48362465e-01 -1.46424690e-01\n",
            "  7.84631374e+00 -3.15269961e+00  9.40730128e+00 -1.40320770e+01\n",
            " -1.63495862e+00 -1.46424690e-01  4.94956756e+00 -1.06210341e+00\n",
            "  6.67501614e+00 -1.39388273e+01 -1.26563943e+00 -1.46424690e-01\n",
            "  2.52729005e+00  9.85577221e+00  8.59907055e+00 -2.84737204e+01\n",
            " -6.76241525e+00 -1.46424690e-01  1.10971177e+01  1.28549816e+01\n",
            "  1.03956175e+01 -3.86032726e+01 -6.93790897e+00 -1.46424690e-01\n",
            "  7.49539326e+00  1.17140378e+01  5.80331676e+00 -2.96608290e+01\n",
            " -1.39451567e+01 -1.46424690e-01  2.01159801e+01  2.00231364e+01\n",
            " -7.76536003e+00 -1.33486242e+01 -2.91408947e+01 -1.46424690e-01\n",
            "  1.57881041e+01  2.16474545e+01  1.06823343e+00 -2.66113949e+01\n",
            " -2.36692769e+01 -1.46424690e-01]\n"
          ]
        },
        {
          "output_type": "display_data",
          "data": {
            "image/png": "[encoded data removed]",
            "text/plain": [
              "<Figure size 432x288 with 1 Axes>"
            ]
          },
          "metadata": {
            "needs_background": "light"
          }
        }
      ]
    },
    {
      "cell_type": "code",
      "metadata": {
        "colab": {
          "base_uri": "https://localhost:8080/",
          "height": 468
        },
        "id": "WJSI2Jo8iSzs",
        "outputId": "aeb64fef-2f01-4b36-ae6e-10d5e71e78ea"
      },
      "source": [
        "# Polynomial Regression (Degree=2) \n",
        "# Transformation of X_train/valid/test datasets\n",
        "polynomial_features= PolynomialFeatures(degree=2)\n",
        "X_train_15_poly = polynomial_features.fit_transform(X_train_window_size_15)\n",
        "X_valid_15_poly = polynomial_features.fit_transform(X_valid_window_size_15)\n",
        "X_test_15_poly = polynomial_features.fit_transform(X_test_window_size_15)\n",
        "\n",
        "# Modeling\n",
        "model_lr = LinearRegression(normalize=True, copy_X=True, n_jobs=100)\n",
        "model_lr.fit(X_train_15_poly, y_train_window_size_15)\n",
        "get_cv_scores(model_lr, X_train_15_poly, y_train_window_size_15)\n",
        "\n",
        "# Evaluate model performance\n",
        "evaluate_valid(model_lr, X_valid_15_poly, y_valid_window_size_15, X_test_15_poly, y_test_window_size_15)"
      ],
      "execution_count": 12,
      "outputs": [
        {
          "output_type": "stream",
          "name": "stdout",
          "text": [
            "CV Mean of R2:  -36.314854009430604\n",
            "CV STD of R2:  64.88360280288197\n",
            "Validation MAE: 5.223263324121962\n",
            "Validation R2: -1.102724051179341\n",
            "Test MAE: 4.928578768278423\n",
            "Test R2: -1.6427248091810749\n"
          ]
        },
        {
          "output_type": "display_data",
          "data": {
            "image/png": "[encoded data removed]",
            "text/plain": [
              "<Figure size 432x288 with 1 Axes>"
            ]
          },
          "metadata": {
            "needs_background": "light"
          }
        }
      ]
    },
    {
      "cell_type": "markdown",
      "metadata": {
        "id": "QubESi9OKe9F"
      },
      "source": [
        "## <b>2.3.Random Forrest</b>\n",
        "- **Intro**:\n",
        "\n",
        "    The Random Forest method fits on the training data using an ensemble of decision trees. An important feature of the model is that it helps avoid overfitting by building each of the tree with a sample of data points as well as a sample of the features of the original training dataset.\n",
        "\n",
        "- **Input data**:\n",
        "\n",
        "    > Training dataset: `X_train_window_size_5_tree` and `y_train_window_size_5`\\\n",
        "    > Validation dataset: `X_valid_window_size_5_tree` and `y_valid_window_size_5`\\\n",
        "    > Testing dataset: `X_test_window_size_5_tree` and `y_test_window_size_5`\n",
        "    \n",
        "    Apart from normalization, the datasets used for Random Forest modelling have also been transformed in terms of their datetime columns, such as for the variable `lasttrade_weekday`. These columns originally consisted of two sets of variables to express a certain datetime point, which has been preprocessed and converted back to their original value.\n",
        "\n",
        "- **Architecture**:\n",
        "\n",
        "    After comparing the models' performance on the validation dataset using GridSearchCV, the best combination of parameters for the Random Forest Regressor is:\n",
        "    | Parameter name    | Value  |\n",
        "    |-------------------|--------|\n",
        "    | n_estimators      | 500    |\n",
        "    | max_features      | 'sqrt' |\n",
        "    | min_samples_split | 10     |\n",
        "    \n",
        "It is worth noting that our group has also tried dropping features that are deemed the least important by the Random Forest model after performing the Grid Search, and there seemed to be little improvement in the model's performance, which is why this part has been excluded here."
      ]
    },
    {
      "cell_type": "code",
      "metadata": {
        "id": "8DmMkD5RiSzt",
        "colab": {
          "base_uri": "https://localhost:8080/"
        },
        "outputId": "f0bc4019-9650-4aa0-bed7-5107693e70c1"
      },
      "source": [
        "# Modeling\n",
        "rfmodel = RandomForestRegressor(random_state=3315, \n",
        "                                max_depth=6,\n",
        "                                n_estimators=500,\n",
        "                                max_features='sqrt',\n",
        "                                min_samples_split=10,\n",
        "                                criterion='mse', n_jobs=-1)\n",
        "rfmodel.fit(X_train_window_size_15_tree, y_train_window_size_15)\n",
        "\n",
        "# Evaluate model performance\n",
        "result = evaluate_model(rfmodel, X_test_window_size_15_tree, y_test_window_size_15)"
      ],
      "execution_count": 13,
      "outputs": [
        {
          "output_type": "stream",
          "name": "stdout",
          "text": [
            "Mean absolut error on test: 3.0334572511577513\n"
          ]
        }
      ]
    },
    {
      "cell_type": "markdown",
      "metadata": {
        "id": "ggSt_eL43Bo4"
      },
      "source": [
        "- **Brief summary**:\n",
        "\n",
        "    > As shown in the cell below, the Random Forest model's performance on the test dataset is 2.2767 in terms of MAE.\n",
        "    \n",
        "    ___Limitations___: \n",
        "    \n",
        "    While Random Forest takes advantage of the power of ensemble, which helps avoid overfitting, it simply aggregates all the individual decision trees by training them in parallel. In other words, the trees within the Random Forest model are independent from each other and thus can't learn from each other. To address this disadvantage, we have also tried ensemble of boosted trees as shown in the following section."
      ]
    },
    {
      "cell_type": "markdown",
      "metadata": {
        "id": "7FJGi6FvKjuv"
      },
      "source": [
        "## <b>2.4.Gradient Boosting</b>\n",
        "Takeaways:\n",
        "\n",
        "LightGBM is a gradient boosting framework using tree based approaches. Gradient boosting comes from the idea whether a weak learner can modified to become even better. Additionally, we can state that a Gradient Boosting algorithm consists of 3 elements: 1. a loss function, which needs to be optimized. 2. A weak learner to make predictions of the input data and 3. An additive model which adds weak learners to minimize the loss function. Basically, this means each new added weak learner is trained one minimizing the errors of the previous models.\n",
        "\n",
        "In the beginning we stated the LightGBM is using tree based approaches. This also means for us that we have to conserve the sin/cos features of the time series into real integers because a tree will split its decision after one feature even though the sin/cos of the columns is one feature. \n",
        "In the previous preprocessing notebook we encoded these time series sin/cos features to use LightGBM properly. Gradient Boosting algorithms are aggressive learners which means they overfit fast. That’s why we first have to drop all features with a high correlation.\n",
        "\n",
        "The architecture is really simple since we only need to define the right parameters. Since our group decided to optimize the model for the mean absolute error. The objective was set to regression_l1 and the metric is ‚mae‘ (mean absolute error). The parameters num_leaves and num_round are the most important parameters to tune because these regulate the over-/underfitting of our model. After several trials we identified a small number of leaves with 45 and 17 num of rounds.\n",
        "\n",
        "\n",
        "Performance:\n",
        "\n",
        "The LightGBM model is our best model and was able to achieve a slightly better mean absolute error than the DummyRegressor which was predicting the mean. By having a small number of leaves we regulated the overfitting of the model so it was able to capture more information of the training set to make better predictions on the test set.\n",
        "However, gradient boosting lacks the ability to capture time series information because it is a tree approach. In our opinion we were able to minimize the main disadvantage of overfitting but we think other models can be even better by also using the time series information correctly."
      ]
    },
    {
      "cell_type": "markdown",
      "metadata": {
        "id": "vxgieXwoiSzt"
      },
      "source": [
        "### LightGBM Model"
      ]
    },
    {
      "cell_type": "code",
      "metadata": {
        "colab": {
          "base_uri": "https://localhost:8080/"
        },
        "id": "2wg8qsTyiSzu",
        "outputId": "74440e82-3fbc-437d-e2d8-bbe7d1babcc1"
      },
      "source": [
        "# Process data\n",
        "train_data = lgb.Dataset(X_train_window_size_15_tree, label=y_train_window_size_15)\n",
        "valid_data = lgb.Dataset(X_valid_window_size_15_tree, label=y_valid_window_size_15)\n",
        "test_data = lgb.Dataset(X_test_window_size_15_tree, label=y_test_window_size_15)\n",
        "\n",
        "# Modeling\n",
        "param = {'num_leaves': 38, 'objective': 'regression_l1', 'metric': 'mae'}\n",
        "num_round =17\n",
        "bst = lgb.train(param, train_data, num_round, valid_sets=[valid_data])\n",
        "\n",
        "# Evaluate model performance\n",
        "result = evaluate_model(bst, X_test_window_size_15_tree, y_test_window_size_15)"
      ],
      "execution_count": 14,
      "outputs": [
        {
          "output_type": "stream",
          "name": "stdout",
          "text": [
            "[1]\tvalid_0's l1: 3.47078\n",
            "[2]\tvalid_0's l1: 3.47027\n",
            "[3]\tvalid_0's l1: 3.46946\n",
            "[4]\tvalid_0's l1: 3.46942\n",
            "[5]\tvalid_0's l1: 3.46718\n",
            "[6]\tvalid_0's l1: 3.46787\n",
            "[7]\tvalid_0's l1: 3.46696\n",
            "[8]\tvalid_0's l1: 3.46824\n",
            "[9]\tvalid_0's l1: 3.46864\n",
            "[10]\tvalid_0's l1: 3.47049\n",
            "[11]\tvalid_0's l1: 3.46982\n",
            "[12]\tvalid_0's l1: 3.46922\n",
            "[13]\tvalid_0's l1: 3.47059\n",
            "[14]\tvalid_0's l1: 3.46897\n",
            "[15]\tvalid_0's l1: 3.46924\n",
            "[16]\tvalid_0's l1: 3.47006\n",
            "[17]\tvalid_0's l1: 3.47219\n",
            "Mean absolut error on test: 3.0055239022394464\n"
          ]
        }
      ]
    },
    {
      "cell_type": "markdown",
      "metadata": {
        "id": "v3_6Q1_LKpr_"
      },
      "source": [
        "## <b>2.5.Support Vector Regression</b>\n",
        "- **Intro**:\n",
        "\n",
        "    The Support Vector Regression model utilizes the kernel trick to project the original dataset to a higher dimension in an efficient way. A main advantage of the model is its ability to tolerate errors within a certain range, which allows the model to become robust.\n",
        "\n",
        "- **Input data**:\n",
        "\n",
        "    The input data of the model has been normalized.\n",
        "    \n",
        "    > Training dataset: `X_train_window_size_5` and `y_train_window_size_5`\\\n",
        "    > Validation dataset: `X_valid_window_size_5` and `y_valid_window_size_5`\\\n",
        "    > Testing dataset: `X_test_window_size_5` and `y_test_window_size_5`\n",
        "    \n",
        "- **Architecture**:\n",
        "\n",
        "    After comparing the models' performance on the validation dataset using GridSearchCV, the best combination of parameters for the Support Vector Regression model is:\n",
        "    | Parameter name    | Value  |\n",
        "    |-------------------|--------|\n",
        "    | kernel      | 'poly'    |\n",
        "    | C      | 20' |"
      ]
    },
    {
      "cell_type": "code",
      "metadata": {
        "id": "DHW0WWe0iSzu",
        "colab": {
          "base_uri": "https://localhost:8080/"
        },
        "outputId": "7949b9bc-5c10-4cac-e64d-b96b67ff7177"
      },
      "source": [
        "# Modeling\n",
        "svrmodel = SVR(kernel='poly', C=20)\n",
        "svrmodel.fit(X_train_window_size_15, y_train_window_size_15)\n",
        "\n",
        "# Evaluate model performance\n",
        "result = evaluate_model(svrmodel, X_test_window_size_15, y_test_window_size_15)"
      ],
      "execution_count": 15,
      "outputs": [
        {
          "output_type": "stream",
          "name": "stdout",
          "text": [
            "Mean absolut error on test: 3.0078668683103538\n"
          ]
        }
      ]
    },
    {
      "cell_type": "markdown",
      "metadata": {
        "id": "zUYTe3RU3Bo5"
      },
      "source": [
        "- **Brief summary**:\n",
        "\n",
        "    > As shown in the cell above, the Support Vector Regression model's performance on the test dataset is 2.26 in terms of MAE.\n",
        "    \n",
        "    ___Limitations___: \n",
        "    \n",
        "    While Support Vector Regressor manages to introduce non-linearity by projecting the original dataset to a higher dimension space and does it in an effective way, it is relatively time consuming and requires much more resources compared to other models, especially when training on large datasets."
      ]
    },
    {
      "cell_type": "markdown",
      "metadata": {
        "id": "tZI9_UDkX9Wx"
      },
      "source": [
        "## <b>2.6.KNN</b>\n",
        "The optimal k was found doing a grid search for `range(3, 25)`.  \n",
        "\n",
        "For this 'classic' approach, the train and valid set will be put together to make use of cross-validation."
      ]
    },
    {
      "cell_type": "code",
      "metadata": {
        "id": "7prtvVuJYAJi"
      },
      "source": [
        "X_train_window_size_15_classic = X_train_window_size_15.copy().append(X_valid_window_size_15)\n",
        "y_train_window_size_15_classic = y_train_window_size_15.copy().append(y_valid_window_size_15)\n",
        "\n",
        "minmax_transformer_classic = Pipeline(steps=[\n",
        "        ('minmax', MinMaxScaler())])\n",
        "\n",
        "preprocessor_window_size_15_classic = ColumnTransformer(\n",
        "        remainder='passthrough', #passthough features not listed\n",
        "        transformers=[\n",
        "            ('mm', minmax_transformer_classic , [X_train_window_size_15_classic.columns[1], *[*X_train_window_size_15_classic.columns[17:]]])\n",
        "        ])\n",
        "\n",
        "\n",
        "preprocessor_window_size_15_classic.fit(X_train_window_size_15, y_train_window_size_15)\n",
        "X_train_window_size_15_classic_norm = preprocessor_window_size_15_classic.transform(X_train_window_size_15_classic)\n",
        "X_test_window_size_15_classic_norm = preprocessor_window_size_15_classic.transform(X_test_window_size_15)"
      ],
      "execution_count": 16,
      "outputs": []
    },
    {
      "cell_type": "code",
      "metadata": {
        "id": "vjT9gaXtYCT4"
      },
      "source": [
        "class Knn:\n",
        "\n",
        "    def __init__(self,\n",
        "                 X_train: pd.DataFrame,\n",
        "                 X_test: pd.DataFrame,\n",
        "                 y_train: pd.DataFrame,\n",
        "                 y_test: pd.DataFrame,\n",
        "                 k: int):\n",
        "        self.X_train = X_train\n",
        "        self.X_test = X_test\n",
        "        self.y_train = y_train\n",
        "        self.y_test = y_test\n",
        "        self.k = k\n",
        "        self.model = KNeighborsRegressor(n_neighbors=self.k, n_jobs=-1)\n",
        "        self.mae_scorer = make_scorer(mean_absolute_error)\n",
        "    \n",
        "    def get_cv_scores(self):\n",
        "        return cross_val_score(self.model, self.X_train, self.y_train, cv=5, scoring=self.mae_scorer)\n",
        "\n",
        "    def fit(self):\n",
        "        self.model.fit(self.X_train, self.y_train)\n",
        "\n",
        "    def predict(self):\n",
        "        predictions = self.model.predict(self.X_test)\n",
        "        return predictions\n",
        "\n",
        "    def go(self):\n",
        "        cv_scores = self.get_cv_scores()\n",
        "        self.fit()\n",
        "        predictions = self.predict()\n",
        "        return cv_scores, predictions, self.model"
      ],
      "execution_count": 17,
      "outputs": []
    },
    {
      "cell_type": "code",
      "metadata": {
        "id": "3wEmFe_FYNMo"
      },
      "source": [
        "knn_5 = Knn(\n",
        "    X_train_window_size_15_classic_norm,\n",
        "    X_test_window_size_15_classic_norm,\n",
        "    y_train_window_size_15_classic,\n",
        "    y_test_window_size_15,\n",
        "    k=3\n",
        ")\n",
        "\n",
        "knn_cv_scores_5, knn_predictions_5, knn_model_5 = knn_5.go()"
      ],
      "execution_count": 18,
      "outputs": []
    },
    {
      "cell_type": "markdown",
      "metadata": {
        "id": "e92XHwEnYOiw"
      },
      "source": [
        "CV Scores for KNN"
      ]
    },
    {
      "cell_type": "code",
      "metadata": {
        "colab": {
          "base_uri": "https://localhost:8080/"
        },
        "id": "V8AxuFo3YPex",
        "outputId": "801bb341-80be-4861-d582-e0a52324d327"
      },
      "source": [
        "knn_cv_scores_5"
      ],
      "execution_count": 19,
      "outputs": [
        {
          "output_type": "execute_result",
          "data": {
            "text/plain": [
              "array([3.08944224, 2.33923036, 2.2903131 , 2.44884456, 3.23154376])"
            ]
          },
          "metadata": {},
          "execution_count": 19
        }
      ]
    },
    {
      "cell_type": "markdown",
      "metadata": {
        "id": "s-6qdF3iYRA_"
      },
      "source": [
        "Prediction Scores for KNN"
      ]
    },
    {
      "cell_type": "code",
      "metadata": {
        "colab": {
          "base_uri": "https://localhost:8080/"
        },
        "id": "NaNORlBWYTc5",
        "outputId": "e21af6c7-a6ec-43e3-f64c-3f96be7eeb21"
      },
      "source": [
        "knn_predictions_5"
      ],
      "execution_count": 20,
      "outputs": [
        {
          "output_type": "execute_result",
          "data": {
            "text/plain": [
              "array([-1.18666667, -1.18666667,  0.31333333, ..., -0.31333333,\n",
              "       -0.79      , -0.79      ])"
            ]
          },
          "metadata": {},
          "execution_count": 20
        }
      ]
    },
    {
      "cell_type": "markdown",
      "metadata": {
        "id": "XjhRxGqjKyY6"
      },
      "source": [
        "# <b>3.Creating DL models</b>\n",
        "<b>In this part, we employed multiple DL methods. </b>\n"
      ]
    },
    {
      "cell_type": "markdown",
      "metadata": {
        "id": "AsxkQOUoK3Or"
      },
      "source": [
        "## <b>3.1.Mulit-Layer Perceptron</b>\n",
        "For the MLP, the architecture seemed to be rather irrelevant. Generally speaking, simpler architectures with less neurons seemed to work as well as more complex architectures with several hidden layers and/or a large number of neurons. In total, a few hundred neurons overall were enough. Dropout, LR Scheduling and Adam optimizer created the best results.  \n",
        "We also found that higher batch sizes decreased the MAE.  \n",
        "One interesting finding is that the performance on the validation set would not change after 2-3 epochs. Additionally, the performance on the test set was always better than the performance on the validation set."
      ]
    },
    {
      "cell_type": "code",
      "metadata": {
        "id": "ISkNpOsHLHs8"
      },
      "source": [
        "class Mlp:\n",
        "    \"\"\"\n",
        "    Creates a multilayer-perceptron model.\n",
        "    \"\"\"\n",
        "    def __init__(self, \n",
        "                 X_train: pd.DataFrame, \n",
        "                 X_valid: pd.DataFrame, \n",
        "                 X_test: pd.DataFrame, \n",
        "                 y_train: pd.DataFrame, \n",
        "                 y_valid: pd.DataFrame, \n",
        "                 y_test: pd.DataFrame, \n",
        "                 params: dict, \n",
        "                 layers: list, \n",
        "                 dropout: bool,\n",
        "                 schedulerthresh: int,\n",
        "                 optimizer,\n",
        "                 earlystopping: int\n",
        "                 ):\n",
        "        self.X_train = X_train\n",
        "        self.X_valid = X_valid\n",
        "        self.X_test = X_test\n",
        "        self.y_train = y_train\n",
        "        self.y_valid = y_valid\n",
        "        self.y_test = y_test\n",
        "        self.params = params\n",
        "        self.layers = layers\n",
        "        self.dropout = dropout\n",
        "        self.schedulerthresh = schedulerthresh\n",
        "        self.optimizer = optimizer\n",
        "        self.earlystopping = earlystopping\n",
        "        self.model = Sequential()\n",
        "\n",
        "    def compile_model(self):\n",
        "        be.clear_session()\n",
        "        self.model.add(Input(shape=(self.X_train.shape[1])))\n",
        "        for i in range(len(self.layers)):\n",
        "            self.model.add(Dense(self.layers[i], activation=\"relu\"))\n",
        "            if self.dropout:\n",
        "                self.model.add(Dropout(rate=self.dropout))\n",
        "        self.model.add(Dense(1, activation=\"linear\"))\n",
        "        optimizer = self.optimizer\n",
        "        self.model.compile(loss='mean_absolute_error', optimizer=optimizer)\n",
        "        return self.model\n",
        "        \n",
        "    def fit_model(self):\n",
        "        callbacks = []\n",
        "        if self.scheduler:\n",
        "            callbacks.append(LearningRateScheduler(self.scheduler))\n",
        "        if self.earlystopping:\n",
        "            callbacks.append(EarlyStopping(monitor='loss', patience=self.earlystopping))\n",
        "        history = self.model.fit(x=self.X_train,y=self.y_train, batch_size=self.params[\"BATCH_SIZE\"], validation_data=(self.X_valid,self.y_valid), epochs=self.params[\"EPOCHS\"], callbacks=callbacks, verbose=1, shuffle=False)\n",
        "        return history, self.model\n",
        "\n",
        "    def evaluate_model(self):\n",
        "        eval_score = self.model.evaluate(self.X_test, self.y_test.to_numpy())\n",
        "        return eval_score, self.model\n",
        "\n",
        "    def predict(self):\n",
        "        return self.model.predict(self.X_test)\n",
        "      \n",
        "    def go(self):\n",
        "        self.compile_model()\n",
        "        history, _ = self.fit_model()\n",
        "        eval_score, _ = self.evaluate_model()\n",
        "        predictions = self.predict()\n",
        "        return history, eval_score, predictions, self.model\n",
        "        \n",
        "    def scheduler(self, epoch, lr):\n",
        "        if self.schedulerthresh:\n",
        "            thresh = self.schedulerthresh\n",
        "        else:\n",
        "            thresh = 5\n",
        "        if epoch < thresh:\n",
        "            return lr\n",
        "        else:\n",
        "            return lr*exp(-0.1)\n"
      ],
      "execution_count": 21,
      "outputs": []
    },
    {
      "cell_type": "markdown",
      "metadata": {
        "id": "T-j0UgAFYZ0E"
      },
      "source": [
        "### Creating best model for MLP"
      ]
    },
    {
      "cell_type": "code",
      "metadata": {
        "colab": {
          "base_uri": "https://localhost:8080/"
        },
        "id": "wBuXPTtcYaiD",
        "outputId": "529fd169-499b-4e57-9864-f0032d76453b"
      },
      "source": [
        "params = {\n",
        "    \"BATCH_SIZE\": 2048, \n",
        "    \"EPOCHS\": 10, \n",
        "    \"LEARNING_RATE\": 0.0005}\n",
        "layers = [300, 100]\n",
        "dropout = 0.25\n",
        "scheduler = 5\n",
        "optimizer = Adam(learning_rate=0.0005)\n",
        "earlystopping = 3\n",
        "\n",
        "mlp_15 = Mlp(\n",
        "    X_train_window_size_15,\n",
        "    X_valid_window_size_15,\n",
        "    X_test_window_size_15,\n",
        "    y_train_window_size_15,\n",
        "    y_valid_window_size_15,\n",
        "    y_test_window_size_15,\n",
        "    params,\n",
        "    layers,\n",
        "    dropout,\n",
        "    scheduler,\n",
        "    optimizer,\n",
        "    earlystopping\n",
        ")\n",
        "mlp_history_15, mlp_eval_score_15, mlp_predictions_15, mlp_model_15 = mlp_15.go()"
      ],
      "execution_count": 23,
      "outputs": [
        {
          "output_type": "stream",
          "name": "stdout",
          "text": [
            "Epoch 1/10\n",
            "15/15 [==============================] - 3s 26ms/step - loss: 536.3275 - val_loss: 5.5553\n",
            "Epoch 2/10\n",
            "15/15 [==============================] - 0s 6ms/step - loss: 305.6691 - val_loss: 4.7282\n",
            "Epoch 3/10\n",
            "15/15 [==============================] - 0s 6ms/step - loss: 151.8082 - val_loss: 3.4851\n",
            "Epoch 4/10\n",
            "15/15 [==============================] - 0s 6ms/step - loss: 70.5200 - val_loss: 3.4740\n",
            "Epoch 5/10\n",
            "15/15 [==============================] - 0s 6ms/step - loss: 29.8099 - val_loss: 3.4654\n",
            "Epoch 6/10\n",
            "15/15 [==============================] - 0s 6ms/step - loss: 13.2709 - val_loss: 3.4697\n",
            "Epoch 7/10\n",
            "15/15 [==============================] - 0s 6ms/step - loss: 7.6552 - val_loss: 3.4713\n",
            "Epoch 8/10\n",
            "15/15 [==============================] - 0s 6ms/step - loss: 5.7552 - val_loss: 3.4712\n",
            "Epoch 9/10\n",
            "15/15 [==============================] - 0s 6ms/step - loss: 4.8197 - val_loss: 3.4712\n",
            "Epoch 10/10\n",
            "15/15 [==============================] - 0s 6ms/step - loss: 4.4533 - val_loss: 3.4711\n",
            "110/110 [==============================] - 0s 2ms/step - loss: 3.0075\n"
          ]
        }
      ]
    },
    {
      "cell_type": "markdown",
      "metadata": {
        "id": "v4ENdvgzYcpd"
      },
      "source": [
        "Evaluation Score of MLP"
      ]
    },
    {
      "cell_type": "code",
      "metadata": {
        "colab": {
          "base_uri": "https://localhost:8080/"
        },
        "id": "cXFYaw51Ydo8",
        "outputId": "e309f602-8a7c-4cba-e7e7-a120d22fe063"
      },
      "source": [
        "mlp_eval_score_15"
      ],
      "execution_count": 24,
      "outputs": [
        {
          "output_type": "execute_result",
          "data": {
            "text/plain": [
              "3.0074784755706787"
            ]
          },
          "metadata": {},
          "execution_count": 24
        }
      ]
    },
    {
      "cell_type": "markdown",
      "metadata": {
        "id": "1vd_dZHwYfyJ"
      },
      "source": [
        "Plotting the Convergence process"
      ]
    },
    {
      "cell_type": "code",
      "metadata": {
        "colab": {
          "base_uri": "https://localhost:8080/",
          "height": 279
        },
        "id": "ip9t5h2mYjU-",
        "outputId": "0c903e15-6820-499b-eff9-3774d8a0ba08"
      },
      "source": [
        "loss_values = mlp_history_15.history['loss']\n",
        "val_loss_values = mlp_history_15.history['val_loss']\n",
        "epochs = range(1, len(loss_values)+1)\n",
        "\n",
        "plt.plot(epochs, loss_values, label='Training Loss')\n",
        "plt.plot(epochs, val_loss_values, label='Validation Loss')\n",
        "plt.xlabel('Epochs')\n",
        "plt.ylabel('Loss')\n",
        "plt.legend()\n",
        "\n",
        "plt.show()"
      ],
      "execution_count": 25,
      "outputs": [
        {
          "output_type": "display_data",
          "data": {
            "image/png": "[encoded data removed]",
            "text/plain": [
              "<Figure size 432x288 with 1 Axes>"
            ]
          },
          "metadata": {
            "needs_background": "light"
          }
        }
      ]
    },
    {
      "cell_type": "markdown",
      "metadata": {
        "id": "r8uTHXoaK9aK"
      },
      "source": [
        "## <b>3.2.Load 3D data for Recurrent Neural Networks</b>"
      ]
    },
    {
      "cell_type": "code",
      "metadata": {
        "id": "EZfZkUsKY1aJ"
      },
      "source": [
        "#Write code to load the pickles\n",
        "X_train_unflatten_all_15 =\n",
        "X_valid_unflatten_all_15 = \n",
        "X_test_unflatten_all_15 = "
      ],
      "execution_count": null,
      "outputs": []
    },
    {
      "cell_type": "markdown",
      "metadata": {
        "id": "2Fc9q7et3Bo-"
      },
      "source": [
        "## <b>3.3.Convolutional Neural Network</b>\n",
        "- **Intro**:\n",
        "\n",
        "   A Convolutional Neural Network model involves multiple filters that can be used to capture complex patterns in the datasets. One of its distinct features is its parameter sharing, which can greatly increase its efficiency.\n",
        "\n",
        "- **Input data**:\n",
        "\n",
        "    The input data of the model has been normalized and rolled into a form of 3D data.\n",
        "    \n",
        "    > Training dataset: `X_train_unflatten_all_15` and `y_train_window_size_15`\\\n",
        "    > Validation dataset: `X_valid_unflatten_all_15` and `y_valid_window_size_15`\\\n",
        "    > Testing dataset: `X_test_unflatten_all_15` and `y_test_window_size_15`\n",
        "    \n",
        "- **Architecture**:\n",
        "\n",
        "    When increasing the complexity of the model (whether by increasing the number of hidden layers or the number of hidden cells), its performance doesn't seem to change. With various experiments, we have arrived at a relatively simple structure that yields similar results to its more complicated alternatives: 2 pairs of Convolutional layers and Max Pooling layers, followed by 2 pairs of fully connected layers and dropout layers."
      ]
    },
    {
      "cell_type": "code",
      "metadata": {
        "id": "4ECBzg9j3Bo-"
      },
      "source": [
        "n_hidden_layers = 2\n",
        "hidden_layer_size = 40\n",
        "dropout_rate = 0\n",
        "\n",
        "BATCH_SIZE = 100\n",
        "EPOCHS = 20"
      ],
      "execution_count": null,
      "outputs": []
    },
    {
      "cell_type": "code",
      "metadata": {
        "id": "UcpbVehM3Bo-",
        "outputId": "e4c59558-3c69-4e0f-8851-b04ce24deb00"
      },
      "source": [
        "tf.compat.v1.reset_default_graph()\n",
        "be.clear_session()\n",
        "\n",
        "# Define regularizer and initializer\n",
        "regularizer = tf.keras.regularizers.L2(2.)\n",
        "initializer = tf.keras.initializers.RandomUniform()\n",
        "\n",
        "input_shape = np.shape(X_train_unflatten_all_15)\n",
        "column_count = input_shape[2]\n",
        "\n",
        "input_layer=Input(shape=(input_shape[1], column_count))\n",
        "cur_last_layer = input_layer\n",
        "\n",
        "for l in range(n_hidden_layers):\n",
        "    cnn_layer=Conv1D(filters=5, kernel_size=2, \n",
        "                     input_shape=input_shape[1:],\n",
        "                     padding='same',\n",
        "                     kernel_initializer=initializer,\n",
        "                     kernel_regularizer=regularizer)(cur_last_layer)\n",
        "    pool = MaxPool1D(pool_size=2, strides=1)(cnn_layer)\n",
        "    cur_last_layer=pool\n",
        "\n",
        "for l in range(n_hidden_layers):\n",
        "    dense = Dense(100, activation='tanh')(cur_last_layer)\n",
        "    dropout_layer = Dropout(dropout_rate)(dense)\n",
        "    cur_last_layer=dropout_layer\n",
        "\n",
        "predictions=Dense(1)(cur_last_layer)\n",
        "\n",
        "cnn_model=Model(inputs=input_layer, outputs=predictions)\n",
        "cnn_model.summary()"
      ],
      "execution_count": null,
      "outputs": [
        {
          "name": "stdout",
          "output_type": "stream",
          "text": [
            "Model: \"model\"\n",
            "_________________________________________________________________\n",
            "Layer (type)                 Output Shape              Param #   \n",
            "=================================================================\n",
            "input_1 (InputLayer)         [(None, 4, 22)]           0         \n",
            "_________________________________________________________________\n",
            "conv1d (Conv1D)              (None, 4, 5)              225       \n",
            "_________________________________________________________________\n",
            "max_pooling1d (MaxPooling1D) (None, 3, 5)              0         \n",
            "_________________________________________________________________\n",
            "conv1d_1 (Conv1D)            (None, 3, 5)              55        \n",
            "_________________________________________________________________\n",
            "max_pooling1d_1 (MaxPooling1 (None, 2, 5)              0         \n",
            "_________________________________________________________________\n",
            "dense (Dense)                (None, 2, 100)            600       \n",
            "_________________________________________________________________\n",
            "dropout (Dropout)            (None, 2, 100)            0         \n",
            "_________________________________________________________________\n",
            "dense_1 (Dense)              (None, 2, 100)            10100     \n",
            "_________________________________________________________________\n",
            "dropout_1 (Dropout)          (None, 2, 100)            0         \n",
            "_________________________________________________________________\n",
            "dense_2 (Dense)              (None, 2, 1)              101       \n",
            "=================================================================\n",
            "Total params: 11,081\n",
            "Trainable params: 11,081\n",
            "Non-trainable params: 0\n",
            "_________________________________________________________________\n"
          ]
        }
      ]
    },
    {
      "cell_type": "code",
      "metadata": {
        "id": "AD256EDmLPOq",
        "outputId": "9e3d9e38-cc01-4535-d875-21e8ae8cc768"
      },
      "source": [
        "optimizer = Adam(learning_rate=0.0018)\n",
        "\n",
        "cnn_model.compile(loss='mean_absolute_error', optimizer=optimizer)\n",
        "\n",
        "cnn_history = cnn_model.fit(X_train_unflatten_all_15, y_train_window_size_15,\n",
        "                            validation_data=(X_valid_unflatten_all_15, y_valid_window_size_15),\n",
        "                            epochs=EPOCHS,\n",
        "                            batch_size=BATCH_SIZE)"
      ],
      "execution_count": null,
      "outputs": [
        {
          "name": "stdout",
          "output_type": "stream",
          "text": [
            "Epoch 1/20\n",
            "916/916 [==============================] - 20s 6ms/step - loss: 1.7757 - val_loss: 2.5553\n",
            "Epoch 2/20\n",
            "916/916 [==============================] - 4s 5ms/step - loss: 1.7709 - val_loss: 2.5551\n",
            "Epoch 3/20\n",
            "916/916 [==============================] - 4s 5ms/step - loss: 1.7708 - val_loss: 2.5552\n",
            "Epoch 4/20\n",
            "916/916 [==============================] - 4s 5ms/step - loss: 1.7708 - val_loss: 2.5552\n",
            "Epoch 5/20\n",
            "916/916 [==============================] - 4s 5ms/step - loss: 1.7709 - val_loss: 2.5554\n",
            "Epoch 6/20\n",
            "916/916 [==============================] - 4s 5ms/step - loss: 1.7709 - val_loss: 2.5551\n",
            "Epoch 7/20\n",
            "916/916 [==============================] - 4s 5ms/step - loss: 1.7708 - val_loss: 2.5553\n",
            "Epoch 8/20\n",
            "916/916 [==============================] - 5s 5ms/step - loss: 1.7709 - val_loss: 2.5552\n",
            "Epoch 9/20\n",
            "916/916 [==============================] - 4s 5ms/step - loss: 1.7708 - val_loss: 2.5551\n",
            "Epoch 10/20\n",
            "916/916 [==============================] - 4s 5ms/step - loss: 1.7709 - val_loss: 2.5552\n",
            "Epoch 11/20\n",
            "916/916 [==============================] - 5s 5ms/step - loss: 1.7709 - val_loss: 2.5551\n",
            "Epoch 12/20\n",
            "916/916 [==============================] - 4s 5ms/step - loss: 1.7709 - val_loss: 2.5552\n",
            "Epoch 13/20\n",
            "916/916 [==============================] - 4s 5ms/step - loss: 1.7709 - val_loss: 2.5552\n",
            "Epoch 14/20\n",
            "916/916 [==============================] - 5s 5ms/step - loss: 1.7709 - val_loss: 2.5552\n",
            "Epoch 15/20\n",
            "916/916 [==============================] - 4s 5ms/step - loss: 1.7709 - val_loss: 2.5552\n",
            "Epoch 16/20\n",
            "916/916 [==============================] - 5s 5ms/step - loss: 1.7708 - val_loss: 2.5552\n",
            "Epoch 17/20\n",
            "916/916 [==============================] - 4s 5ms/step - loss: 1.7708 - val_loss: 2.5552\n",
            "Epoch 18/20\n",
            "916/916 [==============================] - 4s 5ms/step - loss: 1.7709 - val_loss: 2.5552\n",
            "Epoch 19/20\n",
            "916/916 [==============================] - 4s 5ms/step - loss: 1.7708 - val_loss: 2.5552\n",
            "Epoch 20/20\n",
            "916/916 [==============================] - 4s 5ms/step - loss: 1.7709 - val_loss: 2.5552\n"
          ]
        }
      ]
    },
    {
      "cell_type": "code",
      "metadata": {
        "id": "DOCNIs7D3Bo-",
        "outputId": "0a9a4553-48a5-4920-d245-e2717ace14ae"
      },
      "source": [
        "result = evaluate_3Dmodel(cnn_model, X_test_unflatten_all_15, y_test_window_size_15)"
      ],
      "execution_count": null,
      "outputs": [
        {
          "name": "stdout",
          "output_type": "stream",
          "text": [
            "Mean absolut error on test: 2.255178354827305\n"
          ]
        }
      ]
    },
    {
      "cell_type": "code",
      "metadata": {
        "id": "OuEgtB5rLhzE",
        "outputId": "5eac06c1-9b15-4fc1-db03-100491ecd08c"
      },
      "source": [
        "loss_values = cnn_history.history['loss']\n",
        "val_loss_values = cnn_history.history['val_loss']\n",
        "epochs = range(1, len(loss_values)+1)\n",
        "\n",
        "plt.plot(epochs, loss_values, label='Training Loss')\n",
        "plt.plot(epochs, val_loss_values, label='Validation Loss')\n",
        "\n",
        "plt.title(\"Compiling history of CNN model\")\n",
        "plt.xlabel('Epochs')\n",
        "plt.ylabel('Loss')\n",
        "plt.legend()\n",
        "\n",
        "plt.show()"
      ],
      "execution_count": null,
      "outputs": [
        {
          "data": {
            "image/png": "[encoded data removed]",
            "text/plain": [
              "<Figure size 432x288 with 1 Axes>"
            ]
          },
          "metadata": {
            "needs_background": "light"
          },
          "output_type": "display_data"
        }
      ]
    },
    {
      "cell_type": "markdown",
      "metadata": {
        "id": "rVTqYWP23Bo-"
      },
      "source": [
        "- **Brief summary**:\n",
        "\n",
        "    > As shown in the cell above, the performance of the CNN on the test dataset is 2.255 in terms of MAE.\n",
        "    \n",
        "    ___Limitations___: \n",
        "    \n",
        "    Generally, it is more common to use CNN in image related problems, therefore, it's not surprising that the model cannot achieve high performance here. Moreover, considering the dimensionality of the data fed into the neural network (with a window size of 5 and therefore 4 \"time steps\"), the size of kernel that can be used is rather limited."
      ]
    },
    {
      "cell_type": "markdown",
      "metadata": {
        "id": "wId3Iw9FLR5F"
      },
      "source": [
        "## <b>3.4.Recurrent Neural Network</b>"
      ]
    },
    {
      "cell_type": "markdown",
      "metadata": {
        "id": "87a_H89E3Bo_"
      },
      "source": [
        "### LSTM: Long- Short-Term Memory\n",
        "\n",
        "- **Intro**:\n",
        "\n",
        "   A Long- Short-Term Memory model is a type of Recurrent Neural Network that is often used for sequence data such as in time-series and NLP problems. By introducing an additional vector, i.e., the cell state, the model is able to store important information of the past that is helpful for the prediction of the current state (or forget useless information when needed). Since the task we have involve time series data, LSTM seems to be a natural candidate for achieving high performance.\n",
        "\n",
        "- **Input data**:\n",
        "\n",
        "    The input data of the model has been normalized and rolled into a form of 3D data.\n",
        "    \n",
        "    > Training dataset: `X_train_unflatten_all_15` and `y_train_window_size_15`\\\n",
        "    > Validation dataset: `X_valid_unflatten_all_15` and `y_valid_window_size_15`\\\n",
        "    > Testing dataset: `X_test_unflatten_all_15` and `y_test_window_size_15`\n",
        "    \n",
        "- **Architecture**:\n",
        "\n",
        "    When increasing the complexity of the model (whether by increasing the number of hidden layers or the number of hidden cells), its performance doesn't seem to change. Below is one of the structures that yields similar results to its alternatives, with 3 pairs of LSTM layers and dropout layers followed by 3 pairs of fully connected layers and dropout layers."
      ]
    },
    {
      "cell_type": "code",
      "metadata": {
        "id": "m77mxYiI3Bo_"
      },
      "source": [
        "n_hidden_layers = 3\n",
        "hidden_layer_size = 300\n",
        "dropout_rate = 0.25\n",
        "\n",
        "BATCH_SIZE = 500\n",
        "EPOCHS = 20"
      ],
      "execution_count": null,
      "outputs": []
    },
    {
      "cell_type": "code",
      "metadata": {
        "id": "etp0Ev4v3Bo_",
        "outputId": "8d77e117-a122-4e2b-9a2d-672d6534fe4c"
      },
      "source": [
        "tf.compat.v1.reset_default_graph()\n",
        "be.clear_session()\n",
        "\n",
        "input_shape[2]\n",
        "column_count = np.shape(X_train_unflatten_all_15)[2]\n",
        "\n",
        "input_layer=Input(shape=(np.shape(X_train_unflatten_all_15)[1], column_count))\n",
        "cur_last_layer=input_layer\n",
        "\n",
        "for l in range(n_hidden_layers):\n",
        "    hidden_layer=LSTM(hidden_layer_size, return_sequences=True)(cur_last_layer)\n",
        "    dropout_layer = Dropout(0.5)(hidden_layer)\n",
        "    cur_last_layer=dropout_layer\n",
        "\n",
        "for l in range(n_hidden_layers):\n",
        "    dense = Dense(100, activation='tanh')(cur_last_layer)\n",
        "    dropout_layer = Dropout(dropout_rate)(dense)\n",
        "    cur_last_layer=dropout_layer\n",
        "\n",
        "predictions=Dense(1)(cur_last_layer)\n",
        "\n",
        "lstm_model=Model(inputs=input_layer, outputs=predictions)\n",
        "lstm_model.summary()"
      ],
      "execution_count": null,
      "outputs": [
        {
          "name": "stdout",
          "output_type": "stream",
          "text": [
            "Model: \"model\"\n",
            "_________________________________________________________________\n",
            "Layer (type)                 Output Shape              Param #   \n",
            "=================================================================\n",
            "input_1 (InputLayer)         [(None, 4, 22)]           0         \n",
            "_________________________________________________________________\n",
            "lstm (LSTM)                  (None, 4, 300)            387600    \n",
            "_________________________________________________________________\n",
            "dropout (Dropout)            (None, 4, 300)            0         \n",
            "_________________________________________________________________\n",
            "lstm_1 (LSTM)                (None, 4, 300)            721200    \n",
            "_________________________________________________________________\n",
            "dropout_1 (Dropout)          (None, 4, 300)            0         \n",
            "_________________________________________________________________\n",
            "lstm_2 (LSTM)                (None, 4, 300)            721200    \n",
            "_________________________________________________________________\n",
            "dropout_2 (Dropout)          (None, 4, 300)            0         \n",
            "_________________________________________________________________\n",
            "dense (Dense)                (None, 4, 100)            30100     \n",
            "_________________________________________________________________\n",
            "dropout_3 (Dropout)          (None, 4, 100)            0         \n",
            "_________________________________________________________________\n",
            "dense_1 (Dense)              (None, 4, 100)            10100     \n",
            "_________________________________________________________________\n",
            "dropout_4 (Dropout)          (None, 4, 100)            0         \n",
            "_________________________________________________________________\n",
            "dense_2 (Dense)              (None, 4, 100)            10100     \n",
            "_________________________________________________________________\n",
            "dropout_5 (Dropout)          (None, 4, 100)            0         \n",
            "_________________________________________________________________\n",
            "dense_3 (Dense)              (None, 4, 1)              101       \n",
            "=================================================================\n",
            "Total params: 1,880,401\n",
            "Trainable params: 1,880,401\n",
            "Non-trainable params: 0\n",
            "_________________________________________________________________\n"
          ]
        }
      ]
    },
    {
      "cell_type": "code",
      "metadata": {
        "id": "AB96ZXTj3Bo_",
        "outputId": "bf5f63d2-e198-4a19-95e1-7fcabbeb247c"
      },
      "source": [
        "optimizer = RMSprop(learning_rate=0.005)\n",
        "lstm_model.compile(loss='mean_absolute_error', optimizer=optimizer)\n",
        "\n",
        "lstm_history = lstm_model.fit(X_train_unflatten_all_15, y_train_window_size_15,\n",
        "                              validation_data=(X_valid_unflatten_all_15, y_valid_window_size_15),\n",
        "                              epochs=EPOCHS,\n",
        "                              batch_size=BATCH_SIZE)"
      ],
      "execution_count": null,
      "outputs": [
        {
          "name": "stdout",
          "output_type": "stream",
          "text": [
            "Epoch 1/20\n",
            "184/184 [==============================] - 29s 82ms/step - loss: 1.8798 - val_loss: 2.5572\n",
            "Epoch 2/20\n",
            "184/184 [==============================] - 14s 76ms/step - loss: 1.7720 - val_loss: 2.5695\n",
            "Epoch 3/20\n",
            "184/184 [==============================] - 14s 77ms/step - loss: 1.7717 - val_loss: 2.5569\n",
            "Epoch 4/20\n",
            "184/184 [==============================] - 14s 76ms/step - loss: 1.7718 - val_loss: 2.5564\n",
            "Epoch 5/20\n",
            "184/184 [==============================] - 14s 77ms/step - loss: 1.7715 - val_loss: 2.5579\n",
            "Epoch 6/20\n",
            "184/184 [==============================] - 14s 78ms/step - loss: 1.7715 - val_loss: 2.5559\n",
            "Epoch 7/20\n",
            "184/184 [==============================] - 14s 78ms/step - loss: 1.7716 - val_loss: 2.5556\n",
            "Epoch 8/20\n",
            "184/184 [==============================] - 15s 79ms/step - loss: 1.7713 - val_loss: 2.5557\n",
            "Epoch 9/20\n",
            "184/184 [==============================] - 15s 80ms/step - loss: 1.7714 - val_loss: 2.5559\n",
            "Epoch 10/20\n",
            "184/184 [==============================] - 15s 81ms/step - loss: 1.7714 - val_loss: 2.5555\n",
            "Epoch 11/20\n",
            "184/184 [==============================] - 15s 80ms/step - loss: 1.7713 - val_loss: 2.5556\n",
            "Epoch 12/20\n",
            "184/184 [==============================] - 14s 78ms/step - loss: 1.7716 - val_loss: 2.5555\n",
            "Epoch 13/20\n",
            "184/184 [==============================] - 14s 78ms/step - loss: 1.7713 - val_loss: 2.5552\n",
            "Epoch 14/20\n",
            "184/184 [==============================] - 14s 78ms/step - loss: 1.7713 - val_loss: 2.5561\n",
            "Epoch 15/20\n",
            "184/184 [==============================] - 14s 78ms/step - loss: 1.7714 - val_loss: 2.5553\n",
            "Epoch 16/20\n",
            "184/184 [==============================] - 14s 78ms/step - loss: 1.7714 - val_loss: 2.5566\n",
            "Epoch 17/20\n",
            "184/184 [==============================] - 14s 77ms/step - loss: 1.7713 - val_loss: 2.5557\n",
            "Epoch 18/20\n",
            "184/184 [==============================] - 14s 77ms/step - loss: 1.7714 - val_loss: 2.5563\n",
            "Epoch 19/20\n",
            "184/184 [==============================] - 14s 78ms/step - loss: 1.7713 - val_loss: 2.5553\n",
            "Epoch 20/20\n",
            "184/184 [==============================] - 14s 79ms/step - loss: 1.7714 - val_loss: 2.5559\n"
          ]
        }
      ]
    },
    {
      "cell_type": "code",
      "metadata": {
        "id": "YxnEx9Wb3Bo_",
        "outputId": "0e093ba6-fc2b-44c9-8828-5232e66c4dd1"
      },
      "source": [
        "result = evaluate_3Dmodel(lstm_model, X_test_unflatten_all_15, y_test_window_size_15)"
      ],
      "execution_count": null,
      "outputs": [
        {
          "name": "stdout",
          "output_type": "stream",
          "text": [
            "Mean absolut error on test: 2.255846573621465\n"
          ]
        }
      ]
    },
    {
      "cell_type": "code",
      "metadata": {
        "id": "xEwdAqq83Bo_",
        "outputId": "4def8068-7901-457b-ce11-a01874813577"
      },
      "source": [
        "loss_values = lstm_history.history['loss']\n",
        "val_loss_values = lstm_history.history['val_loss']\n",
        "epochs = range(1, len(loss_values)+1)\n",
        "\n",
        "plt.plot(epochs, loss_values, label='Training Loss')\n",
        "plt.plot(epochs, val_loss_values, label='Validation Loss')\n",
        "\n",
        "plt.title(\"Compiling history of LSTM model\")\n",
        "plt.xlabel('Epochs')\n",
        "plt.ylabel('Loss')\n",
        "plt.legend()\n",
        "\n",
        "plt.show()"
      ],
      "execution_count": null,
      "outputs": [
        {
          "data": {
            "image/png": "[encoded data removed]",
            "text/plain": [
              "<Figure size 432x288 with 1 Axes>"
            ]
          },
          "metadata": {
            "needs_background": "light"
          },
          "output_type": "display_data"
        }
      ]
    },
    {
      "cell_type": "markdown",
      "metadata": {
        "id": "vqlK2cbw3Bo_"
      },
      "source": [
        "- **Brief summary**:\n",
        "\n",
        "    > As shown in the cell above, the LSTM model's performance on the test dataset is 2.2558 in terms of MAE.\n",
        "    \n",
        "    ___Limitations___: \n",
        "    \n",
        "    While the structure of LSTM, especially the introduction of the cell state, allows it to process sequence data better, again, as mentioned above, due to the limitation caused by dimensionality of the input data (with a window size of 5 and therefore 4 \"time steps\"), the maximum context information that the neural network can store in the cell state is restricted, which is possibly the reason why the network fails to learn much additional information and predict better compared to other models shown above."
      ]
    },
    {
      "cell_type": "markdown",
      "metadata": {
        "id": "9wb_A92G3BpA"
      },
      "source": [
        "### Gated Recurrent Unit\n",
        "\n",
        "- **Intro**:\n",
        "\n",
        "   A Gated Recurrent Unit model is another type of Recurrent Neural Network. Compared to LSTM, a GRU neural network has fewer gates and parameters and therefore is more efficient to train.\n",
        "\n",
        "- **Input data**:\n",
        "\n",
        "    The input data of the model has been normalized and rolled into a form of 3D data.\n",
        "    \n",
        "    > Training dataset: `X_train_unflatten_all_15` and `y_train_window_size_15`\\\n",
        "    > Validation dataset: `X_valid_unflatten_all_15` and `y_valid_window_size_15`\\\n",
        "    > Testing dataset: `X_test_unflatten_all_15` and `y_test_window_size_15`\n",
        "    \n",
        "- **Architecture**:\n",
        "\n",
        "    When increasing the complexity of the model (whether by increasing the number of hidden layers or the number of hidden cells), its performance doesn't seem to change. Below is one of the structures that yields similar results to its alternatives, with 2 pairs of GRU layers and dropout layers followed by 2 pairs of fully connected layers and dropout layers."
      ]
    },
    {
      "cell_type": "code",
      "metadata": {
        "id": "OHpHUPfB3BpA"
      },
      "source": [
        "n_hidden_layers = 2\n",
        "hidden_layer_size = 200\n",
        "dropout_rate = 0.5\n",
        "\n",
        "BATCH_SIZE = 300\n",
        "EPOCHS = 20"
      ],
      "execution_count": null,
      "outputs": []
    },
    {
      "cell_type": "code",
      "metadata": {
        "id": "uvKy-7z13BpA",
        "outputId": "1c2ce550-c260-4d04-9371-f333a0f3f2f2"
      },
      "source": [
        "tf.compat.v1.reset_default_graph()\n",
        "be.clear_session()\n",
        "\n",
        "column_count = np.shape(X_train_unflatten_all_15)[2]\n",
        "\n",
        "input_layer=Input(shape=(np.shape(X_train_unflatten_all_15)[1], column_count))\n",
        "cur_last_layer=input_layer\n",
        "\n",
        "for l in range(n_hidden_layers):\n",
        "    hidden_layer=GRU(hidden_layer_size, return_sequences=True)(cur_last_layer)\n",
        "    cur_last_layer=hidden_layer\n",
        "\n",
        "for l in range(n_hidden_layers):\n",
        "    dense = Dense(100, activation='sigmoid')(cur_last_layer)\n",
        "    dropout_layer = Dropout(dropout_rate)(dense)\n",
        "    cur_last_layer=dropout_layer\n",
        "predictions=Dense(1)(cur_last_layer)\n",
        "\n",
        "gru_model=Model(inputs=input_layer, outputs=predictions)\n",
        "gru_model.summary()"
      ],
      "execution_count": null,
      "outputs": [
        {
          "name": "stdout",
          "output_type": "stream",
          "text": [
            "Model: \"model\"\n",
            "_________________________________________________________________\n",
            "Layer (type)                 Output Shape              Param #   \n",
            "=================================================================\n",
            "input_1 (InputLayer)         [(None, 4, 22)]           0         \n",
            "_________________________________________________________________\n",
            "gru (GRU)                    (None, 4, 200)            134400    \n",
            "_________________________________________________________________\n",
            "gru_1 (GRU)                  (None, 4, 200)            241200    \n",
            "_________________________________________________________________\n",
            "dense (Dense)                (None, 4, 100)            20100     \n",
            "_________________________________________________________________\n",
            "dropout (Dropout)            (None, 4, 100)            0         \n",
            "_________________________________________________________________\n",
            "dense_1 (Dense)              (None, 4, 100)            10100     \n",
            "_________________________________________________________________\n",
            "dropout_1 (Dropout)          (None, 4, 100)            0         \n",
            "_________________________________________________________________\n",
            "dense_2 (Dense)              (None, 4, 1)              101       \n",
            "=================================================================\n",
            "Total params: 405,901\n",
            "Trainable params: 405,901\n",
            "Non-trainable params: 0\n",
            "_________________________________________________________________\n"
          ]
        }
      ]
    },
    {
      "cell_type": "code",
      "metadata": {
        "id": "s3LIkBOg3BpA",
        "outputId": "52f1177e-7afc-4021-b9ea-e5c0d10a19f3"
      },
      "source": [
        "#For shape remeber, we have a variable defining the \"window\" and the features in the window...\n",
        "optimizer = RMSprop(learning_rate=0.0015)\n",
        "gru_model.compile(loss='mean_absolute_error', optimizer=optimizer)\n",
        "\n",
        "gru_history = gru_model.fit(X_train_unflatten_all_15, y_train_window_size_15,\n",
        "                              validation_data=(X_valid_unflatten_all_15, y_valid_window_size_15),\n",
        "                              epochs=EPOCHS,\n",
        "                              batch_size=BATCH_SIZE)"
      ],
      "execution_count": null,
      "outputs": [
        {
          "name": "stdout",
          "output_type": "stream",
          "text": [
            "Epoch 1/20\n",
            "306/306 [==============================] - 10s 23ms/step - loss: 1.7964 - val_loss: 2.5552\n",
            "Epoch 2/20\n",
            "306/306 [==============================] - 7s 22ms/step - loss: 1.7709 - val_loss: 2.5553\n",
            "Epoch 3/20\n",
            "306/306 [==============================] - 7s 22ms/step - loss: 1.7709 - val_loss: 2.5554\n",
            "Epoch 4/20\n",
            "306/306 [==============================] - 7s 22ms/step - loss: 1.7709 - val_loss: 2.5553\n",
            "Epoch 5/20\n",
            "306/306 [==============================] - 7s 23ms/step - loss: 1.7709 - val_loss: 2.5553\n",
            "Epoch 6/20\n",
            "306/306 [==============================] - 6s 21ms/step - loss: 1.7709 - val_loss: 2.5553\n",
            "Epoch 7/20\n",
            "306/306 [==============================] - 7s 23ms/step - loss: 1.7709 - val_loss: 2.5551\n",
            "Epoch 8/20\n",
            "306/306 [==============================] - 6s 21ms/step - loss: 1.7709 - val_loss: 2.5553\n",
            "Epoch 9/20\n",
            "306/306 [==============================] - 7s 23ms/step - loss: 1.7709 - val_loss: 2.5554\n",
            "Epoch 10/20\n",
            "306/306 [==============================] - 7s 22ms/step - loss: 1.7709 - val_loss: 2.5554\n",
            "Epoch 11/20\n",
            "306/306 [==============================] - 6s 20ms/step - loss: 1.7709 - val_loss: 2.5554\n",
            "Epoch 12/20\n",
            "306/306 [==============================] - 7s 23ms/step - loss: 1.7709 - val_loss: 2.5553\n",
            "Epoch 13/20\n",
            "306/306 [==============================] - 7s 22ms/step - loss: 1.7709 - val_loss: 2.5554\n",
            "Epoch 14/20\n",
            "306/306 [==============================] - 7s 21ms/step - loss: 1.7709 - val_loss: 2.5552\n",
            "Epoch 15/20\n",
            "306/306 [==============================] - 7s 23ms/step - loss: 1.7709 - val_loss: 2.5552\n",
            "Epoch 16/20\n",
            "306/306 [==============================] - 7s 22ms/step - loss: 1.7709 - val_loss: 2.5552\n",
            "Epoch 17/20\n",
            "306/306 [==============================] - 7s 24ms/step - loss: 1.7709 - val_loss: 2.5553\n",
            "Epoch 18/20\n",
            "306/306 [==============================] - 7s 22ms/step - loss: 1.7709 - val_loss: 2.5553\n",
            "Epoch 19/20\n",
            "306/306 [==============================] - 7s 23ms/step - loss: 1.7709 - val_loss: 2.5554\n",
            "Epoch 20/20\n",
            "306/306 [==============================] - 7s 23ms/step - loss: 1.7709 - val_loss: 2.5554\n"
          ]
        }
      ]
    },
    {
      "cell_type": "code",
      "metadata": {
        "id": "A-ic7Zfp3BpA",
        "outputId": "1a1343ae-6faf-40e9-c9f2-d39494a23b82"
      },
      "source": [
        "result = evaluate_3Dmodel(gru_model, X_test_unflatten_all_15, y_test_window_size_15)"
      ],
      "execution_count": null,
      "outputs": [
        {
          "name": "stdout",
          "output_type": "stream",
          "text": [
            "Mean absolut error on test: 2.2554063179541552\n"
          ]
        }
      ]
    },
    {
      "cell_type": "code",
      "metadata": {
        "id": "78NdIh6S3BpA",
        "outputId": "6474288c-c79d-43a2-8bc4-31af8ad0f3c4"
      },
      "source": [
        "loss_values = gru_history.history['loss']\n",
        "val_loss_values = gru_history.history['val_loss']\n",
        "epochs = range(1, len(loss_values)+1)\n",
        "\n",
        "plt.plot(epochs, loss_values, label='Training Loss')\n",
        "plt.plot(epochs, val_loss_values, label='Validation Loss')\n",
        "\n",
        "plt.title('Compiling history of GRU model')\n",
        "plt.xlabel('Epochs')\n",
        "plt.ylabel('Loss')\n",
        "plt.legend()\n",
        "\n",
        "plt.show()"
      ],
      "execution_count": null,
      "outputs": [
        {
          "data": {
            "image/png": "[encoded data removed]",
            "text/plain": [
              "<Figure size 432x288 with 1 Axes>"
            ]
          },
          "metadata": {
            "needs_background": "light"
          },
          "output_type": "display_data"
        }
      ]
    },
    {
      "cell_type": "markdown",
      "metadata": {
        "id": "jtwuevAq3BpA"
      },
      "source": [
        "- **Brief summary**:\n",
        "\n",
        "    > As shown in the cell above, the GRU model's performance on the test dataset is 2.2554 in terms of MAE.\n",
        "    \n",
        "    It is interesting to see that compared to LSTM, GRU yields a slightly better performance on the test set. However, the graphs of the compile histories of both models seem very similar--both show that there is little learning after the first 2 or 3 epochs.\n",
        "    \n",
        "    ___Limitations___: \n",
        "    \n",
        "    With fewer parameters and gates in the neural network, while the speed of training has been increased, the complexity that can be captured by GRU is also reduced. While its performance does seem better than LSTM, the difference can also be caused by other random factors."
      ]
    },
    {
      "cell_type": "markdown",
      "metadata": {
        "id": "TIQZq6puLuyx"
      },
      "source": [
        "## <b>3.5.Transformers: Attention is all you need!</b>"
      ]
    },
    {
      "cell_type": "markdown",
      "metadata": {
        "id": "YA5i5Yrt3BpB"
      },
      "source": [
        "### Self-Attention\n",
        "\n",
        "- **Intro**:\n",
        "\n",
        "The Attention mechanism is one of the state of the art architecture. To gain some experience with it our group decided to try the attention architecture on the our electricity data.\n",
        "However, our prediction problem is not a sequence thats why we have to apply the self-attention mechanism. In the self-attention mechanism both the source of the queries and the target of the attention are input embeddings and are learned projections.\n",
        "\n",
        "During training we identified that high drop_out rate of 0.5 helps a lot to have a good convergence. Additionally, a batch size of 64 and and a dense layer size of 256 which enables the model to learn well.\n",
        "\n",
        "Unluckily, the model was also not able to beat the Dummy Regressor but for our group we learned very well how to apply self attention to predict.\n",
        "\n",
        "   \n",
        "\n",
        "- **Input data**:\n",
        "\n",
        "    The input data of the model has been normalized and rolled into a form of 3D data.\n",
        "    \n",
        "    > Training dataset: `X_train_window_size_15` and `y_train_window_size_15`\\\n",
        "    > Validation dataset: `X_valid_window_size_15` and `y_valid_window_size_15`\\\n",
        "    > Testing dataset: `X_test_window_size_15` and `y_test_window_size_15`\n",
        "\n",
        " \n",
        "- **Architecture**:\n",
        "\n",
        "1. Input Layer\n",
        "2. Embedding Layer for the query\n",
        "3. Self-Attention layer with the inputs and embedding layer\n",
        "4. Concatenating the input and attention layer\n",
        "5. 2x Dense Layers followed by a Dropout Layer\n",
        "6. Output Layer with a linear activation function\n"
      ]
    },
    {
      "cell_type": "code",
      "metadata": {
        "id": "rzrRV7hWUMS9"
      },
      "source": [
        "EPOCHS = 50\n",
        "BATCH_SIZE = 64\n",
        "DENSE_LAYER_SIZE = 256\n",
        "DROP_OUT = 0.0\n",
        "be.clear_session()\n",
        "\n",
        "def create_self_attention():\n",
        "\n",
        "    clear_session\n",
        "    \n",
        "    inputs_q = Input(shape=(X_train_window_size_15.shape[1],))\n",
        "\n",
        "\n",
        "    dense_embedding_layer_q = Dense(X_train_window_size_15.shape[1], activation='softmax', \n",
        "                   kernel_initializer=k.initializers.HeNormal)(inputs_q)\n",
        "\n",
        "    self_attention = tf.keras.layers.Attention()(\n",
        "       [inputs_q, dense_embedding_layer_q])\n",
        "\n",
        "    attention_inputs = merge.Concatenate()(\n",
        "        [inputs_q, self_attention])\n",
        "\n",
        "    Dense_1 = Dense(DENSE_LAYER_SIZE, name='Dense_1', activation='relu', \n",
        "                    kernel_initializer=k.initializers.HeNormal)(attention_inputs)\n",
        "\n",
        "\n",
        "    Dropout_1 = Dropout(DROP_OUT)(Dense_1)\n",
        "\n",
        "\n",
        "    Dense_2 = Dense(DENSE_LAYER_SIZE, name='Dense_2', activation='relu', \n",
        "                    kernel_initializer=k.initializers.HeNormal)(Dropout_1)\n",
        "\n",
        "    Dropout_2 = Dropout(DROP_OUT)(Dense_2)\n",
        "\n",
        "    output = Dense(1, name='output_layer', activation='linear')(Dropout_2)\n",
        "\n",
        "    model = Model(inputs=[inputs_q], outputs=output)\n",
        "\n",
        "    #Since we are using a 'state of the art'-model we also tried the 'state of the art'-optimizer \"ranger\"\n",
        "\n",
        "    radam = tfa.optimizers.RectifiedAdam()\n",
        "    ranger = tfa.optimizers.Lookahead(radam, sync_period=6, slow_step_size=0.5)\n",
        "    \n",
        "    model.compile(optimizer=ranger, loss='mae')\n",
        "\n",
        "    model_history = model.fit(X_train_window_size_15, y_train_window_size_15, validation_data=(X_valid_window_size_15, y_valid_window_size_15), epochs=EPOCHS, batch_size=BATCH_SIZE, shuffle=False)\n",
        "\n",
        "    return model, model_history"
      ],
      "execution_count": 46,
      "outputs": []
    },
    {
      "cell_type": "code",
      "metadata": {
        "colab": {
          "base_uri": "https://localhost:8080/"
        },
        "id": "M4d4KYQ6UOfU",
        "outputId": "61eb7987-35fa-4173-c3f1-0144193ec9b1"
      },
      "source": [
        "model, model_history = create_self_attention()"
      ],
      "execution_count": 47,
      "outputs": [
        {
          "output_type": "stream",
          "name": "stdout",
          "text": [
            "Epoch 1/50\n",
            "467/467 [==============================] - 6s 7ms/step - loss: 69.5364 - val_loss: 6.8351\n",
            "Epoch 2/50\n",
            "467/467 [==============================] - 3s 7ms/step - loss: 95.0853 - val_loss: 7.0733\n",
            "Epoch 3/50\n",
            "467/467 [==============================] - 3s 7ms/step - loss: 114.1618 - val_loss: 10.3378\n",
            "Epoch 4/50\n",
            "467/467 [==============================] - 3s 7ms/step - loss: 67.8785 - val_loss: 8.9730\n",
            "Epoch 5/50\n",
            "467/467 [==============================] - 3s 7ms/step - loss: 107.1374 - val_loss: 6.9693\n",
            "Epoch 6/50\n",
            "467/467 [==============================] - 3s 7ms/step - loss: 101.1155 - val_loss: 3.9601\n",
            "Epoch 7/50\n",
            "467/467 [==============================] - 3s 7ms/step - loss: 95.9700 - val_loss: 6.2351\n",
            "Epoch 8/50\n",
            "467/467 [==============================] - 3s 7ms/step - loss: 82.6334 - val_loss: 16.1054\n",
            "Epoch 9/50\n",
            "467/467 [==============================] - 3s 7ms/step - loss: 90.9033 - val_loss: 9.7119\n",
            "Epoch 10/50\n",
            "467/467 [==============================] - 3s 7ms/step - loss: 89.0189 - val_loss: 4.6804\n",
            "Epoch 11/50\n",
            "467/467 [==============================] - 3s 7ms/step - loss: 66.3653 - val_loss: 4.3316\n",
            "Epoch 12/50\n",
            "467/467 [==============================] - 3s 7ms/step - loss: 64.7557 - val_loss: 5.9672\n",
            "Epoch 13/50\n",
            "467/467 [==============================] - 3s 7ms/step - loss: 57.0203 - val_loss: 10.3770\n",
            "Epoch 14/50\n",
            "467/467 [==============================] - 3s 7ms/step - loss: 51.2173 - val_loss: 4.7006\n",
            "Epoch 15/50\n",
            "467/467 [==============================] - 3s 7ms/step - loss: 50.2668 - val_loss: 10.7545\n",
            "Epoch 16/50\n",
            "467/467 [==============================] - 3s 7ms/step - loss: 42.3393 - val_loss: 12.3813\n",
            "Epoch 17/50\n",
            "467/467 [==============================] - 3s 7ms/step - loss: 41.6713 - val_loss: 5.7970\n",
            "Epoch 18/50\n",
            "467/467 [==============================] - 3s 7ms/step - loss: 36.6815 - val_loss: 3.9850\n",
            "Epoch 19/50\n",
            "467/467 [==============================] - 3s 7ms/step - loss: 35.4432 - val_loss: 5.5612\n",
            "Epoch 20/50\n",
            "467/467 [==============================] - 3s 7ms/step - loss: 31.3243 - val_loss: 4.0541\n",
            "Epoch 21/50\n",
            "467/467 [==============================] - 3s 7ms/step - loss: 27.9099 - val_loss: 7.4541\n",
            "Epoch 22/50\n",
            "467/467 [==============================] - 3s 7ms/step - loss: 28.3501 - val_loss: 3.6509\n",
            "Epoch 23/50\n",
            "467/467 [==============================] - 3s 7ms/step - loss: 25.6152 - val_loss: 4.0283\n",
            "Epoch 24/50\n",
            "467/467 [==============================] - 3s 7ms/step - loss: 23.4409 - val_loss: 3.6980\n",
            "Epoch 25/50\n",
            "467/467 [==============================] - 3s 7ms/step - loss: 21.2766 - val_loss: 3.7189\n",
            "Epoch 26/50\n",
            "467/467 [==============================] - 3s 7ms/step - loss: 17.3104 - val_loss: 3.8914\n",
            "Epoch 27/50\n",
            "467/467 [==============================] - 3s 7ms/step - loss: 18.2803 - val_loss: 6.0352\n",
            "Epoch 28/50\n",
            "467/467 [==============================] - 3s 7ms/step - loss: 17.6842 - val_loss: 3.6044\n",
            "Epoch 29/50\n",
            "467/467 [==============================] - 3s 7ms/step - loss: 15.9606 - val_loss: 4.3844\n",
            "Epoch 30/50\n",
            "467/467 [==============================] - 3s 7ms/step - loss: 12.9578 - val_loss: 3.5895\n",
            "Epoch 31/50\n",
            "467/467 [==============================] - 3s 7ms/step - loss: 14.7843 - val_loss: 3.9605\n",
            "Epoch 32/50\n",
            "467/467 [==============================] - 3s 7ms/step - loss: 11.8736 - val_loss: 3.8994\n",
            "Epoch 33/50\n",
            "467/467 [==============================] - 3s 7ms/step - loss: 12.6327 - val_loss: 3.5893\n",
            "Epoch 34/50\n",
            "467/467 [==============================] - 3s 7ms/step - loss: 8.7160 - val_loss: 4.1594\n",
            "Epoch 35/50\n",
            "467/467 [==============================] - 3s 7ms/step - loss: 9.2518 - val_loss: 3.6421\n",
            "Epoch 36/50\n",
            "467/467 [==============================] - 3s 7ms/step - loss: 9.8280 - val_loss: 3.4991\n",
            "Epoch 37/50\n",
            "467/467 [==============================] - 3s 7ms/step - loss: 7.5070 - val_loss: 3.6092\n",
            "Epoch 38/50\n",
            "467/467 [==============================] - 3s 7ms/step - loss: 8.7852 - val_loss: 3.5575\n",
            "Epoch 39/50\n",
            "467/467 [==============================] - 3s 7ms/step - loss: 7.0914 - val_loss: 4.1130\n",
            "Epoch 40/50\n",
            "467/467 [==============================] - 3s 7ms/step - loss: 7.0913 - val_loss: 3.7313\n",
            "Epoch 41/50\n",
            "467/467 [==============================] - 3s 7ms/step - loss: 5.5463 - val_loss: 3.9422\n",
            "Epoch 42/50\n",
            "467/467 [==============================] - 3s 7ms/step - loss: 6.3083 - val_loss: 3.5379\n",
            "Epoch 43/50\n",
            "467/467 [==============================] - 3s 7ms/step - loss: 5.1512 - val_loss: 4.1271\n",
            "Epoch 44/50\n",
            "467/467 [==============================] - 3s 7ms/step - loss: 6.7198 - val_loss: 3.7824\n",
            "Epoch 45/50\n",
            "467/467 [==============================] - 3s 7ms/step - loss: 5.0238 - val_loss: 3.6806\n",
            "Epoch 46/50\n",
            "467/467 [==============================] - 3s 7ms/step - loss: 4.2018 - val_loss: 3.5448\n",
            "Epoch 47/50\n",
            "467/467 [==============================] - 3s 7ms/step - loss: 4.1638 - val_loss: 3.6931\n",
            "Epoch 48/50\n",
            "467/467 [==============================] - 3s 7ms/step - loss: 3.4541 - val_loss: 4.2505\n",
            "Epoch 49/50\n",
            "467/467 [==============================] - 3s 7ms/step - loss: 3.4380 - val_loss: 3.5251\n",
            "Epoch 50/50\n",
            "467/467 [==============================] - 3s 7ms/step - loss: 4.4692 - val_loss: 3.5348\n"
          ]
        }
      ]
    },
    {
      "cell_type": "code",
      "metadata": {
        "colab": {
          "base_uri": "https://localhost:8080/"
        },
        "id": "4tNBSDC1UPWP",
        "outputId": "671722f9-e13e-456f-b356-6bf80b5c12f8"
      },
      "source": [
        "evaluate_model(model, X_test_window_size_15, y_test_window_size_15)"
      ],
      "execution_count": 48,
      "outputs": [
        {
          "output_type": "stream",
          "name": "stdout",
          "text": [
            "Mean absolut error on test: 3.0319513909869085\n"
          ]
        },
        {
          "output_type": "execute_result",
          "data": {
            "text/plain": [
              "3.0319513909869085"
            ]
          },
          "metadata": {},
          "execution_count": 48
        }
      ]
    },
    {
      "cell_type": "code",
      "metadata": {
        "colab": {
          "base_uri": "https://localhost:8080/",
          "height": 279
        },
        "id": "pX-aqRjrUVFR",
        "outputId": "61b829d5-f584-4d0f-db3d-6fb3339e56b6"
      },
      "source": [
        "loss_values = model_history.history['loss']\n",
        "val_loss_values = model_history.history['val_loss']\n",
        "epochs = range(1, len(loss_values)+1)\n",
        "\n",
        "plt.plot(epochs, loss_values, label='Training Loss')\n",
        "plt.plot(epochs, val_loss_values, label='Validation Loss')\n",
        "plt.xlabel('Epochs')\n",
        "plt.ylabel('Loss')\n",
        "plt.legend()\n",
        "\n",
        "plt.show()"
      ],
      "execution_count": 49,
      "outputs": [
        {
          "output_type": "display_data",
          "data": {
            "image/png": "[encoded data removed]",
            "text/plain": [
              "<Figure size 432x288 with 1 Axes>"
            ]
          },
          "metadata": {
            "needs_background": "light"
          }
        }
      ]
    }
  ]
}