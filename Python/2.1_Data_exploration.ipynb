{
 "cells": [
  {
   "cell_type": "code",
   "execution_count": 1,
   "metadata": {},
   "outputs": [],
   "source": [
    "import pandas as pd\n",
    "import numpy as np\n",
    "import xgboost as xgb\n",
    "from numpy import genfromtxt\n",
    "from pandas_profiling import ProfileReport"
   ]
  },
  {
   "cell_type": "code",
   "execution_count": 2,
   "metadata": {},
   "outputs": [],
   "source": [
    "df = pd.read_csv(\"/workspaces/SigmoidFreud/Data/X_train_window_size_15_time_encoding_True.csv\", sep=',')\n",
    "\n"
   ]
  },
  {
   "cell_type": "code",
   "execution_count": 3,
   "metadata": {},
   "outputs": [
    {
     "name": "stdout",
     "output_type": "stream",
     "text": [
      "<class 'pandas.core.frame.DataFrame'>\n",
      "RangeIndex: 29888 entries, 0 to 29887\n",
      "Columns: 101 entries, total_hours to 83\n",
      "dtypes: float64(101)\n",
      "memory usage: 23.0 MB\n"
     ]
    }
   ],
   "source": [
    "df.info()"
   ]
  },
  {
   "cell_type": "code",
   "execution_count": 4,
   "metadata": {},
   "outputs": [
    {
     "data": {
      "text/html": [
       "<div>\n",
       "<style scoped>\n",
       "    .dataframe tbody tr th:only-of-type {\n",
       "        vertical-align: middle;\n",
       "    }\n",
       "\n",
       "    .dataframe tbody tr th {\n",
       "        vertical-align: top;\n",
       "    }\n",
       "\n",
       "    .dataframe thead th {\n",
       "        text-align: right;\n",
       "    }\n",
       "</style>\n",
       "<table border=\"1\" class=\"dataframe\">\n",
       "  <thead>\n",
       "    <tr style=\"text-align: right;\">\n",
       "      <th></th>\n",
       "      <th>total_hours</th>\n",
       "      <th>dlvry_weekend</th>\n",
       "      <th>dlvry_bank_holiday</th>\n",
       "      <th>dlvry_day_sin</th>\n",
       "      <th>dlvry_day_cos</th>\n",
       "      <th>dlvry_weekday_sin</th>\n",
       "      <th>dlvry_weekday_cos</th>\n",
       "      <th>dlvry_hour_sin</th>\n",
       "      <th>dlvry_hour_cos</th>\n",
       "      <th>lasttrade_weekend</th>\n",
       "      <th>...</th>\n",
       "      <th>74</th>\n",
       "      <th>75</th>\n",
       "      <th>76</th>\n",
       "      <th>77</th>\n",
       "      <th>78</th>\n",
       "      <th>79</th>\n",
       "      <th>80</th>\n",
       "      <th>81</th>\n",
       "      <th>82</th>\n",
       "      <th>83</th>\n",
       "    </tr>\n",
       "  </thead>\n",
       "  <tbody>\n",
       "    <tr>\n",
       "      <th>0</th>\n",
       "      <td>16.367966</td>\n",
       "      <td>0.0</td>\n",
       "      <td>0.0</td>\n",
       "      <td>0.394356</td>\n",
       "      <td>0.918958</td>\n",
       "      <td>0.0</td>\n",
       "      <td>1.0</td>\n",
       "      <td>2.588190e-01</td>\n",
       "      <td>-0.965926</td>\n",
       "      <td>0.0</td>\n",
       "      <td>...</td>\n",
       "      <td>0.19</td>\n",
       "      <td>0.48</td>\n",
       "      <td>-202.3</td>\n",
       "      <td>240.0</td>\n",
       "      <td>0.47</td>\n",
       "      <td>0.65</td>\n",
       "      <td>0.40</td>\n",
       "      <td>-0.28</td>\n",
       "      <td>890.7</td>\n",
       "      <td>180.0</td>\n",
       "    </tr>\n",
       "    <tr>\n",
       "      <th>1</th>\n",
       "      <td>17.549852</td>\n",
       "      <td>0.0</td>\n",
       "      <td>0.0</td>\n",
       "      <td>0.394356</td>\n",
       "      <td>0.918958</td>\n",
       "      <td>0.0</td>\n",
       "      <td>1.0</td>\n",
       "      <td>1.224647e-16</td>\n",
       "      <td>-1.000000</td>\n",
       "      <td>0.0</td>\n",
       "      <td>...</td>\n",
       "      <td>-0.50</td>\n",
       "      <td>-0.99</td>\n",
       "      <td>188.3</td>\n",
       "      <td>300.0</td>\n",
       "      <td>-1.00</td>\n",
       "      <td>0.66</td>\n",
       "      <td>0.66</td>\n",
       "      <td>-0.49</td>\n",
       "      <td>107.5</td>\n",
       "      <td>240.0</td>\n",
       "    </tr>\n",
       "    <tr>\n",
       "      <th>2</th>\n",
       "      <td>17.549852</td>\n",
       "      <td>0.0</td>\n",
       "      <td>0.0</td>\n",
       "      <td>0.394356</td>\n",
       "      <td>0.918958</td>\n",
       "      <td>0.0</td>\n",
       "      <td>1.0</td>\n",
       "      <td>1.224647e-16</td>\n",
       "      <td>-1.000000</td>\n",
       "      <td>0.0</td>\n",
       "      <td>...</td>\n",
       "      <td>0.66</td>\n",
       "      <td>-0.49</td>\n",
       "      <td>107.5</td>\n",
       "      <td>240.0</td>\n",
       "      <td>-0.38</td>\n",
       "      <td>6.03</td>\n",
       "      <td>-2.01</td>\n",
       "      <td>-0.53</td>\n",
       "      <td>1169.5</td>\n",
       "      <td>180.0</td>\n",
       "    </tr>\n",
       "    <tr>\n",
       "      <th>3</th>\n",
       "      <td>19.078845</td>\n",
       "      <td>0.0</td>\n",
       "      <td>0.0</td>\n",
       "      <td>0.394356</td>\n",
       "      <td>0.918958</td>\n",
       "      <td>0.0</td>\n",
       "      <td>1.0</td>\n",
       "      <td>-2.588190e-01</td>\n",
       "      <td>-0.965926</td>\n",
       "      <td>0.0</td>\n",
       "      <td>...</td>\n",
       "      <td>-2.84</td>\n",
       "      <td>-3.71</td>\n",
       "      <td>18.8</td>\n",
       "      <td>420.0</td>\n",
       "      <td>-2.51</td>\n",
       "      <td>-2.50</td>\n",
       "      <td>0.30</td>\n",
       "      <td>0.45</td>\n",
       "      <td>321.4</td>\n",
       "      <td>360.0</td>\n",
       "    </tr>\n",
       "    <tr>\n",
       "      <th>4</th>\n",
       "      <td>19.078845</td>\n",
       "      <td>0.0</td>\n",
       "      <td>0.0</td>\n",
       "      <td>0.394356</td>\n",
       "      <td>0.918958</td>\n",
       "      <td>0.0</td>\n",
       "      <td>1.0</td>\n",
       "      <td>-2.588190e-01</td>\n",
       "      <td>-0.965926</td>\n",
       "      <td>0.0</td>\n",
       "      <td>...</td>\n",
       "      <td>0.30</td>\n",
       "      <td>0.45</td>\n",
       "      <td>321.4</td>\n",
       "      <td>360.0</td>\n",
       "      <td>-0.06</td>\n",
       "      <td>1.40</td>\n",
       "      <td>0.93</td>\n",
       "      <td>0.30</td>\n",
       "      <td>-79.6</td>\n",
       "      <td>300.0</td>\n",
       "    </tr>\n",
       "  </tbody>\n",
       "</table>\n",
       "<p>5 rows × 101 columns</p>\n",
       "</div>"
      ],
      "text/plain": [
       "   total_hours  dlvry_weekend  dlvry_bank_holiday  dlvry_day_sin  \\\n",
       "0    16.367966            0.0                 0.0       0.394356   \n",
       "1    17.549852            0.0                 0.0       0.394356   \n",
       "2    17.549852            0.0                 0.0       0.394356   \n",
       "3    19.078845            0.0                 0.0       0.394356   \n",
       "4    19.078845            0.0                 0.0       0.394356   \n",
       "\n",
       "   dlvry_day_cos  dlvry_weekday_sin  dlvry_weekday_cos  dlvry_hour_sin  \\\n",
       "0       0.918958                0.0                1.0    2.588190e-01   \n",
       "1       0.918958                0.0                1.0    1.224647e-16   \n",
       "2       0.918958                0.0                1.0    1.224647e-16   \n",
       "3       0.918958                0.0                1.0   -2.588190e-01   \n",
       "4       0.918958                0.0                1.0   -2.588190e-01   \n",
       "\n",
       "   dlvry_hour_cos  lasttrade_weekend  ...    74    75     76     77    78  \\\n",
       "0       -0.965926                0.0  ...  0.19  0.48 -202.3  240.0  0.47   \n",
       "1       -1.000000                0.0  ... -0.50 -0.99  188.3  300.0 -1.00   \n",
       "2       -1.000000                0.0  ...  0.66 -0.49  107.5  240.0 -0.38   \n",
       "3       -0.965926                0.0  ... -2.84 -3.71   18.8  420.0 -2.51   \n",
       "4       -0.965926                0.0  ...  0.30  0.45  321.4  360.0 -0.06   \n",
       "\n",
       "     79    80    81      82     83  \n",
       "0  0.65  0.40 -0.28   890.7  180.0  \n",
       "1  0.66  0.66 -0.49   107.5  240.0  \n",
       "2  6.03 -2.01 -0.53  1169.5  180.0  \n",
       "3 -2.50  0.30  0.45   321.4  360.0  \n",
       "4  1.40  0.93  0.30   -79.6  300.0  \n",
       "\n",
       "[5 rows x 101 columns]"
      ]
     },
     "execution_count": 4,
     "metadata": {},
     "output_type": "execute_result"
    }
   ],
   "source": [
    "df.head(5)"
   ]
  },
  {
   "cell_type": "code",
   "execution_count": 5,
   "metadata": {},
   "outputs": [
    {
     "data": {
      "text/plain": [
       "(3496, 101)"
      ]
     },
     "execution_count": 5,
     "metadata": {},
     "output_type": "execute_result"
    }
   ],
   "source": [
    "df.shape"
   ]
  },
  {
   "cell_type": "code",
   "execution_count": null,
   "metadata": {},
   "outputs": [],
   "source": []
  },
  {
   "cell_type": "code",
   "execution_count": 6,
   "metadata": {},
   "outputs": [],
   "source": [
    "X_train = genfromtxt(\"/workspaces/SigmoidFreud/Data/X_train_window_size_15_time_encoding_True.csv\", delimiter=',', skip_header=1)\n",
    "X_valid = genfromtxt(\"/workspaces/SigmoidFreud/Data/X_valid_window_size_15_time_encoding_True.csv\", delimiter=',', skip_header=1)\n",
    "X_test = genfromtxt(\"/workspaces/SigmoidFreud/Data/X_test_window_size_15_time_encoding_True.csv\", delimiter=',', skip_header=1)\n",
    "\n",
    "y_train = genfromtxt(\"/workspaces/SigmoidFreud/Data/y_train_window_size_15_time_encoding_True.csv\", delimiter=',', skip_header=1)\n",
    "y_valid = genfromtxt(\"/workspaces/SigmoidFreud/Data/y_valid_window_size_15_time_encoding_True.csv\", delimiter=',', skip_header=1)\n",
    "y_test = genfromtxt(\"/workspaces/SigmoidFreud/Data/y_test_window_size_15_time_encoding_True.csv\", delimiter=',', skip_header=1)\n"
   ]
  },
  {
   "cell_type": "code",
   "execution_count": 5,
   "metadata": {},
   "outputs": [],
   "source": [
    "from sklearn.metrics import mean_squared_error \n",
    "from math import sqrt\n",
    "def evaluate_model(model, X_valid, y_valid_true):\n",
    "    predictions = model.predict(X_valid)\n",
    "    rms = sqrt(mean_squared_error(y_valid_true, predictions))\n",
    "    print(\"Root mean squared error on valid:\",rms)\n",
    "    return rms"
   ]
  },
  {
   "cell_type": "code",
   "execution_count": 8,
   "metadata": {},
   "outputs": [],
   "source": [
    "dmatrix_train = xgb.DMatrix(data=X_train,label=y_train) \n",
    "dmatrix_valid = xgb.DMatrix(data=X_valid,label=y_valid)\n",
    "dmatrix_test = xgb.DMatrix(data=X_test,label=y_test)"
   ]
  },
  {
   "cell_type": "code",
   "execution_count": 9,
   "metadata": {},
   "outputs": [
    {
     "name": "stdout",
     "output_type": "stream",
     "text": [
      "[15:33:29] WARNING: ../src/objective/regression_obj.cu:171: reg:linear is now deprecated in favor of reg:squarederror.\n",
      "[15:33:29] WARNING: ../src/learner.cc:573: \n",
      "Parameters: { \"n_estimators\" } might not be used.\n",
      "\n",
      "  This may not be accurate due to some parameters are only used in language bindings but\n",
      "  passed down to XGBoost core.  Or some parameters are not used but slip through this\n",
      "  verification. Please open an issue if you find above cases.\n",
      "\n",
      "\n",
      "[0]\teval-rmse:7.20681\ttrain-rmse:4.20865\n",
      "[1]\teval-rmse:7.26896\ttrain-rmse:4.09787\n",
      "[2]\teval-rmse:7.30107\ttrain-rmse:3.97499\n",
      "[3]\teval-rmse:7.30736\ttrain-rmse:3.91461\n",
      "[4]\teval-rmse:7.39444\ttrain-rmse:3.82837\n",
      "[5]\teval-rmse:7.38107\ttrain-rmse:3.80249\n",
      "[6]\teval-rmse:7.36258\ttrain-rmse:3.75676\n",
      "[7]\teval-rmse:7.38545\ttrain-rmse:3.73744\n",
      "[8]\teval-rmse:7.39107\ttrain-rmse:3.70827\n",
      "[9]\teval-rmse:7.38613\ttrain-rmse:3.63538\n",
      "[10]\teval-rmse:7.44490\ttrain-rmse:3.54707\n",
      "[11]\teval-rmse:7.53555\ttrain-rmse:3.49888\n",
      "[12]\teval-rmse:7.54162\ttrain-rmse:3.46026\n",
      "[13]\teval-rmse:7.51924\ttrain-rmse:3.41184\n",
      "[14]\teval-rmse:7.52032\ttrain-rmse:3.36605\n",
      "[15]\teval-rmse:7.55723\ttrain-rmse:3.33007\n",
      "[16]\teval-rmse:7.56454\ttrain-rmse:3.29400\n",
      "[17]\teval-rmse:7.57950\ttrain-rmse:3.28154\n",
      "[18]\teval-rmse:7.55458\ttrain-rmse:3.23554\n",
      "[19]\teval-rmse:7.56400\ttrain-rmse:3.20052\n",
      "[20]\teval-rmse:7.57571\ttrain-rmse:3.16601\n",
      "[21]\teval-rmse:7.54000\ttrain-rmse:3.14403\n",
      "[22]\teval-rmse:7.53379\ttrain-rmse:3.12426\n",
      "[23]\teval-rmse:7.55052\ttrain-rmse:3.09948\n",
      "[24]\teval-rmse:7.57014\ttrain-rmse:3.07470\n",
      "[25]\teval-rmse:7.56317\ttrain-rmse:3.05942\n",
      "[26]\teval-rmse:7.58562\ttrain-rmse:3.01744\n",
      "[27]\teval-rmse:7.58273\ttrain-rmse:2.99455\n",
      "[28]\teval-rmse:7.57385\ttrain-rmse:2.97902\n",
      "[29]\teval-rmse:7.58732\ttrain-rmse:2.96982\n",
      "[30]\teval-rmse:7.59235\ttrain-rmse:2.94715\n",
      "[31]\teval-rmse:7.59724\ttrain-rmse:2.93695\n",
      "[32]\teval-rmse:7.60700\ttrain-rmse:2.92662\n",
      "[33]\teval-rmse:7.56808\ttrain-rmse:2.90401\n",
      "[34]\teval-rmse:7.56983\ttrain-rmse:2.87435\n",
      "[35]\teval-rmse:7.56262\ttrain-rmse:2.86158\n",
      "[36]\teval-rmse:7.55361\ttrain-rmse:2.84431\n",
      "[37]\teval-rmse:7.55357\ttrain-rmse:2.82954\n",
      "[38]\teval-rmse:7.55274\ttrain-rmse:2.80251\n",
      "[39]\teval-rmse:7.55174\ttrain-rmse:2.77990\n",
      "[40]\teval-rmse:7.55886\ttrain-rmse:2.75578\n",
      "[41]\teval-rmse:7.55175\ttrain-rmse:2.73535\n",
      "[42]\teval-rmse:7.53472\ttrain-rmse:2.71464\n",
      "[43]\teval-rmse:7.53769\ttrain-rmse:2.70727\n",
      "[44]\teval-rmse:7.53984\ttrain-rmse:2.68693\n",
      "[45]\teval-rmse:7.54530\ttrain-rmse:2.67673\n",
      "[46]\teval-rmse:7.54378\ttrain-rmse:2.65683\n",
      "[47]\teval-rmse:7.55477\ttrain-rmse:2.63521\n",
      "[48]\teval-rmse:7.55385\ttrain-rmse:2.63065\n",
      "[49]\teval-rmse:7.55630\ttrain-rmse:2.62757\n"
     ]
    }
   ],
   "source": [
    "params = {'objective': 'reg:linear', 'eval_metric': 'rmse', 'n_estimators': 100000}\n",
    "evallist = [(dmatrix_valid, 'eval'), (dmatrix_train, 'train')]\n",
    "xg_reg = xgb.train(params = params, dtrain=dmatrix_train, num_boost_round=50, evals=evallist)"
   ]
  },
  {
   "cell_type": "code",
   "execution_count": 10,
   "metadata": {},
   "outputs": [
    {
     "name": "stdout",
     "output_type": "stream",
     "text": [
      "Root mean squared error on valid: 6.358427459833358\n"
     ]
    }
   ],
   "source": [
    "result = evaluate_model(xg_reg, dmatrix_test, dmatrix_test.get_label())"
   ]
  },
  {
   "cell_type": "code",
   "execution_count": 11,
   "metadata": {},
   "outputs": [
    {
     "data": {
      "text/plain": [
       "RandomForestRegressor(n_estimators=10, n_jobs=-1, random_state=42069)"
      ]
     },
     "execution_count": 11,
     "metadata": {},
     "output_type": "execute_result"
    }
   ],
   "source": [
    "from sklearn.ensemble import RandomForestRegressor\n",
    "RF_base_model = RandomForestRegressor(n_estimators = 10, random_state=42069, n_jobs= -1)\n",
    "RF_base_model.fit(X_train, y_train)"
   ]
  },
  {
   "cell_type": "code",
   "execution_count": 12,
   "metadata": {},
   "outputs": [
    {
     "name": "stdout",
     "output_type": "stream",
     "text": [
      "Root mean squared error on valid: 6.782831154885582\n"
     ]
    }
   ],
   "source": [
    "result = evaluate_model(RF_base_model, X_test, y_test)"
   ]
  }
 ],
 "metadata": {
  "interpreter": {
   "hash": "aee8b7b246df8f9039afb4144a1f6fd8d2ca17a180786b69acc140d282b71a49"
  },
  "kernelspec": {
   "display_name": "Python 3.9.1 64-bit",
   "name": "python3"
  },
  "language_info": {
   "codemirror_mode": {
    "name": "ipython",
    "version": 3
   },
   "file_extension": ".py",
   "mimetype": "text/x-python",
   "name": "python",
   "nbconvert_exporter": "python",
   "pygments_lexer": "ipython3",
   "version": "3.8.12"
  },
  "orig_nbformat": 4
 },
 "nbformat": 4,
 "nbformat_minor": 2
}
