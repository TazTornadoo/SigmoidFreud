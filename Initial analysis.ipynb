{
 "cells": [
  {
   "cell_type": "markdown",
   "metadata": {
    "id": "djl8VtwmApoz"
   },
   "source": [
    "**Notebook to model electricity price differences.**<br>"
   ]
  },
  {
   "cell_type": "markdown",
   "metadata": {
    "id": "sWwowFXE7gUo"
   },
   "source": [
    "Brief summary of the exercise:\n",
    "* Target: predict the price change of electricity from the Close price of one hour to the Close price of the next hour\n",
    "* Input: the elementwise difference between the hourly 'candels' of the electricity price; explanation follows.\n",
    "\n",
    "  Hourly candels refers to the Open, High, Low, Close prices and the total Volume traded within an hour; thus each hourly candel has five elements. Historically, one could reconstruct these candels for each consecutive hour. We refer to the length of history for which the candels are reconstructed as 'window_size'. Thus, for a window_size of 5, one has candels from 5 consecutive hours.\n",
    "  \n",
    "  Left to explain is the 'elementwise difference' remark. Out of the N window_size of history, we compute differences between the consecutive candels: Open in t minus Open in t-1, Low in t minus low in t-1, etc. Thus, from N candels we create N-1 differentiated candels.\n",
    "\n",
    "  In this exercise, the elementwise differentiated data for window_sizes of 5 and 15 are provided\n",
    "\n",
    "  The data is further enchanced by mostly encoded time-related information. These encode what day of the week the data correspond to, whether the day is a bank holiday or not, etc. A list will be given further below.\n",
    "\n",
    "* ML models are to be built to predict the Target from the Input data."
   ]
  },
  {
   "cell_type": "code",
   "execution_count": 10,
   "metadata": {
    "colab": {
     "base_uri": "https://localhost:8080/",
     "height": 600
    },
    "id": "_qRgVE-BOHV1",
    "outputId": "090d45ed-9b1c-4de1-cc6a-5277dbcf66a5"
   },
   "outputs": [
    {
     "output_type": "stream",
     "name": "stdout",
     "text": [
      "Predictor data:\n"
     ]
    },
    {
     "output_type": "display_data",
     "data": {
      "text/plain": "   total_hours  dlvry_weekend  dlvry_bank_holiday  dlvry_day_sin  \\\n0    10.001383            1.0                 0.0       0.201299   \n1    10.001383            1.0                 0.0       0.201299   \n2    10.001383            1.0                 0.0       0.201299   \n3    10.001383            1.0                 0.0       0.201299   \n4    10.001383            1.0                 0.0       0.201299   \n5     7.080482            0.0                 0.0       0.394356   \n6     7.080482            0.0                 0.0       0.394356   \n7     7.726036            0.0                 0.0       0.394356   \n8     7.726036            0.0                 0.0       0.394356   \n9     8.726036            0.0                 0.0       0.394356   \n\n   dlvry_day_cos  dlvry_weekday_sin  dlvry_weekday_cos  dlvry_hour_sin  \\\n0       0.979530          -0.781831            0.62349       -0.500000   \n1       0.979530          -0.781831            0.62349       -0.500000   \n2       0.979530          -0.781831            0.62349       -0.500000   \n3       0.979530          -0.781831            0.62349       -0.500000   \n4       0.979530          -0.781831            0.62349       -0.500000   \n5       0.918958           0.000000            1.00000        0.258819   \n6       0.918958           0.000000            1.00000        0.258819   \n7       0.918958           0.000000            1.00000        0.500000   \n8       0.918958           0.000000            1.00000        0.500000   \n9       0.918958           0.000000            1.00000        0.707107   \n\n   dlvry_hour_cos  lasttrade_weekend  lasttrade_bank_holiday  \\\n0        0.866025                1.0                     0.0   \n1        0.866025                1.0                     0.0   \n2        0.866025                1.0                     0.0   \n3        0.866025                1.0                     0.0   \n4        0.866025                1.0                     0.0   \n5        0.965926                1.0                     0.0   \n6        0.965926                1.0                     0.0   \n7        0.866025                1.0                     0.0   \n8        0.866025                1.0                     0.0   \n9        0.707107                1.0                     0.0   \n\n   lasttrade_day_sin  lasttrade_day_cos  lasttrade_weekday_sin  \\\n0           0.201299            0.97953              -0.781831   \n1           0.201299            0.97953              -0.781831   \n2           0.201299            0.97953              -0.781831   \n3           0.201299            0.97953              -0.781831   \n4           0.201299            0.97953              -0.781831   \n5           0.201299            0.97953              -0.781831   \n6           0.201299            0.97953              -0.781831   \n7           0.201299            0.97953              -0.781831   \n8           0.201299            0.97953              -0.781831   \n9           0.201299            0.97953              -0.781831   \n\n   lasttrade_weekday_cos  lasttrade_hour_sin  lasttrade_hour_cos     0     1  \\\n0                0.62349           -0.707107       -7.071068e-01  0.03  0.80   \n1                0.62349           -0.866025       -5.000000e-01 -9.51 -1.98   \n2                0.62349           -0.965926       -2.588190e-01  5.48  2.58   \n3                0.62349           -1.000000       -1.836970e-16  4.41 -0.21   \n4                0.62349           -0.965926        2.588190e-01 -0.31 -0.20   \n5                0.62349           -0.707107        7.071068e-01  0.00  2.99   \n6                0.62349           -0.500000        8.660254e-01  1.77 -1.20   \n7                0.62349           -0.500000        8.660254e-01 -0.21 -1.00   \n8                0.62349           -0.258819        9.659258e-01 -1.69  0.07   \n9                0.62349           -0.500000        8.660254e-01 -0.60 -1.21   \n\n      2     3      4      5     6     7     8     9     10     11    12    13  \\\n0 -1.17 -1.18   92.2  600.0 -9.51 -1.98 -8.31 -2.83  176.6  540.0  5.48  2.58   \n1 -8.31 -2.83  176.6  540.0  5.48  2.58  5.39  5.41  187.7  480.0  4.41 -0.21   \n2  5.39  5.41  187.7  480.0  4.41 -0.21  1.30 -1.31  -18.2  420.0 -0.31 -0.20   \n3  1.30 -1.31  -18.2  420.0 -0.31 -0.20 -0.66 -3.18  -78.3  360.0 -3.49 -2.59   \n4 -0.66 -3.18  -78.3  360.0 -3.49 -2.59 -7.97 -3.21  796.3  300.0 -2.90 -1.69   \n5  0.00  0.00   20.0  420.0  1.77 -1.20  0.00  0.50   40.6  360.0 -1.59 -1.09   \n6  0.00  0.50   40.6  360.0 -1.59 -1.09 -2.65 -2.21  555.0  300.0 -1.90  1.10   \n7  1.26  1.26   23.1  420.0 -1.69  0.07 -0.86 -0.36  328.4  360.0 -1.39  0.63   \n8 -0.86 -0.36  328.4  360.0 -1.39  0.63 -0.70  2.23  -86.4  300.0  3.02 -0.40   \n9 -3.48 -4.60   13.0  480.0 -4.08 -1.60 -3.20 -3.20  175.2  420.0 -0.01  5.01   \n\n     14    15     16     17    18    19    20    21     22     23  \n0  5.39  5.41  187.7  480.0  4.41 -0.21  1.30 -1.31  -18.2  420.0  \n1  1.30 -1.31  -18.2  420.0 -0.31 -0.20 -0.66 -3.18  -78.3  360.0  \n2 -0.66 -3.18  -78.3  360.0 -3.49 -2.59 -7.97 -3.21  796.3  300.0  \n3 -7.97 -3.21  796.3  300.0 -2.90 -1.69  2.44 -0.01 -355.6  240.0  \n4  2.44 -0.01 -355.6  240.0 -0.70 -1.11 -1.11 -2.69   53.3  180.0  \n5 -2.65 -2.21  555.0  300.0 -1.90  1.10  0.38  1.61 -332.7  240.0  \n6  0.38  1.61 -332.7  240.0  1.94 -1.58 -2.42 -2.26  421.6  180.0  \n7 -0.70  2.23  -86.4  300.0  3.02 -0.40 -1.93 -2.61  377.2  240.0  \n8 -1.93 -2.61  377.2  240.0 -2.61 -1.70  0.23  0.49  104.2  180.0  \n9  1.99  7.16  108.5  360.0  5.08 -2.93 -0.99 -3.26  121.3  300.0  ",
      "text/html": "<div>\n<style scoped>\n    .dataframe tbody tr th:only-of-type {\n        vertical-align: middle;\n    }\n\n    .dataframe tbody tr th {\n        vertical-align: top;\n    }\n\n    .dataframe thead th {\n        text-align: right;\n    }\n</style>\n<table border=\"1\" class=\"dataframe\">\n  <thead>\n    <tr style=\"text-align: right;\">\n      <th></th>\n      <th>total_hours</th>\n      <th>dlvry_weekend</th>\n      <th>dlvry_bank_holiday</th>\n      <th>dlvry_day_sin</th>\n      <th>dlvry_day_cos</th>\n      <th>dlvry_weekday_sin</th>\n      <th>dlvry_weekday_cos</th>\n      <th>dlvry_hour_sin</th>\n      <th>dlvry_hour_cos</th>\n      <th>lasttrade_weekend</th>\n      <th>lasttrade_bank_holiday</th>\n      <th>lasttrade_day_sin</th>\n      <th>lasttrade_day_cos</th>\n      <th>lasttrade_weekday_sin</th>\n      <th>lasttrade_weekday_cos</th>\n      <th>lasttrade_hour_sin</th>\n      <th>lasttrade_hour_cos</th>\n      <th>0</th>\n      <th>1</th>\n      <th>2</th>\n      <th>3</th>\n      <th>4</th>\n      <th>5</th>\n      <th>6</th>\n      <th>7</th>\n      <th>8</th>\n      <th>9</th>\n      <th>10</th>\n      <th>11</th>\n      <th>12</th>\n      <th>13</th>\n      <th>14</th>\n      <th>15</th>\n      <th>16</th>\n      <th>17</th>\n      <th>18</th>\n      <th>19</th>\n      <th>20</th>\n      <th>21</th>\n      <th>22</th>\n      <th>23</th>\n    </tr>\n  </thead>\n  <tbody>\n    <tr>\n      <th>0</th>\n      <td>10.001383</td>\n      <td>1.0</td>\n      <td>0.0</td>\n      <td>0.201299</td>\n      <td>0.979530</td>\n      <td>-0.781831</td>\n      <td>0.62349</td>\n      <td>-0.500000</td>\n      <td>0.866025</td>\n      <td>1.0</td>\n      <td>0.0</td>\n      <td>0.201299</td>\n      <td>0.97953</td>\n      <td>-0.781831</td>\n      <td>0.62349</td>\n      <td>-0.707107</td>\n      <td>-7.071068e-01</td>\n      <td>0.03</td>\n      <td>0.80</td>\n      <td>-1.17</td>\n      <td>-1.18</td>\n      <td>92.2</td>\n      <td>600.0</td>\n      <td>-9.51</td>\n      <td>-1.98</td>\n      <td>-8.31</td>\n      <td>-2.83</td>\n      <td>176.6</td>\n      <td>540.0</td>\n      <td>5.48</td>\n      <td>2.58</td>\n      <td>5.39</td>\n      <td>5.41</td>\n      <td>187.7</td>\n      <td>480.0</td>\n      <td>4.41</td>\n      <td>-0.21</td>\n      <td>1.30</td>\n      <td>-1.31</td>\n      <td>-18.2</td>\n      <td>420.0</td>\n    </tr>\n    <tr>\n      <th>1</th>\n      <td>10.001383</td>\n      <td>1.0</td>\n      <td>0.0</td>\n      <td>0.201299</td>\n      <td>0.979530</td>\n      <td>-0.781831</td>\n      <td>0.62349</td>\n      <td>-0.500000</td>\n      <td>0.866025</td>\n      <td>1.0</td>\n      <td>0.0</td>\n      <td>0.201299</td>\n      <td>0.97953</td>\n      <td>-0.781831</td>\n      <td>0.62349</td>\n      <td>-0.866025</td>\n      <td>-5.000000e-01</td>\n      <td>-9.51</td>\n      <td>-1.98</td>\n      <td>-8.31</td>\n      <td>-2.83</td>\n      <td>176.6</td>\n      <td>540.0</td>\n      <td>5.48</td>\n      <td>2.58</td>\n      <td>5.39</td>\n      <td>5.41</td>\n      <td>187.7</td>\n      <td>480.0</td>\n      <td>4.41</td>\n      <td>-0.21</td>\n      <td>1.30</td>\n      <td>-1.31</td>\n      <td>-18.2</td>\n      <td>420.0</td>\n      <td>-0.31</td>\n      <td>-0.20</td>\n      <td>-0.66</td>\n      <td>-3.18</td>\n      <td>-78.3</td>\n      <td>360.0</td>\n    </tr>\n    <tr>\n      <th>2</th>\n      <td>10.001383</td>\n      <td>1.0</td>\n      <td>0.0</td>\n      <td>0.201299</td>\n      <td>0.979530</td>\n      <td>-0.781831</td>\n      <td>0.62349</td>\n      <td>-0.500000</td>\n      <td>0.866025</td>\n      <td>1.0</td>\n      <td>0.0</td>\n      <td>0.201299</td>\n      <td>0.97953</td>\n      <td>-0.781831</td>\n      <td>0.62349</td>\n      <td>-0.965926</td>\n      <td>-2.588190e-01</td>\n      <td>5.48</td>\n      <td>2.58</td>\n      <td>5.39</td>\n      <td>5.41</td>\n      <td>187.7</td>\n      <td>480.0</td>\n      <td>4.41</td>\n      <td>-0.21</td>\n      <td>1.30</td>\n      <td>-1.31</td>\n      <td>-18.2</td>\n      <td>420.0</td>\n      <td>-0.31</td>\n      <td>-0.20</td>\n      <td>-0.66</td>\n      <td>-3.18</td>\n      <td>-78.3</td>\n      <td>360.0</td>\n      <td>-3.49</td>\n      <td>-2.59</td>\n      <td>-7.97</td>\n      <td>-3.21</td>\n      <td>796.3</td>\n      <td>300.0</td>\n    </tr>\n    <tr>\n      <th>3</th>\n      <td>10.001383</td>\n      <td>1.0</td>\n      <td>0.0</td>\n      <td>0.201299</td>\n      <td>0.979530</td>\n      <td>-0.781831</td>\n      <td>0.62349</td>\n      <td>-0.500000</td>\n      <td>0.866025</td>\n      <td>1.0</td>\n      <td>0.0</td>\n      <td>0.201299</td>\n      <td>0.97953</td>\n      <td>-0.781831</td>\n      <td>0.62349</td>\n      <td>-1.000000</td>\n      <td>-1.836970e-16</td>\n      <td>4.41</td>\n      <td>-0.21</td>\n      <td>1.30</td>\n      <td>-1.31</td>\n      <td>-18.2</td>\n      <td>420.0</td>\n      <td>-0.31</td>\n      <td>-0.20</td>\n      <td>-0.66</td>\n      <td>-3.18</td>\n      <td>-78.3</td>\n      <td>360.0</td>\n      <td>-3.49</td>\n      <td>-2.59</td>\n      <td>-7.97</td>\n      <td>-3.21</td>\n      <td>796.3</td>\n      <td>300.0</td>\n      <td>-2.90</td>\n      <td>-1.69</td>\n      <td>2.44</td>\n      <td>-0.01</td>\n      <td>-355.6</td>\n      <td>240.0</td>\n    </tr>\n    <tr>\n      <th>4</th>\n      <td>10.001383</td>\n      <td>1.0</td>\n      <td>0.0</td>\n      <td>0.201299</td>\n      <td>0.979530</td>\n      <td>-0.781831</td>\n      <td>0.62349</td>\n      <td>-0.500000</td>\n      <td>0.866025</td>\n      <td>1.0</td>\n      <td>0.0</td>\n      <td>0.201299</td>\n      <td>0.97953</td>\n      <td>-0.781831</td>\n      <td>0.62349</td>\n      <td>-0.965926</td>\n      <td>2.588190e-01</td>\n      <td>-0.31</td>\n      <td>-0.20</td>\n      <td>-0.66</td>\n      <td>-3.18</td>\n      <td>-78.3</td>\n      <td>360.0</td>\n      <td>-3.49</td>\n      <td>-2.59</td>\n      <td>-7.97</td>\n      <td>-3.21</td>\n      <td>796.3</td>\n      <td>300.0</td>\n      <td>-2.90</td>\n      <td>-1.69</td>\n      <td>2.44</td>\n      <td>-0.01</td>\n      <td>-355.6</td>\n      <td>240.0</td>\n      <td>-0.70</td>\n      <td>-1.11</td>\n      <td>-1.11</td>\n      <td>-2.69</td>\n      <td>53.3</td>\n      <td>180.0</td>\n    </tr>\n    <tr>\n      <th>5</th>\n      <td>7.080482</td>\n      <td>0.0</td>\n      <td>0.0</td>\n      <td>0.394356</td>\n      <td>0.918958</td>\n      <td>0.000000</td>\n      <td>1.00000</td>\n      <td>0.258819</td>\n      <td>0.965926</td>\n      <td>1.0</td>\n      <td>0.0</td>\n      <td>0.201299</td>\n      <td>0.97953</td>\n      <td>-0.781831</td>\n      <td>0.62349</td>\n      <td>-0.707107</td>\n      <td>7.071068e-01</td>\n      <td>0.00</td>\n      <td>2.99</td>\n      <td>0.00</td>\n      <td>0.00</td>\n      <td>20.0</td>\n      <td>420.0</td>\n      <td>1.77</td>\n      <td>-1.20</td>\n      <td>0.00</td>\n      <td>0.50</td>\n      <td>40.6</td>\n      <td>360.0</td>\n      <td>-1.59</td>\n      <td>-1.09</td>\n      <td>-2.65</td>\n      <td>-2.21</td>\n      <td>555.0</td>\n      <td>300.0</td>\n      <td>-1.90</td>\n      <td>1.10</td>\n      <td>0.38</td>\n      <td>1.61</td>\n      <td>-332.7</td>\n      <td>240.0</td>\n    </tr>\n    <tr>\n      <th>6</th>\n      <td>7.080482</td>\n      <td>0.0</td>\n      <td>0.0</td>\n      <td>0.394356</td>\n      <td>0.918958</td>\n      <td>0.000000</td>\n      <td>1.00000</td>\n      <td>0.258819</td>\n      <td>0.965926</td>\n      <td>1.0</td>\n      <td>0.0</td>\n      <td>0.201299</td>\n      <td>0.97953</td>\n      <td>-0.781831</td>\n      <td>0.62349</td>\n      <td>-0.500000</td>\n      <td>8.660254e-01</td>\n      <td>1.77</td>\n      <td>-1.20</td>\n      <td>0.00</td>\n      <td>0.50</td>\n      <td>40.6</td>\n      <td>360.0</td>\n      <td>-1.59</td>\n      <td>-1.09</td>\n      <td>-2.65</td>\n      <td>-2.21</td>\n      <td>555.0</td>\n      <td>300.0</td>\n      <td>-1.90</td>\n      <td>1.10</td>\n      <td>0.38</td>\n      <td>1.61</td>\n      <td>-332.7</td>\n      <td>240.0</td>\n      <td>1.94</td>\n      <td>-1.58</td>\n      <td>-2.42</td>\n      <td>-2.26</td>\n      <td>421.6</td>\n      <td>180.0</td>\n    </tr>\n    <tr>\n      <th>7</th>\n      <td>7.726036</td>\n      <td>0.0</td>\n      <td>0.0</td>\n      <td>0.394356</td>\n      <td>0.918958</td>\n      <td>0.000000</td>\n      <td>1.00000</td>\n      <td>0.500000</td>\n      <td>0.866025</td>\n      <td>1.0</td>\n      <td>0.0</td>\n      <td>0.201299</td>\n      <td>0.97953</td>\n      <td>-0.781831</td>\n      <td>0.62349</td>\n      <td>-0.500000</td>\n      <td>8.660254e-01</td>\n      <td>-0.21</td>\n      <td>-1.00</td>\n      <td>1.26</td>\n      <td>1.26</td>\n      <td>23.1</td>\n      <td>420.0</td>\n      <td>-1.69</td>\n      <td>0.07</td>\n      <td>-0.86</td>\n      <td>-0.36</td>\n      <td>328.4</td>\n      <td>360.0</td>\n      <td>-1.39</td>\n      <td>0.63</td>\n      <td>-0.70</td>\n      <td>2.23</td>\n      <td>-86.4</td>\n      <td>300.0</td>\n      <td>3.02</td>\n      <td>-0.40</td>\n      <td>-1.93</td>\n      <td>-2.61</td>\n      <td>377.2</td>\n      <td>240.0</td>\n    </tr>\n    <tr>\n      <th>8</th>\n      <td>7.726036</td>\n      <td>0.0</td>\n      <td>0.0</td>\n      <td>0.394356</td>\n      <td>0.918958</td>\n      <td>0.000000</td>\n      <td>1.00000</td>\n      <td>0.500000</td>\n      <td>0.866025</td>\n      <td>1.0</td>\n      <td>0.0</td>\n      <td>0.201299</td>\n      <td>0.97953</td>\n      <td>-0.781831</td>\n      <td>0.62349</td>\n      <td>-0.258819</td>\n      <td>9.659258e-01</td>\n      <td>-1.69</td>\n      <td>0.07</td>\n      <td>-0.86</td>\n      <td>-0.36</td>\n      <td>328.4</td>\n      <td>360.0</td>\n      <td>-1.39</td>\n      <td>0.63</td>\n      <td>-0.70</td>\n      <td>2.23</td>\n      <td>-86.4</td>\n      <td>300.0</td>\n      <td>3.02</td>\n      <td>-0.40</td>\n      <td>-1.93</td>\n      <td>-2.61</td>\n      <td>377.2</td>\n      <td>240.0</td>\n      <td>-2.61</td>\n      <td>-1.70</td>\n      <td>0.23</td>\n      <td>0.49</td>\n      <td>104.2</td>\n      <td>180.0</td>\n    </tr>\n    <tr>\n      <th>9</th>\n      <td>8.726036</td>\n      <td>0.0</td>\n      <td>0.0</td>\n      <td>0.394356</td>\n      <td>0.918958</td>\n      <td>0.000000</td>\n      <td>1.00000</td>\n      <td>0.707107</td>\n      <td>0.707107</td>\n      <td>1.0</td>\n      <td>0.0</td>\n      <td>0.201299</td>\n      <td>0.97953</td>\n      <td>-0.781831</td>\n      <td>0.62349</td>\n      <td>-0.500000</td>\n      <td>8.660254e-01</td>\n      <td>-0.60</td>\n      <td>-1.21</td>\n      <td>-3.48</td>\n      <td>-4.60</td>\n      <td>13.0</td>\n      <td>480.0</td>\n      <td>-4.08</td>\n      <td>-1.60</td>\n      <td>-3.20</td>\n      <td>-3.20</td>\n      <td>175.2</td>\n      <td>420.0</td>\n      <td>-0.01</td>\n      <td>5.01</td>\n      <td>1.99</td>\n      <td>7.16</td>\n      <td>108.5</td>\n      <td>360.0</td>\n      <td>5.08</td>\n      <td>-2.93</td>\n      <td>-0.99</td>\n      <td>-3.26</td>\n      <td>121.3</td>\n      <td>300.0</td>\n    </tr>\n  </tbody>\n</table>\n</div>"
     },
     "metadata": {}
    },
    {
     "output_type": "stream",
     "name": "stdout",
     "text": [
      "Target data:\n"
     ]
    },
    {
     "output_type": "display_data",
     "data": {
      "text/plain": "      y\n0 -3.18\n1 -3.21\n2 -0.01\n3 -2.69\n4  2.41",
      "text/html": "<div>\n<style scoped>\n    .dataframe tbody tr th:only-of-type {\n        vertical-align: middle;\n    }\n\n    .dataframe tbody tr th {\n        vertical-align: top;\n    }\n\n    .dataframe thead th {\n        text-align: right;\n    }\n</style>\n<table border=\"1\" class=\"dataframe\">\n  <thead>\n    <tr style=\"text-align: right;\">\n      <th></th>\n      <th>y</th>\n    </tr>\n  </thead>\n  <tbody>\n    <tr>\n      <th>0</th>\n      <td>-3.18</td>\n    </tr>\n    <tr>\n      <th>1</th>\n      <td>-3.21</td>\n    </tr>\n    <tr>\n      <th>2</th>\n      <td>-0.01</td>\n    </tr>\n    <tr>\n      <th>3</th>\n      <td>-2.69</td>\n    </tr>\n    <tr>\n      <th>4</th>\n      <td>2.41</td>\n    </tr>\n  </tbody>\n</table>\n</div>"
     },
     "metadata": {}
    }
   ],
   "source": [
    "# Load the data using the pandas library\n",
    "# For the below demonstration, only the\n",
    "#    * window_size of 5 files\n",
    "#    * and only the training sets will be loaded here\n",
    "# The validation and test sets can be similarly loaded.\n",
    "# One can also use a similar kind of method for loading as was used for the download\n",
    "# This can avoid the many lines of manual specification of the files. Manual is also fine, btw.\n",
    "\n",
    "import pandas as pd\n",
    "pd.set_option('display.max_columns', None)\n",
    "\n",
    "X_train_5 = pd.read_csv('X_train_window_size_5_time_encoding_True.csv')\n",
    "y_train_5 = pd.read_csv('y_train_window_size_5_time_encoding_True.csv')\n",
    "\n",
    "# Display the first 5 rows of the predictor and the target data; for a description of the content, \n",
    "# see the text below this cell\n",
    "print(\"Predictor data:\")\n",
    "display(X_train_5.head(10))\n",
    "print(\"Target data:\")\n",
    "display(y_train_5.head())"
   ]
  },
  {
   "cell_type": "markdown",
   "metadata": {
    "id": "5CdrrhQ4DvBb"
   },
   "source": [
    "**The content of the dataframe is the following:**<br>\n",
    "\n",
    "Content of the dataframes:\n",
    "* \"y\" - Target data\n",
    "   * y: the Close price in t minus Close price in t-1 Target data\n",
    "* \"X\" - Predictor data: various time-encoded data and the differentiated candels:\n",
    "   * **<font color=red>total_hours: hours from the first trade we know for a given contract until delivery start of the same contract</font>**\n",
    "   * dlvry_weekend: whether the electricity is to be delivered on a weekend\n",
    "   * dlvry_bank_holiday: whether the electricity is to be delivered on a bank holiday\n",
    "   * dlvry_day_sin and dlvry_day_cos: the sinus-cosinus-encoded value of the day of the delivery day (identifies a day of the week in a circular fashion)\n",
    "   * dlvry_hour_sin\tand dlvry_hour_cos: the sinus-cosinus-encoded value of the delivery hour (idenitifies the hour of the delivery in a circular fashion)\n",
    "   * lasttrade_...: similar to the delivery time encoding, but for the most recent trading hour used as a candel\n",
    "   * the numbered columns: window_size - 1 number of differentiated candels with an additional time information: the number of minutes left until delivery start. Example for window_size of 5 follows. Column 0: **<font color=red>Open</font>** in t-3 minus Open in t-4; Column 1: **<font color=red>High</font>** in t-3 minus High in t-4; Column 2: similar for **<font color=red>Low</font>**; Column 3: similar for **<font color=red>Close</font>**; Column 4: similar for **<font color=red>Volume</font>**; Column 5: **<font color=red>minutes left until the delivery start in candel for t-3</font>**; Column 6: Open in t-2 minus Open in t-3; ...; Column 23: minutes left until the delivery start in candel for t"
   ]
  },
  {
   "cell_type": "code",
   "execution_count": 11,
   "metadata": {},
   "outputs": [
    {
     "output_type": "execute_result",
     "data": {
      "text/plain": [
       "count    91512.000000\n",
       "mean       789.619066\n",
       "std        325.538011\n",
       "min        360.000000\n",
       "25%        540.000000\n",
       "50%        720.000000\n",
       "75%       1020.000000\n",
       "max       1860.000000\n",
       "Name: 5, dtype: float64"
      ]
     },
     "metadata": {},
     "execution_count": 11
    }
   ],
   "source": [
    "X_train_5['5'].describe()"
   ]
  },
  {
   "cell_type": "code",
   "execution_count": 12,
   "metadata": {
    "colab": {
     "base_uri": "https://localhost:8080/",
     "height": 269
    },
    "id": "Nu84FHLwT7a7",
    "outputId": "cbe1afe1-3a3c-4292-9bf4-c27b1c6aa53c"
   },
   "outputs": [
    {
     "output_type": "display_data",
     "data": {
      "text/plain": "<Figure size 432x288 with 1 Axes>",
      "image/svg+xml": "<?xml version=\"1.0\" encoding=\"utf-8\" standalone=\"no\"?>\n<!DOCTYPE svg PUBLIC \"-//W3C//DTD SVG 1.1//EN\"\n  \"http://www.w3.org/Graphics/SVG/1.1/DTD/svg11.dtd\">\n<!-- Created with matplotlib (https://matplotlib.org/) -->\n<svg height=\"249.685623pt\" version=\"1.1\" viewBox=\"0 0 373.8 249.685623\" width=\"373.8pt\" xmlns=\"http://www.w3.org/2000/svg\" xmlns:xlink=\"http://www.w3.org/1999/xlink\">\n <metadata>\n  <rdf:RDF xmlns:cc=\"http://creativecommons.org/ns#\" xmlns:dc=\"http://purl.org/dc/elements/1.1/\" xmlns:rdf=\"http://www.w3.org/1999/02/22-rdf-syntax-ns#\">\n   <cc:Work>\n    <dc:type rdf:resource=\"http://purl.org/dc/dcmitype/StillImage\"/>\n    <dc:date>2021-10-15T10:06:35.694000</dc:date>\n    <dc:format>image/svg+xml</dc:format>\n    <dc:creator>\n     <cc:Agent>\n      <dc:title>Matplotlib v3.3.2, https://matplotlib.org/</dc:title>\n     </cc:Agent>\n    </dc:creator>\n   </cc:Work>\n  </rdf:RDF>\n </metadata>\n <defs>\n  <style type=\"text/css\">*{stroke-linecap:butt;stroke-linejoin:round;}</style>\n </defs>\n <g id=\"figure_1\">\n  <g id=\"patch_1\">\n   <path d=\"M 0 249.685623 \nL 373.8 249.685623 \nL 373.8 0 \nL 0 0 \nz\n\" style=\"fill:none;\"/>\n  </g>\n  <g id=\"axes_1\">\n   <g id=\"patch_2\">\n    <path d=\"M 31.8 225.807498 \nL 366.6 225.807498 \nL 366.6 8.367498 \nL 31.8 8.367498 \nz\n\" style=\"fill:#ffffff;\"/>\n   </g>\n   <g id=\"patch_3\">\n    <path clip-path=\"url(#p1dea78a599)\" d=\"M 47.018182 225.807498 \nL 62.236364 225.807498 \nL 62.236364 184.727888 \nL 47.018182 184.727888 \nz\n\" style=\"fill:#1f77b4;\"/>\n   </g>\n   <g id=\"patch_4\">\n    <path clip-path=\"url(#p1dea78a599)\" d=\"M 62.236364 225.807498 \nL 77.454545 225.807498 \nL 77.454545 205.267693 \nL 62.236364 205.267693 \nz\n\" style=\"fill:#1f77b4;\"/>\n   </g>\n   <g id=\"patch_5\">\n    <path clip-path=\"url(#p1dea78a599)\" d=\"M 77.454545 225.807498 \nL 92.672727 225.807498 \nL 92.672727 153.48322 \nL 77.454545 153.48322 \nz\n\" style=\"fill:#1f77b4;\"/>\n   </g>\n   <g id=\"patch_6\">\n    <path clip-path=\"url(#p1dea78a599)\" d=\"M 92.672727 225.807498 \nL 107.890909 225.807498 \nL 107.890909 130.386145 \nL 92.672727 130.386145 \nz\n\" style=\"fill:#1f77b4;\"/>\n   </g>\n   <g id=\"patch_7\">\n    <path clip-path=\"url(#p1dea78a599)\" d=\"M 107.890909 225.807498 \nL 123.109091 225.807498 \nL 123.109091 100.950266 \nL 107.890909 100.950266 \nz\n\" style=\"fill:#1f77b4;\"/>\n   </g>\n   <g id=\"patch_8\">\n    <path clip-path=\"url(#p1dea78a599)\" d=\"M 123.109091 225.807498 \nL 138.327273 225.807498 \nL 138.327273 31.043897 \nL 123.109091 31.043897 \nz\n\" style=\"fill:#1f77b4;\"/>\n   </g>\n   <g id=\"patch_9\">\n    <path clip-path=\"url(#p1dea78a599)\" d=\"M 138.327273 225.807498 \nL 153.545455 225.807498 \nL 153.545455 18.721784 \nL 138.327273 18.721784 \nz\n\" style=\"fill:#1f77b4;\"/>\n   </g>\n   <g id=\"patch_10\">\n    <path clip-path=\"url(#p1dea78a599)\" d=\"M 153.545455 225.807498 \nL 168.763636 225.807498 \nL 168.763636 97.692617 \nL 153.545455 97.692617 \nz\n\" style=\"fill:#1f77b4;\"/>\n   </g>\n   <g id=\"patch_11\">\n    <path clip-path=\"url(#p1dea78a599)\" d=\"M 168.763636 225.807498 \nL 183.981818 225.807498 \nL 183.981818 130.386145 \nL 168.763636 130.386145 \nz\n\" style=\"fill:#1f77b4;\"/>\n   </g>\n   <g id=\"patch_12\">\n    <path clip-path=\"url(#p1dea78a599)\" d=\"M 183.981818 225.807498 \nL 199.2 225.807498 \nL 199.2 152.37543 \nL 183.981818 152.37543 \nz\n\" style=\"fill:#1f77b4;\"/>\n   </g>\n   <g id=\"patch_13\">\n    <path clip-path=\"url(#p1dea78a599)\" d=\"M 199.2 225.807498 \nL 214.418182 225.807498 \nL 214.418182 155.958353 \nL 199.2 155.958353 \nz\n\" style=\"fill:#1f77b4;\"/>\n   </g>\n   <g id=\"patch_14\">\n    <path clip-path=\"url(#p1dea78a599)\" d=\"M 214.418182 225.807498 \nL 229.636364 225.807498 \nL 229.636364 167.087929 \nL 214.418182 167.087929 \nz\n\" style=\"fill:#1f77b4;\"/>\n   </g>\n   <g id=\"patch_15\">\n    <path clip-path=\"url(#p1dea78a599)\" d=\"M 229.636364 225.807498 \nL 244.854545 225.807498 \nL 244.854545 178.217504 \nL 229.636364 178.217504 \nz\n\" style=\"fill:#1f77b4;\"/>\n   </g>\n   <g id=\"patch_16\">\n    <path clip-path=\"url(#p1dea78a599)\" d=\"M 244.854545 225.807498 \nL 260.072727 225.807498 \nL 260.072727 225.807498 \nL 244.854545 225.807498 \nz\n\" style=\"fill:#1f77b4;\"/>\n   </g>\n   <g id=\"patch_17\">\n    <path clip-path=\"url(#p1dea78a599)\" d=\"M 260.072727 225.807498 \nL 275.290909 225.807498 \nL 275.290909 225.807498 \nL 260.072727 225.807498 \nz\n\" style=\"fill:#1f77b4;\"/>\n   </g>\n   <g id=\"patch_18\">\n    <path clip-path=\"url(#p1dea78a599)\" d=\"M 275.290909 225.807498 \nL 290.509091 225.807498 \nL 290.509091 205.267693 \nL 275.290909 205.267693 \nz\n\" style=\"fill:#1f77b4;\"/>\n   </g>\n   <g id=\"patch_19\">\n    <path clip-path=\"url(#p1dea78a599)\" d=\"M 290.509091 225.807498 \nL 305.727273 225.807498 \nL 305.727273 184.727888 \nL 290.509091 184.727888 \nz\n\" style=\"fill:#1f77b4;\"/>\n   </g>\n   <g id=\"patch_20\">\n    <path clip-path=\"url(#p1dea78a599)\" d=\"M 305.727273 225.807498 \nL 320.945455 225.807498 \nL 320.945455 225.807498 \nL 305.727273 225.807498 \nz\n\" style=\"fill:#1f77b4;\"/>\n   </g>\n   <g id=\"patch_21\">\n    <path clip-path=\"url(#p1dea78a599)\" d=\"M 320.945455 225.807498 \nL 336.163636 225.807498 \nL 336.163636 225.807498 \nL 320.945455 225.807498 \nz\n\" style=\"fill:#1f77b4;\"/>\n   </g>\n   <g id=\"patch_22\">\n    <path clip-path=\"url(#p1dea78a599)\" d=\"M 336.163636 225.807498 \nL 351.381818 225.807498 \nL 351.381818 205.267693 \nL 336.163636 205.267693 \nz\n\" style=\"fill:#1f77b4;\"/>\n   </g>\n   <g id=\"matplotlib.axis_1\">\n    <g id=\"xtick_1\">\n     <g id=\"line2d_1\">\n      <path clip-path=\"url(#p1dea78a599)\" d=\"M 77.066861 225.807498 \nL 77.066861 8.367498 \n\" style=\"fill:none;stroke:#b0b0b0;stroke-linecap:square;stroke-width:0.8;\"/>\n     </g>\n     <g id=\"line2d_2\">\n      <defs>\n       <path d=\"M 0 0 \nL 0 3.5 \n\" id=\"md91b795286\" style=\"stroke:#000000;stroke-width:0.8;\"/>\n      </defs>\n      <g>\n       <use style=\"stroke:#000000;stroke-width:0.8;\" x=\"77.066861\" xlink:href=\"#md91b795286\" y=\"225.807498\"/>\n      </g>\n     </g>\n     <g id=\"text_1\">\n      <!-- −50 -->\n      <g transform=\"translate(66.514517 240.405936)scale(0.1 -0.1)\">\n       <defs>\n        <path d=\"M 10.59375 35.5 \nL 73.1875 35.5 \nL 73.1875 27.203125 \nL 10.59375 27.203125 \nz\n\" id=\"DejaVuSans-8722\"/>\n        <path d=\"M 10.796875 72.90625 \nL 49.515625 72.90625 \nL 49.515625 64.59375 \nL 19.828125 64.59375 \nL 19.828125 46.734375 \nQ 21.96875 47.46875 24.109375 47.828125 \nQ 26.265625 48.1875 28.421875 48.1875 \nQ 40.625 48.1875 47.75 41.5 \nQ 54.890625 34.8125 54.890625 23.390625 \nQ 54.890625 11.625 47.5625 5.09375 \nQ 40.234375 -1.421875 26.90625 -1.421875 \nQ 22.3125 -1.421875 17.546875 -0.640625 \nQ 12.796875 0.140625 7.71875 1.703125 \nL 7.71875 11.625 \nQ 12.109375 9.234375 16.796875 8.0625 \nQ 21.484375 6.890625 26.703125 6.890625 \nQ 35.15625 6.890625 40.078125 11.328125 \nQ 45.015625 15.765625 45.015625 23.390625 \nQ 45.015625 31 40.078125 35.4375 \nQ 35.15625 39.890625 26.703125 39.890625 \nQ 22.75 39.890625 18.8125 39.015625 \nQ 14.890625 38.140625 10.796875 36.28125 \nz\n\" id=\"DejaVuSans-53\"/>\n        <path d=\"M 31.78125 66.40625 \nQ 24.171875 66.40625 20.328125 58.90625 \nQ 16.5 51.421875 16.5 36.375 \nQ 16.5 21.390625 20.328125 13.890625 \nQ 24.171875 6.390625 31.78125 6.390625 \nQ 39.453125 6.390625 43.28125 13.890625 \nQ 47.125 21.390625 47.125 36.375 \nQ 47.125 51.421875 43.28125 58.90625 \nQ 39.453125 66.40625 31.78125 66.40625 \nz\nM 31.78125 74.21875 \nQ 44.046875 74.21875 50.515625 64.515625 \nQ 56.984375 54.828125 56.984375 36.375 \nQ 56.984375 17.96875 50.515625 8.265625 \nQ 44.046875 -1.421875 31.78125 -1.421875 \nQ 19.53125 -1.421875 13.0625 8.265625 \nQ 6.59375 17.96875 6.59375 36.375 \nQ 6.59375 54.828125 13.0625 64.515625 \nQ 19.53125 74.21875 31.78125 74.21875 \nz\n\" id=\"DejaVuSans-48\"/>\n       </defs>\n       <use xlink:href=\"#DejaVuSans-8722\"/>\n       <use x=\"83.789062\" xlink:href=\"#DejaVuSans-53\"/>\n       <use x=\"147.412109\" xlink:href=\"#DejaVuSans-48\"/>\n      </g>\n     </g>\n    </g>\n    <g id=\"xtick_2\">\n     <g id=\"line2d_3\">\n      <path clip-path=\"url(#p1dea78a599)\" d=\"M 138.997361 225.807498 \nL 138.997361 8.367498 \n\" style=\"fill:none;stroke:#b0b0b0;stroke-linecap:square;stroke-width:0.8;\"/>\n     </g>\n     <g id=\"line2d_4\">\n      <g>\n       <use style=\"stroke:#000000;stroke-width:0.8;\" x=\"138.997361\" xlink:href=\"#md91b795286\" y=\"225.807498\"/>\n      </g>\n     </g>\n     <g id=\"text_2\">\n      <!-- 0 -->\n      <g transform=\"translate(135.816111 240.405936)scale(0.1 -0.1)\">\n       <use xlink:href=\"#DejaVuSans-48\"/>\n      </g>\n     </g>\n    </g>\n    <g id=\"xtick_3\">\n     <g id=\"line2d_5\">\n      <path clip-path=\"url(#p1dea78a599)\" d=\"M 200.927861 225.807498 \nL 200.927861 8.367498 \n\" style=\"fill:none;stroke:#b0b0b0;stroke-linecap:square;stroke-width:0.8;\"/>\n     </g>\n     <g id=\"line2d_6\">\n      <g>\n       <use style=\"stroke:#000000;stroke-width:0.8;\" x=\"200.927861\" xlink:href=\"#md91b795286\" y=\"225.807498\"/>\n      </g>\n     </g>\n     <g id=\"text_3\">\n      <!-- 50 -->\n      <g transform=\"translate(194.565361 240.405936)scale(0.1 -0.1)\">\n       <use xlink:href=\"#DejaVuSans-53\"/>\n       <use x=\"63.623047\" xlink:href=\"#DejaVuSans-48\"/>\n      </g>\n     </g>\n    </g>\n    <g id=\"xtick_4\">\n     <g id=\"line2d_7\">\n      <path clip-path=\"url(#p1dea78a599)\" d=\"M 262.858361 225.807498 \nL 262.858361 8.367498 \n\" style=\"fill:none;stroke:#b0b0b0;stroke-linecap:square;stroke-width:0.8;\"/>\n     </g>\n     <g id=\"line2d_8\">\n      <g>\n       <use style=\"stroke:#000000;stroke-width:0.8;\" x=\"262.858361\" xlink:href=\"#md91b795286\" y=\"225.807498\"/>\n      </g>\n     </g>\n     <g id=\"text_4\">\n      <!-- 100 -->\n      <g transform=\"translate(253.314611 240.405936)scale(0.1 -0.1)\">\n       <defs>\n        <path d=\"M 12.40625 8.296875 \nL 28.515625 8.296875 \nL 28.515625 63.921875 \nL 10.984375 60.40625 \nL 10.984375 69.390625 \nL 28.421875 72.90625 \nL 38.28125 72.90625 \nL 38.28125 8.296875 \nL 54.390625 8.296875 \nL 54.390625 0 \nL 12.40625 0 \nz\n\" id=\"DejaVuSans-49\"/>\n       </defs>\n       <use xlink:href=\"#DejaVuSans-49\"/>\n       <use x=\"63.623047\" xlink:href=\"#DejaVuSans-48\"/>\n       <use x=\"127.246094\" xlink:href=\"#DejaVuSans-48\"/>\n      </g>\n     </g>\n    </g>\n    <g id=\"xtick_5\">\n     <g id=\"line2d_9\">\n      <path clip-path=\"url(#p1dea78a599)\" d=\"M 324.788861 225.807498 \nL 324.788861 8.367498 \n\" style=\"fill:none;stroke:#b0b0b0;stroke-linecap:square;stroke-width:0.8;\"/>\n     </g>\n     <g id=\"line2d_10\">\n      <g>\n       <use style=\"stroke:#000000;stroke-width:0.8;\" x=\"324.788861\" xlink:href=\"#md91b795286\" y=\"225.807498\"/>\n      </g>\n     </g>\n     <g id=\"text_5\">\n      <!-- 150 -->\n      <g transform=\"translate(315.245111 240.405936)scale(0.1 -0.1)\">\n       <use xlink:href=\"#DejaVuSans-49\"/>\n       <use x=\"63.623047\" xlink:href=\"#DejaVuSans-53\"/>\n       <use x=\"127.246094\" xlink:href=\"#DejaVuSans-48\"/>\n      </g>\n     </g>\n    </g>\n   </g>\n   <g id=\"matplotlib.axis_2\">\n    <g id=\"ytick_1\">\n     <g id=\"line2d_11\">\n      <path clip-path=\"url(#p1dea78a599)\" d=\"M 31.8 225.807498 \nL 366.6 225.807498 \n\" style=\"fill:none;stroke:#b0b0b0;stroke-linecap:square;stroke-width:0.8;\"/>\n     </g>\n     <g id=\"line2d_12\">\n      <defs>\n       <path d=\"M 0 0 \nL -3.5 0 \n\" id=\"m0eb6ecfcdc\" style=\"stroke:#000000;stroke-width:0.8;\"/>\n      </defs>\n      <g>\n       <use style=\"stroke:#000000;stroke-width:0.8;\" x=\"31.8\" xlink:href=\"#m0eb6ecfcdc\" y=\"225.807498\"/>\n      </g>\n     </g>\n     <g id=\"text_6\">\n      <!-- $\\mathdefault{0}$ -->\n      <g transform=\"translate(18.4 229.606717)scale(0.1 -0.1)\">\n       <use transform=\"translate(0 0.78125)\" xlink:href=\"#DejaVuSans-48\"/>\n      </g>\n     </g>\n    </g>\n    <g id=\"ytick_2\">\n     <g id=\"line2d_13\">\n      <path clip-path=\"url(#p1dea78a599)\" d=\"M 31.8 205.267693 \nL 366.6 205.267693 \n\" style=\"fill:none;stroke:#b0b0b0;stroke-linecap:square;stroke-width:0.8;\"/>\n     </g>\n     <g id=\"line2d_14\">\n      <g>\n       <use style=\"stroke:#000000;stroke-width:0.8;\" x=\"31.8\" xlink:href=\"#m0eb6ecfcdc\" y=\"205.267693\"/>\n      </g>\n     </g>\n     <g id=\"text_7\">\n      <!-- $\\mathdefault{10^{0}}$ -->\n      <g transform=\"translate(7.2 209.066912)scale(0.1 -0.1)\">\n       <use transform=\"translate(0 0.765625)\" xlink:href=\"#DejaVuSans-49\"/>\n       <use transform=\"translate(63.623047 0.765625)\" xlink:href=\"#DejaVuSans-48\"/>\n       <use transform=\"translate(128.203125 39.046875)scale(0.7)\" xlink:href=\"#DejaVuSans-48\"/>\n      </g>\n     </g>\n    </g>\n    <g id=\"ytick_3\">\n     <g id=\"line2d_15\">\n      <path clip-path=\"url(#p1dea78a599)\" d=\"M 31.8 158.885814 \nL 366.6 158.885814 \n\" style=\"fill:none;stroke:#b0b0b0;stroke-linecap:square;stroke-width:0.8;\"/>\n     </g>\n     <g id=\"line2d_16\">\n      <g>\n       <use style=\"stroke:#000000;stroke-width:0.8;\" x=\"31.8\" xlink:href=\"#m0eb6ecfcdc\" y=\"158.885814\"/>\n      </g>\n     </g>\n     <g id=\"text_8\">\n      <!-- $\\mathdefault{10^{1}}$ -->\n      <g transform=\"translate(7.2 162.685033)scale(0.1 -0.1)\">\n       <use transform=\"translate(0 0.684375)\" xlink:href=\"#DejaVuSans-49\"/>\n       <use transform=\"translate(63.623047 0.684375)\" xlink:href=\"#DejaVuSans-48\"/>\n       <use transform=\"translate(128.203125 38.965625)scale(0.7)\" xlink:href=\"#DejaVuSans-49\"/>\n      </g>\n     </g>\n    </g>\n    <g id=\"ytick_4\">\n     <g id=\"line2d_17\">\n      <path clip-path=\"url(#p1dea78a599)\" d=\"M 31.8 121.914166 \nL 366.6 121.914166 \n\" style=\"fill:none;stroke:#b0b0b0;stroke-linecap:square;stroke-width:0.8;\"/>\n     </g>\n     <g id=\"line2d_18\">\n      <g>\n       <use style=\"stroke:#000000;stroke-width:0.8;\" x=\"31.8\" xlink:href=\"#m0eb6ecfcdc\" y=\"121.914166\"/>\n      </g>\n     </g>\n     <g id=\"text_9\">\n      <!-- $\\mathdefault{10^{2}}$ -->\n      <g transform=\"translate(7.2 125.713384)scale(0.1 -0.1)\">\n       <defs>\n        <path d=\"M 19.1875 8.296875 \nL 53.609375 8.296875 \nL 53.609375 0 \nL 7.328125 0 \nL 7.328125 8.296875 \nQ 12.9375 14.109375 22.625 23.890625 \nQ 32.328125 33.6875 34.8125 36.53125 \nQ 39.546875 41.84375 41.421875 45.53125 \nQ 43.3125 49.21875 43.3125 52.78125 \nQ 43.3125 58.59375 39.234375 62.25 \nQ 35.15625 65.921875 28.609375 65.921875 \nQ 23.96875 65.921875 18.8125 64.3125 \nQ 13.671875 62.703125 7.8125 59.421875 \nL 7.8125 69.390625 \nQ 13.765625 71.78125 18.9375 73 \nQ 24.125 74.21875 28.421875 74.21875 \nQ 39.75 74.21875 46.484375 68.546875 \nQ 53.21875 62.890625 53.21875 53.421875 \nQ 53.21875 48.921875 51.53125 44.890625 \nQ 49.859375 40.875 45.40625 35.40625 \nQ 44.1875 33.984375 37.640625 27.21875 \nQ 31.109375 20.453125 19.1875 8.296875 \nz\n\" id=\"DejaVuSans-50\"/>\n       </defs>\n       <use transform=\"translate(0 0.765625)\" xlink:href=\"#DejaVuSans-49\"/>\n       <use transform=\"translate(63.623047 0.765625)\" xlink:href=\"#DejaVuSans-48\"/>\n       <use transform=\"translate(128.203125 39.046875)scale(0.7)\" xlink:href=\"#DejaVuSans-50\"/>\n      </g>\n     </g>\n    </g>\n    <g id=\"ytick_5\">\n     <g id=\"line2d_19\">\n      <path clip-path=\"url(#p1dea78a599)\" d=\"M 31.8 84.942517 \nL 366.6 84.942517 \n\" style=\"fill:none;stroke:#b0b0b0;stroke-linecap:square;stroke-width:0.8;\"/>\n     </g>\n     <g id=\"line2d_20\">\n      <g>\n       <use style=\"stroke:#000000;stroke-width:0.8;\" x=\"31.8\" xlink:href=\"#m0eb6ecfcdc\" y=\"84.942517\"/>\n      </g>\n     </g>\n     <g id=\"text_10\">\n      <!-- $\\mathdefault{10^{3}}$ -->\n      <g transform=\"translate(7.2 88.741735)scale(0.1 -0.1)\">\n       <defs>\n        <path d=\"M 40.578125 39.3125 \nQ 47.65625 37.796875 51.625 33 \nQ 55.609375 28.21875 55.609375 21.1875 \nQ 55.609375 10.40625 48.1875 4.484375 \nQ 40.765625 -1.421875 27.09375 -1.421875 \nQ 22.515625 -1.421875 17.65625 -0.515625 \nQ 12.796875 0.390625 7.625 2.203125 \nL 7.625 11.71875 \nQ 11.71875 9.328125 16.59375 8.109375 \nQ 21.484375 6.890625 26.8125 6.890625 \nQ 36.078125 6.890625 40.9375 10.546875 \nQ 45.796875 14.203125 45.796875 21.1875 \nQ 45.796875 27.640625 41.28125 31.265625 \nQ 36.765625 34.90625 28.71875 34.90625 \nL 20.21875 34.90625 \nL 20.21875 43.015625 \nL 29.109375 43.015625 \nQ 36.375 43.015625 40.234375 45.921875 \nQ 44.09375 48.828125 44.09375 54.296875 \nQ 44.09375 59.90625 40.109375 62.90625 \nQ 36.140625 65.921875 28.71875 65.921875 \nQ 24.65625 65.921875 20.015625 65.03125 \nQ 15.375 64.15625 9.8125 62.3125 \nL 9.8125 71.09375 \nQ 15.4375 72.65625 20.34375 73.4375 \nQ 25.25 74.21875 29.59375 74.21875 \nQ 40.828125 74.21875 47.359375 69.109375 \nQ 53.90625 64.015625 53.90625 55.328125 \nQ 53.90625 49.265625 50.4375 45.09375 \nQ 46.96875 40.921875 40.578125 39.3125 \nz\n\" id=\"DejaVuSans-51\"/>\n       </defs>\n       <use transform=\"translate(0 0.765625)\" xlink:href=\"#DejaVuSans-49\"/>\n       <use transform=\"translate(63.623047 0.765625)\" xlink:href=\"#DejaVuSans-48\"/>\n       <use transform=\"translate(128.203125 39.046875)scale(0.7)\" xlink:href=\"#DejaVuSans-51\"/>\n      </g>\n     </g>\n    </g>\n    <g id=\"ytick_6\">\n     <g id=\"line2d_21\">\n      <path clip-path=\"url(#p1dea78a599)\" d=\"M 31.8 47.970868 \nL 366.6 47.970868 \n\" style=\"fill:none;stroke:#b0b0b0;stroke-linecap:square;stroke-width:0.8;\"/>\n     </g>\n     <g id=\"line2d_22\">\n      <g>\n       <use style=\"stroke:#000000;stroke-width:0.8;\" x=\"31.8\" xlink:href=\"#m0eb6ecfcdc\" y=\"47.970868\"/>\n      </g>\n     </g>\n     <g id=\"text_11\">\n      <!-- $\\mathdefault{10^{4}}$ -->\n      <g transform=\"translate(7.2 51.770086)scale(0.1 -0.1)\">\n       <defs>\n        <path d=\"M 37.796875 64.3125 \nL 12.890625 25.390625 \nL 37.796875 25.390625 \nz\nM 35.203125 72.90625 \nL 47.609375 72.90625 \nL 47.609375 25.390625 \nL 58.015625 25.390625 \nL 58.015625 17.1875 \nL 47.609375 17.1875 \nL 47.609375 0 \nL 37.796875 0 \nL 37.796875 17.1875 \nL 4.890625 17.1875 \nL 4.890625 26.703125 \nz\n\" id=\"DejaVuSans-52\"/>\n       </defs>\n       <use transform=\"translate(0 0.684375)\" xlink:href=\"#DejaVuSans-49\"/>\n       <use transform=\"translate(63.623047 0.684375)\" xlink:href=\"#DejaVuSans-48\"/>\n       <use transform=\"translate(128.203125 38.965625)scale(0.7)\" xlink:href=\"#DejaVuSans-52\"/>\n      </g>\n     </g>\n    </g>\n    <g id=\"ytick_7\">\n     <g id=\"line2d_23\">\n      <path clip-path=\"url(#p1dea78a599)\" d=\"M 31.8 10.999219 \nL 366.6 10.999219 \n\" style=\"fill:none;stroke:#b0b0b0;stroke-linecap:square;stroke-width:0.8;\"/>\n     </g>\n     <g id=\"line2d_24\">\n      <g>\n       <use style=\"stroke:#000000;stroke-width:0.8;\" x=\"31.8\" xlink:href=\"#m0eb6ecfcdc\" y=\"10.999219\"/>\n      </g>\n     </g>\n     <g id=\"text_12\">\n      <!-- $\\mathdefault{10^{5}}$ -->\n      <g transform=\"translate(7.2 14.798437)scale(0.1 -0.1)\">\n       <use transform=\"translate(0 0.684375)\" xlink:href=\"#DejaVuSans-49\"/>\n       <use transform=\"translate(63.623047 0.684375)\" xlink:href=\"#DejaVuSans-48\"/>\n       <use transform=\"translate(128.203125 38.965625)scale(0.7)\" xlink:href=\"#DejaVuSans-53\"/>\n      </g>\n     </g>\n    </g>\n   </g>\n   <g id=\"patch_23\">\n    <path d=\"M 31.8 225.807498 \nL 31.8 8.367498 \n\" style=\"fill:none;stroke:#000000;stroke-linecap:square;stroke-linejoin:miter;stroke-width:0.8;\"/>\n   </g>\n   <g id=\"patch_24\">\n    <path d=\"M 366.6 225.807498 \nL 366.6 8.367498 \n\" style=\"fill:none;stroke:#000000;stroke-linecap:square;stroke-linejoin:miter;stroke-width:0.8;\"/>\n   </g>\n   <g id=\"patch_25\">\n    <path d=\"M 31.8 225.807498 \nL 366.6 225.807498 \n\" style=\"fill:none;stroke:#000000;stroke-linecap:square;stroke-linejoin:miter;stroke-width:0.8;\"/>\n   </g>\n   <g id=\"patch_26\">\n    <path d=\"M 31.8 8.367498 \nL 366.6 8.367498 \n\" style=\"fill:none;stroke:#000000;stroke-linecap:square;stroke-linejoin:miter;stroke-width:0.8;\"/>\n   </g>\n  </g>\n </g>\n <defs>\n  <clipPath id=\"p1dea78a599\">\n   <rect height=\"217.44\" width=\"334.8\" x=\"31.8\" y=\"8.367498\"/>\n  </clipPath>\n </defs>\n</svg>\n",
      "image/png": "[encoded data removed]"
     },
     "metadata": {
      "needs_background": "light"
     }
    }
   ],
   "source": [
    "# Plot various aspect of the data to get familiar with it\n",
    "import matplotlib.pyplot as plt\n",
    "y_train_5[\"y\"].hist(bins = 20)\n",
    "plt.yscale(\"symlog\")\n",
    "plt.show()"
   ]
  },
  {
   "cell_type": "markdown",
   "metadata": {},
   "source": [
    "### Data Exploration"
   ]
  },
  {
   "cell_type": "code",
   "execution_count": 13,
   "metadata": {},
   "outputs": [
    {
     "output_type": "execute_result",
     "data": {
      "text/plain": [
       "    total_hours  hours_int      5\n",
       "0     10.001383         10  600.0\n",
       "1     10.001383         10  540.0\n",
       "2     10.001383         10  480.0\n",
       "3     10.001383         10  420.0\n",
       "4     10.001383         10  360.0\n",
       "5      7.080482          7  420.0\n",
       "6      7.080482          7  360.0\n",
       "7      7.726036          7  420.0\n",
       "8      7.726036          7  360.0\n",
       "9      8.726036          8  480.0\n",
       "10     8.726036          8  420.0\n",
       "11     8.726036          8  360.0\n",
       "12     9.587423          9  540.0\n",
       "13     9.587423          9  480.0\n",
       "14     9.587423          9  420.0"
      ],
      "text/html": "<div>\n<style scoped>\n    .dataframe tbody tr th:only-of-type {\n        vertical-align: middle;\n    }\n\n    .dataframe tbody tr th {\n        vertical-align: top;\n    }\n\n    .dataframe thead th {\n        text-align: right;\n    }\n</style>\n<table border=\"1\" class=\"dataframe\">\n  <thead>\n    <tr style=\"text-align: right;\">\n      <th></th>\n      <th>total_hours</th>\n      <th>hours_int</th>\n      <th>5</th>\n    </tr>\n  </thead>\n  <tbody>\n    <tr>\n      <th>0</th>\n      <td>10.001383</td>\n      <td>10</td>\n      <td>600.0</td>\n    </tr>\n    <tr>\n      <th>1</th>\n      <td>10.001383</td>\n      <td>10</td>\n      <td>540.0</td>\n    </tr>\n    <tr>\n      <th>2</th>\n      <td>10.001383</td>\n      <td>10</td>\n      <td>480.0</td>\n    </tr>\n    <tr>\n      <th>3</th>\n      <td>10.001383</td>\n      <td>10</td>\n      <td>420.0</td>\n    </tr>\n    <tr>\n      <th>4</th>\n      <td>10.001383</td>\n      <td>10</td>\n      <td>360.0</td>\n    </tr>\n    <tr>\n      <th>5</th>\n      <td>7.080482</td>\n      <td>7</td>\n      <td>420.0</td>\n    </tr>\n    <tr>\n      <th>6</th>\n      <td>7.080482</td>\n      <td>7</td>\n      <td>360.0</td>\n    </tr>\n    <tr>\n      <th>7</th>\n      <td>7.726036</td>\n      <td>7</td>\n      <td>420.0</td>\n    </tr>\n    <tr>\n      <th>8</th>\n      <td>7.726036</td>\n      <td>7</td>\n      <td>360.0</td>\n    </tr>\n    <tr>\n      <th>9</th>\n      <td>8.726036</td>\n      <td>8</td>\n      <td>480.0</td>\n    </tr>\n    <tr>\n      <th>10</th>\n      <td>8.726036</td>\n      <td>8</td>\n      <td>420.0</td>\n    </tr>\n    <tr>\n      <th>11</th>\n      <td>8.726036</td>\n      <td>8</td>\n      <td>360.0</td>\n    </tr>\n    <tr>\n      <th>12</th>\n      <td>9.587423</td>\n      <td>9</td>\n      <td>540.0</td>\n    </tr>\n    <tr>\n      <th>13</th>\n      <td>9.587423</td>\n      <td>9</td>\n      <td>480.0</td>\n    </tr>\n    <tr>\n      <th>14</th>\n      <td>9.587423</td>\n      <td>9</td>\n      <td>420.0</td>\n    </tr>\n  </tbody>\n</table>\n</div>"
     },
     "metadata": {},
     "execution_count": 13
    }
   ],
   "source": [
    "import math\n",
    "\n",
    "df = X_train_5.copy()\n",
    "df['hours_int'] = df.apply(lambda row: math.floor(row.total_hours), axis=1)\n",
    "df[['total_hours', 'hours_int', '5']].head(15)"
   ]
  },
  {
   "cell_type": "markdown",
   "metadata": {},
   "source": [
    "### Confirm relationship between `total_hours` and column `5` of the first record of every contract (i.e., the highest number of minutes left until the delivery start)"
   ]
  },
  {
   "cell_type": "code",
   "execution_count": 7,
   "metadata": {},
   "outputs": [
    {
     "output_type": "stream",
     "name": "stdout",
     "text": [
      "Number of contracts is 7830.\n"
     ]
    }
   ],
   "source": [
    "# It is reasonable to assume that after the unrolling was done,\n",
    "# all relevant rows of the same contract are located next to\n",
    "# each other. Using two conditions we should be able to identify the\n",
    "# next contract has occurred: (1) The total_hours value has changed, and;\n",
    "# (2) The opening price difference is different (if it's the record of the\n",
    "# same contract, last row's column 6 should be the same as this current\n",
    "# row's column 0 due to the unrolling).\n",
    "count = 1\n",
    "hour = df.iloc[0,:]['total_hours']\n",
    "\n",
    "for i in range(1, len(df)):\n",
    "    if df.iloc[i,:]['total_hours']==hour and df.iloc[i,:]['0']==df.iloc[i-1,:]['6']:\n",
    "        continue\n",
    "    else:\n",
    "        hour = df.iloc[i,:]['total_hours']\n",
    "        subset = df.loc[df.total_hours==hour]\n",
    "        longest_min = subset['5'].max()\n",
    "        if (df.iloc[i,:]['hours_int']*60) != longest_min:\n",
    "            print(f'Mismatch in row {i}!')\n",
    "        count += 1\n",
    "        \n",
    "print(f'Number of contracts is {count}.')"
   ]
  },
  {
   "source": [
    "#### Note: no \"mismatch\" statement has been printed, i.e., the assumption is correct.\n",
    "#### It also indicates that simply using the unique values (which is 7780 as printed below) of `total_hours` is not reliable."
   ],
   "cell_type": "markdown",
   "metadata": {}
  },
  {
   "cell_type": "code",
   "execution_count": 8,
   "metadata": {},
   "outputs": [
    {
     "output_type": "stream",
     "name": "stdout",
     "text": [
      "Number of unique values in the total_hours column is 7780.\n"
     ]
    }
   ],
   "source": [
    "print(f'Number of unique values in the total_hours column is {len(df.total_hours.unique())}')"
   ]
  },
  {
   "source": [
    "### For datasets with window size of 15:"
   ],
   "cell_type": "markdown",
   "metadata": {}
  },
  {
   "cell_type": "code",
   "execution_count": 16,
   "metadata": {},
   "outputs": [],
   "source": [
    "X_train_15 = pd.read_csv('X_train_window_size_15_time_encoding_True.csv')\n",
    "y_train_15 = pd.read_csv('y_train_window_size_15_time_encoding_True.csv')"
   ]
  },
  {
   "cell_type": "code",
   "execution_count": 17,
   "metadata": {},
   "outputs": [
    {
     "output_type": "display_data",
     "data": {
      "text/plain": "(29888, 101)"
     },
     "metadata": {}
    },
    {
     "output_type": "execute_result",
     "data": {
      "text/plain": [
       "   total_hours  dlvry_weekend  dlvry_bank_holiday  dlvry_day_sin  \\\n",
       "0    16.367966            0.0                 0.0       0.394356   \n",
       "1    17.549852            0.0                 0.0       0.394356   \n",
       "2    17.549852            0.0                 0.0       0.394356   \n",
       "3    19.078845            0.0                 0.0       0.394356   \n",
       "4    19.078845            0.0                 0.0       0.394356   \n",
       "\n",
       "   dlvry_day_cos  dlvry_weekday_sin  dlvry_weekday_cos  dlvry_hour_sin  \\\n",
       "0       0.918958                0.0                1.0    2.588190e-01   \n",
       "1       0.918958                0.0                1.0    1.224647e-16   \n",
       "2       0.918958                0.0                1.0    1.224647e-16   \n",
       "3       0.918958                0.0                1.0   -2.588190e-01   \n",
       "4       0.918958                0.0                1.0   -2.588190e-01   \n",
       "\n",
       "   dlvry_hour_cos  lasttrade_weekend  lasttrade_bank_holiday  \\\n",
       "0       -0.965926                0.0                     0.0   \n",
       "1       -1.000000                0.0                     0.0   \n",
       "2       -1.000000                0.0                     0.0   \n",
       "3       -0.965926                0.0                     0.0   \n",
       "4       -0.965926                0.0                     0.0   \n",
       "\n",
       "   lasttrade_day_sin  lasttrade_day_cos  lasttrade_weekday_sin  \\\n",
       "0           0.394356           0.918958                    0.0   \n",
       "1           0.394356           0.918958                    0.0   \n",
       "2           0.394356           0.918958                    0.0   \n",
       "3           0.394356           0.918958                    0.0   \n",
       "4           0.394356           0.918958                    0.0   \n",
       "\n",
       "   lasttrade_weekday_cos  lasttrade_hour_sin  lasttrade_hour_cos     0     1  \\\n",
       "0                    1.0            0.866025           -0.500000  1.90  0.00   \n",
       "1                    1.0            0.866025           -0.500000 -2.90  2.00   \n",
       "2                    1.0            0.707107           -0.707107  3.50  0.00   \n",
       "3                    1.0            0.965926           -0.258819  2.59  5.69   \n",
       "4                    1.0            0.866025           -0.500000  3.69  0.59   \n",
       "\n",
       "      2     3     4       5     6     7     8     9   10      11    12    13  \\\n",
       "0  1.30 -1.80  -0.8   960.0 -0.60 -0.90 -0.71 -0.71  6.4   900.0 -1.20 -1.20   \n",
       "1 -2.90 -1.40   1.0  1020.0  3.50  0.00  0.50 -2.20  5.1   960.0 -3.80 -5.30   \n",
       "2  0.50 -2.20   5.1   960.0 -3.80 -5.30 -1.10  0.20 -9.7   900.0  1.00 -0.30   \n",
       "3  2.59  5.69  10.7  1140.0  3.69  0.59  1.00 -2.10  8.7  1080.0 -0.30 -0.30   \n",
       "4  1.00 -2.10   8.7  1080.0 -0.30 -0.30 -1.30 -1.30  1.2  1020.0 -3.59 -3.19   \n",
       "\n",
       "     14    15    16      17    18    19    20    21    22     23    24    25  \\\n",
       "0 -0.04  0.41  -3.6   840.0  0.00  0.00  0.45  0.00 -10.2  780.0 -0.01 -0.01   \n",
       "1 -1.10  0.20  -9.7   900.0  1.00 -0.30  0.96 -0.44  -8.2  840.0 -0.12  0.24   \n",
       "2  0.96 -0.44  -8.2   840.0 -0.12  0.24 -0.02  0.58  50.4  780.0  0.60  0.24   \n",
       "3 -1.30 -1.30   1.2  1020.0 -3.59 -3.19  0.00  0.50  65.9  960.0  0.40  0.00   \n",
       "4  0.00  0.50  65.9   960.0  0.40  0.00  0.50  0.00 -90.5  900.0 -1.00 -1.00   \n",
       "\n",
       "     26    27    28     29    30    31    32    33    34     35    36    37  \\\n",
       "0 -0.27 -0.27   4.3  720.0  0.06  0.06  0.32  0.32  -3.9  660.0 -0.13  0.15   \n",
       "1 -0.02  0.58  50.4  780.0  0.60  0.24  0.84  0.24 -48.3  720.0  0.00  0.61   \n",
       "2  0.84  0.24 -48.3  720.0  0.00  0.61 -0.01  0.61  84.3  660.0  0.81  0.35   \n",
       "3  0.50  0.00 -90.5  900.0 -1.00 -1.00 -1.00 -1.00   5.1  840.0  0.49  0.49   \n",
       "4 -1.00 -1.00   5.1  840.0  0.49  0.49  0.49  0.49  -0.4  780.0 -0.02 -0.01   \n",
       "\n",
       "     38    39    40     41    42    43    44    45    46     47    48    49  \\\n",
       "0 -0.13  0.13  87.4  600.0  0.97  0.73 -0.19  0.43  46.3  540.0 -0.27  0.17   \n",
       "1 -0.01  0.61  84.3  660.0  0.81  0.35 -0.02  0.13  -1.4  600.0  0.20  0.05   \n",
       "2 -0.02  0.13  -1.4  600.0  0.20  0.05  0.35 -0.42  15.0  540.0 -0.16  0.11   \n",
       "3  0.49  0.49  -0.4  780.0 -0.02 -0.01 -0.03 -0.03  -0.3  720.0 -0.01 -0.02   \n",
       "4 -0.03 -0.03  -0.3  720.0 -0.01 -0.02  0.00  0.00  -4.4  660.0  0.03  0.03   \n",
       "\n",
       "     50    51     52     53    54    55    56    57     58     59    60    61  \\\n",
       "0  0.44 -0.44  -13.1  480.0  0.05  0.00 -0.08  0.34  176.7  420.0 -0.56 -0.01   \n",
       "1  0.35 -0.42   15.0  540.0 -0.16  0.11 -0.10 -0.10  340.6  480.0 -0.73 -0.50   \n",
       "2 -0.10 -0.10  340.6  480.0 -0.73 -0.50 -1.30 -1.30 -169.8  420.0 -1.20 -0.50   \n",
       "3  0.00  0.00   -4.4  660.0  0.03  0.03 -0.77 -0.77   62.7  600.0 -0.62  1.71   \n",
       "4 -0.77 -0.77   62.7  600.0 -0.62  1.71 -0.52  1.80  141.3  540.0  1.08 -0.99   \n",
       "\n",
       "     62    63     64     65    66    67    68    69     70     71    72    73  \\\n",
       "0 -1.87 -1.31   46.7  360.0 -0.42 -1.40 -2.61 -2.40  502.4  300.0 -2.89 -1.80   \n",
       "1 -1.30 -1.30 -169.8  420.0 -1.20 -0.50 -3.45 -1.81  263.3  360.0 -1.81 -2.66   \n",
       "2 -3.45 -1.81  263.3  360.0 -1.81 -2.66 -0.50 -0.99  188.3  300.0 -1.00  0.66   \n",
       "3 -0.52  1.80  141.3  540.0  1.08 -0.99 -0.13 -0.53   14.4  480.0 -0.94 -1.01   \n",
       "4 -0.13 -0.53   14.4  480.0 -0.94 -1.01 -2.84 -3.71   18.8  420.0 -2.51 -2.50   \n",
       "\n",
       "     74    75     76     77    78    79    80    81      82     83  \n",
       "0  0.19  0.48 -202.3  240.0  0.47  0.65  0.40 -0.28   890.7  180.0  \n",
       "1 -0.50 -0.99  188.3  300.0 -1.00  0.66  0.66 -0.49   107.5  240.0  \n",
       "2  0.66 -0.49  107.5  240.0 -0.38  6.03 -2.01 -0.53  1169.5  180.0  \n",
       "3 -2.84 -3.71   18.8  420.0 -2.51 -2.50  0.30  0.45   321.4  360.0  \n",
       "4  0.30  0.45  321.4  360.0 -0.06  1.40  0.93  0.30   -79.6  300.0  "
      ],
      "text/html": "<div>\n<style scoped>\n    .dataframe tbody tr th:only-of-type {\n        vertical-align: middle;\n    }\n\n    .dataframe tbody tr th {\n        vertical-align: top;\n    }\n\n    .dataframe thead th {\n        text-align: right;\n    }\n</style>\n<table border=\"1\" class=\"dataframe\">\n  <thead>\n    <tr style=\"text-align: right;\">\n      <th></th>\n      <th>total_hours</th>\n      <th>dlvry_weekend</th>\n      <th>dlvry_bank_holiday</th>\n      <th>dlvry_day_sin</th>\n      <th>dlvry_day_cos</th>\n      <th>dlvry_weekday_sin</th>\n      <th>dlvry_weekday_cos</th>\n      <th>dlvry_hour_sin</th>\n      <th>dlvry_hour_cos</th>\n      <th>lasttrade_weekend</th>\n      <th>lasttrade_bank_holiday</th>\n      <th>lasttrade_day_sin</th>\n      <th>lasttrade_day_cos</th>\n      <th>lasttrade_weekday_sin</th>\n      <th>lasttrade_weekday_cos</th>\n      <th>lasttrade_hour_sin</th>\n      <th>lasttrade_hour_cos</th>\n      <th>0</th>\n      <th>1</th>\n      <th>2</th>\n      <th>3</th>\n      <th>4</th>\n      <th>5</th>\n      <th>6</th>\n      <th>7</th>\n      <th>8</th>\n      <th>9</th>\n      <th>10</th>\n      <th>11</th>\n      <th>12</th>\n      <th>13</th>\n      <th>14</th>\n      <th>15</th>\n      <th>16</th>\n      <th>17</th>\n      <th>18</th>\n      <th>19</th>\n      <th>20</th>\n      <th>21</th>\n      <th>22</th>\n      <th>23</th>\n      <th>24</th>\n      <th>25</th>\n      <th>26</th>\n      <th>27</th>\n      <th>28</th>\n      <th>29</th>\n      <th>30</th>\n      <th>31</th>\n      <th>32</th>\n      <th>33</th>\n      <th>34</th>\n      <th>35</th>\n      <th>36</th>\n      <th>37</th>\n      <th>38</th>\n      <th>39</th>\n      <th>40</th>\n      <th>41</th>\n      <th>42</th>\n      <th>43</th>\n      <th>44</th>\n      <th>45</th>\n      <th>46</th>\n      <th>47</th>\n      <th>48</th>\n      <th>49</th>\n      <th>50</th>\n      <th>51</th>\n      <th>52</th>\n      <th>53</th>\n      <th>54</th>\n      <th>55</th>\n      <th>56</th>\n      <th>57</th>\n      <th>58</th>\n      <th>59</th>\n      <th>60</th>\n      <th>61</th>\n      <th>62</th>\n      <th>63</th>\n      <th>64</th>\n      <th>65</th>\n      <th>66</th>\n      <th>67</th>\n      <th>68</th>\n      <th>69</th>\n      <th>70</th>\n      <th>71</th>\n      <th>72</th>\n      <th>73</th>\n      <th>74</th>\n      <th>75</th>\n      <th>76</th>\n      <th>77</th>\n      <th>78</th>\n      <th>79</th>\n      <th>80</th>\n      <th>81</th>\n      <th>82</th>\n      <th>83</th>\n    </tr>\n  </thead>\n  <tbody>\n    <tr>\n      <th>0</th>\n      <td>16.367966</td>\n      <td>0.0</td>\n      <td>0.0</td>\n      <td>0.394356</td>\n      <td>0.918958</td>\n      <td>0.0</td>\n      <td>1.0</td>\n      <td>2.588190e-01</td>\n      <td>-0.965926</td>\n      <td>0.0</td>\n      <td>0.0</td>\n      <td>0.394356</td>\n      <td>0.918958</td>\n      <td>0.0</td>\n      <td>1.0</td>\n      <td>0.866025</td>\n      <td>-0.500000</td>\n      <td>1.90</td>\n      <td>0.00</td>\n      <td>1.30</td>\n      <td>-1.80</td>\n      <td>-0.8</td>\n      <td>960.0</td>\n      <td>-0.60</td>\n      <td>-0.90</td>\n      <td>-0.71</td>\n      <td>-0.71</td>\n      <td>6.4</td>\n      <td>900.0</td>\n      <td>-1.20</td>\n      <td>-1.20</td>\n      <td>-0.04</td>\n      <td>0.41</td>\n      <td>-3.6</td>\n      <td>840.0</td>\n      <td>0.00</td>\n      <td>0.00</td>\n      <td>0.45</td>\n      <td>0.00</td>\n      <td>-10.2</td>\n      <td>780.0</td>\n      <td>-0.01</td>\n      <td>-0.01</td>\n      <td>-0.27</td>\n      <td>-0.27</td>\n      <td>4.3</td>\n      <td>720.0</td>\n      <td>0.06</td>\n      <td>0.06</td>\n      <td>0.32</td>\n      <td>0.32</td>\n      <td>-3.9</td>\n      <td>660.0</td>\n      <td>-0.13</td>\n      <td>0.15</td>\n      <td>-0.13</td>\n      <td>0.13</td>\n      <td>87.4</td>\n      <td>600.0</td>\n      <td>0.97</td>\n      <td>0.73</td>\n      <td>-0.19</td>\n      <td>0.43</td>\n      <td>46.3</td>\n      <td>540.0</td>\n      <td>-0.27</td>\n      <td>0.17</td>\n      <td>0.44</td>\n      <td>-0.44</td>\n      <td>-13.1</td>\n      <td>480.0</td>\n      <td>0.05</td>\n      <td>0.00</td>\n      <td>-0.08</td>\n      <td>0.34</td>\n      <td>176.7</td>\n      <td>420.0</td>\n      <td>-0.56</td>\n      <td>-0.01</td>\n      <td>-1.87</td>\n      <td>-1.31</td>\n      <td>46.7</td>\n      <td>360.0</td>\n      <td>-0.42</td>\n      <td>-1.40</td>\n      <td>-2.61</td>\n      <td>-2.40</td>\n      <td>502.4</td>\n      <td>300.0</td>\n      <td>-2.89</td>\n      <td>-1.80</td>\n      <td>0.19</td>\n      <td>0.48</td>\n      <td>-202.3</td>\n      <td>240.0</td>\n      <td>0.47</td>\n      <td>0.65</td>\n      <td>0.40</td>\n      <td>-0.28</td>\n      <td>890.7</td>\n      <td>180.0</td>\n    </tr>\n    <tr>\n      <th>1</th>\n      <td>17.549852</td>\n      <td>0.0</td>\n      <td>0.0</td>\n      <td>0.394356</td>\n      <td>0.918958</td>\n      <td>0.0</td>\n      <td>1.0</td>\n      <td>1.224647e-16</td>\n      <td>-1.000000</td>\n      <td>0.0</td>\n      <td>0.0</td>\n      <td>0.394356</td>\n      <td>0.918958</td>\n      <td>0.0</td>\n      <td>1.0</td>\n      <td>0.866025</td>\n      <td>-0.500000</td>\n      <td>-2.90</td>\n      <td>2.00</td>\n      <td>-2.90</td>\n      <td>-1.40</td>\n      <td>1.0</td>\n      <td>1020.0</td>\n      <td>3.50</td>\n      <td>0.00</td>\n      <td>0.50</td>\n      <td>-2.20</td>\n      <td>5.1</td>\n      <td>960.0</td>\n      <td>-3.80</td>\n      <td>-5.30</td>\n      <td>-1.10</td>\n      <td>0.20</td>\n      <td>-9.7</td>\n      <td>900.0</td>\n      <td>1.00</td>\n      <td>-0.30</td>\n      <td>0.96</td>\n      <td>-0.44</td>\n      <td>-8.2</td>\n      <td>840.0</td>\n      <td>-0.12</td>\n      <td>0.24</td>\n      <td>-0.02</td>\n      <td>0.58</td>\n      <td>50.4</td>\n      <td>780.0</td>\n      <td>0.60</td>\n      <td>0.24</td>\n      <td>0.84</td>\n      <td>0.24</td>\n      <td>-48.3</td>\n      <td>720.0</td>\n      <td>0.00</td>\n      <td>0.61</td>\n      <td>-0.01</td>\n      <td>0.61</td>\n      <td>84.3</td>\n      <td>660.0</td>\n      <td>0.81</td>\n      <td>0.35</td>\n      <td>-0.02</td>\n      <td>0.13</td>\n      <td>-1.4</td>\n      <td>600.0</td>\n      <td>0.20</td>\n      <td>0.05</td>\n      <td>0.35</td>\n      <td>-0.42</td>\n      <td>15.0</td>\n      <td>540.0</td>\n      <td>-0.16</td>\n      <td>0.11</td>\n      <td>-0.10</td>\n      <td>-0.10</td>\n      <td>340.6</td>\n      <td>480.0</td>\n      <td>-0.73</td>\n      <td>-0.50</td>\n      <td>-1.30</td>\n      <td>-1.30</td>\n      <td>-169.8</td>\n      <td>420.0</td>\n      <td>-1.20</td>\n      <td>-0.50</td>\n      <td>-3.45</td>\n      <td>-1.81</td>\n      <td>263.3</td>\n      <td>360.0</td>\n      <td>-1.81</td>\n      <td>-2.66</td>\n      <td>-0.50</td>\n      <td>-0.99</td>\n      <td>188.3</td>\n      <td>300.0</td>\n      <td>-1.00</td>\n      <td>0.66</td>\n      <td>0.66</td>\n      <td>-0.49</td>\n      <td>107.5</td>\n      <td>240.0</td>\n    </tr>\n    <tr>\n      <th>2</th>\n      <td>17.549852</td>\n      <td>0.0</td>\n      <td>0.0</td>\n      <td>0.394356</td>\n      <td>0.918958</td>\n      <td>0.0</td>\n      <td>1.0</td>\n      <td>1.224647e-16</td>\n      <td>-1.000000</td>\n      <td>0.0</td>\n      <td>0.0</td>\n      <td>0.394356</td>\n      <td>0.918958</td>\n      <td>0.0</td>\n      <td>1.0</td>\n      <td>0.707107</td>\n      <td>-0.707107</td>\n      <td>3.50</td>\n      <td>0.00</td>\n      <td>0.50</td>\n      <td>-2.20</td>\n      <td>5.1</td>\n      <td>960.0</td>\n      <td>-3.80</td>\n      <td>-5.30</td>\n      <td>-1.10</td>\n      <td>0.20</td>\n      <td>-9.7</td>\n      <td>900.0</td>\n      <td>1.00</td>\n      <td>-0.30</td>\n      <td>0.96</td>\n      <td>-0.44</td>\n      <td>-8.2</td>\n      <td>840.0</td>\n      <td>-0.12</td>\n      <td>0.24</td>\n      <td>-0.02</td>\n      <td>0.58</td>\n      <td>50.4</td>\n      <td>780.0</td>\n      <td>0.60</td>\n      <td>0.24</td>\n      <td>0.84</td>\n      <td>0.24</td>\n      <td>-48.3</td>\n      <td>720.0</td>\n      <td>0.00</td>\n      <td>0.61</td>\n      <td>-0.01</td>\n      <td>0.61</td>\n      <td>84.3</td>\n      <td>660.0</td>\n      <td>0.81</td>\n      <td>0.35</td>\n      <td>-0.02</td>\n      <td>0.13</td>\n      <td>-1.4</td>\n      <td>600.0</td>\n      <td>0.20</td>\n      <td>0.05</td>\n      <td>0.35</td>\n      <td>-0.42</td>\n      <td>15.0</td>\n      <td>540.0</td>\n      <td>-0.16</td>\n      <td>0.11</td>\n      <td>-0.10</td>\n      <td>-0.10</td>\n      <td>340.6</td>\n      <td>480.0</td>\n      <td>-0.73</td>\n      <td>-0.50</td>\n      <td>-1.30</td>\n      <td>-1.30</td>\n      <td>-169.8</td>\n      <td>420.0</td>\n      <td>-1.20</td>\n      <td>-0.50</td>\n      <td>-3.45</td>\n      <td>-1.81</td>\n      <td>263.3</td>\n      <td>360.0</td>\n      <td>-1.81</td>\n      <td>-2.66</td>\n      <td>-0.50</td>\n      <td>-0.99</td>\n      <td>188.3</td>\n      <td>300.0</td>\n      <td>-1.00</td>\n      <td>0.66</td>\n      <td>0.66</td>\n      <td>-0.49</td>\n      <td>107.5</td>\n      <td>240.0</td>\n      <td>-0.38</td>\n      <td>6.03</td>\n      <td>-2.01</td>\n      <td>-0.53</td>\n      <td>1169.5</td>\n      <td>180.0</td>\n    </tr>\n    <tr>\n      <th>3</th>\n      <td>19.078845</td>\n      <td>0.0</td>\n      <td>0.0</td>\n      <td>0.394356</td>\n      <td>0.918958</td>\n      <td>0.0</td>\n      <td>1.0</td>\n      <td>-2.588190e-01</td>\n      <td>-0.965926</td>\n      <td>0.0</td>\n      <td>0.0</td>\n      <td>0.394356</td>\n      <td>0.918958</td>\n      <td>0.0</td>\n      <td>1.0</td>\n      <td>0.965926</td>\n      <td>-0.258819</td>\n      <td>2.59</td>\n      <td>5.69</td>\n      <td>2.59</td>\n      <td>5.69</td>\n      <td>10.7</td>\n      <td>1140.0</td>\n      <td>3.69</td>\n      <td>0.59</td>\n      <td>1.00</td>\n      <td>-2.10</td>\n      <td>8.7</td>\n      <td>1080.0</td>\n      <td>-0.30</td>\n      <td>-0.30</td>\n      <td>-1.30</td>\n      <td>-1.30</td>\n      <td>1.2</td>\n      <td>1020.0</td>\n      <td>-3.59</td>\n      <td>-3.19</td>\n      <td>0.00</td>\n      <td>0.50</td>\n      <td>65.9</td>\n      <td>960.0</td>\n      <td>0.40</td>\n      <td>0.00</td>\n      <td>0.50</td>\n      <td>0.00</td>\n      <td>-90.5</td>\n      <td>900.0</td>\n      <td>-1.00</td>\n      <td>-1.00</td>\n      <td>-1.00</td>\n      <td>-1.00</td>\n      <td>5.1</td>\n      <td>840.0</td>\n      <td>0.49</td>\n      <td>0.49</td>\n      <td>0.49</td>\n      <td>0.49</td>\n      <td>-0.4</td>\n      <td>780.0</td>\n      <td>-0.02</td>\n      <td>-0.01</td>\n      <td>-0.03</td>\n      <td>-0.03</td>\n      <td>-0.3</td>\n      <td>720.0</td>\n      <td>-0.01</td>\n      <td>-0.02</td>\n      <td>0.00</td>\n      <td>0.00</td>\n      <td>-4.4</td>\n      <td>660.0</td>\n      <td>0.03</td>\n      <td>0.03</td>\n      <td>-0.77</td>\n      <td>-0.77</td>\n      <td>62.7</td>\n      <td>600.0</td>\n      <td>-0.62</td>\n      <td>1.71</td>\n      <td>-0.52</td>\n      <td>1.80</td>\n      <td>141.3</td>\n      <td>540.0</td>\n      <td>1.08</td>\n      <td>-0.99</td>\n      <td>-0.13</td>\n      <td>-0.53</td>\n      <td>14.4</td>\n      <td>480.0</td>\n      <td>-0.94</td>\n      <td>-1.01</td>\n      <td>-2.84</td>\n      <td>-3.71</td>\n      <td>18.8</td>\n      <td>420.0</td>\n      <td>-2.51</td>\n      <td>-2.50</td>\n      <td>0.30</td>\n      <td>0.45</td>\n      <td>321.4</td>\n      <td>360.0</td>\n    </tr>\n    <tr>\n      <th>4</th>\n      <td>19.078845</td>\n      <td>0.0</td>\n      <td>0.0</td>\n      <td>0.394356</td>\n      <td>0.918958</td>\n      <td>0.0</td>\n      <td>1.0</td>\n      <td>-2.588190e-01</td>\n      <td>-0.965926</td>\n      <td>0.0</td>\n      <td>0.0</td>\n      <td>0.394356</td>\n      <td>0.918958</td>\n      <td>0.0</td>\n      <td>1.0</td>\n      <td>0.866025</td>\n      <td>-0.500000</td>\n      <td>3.69</td>\n      <td>0.59</td>\n      <td>1.00</td>\n      <td>-2.10</td>\n      <td>8.7</td>\n      <td>1080.0</td>\n      <td>-0.30</td>\n      <td>-0.30</td>\n      <td>-1.30</td>\n      <td>-1.30</td>\n      <td>1.2</td>\n      <td>1020.0</td>\n      <td>-3.59</td>\n      <td>-3.19</td>\n      <td>0.00</td>\n      <td>0.50</td>\n      <td>65.9</td>\n      <td>960.0</td>\n      <td>0.40</td>\n      <td>0.00</td>\n      <td>0.50</td>\n      <td>0.00</td>\n      <td>-90.5</td>\n      <td>900.0</td>\n      <td>-1.00</td>\n      <td>-1.00</td>\n      <td>-1.00</td>\n      <td>-1.00</td>\n      <td>5.1</td>\n      <td>840.0</td>\n      <td>0.49</td>\n      <td>0.49</td>\n      <td>0.49</td>\n      <td>0.49</td>\n      <td>-0.4</td>\n      <td>780.0</td>\n      <td>-0.02</td>\n      <td>-0.01</td>\n      <td>-0.03</td>\n      <td>-0.03</td>\n      <td>-0.3</td>\n      <td>720.0</td>\n      <td>-0.01</td>\n      <td>-0.02</td>\n      <td>0.00</td>\n      <td>0.00</td>\n      <td>-4.4</td>\n      <td>660.0</td>\n      <td>0.03</td>\n      <td>0.03</td>\n      <td>-0.77</td>\n      <td>-0.77</td>\n      <td>62.7</td>\n      <td>600.0</td>\n      <td>-0.62</td>\n      <td>1.71</td>\n      <td>-0.52</td>\n      <td>1.80</td>\n      <td>141.3</td>\n      <td>540.0</td>\n      <td>1.08</td>\n      <td>-0.99</td>\n      <td>-0.13</td>\n      <td>-0.53</td>\n      <td>14.4</td>\n      <td>480.0</td>\n      <td>-0.94</td>\n      <td>-1.01</td>\n      <td>-2.84</td>\n      <td>-3.71</td>\n      <td>18.8</td>\n      <td>420.0</td>\n      <td>-2.51</td>\n      <td>-2.50</td>\n      <td>0.30</td>\n      <td>0.45</td>\n      <td>321.4</td>\n      <td>360.0</td>\n      <td>-0.06</td>\n      <td>1.40</td>\n      <td>0.93</td>\n      <td>0.30</td>\n      <td>-79.6</td>\n      <td>300.0</td>\n    </tr>\n  </tbody>\n</table>\n</div>"
     },
     "metadata": {},
     "execution_count": 17
    }
   ],
   "source": [
    "display(X_train_15.shape)\n",
    "X_train_15.head(5)"
   ]
  },
  {
   "cell_type": "code",
   "execution_count": 18,
   "metadata": {},
   "outputs": [
    {
     "output_type": "stream",
     "name": "stdout",
     "text": [
      "Number of contracts is 4423.\n"
     ]
    }
   ],
   "source": [
    "df2 = X_train_15.copy()\n",
    "df2['hours_int'] = df2.apply(lambda row: math.floor(row.total_hours), axis=1)\n",
    "\n",
    "count = 1\n",
    "hour = df2.iloc[0,:]['total_hours']\n",
    "\n",
    "for i in range(1, len(df2)):\n",
    "    if df2.iloc[i,:]['total_hours']==hour and df2.iloc[i,:]['0']==df2.iloc[i-1,:]['6']:\n",
    "        continue\n",
    "    else:\n",
    "        hour = df2.iloc[i,:]['total_hours']\n",
    "        subset = df2.loc[df2.total_hours==hour]\n",
    "        longest_min = subset['5'].max()\n",
    "        if (df2.iloc[i,:]['hours_int']*60) != longest_min:\n",
    "            print(f'Mismatch in row {i}!')\n",
    "        count += 1\n",
    "        \n",
    "print(f'Number of contracts is {count}.')"
   ]
  },
  {
   "cell_type": "code",
   "execution_count": 19,
   "metadata": {},
   "outputs": [
    {
     "output_type": "stream",
     "name": "stdout",
     "text": [
      "Number of unique values in the total_hours column is 4398\n"
     ]
    }
   ],
   "source": [
    "print(f'Number of unique values in the total_hours column is {len(df2.total_hours.unique())}')"
   ]
  },
  {
   "source": [
    "#### Priliminary model training\n",
    "**Perhaps we can make use of the feature importance analysis here.**"
   ],
   "cell_type": "markdown",
   "metadata": {}
  },
  {
   "cell_type": "code",
   "execution_count": 24,
   "metadata": {},
   "outputs": [],
   "source": [
    "X_train_5 = pd.read_csv('X_train_window_size_5_time_encoding_True.csv')\n",
    "y_train_5 = pd.read_csv('y_train_window_size_5_time_encoding_True.csv')\n",
    "\n",
    "X_test_5 = pd.read_csv('X_test_window_size_5_time_encoding_True.csv')\n",
    "y_test_5 = pd.read_csv('y_test_window_size_5_time_encoding_True.csv')\n",
    "\n",
    "X_valid_5 = pd.read_csv('X_valid_window_size_5_time_encoding_True.csv')\n",
    "y_valid_5 = pd.read_csv('y_valid_window_size_5_time_encoding_True.csv')"
   ]
  },
  {
   "cell_type": "code",
   "execution_count": 22,
   "metadata": {},
   "outputs": [
    {
     "output_type": "stream",
     "name": "stdout",
     "text": [
      "Checking whether there is an H2O instance running at http://localhost:8080 ..... not found.\n",
      "Attempting to start a local H2O server...\n",
      "  Java Version: java version \"15.0.1\" 2020-10-20; Java(TM) SE Runtime Environment (build 15.0.1+9-18); Java HotSpot(TM) 64-Bit Server VM (build 15.0.1+9-18, mixed mode, sharing)\n",
      "  Starting server from /Applications/anaconda3/lib/python3.8/site-packages/h2o/backend/bin/h2o.jar\n",
      "  Ice root: /var/folders/bb/sgrdbysn0cbby831z71f1yhw0000gn/T/tmpn37c5eui\n",
      "  JVM stdout: /var/folders/bb/sgrdbysn0cbby831z71f1yhw0000gn/T/tmpn37c5eui/h2o_aayushmarishi_started_from_python.out\n",
      "  JVM stderr: /var/folders/bb/sgrdbysn0cbby831z71f1yhw0000gn/T/tmpn37c5eui/h2o_aayushmarishi_started_from_python.err\n",
      "  Server is running at http://127.0.0.1:8080\n",
      "Connecting to H2O server at http://127.0.0.1:8080 ... successful.\n"
     ]
    },
    {
     "output_type": "display_data",
     "data": {
      "text/plain": "--------------------------  ------------------------------------------------------------------\nH2O_cluster_uptime:         02 secs\nH2O_cluster_timezone:       Europe/Berlin\nH2O_data_parsing_timezone:  UTC\nH2O_cluster_version:        3.32.1.4\nH2O_cluster_version_age:    3 months and 6 days\nH2O_cluster_name:           H2O_from_python_aayushmarishi_6uj3l0\nH2O_cluster_total_nodes:    1\nH2O_cluster_free_memory:    2 Gb\nH2O_cluster_total_cores:    6\nH2O_cluster_allowed_cores:  6\nH2O_cluster_status:         accepting new members, healthy\nH2O_connection_url:         http://127.0.0.1:8080\nH2O_connection_proxy:       {\"http\": null, \"https\": null}\nH2O_internal_security:      False\nH2O_API_Extensions:         Amazon S3, XGBoost, Algos, AutoML, Core V3, TargetEncoder, Core V4\nPython_version:             3.8.5 final\n--------------------------  ------------------------------------------------------------------",
      "text/html": "<div style=\"overflow:auto\"><table style=\"width:50%\"><tr><td>H2O_cluster_uptime:</td>\n<td>02 secs</td></tr>\n<tr><td>H2O_cluster_timezone:</td>\n<td>Europe/Berlin</td></tr>\n<tr><td>H2O_data_parsing_timezone:</td>\n<td>UTC</td></tr>\n<tr><td>H2O_cluster_version:</td>\n<td>3.32.1.4</td></tr>\n<tr><td>H2O_cluster_version_age:</td>\n<td>3 months and 6 days </td></tr>\n<tr><td>H2O_cluster_name:</td>\n<td>H2O_from_python_aayushmarishi_6uj3l0</td></tr>\n<tr><td>H2O_cluster_total_nodes:</td>\n<td>1</td></tr>\n<tr><td>H2O_cluster_free_memory:</td>\n<td>2 Gb</td></tr>\n<tr><td>H2O_cluster_total_cores:</td>\n<td>6</td></tr>\n<tr><td>H2O_cluster_allowed_cores:</td>\n<td>6</td></tr>\n<tr><td>H2O_cluster_status:</td>\n<td>accepting new members, healthy</td></tr>\n<tr><td>H2O_connection_url:</td>\n<td>http://127.0.0.1:8080</td></tr>\n<tr><td>H2O_connection_proxy:</td>\n<td>{\"http\": null, \"https\": null}</td></tr>\n<tr><td>H2O_internal_security:</td>\n<td>False</td></tr>\n<tr><td>H2O_API_Extensions:</td>\n<td>Amazon S3, XGBoost, Algos, AutoML, Core V3, TargetEncoder, Core V4</td></tr>\n<tr><td>Python_version:</td>\n<td>3.8.5 final</td></tr></table></div>"
     },
     "metadata": {}
    }
   ],
   "source": [
    "import h2o\n",
    "from h2o.automl import H2OAutoML\n",
    "h2o.init(nthreads = -1, port=\"8080\")"
   ]
  },
  {
   "cell_type": "code",
   "execution_count": 36,
   "metadata": {},
   "outputs": [],
   "source": [
    "def run(seed, train, test): \n",
    "    \n",
    "    ##  set up h2o\n",
    "    h2o_train = h2o.H2OFrame(train)\n",
    "    h2o_test = h2o.H2OFrame(test)\n",
    "\n",
    "    x = list(h2o_train.columns)\n",
    "    aml = H2OAutoML(seed=seed, max_runtime_secs = 600, exclude_algos = ['DeepLearning'],\n",
    "                    sort_metric = 'MSE')\n",
    "    aml.train(x=x, y='y', training_frame=h2o_train)\n",
    "    \n",
    "    ## predict\n",
    "    y_hat = aml.leader.predict(h2o_test) \n",
    "    y_pred = y_hat.as_data_frame()\n",
    "    test_df = h2o_test.as_data_frame()\n",
    "    predictions = pd.concat([test_df, y_pred], axis=1)\n",
    "\n",
    "    return predictions, aml"
   ]
  },
  {
   "cell_type": "code",
   "execution_count": 78,
   "metadata": {},
   "outputs": [],
   "source": [
    "h2o_train_5 = pd.concat([X_train_5, y_train_5], axis=1)\n",
    "h2o_test_5 = pd.concat([X_test_5, y_test_5], axis=1)\n",
    "h2o_valid_5 = pd.concat([X_test_5, y_test_5], axis=1)"
   ]
  },
  {
   "cell_type": "code",
   "execution_count": 37,
   "metadata": {},
   "outputs": [
    {
     "output_type": "stream",
     "name": "stdout",
     "text": [
      "Parse progress: |█████████████████████████████████████████████████████████| 100%\n",
      "Parse progress: |█████████████████████████████████████████████████████████| 100%\n",
      "AutoML progress: |████████████████████████████████████████████████████████| 100%\n",
      "stackedensemble prediction progress: |████████████████████████████████████| 100%\n"
     ]
    }
   ],
   "source": [
    "pred, aml = run(10, h2o_train_5, h2o_test_5) "
   ]
  },
  {
   "cell_type": "code",
   "execution_count": 38,
   "metadata": {},
   "outputs": [
    {
     "output_type": "display_data",
     "data": {
      "text/html": "<table>\n<thead>\n<tr><th>model_id                                           </th><th style=\"text-align: right;\">    mse</th><th style=\"text-align: right;\">  mean_residual_deviance</th><th style=\"text-align: right;\">   rmse</th><th style=\"text-align: right;\">    mae</th><th style=\"text-align: right;\">  rmsle</th></tr>\n</thead>\n<tbody>\n<tr><td>StackedEnsemble_AllModels_AutoML_20211015_102419   </td><td style=\"text-align: right;\">10.4248</td><td style=\"text-align: right;\">                 10.4248</td><td style=\"text-align: right;\">3.22874</td><td style=\"text-align: right;\">1.74924</td><td style=\"text-align: right;\">    nan</td></tr>\n<tr><td>StackedEnsemble_BestOfFamily_AutoML_20211015_102419</td><td style=\"text-align: right;\">10.4858</td><td style=\"text-align: right;\">                 10.4858</td><td style=\"text-align: right;\">3.23817</td><td style=\"text-align: right;\">1.75277</td><td style=\"text-align: right;\">    nan</td></tr>\n<tr><td>GBM_grid__1_AutoML_20211015_102419_model_6         </td><td style=\"text-align: right;\">10.6564</td><td style=\"text-align: right;\">                 10.6564</td><td style=\"text-align: right;\">3.26441</td><td style=\"text-align: right;\">1.75707</td><td style=\"text-align: right;\">    nan</td></tr>\n<tr><td>GBM_grid__1_AutoML_20211015_102419_model_7         </td><td style=\"text-align: right;\">10.7829</td><td style=\"text-align: right;\">                 10.7829</td><td style=\"text-align: right;\">3.28373</td><td style=\"text-align: right;\">1.75945</td><td style=\"text-align: right;\">    nan</td></tr>\n<tr><td>GBM_grid__1_AutoML_20211015_102419_model_5         </td><td style=\"text-align: right;\">10.915 </td><td style=\"text-align: right;\">                 10.915 </td><td style=\"text-align: right;\">3.30378</td><td style=\"text-align: right;\">1.76891</td><td style=\"text-align: right;\">    nan</td></tr>\n<tr><td>XRT_1_AutoML_20211015_102419                       </td><td style=\"text-align: right;\">10.932 </td><td style=\"text-align: right;\">                 10.932 </td><td style=\"text-align: right;\">3.30636</td><td style=\"text-align: right;\">1.76477</td><td style=\"text-align: right;\">    nan</td></tr>\n<tr><td>GBM_1_AutoML_20211015_102419                       </td><td style=\"text-align: right;\">10.9767</td><td style=\"text-align: right;\">                 10.9767</td><td style=\"text-align: right;\">3.31311</td><td style=\"text-align: right;\">1.768  </td><td style=\"text-align: right;\">    nan</td></tr>\n<tr><td>DRF_1_AutoML_20211015_102419                       </td><td style=\"text-align: right;\">11.1896</td><td style=\"text-align: right;\">                 11.1896</td><td style=\"text-align: right;\">3.34509</td><td style=\"text-align: right;\">1.76747</td><td style=\"text-align: right;\">    nan</td></tr>\n<tr><td>GBM_3_AutoML_20211015_102419                       </td><td style=\"text-align: right;\">11.2571</td><td style=\"text-align: right;\">                 11.2571</td><td style=\"text-align: right;\">3.35515</td><td style=\"text-align: right;\">1.7731 </td><td style=\"text-align: right;\">    nan</td></tr>\n<tr><td>XGBoost_grid__1_AutoML_20211015_102419_model_3     </td><td style=\"text-align: right;\">11.2689</td><td style=\"text-align: right;\">                 11.2689</td><td style=\"text-align: right;\">3.35691</td><td style=\"text-align: right;\">1.80198</td><td style=\"text-align: right;\">    nan</td></tr>\n<tr><td>GBM_grid__1_AutoML_20211015_102419_model_3         </td><td style=\"text-align: right;\">11.28  </td><td style=\"text-align: right;\">                 11.28  </td><td style=\"text-align: right;\">3.35858</td><td style=\"text-align: right;\">1.77802</td><td style=\"text-align: right;\">    nan</td></tr>\n<tr><td>GBM_4_AutoML_20211015_102419                       </td><td style=\"text-align: right;\">11.3087</td><td style=\"text-align: right;\">                 11.3087</td><td style=\"text-align: right;\">3.36284</td><td style=\"text-align: right;\">1.77332</td><td style=\"text-align: right;\">    nan</td></tr>\n<tr><td>GBM_2_AutoML_20211015_102419                       </td><td style=\"text-align: right;\">11.3581</td><td style=\"text-align: right;\">                 11.3581</td><td style=\"text-align: right;\">3.37017</td><td style=\"text-align: right;\">1.77355</td><td style=\"text-align: right;\">    nan</td></tr>\n<tr><td>XGBoost_grid__1_AutoML_20211015_102419_model_2     </td><td style=\"text-align: right;\">11.3811</td><td style=\"text-align: right;\">                 11.3811</td><td style=\"text-align: right;\">3.37359</td><td style=\"text-align: right;\">1.77938</td><td style=\"text-align: right;\">    nan</td></tr>\n<tr><td>XGBoost_3_AutoML_20211015_102419                   </td><td style=\"text-align: right;\">11.3949</td><td style=\"text-align: right;\">                 11.3949</td><td style=\"text-align: right;\">3.37563</td><td style=\"text-align: right;\">1.78595</td><td style=\"text-align: right;\">    nan</td></tr>\n</tbody>\n</table>"
     },
     "metadata": {}
    },
    {
     "output_type": "execute_result",
     "data": {
      "text/plain": []
     },
     "metadata": {},
     "execution_count": 38
    }
   ],
   "source": [
    "aml.leaderboard.head(15)"
   ]
  },
  {
   "cell_type": "code",
   "execution_count": 50,
   "metadata": {},
   "outputs": [],
   "source": [
    "labels = [\"open\", \"high\", \"low\", \"close\", \"volume\", \"minutes\"]\n",
    "new_cols = []\n",
    "for i in range(4, 0, -1):\n",
    "    for label in labels:\n",
    "        if label != 'minutes':\n",
    "            new_cols.append(label+f\"_{i}_{i-1}\")\n",
    "        else:\n",
    "            new_cols.append(label+f\"_{i-1}\")\n",
    "name_map = dict(zip(list(X_train_5.columns[17:]), new_cols))"
   ]
  },
  {
   "cell_type": "code",
   "execution_count": 52,
   "metadata": {},
   "outputs": [
    {
     "output_type": "execute_result",
     "data": {
      "text/plain": [
       "                  variable  relative_importance  scaled_importance  percentage\n",
       "0                close_1_0        241070.359375           1.000000    0.088846\n",
       "1                 high_1_0        159086.875000           0.659919    0.058631\n",
       "2                close_2_1        158268.656250           0.656525    0.058329\n",
       "3                 open_1_0        154400.828125           0.640480    0.056904\n",
       "4       lasttrade_hour_sin        108674.093750           0.450798    0.040052\n",
       "5                 open_2_1        103314.265625           0.428565    0.038076\n",
       "6                close_3_2        101866.171875           0.422558    0.037542\n",
       "7            dlvry_day_cos        101091.976562           0.419346    0.037257\n",
       "8       lasttrade_hour_cos         94753.843750           0.393055    0.034921\n",
       "9                  low_1_0         90490.156250           0.375368    0.033350\n",
       "10       lasttrade_day_cos         86695.335938           0.359627    0.031951\n",
       "11                high_2_1         84809.390625           0.351803    0.031256\n",
       "12                open_3_2         80238.695312           0.332843    0.029572\n",
       "13           dlvry_day_sin         77459.531250           0.321315    0.028547\n",
       "14                 low_2_1         71081.656250           0.294859    0.026197\n",
       "15                high_3_2         66875.656250           0.277411    0.024647\n",
       "16       lasttrade_day_sin         65185.679688           0.270401    0.024024\n",
       "17          dlvry_hour_sin         58114.046875           0.241067    0.021418\n",
       "18               close_4_3         54870.046875           0.227610    0.020222\n",
       "19   lasttrade_weekday_sin         53036.207031           0.220003    0.019546\n",
       "20             total_hours         52500.109375           0.217779    0.019349\n",
       "21                high_4_3         50184.496094           0.208174    0.018495\n",
       "22              volume_2_1         48358.046875           0.200597    0.017822\n",
       "23       dlvry_weekday_sin         45734.363281           0.189714    0.016855\n",
       "24          dlvry_hour_cos         43475.585938           0.180344    0.016023\n",
       "25               minutes_2         42380.437500           0.175801    0.015619\n",
       "26              volume_1_0         42291.542969           0.175432    0.015586\n",
       "27                 low_4_3         40444.734375           0.167771    0.014906\n",
       "28                 low_3_2         40236.898438           0.166909    0.014829\n",
       "29               minutes_0         40089.109375           0.166296    0.014775\n",
       "30                open_4_3         39373.460938           0.163328    0.014511\n",
       "31               minutes_1         36855.593750           0.152883    0.013583\n",
       "32   lasttrade_weekday_cos         36475.449219           0.151306    0.013443\n",
       "33              volume_3_2         32854.937500           0.136288    0.012109\n",
       "34               minutes_3         31792.644531           0.131881    0.011717\n",
       "35              volume_4_3         29675.585938           0.123099    0.010937\n",
       "36       dlvry_weekday_cos         25379.205078           0.105277    0.009353\n",
       "37  lasttrade_bank_holiday          8056.561035           0.033420    0.002969\n",
       "38       lasttrade_weekend          7083.385254           0.029383    0.002611\n",
       "39           dlvry_weekend          4694.974609           0.019476    0.001730\n",
       "40      dlvry_bank_holiday          4035.659180           0.016741    0.001487"
      ],
      "text/html": "<div>\n<style scoped>\n    .dataframe tbody tr th:only-of-type {\n        vertical-align: middle;\n    }\n\n    .dataframe tbody tr th {\n        vertical-align: top;\n    }\n\n    .dataframe thead th {\n        text-align: right;\n    }\n</style>\n<table border=\"1\" class=\"dataframe\">\n  <thead>\n    <tr style=\"text-align: right;\">\n      <th></th>\n      <th>variable</th>\n      <th>relative_importance</th>\n      <th>scaled_importance</th>\n      <th>percentage</th>\n    </tr>\n  </thead>\n  <tbody>\n    <tr>\n      <th>0</th>\n      <td>close_1_0</td>\n      <td>241070.359375</td>\n      <td>1.000000</td>\n      <td>0.088846</td>\n    </tr>\n    <tr>\n      <th>1</th>\n      <td>high_1_0</td>\n      <td>159086.875000</td>\n      <td>0.659919</td>\n      <td>0.058631</td>\n    </tr>\n    <tr>\n      <th>2</th>\n      <td>close_2_1</td>\n      <td>158268.656250</td>\n      <td>0.656525</td>\n      <td>0.058329</td>\n    </tr>\n    <tr>\n      <th>3</th>\n      <td>open_1_0</td>\n      <td>154400.828125</td>\n      <td>0.640480</td>\n      <td>0.056904</td>\n    </tr>\n    <tr>\n      <th>4</th>\n      <td>lasttrade_hour_sin</td>\n      <td>108674.093750</td>\n      <td>0.450798</td>\n      <td>0.040052</td>\n    </tr>\n    <tr>\n      <th>5</th>\n      <td>open_2_1</td>\n      <td>103314.265625</td>\n      <td>0.428565</td>\n      <td>0.038076</td>\n    </tr>\n    <tr>\n      <th>6</th>\n      <td>close_3_2</td>\n      <td>101866.171875</td>\n      <td>0.422558</td>\n      <td>0.037542</td>\n    </tr>\n    <tr>\n      <th>7</th>\n      <td>dlvry_day_cos</td>\n      <td>101091.976562</td>\n      <td>0.419346</td>\n      <td>0.037257</td>\n    </tr>\n    <tr>\n      <th>8</th>\n      <td>lasttrade_hour_cos</td>\n      <td>94753.843750</td>\n      <td>0.393055</td>\n      <td>0.034921</td>\n    </tr>\n    <tr>\n      <th>9</th>\n      <td>low_1_0</td>\n      <td>90490.156250</td>\n      <td>0.375368</td>\n      <td>0.033350</td>\n    </tr>\n    <tr>\n      <th>10</th>\n      <td>lasttrade_day_cos</td>\n      <td>86695.335938</td>\n      <td>0.359627</td>\n      <td>0.031951</td>\n    </tr>\n    <tr>\n      <th>11</th>\n      <td>high_2_1</td>\n      <td>84809.390625</td>\n      <td>0.351803</td>\n      <td>0.031256</td>\n    </tr>\n    <tr>\n      <th>12</th>\n      <td>open_3_2</td>\n      <td>80238.695312</td>\n      <td>0.332843</td>\n      <td>0.029572</td>\n    </tr>\n    <tr>\n      <th>13</th>\n      <td>dlvry_day_sin</td>\n      <td>77459.531250</td>\n      <td>0.321315</td>\n      <td>0.028547</td>\n    </tr>\n    <tr>\n      <th>14</th>\n      <td>low_2_1</td>\n      <td>71081.656250</td>\n      <td>0.294859</td>\n      <td>0.026197</td>\n    </tr>\n    <tr>\n      <th>15</th>\n      <td>high_3_2</td>\n      <td>66875.656250</td>\n      <td>0.277411</td>\n      <td>0.024647</td>\n    </tr>\n    <tr>\n      <th>16</th>\n      <td>lasttrade_day_sin</td>\n      <td>65185.679688</td>\n      <td>0.270401</td>\n      <td>0.024024</td>\n    </tr>\n    <tr>\n      <th>17</th>\n      <td>dlvry_hour_sin</td>\n      <td>58114.046875</td>\n      <td>0.241067</td>\n      <td>0.021418</td>\n    </tr>\n    <tr>\n      <th>18</th>\n      <td>close_4_3</td>\n      <td>54870.046875</td>\n      <td>0.227610</td>\n      <td>0.020222</td>\n    </tr>\n    <tr>\n      <th>19</th>\n      <td>lasttrade_weekday_sin</td>\n      <td>53036.207031</td>\n      <td>0.220003</td>\n      <td>0.019546</td>\n    </tr>\n    <tr>\n      <th>20</th>\n      <td>total_hours</td>\n      <td>52500.109375</td>\n      <td>0.217779</td>\n      <td>0.019349</td>\n    </tr>\n    <tr>\n      <th>21</th>\n      <td>high_4_3</td>\n      <td>50184.496094</td>\n      <td>0.208174</td>\n      <td>0.018495</td>\n    </tr>\n    <tr>\n      <th>22</th>\n      <td>volume_2_1</td>\n      <td>48358.046875</td>\n      <td>0.200597</td>\n      <td>0.017822</td>\n    </tr>\n    <tr>\n      <th>23</th>\n      <td>dlvry_weekday_sin</td>\n      <td>45734.363281</td>\n      <td>0.189714</td>\n      <td>0.016855</td>\n    </tr>\n    <tr>\n      <th>24</th>\n      <td>dlvry_hour_cos</td>\n      <td>43475.585938</td>\n      <td>0.180344</td>\n      <td>0.016023</td>\n    </tr>\n    <tr>\n      <th>25</th>\n      <td>minutes_2</td>\n      <td>42380.437500</td>\n      <td>0.175801</td>\n      <td>0.015619</td>\n    </tr>\n    <tr>\n      <th>26</th>\n      <td>volume_1_0</td>\n      <td>42291.542969</td>\n      <td>0.175432</td>\n      <td>0.015586</td>\n    </tr>\n    <tr>\n      <th>27</th>\n      <td>low_4_3</td>\n      <td>40444.734375</td>\n      <td>0.167771</td>\n      <td>0.014906</td>\n    </tr>\n    <tr>\n      <th>28</th>\n      <td>low_3_2</td>\n      <td>40236.898438</td>\n      <td>0.166909</td>\n      <td>0.014829</td>\n    </tr>\n    <tr>\n      <th>29</th>\n      <td>minutes_0</td>\n      <td>40089.109375</td>\n      <td>0.166296</td>\n      <td>0.014775</td>\n    </tr>\n    <tr>\n      <th>30</th>\n      <td>open_4_3</td>\n      <td>39373.460938</td>\n      <td>0.163328</td>\n      <td>0.014511</td>\n    </tr>\n    <tr>\n      <th>31</th>\n      <td>minutes_1</td>\n      <td>36855.593750</td>\n      <td>0.152883</td>\n      <td>0.013583</td>\n    </tr>\n    <tr>\n      <th>32</th>\n      <td>lasttrade_weekday_cos</td>\n      <td>36475.449219</td>\n      <td>0.151306</td>\n      <td>0.013443</td>\n    </tr>\n    <tr>\n      <th>33</th>\n      <td>volume_3_2</td>\n      <td>32854.937500</td>\n      <td>0.136288</td>\n      <td>0.012109</td>\n    </tr>\n    <tr>\n      <th>34</th>\n      <td>minutes_3</td>\n      <td>31792.644531</td>\n      <td>0.131881</td>\n      <td>0.011717</td>\n    </tr>\n    <tr>\n      <th>35</th>\n      <td>volume_4_3</td>\n      <td>29675.585938</td>\n      <td>0.123099</td>\n      <td>0.010937</td>\n    </tr>\n    <tr>\n      <th>36</th>\n      <td>dlvry_weekday_cos</td>\n      <td>25379.205078</td>\n      <td>0.105277</td>\n      <td>0.009353</td>\n    </tr>\n    <tr>\n      <th>37</th>\n      <td>lasttrade_bank_holiday</td>\n      <td>8056.561035</td>\n      <td>0.033420</td>\n      <td>0.002969</td>\n    </tr>\n    <tr>\n      <th>38</th>\n      <td>lasttrade_weekend</td>\n      <td>7083.385254</td>\n      <td>0.029383</td>\n      <td>0.002611</td>\n    </tr>\n    <tr>\n      <th>39</th>\n      <td>dlvry_weekend</td>\n      <td>4694.974609</td>\n      <td>0.019476</td>\n      <td>0.001730</td>\n    </tr>\n    <tr>\n      <th>40</th>\n      <td>dlvry_bank_holiday</td>\n      <td>4035.659180</td>\n      <td>0.016741</td>\n      <td>0.001487</td>\n    </tr>\n  </tbody>\n</table>\n</div>"
     },
     "metadata": {},
     "execution_count": 52
    }
   ],
   "source": [
    "lb = aml.leaderboard\n",
    "\n",
    "m = h2o.get_model(lb[2,\"model_id\"])\n",
    "a = m.varimp(use_pandas=True)\n",
    "a.replace({'variable': name_map}, inplace=True)\n",
    "a"
   ]
  },
  {
   "cell_type": "code",
   "execution_count": 68,
   "metadata": {},
   "outputs": [
    {
     "output_type": "display_data",
     "data": {
      "text/plain": "<Figure size 720x576 with 1 Axes>",
      "image/svg+xml": "<?xml version=\"1.0\" encoding=\"utf-8\" standalone=\"no\"?>\n<!DOCTYPE svg PUBLIC \"-//W3C//DTD SVG 1.1//EN\"\n  \"http://www.w3.org/Graphics/SVG/1.1/DTD/svg11.dtd\">\n<!-- Created with matplotlib (https://matplotlib.org/) -->\n<svg height=\"465.958125pt\" version=\"1.1\" viewBox=\"0 0 673.828125 465.958125\" width=\"673.828125pt\" xmlns=\"http://www.w3.org/2000/svg\" xmlns:xlink=\"http://www.w3.org/1999/xlink\">\n <metadata>\n  <rdf:RDF xmlns:cc=\"http://creativecommons.org/ns#\" xmlns:dc=\"http://purl.org/dc/elements/1.1/\" xmlns:rdf=\"http://www.w3.org/1999/02/22-rdf-syntax-ns#\">\n   <cc:Work>\n    <dc:type rdf:resource=\"http://purl.org/dc/dcmitype/StillImage\"/>\n    <dc:date>2021-10-15T10:55:47.513120</dc:date>\n    <dc:format>image/svg+xml</dc:format>\n    <dc:creator>\n     <cc:Agent>\n      <dc:title>Matplotlib v3.3.2, https://matplotlib.org/</dc:title>\n     </cc:Agent>\n    </dc:creator>\n   </cc:Work>\n  </rdf:RDF>\n </metadata>\n <defs>\n  <style type=\"text/css\">*{stroke-linecap:butt;stroke-linejoin:round;}</style>\n </defs>\n <g id=\"figure_1\">\n  <g id=\"patch_1\">\n   <path d=\"M 0 465.958125 \nL 673.828125 465.958125 \nL 673.828125 0 \nL 0 0 \nz\n\" style=\"fill:none;\"/>\n  </g>\n  <g id=\"axes_1\">\n   <g id=\"patch_2\">\n    <path d=\"M 108.628125 442.08 \nL 666.628125 442.08 \nL 666.628125 7.2 \nL 108.628125 7.2 \nz\n\" style=\"fill:#ffffff;\"/>\n   </g>\n   <g id=\"patch_3\">\n    <path clip-path=\"url(#pe309f4699b)\" d=\"M 108.628125 26.967273 \nL 640.056696 26.967273 \nL 640.056696 48.337297 \nL 108.628125 48.337297 \nz\n\" style=\"fill:#1f77b4;\"/>\n   </g>\n   <g id=\"patch_4\">\n    <path clip-path=\"url(#pe309f4699b)\" d=\"M 108.628125 53.679803 \nL 459.327858 53.679803 \nL 459.327858 75.049828 \nL 108.628125 75.049828 \nz\n\" style=\"fill:#1f77b4;\"/>\n   </g>\n   <g id=\"patch_5\">\n    <path clip-path=\"url(#pe309f4699b)\" d=\"M 108.628125 80.392334 \nL 457.524132 80.392334 \nL 457.524132 101.762359 \nL 108.628125 101.762359 \nz\n\" style=\"fill:#1f77b4;\"/>\n   </g>\n   <g id=\"patch_6\">\n    <path clip-path=\"url(#pe309f4699b)\" d=\"M 108.628125 107.104865 \nL 448.997682 107.104865 \nL 448.997682 128.474889 \nL 108.628125 128.474889 \nz\n\" style=\"fill:#1f77b4;\"/>\n   </g>\n   <g id=\"patch_7\">\n    <path clip-path=\"url(#pe309f4699b)\" d=\"M 108.628125 133.817396 \nL 348.19519 133.817396 \nL 348.19519 155.18742 \nL 108.628125 155.18742 \nz\n\" style=\"fill:#1f77b4;\"/>\n   </g>\n   <g id=\"patch_8\">\n    <path clip-path=\"url(#pe309f4699b)\" d=\"M 108.628125 160.529926 \nL 336.379694 160.529926 \nL 336.379694 181.899951 \nL 108.628125 181.899951 \nz\n\" style=\"fill:#1f77b4;\"/>\n   </g>\n   <g id=\"patch_9\">\n    <path clip-path=\"url(#pe309f4699b)\" d=\"M 108.628125 187.242457 \nL 333.187438 187.242457 \nL 333.187438 208.612482 \nL 108.628125 208.612482 \nz\n\" style=\"fill:#1f77b4;\"/>\n   </g>\n   <g id=\"patch_10\">\n    <path clip-path=\"url(#pe309f4699b)\" d=\"M 108.628125 213.954988 \nL 331.48076 213.954988 \nL 331.48076 235.325012 \nL 108.628125 235.325012 \nz\n\" style=\"fill:#1f77b4;\"/>\n   </g>\n   <g id=\"patch_11\">\n    <path clip-path=\"url(#pe309f4699b)\" d=\"M 108.628125 240.667518 \nL 317.508636 240.667518 \nL 317.508636 262.037543 \nL 108.628125 262.037543 \nz\n\" style=\"fill:#1f77b4;\"/>\n   </g>\n   <g id=\"patch_12\">\n    <path clip-path=\"url(#pe309f4699b)\" d=\"M 108.628125 267.380049 \nL 308.109532 267.380049 \nL 308.109532 288.750074 \nL 108.628125 288.750074 \nz\n\" style=\"fill:#1f77b4;\"/>\n   </g>\n   <g id=\"patch_13\">\n    <path clip-path=\"url(#pe309f4699b)\" d=\"M 108.628125 294.09258 \nL 299.744024 294.09258 \nL 299.744024 315.462604 \nL 108.628125 315.462604 \nz\n\" style=\"fill:#1f77b4;\"/>\n   </g>\n   <g id=\"patch_14\">\n    <path clip-path=\"url(#pe309f4699b)\" d=\"M 108.628125 320.805111 \nL 295.586544 320.805111 \nL 295.586544 342.175135 \nL 108.628125 342.175135 \nz\n\" style=\"fill:#1f77b4;\"/>\n   </g>\n   <g id=\"patch_15\">\n    <path clip-path=\"url(#pe309f4699b)\" d=\"M 108.628125 347.517641 \nL 285.510656 347.517641 \nL 285.510656 368.887666 \nL 108.628125 368.887666 \nz\n\" style=\"fill:#1f77b4;\"/>\n   </g>\n   <g id=\"patch_16\">\n    <path clip-path=\"url(#pe309f4699b)\" d=\"M 108.628125 374.230172 \nL 279.384116 374.230172 \nL 279.384116 395.600197 \nL 108.628125 395.600197 \nz\n\" style=\"fill:#1f77b4;\"/>\n   </g>\n   <g id=\"patch_17\">\n    <path clip-path=\"url(#pe309f4699b)\" d=\"M 108.628125 400.942703 \nL 265.324382 400.942703 \nL 265.324382 422.312727 \nL 108.628125 422.312727 \nz\n\" style=\"fill:#1f77b4;\"/>\n   </g>\n   <g id=\"matplotlib.axis_1\">\n    <g id=\"xtick_1\">\n     <g id=\"line2d_1\">\n      <defs>\n       <path d=\"M 0 0 \nL 0 3.5 \n\" id=\"m8c8b28dc9c\" style=\"stroke:#000000;stroke-width:0.8;\"/>\n      </defs>\n      <g>\n       <use style=\"stroke:#000000;stroke-width:0.8;\" x=\"108.628125\" xlink:href=\"#m8c8b28dc9c\" y=\"442.08\"/>\n      </g>\n     </g>\n     <g id=\"text_1\">\n      <!-- 0.0 -->\n      <g transform=\"translate(100.676563 456.678437)scale(0.1 -0.1)\">\n       <defs>\n        <path d=\"M 31.78125 66.40625 \nQ 24.171875 66.40625 20.328125 58.90625 \nQ 16.5 51.421875 16.5 36.375 \nQ 16.5 21.390625 20.328125 13.890625 \nQ 24.171875 6.390625 31.78125 6.390625 \nQ 39.453125 6.390625 43.28125 13.890625 \nQ 47.125 21.390625 47.125 36.375 \nQ 47.125 51.421875 43.28125 58.90625 \nQ 39.453125 66.40625 31.78125 66.40625 \nz\nM 31.78125 74.21875 \nQ 44.046875 74.21875 50.515625 64.515625 \nQ 56.984375 54.828125 56.984375 36.375 \nQ 56.984375 17.96875 50.515625 8.265625 \nQ 44.046875 -1.421875 31.78125 -1.421875 \nQ 19.53125 -1.421875 13.0625 8.265625 \nQ 6.59375 17.96875 6.59375 36.375 \nQ 6.59375 54.828125 13.0625 64.515625 \nQ 19.53125 74.21875 31.78125 74.21875 \nz\n\" id=\"DejaVuSans-48\"/>\n        <path d=\"M 10.6875 12.40625 \nL 21 12.40625 \nL 21 0 \nL 10.6875 0 \nz\n\" id=\"DejaVuSans-46\"/>\n       </defs>\n       <use xlink:href=\"#DejaVuSans-48\"/>\n       <use x=\"63.623047\" xlink:href=\"#DejaVuSans-46\"/>\n       <use x=\"95.410156\" xlink:href=\"#DejaVuSans-48\"/>\n      </g>\n     </g>\n    </g>\n    <g id=\"xtick_2\">\n     <g id=\"line2d_2\">\n      <g>\n       <use style=\"stroke:#000000;stroke-width:0.8;\" x=\"214.913839\" xlink:href=\"#m8c8b28dc9c\" y=\"442.08\"/>\n      </g>\n     </g>\n     <g id=\"text_2\">\n      <!-- 0.2 -->\n      <g transform=\"translate(206.962277 456.678437)scale(0.1 -0.1)\">\n       <defs>\n        <path d=\"M 19.1875 8.296875 \nL 53.609375 8.296875 \nL 53.609375 0 \nL 7.328125 0 \nL 7.328125 8.296875 \nQ 12.9375 14.109375 22.625 23.890625 \nQ 32.328125 33.6875 34.8125 36.53125 \nQ 39.546875 41.84375 41.421875 45.53125 \nQ 43.3125 49.21875 43.3125 52.78125 \nQ 43.3125 58.59375 39.234375 62.25 \nQ 35.15625 65.921875 28.609375 65.921875 \nQ 23.96875 65.921875 18.8125 64.3125 \nQ 13.671875 62.703125 7.8125 59.421875 \nL 7.8125 69.390625 \nQ 13.765625 71.78125 18.9375 73 \nQ 24.125 74.21875 28.421875 74.21875 \nQ 39.75 74.21875 46.484375 68.546875 \nQ 53.21875 62.890625 53.21875 53.421875 \nQ 53.21875 48.921875 51.53125 44.890625 \nQ 49.859375 40.875 45.40625 35.40625 \nQ 44.1875 33.984375 37.640625 27.21875 \nQ 31.109375 20.453125 19.1875 8.296875 \nz\n\" id=\"DejaVuSans-50\"/>\n       </defs>\n       <use xlink:href=\"#DejaVuSans-48\"/>\n       <use x=\"63.623047\" xlink:href=\"#DejaVuSans-46\"/>\n       <use x=\"95.410156\" xlink:href=\"#DejaVuSans-50\"/>\n      </g>\n     </g>\n    </g>\n    <g id=\"xtick_3\">\n     <g id=\"line2d_3\">\n      <g>\n       <use style=\"stroke:#000000;stroke-width:0.8;\" x=\"321.199554\" xlink:href=\"#m8c8b28dc9c\" y=\"442.08\"/>\n      </g>\n     </g>\n     <g id=\"text_3\">\n      <!-- 0.4 -->\n      <g transform=\"translate(313.247991 456.678437)scale(0.1 -0.1)\">\n       <defs>\n        <path d=\"M 37.796875 64.3125 \nL 12.890625 25.390625 \nL 37.796875 25.390625 \nz\nM 35.203125 72.90625 \nL 47.609375 72.90625 \nL 47.609375 25.390625 \nL 58.015625 25.390625 \nL 58.015625 17.1875 \nL 47.609375 17.1875 \nL 47.609375 0 \nL 37.796875 0 \nL 37.796875 17.1875 \nL 4.890625 17.1875 \nL 4.890625 26.703125 \nz\n\" id=\"DejaVuSans-52\"/>\n       </defs>\n       <use xlink:href=\"#DejaVuSans-48\"/>\n       <use x=\"63.623047\" xlink:href=\"#DejaVuSans-46\"/>\n       <use x=\"95.410156\" xlink:href=\"#DejaVuSans-52\"/>\n      </g>\n     </g>\n    </g>\n    <g id=\"xtick_4\">\n     <g id=\"line2d_4\">\n      <g>\n       <use style=\"stroke:#000000;stroke-width:0.8;\" x=\"427.485268\" xlink:href=\"#m8c8b28dc9c\" y=\"442.08\"/>\n      </g>\n     </g>\n     <g id=\"text_4\">\n      <!-- 0.6 -->\n      <g transform=\"translate(419.533705 456.678437)scale(0.1 -0.1)\">\n       <defs>\n        <path d=\"M 33.015625 40.375 \nQ 26.375 40.375 22.484375 35.828125 \nQ 18.609375 31.296875 18.609375 23.390625 \nQ 18.609375 15.53125 22.484375 10.953125 \nQ 26.375 6.390625 33.015625 6.390625 \nQ 39.65625 6.390625 43.53125 10.953125 \nQ 47.40625 15.53125 47.40625 23.390625 \nQ 47.40625 31.296875 43.53125 35.828125 \nQ 39.65625 40.375 33.015625 40.375 \nz\nM 52.59375 71.296875 \nL 52.59375 62.3125 \nQ 48.875 64.0625 45.09375 64.984375 \nQ 41.3125 65.921875 37.59375 65.921875 \nQ 27.828125 65.921875 22.671875 59.328125 \nQ 17.53125 52.734375 16.796875 39.40625 \nQ 19.671875 43.65625 24.015625 45.921875 \nQ 28.375 48.1875 33.59375 48.1875 \nQ 44.578125 48.1875 50.953125 41.515625 \nQ 57.328125 34.859375 57.328125 23.390625 \nQ 57.328125 12.15625 50.6875 5.359375 \nQ 44.046875 -1.421875 33.015625 -1.421875 \nQ 20.359375 -1.421875 13.671875 8.265625 \nQ 6.984375 17.96875 6.984375 36.375 \nQ 6.984375 53.65625 15.1875 63.9375 \nQ 23.390625 74.21875 37.203125 74.21875 \nQ 40.921875 74.21875 44.703125 73.484375 \nQ 48.484375 72.75 52.59375 71.296875 \nz\n\" id=\"DejaVuSans-54\"/>\n       </defs>\n       <use xlink:href=\"#DejaVuSans-48\"/>\n       <use x=\"63.623047\" xlink:href=\"#DejaVuSans-46\"/>\n       <use x=\"95.410156\" xlink:href=\"#DejaVuSans-54\"/>\n      </g>\n     </g>\n    </g>\n    <g id=\"xtick_5\">\n     <g id=\"line2d_5\">\n      <g>\n       <use style=\"stroke:#000000;stroke-width:0.8;\" x=\"533.770982\" xlink:href=\"#m8c8b28dc9c\" y=\"442.08\"/>\n      </g>\n     </g>\n     <g id=\"text_5\">\n      <!-- 0.8 -->\n      <g transform=\"translate(525.81942 456.678437)scale(0.1 -0.1)\">\n       <defs>\n        <path d=\"M 31.78125 34.625 \nQ 24.75 34.625 20.71875 30.859375 \nQ 16.703125 27.09375 16.703125 20.515625 \nQ 16.703125 13.921875 20.71875 10.15625 \nQ 24.75 6.390625 31.78125 6.390625 \nQ 38.8125 6.390625 42.859375 10.171875 \nQ 46.921875 13.96875 46.921875 20.515625 \nQ 46.921875 27.09375 42.890625 30.859375 \nQ 38.875 34.625 31.78125 34.625 \nz\nM 21.921875 38.8125 \nQ 15.578125 40.375 12.03125 44.71875 \nQ 8.5 49.078125 8.5 55.328125 \nQ 8.5 64.0625 14.71875 69.140625 \nQ 20.953125 74.21875 31.78125 74.21875 \nQ 42.671875 74.21875 48.875 69.140625 \nQ 55.078125 64.0625 55.078125 55.328125 \nQ 55.078125 49.078125 51.53125 44.71875 \nQ 48 40.375 41.703125 38.8125 \nQ 48.828125 37.15625 52.796875 32.3125 \nQ 56.78125 27.484375 56.78125 20.515625 \nQ 56.78125 9.90625 50.3125 4.234375 \nQ 43.84375 -1.421875 31.78125 -1.421875 \nQ 19.734375 -1.421875 13.25 4.234375 \nQ 6.78125 9.90625 6.78125 20.515625 \nQ 6.78125 27.484375 10.78125 32.3125 \nQ 14.796875 37.15625 21.921875 38.8125 \nz\nM 18.3125 54.390625 \nQ 18.3125 48.734375 21.84375 45.5625 \nQ 25.390625 42.390625 31.78125 42.390625 \nQ 38.140625 42.390625 41.71875 45.5625 \nQ 45.3125 48.734375 45.3125 54.390625 \nQ 45.3125 60.0625 41.71875 63.234375 \nQ 38.140625 66.40625 31.78125 66.40625 \nQ 25.390625 66.40625 21.84375 63.234375 \nQ 18.3125 60.0625 18.3125 54.390625 \nz\n\" id=\"DejaVuSans-56\"/>\n       </defs>\n       <use xlink:href=\"#DejaVuSans-48\"/>\n       <use x=\"63.623047\" xlink:href=\"#DejaVuSans-46\"/>\n       <use x=\"95.410156\" xlink:href=\"#DejaVuSans-56\"/>\n      </g>\n     </g>\n    </g>\n    <g id=\"xtick_6\">\n     <g id=\"line2d_6\">\n      <g>\n       <use style=\"stroke:#000000;stroke-width:0.8;\" x=\"640.056696\" xlink:href=\"#m8c8b28dc9c\" y=\"442.08\"/>\n      </g>\n     </g>\n     <g id=\"text_6\">\n      <!-- 1.0 -->\n      <g transform=\"translate(632.105134 456.678437)scale(0.1 -0.1)\">\n       <defs>\n        <path d=\"M 12.40625 8.296875 \nL 28.515625 8.296875 \nL 28.515625 63.921875 \nL 10.984375 60.40625 \nL 10.984375 69.390625 \nL 28.421875 72.90625 \nL 38.28125 72.90625 \nL 38.28125 8.296875 \nL 54.390625 8.296875 \nL 54.390625 0 \nL 12.40625 0 \nz\n\" id=\"DejaVuSans-49\"/>\n       </defs>\n       <use xlink:href=\"#DejaVuSans-49\"/>\n       <use x=\"63.623047\" xlink:href=\"#DejaVuSans-46\"/>\n       <use x=\"95.410156\" xlink:href=\"#DejaVuSans-48\"/>\n      </g>\n     </g>\n    </g>\n   </g>\n   <g id=\"matplotlib.axis_2\">\n    <g id=\"ytick_1\">\n     <g id=\"line2d_7\">\n      <defs>\n       <path d=\"M 0 0 \nL -3.5 0 \n\" id=\"m20813623cd\" style=\"stroke:#000000;stroke-width:0.8;\"/>\n      </defs>\n      <g>\n       <use style=\"stroke:#000000;stroke-width:0.8;\" x=\"108.628125\" xlink:href=\"#m20813623cd\" y=\"37.652285\"/>\n      </g>\n     </g>\n     <g id=\"text_7\">\n      <!-- close_1_0 -->\n      <g transform=\"translate(53.145313 41.451504)scale(0.1 -0.1)\">\n       <defs>\n        <path d=\"M 48.78125 52.59375 \nL 48.78125 44.1875 \nQ 44.96875 46.296875 41.140625 47.34375 \nQ 37.3125 48.390625 33.40625 48.390625 \nQ 24.65625 48.390625 19.8125 42.84375 \nQ 14.984375 37.3125 14.984375 27.296875 \nQ 14.984375 17.28125 19.8125 11.734375 \nQ 24.65625 6.203125 33.40625 6.203125 \nQ 37.3125 6.203125 41.140625 7.25 \nQ 44.96875 8.296875 48.78125 10.40625 \nL 48.78125 2.09375 \nQ 45.015625 0.34375 40.984375 -0.53125 \nQ 36.96875 -1.421875 32.421875 -1.421875 \nQ 20.0625 -1.421875 12.78125 6.34375 \nQ 5.515625 14.109375 5.515625 27.296875 \nQ 5.515625 40.671875 12.859375 48.328125 \nQ 20.21875 56 33.015625 56 \nQ 37.15625 56 41.109375 55.140625 \nQ 45.0625 54.296875 48.78125 52.59375 \nz\n\" id=\"DejaVuSans-99\"/>\n        <path d=\"M 9.421875 75.984375 \nL 18.40625 75.984375 \nL 18.40625 0 \nL 9.421875 0 \nz\n\" id=\"DejaVuSans-108\"/>\n        <path d=\"M 30.609375 48.390625 \nQ 23.390625 48.390625 19.1875 42.75 \nQ 14.984375 37.109375 14.984375 27.296875 \nQ 14.984375 17.484375 19.15625 11.84375 \nQ 23.34375 6.203125 30.609375 6.203125 \nQ 37.796875 6.203125 41.984375 11.859375 \nQ 46.1875 17.53125 46.1875 27.296875 \nQ 46.1875 37.015625 41.984375 42.703125 \nQ 37.796875 48.390625 30.609375 48.390625 \nz\nM 30.609375 56 \nQ 42.328125 56 49.015625 48.375 \nQ 55.71875 40.765625 55.71875 27.296875 \nQ 55.71875 13.875 49.015625 6.21875 \nQ 42.328125 -1.421875 30.609375 -1.421875 \nQ 18.84375 -1.421875 12.171875 6.21875 \nQ 5.515625 13.875 5.515625 27.296875 \nQ 5.515625 40.765625 12.171875 48.375 \nQ 18.84375 56 30.609375 56 \nz\n\" id=\"DejaVuSans-111\"/>\n        <path d=\"M 44.28125 53.078125 \nL 44.28125 44.578125 \nQ 40.484375 46.53125 36.375 47.5 \nQ 32.28125 48.484375 27.875 48.484375 \nQ 21.1875 48.484375 17.84375 46.4375 \nQ 14.5 44.390625 14.5 40.28125 \nQ 14.5 37.15625 16.890625 35.375 \nQ 19.28125 33.59375 26.515625 31.984375 \nL 29.59375 31.296875 \nQ 39.15625 29.25 43.1875 25.515625 \nQ 47.21875 21.78125 47.21875 15.09375 \nQ 47.21875 7.46875 41.1875 3.015625 \nQ 35.15625 -1.421875 24.609375 -1.421875 \nQ 20.21875 -1.421875 15.453125 -0.5625 \nQ 10.6875 0.296875 5.421875 2 \nL 5.421875 11.28125 \nQ 10.40625 8.6875 15.234375 7.390625 \nQ 20.0625 6.109375 24.8125 6.109375 \nQ 31.15625 6.109375 34.5625 8.28125 \nQ 37.984375 10.453125 37.984375 14.40625 \nQ 37.984375 18.0625 35.515625 20.015625 \nQ 33.0625 21.96875 24.703125 23.78125 \nL 21.578125 24.515625 \nQ 13.234375 26.265625 9.515625 29.90625 \nQ 5.8125 33.546875 5.8125 39.890625 \nQ 5.8125 47.609375 11.28125 51.796875 \nQ 16.75 56 26.8125 56 \nQ 31.78125 56 36.171875 55.265625 \nQ 40.578125 54.546875 44.28125 53.078125 \nz\n\" id=\"DejaVuSans-115\"/>\n        <path d=\"M 56.203125 29.59375 \nL 56.203125 25.203125 \nL 14.890625 25.203125 \nQ 15.484375 15.921875 20.484375 11.0625 \nQ 25.484375 6.203125 34.421875 6.203125 \nQ 39.59375 6.203125 44.453125 7.46875 \nQ 49.3125 8.734375 54.109375 11.28125 \nL 54.109375 2.78125 \nQ 49.265625 0.734375 44.1875 -0.34375 \nQ 39.109375 -1.421875 33.890625 -1.421875 \nQ 20.796875 -1.421875 13.15625 6.1875 \nQ 5.515625 13.8125 5.515625 26.8125 \nQ 5.515625 40.234375 12.765625 48.109375 \nQ 20.015625 56 32.328125 56 \nQ 43.359375 56 49.78125 48.890625 \nQ 56.203125 41.796875 56.203125 29.59375 \nz\nM 47.21875 32.234375 \nQ 47.125 39.59375 43.09375 43.984375 \nQ 39.0625 48.390625 32.421875 48.390625 \nQ 24.90625 48.390625 20.390625 44.140625 \nQ 15.875 39.890625 15.1875 32.171875 \nz\n\" id=\"DejaVuSans-101\"/>\n        <path d=\"M 50.984375 -16.609375 \nL 50.984375 -23.578125 \nL -0.984375 -23.578125 \nL -0.984375 -16.609375 \nz\n\" id=\"DejaVuSans-95\"/>\n       </defs>\n       <use xlink:href=\"#DejaVuSans-99\"/>\n       <use x=\"54.980469\" xlink:href=\"#DejaVuSans-108\"/>\n       <use x=\"82.763672\" xlink:href=\"#DejaVuSans-111\"/>\n       <use x=\"143.945312\" xlink:href=\"#DejaVuSans-115\"/>\n       <use x=\"196.044922\" xlink:href=\"#DejaVuSans-101\"/>\n       <use x=\"257.568359\" xlink:href=\"#DejaVuSans-95\"/>\n       <use x=\"307.568359\" xlink:href=\"#DejaVuSans-49\"/>\n       <use x=\"371.191406\" xlink:href=\"#DejaVuSans-95\"/>\n       <use x=\"421.191406\" xlink:href=\"#DejaVuSans-48\"/>\n      </g>\n     </g>\n    </g>\n    <g id=\"ytick_2\">\n     <g id=\"line2d_8\">\n      <g>\n       <use style=\"stroke:#000000;stroke-width:0.8;\" x=\"108.628125\" xlink:href=\"#m20813623cd\" y=\"64.364816\"/>\n      </g>\n     </g>\n     <g id=\"text_8\">\n      <!-- high_1_0 -->\n      <g transform=\"translate(57.101563 68.164034)scale(0.1 -0.1)\">\n       <defs>\n        <path d=\"M 54.890625 33.015625 \nL 54.890625 0 \nL 45.90625 0 \nL 45.90625 32.71875 \nQ 45.90625 40.484375 42.875 44.328125 \nQ 39.84375 48.1875 33.796875 48.1875 \nQ 26.515625 48.1875 22.3125 43.546875 \nQ 18.109375 38.921875 18.109375 30.90625 \nL 18.109375 0 \nL 9.078125 0 \nL 9.078125 75.984375 \nL 18.109375 75.984375 \nL 18.109375 46.1875 \nQ 21.34375 51.125 25.703125 53.5625 \nQ 30.078125 56 35.796875 56 \nQ 45.21875 56 50.046875 50.171875 \nQ 54.890625 44.34375 54.890625 33.015625 \nz\n\" id=\"DejaVuSans-104\"/>\n        <path d=\"M 9.421875 54.6875 \nL 18.40625 54.6875 \nL 18.40625 0 \nL 9.421875 0 \nz\nM 9.421875 75.984375 \nL 18.40625 75.984375 \nL 18.40625 64.59375 \nL 9.421875 64.59375 \nz\n\" id=\"DejaVuSans-105\"/>\n        <path d=\"M 45.40625 27.984375 \nQ 45.40625 37.75 41.375 43.109375 \nQ 37.359375 48.484375 30.078125 48.484375 \nQ 22.859375 48.484375 18.828125 43.109375 \nQ 14.796875 37.75 14.796875 27.984375 \nQ 14.796875 18.265625 18.828125 12.890625 \nQ 22.859375 7.515625 30.078125 7.515625 \nQ 37.359375 7.515625 41.375 12.890625 \nQ 45.40625 18.265625 45.40625 27.984375 \nz\nM 54.390625 6.78125 \nQ 54.390625 -7.171875 48.1875 -13.984375 \nQ 42 -20.796875 29.203125 -20.796875 \nQ 24.46875 -20.796875 20.265625 -20.09375 \nQ 16.0625 -19.390625 12.109375 -17.921875 \nL 12.109375 -9.1875 \nQ 16.0625 -11.328125 19.921875 -12.34375 \nQ 23.78125 -13.375 27.78125 -13.375 \nQ 36.625 -13.375 41.015625 -8.765625 \nQ 45.40625 -4.15625 45.40625 5.171875 \nL 45.40625 9.625 \nQ 42.625 4.78125 38.28125 2.390625 \nQ 33.9375 0 27.875 0 \nQ 17.828125 0 11.671875 7.65625 \nQ 5.515625 15.328125 5.515625 27.984375 \nQ 5.515625 40.671875 11.671875 48.328125 \nQ 17.828125 56 27.875 56 \nQ 33.9375 56 38.28125 53.609375 \nQ 42.625 51.21875 45.40625 46.390625 \nL 45.40625 54.6875 \nL 54.390625 54.6875 \nz\n\" id=\"DejaVuSans-103\"/>\n       </defs>\n       <use xlink:href=\"#DejaVuSans-104\"/>\n       <use x=\"63.378906\" xlink:href=\"#DejaVuSans-105\"/>\n       <use x=\"91.162109\" xlink:href=\"#DejaVuSans-103\"/>\n       <use x=\"154.638672\" xlink:href=\"#DejaVuSans-104\"/>\n       <use x=\"218.017578\" xlink:href=\"#DejaVuSans-95\"/>\n       <use x=\"268.017578\" xlink:href=\"#DejaVuSans-49\"/>\n       <use x=\"331.640625\" xlink:href=\"#DejaVuSans-95\"/>\n       <use x=\"381.640625\" xlink:href=\"#DejaVuSans-48\"/>\n      </g>\n     </g>\n    </g>\n    <g id=\"ytick_3\">\n     <g id=\"line2d_9\">\n      <g>\n       <use style=\"stroke:#000000;stroke-width:0.8;\" x=\"108.628125\" xlink:href=\"#m20813623cd\" y=\"91.077346\"/>\n      </g>\n     </g>\n     <g id=\"text_9\">\n      <!-- close_2_1 -->\n      <g transform=\"translate(53.145313 94.876565)scale(0.1 -0.1)\">\n       <use xlink:href=\"#DejaVuSans-99\"/>\n       <use x=\"54.980469\" xlink:href=\"#DejaVuSans-108\"/>\n       <use x=\"82.763672\" xlink:href=\"#DejaVuSans-111\"/>\n       <use x=\"143.945312\" xlink:href=\"#DejaVuSans-115\"/>\n       <use x=\"196.044922\" xlink:href=\"#DejaVuSans-101\"/>\n       <use x=\"257.568359\" xlink:href=\"#DejaVuSans-95\"/>\n       <use x=\"307.568359\" xlink:href=\"#DejaVuSans-50\"/>\n       <use x=\"371.191406\" xlink:href=\"#DejaVuSans-95\"/>\n       <use x=\"421.191406\" xlink:href=\"#DejaVuSans-49\"/>\n      </g>\n     </g>\n    </g>\n    <g id=\"ytick_4\">\n     <g id=\"line2d_10\">\n      <g>\n       <use style=\"stroke:#000000;stroke-width:0.8;\" x=\"108.628125\" xlink:href=\"#m20813623cd\" y=\"117.789877\"/>\n      </g>\n     </g>\n     <g id=\"text_10\">\n      <!-- open_1_0 -->\n      <g transform=\"translate(53.945313 121.500815)scale(0.1 -0.1)\">\n       <defs>\n        <path d=\"M 18.109375 8.203125 \nL 18.109375 -20.796875 \nL 9.078125 -20.796875 \nL 9.078125 54.6875 \nL 18.109375 54.6875 \nL 18.109375 46.390625 \nQ 20.953125 51.265625 25.265625 53.625 \nQ 29.59375 56 35.59375 56 \nQ 45.5625 56 51.78125 48.09375 \nQ 58.015625 40.1875 58.015625 27.296875 \nQ 58.015625 14.40625 51.78125 6.484375 \nQ 45.5625 -1.421875 35.59375 -1.421875 \nQ 29.59375 -1.421875 25.265625 0.953125 \nQ 20.953125 3.328125 18.109375 8.203125 \nz\nM 48.6875 27.296875 \nQ 48.6875 37.203125 44.609375 42.84375 \nQ 40.53125 48.484375 33.40625 48.484375 \nQ 26.265625 48.484375 22.1875 42.84375 \nQ 18.109375 37.203125 18.109375 27.296875 \nQ 18.109375 17.390625 22.1875 11.75 \nQ 26.265625 6.109375 33.40625 6.109375 \nQ 40.53125 6.109375 44.609375 11.75 \nQ 48.6875 17.390625 48.6875 27.296875 \nz\n\" id=\"DejaVuSans-112\"/>\n        <path d=\"M 54.890625 33.015625 \nL 54.890625 0 \nL 45.90625 0 \nL 45.90625 32.71875 \nQ 45.90625 40.484375 42.875 44.328125 \nQ 39.84375 48.1875 33.796875 48.1875 \nQ 26.515625 48.1875 22.3125 43.546875 \nQ 18.109375 38.921875 18.109375 30.90625 \nL 18.109375 0 \nL 9.078125 0 \nL 9.078125 54.6875 \nL 18.109375 54.6875 \nL 18.109375 46.1875 \nQ 21.34375 51.125 25.703125 53.5625 \nQ 30.078125 56 35.796875 56 \nQ 45.21875 56 50.046875 50.171875 \nQ 54.890625 44.34375 54.890625 33.015625 \nz\n\" id=\"DejaVuSans-110\"/>\n       </defs>\n       <use xlink:href=\"#DejaVuSans-111\"/>\n       <use x=\"61.181641\" xlink:href=\"#DejaVuSans-112\"/>\n       <use x=\"124.658203\" xlink:href=\"#DejaVuSans-101\"/>\n       <use x=\"186.181641\" xlink:href=\"#DejaVuSans-110\"/>\n       <use x=\"249.560547\" xlink:href=\"#DejaVuSans-95\"/>\n       <use x=\"299.560547\" xlink:href=\"#DejaVuSans-49\"/>\n       <use x=\"363.183594\" xlink:href=\"#DejaVuSans-95\"/>\n       <use x=\"413.183594\" xlink:href=\"#DejaVuSans-48\"/>\n      </g>\n     </g>\n    </g>\n    <g id=\"ytick_5\">\n     <g id=\"line2d_11\">\n      <g>\n       <use style=\"stroke:#000000;stroke-width:0.8;\" x=\"108.628125\" xlink:href=\"#m20813623cd\" y=\"144.502408\"/>\n      </g>\n     </g>\n     <g id=\"text_11\">\n      <!-- lasttrade_hour_sin -->\n      <g transform=\"translate(9.701563 148.301627)scale(0.1 -0.1)\">\n       <defs>\n        <path d=\"M 34.28125 27.484375 \nQ 23.390625 27.484375 19.1875 25 \nQ 14.984375 22.515625 14.984375 16.5 \nQ 14.984375 11.71875 18.140625 8.90625 \nQ 21.296875 6.109375 26.703125 6.109375 \nQ 34.1875 6.109375 38.703125 11.40625 \nQ 43.21875 16.703125 43.21875 25.484375 \nL 43.21875 27.484375 \nz\nM 52.203125 31.203125 \nL 52.203125 0 \nL 43.21875 0 \nL 43.21875 8.296875 \nQ 40.140625 3.328125 35.546875 0.953125 \nQ 30.953125 -1.421875 24.3125 -1.421875 \nQ 15.921875 -1.421875 10.953125 3.296875 \nQ 6 8.015625 6 15.921875 \nQ 6 25.140625 12.171875 29.828125 \nQ 18.359375 34.515625 30.609375 34.515625 \nL 43.21875 34.515625 \nL 43.21875 35.40625 \nQ 43.21875 41.609375 39.140625 45 \nQ 35.0625 48.390625 27.6875 48.390625 \nQ 23 48.390625 18.546875 47.265625 \nQ 14.109375 46.140625 10.015625 43.890625 \nL 10.015625 52.203125 \nQ 14.9375 54.109375 19.578125 55.046875 \nQ 24.21875 56 28.609375 56 \nQ 40.484375 56 46.34375 49.84375 \nQ 52.203125 43.703125 52.203125 31.203125 \nz\n\" id=\"DejaVuSans-97\"/>\n        <path d=\"M 18.3125 70.21875 \nL 18.3125 54.6875 \nL 36.8125 54.6875 \nL 36.8125 47.703125 \nL 18.3125 47.703125 \nL 18.3125 18.015625 \nQ 18.3125 11.328125 20.140625 9.421875 \nQ 21.96875 7.515625 27.59375 7.515625 \nL 36.8125 7.515625 \nL 36.8125 0 \nL 27.59375 0 \nQ 17.1875 0 13.234375 3.875 \nQ 9.28125 7.765625 9.28125 18.015625 \nL 9.28125 47.703125 \nL 2.6875 47.703125 \nL 2.6875 54.6875 \nL 9.28125 54.6875 \nL 9.28125 70.21875 \nz\n\" id=\"DejaVuSans-116\"/>\n        <path d=\"M 41.109375 46.296875 \nQ 39.59375 47.171875 37.8125 47.578125 \nQ 36.03125 48 33.890625 48 \nQ 26.265625 48 22.1875 43.046875 \nQ 18.109375 38.09375 18.109375 28.8125 \nL 18.109375 0 \nL 9.078125 0 \nL 9.078125 54.6875 \nL 18.109375 54.6875 \nL 18.109375 46.1875 \nQ 20.953125 51.171875 25.484375 53.578125 \nQ 30.03125 56 36.53125 56 \nQ 37.453125 56 38.578125 55.875 \nQ 39.703125 55.765625 41.0625 55.515625 \nz\n\" id=\"DejaVuSans-114\"/>\n        <path d=\"M 45.40625 46.390625 \nL 45.40625 75.984375 \nL 54.390625 75.984375 \nL 54.390625 0 \nL 45.40625 0 \nL 45.40625 8.203125 \nQ 42.578125 3.328125 38.25 0.953125 \nQ 33.9375 -1.421875 27.875 -1.421875 \nQ 17.96875 -1.421875 11.734375 6.484375 \nQ 5.515625 14.40625 5.515625 27.296875 \nQ 5.515625 40.1875 11.734375 48.09375 \nQ 17.96875 56 27.875 56 \nQ 33.9375 56 38.25 53.625 \nQ 42.578125 51.265625 45.40625 46.390625 \nz\nM 14.796875 27.296875 \nQ 14.796875 17.390625 18.875 11.75 \nQ 22.953125 6.109375 30.078125 6.109375 \nQ 37.203125 6.109375 41.296875 11.75 \nQ 45.40625 17.390625 45.40625 27.296875 \nQ 45.40625 37.203125 41.296875 42.84375 \nQ 37.203125 48.484375 30.078125 48.484375 \nQ 22.953125 48.484375 18.875 42.84375 \nQ 14.796875 37.203125 14.796875 27.296875 \nz\n\" id=\"DejaVuSans-100\"/>\n        <path d=\"M 8.5 21.578125 \nL 8.5 54.6875 \nL 17.484375 54.6875 \nL 17.484375 21.921875 \nQ 17.484375 14.15625 20.5 10.265625 \nQ 23.53125 6.390625 29.59375 6.390625 \nQ 36.859375 6.390625 41.078125 11.03125 \nQ 45.3125 15.671875 45.3125 23.6875 \nL 45.3125 54.6875 \nL 54.296875 54.6875 \nL 54.296875 0 \nL 45.3125 0 \nL 45.3125 8.40625 \nQ 42.046875 3.421875 37.71875 1 \nQ 33.40625 -1.421875 27.6875 -1.421875 \nQ 18.265625 -1.421875 13.375 4.4375 \nQ 8.5 10.296875 8.5 21.578125 \nz\nM 31.109375 56 \nz\n\" id=\"DejaVuSans-117\"/>\n       </defs>\n       <use xlink:href=\"#DejaVuSans-108\"/>\n       <use x=\"27.783203\" xlink:href=\"#DejaVuSans-97\"/>\n       <use x=\"89.0625\" xlink:href=\"#DejaVuSans-115\"/>\n       <use x=\"141.162109\" xlink:href=\"#DejaVuSans-116\"/>\n       <use x=\"180.371094\" xlink:href=\"#DejaVuSans-116\"/>\n       <use x=\"219.580078\" xlink:href=\"#DejaVuSans-114\"/>\n       <use x=\"260.693359\" xlink:href=\"#DejaVuSans-97\"/>\n       <use x=\"321.972656\" xlink:href=\"#DejaVuSans-100\"/>\n       <use x=\"385.449219\" xlink:href=\"#DejaVuSans-101\"/>\n       <use x=\"446.972656\" xlink:href=\"#DejaVuSans-95\"/>\n       <use x=\"496.972656\" xlink:href=\"#DejaVuSans-104\"/>\n       <use x=\"560.351562\" xlink:href=\"#DejaVuSans-111\"/>\n       <use x=\"621.533203\" xlink:href=\"#DejaVuSans-117\"/>\n       <use x=\"684.912109\" xlink:href=\"#DejaVuSans-114\"/>\n       <use x=\"726.025391\" xlink:href=\"#DejaVuSans-95\"/>\n       <use x=\"776.025391\" xlink:href=\"#DejaVuSans-115\"/>\n       <use x=\"828.125\" xlink:href=\"#DejaVuSans-105\"/>\n       <use x=\"855.908203\" xlink:href=\"#DejaVuSans-110\"/>\n      </g>\n     </g>\n    </g>\n    <g id=\"ytick_6\">\n     <g id=\"line2d_12\">\n      <g>\n       <use style=\"stroke:#000000;stroke-width:0.8;\" x=\"108.628125\" xlink:href=\"#m20813623cd\" y=\"171.214939\"/>\n      </g>\n     </g>\n     <g id=\"text_12\">\n      <!-- open_2_1 -->\n      <g transform=\"translate(53.945313 174.925876)scale(0.1 -0.1)\">\n       <use xlink:href=\"#DejaVuSans-111\"/>\n       <use x=\"61.181641\" xlink:href=\"#DejaVuSans-112\"/>\n       <use x=\"124.658203\" xlink:href=\"#DejaVuSans-101\"/>\n       <use x=\"186.181641\" xlink:href=\"#DejaVuSans-110\"/>\n       <use x=\"249.560547\" xlink:href=\"#DejaVuSans-95\"/>\n       <use x=\"299.560547\" xlink:href=\"#DejaVuSans-50\"/>\n       <use x=\"363.183594\" xlink:href=\"#DejaVuSans-95\"/>\n       <use x=\"413.183594\" xlink:href=\"#DejaVuSans-49\"/>\n      </g>\n     </g>\n    </g>\n    <g id=\"ytick_7\">\n     <g id=\"line2d_13\">\n      <g>\n       <use style=\"stroke:#000000;stroke-width:0.8;\" x=\"108.628125\" xlink:href=\"#m20813623cd\" y=\"197.927469\"/>\n      </g>\n     </g>\n     <g id=\"text_13\">\n      <!-- close_3_2 -->\n      <g transform=\"translate(53.145313 201.726688)scale(0.1 -0.1)\">\n       <defs>\n        <path d=\"M 40.578125 39.3125 \nQ 47.65625 37.796875 51.625 33 \nQ 55.609375 28.21875 55.609375 21.1875 \nQ 55.609375 10.40625 48.1875 4.484375 \nQ 40.765625 -1.421875 27.09375 -1.421875 \nQ 22.515625 -1.421875 17.65625 -0.515625 \nQ 12.796875 0.390625 7.625 2.203125 \nL 7.625 11.71875 \nQ 11.71875 9.328125 16.59375 8.109375 \nQ 21.484375 6.890625 26.8125 6.890625 \nQ 36.078125 6.890625 40.9375 10.546875 \nQ 45.796875 14.203125 45.796875 21.1875 \nQ 45.796875 27.640625 41.28125 31.265625 \nQ 36.765625 34.90625 28.71875 34.90625 \nL 20.21875 34.90625 \nL 20.21875 43.015625 \nL 29.109375 43.015625 \nQ 36.375 43.015625 40.234375 45.921875 \nQ 44.09375 48.828125 44.09375 54.296875 \nQ 44.09375 59.90625 40.109375 62.90625 \nQ 36.140625 65.921875 28.71875 65.921875 \nQ 24.65625 65.921875 20.015625 65.03125 \nQ 15.375 64.15625 9.8125 62.3125 \nL 9.8125 71.09375 \nQ 15.4375 72.65625 20.34375 73.4375 \nQ 25.25 74.21875 29.59375 74.21875 \nQ 40.828125 74.21875 47.359375 69.109375 \nQ 53.90625 64.015625 53.90625 55.328125 \nQ 53.90625 49.265625 50.4375 45.09375 \nQ 46.96875 40.921875 40.578125 39.3125 \nz\n\" id=\"DejaVuSans-51\"/>\n       </defs>\n       <use xlink:href=\"#DejaVuSans-99\"/>\n       <use x=\"54.980469\" xlink:href=\"#DejaVuSans-108\"/>\n       <use x=\"82.763672\" xlink:href=\"#DejaVuSans-111\"/>\n       <use x=\"143.945312\" xlink:href=\"#DejaVuSans-115\"/>\n       <use x=\"196.044922\" xlink:href=\"#DejaVuSans-101\"/>\n       <use x=\"257.568359\" xlink:href=\"#DejaVuSans-95\"/>\n       <use x=\"307.568359\" xlink:href=\"#DejaVuSans-51\"/>\n       <use x=\"371.191406\" xlink:href=\"#DejaVuSans-95\"/>\n       <use x=\"421.191406\" xlink:href=\"#DejaVuSans-50\"/>\n      </g>\n     </g>\n    </g>\n    <g id=\"ytick_8\">\n     <g id=\"line2d_14\">\n      <g>\n       <use style=\"stroke:#000000;stroke-width:0.8;\" x=\"108.628125\" xlink:href=\"#m20813623cd\" y=\"224.64\"/>\n      </g>\n     </g>\n     <g id=\"text_14\">\n      <!-- dlvry_day_cos -->\n      <g transform=\"translate(31.33125 228.439219)scale(0.1 -0.1)\">\n       <defs>\n        <path d=\"M 2.984375 54.6875 \nL 12.5 54.6875 \nL 29.59375 8.796875 \nL 46.6875 54.6875 \nL 56.203125 54.6875 \nL 35.6875 0 \nL 23.484375 0 \nz\n\" id=\"DejaVuSans-118\"/>\n        <path d=\"M 32.171875 -5.078125 \nQ 28.375 -14.84375 24.75 -17.8125 \nQ 21.140625 -20.796875 15.09375 -20.796875 \nL 7.90625 -20.796875 \nL 7.90625 -13.28125 \nL 13.1875 -13.28125 \nQ 16.890625 -13.28125 18.9375 -11.515625 \nQ 21 -9.765625 23.484375 -3.21875 \nL 25.09375 0.875 \nL 2.984375 54.6875 \nL 12.5 54.6875 \nL 29.59375 11.921875 \nL 46.6875 54.6875 \nL 56.203125 54.6875 \nz\n\" id=\"DejaVuSans-121\"/>\n       </defs>\n       <use xlink:href=\"#DejaVuSans-100\"/>\n       <use x=\"63.476562\" xlink:href=\"#DejaVuSans-108\"/>\n       <use x=\"91.259766\" xlink:href=\"#DejaVuSans-118\"/>\n       <use x=\"150.439453\" xlink:href=\"#DejaVuSans-114\"/>\n       <use x=\"191.552734\" xlink:href=\"#DejaVuSans-121\"/>\n       <use x=\"250.732422\" xlink:href=\"#DejaVuSans-95\"/>\n       <use x=\"300.732422\" xlink:href=\"#DejaVuSans-100\"/>\n       <use x=\"364.208984\" xlink:href=\"#DejaVuSans-97\"/>\n       <use x=\"425.488281\" xlink:href=\"#DejaVuSans-121\"/>\n       <use x=\"484.667969\" xlink:href=\"#DejaVuSans-95\"/>\n       <use x=\"534.667969\" xlink:href=\"#DejaVuSans-99\"/>\n       <use x=\"589.648438\" xlink:href=\"#DejaVuSans-111\"/>\n       <use x=\"650.830078\" xlink:href=\"#DejaVuSans-115\"/>\n      </g>\n     </g>\n    </g>\n    <g id=\"ytick_9\">\n     <g id=\"line2d_15\">\n      <g>\n       <use style=\"stroke:#000000;stroke-width:0.8;\" x=\"108.628125\" xlink:href=\"#m20813623cd\" y=\"251.352531\"/>\n      </g>\n     </g>\n     <g id=\"text_15\">\n      <!-- lasttrade_hour_cos -->\n      <g transform=\"translate(7.2 255.151749)scale(0.1 -0.1)\">\n       <use xlink:href=\"#DejaVuSans-108\"/>\n       <use x=\"27.783203\" xlink:href=\"#DejaVuSans-97\"/>\n       <use x=\"89.0625\" xlink:href=\"#DejaVuSans-115\"/>\n       <use x=\"141.162109\" xlink:href=\"#DejaVuSans-116\"/>\n       <use x=\"180.371094\" xlink:href=\"#DejaVuSans-116\"/>\n       <use x=\"219.580078\" xlink:href=\"#DejaVuSans-114\"/>\n       <use x=\"260.693359\" xlink:href=\"#DejaVuSans-97\"/>\n       <use x=\"321.972656\" xlink:href=\"#DejaVuSans-100\"/>\n       <use x=\"385.449219\" xlink:href=\"#DejaVuSans-101\"/>\n       <use x=\"446.972656\" xlink:href=\"#DejaVuSans-95\"/>\n       <use x=\"496.972656\" xlink:href=\"#DejaVuSans-104\"/>\n       <use x=\"560.351562\" xlink:href=\"#DejaVuSans-111\"/>\n       <use x=\"621.533203\" xlink:href=\"#DejaVuSans-117\"/>\n       <use x=\"684.912109\" xlink:href=\"#DejaVuSans-114\"/>\n       <use x=\"726.025391\" xlink:href=\"#DejaVuSans-95\"/>\n       <use x=\"776.025391\" xlink:href=\"#DejaVuSans-99\"/>\n       <use x=\"831.005859\" xlink:href=\"#DejaVuSans-111\"/>\n       <use x=\"892.1875\" xlink:href=\"#DejaVuSans-115\"/>\n      </g>\n     </g>\n    </g>\n    <g id=\"ytick_10\">\n     <g id=\"line2d_16\">\n      <g>\n       <use style=\"stroke:#000000;stroke-width:0.8;\" x=\"108.628125\" xlink:href=\"#m20813623cd\" y=\"278.065061\"/>\n      </g>\n     </g>\n     <g id=\"text_16\">\n      <!-- low_1_0 -->\n      <g transform=\"translate(61.828125 281.86428)scale(0.1 -0.1)\">\n       <defs>\n        <path d=\"M 4.203125 54.6875 \nL 13.1875 54.6875 \nL 24.421875 12.015625 \nL 35.59375 54.6875 \nL 46.1875 54.6875 \nL 57.421875 12.015625 \nL 68.609375 54.6875 \nL 77.59375 54.6875 \nL 63.28125 0 \nL 52.6875 0 \nL 40.921875 44.828125 \nL 29.109375 0 \nL 18.5 0 \nz\n\" id=\"DejaVuSans-119\"/>\n       </defs>\n       <use xlink:href=\"#DejaVuSans-108\"/>\n       <use x=\"27.783203\" xlink:href=\"#DejaVuSans-111\"/>\n       <use x=\"88.964844\" xlink:href=\"#DejaVuSans-119\"/>\n       <use x=\"170.751953\" xlink:href=\"#DejaVuSans-95\"/>\n       <use x=\"220.751953\" xlink:href=\"#DejaVuSans-49\"/>\n       <use x=\"284.375\" xlink:href=\"#DejaVuSans-95\"/>\n       <use x=\"334.375\" xlink:href=\"#DejaVuSans-48\"/>\n      </g>\n     </g>\n    </g>\n    <g id=\"ytick_11\">\n     <g id=\"line2d_17\">\n      <g>\n       <use style=\"stroke:#000000;stroke-width:0.8;\" x=\"108.628125\" xlink:href=\"#m20813623cd\" y=\"304.777592\"/>\n      </g>\n     </g>\n     <g id=\"text_17\">\n      <!-- lasttrade_day_cos -->\n      <g transform=\"translate(11.709375 308.576811)scale(0.1 -0.1)\">\n       <use xlink:href=\"#DejaVuSans-108\"/>\n       <use x=\"27.783203\" xlink:href=\"#DejaVuSans-97\"/>\n       <use x=\"89.0625\" xlink:href=\"#DejaVuSans-115\"/>\n       <use x=\"141.162109\" xlink:href=\"#DejaVuSans-116\"/>\n       <use x=\"180.371094\" xlink:href=\"#DejaVuSans-116\"/>\n       <use x=\"219.580078\" xlink:href=\"#DejaVuSans-114\"/>\n       <use x=\"260.693359\" xlink:href=\"#DejaVuSans-97\"/>\n       <use x=\"321.972656\" xlink:href=\"#DejaVuSans-100\"/>\n       <use x=\"385.449219\" xlink:href=\"#DejaVuSans-101\"/>\n       <use x=\"446.972656\" xlink:href=\"#DejaVuSans-95\"/>\n       <use x=\"496.972656\" xlink:href=\"#DejaVuSans-100\"/>\n       <use x=\"560.449219\" xlink:href=\"#DejaVuSans-97\"/>\n       <use x=\"621.728516\" xlink:href=\"#DejaVuSans-121\"/>\n       <use x=\"680.908203\" xlink:href=\"#DejaVuSans-95\"/>\n       <use x=\"730.908203\" xlink:href=\"#DejaVuSans-99\"/>\n       <use x=\"785.888672\" xlink:href=\"#DejaVuSans-111\"/>\n       <use x=\"847.070312\" xlink:href=\"#DejaVuSans-115\"/>\n      </g>\n     </g>\n    </g>\n    <g id=\"ytick_12\">\n     <g id=\"line2d_18\">\n      <g>\n       <use style=\"stroke:#000000;stroke-width:0.8;\" x=\"108.628125\" xlink:href=\"#m20813623cd\" y=\"331.490123\"/>\n      </g>\n     </g>\n     <g id=\"text_18\">\n      <!-- high_2_1 -->\n      <g transform=\"translate(57.101563 335.289342)scale(0.1 -0.1)\">\n       <use xlink:href=\"#DejaVuSans-104\"/>\n       <use x=\"63.378906\" xlink:href=\"#DejaVuSans-105\"/>\n       <use x=\"91.162109\" xlink:href=\"#DejaVuSans-103\"/>\n       <use x=\"154.638672\" xlink:href=\"#DejaVuSans-104\"/>\n       <use x=\"218.017578\" xlink:href=\"#DejaVuSans-95\"/>\n       <use x=\"268.017578\" xlink:href=\"#DejaVuSans-50\"/>\n       <use x=\"331.640625\" xlink:href=\"#DejaVuSans-95\"/>\n       <use x=\"381.640625\" xlink:href=\"#DejaVuSans-49\"/>\n      </g>\n     </g>\n    </g>\n    <g id=\"ytick_13\">\n     <g id=\"line2d_19\">\n      <g>\n       <use style=\"stroke:#000000;stroke-width:0.8;\" x=\"108.628125\" xlink:href=\"#m20813623cd\" y=\"358.202654\"/>\n      </g>\n     </g>\n     <g id=\"text_19\">\n      <!-- open_3_2 -->\n      <g transform=\"translate(53.945313 361.913591)scale(0.1 -0.1)\">\n       <use xlink:href=\"#DejaVuSans-111\"/>\n       <use x=\"61.181641\" xlink:href=\"#DejaVuSans-112\"/>\n       <use x=\"124.658203\" xlink:href=\"#DejaVuSans-101\"/>\n       <use x=\"186.181641\" xlink:href=\"#DejaVuSans-110\"/>\n       <use x=\"249.560547\" xlink:href=\"#DejaVuSans-95\"/>\n       <use x=\"299.560547\" xlink:href=\"#DejaVuSans-51\"/>\n       <use x=\"363.183594\" xlink:href=\"#DejaVuSans-95\"/>\n       <use x=\"413.183594\" xlink:href=\"#DejaVuSans-50\"/>\n      </g>\n     </g>\n    </g>\n    <g id=\"ytick_14\">\n     <g id=\"line2d_20\">\n      <g>\n       <use style=\"stroke:#000000;stroke-width:0.8;\" x=\"108.628125\" xlink:href=\"#m20813623cd\" y=\"384.915184\"/>\n      </g>\n     </g>\n     <g id=\"text_20\">\n      <!-- dlvry_day_sin -->\n      <g transform=\"translate(33.832813 388.714403)scale(0.1 -0.1)\">\n       <use xlink:href=\"#DejaVuSans-100\"/>\n       <use x=\"63.476562\" xlink:href=\"#DejaVuSans-108\"/>\n       <use x=\"91.259766\" xlink:href=\"#DejaVuSans-118\"/>\n       <use x=\"150.439453\" xlink:href=\"#DejaVuSans-114\"/>\n       <use x=\"191.552734\" xlink:href=\"#DejaVuSans-121\"/>\n       <use x=\"250.732422\" xlink:href=\"#DejaVuSans-95\"/>\n       <use x=\"300.732422\" xlink:href=\"#DejaVuSans-100\"/>\n       <use x=\"364.208984\" xlink:href=\"#DejaVuSans-97\"/>\n       <use x=\"425.488281\" xlink:href=\"#DejaVuSans-121\"/>\n       <use x=\"484.667969\" xlink:href=\"#DejaVuSans-95\"/>\n       <use x=\"534.667969\" xlink:href=\"#DejaVuSans-115\"/>\n       <use x=\"586.767578\" xlink:href=\"#DejaVuSans-105\"/>\n       <use x=\"614.550781\" xlink:href=\"#DejaVuSans-110\"/>\n      </g>\n     </g>\n    </g>\n    <g id=\"ytick_15\">\n     <g id=\"line2d_21\">\n      <g>\n       <use style=\"stroke:#000000;stroke-width:0.8;\" x=\"108.628125\" xlink:href=\"#m20813623cd\" y=\"411.627715\"/>\n      </g>\n     </g>\n     <g id=\"text_21\">\n      <!-- low_2_1 -->\n      <g transform=\"translate(61.828125 415.426934)scale(0.1 -0.1)\">\n       <use xlink:href=\"#DejaVuSans-108\"/>\n       <use x=\"27.783203\" xlink:href=\"#DejaVuSans-111\"/>\n       <use x=\"88.964844\" xlink:href=\"#DejaVuSans-119\"/>\n       <use x=\"170.751953\" xlink:href=\"#DejaVuSans-95\"/>\n       <use x=\"220.751953\" xlink:href=\"#DejaVuSans-50\"/>\n       <use x=\"284.375\" xlink:href=\"#DejaVuSans-95\"/>\n       <use x=\"334.375\" xlink:href=\"#DejaVuSans-49\"/>\n      </g>\n     </g>\n    </g>\n   </g>\n   <g id=\"patch_18\">\n    <path d=\"M 108.628125 442.08 \nL 108.628125 7.2 \n\" style=\"fill:none;stroke:#000000;stroke-linecap:square;stroke-linejoin:miter;stroke-width:0.8;\"/>\n   </g>\n   <g id=\"patch_19\">\n    <path d=\"M 666.628125 442.08 \nL 666.628125 7.2 \n\" style=\"fill:none;stroke:#000000;stroke-linecap:square;stroke-linejoin:miter;stroke-width:0.8;\"/>\n   </g>\n   <g id=\"patch_20\">\n    <path d=\"M 108.628125 442.08 \nL 666.628125 442.08 \n\" style=\"fill:none;stroke:#000000;stroke-linecap:square;stroke-linejoin:miter;stroke-width:0.8;\"/>\n   </g>\n   <g id=\"patch_21\">\n    <path d=\"M 108.628125 7.2 \nL 666.628125 7.2 \n\" style=\"fill:none;stroke:#000000;stroke-linecap:square;stroke-linejoin:miter;stroke-width:0.8;\"/>\n   </g>\n  </g>\n </g>\n <defs>\n  <clipPath id=\"pe309f4699b\">\n   <rect height=\"434.88\" width=\"558\" x=\"108.628125\" y=\"7.2\"/>\n  </clipPath>\n </defs>\n</svg>\n",
      "image/png": "[encoded data removed]"
     },
     "metadata": {
      "needs_background": "light"
     }
    }
   ],
   "source": [
    "# m.varimp_plot(num_of_features = 15)\n",
    "plt.rcParams[\"figure.figsize\"] = (10,8)\n",
    "plt.barh(a.variable[:15], a.scaled_importance[:15])\n",
    "plt.gca().invert_yaxis()\n",
    "plt.show()"
   ]
  },
  {
   "source": [
    "train_df_5 = X_train_5.drop(['5', '11', '17', '23'], axis=1).to_numpy()\n",
    "test_df_5 = X_test_5.drop(['5', '11', '17', '23'], axis=1).to_numpy()\n",
    "valid_df_5 = X_valid_5.drop(['5', '11', '17', '23'], axis=1).to_numpy()"
   ],
   "cell_type": "markdown",
   "metadata": {}
  },
  {
   "cell_type": "code",
   "execution_count": 75,
   "metadata": {},
   "outputs": [
    {
     "output_type": "stream",
     "name": "stdout",
     "text": [
      "Parse progress: |█████████████████████████████████████████████████████████| 100%\n",
      "\n",
      "ModelMetricsRegressionGLM: stackedensemble\n",
      "** Reported on test data. **\n",
      "\n",
      "MSE: 23.795879733313086\n",
      "RMSE: 4.878102062617498\n",
      "MAE: 2.3818586932144803\n",
      "RMSLE: NaN\n",
      "R^2: -0.12467157550805585\n",
      "Mean Residual Deviance: 23.795879733313086\n",
      "Null degrees of freedom: 10703\n",
      "Residual degrees of freedom: 10697\n",
      "Null deviance: 226484.8421616428\n",
      "Residual deviance: 254711.09666538326\n",
      "AIC: 64319.09733270877\n"
     ]
    },
    {
     "output_type": "execute_result",
     "data": {
      "text/plain": []
     },
     "metadata": {},
     "execution_count": 75
    }
   ],
   "source": [
    "h2o_test = h2o.H2OFrame(h2o_test_5)\n",
    "perf = aml.leader.model_performance(h2o_test)\n",
    "perf"
   ]
  },
  {
   "cell_type": "code",
   "execution_count": 80,
   "metadata": {},
   "outputs": [
    {
     "output_type": "stream",
     "name": "stdout",
     "text": [
      "Parse progress: |█████████████████████████████████████████████████████████| 100%\n",
      "\n",
      "ModelMetricsRegressionGLM: stackedensemble\n",
      "** Reported on test data. **\n",
      "\n",
      "MSE: 5.9458752633380945\n",
      "RMSE: 2.4384165483645517\n",
      "MAE: 1.5090575646982134\n",
      "RMSLE: NaN\n",
      "R^2: 0.5007538634599228\n",
      "Mean Residual Deviance: 5.9458752633380945\n",
      "Null degrees of freedom: 91511\n",
      "Residual degrees of freedom: 91505\n",
      "Null deviance: 1089881.1172971549\n",
      "Residual deviance: 544118.9370985957\n",
      "AIC: 422854.0422430853\n"
     ]
    },
    {
     "output_type": "execute_result",
     "data": {
      "text/plain": []
     },
     "metadata": {},
     "execution_count": 80
    }
   ],
   "source": [
    "h2o_train = h2o.H2OFrame(h2o_train_5)\n",
    "aml.leader.model_performance(h2o_train)"
   ]
  },
  {
   "cell_type": "code",
   "execution_count": 81,
   "metadata": {},
   "outputs": [
    {
     "output_type": "stream",
     "name": "stdout",
     "text": [
      "Parse progress: |█████████████████████████████████████████████████████████| 100%\n",
      "\n",
      "ModelMetricsRegressionGLM: stackedensemble\n",
      "** Reported on test data. **\n",
      "\n",
      "MSE: 28.54374853488344\n",
      "RMSE: 5.342634980501985\n",
      "MAE: 2.6743226244309395\n",
      "RMSLE: NaN\n",
      "R^2: -0.11105005644394161\n",
      "Mean Residual Deviance: 28.54374853488344\n",
      "Null degrees of freedom: 4816\n",
      "Residual degrees of freedom: 4810\n",
      "Null deviance: 123795.17425196664\n",
      "Residual deviance: 137495.23669253354\n",
      "AIC: 29829.930417773754\n"
     ]
    },
    {
     "output_type": "execute_result",
     "data": {
      "text/plain": []
     },
     "metadata": {},
     "execution_count": 81
    }
   ],
   "source": [
    "h2o_valid = h2o.H2OFrame(h2o_valid_5)\n",
    "aml.leader.model_performance(h2o_valid)"
   ]
  },
  {
   "cell_type": "code",
   "execution_count": null,
   "metadata": {},
   "outputs": [],
   "source": []
  }
 ],
 "metadata": {
  "colab": {
   "collapsed_sections": [],
   "name": "Electricity_price_modeling_Sept2021.ipynb",
   "provenance": []
  },
  "kernelspec": {
   "display_name": "Python 3",
   "language": "python",
   "name": "python3"
  },
  "language_info": {
   "codemirror_mode": {
    "name": "ipython",
    "version": 3
   },
   "file_extension": ".py",
   "mimetype": "text/x-python",
   "name": "python",
   "nbconvert_exporter": "python",
   "pygments_lexer": "ipython3",
   "version": "3.8.5-final"
  }
 },
 "nbformat": 4,
 "nbformat_minor": 1
}